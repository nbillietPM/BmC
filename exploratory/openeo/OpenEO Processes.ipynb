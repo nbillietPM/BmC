{
 "cells": [
  {
   "cell_type": "code",
   "execution_count": 3,
   "id": "3816b30d",
   "metadata": {},
   "outputs": [
    {
     "name": "stdout",
     "output_type": "stream",
     "text": [
      "Authenticated using refresh token.\n"
     ]
    },
    {
     "data": {
      "text/plain": [
       "<Connection to 'https://openeofed.dataspace.copernicus.eu/openeo/1.2/' with OidcBearerAuth>"
      ]
     },
     "execution_count": 3,
     "metadata": {},
     "output_type": "execute_result"
    }
   ],
   "source": [
    "import openeo\n",
    "# import ProcessBuilder functions\n",
    "from openeo.processes import ProcessBuilder\n",
    "\n",
    "# Establish a connection to openeo\n",
    "connection = openeo.connect(\"openeofed.dataspace.copernicus.eu\")\n",
    "connection.authenticate_oidc()"
   ]
  },
  {
   "cell_type": "code",
   "execution_count": 10,
   "id": "5ae85514",
   "metadata": {},
   "outputs": [],
   "source": [
    "exCube = connection.load_collection(\n",
    "    \"SENTINEL2_L2A\",\n",
    "    spatial_extent={\"west\": 4.312323, \"south\":  50.922796, \"east\": 4.335497, \"north\": 50.934860},\n",
    "    temporal_extent = [\"2021-02-01\", \"2021-04-30\"],\n",
    "    bands=[\"B04\", \"B03\", \"B02\", \"B08\"]\n",
    ")"
   ]
  },
  {
   "cell_type": "markdown",
   "id": "9cace706",
   "metadata": {},
   "source": [
    "# Processes\n",
    "\n",
    "## Terminology\n",
    "\n",
    "In openEO, a process is an operation that performs a specific task on a set of parameters and returns a result.\n",
    "A process is similar to a function in common programming languages, and likewise, multiple processes can be combined or chained together into new, more complex operations.\n",
    "\n",
    "A pre-defined process is a process provided out of the box by a given back-end. These are often the [centrally defined openEO processes](https://openeo.org/documentation/1.0/processes.html), such as common mathematical sum, divide, sqrt, …), statistical (mean, max, …) and image processing (mask, apply_kernel, …) operations. \n",
    "\n",
    "Processes can be combined into a larger pipeline, parameterized and stored on the back-end as a so called [user-defined process](https://open-eo.github.io/openeo-python-client/udp.html#user-defined-processes). This allows you to build a library of reusable building blocks that can be be inserted easily in multiple other places"
   ]
  },
  {
   "cell_type": "code",
   "execution_count": 4,
   "id": "83e720fe",
   "metadata": {},
   "outputs": [],
   "source": [
    "process_ids = [process[\"id\"] for process in connection.list_processes()]"
   ]
  },
  {
   "cell_type": "code",
   "execution_count": 5,
   "id": "76f41774",
   "metadata": {},
   "outputs": [
    {
     "data": {
      "text/plain": [
       "['_cwl_dummy_stac',\n",
       " 'absolute',\n",
       " 'add',\n",
       " 'add_dimension',\n",
       " 'aggregate_spatial',\n",
       " 'aggregate_temporal',\n",
       " 'aggregate_temporal_period',\n",
       " 'all',\n",
       " 'and',\n",
       " 'any',\n",
       " 'apply',\n",
       " 'apply_dimension',\n",
       " 'apply_kernel',\n",
       " 'apply_neighborhood',\n",
       " 'apply_polygon',\n",
       " 'arccos',\n",
       " 'arcosh',\n",
       " 'arcsin',\n",
       " 'arctan',\n",
       " 'arctan2',\n",
       " 'array_append',\n",
       " 'array_apply',\n",
       " 'array_concat',\n",
       " 'array_contains',\n",
       " 'array_create',\n",
       " 'array_element',\n",
       " 'array_filter',\n",
       " 'array_find',\n",
       " 'array_interpolate_linear',\n",
       " 'array_labels',\n",
       " 'arsinh',\n",
       " 'artanh',\n",
       " 'between',\n",
       " 'ceil',\n",
       " 'clip',\n",
       " 'constant',\n",
       " 'cos',\n",
       " 'cosh',\n",
       " 'count',\n",
       " 'date_shift',\n",
       " 'dimension_labels',\n",
       " 'discard_result',\n",
       " 'divide',\n",
       " 'drop_dimension',\n",
       " 'e',\n",
       " 'eq',\n",
       " 'exp',\n",
       " 'extrema',\n",
       " 'filter_bands',\n",
       " 'filter_bbox',\n",
       " 'filter_labels',\n",
       " 'filter_spatial',\n",
       " 'filter_temporal',\n",
       " 'first',\n",
       " 'fit_class_catboost',\n",
       " 'floor',\n",
       " 'get_geometries',\n",
       " 'gt',\n",
       " 'gte',\n",
       " 'if',\n",
       " 'inspect',\n",
       " 'int',\n",
       " 'is_nan',\n",
       " 'is_nodata',\n",
       " 'is_valid',\n",
       " 'last',\n",
       " 'linear_scale_range',\n",
       " 'ln',\n",
       " 'load_collection',\n",
       " 'load_disk_data',\n",
       " 'load_geojson',\n",
       " 'load_ml_model',\n",
       " 'load_result',\n",
       " 'load_stac',\n",
       " 'load_uploaded_files',\n",
       " 'load_url',\n",
       " 'log',\n",
       " 'lt',\n",
       " 'lte',\n",
       " 'mask',\n",
       " 'mask_l1c',\n",
       " 'mask_polygon',\n",
       " 'mask_scl_dilation',\n",
       " 'max',\n",
       " 'mean',\n",
       " 'median',\n",
       " 'merge_cubes',\n",
       " 'min',\n",
       " 'mod',\n",
       " 'multiply',\n",
       " 'ndvi',\n",
       " 'neq',\n",
       " 'normalized_difference',\n",
       " 'not',\n",
       " 'or',\n",
       " 'order',\n",
       " 'pi',\n",
       " 'power',\n",
       " 'predict_catboost',\n",
       " 'product',\n",
       " 'quantiles',\n",
       " 'raster_to_vector',\n",
       " 'read_vector',\n",
       " 'rearrange',\n",
       " 'reduce_dimension',\n",
       " 'rename_dimension',\n",
       " 'rename_labels',\n",
       " 'resample_cube_spatial',\n",
       " 'resample_spatial',\n",
       " 'round',\n",
       " 'run_udf',\n",
       " 'sar_backscatter',\n",
       " 'save_ml_model',\n",
       " 'save_result',\n",
       " 'sd',\n",
       " 'sgn',\n",
       " 'sin',\n",
       " 'sinh',\n",
       " 'sleep',\n",
       " 'sort',\n",
       " 'sqrt',\n",
       " 'subtract',\n",
       " 'sum',\n",
       " 'tan',\n",
       " 'tanh',\n",
       " 'text_begins',\n",
       " 'text_concat',\n",
       " 'text_contains',\n",
       " 'text_ends',\n",
       " 'text_merge',\n",
       " 'to_scl_dilation_mask',\n",
       " 'to_vector_cube',\n",
       " 'variance',\n",
       " 'vector_buffer',\n",
       " 'vector_to_raster',\n",
       " 'xor']"
      ]
     },
     "execution_count": 5,
     "metadata": {},
     "output_type": "execute_result"
    }
   ],
   "source": [
    "process_ids"
   ]
  },
  {
   "cell_type": "code",
   "execution_count": 6,
   "id": "caf4d9fe",
   "metadata": {},
   "outputs": [
    {
     "data": {
      "text/html": [
       "\n",
       "    <script>\n",
       "    if (!window.customElements || !window.customElements.get('openeo-process')) {\n",
       "        var el = document.createElement('script');\n",
       "        el.src = \"https://cdn.jsdelivr.net/npm/@openeo/vue-components@2/assets/openeo.min.js\";\n",
       "        document.head.appendChild(el);\n",
       "\n",
       "        var font = document.createElement('font');\n",
       "        font.as = \"font\";\n",
       "        font.type = \"font/woff2\";\n",
       "        font.crossOrigin = true;\n",
       "        font.href = \"https://use.fontawesome.com/releases/v5.13.0/webfonts/fa-solid-900.woff2\"\n",
       "        document.head.appendChild(font);\n",
       "    }\n",
       "    </script>\n",
       "    <openeo-process>\n",
       "        <script type=\"application/json\">{\"show-graph\": true, \"provide-download\": false, \"process\": {\"categories\": [\"math\"], \"deprecated\": false, \"description\": \"Sums up the two numbers `x` and `y` (*`x + y`*) and returns the computed sum.\\n\\nNo-data values are taken into account so that `null` is returned if any element is such a value.\\n\\nThe computations follow [IEEE Standard 754](https://ieeexplore.ieee.org/document/8766229) whenever the processing environment supports it.\", \"examples\": [{\"arguments\": {\"x\": 5, \"y\": 2.5}, \"returns\": 7.5}, {\"arguments\": {\"x\": -2, \"y\": -4}, \"returns\": -6}, {\"arguments\": {\"x\": 1, \"y\": null}, \"returns\": null}], \"experimental\": false, \"federation:backends\": [\"cdse\", \"terrascope\"], \"id\": \"add\", \"links\": [{\"href\": \"http://mathworld.wolfram.com/Sum.html\", \"rel\": \"about\", \"title\": \"Sum explained by Wolfram MathWorld\"}, {\"href\": \"https://ieeexplore.ieee.org/document/8766229\", \"rel\": \"about\", \"title\": \"IEEE Standard 754-2019 for Floating-Point Arithmetic\"}], \"parameters\": [{\"description\": \"The first summand.\", \"name\": \"x\", \"schema\": {\"type\": [\"number\", \"null\"]}}, {\"description\": \"The second summand.\", \"name\": \"y\", \"schema\": {\"type\": [\"number\", \"null\"]}}], \"returns\": {\"description\": \"The computed sum of the two numbers.\", \"schema\": {\"type\": [\"number\", \"null\"]}}, \"summary\": \"Addition of two numbers\"}}</script>\n",
       "    </openeo-process>\n",
       "    "
      ],
      "text/plain": [
       "{'categories': ['math'],\n",
       " 'deprecated': False,\n",
       " 'description': 'Sums up the two numbers `x` and `y` (*`x + y`*) and returns the computed sum.\\n\\nNo-data values are taken into account so that `null` is returned if any element is such a value.\\n\\nThe computations follow [IEEE Standard 754](https://ieeexplore.ieee.org/document/8766229) whenever the processing environment supports it.',\n",
       " 'examples': [{'arguments': {'x': 5, 'y': 2.5}, 'returns': 7.5},\n",
       "  {'arguments': {'x': -2, 'y': -4}, 'returns': -6},\n",
       "  {'arguments': {'x': 1, 'y': None}, 'returns': None}],\n",
       " 'experimental': False,\n",
       " 'federation:backends': ['cdse', 'terrascope'],\n",
       " 'id': 'add',\n",
       " 'links': [{'href': 'http://mathworld.wolfram.com/Sum.html',\n",
       "   'rel': 'about',\n",
       "   'title': 'Sum explained by Wolfram MathWorld'},\n",
       "  {'href': 'https://ieeexplore.ieee.org/document/8766229',\n",
       "   'rel': 'about',\n",
       "   'title': 'IEEE Standard 754-2019 for Floating-Point Arithmetic'}],\n",
       " 'parameters': [{'description': 'The first summand.',\n",
       "   'name': 'x',\n",
       "   'schema': {'type': ['number', 'null']}},\n",
       "  {'description': 'The second summand.',\n",
       "   'name': 'y',\n",
       "   'schema': {'type': ['number', 'null']}}],\n",
       " 'returns': {'description': 'The computed sum of the two numbers.',\n",
       "  'schema': {'type': ['number', 'null']}},\n",
       " 'summary': 'Addition of two numbers'}"
      ]
     },
     "execution_count": 6,
     "metadata": {},
     "output_type": "execute_result"
    }
   ],
   "source": [
    "connection.describe_process(\"add\")"
   ]
  },
  {
   "cell_type": "markdown",
   "id": "1733ad76",
   "metadata": {},
   "source": [
    "Most of the important pre-defined processes are covered directly by methods on classes like DataCube or VectorCube."
   ]
  },
  {
   "cell_type": "code",
   "execution_count": 11,
   "id": "ea33eb30",
   "metadata": {},
   "outputs": [],
   "source": [
    "arguments= {\n",
    "    \"data\": [1, 3, -1]\n",
    "}\n",
    "res = exCube.process(\"mean\", arguments)"
   ]
  },
  {
   "cell_type": "code",
   "execution_count": 18,
   "id": "53b05904",
   "metadata": {},
   "outputs": [],
   "source": [
    "res = exCube.process(\"ndvi\", data=exCube)\n",
    "\n",
    "#Equivalent expression using the THIS expression\n",
    "\n",
    "from openeo.rest.datacube import THIS\n",
    "\n",
    "res = exCube.process(\"ndvi\", data=THIS)\n",
    "\n",
    "#Multiple expressions can be combined\n",
    "\n",
    "res = (\n",
    "    exCube\n",
    "        .process(\"filter_bands\", data=THIS)\n",
    "        .process(\"ndvi\", data=THIS)\n",
    ")"
   ]
  },
  {
   "cell_type": "markdown",
   "id": "1bb7173d",
   "metadata": {},
   "source": [
    "The openEO Python Client Library supports several ways to specify the desired callback for these functions:\n",
    "\n",
    "* Callback as string\n",
    "* Callback as a callable\n",
    "* Callback as PGNode"
   ]
  },
  {
   "cell_type": "code",
   "execution_count": 20,
   "id": "eb5f60bf",
   "metadata": {},
   "outputs": [
    {
     "data": {
      "text/html": [
       "\n",
       "    <script>\n",
       "    if (!window.customElements || !window.customElements.get('openeo-model-builder')) {\n",
       "        var el = document.createElement('script');\n",
       "        el.src = \"https://cdn.jsdelivr.net/npm/@openeo/vue-components@2/assets/openeo.min.js\";\n",
       "        document.head.appendChild(el);\n",
       "\n",
       "        var font = document.createElement('font');\n",
       "        font.as = \"font\";\n",
       "        font.type = \"font/woff2\";\n",
       "        font.crossOrigin = true;\n",
       "        font.href = \"https://use.fontawesome.com/releases/v5.13.0/webfonts/fa-solid-900.woff2\"\n",
       "        document.head.appendChild(font);\n",
       "    }\n",
       "    </script>\n",
       "    <openeo-model-builder>\n",
       "        <script type=\"application/json\">{\"id\": \"65e45f64462d48d6a548e3ff51580b1a\", \"explicit-zoom\": true, \"height\": \"400px\", \"value\": {\"process_graph\": {\"loadcollection1\": {\"process_id\": \"load_collection\", \"arguments\": {\"bands\": [\"B04\", \"B03\", \"B02\", \"B08\"], \"id\": \"SENTINEL2_L2A\", \"spatial_extent\": {\"west\": 4.312323, \"south\": 50.922796, \"east\": 4.335497, \"north\": 50.93486}, \"temporal_extent\": [\"2021-02-01\", \"2021-04-30\"]}}, \"apply1\": {\"process_id\": \"apply\", \"arguments\": {\"data\": {\"from_node\": \"loadcollection1\"}, \"process\": {\"process_graph\": {\"multiply1\": {\"process_id\": \"multiply\", \"arguments\": {\"x\": {\"from_parameter\": \"x\"}, \"y\": 2}}, \"add1\": {\"process_id\": \"add\", \"arguments\": {\"x\": {\"from_node\": \"multiply1\"}, \"y\": 3}, \"result\": true}}}}, \"result\": true}}}}</script>\n",
       "    </openeo-model-builder>\n",
       "    "
      ],
      "text/plain": [
       "<openeo.rest.datacube.DataCube at 0x1f1c6c5ef90>"
      ]
     },
     "execution_count": 20,
     "metadata": {},
     "output_type": "execute_result"
    }
   ],
   "source": [
    "# Take the absolute value of each pixel - String execution\n",
    "exCube.apply(\"absolute\")\n",
    "\n",
    "# callback execution\n",
    "def transform(x):\n",
    "    return x * 2 + 3\n",
    "\n",
    "exCube.apply(transform)\n",
    "\n",
    "exCube.apply(lambda x: x * 2 + 3) #analogously to transform function"
   ]
  },
  {
   "cell_type": "markdown",
   "id": "b618a591",
   "metadata": {},
   "source": [
    "The argument that will be passed to all these callback functions is a ProcessBuilder instance. This is a helper object with predefined methods for all standard openEO processes, allowing to use an object oriented coding style to define the callback. "
   ]
  },
  {
   "cell_type": "code",
   "execution_count": null,
   "id": "78c22e9e",
   "metadata": {},
   "outputs": [],
   "source": [
    "from openeo.processes import ProcessBuilder\n",
    "\n",
    "def avg(data: ProcessBuilder):\n",
    "    return data.mean()\n",
    "\n",
    "cube.reduce_dimension(reducer=avg, dimension=\"t\")"
   ]
  }
 ],
 "metadata": {
  "kernelspec": {
   "display_name": "Python 3 (ipykernel)",
   "language": "python",
   "name": "python3"
  },
  "language_info": {
   "codemirror_mode": {
    "name": "ipython",
    "version": 3
   },
   "file_extension": ".py",
   "mimetype": "text/x-python",
   "name": "python",
   "nbconvert_exporter": "python",
   "pygments_lexer": "ipython3",
   "version": "3.13.2"
  }
 },
 "nbformat": 4,
 "nbformat_minor": 5
}
