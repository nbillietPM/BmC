{
 "cells": [
  {
   "cell_type": "code",
   "execution_count": 1,
   "id": "28bdab56-0160-481b-af4a-948584f62c9e",
   "metadata": {},
   "outputs": [],
   "source": [
    "import boto3"
   ]
  },
  {
   "cell_type": "code",
   "execution_count": 2,
   "id": "07b263cb-78e0-404c-a86f-b8e5af1a025a",
   "metadata": {},
   "outputs": [
    {
     "name": "stdout",
     "output_type": "stream",
     "text": [
      "Listing files in bucket: chelsav2 with prefix: GLOBAL/monthly/\n",
      "An error occurred: Unable to locate credentials\n",
      "Double-check the BUCKET_NAME, PREFIX, and ENDPOINT_URL.\n"
     ]
    }
   ],
   "source": [
    "# --- Configuration for the Specific Bucket ---\n",
    "# The bucket name is the part after the host in the path\n",
    "BUCKET_NAME = 'chelsav2'\n",
    "# The prefix is the folder path you want to list\n",
    "PREFIX = 'GLOBAL/monthly/'\n",
    "# This is the custom endpoint URL for SWITCH Cloud Object Storage\n",
    "ENDPOINT_URL = 'https://os.zhdk.cloud.switch.ch'\n",
    "# Region is often required, but you can use a placeholder for public buckets\n",
    "REGION_NAME = 'us-east-1' \n",
    "\n",
    "def list_all_files_in_s3(bucket_name, prefix, endpoint_url, region_name):\n",
    "    \"\"\"\n",
    "    Lists all object keys (file paths) in an S3-compatible bucket,\n",
    "    handling pagination automatically.\n",
    "    \"\"\"\n",
    "    \n",
    "    # Initialize the S3 client\n",
    "    # Since this is a public bucket, we often don't need credentials,\n",
    "    # but the endpoint_url and region_name are mandatory for non-AWS S3.\n",
    "    s3_client = boto3.client(\n",
    "        's3',\n",
    "        endpoint_url=endpoint_url,\n",
    "        region_name=region_name\n",
    "        # If the bucket were private, you'd add: \n",
    "        # aws_access_key_id='YOUR_KEY', \n",
    "        # aws_secret_access_key='YOUR_SECRET'\n",
    "    )\n",
    "    \n",
    "    # Use the Paginator to automatically handle large numbers of files\n",
    "    paginator = s3_client.get_paginator('list_objects_v2')\n",
    "    \n",
    "    pages = paginator.paginate(\n",
    "        Bucket=bucket_name,\n",
    "        Prefix=prefix\n",
    "    )\n",
    "    \n",
    "    all_files = []\n",
    "    \n",
    "    for page in pages:\n",
    "        if 'Contents' in page:\n",
    "            # 'Contents' is a list of dictionaries, one for each file\n",
    "            for obj in page['Contents']:\n",
    "                # The 'Key' is the full file path/name\n",
    "                all_files.append(obj['Key'])\n",
    "                \n",
    "    return all_files\n",
    "\n",
    "# --- Execute the function ---\n",
    "print(f\"Listing files in bucket: {BUCKET_NAME} with prefix: {PREFIX}\")\n",
    "try:\n",
    "    file_list = list_all_files_in_s3(BUCKET_NAME, PREFIX, ENDPOINT_URL, REGION_NAME)\n",
    "\n",
    "    if file_list:\n",
    "        print(f\"\\nSuccessfully found {len(file_list)} files.\")\n",
    "        print(\"\\n--- First 5 Files ---\")\n",
    "        for file_key in file_list[:5]:\n",
    "            print(f\"- {file_key}\")\n",
    "        print(\"---------------------\\n\")\n",
    "        \n",
    "        # Now you can use this `file_list` in your URL generator test\n",
    "        # to ensure the files exist before attempting to download them.\n",
    "\n",
    "    else:\n",
    "        print(\"No files found with the specified prefix.\")\n",
    "\n",
    "except Exception as e:\n",
    "    print(f\"An error occurred: {e}\")\n",
    "    print(\"Double-check the BUCKET_NAME, PREFIX, and ENDPOINT_URL.\")"
   ]
  },
  {
   "cell_type": "code",
   "execution_count": 3,
   "id": "011559c5-73c6-4063-8e09-bfa35fe7dc06",
   "metadata": {},
   "outputs": [
    {
     "name": "stdout",
     "output_type": "stream",
     "text": [
      " Volume in drive C is OS\n",
      " Volume Serial Number is 1C25-B250\n",
      "\n",
      " Directory of C:\\Users\\niels\\Documents\\Repositories\\BmC\\tests\\datasource\\chelsa\n",
      "\n",
      "03/10/2025  11:04    <DIR>          .\n",
      "02/10/2025  15:39    <DIR>          ..\n",
      "03/10/2025  11:02    <DIR>          .ipynb_checkpoints\n",
      "02/10/2025  16:08    <DIR>          __pycache__\n",
      "02/10/2025  16:19                35 test_s3.py\n",
      "03/10/2025  11:04             4.285 Untitled.ipynb\n",
      "03/10/2025  11:05    <DIR>          urls\n",
      "               2 File(s)          4.320 bytes\n",
      "               5 Dir(s)  233.413.570.560 bytes free\n"
     ]
    }
   ],
   "source": [
    "ls"
   ]
  },
  {
   "cell_type": "code",
   "execution_count": 2,
   "id": "7fe02ade-57c9-43a1-b9f0-28de7c33a634",
   "metadata": {},
   "outputs": [
    {
     "data": {
      "text/plain": [
       "['clt.txt',\n",
       " 'cmi.txt',\n",
       " 'hurs.txt',\n",
       " 'pet.txt',\n",
       " 'pr.txt',\n",
       " 'rsds.txt',\n",
       " 'sfcWind.txt',\n",
       " 'tas.txt',\n",
       " 'tasmax.txt',\n",
       " 'tasmin.txt',\n",
       " 'vas.txt']"
      ]
     },
     "execution_count": 2,
     "metadata": {},
     "output_type": "execute_result"
    }
   ],
   "source": [
    "import os\n",
    "\n",
    "os.listdir(\"urls/monthly\")"
   ]
  },
  {
   "cell_type": "code",
   "execution_count": 3,
   "id": "600fed16-1b2a-453e-8717-9602a1d72cb7",
   "metadata": {},
   "outputs": [
    {
     "data": {
      "text/plain": [
       "['clt',\n",
       " 'cmi',\n",
       " 'hurs',\n",
       " 'pet',\n",
       " 'pr',\n",
       " 'rsds',\n",
       " 'sfcWind',\n",
       " 'tas',\n",
       " 'tasmax',\n",
       " 'tasmin',\n",
       " 'vas']"
      ]
     },
     "execution_count": 3,
     "metadata": {},
     "output_type": "execute_result"
    }
   ],
   "source": [
    "variable_url_lists = os.listdir(\"urls/monthly\")\n",
    "[file_name.split(\".\")[0] for file_name in variable_url_lists]"
   ]
  },
  {
   "cell_type": "code",
   "execution_count": 4,
   "id": "69554821-eea1-40b8-8609-caf1fcbe3baa",
   "metadata": {},
   "outputs": [],
   "source": [
    "for filename in variable_url_lists:\n",
    "    filepath = os.path.join(\"urls/monthly\", filename)\n",
    "    with open(filepath, \"r\") as f:\n",
    "        urls = f.readlines()"
   ]
  },
  {
   "cell_type": "code",
   "execution_count": 7,
   "id": "e1a66998-ed5c-4333-ba9d-81aea727f76d",
   "metadata": {},
   "outputs": [
    {
     "data": {
      "text/plain": [
       "'https://os.zhdk.cloud.switch.ch/chelsav2/GLOBAL/monthly/vpd/CHELSA_vpd_01_1980_V.2.1.tif'"
      ]
     },
     "execution_count": 7,
     "metadata": {},
     "output_type": "execute_result"
    }
   ],
   "source": [
    "urls[0][:-2]"
   ]
  },
  {
   "cell_type": "code",
   "execution_count": null,
   "id": "0262fae4-337f-4f6c-8a1b-989067c02f19",
   "metadata": {},
   "outputs": [],
   "source": []
  }
 ],
 "metadata": {
  "kernelspec": {
   "display_name": "Python 3 (ipykernel)",
   "language": "python",
   "name": "python3"
  },
  "language_info": {
   "codemirror_mode": {
    "name": "ipython",
    "version": 3
   },
   "file_extension": ".py",
   "mimetype": "text/x-python",
   "name": "python",
   "nbconvert_exporter": "python",
   "pygments_lexer": "ipython3",
   "version": "3.12.7"
  }
 },
 "nbformat": 4,
 "nbformat_minor": 5
}
