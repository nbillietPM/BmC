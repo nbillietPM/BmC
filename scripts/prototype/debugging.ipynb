{
 "cells": [
  {
   "cell_type": "code",
   "execution_count": 1,
   "id": "df73a5e0-9845-46be-b234-72cb907b3a61",
   "metadata": {},
   "outputs": [],
   "source": [
    "import sys\n",
    "from pathlib import Path\n",
    "\n",
    "# Add the src directory to sys.path\n",
    "sys.path.append(str(Path().resolve().parents[1] / \"src\"))"
   ]
  },
  {
   "cell_type": "markdown",
   "id": "ef6451e8-0cf2-497f-8755-28c5cf99cb11",
   "metadata": {},
   "source": [
    "# Utils"
   ]
  },
  {
   "cell_type": "code",
   "execution_count": 2,
   "id": "9f355481-91f7-4155-8d7e-a125f5066f20",
   "metadata": {},
   "outputs": [
    {
     "data": {
      "text/plain": [
       "{'cube_dir': 'out/prototype_cubing/',\n",
       " 'cube_name': 'prototype_prototype_cube',\n",
       " 'spatial': {'method': 'bbox',\n",
       "  'bbox': {'long_min': 4.171371,\n",
       "   'long_max': 4.743004,\n",
       "   'lat_min': 50.68406,\n",
       "   'lat_max': 50.877911},\n",
       "  'polygon': {'shapefile_path': '/shapefile/filename.shp'}},\n",
       " 'layers': {'gbif': {'enabled': True,\n",
       "   'type': {'occurences': True, 'absences': False},\n",
       "   'species_paths': '/directory/species_list.csv',\n",
       "   'taxonomic': {'highest_rank': 'kingdom', 'lowest_rank': 'species'},\n",
       "   'time': {'start_year': None,\n",
       "    'end_year': None,\n",
       "    'start_month': None,\n",
       "    'end_month': None},\n",
       "   'defaultCoordinateUncertainty': 1000,\n",
       "   'cubing': {'enabled': True, 'cubingGrid': 'EEA'},\n",
       "   'selection_issues': {'spatial': {'hasCoordinate': True,\n",
       "     'zeroCoordinate': True,\n",
       "     'invalidCoordinate': True,\n",
       "     'countryMismatch': True}},\n",
       "   'file': {'file_path': 'out/', 'file_name': 'species_oi.csv', 'sep': '\\t'}},\n",
       "  'chelsa': {'enabled': True,\n",
       "   'chelsa_month': {'enabled': True,\n",
       "    'time': {'start_year': 1979,\n",
       "     'start_month': 2,\n",
       "     'end_year': 2018,\n",
       "     'end_month': 12,\n",
       "     'year_range': [1979, 2020]},\n",
       "    'variables': {'include_all': True, 'included': [], 'excluded': []},\n",
       "    'source': {'base_url': 'https://os.zhdk.cloud.switch.ch/chelsav2/GLOBAL/monthly',\n",
       "     'version': 'V.2.1'},\n",
       "    'metadata': {'chelsa_month': {'label': 'CHELSA Monthly Climate Data',\n",
       "      'description': 'Monthly high-resolution climate variables from CHELSA V2.1.',\n",
       "      'year_range': '1979-2020',\n",
       "      'available_variables': {'clt': 'Cloud cover (%)',\n",
       "       'cmi': 'Climatic Moisture Index',\n",
       "       'hurs': 'Relative humidity at 2m (%)',\n",
       "       'pet': 'Potential Evapotranspiration (mm)',\n",
       "       'pr': 'Precipitation (mm)',\n",
       "       'rsds': 'Surface downwelling shortwave radiation (W/mÂ²)',\n",
       "       'sfcWind': 'Surface wind speed (m/s)',\n",
       "       'tas': 'Mean air temperature at 2m (Â°C)',\n",
       "       'tasmax': 'Daily maximum air temperature at 2m (Â°C)',\n",
       "       'tasmin': 'Daily minimum air temperature at 2m (Â°C)',\n",
       "       'vpd': 'Vapor Pressure Deficit (kPa)'}}}},\n",
       "   'chelsa_clim_ref_period': {'enabled': True,\n",
       "    'time': {'year_range': '1981-2010'},\n",
       "    'variables': {'include_all': True, 'included': [], 'excluded': []},\n",
       "    'source': {'base_url': 'https://os.zhdk.cloud.switch.ch/chelsav2/GLOBAL/climatologies/1981-2010',\n",
       "     'version': 'V.2.1'},\n",
       "    'metadata': {'chelsa_clim_ref_period': {'label': 'CHELSA Climatological Reference Period',\n",
       "      'description': 'Bioclimatic and derived climatologies for the reference period 1981â€“2010.',\n",
       "      'year_range': '1981-2010',\n",
       "      'available_variables': {'ai': 'Aridity Index',\n",
       "       'bio1': 'Annual Mean Temperature',\n",
       "       'bio2': 'Mean Diurnal Range',\n",
       "       'bio3': 'Isothermality',\n",
       "       'bio4': 'Temperature Seasonality',\n",
       "       'bio5': 'Max Temperature of Warmest Month',\n",
       "       'bio6': 'Min Temperature of Coldest Month',\n",
       "       'bio7': 'Temperature Annual Range',\n",
       "       'bio8': 'Mean Temperature of Wettest Quarter',\n",
       "       'bio9': 'Mean Temperature of Driest Quarter',\n",
       "       'bio10': 'Mean Temperature of Warmest Quarter',\n",
       "       'bio11': 'Mean Temperature of Coldest Quarter',\n",
       "       'bio12': 'Annual Precipitation',\n",
       "       'bio13': 'Precipitation of Wettest Month',\n",
       "       'bio14': 'Precipitation of Driest Month',\n",
       "       'bio15': 'Precipitation Seasonality',\n",
       "       'bio16': 'Precipitation of Wettest Quarter',\n",
       "       'bio17': 'Precipitation of Driest Quarter',\n",
       "       'bio18': 'Precipitation of Warmest Quarter',\n",
       "       'bio19': 'Precipitation of Coldest Quarter',\n",
       "       'clt_max': 'Maximum Cloud Cover',\n",
       "       'clt_mean': 'Mean Cloud Cover',\n",
       "       'clt_min': 'Minimum Cloud Cover',\n",
       "       'clt_range': 'Cloud Cover Range',\n",
       "       'cmi_max': 'Maximum Climatic Moisture Index',\n",
       "       'cmi_mean': 'Mean Climatic Moisture Index',\n",
       "       'cmi_min': 'Minimum Climatic Moisture Index',\n",
       "       'cmi_range': 'Climatic Moisture Index Range',\n",
       "       'fcf': 'Frost Change Frequency',\n",
       "       'fgd': 'First Growing Day',\n",
       "       'gdd0': 'Growing Degree Days (0Â°C base)',\n",
       "       'gdd5': 'Growing Degree Days (5Â°C base)',\n",
       "       'gdd10': 'Growing Degree Days (10Â°C base)',\n",
       "       'gddlgd0': 'Low GDDs relative to long-term mean (0Â°C)',\n",
       "       'gddlgd5': 'Low GDDs relative to long-term mean (5Â°C)',\n",
       "       'gddlgd10': 'Low GDDs relative to long-term mean (10Â°C)',\n",
       "       'gdgfgd0': 'GDD/FGD Ratio (0Â°C base)',\n",
       "       'gdgfgd5': 'GDD/FGD Ratio (5Â°C base)',\n",
       "       'gdgfgd10': 'GDD/FGD Ratio (10Â°C base)',\n",
       "       'gsl': 'Growing Season Length',\n",
       "       'gsp': 'Growing Season Precipitation',\n",
       "       'gst': 'Growing Season Temperature',\n",
       "       'hurs_max': 'Max Relative Humidity',\n",
       "       'hurs_mean': 'Mean Relative Humidity',\n",
       "       'hurs_min': 'Min Relative Humidity',\n",
       "       'hurs_range': 'Relative Humidity Range',\n",
       "       'kg0': 'KÃ¶ppen-Geiger class 0',\n",
       "       'kg1': 'KÃ¶ppen-Geiger class 1',\n",
       "       'kg2': 'KÃ¶ppen-Geiger class 2',\n",
       "       'kg3': 'KÃ¶ppen-Geiger class 3',\n",
       "       'kg4': 'KÃ¶ppen-Geiger class 4',\n",
       "       'kg5': 'KÃ¶ppen-Geiger class 5',\n",
       "       'lgd': 'Last Growing Day',\n",
       "       'ngd0': 'Number of Growing Days (0Â°C)',\n",
       "       'ngd5': 'Number of Growing Days (5Â°C)',\n",
       "       'ngd10': 'Number of Growing Days (10Â°C)',\n",
       "       'npp': 'Net Primary Productivity',\n",
       "       'pet_penman_max': 'Max Penman PET',\n",
       "       'pet_penman_mean': 'Mean Penman PET',\n",
       "       'pet_penman_min': 'Min Penman PET',\n",
       "       'pet_penman_range': 'Range of Penman PET',\n",
       "       'rsds_max': 'Max Shortwave Radiation',\n",
       "       'rsds_mean': 'Mean Shortwave Radiation',\n",
       "       'rsds_min': 'Min Shortwave Radiation',\n",
       "       'rsds_range': 'Shortwave Radiation Range',\n",
       "       'scd': 'Snow Cover Duration',\n",
       "       'sfcWind_max': 'Max Wind Speed',\n",
       "       'sfcWind_mean': 'Mean Wind Speed',\n",
       "       'sfcWind_min': 'Min Wind Speed',\n",
       "       'sfcWind_range': 'Wind Speed Range',\n",
       "       'swb': 'Soil Water Balance',\n",
       "       'swe': 'Snow Water Equivalent',\n",
       "       'vpd_max': 'Max Vapor Pressure Deficit',\n",
       "       'vpd_mean': 'Mean Vapor Pressure Deficit',\n",
       "       'vpd_min': 'Min Vapor Pressure Deficit',\n",
       "       'vpd_range': 'Vapor Pressure Deficit Range'}}}},\n",
       "   'chelsa_clim_ref_month': {'enabled': True,\n",
       "    'time': {'include_all': True,\n",
       "     'included': [],\n",
       "     'excluded': [],\n",
       "     'year_range': '1981-2010'},\n",
       "    'variables': {'include_all': True, 'included': [], 'excluded': []},\n",
       "    'source': {'base_url': 'https://os.zhdk.cloud.switch.ch/chelsav2/GLOBAL/climatologies/1981-2010',\n",
       "     'version': 'V.2.1'},\n",
       "    'metadata': {'chelsa_clim_ref_month': {'label': 'CHELSA Monthly Climatological Reference Data',\n",
       "      'description': 'Monthly climatologies derived from CHELSA for the reference period 1981â€“2010.',\n",
       "      'year_range': '1981-2010',\n",
       "      'available_variables': {'clt': 'Cloud cover (%)',\n",
       "       'cmi': 'Climatic Moisture Index',\n",
       "       'hurs': 'Relative humidity (%)',\n",
       "       'pet': 'Potential Evapotranspiration (mm)',\n",
       "       'pr': 'Precipitation (mm)',\n",
       "       'rsds': 'Surface downwelling shortwave radiation (W/mÂ²)',\n",
       "       'sfcWind': 'Surface wind speed (m/s)',\n",
       "       'tas': 'Mean air temperature at 2m (Â°C)',\n",
       "       'tasmax': 'Daily maximum air temperature at 2m (Â°C)',\n",
       "       'tasmin': 'Daily minimum air temperature at 2m (Â°C)',\n",
       "       'vpd': 'Vapor Pressure Deficit (kPa)'}}}},\n",
       "   'chelsa_clim_sim_period': {'enabled': True,\n",
       "    'time': {'include_all': True, 'included': [], 'excluded': []},\n",
       "    'variables': {'include_all': True, 'included': [], 'excluded': []},\n",
       "    'model': {'include_all': True, 'included': [], 'excluded': []},\n",
       "    'scenario': {'include_all': True, 'included': [], 'excluded': []},\n",
       "    'source': {'base_url': 'https://os.zhdk.cloud.switch.ch/chelsav2/GLOBAL/climatologies',\n",
       "     'version': 'V.2.1'},\n",
       "    'metadata': {'chelsa_clim_sim_period': {'label': 'CHELSA Climatological Simulation Periods',\n",
       "      'description': 'Bioclimatic variables from GCM simulations over multiple future time slices.',\n",
       "      'year_ranges': ['2011-2040', '2041-2070', '2071-2100'],\n",
       "      'model_names': ['gfdl-esm4',\n",
       "       'ipsl-cm6a-lr',\n",
       "       'mpi-esm1-2-hr',\n",
       "       'mri-esm2-0',\n",
       "       'ukesm1-0-ll'],\n",
       "      'scenario': ['ssp126', 'ssp370', 'ssp585'],\n",
       "      'available_variables': {'bio1': 'Annual Mean Temperature',\n",
       "       'bio2': 'Mean Diurnal Range',\n",
       "       'bio3': 'Isothermality',\n",
       "       'bio4': 'Temperature Seasonality',\n",
       "       'bio5': 'Max Temperature of Warmest Month',\n",
       "       'bio6': 'Min Temperature of Coldest Month',\n",
       "       'bio7': 'Temperature Annual Range',\n",
       "       'bio8': 'Mean Temperature of Wettest Quarter',\n",
       "       'bio9': 'Mean Temperature of Driest Quarter',\n",
       "       'bio10': 'Mean Temperature of Warmest Quarter',\n",
       "       'bio11': 'Mean Temperature of Coldest Quarter',\n",
       "       'bio12': 'Annual Precipitation',\n",
       "       'bio13': 'Precipitation of Wettest Month',\n",
       "       'bio14': 'Precipitation of Driest Month',\n",
       "       'bio15': 'Precipitation Seasonality',\n",
       "       'bio16': 'Precipitation of Wettest Quarter',\n",
       "       'bio17': 'Precipitation of Driest Quarter',\n",
       "       'bio18': 'Precipitation of Warmest Quarter',\n",
       "       'bio19': 'Precipitation of Coldest Quarter',\n",
       "       'fcf': 'Frost Change Frequency',\n",
       "       'fgd': 'First Growing Day',\n",
       "       'gdd0': 'Growing Degree Days (0Â°C base)',\n",
       "       'gdd5': 'Growing Degree Days (5Â°C base)',\n",
       "       'gdd10': 'Growing Degree Days (10Â°C base)',\n",
       "       'gddlgd0': 'Low GDDs relative to long-term mean (0Â°C)',\n",
       "       'gddlgd5': 'Low GDDs relative to long-term mean (5Â°C)',\n",
       "       'gddlgd10': 'Low GDDs relative to long-term mean (10Â°C)',\n",
       "       'gdgfgd0': 'GDD/FGD Ratio (0Â°C base)',\n",
       "       'gdgfgd5': 'GDD/FGD Ratio (5Â°C base)',\n",
       "       'gdgfgd10': 'GDD/FGD Ratio (10Â°C base)',\n",
       "       'gsl': 'Growing Season Length',\n",
       "       'gsp': 'Growing Season Precipitation',\n",
       "       'gst': 'Growing Season Temperature',\n",
       "       'kg0': 'KÃ¶ppen-Geiger Class 0',\n",
       "       'kg1': 'KÃ¶ppen-Geiger Class 1',\n",
       "       'kg2': 'KÃ¶ppen-Geiger Class 2',\n",
       "       'kg3': 'KÃ¶ppen-Geiger Class 3',\n",
       "       'kg4': 'KÃ¶ppen-Geiger Class 4',\n",
       "       'kg5': 'KÃ¶ppen-Geiger Class 5',\n",
       "       'lgd': 'Last Growing Day',\n",
       "       'ngd0': 'Number of Growing Days (0Â°C)',\n",
       "       'ngd5': 'Number of Growing Days (5Â°C)',\n",
       "       'ngd10': 'Number of Growing Days (10Â°C)',\n",
       "       'npp': 'Net Primary Productivity',\n",
       "       'scd': 'Snow Cover Duration',\n",
       "       'swe': 'Snow Water Equivalent'}}}},\n",
       "   'chelsa_clim_sim_month': {'enabled': True,\n",
       "    'time': {'year_ranges': {'include_all': True,\n",
       "      'included': [],\n",
       "      'excluded': []},\n",
       "     'months': {'include_all': True, 'included': [], 'excluded': []}},\n",
       "    'variables': {'include_all': True, 'included': [], 'excluded': []},\n",
       "    'model': {'include_all': True, 'included': [], 'excluded': []},\n",
       "    'scenario': {'include_all': True, 'included': [], 'excluded': []},\n",
       "    'source': {'base_url': 'https://os.zhdk.cloud.switch.ch/chelsav2/GLOBAL/climatologies',\n",
       "     'version': 'V.2.1'},\n",
       "    'metadata': {'label': 'CHELSA Monthly Simulated Climate Variables',\n",
       "     'description': 'Monthly climate simulations from GCM models under different climate scenarios.',\n",
       "     'year_ranges': ['2011-2040', '2041-2070', '2071-2100'],\n",
       "     'model_names': ['gfdl-esm4',\n",
       "      'ipsl-cm6a-lr',\n",
       "      'mpi-esm1-2-hr',\n",
       "      'mri-esm2-0',\n",
       "      'ukesm1-0-ll'],\n",
       "     'scenario': ['ssp126', 'ssp370', 'ssp585'],\n",
       "     'available_variables': {'pr': 'Precipitation (mm)',\n",
       "      'tas': 'Mean air temperature at 2m (Â°C)',\n",
       "      'tasmax': 'Daily maximum air temperature at 2m (Â°C)',\n",
       "      'tasmin': 'Daily minimum air temperature at 2m (Â°C)'}}}}}}"
      ]
     },
     "execution_count": 2,
     "metadata": {},
     "output_type": "execute_result"
    }
   ],
   "source": [
    "import yaml\n",
    "import os\n",
    "\n",
    "param_file = \"param_prototype.yaml\" \n",
    "param_path = \"../../config\"\n",
    "param_filepath = param_file if os.path.isabs(param_file) else os.path.join(param_path, param_file)\n",
    "with open(param_filepath) as f:\n",
    "    param_dict = yaml.safe_load(f)\n",
    "param_dict"
   ]
  },
  {
   "cell_type": "code",
   "execution_count": 3,
   "id": "82e7329b-ed5e-4cd4-a63c-484a0008c66d",
   "metadata": {},
   "outputs": [],
   "source": [
    "from utils.chelsa import extract_param"
   ]
  },
  {
   "cell_type": "code",
   "execution_count": 4,
   "id": "6076579a-7e48-4291-9344-4376e56e1d73",
   "metadata": {},
   "outputs": [
    {
     "data": {
      "text/plain": [
       "{'method': 'bbox',\n",
       " 'bbox': {'long_min': 4.171371,\n",
       "  'long_max': 4.743004,\n",
       "  'lat_min': 50.68406,\n",
       "  'lat_max': 50.877911},\n",
       " 'polygon': {'shapefile_path': '/shapefile/filename.shp'}}"
      ]
     },
     "execution_count": 4,
     "metadata": {},
     "output_type": "execute_result"
    }
   ],
   "source": [
    "param_dict[\"spatial\"]"
   ]
  },
  {
   "cell_type": "code",
   "execution_count": 5,
   "id": "b9f10266-f1e9-42d5-af2d-ed904009e0c1",
   "metadata": {},
   "outputs": [
    {
     "data": {
      "text/plain": [
       "(4.171371, 50.68406, 4.743004, 50.877911)"
      ]
     },
     "execution_count": 5,
     "metadata": {},
     "output_type": "execute_result"
    }
   ],
   "source": [
    "bbox = extract_param.construct_bbox(param_dict)\n",
    "bbox"
   ]
  },
  {
   "cell_type": "code",
   "execution_count": 6,
   "id": "45c0a3e4-6633-41d9-a763-27187ce4ac6f",
   "metadata": {},
   "outputs": [
    {
     "data": {
      "text/plain": [
       "{'var': ['clt',\n",
       "  'cmi',\n",
       "  'hurs',\n",
       "  'pet',\n",
       "  'pr',\n",
       "  'rsds',\n",
       "  'sfcWind',\n",
       "  'tas',\n",
       "  'tasmax',\n",
       "  'tasmin',\n",
       "  'vpd'],\n",
       " 'bbox': (4.171371, 50.68406, 4.743004, 50.877911),\n",
       " 'start_month': 2,\n",
       " 'end_month': 12,\n",
       " 'start_year': 1979,\n",
       " 'end_year': 2018,\n",
       " 'base_url': 'https://os.zhdk.cloud.switch.ch/chelsav2/GLOBAL/monthly',\n",
       " 'version': 'V.2.1'}"
      ]
     },
     "execution_count": 6,
     "metadata": {},
     "output_type": "execute_result"
    }
   ],
   "source": [
    "chelsa_month_param = extract_param.read_chelsa_month_param(param_file, param_path)\n",
    "chelsa_month_param"
   ]
  },
  {
   "cell_type": "code",
   "execution_count": 7,
   "id": "fe11026a-bcb0-4202-a09f-2498aac3215d",
   "metadata": {
    "scrolled": true
   },
   "outputs": [
    {
     "data": {
      "text/plain": [
       "{'var': ['ai',\n",
       "  'bio10',\n",
       "  'bio11',\n",
       "  'bio12',\n",
       "  'bio13',\n",
       "  'bio14',\n",
       "  'bio15',\n",
       "  'bio16',\n",
       "  'bio17',\n",
       "  'bio18',\n",
       "  'bio19',\n",
       "  'bio1',\n",
       "  'bio2',\n",
       "  'bio3',\n",
       "  'bio4',\n",
       "  'bio5',\n",
       "  'bio6',\n",
       "  'bio7',\n",
       "  'bio8',\n",
       "  'bio9',\n",
       "  'clt_max',\n",
       "  'clt_mean',\n",
       "  'clt_min',\n",
       "  'clt_range',\n",
       "  'cmi_max',\n",
       "  'cmi_mean',\n",
       "  'cmi_min',\n",
       "  'cmi_range',\n",
       "  'fcf',\n",
       "  'fgd',\n",
       "  'gdd0',\n",
       "  'gdd10',\n",
       "  'gdd5',\n",
       "  'gddlgd0',\n",
       "  'gddlgd10',\n",
       "  'gddlgd5',\n",
       "  'gdgfgd0',\n",
       "  'gdgfgd10',\n",
       "  'gdgfgd5',\n",
       "  'gsl',\n",
       "  'gsp',\n",
       "  'gst',\n",
       "  'hurs_max',\n",
       "  'hurs_mean',\n",
       "  'hurs_min',\n",
       "  'hurs_range',\n",
       "  'kg0',\n",
       "  'kg1',\n",
       "  'kg2',\n",
       "  'kg3',\n",
       "  'kg4',\n",
       "  'kg5',\n",
       "  'lgd',\n",
       "  'ngd0',\n",
       "  'ngd10',\n",
       "  'ngd5',\n",
       "  'npp',\n",
       "  'pet_penman_max',\n",
       "  'pet_penman_mean',\n",
       "  'pet_penman_min',\n",
       "  'pet_penman_range',\n",
       "  'rsds_max',\n",
       "  'rsds_min',\n",
       "  'rsds_mean',\n",
       "  'rsds_range',\n",
       "  'scd',\n",
       "  'sfcWind_max',\n",
       "  'sfcWind_mean',\n",
       "  'sfcWind_min',\n",
       "  'sfcWind_range',\n",
       "  'swb',\n",
       "  'swe',\n",
       "  'vpd_max',\n",
       "  'vpd_mean',\n",
       "  'vpd_min',\n",
       "  'vpd_range'],\n",
       " 'bbox': (4.171371, 50.68406, 4.743004, 50.877911),\n",
       " 'ref_period': '1981-2010',\n",
       " 'base_url': 'https://os.zhdk.cloud.switch.ch/chelsav2/GLOBAL/climatologies/1981-2010',\n",
       " 'version': 'V.2.1'}"
      ]
     },
     "execution_count": 7,
     "metadata": {},
     "output_type": "execute_result"
    }
   ],
   "source": [
    "chelsa_ref_period_param = extract_param.read_chelsa_clim_ref_period_param(param_file, param_path)\n",
    "chelsa_ref_period_param"
   ]
  },
  {
   "cell_type": "code",
   "execution_count": 8,
   "id": "f1e28f5d-4ca3-48e3-9e55-6c8b53f282a9",
   "metadata": {},
   "outputs": [
    {
     "data": {
      "text/plain": [
       "{'var': ['clt',\n",
       "  'cmi',\n",
       "  'hurs',\n",
       "  'pet',\n",
       "  'pr',\n",
       "  'rsds',\n",
       "  'sfcWind',\n",
       "  'tas',\n",
       "  'tasmax',\n",
       "  'tasmin',\n",
       "  'vpd'],\n",
       " 'bbox': (4.171371, 50.68406, 4.743004, 50.877911),\n",
       " 'months': [1, 2, 3, 4, 5, 6, 7, 8, 9, 10, 11, 12],\n",
       " 'ref_period': '1981-2010',\n",
       " 'base_url': 'https://os.zhdk.cloud.switch.ch/chelsav2/GLOBAL/climatologies/1981-2010',\n",
       " 'version': 'V.2.1'}"
      ]
     },
     "execution_count": 8,
     "metadata": {},
     "output_type": "execute_result"
    }
   ],
   "source": [
    "chelsa_ref_month_param = extract_param.read_chelsa_clim_ref_month_param(param_file, param_path)\n",
    "chelsa_ref_month_param"
   ]
  },
  {
   "cell_type": "code",
   "execution_count": 9,
   "id": "cb4c0b97-ceff-4a71-91e9-dd250c86f964",
   "metadata": {
    "scrolled": true
   },
   "outputs": [
    {
     "data": {
      "text/plain": [
       "{'var': ['bio10',\n",
       "  'bio11',\n",
       "  'bio12',\n",
       "  'bio13',\n",
       "  'bio14',\n",
       "  'bio15',\n",
       "  'bio16',\n",
       "  'bio17',\n",
       "  'bio18',\n",
       "  'bio19',\n",
       "  'bio1',\n",
       "  'bio2',\n",
       "  'bio3',\n",
       "  'bio4',\n",
       "  'bio5',\n",
       "  'bio6',\n",
       "  'bio7',\n",
       "  'bio8',\n",
       "  'bio9',\n",
       "  'fcf',\n",
       "  'fgd',\n",
       "  'gdd0',\n",
       "  'gdd10',\n",
       "  'gdd5',\n",
       "  'gddlgd0',\n",
       "  'gddlgd10',\n",
       "  'gddlgd5',\n",
       "  'gdgfgd0',\n",
       "  'gdgfgd10',\n",
       "  'gdgfgd5',\n",
       "  'gsl',\n",
       "  'gsp',\n",
       "  'gst',\n",
       "  'kg0',\n",
       "  'kg1',\n",
       "  'kg2',\n",
       "  'kg3',\n",
       "  'kg4',\n",
       "  'kg5',\n",
       "  'lgd',\n",
       "  'ngd0',\n",
       "  'ngd10',\n",
       "  'ngd5',\n",
       "  'npp',\n",
       "  'scd',\n",
       "  'swe'],\n",
       " 'bbox': (4.171371, 50.68406, 4.743004, 50.877911),\n",
       " 'year_ranges': ['2011-2040', '2041-2070', '2071-2100'],\n",
       " 'model_names': ['gfdl-esm4',\n",
       "  'ipsl-cm6a-lr',\n",
       "  'mpi-esm1-2-hr',\n",
       "  'mri-esm2-0',\n",
       "  'ukesm1-0-ll'],\n",
       " 'scenarios': ['ssp126', 'ssp370', 'ssp585'],\n",
       " 'base_url': 'https://os.zhdk.cloud.switch.ch/chelsav2/GLOBAL/climatologies',\n",
       " 'version': 'V.2.1'}"
      ]
     },
     "execution_count": 9,
     "metadata": {},
     "output_type": "execute_result"
    }
   ],
   "source": [
    "chelsa_sim_period_param = extract_param.read_chelsa_clim_sim_period_param(param_file, param_path)\n",
    "chelsa_sim_period_param"
   ]
  },
  {
   "cell_type": "code",
   "execution_count": 10,
   "id": "7e409d4c-8d52-426a-9259-1856e483e6d0",
   "metadata": {},
   "outputs": [
    {
     "data": {
      "text/plain": [
       "{'var': ['pr', 'tas', 'tasmax', 'tasmin'],\n",
       " 'bbox': (4.171371, 50.68406, 4.743004, 50.877911),\n",
       " 'year_ranges': ['2011-2040', '2041-2070', '2071-2100'],\n",
       " 'months': [1, 2, 3, 4, 5, 6, 7, 8, 9, 10, 11, 12],\n",
       " 'model_names': ['gfdl-esm4',\n",
       "  'ipsl-cm6a-lr',\n",
       "  'mpi-esm1-2-hr',\n",
       "  'mri-esm2-0',\n",
       "  'ukesm1-0-ll'],\n",
       " 'scenarios': ['ssp126', 'ssp370', 'ssp585'],\n",
       " 'base_url': 'https://os.zhdk.cloud.switch.ch/chelsav2/GLOBAL/climatologies',\n",
       " 'version': 'V.2.1'}"
      ]
     },
     "execution_count": 10,
     "metadata": {},
     "output_type": "execute_result"
    }
   ],
   "source": [
    "chelsa_sim_month_param = extract_param.read_chelsa_clim_sim_month_param(param_file, param_path)\n",
    "chelsa_sim_month_param"
   ]
  },
  {
   "cell_type": "markdown",
   "id": "d5be69de-28a0-4822-891f-03dad566e9c3",
   "metadata": {},
   "source": [
    "# CHELSA debugging"
   ]
  },
  {
   "cell_type": "markdown",
   "id": "cf42bee3-2e0a-4db1-b91a-8f9ce4204883",
   "metadata": {},
   "source": [
    "## S3 submodule"
   ]
  },
  {
   "cell_type": "code",
   "execution_count": 73,
   "id": "c2110dfd-7872-494d-9c7b-0b8f1e673fcb",
   "metadata": {},
   "outputs": [],
   "source": [
    "from datasource.chelsa import s3"
   ]
  },
  {
   "cell_type": "code",
   "execution_count": 74,
   "id": "9da3f28b-a5c4-496e-a15c-44b1abd90ad0",
   "metadata": {},
   "outputs": [],
   "source": [
    "import requests\n",
    "\n",
    "def check_urls(url_list, timeout=3):\n",
    "    results = []\n",
    "    for url in url_list:\n",
    "        try:\n",
    "            response = requests.head(url, timeout=timeout)\n",
    "            results.append({\"url\": url, \"status_code\": response.status_code})\n",
    "        except requests.exceptions.RequestException as e:\n",
    "            # If request fails (timeout, DNS error, etc.)\n",
    "            results.append({\"url\": url, \"status_code\": None, \"error\": str(e)})\n",
    "    return results"
   ]
  },
  {
   "cell_type": "markdown",
   "id": "bb1d09df-f94d-49a3-9b19-e3ab9ca8c102",
   "metadata": {},
   "source": [
    "## Month URL's"
   ]
  },
  {
   "cell_type": "code",
   "execution_count": 75,
   "id": "18b2e07b-2cda-4756-a25e-04ac4627216d",
   "metadata": {},
   "outputs": [],
   "source": [
    "urls = []\n",
    "param_tuples = []\n",
    "for var_name in chelsa_month_param[\"var\"]:\n",
    "    for year in range(chelsa_month_param[\"start_year\"], chelsa_month_param[\"end_year\"]+1):\n",
    "        for month in range(chelsa_month_param[\"start_month\"], chelsa_month_param[\"end_month\"]+1):\n",
    "            urls.append(s3.format_url_month_ts(var_name, month, year, base_url=chelsa_month_param[\"base_url\"], version=chelsa_month_param[\"version\"]))\n",
    "            param_tuples.append((var_name, month, year))"
   ]
  },
  {
   "cell_type": "code",
   "execution_count": 76,
   "id": "430124be-bc1f-40a6-a4e9-ead7a657461d",
   "metadata": {
    "scrolled": true
   },
   "outputs": [
    {
     "data": {
      "text/plain": [
       "[200,\n",
       " 200,\n",
       " 200,\n",
       " 200,\n",
       " 200,\n",
       " 200,\n",
       " 200,\n",
       " 200,\n",
       " 200,\n",
       " 200,\n",
       " 200,\n",
       " 200,\n",
       " 200,\n",
       " 200,\n",
       " 200,\n",
       " 200,\n",
       " 200,\n",
       " 200,\n",
       " 200,\n",
       " 200,\n",
       " 200,\n",
       " 200,\n",
       " 200,\n",
       " 200,\n",
       " 200,\n",
       " 200,\n",
       " 200,\n",
       " 200,\n",
       " 200,\n",
       " 200,\n",
       " 200,\n",
       " 200,\n",
       " 200,\n",
       " 200,\n",
       " 200,\n",
       " 200,\n",
       " 200,\n",
       " 200,\n",
       " 200,\n",
       " 200,\n",
       " 200,\n",
       " 200,\n",
       " 200,\n",
       " 200,\n",
       " 200,\n",
       " 200,\n",
       " 200,\n",
       " 200,\n",
       " 200,\n",
       " 200,\n",
       " 200,\n",
       " 200,\n",
       " 200,\n",
       " 200,\n",
       " 200,\n",
       " 200,\n",
       " 200,\n",
       " 200,\n",
       " 200,\n",
       " 200,\n",
       " 200,\n",
       " 200,\n",
       " 200,\n",
       " 200,\n",
       " 200,\n",
       " 200,\n",
       " 200,\n",
       " 200,\n",
       " 200,\n",
       " 200,\n",
       " 200,\n",
       " 200,\n",
       " 200,\n",
       " 200,\n",
       " 200,\n",
       " 200,\n",
       " 200,\n",
       " 200,\n",
       " 200,\n",
       " 200,\n",
       " 200,\n",
       " 200,\n",
       " 200,\n",
       " 200,\n",
       " 200,\n",
       " 200,\n",
       " 200,\n",
       " 200,\n",
       " 200,\n",
       " 200,\n",
       " 200,\n",
       " 200,\n",
       " 200,\n",
       " 200,\n",
       " 200,\n",
       " 200,\n",
       " 200,\n",
       " 200,\n",
       " 200,\n",
       " 200,\n",
       " 200,\n",
       " 200,\n",
       " 200,\n",
       " 200,\n",
       " 200,\n",
       " 200,\n",
       " 200,\n",
       " 200,\n",
       " 200,\n",
       " 200,\n",
       " 200,\n",
       " 200,\n",
       " 200,\n",
       " 200,\n",
       " 200,\n",
       " 200,\n",
       " 200,\n",
       " 200,\n",
       " 200,\n",
       " 200,\n",
       " 200,\n",
       " 200,\n",
       " 200,\n",
       " 200,\n",
       " 200,\n",
       " 200,\n",
       " 200,\n",
       " 200,\n",
       " 200,\n",
       " 200,\n",
       " 200,\n",
       " 200,\n",
       " 200,\n",
       " 200,\n",
       " 200,\n",
       " 200,\n",
       " 200,\n",
       " 200,\n",
       " 200,\n",
       " 200,\n",
       " 200,\n",
       " 200,\n",
       " 200,\n",
       " 200,\n",
       " 200,\n",
       " 200,\n",
       " 200,\n",
       " 200,\n",
       " 200,\n",
       " 200,\n",
       " 200,\n",
       " 200,\n",
       " 200,\n",
       " 200,\n",
       " 200,\n",
       " 200,\n",
       " 200,\n",
       " 200,\n",
       " 200,\n",
       " 200,\n",
       " 200,\n",
       " 200,\n",
       " 200,\n",
       " 200,\n",
       " 200,\n",
       " 200,\n",
       " 200,\n",
       " 200,\n",
       " 200,\n",
       " 200,\n",
       " 200,\n",
       " 200,\n",
       " 200,\n",
       " 200,\n",
       " 200,\n",
       " 200,\n",
       " 200,\n",
       " 200,\n",
       " 200,\n",
       " 200,\n",
       " 200,\n",
       " 200,\n",
       " 200,\n",
       " 200,\n",
       " 200,\n",
       " 200,\n",
       " 200,\n",
       " 200,\n",
       " 200,\n",
       " 200,\n",
       " 200,\n",
       " 200,\n",
       " 200,\n",
       " 200,\n",
       " 200,\n",
       " 200,\n",
       " 200,\n",
       " 200,\n",
       " 200,\n",
       " 200,\n",
       " 200,\n",
       " 200,\n",
       " 200,\n",
       " 200,\n",
       " 200,\n",
       " 200,\n",
       " 200,\n",
       " 200,\n",
       " 200,\n",
       " 200,\n",
       " 200,\n",
       " 200,\n",
       " 200,\n",
       " 200,\n",
       " 200,\n",
       " 200,\n",
       " 200,\n",
       " 200,\n",
       " 200,\n",
       " 200,\n",
       " 200,\n",
       " 200,\n",
       " 200,\n",
       " 200,\n",
       " 200,\n",
       " 200,\n",
       " 200,\n",
       " 200,\n",
       " 200,\n",
       " 200,\n",
       " 200,\n",
       " 200,\n",
       " 200,\n",
       " 200,\n",
       " 200,\n",
       " 200,\n",
       " 200,\n",
       " 200,\n",
       " 200,\n",
       " 200,\n",
       " 200,\n",
       " 200,\n",
       " 200,\n",
       " 200,\n",
       " 200,\n",
       " 200,\n",
       " 200,\n",
       " 200,\n",
       " 200,\n",
       " 200,\n",
       " 200,\n",
       " 200,\n",
       " 200,\n",
       " 200,\n",
       " 200,\n",
       " 200,\n",
       " 200,\n",
       " 200,\n",
       " 200,\n",
       " 200,\n",
       " 200,\n",
       " 200,\n",
       " 200,\n",
       " 200,\n",
       " 200,\n",
       " 200,\n",
       " 200,\n",
       " 200,\n",
       " 200,\n",
       " 200,\n",
       " 200,\n",
       " 200,\n",
       " 200,\n",
       " 200,\n",
       " 200,\n",
       " 200,\n",
       " 200,\n",
       " 200,\n",
       " 200,\n",
       " 200,\n",
       " 200,\n",
       " 200,\n",
       " 200,\n",
       " 200,\n",
       " 200,\n",
       " 200,\n",
       " 200,\n",
       " 200,\n",
       " 200,\n",
       " 200,\n",
       " 200,\n",
       " 200,\n",
       " 200,\n",
       " 200,\n",
       " 200,\n",
       " 200,\n",
       " 200,\n",
       " 200,\n",
       " 200,\n",
       " 200,\n",
       " 200,\n",
       " 200,\n",
       " 200,\n",
       " 200,\n",
       " 200,\n",
       " 200,\n",
       " 200,\n",
       " 200,\n",
       " 200,\n",
       " 200,\n",
       " 200,\n",
       " 200,\n",
       " 200,\n",
       " 200,\n",
       " 200,\n",
       " 200,\n",
       " 200,\n",
       " 200,\n",
       " 200,\n",
       " 200,\n",
       " 200,\n",
       " 200,\n",
       " 200,\n",
       " 200,\n",
       " 200,\n",
       " 200,\n",
       " 200,\n",
       " 200,\n",
       " 200,\n",
       " 200,\n",
       " 200,\n",
       " 200,\n",
       " 200,\n",
       " 200,\n",
       " 200,\n",
       " 200,\n",
       " 200,\n",
       " 200,\n",
       " 200,\n",
       " 200,\n",
       " 200,\n",
       " 200,\n",
       " 200,\n",
       " 200,\n",
       " 200,\n",
       " 200,\n",
       " 200,\n",
       " 200,\n",
       " 200,\n",
       " 200,\n",
       " 200,\n",
       " 200,\n",
       " 200,\n",
       " 200,\n",
       " 200,\n",
       " 200,\n",
       " 200,\n",
       " 200,\n",
       " 200,\n",
       " 200,\n",
       " 200,\n",
       " 200,\n",
       " 200,\n",
       " 200,\n",
       " 200,\n",
       " 200,\n",
       " 200,\n",
       " 200,\n",
       " 200,\n",
       " 200,\n",
       " 200,\n",
       " 200,\n",
       " 200,\n",
       " 200,\n",
       " 200,\n",
       " 200,\n",
       " 200,\n",
       " 200,\n",
       " 200,\n",
       " 200,\n",
       " 200,\n",
       " 200,\n",
       " 200,\n",
       " 200,\n",
       " 200,\n",
       " 200,\n",
       " 200,\n",
       " 200,\n",
       " 200,\n",
       " 200,\n",
       " 200,\n",
       " 200,\n",
       " 200,\n",
       " 200,\n",
       " 200,\n",
       " 200,\n",
       " 200,\n",
       " 200,\n",
       " 200,\n",
       " 200,\n",
       " 200,\n",
       " 200,\n",
       " 200,\n",
       " 200,\n",
       " 200,\n",
       " 200,\n",
       " 200,\n",
       " 200,\n",
       " 200,\n",
       " 200,\n",
       " 200,\n",
       " 200,\n",
       " 200,\n",
       " 200,\n",
       " 200,\n",
       " 200,\n",
       " 200,\n",
       " 200,\n",
       " 200,\n",
       " 200,\n",
       " 200,\n",
       " 200,\n",
       " 200,\n",
       " 200,\n",
       " 200,\n",
       " 200,\n",
       " 200,\n",
       " 200,\n",
       " 200,\n",
       " 200,\n",
       " 200,\n",
       " 200,\n",
       " 200,\n",
       " 200,\n",
       " 200,\n",
       " 200,\n",
       " 200,\n",
       " 200,\n",
       " 200,\n",
       " 200,\n",
       " 200,\n",
       " 200,\n",
       " 200,\n",
       " 200,\n",
       " 200,\n",
       " 200,\n",
       " 200,\n",
       " 200,\n",
       " 200,\n",
       " 200,\n",
       " 200,\n",
       " 200,\n",
       " 200,\n",
       " 200,\n",
       " 200,\n",
       " 200,\n",
       " 200,\n",
       " 200,\n",
       " 200,\n",
       " 200,\n",
       " 200,\n",
       " 200,\n",
       " 200,\n",
       " 200,\n",
       " 200,\n",
       " 200,\n",
       " 200,\n",
       " 200,\n",
       " 200,\n",
       " 200,\n",
       " 200,\n",
       " 200,\n",
       " 200,\n",
       " 200,\n",
       " 200,\n",
       " 200,\n",
       " 200,\n",
       " 200,\n",
       " 200,\n",
       " 200,\n",
       " 200,\n",
       " 200,\n",
       " 200,\n",
       " 200,\n",
       " 200,\n",
       " 200,\n",
       " 200,\n",
       " 200,\n",
       " 200,\n",
       " 200,\n",
       " 200,\n",
       " 200,\n",
       " 200,\n",
       " 200,\n",
       " 200,\n",
       " 200,\n",
       " 200,\n",
       " 200,\n",
       " 200,\n",
       " 200,\n",
       " 200,\n",
       " 200,\n",
       " 200,\n",
       " 200,\n",
       " 200,\n",
       " 200,\n",
       " 200,\n",
       " 200,\n",
       " 200,\n",
       " 200,\n",
       " 200,\n",
       " 200,\n",
       " 200,\n",
       " 200,\n",
       " 200,\n",
       " 200,\n",
       " 200,\n",
       " 200,\n",
       " 200,\n",
       " 200,\n",
       " 200,\n",
       " 200,\n",
       " 200,\n",
       " 200,\n",
       " 200,\n",
       " 200,\n",
       " 200,\n",
       " 200,\n",
       " 200,\n",
       " 200,\n",
       " 200,\n",
       " 200,\n",
       " 200,\n",
       " 200,\n",
       " 200,\n",
       " 200,\n",
       " 200,\n",
       " 200,\n",
       " 200,\n",
       " 200,\n",
       " 200,\n",
       " 200,\n",
       " 200,\n",
       " 200,\n",
       " 200,\n",
       " 200,\n",
       " 200,\n",
       " 200,\n",
       " 200,\n",
       " 200,\n",
       " 200,\n",
       " 200,\n",
       " 200,\n",
       " 200,\n",
       " 200,\n",
       " 200,\n",
       " 200,\n",
       " 200,\n",
       " 200,\n",
       " 200,\n",
       " 200,\n",
       " 200,\n",
       " 200,\n",
       " 200,\n",
       " 200,\n",
       " 200,\n",
       " 200,\n",
       " 200,\n",
       " 200,\n",
       " 200,\n",
       " 200,\n",
       " 200,\n",
       " 200,\n",
       " 200,\n",
       " 200,\n",
       " 200,\n",
       " 200,\n",
       " 200,\n",
       " 200,\n",
       " 200,\n",
       " 200,\n",
       " 200,\n",
       " 200,\n",
       " 200,\n",
       " 200,\n",
       " 200,\n",
       " 200,\n",
       " 200,\n",
       " 200,\n",
       " 200,\n",
       " 200,\n",
       " 200,\n",
       " 200,\n",
       " 200,\n",
       " 200,\n",
       " 200,\n",
       " 200,\n",
       " 200,\n",
       " 200,\n",
       " 200,\n",
       " 200,\n",
       " 200,\n",
       " 200,\n",
       " 200,\n",
       " 200,\n",
       " 200,\n",
       " 200,\n",
       " 200,\n",
       " 200,\n",
       " 200,\n",
       " 200,\n",
       " 200,\n",
       " 200,\n",
       " 200,\n",
       " 200,\n",
       " 200,\n",
       " 200,\n",
       " 200,\n",
       " 200,\n",
       " 200,\n",
       " 200,\n",
       " 200,\n",
       " 200,\n",
       " 200,\n",
       " 200,\n",
       " 200,\n",
       " 200,\n",
       " 200,\n",
       " 200,\n",
       " 200,\n",
       " 200,\n",
       " 200,\n",
       " 200,\n",
       " 200,\n",
       " 200,\n",
       " 200,\n",
       " 200,\n",
       " 200,\n",
       " 200,\n",
       " 200,\n",
       " 200,\n",
       " 200,\n",
       " 200,\n",
       " 200,\n",
       " 200,\n",
       " 200,\n",
       " 200,\n",
       " 200,\n",
       " 200,\n",
       " 200,\n",
       " 200,\n",
       " 200,\n",
       " 200,\n",
       " 200,\n",
       " 200,\n",
       " 200,\n",
       " 200,\n",
       " 200,\n",
       " 200,\n",
       " 200,\n",
       " 200,\n",
       " 200,\n",
       " 200,\n",
       " 200,\n",
       " 200,\n",
       " 200,\n",
       " 200,\n",
       " 200,\n",
       " 200,\n",
       " 200,\n",
       " 200,\n",
       " 200,\n",
       " 200,\n",
       " 200,\n",
       " 200,\n",
       " 200,\n",
       " 200,\n",
       " 200,\n",
       " 200,\n",
       " 200,\n",
       " 200,\n",
       " 200,\n",
       " 200,\n",
       " 200,\n",
       " 200,\n",
       " 200,\n",
       " 200,\n",
       " 200,\n",
       " 200,\n",
       " 200,\n",
       " 200,\n",
       " 200,\n",
       " 200,\n",
       " 200,\n",
       " 200,\n",
       " 200,\n",
       " 200,\n",
       " 200,\n",
       " 200,\n",
       " 200,\n",
       " 200,\n",
       " 200,\n",
       " 200,\n",
       " 200,\n",
       " 200,\n",
       " 200,\n",
       " 200,\n",
       " 200,\n",
       " 200,\n",
       " 200,\n",
       " 200,\n",
       " 200,\n",
       " 200,\n",
       " 200,\n",
       " 200,\n",
       " 200,\n",
       " 200,\n",
       " 200,\n",
       " 200,\n",
       " 200,\n",
       " 200,\n",
       " 200,\n",
       " 200,\n",
       " 200,\n",
       " 200,\n",
       " 200,\n",
       " 200,\n",
       " 200,\n",
       " 200,\n",
       " 200,\n",
       " 200,\n",
       " 200,\n",
       " 200,\n",
       " 200,\n",
       " 200,\n",
       " 200,\n",
       " 200,\n",
       " 200,\n",
       " 200,\n",
       " 200,\n",
       " 200,\n",
       " 200,\n",
       " 200,\n",
       " 200,\n",
       " 200,\n",
       " 200,\n",
       " 200,\n",
       " 200,\n",
       " 200,\n",
       " 200,\n",
       " 200,\n",
       " 200,\n",
       " 200,\n",
       " 200,\n",
       " 200,\n",
       " 200,\n",
       " 200,\n",
       " 200,\n",
       " 200,\n",
       " 200,\n",
       " 200,\n",
       " 200,\n",
       " 200,\n",
       " 200,\n",
       " 200,\n",
       " 200,\n",
       " 200,\n",
       " 200,\n",
       " 200,\n",
       " 200,\n",
       " 200,\n",
       " 200,\n",
       " 200,\n",
       " 200,\n",
       " 200,\n",
       " 200,\n",
       " 200,\n",
       " 200,\n",
       " 200,\n",
       " 200,\n",
       " 200,\n",
       " 200,\n",
       " 200,\n",
       " 200,\n",
       " 200,\n",
       " 200,\n",
       " 200,\n",
       " 200,\n",
       " 200,\n",
       " 200,\n",
       " 200,\n",
       " 200,\n",
       " 200,\n",
       " 200,\n",
       " 200,\n",
       " 200,\n",
       " 200,\n",
       " 200,\n",
       " 200,\n",
       " 200,\n",
       " 200,\n",
       " 200,\n",
       " 200,\n",
       " 200,\n",
       " 200,\n",
       " 200,\n",
       " 200,\n",
       " 200,\n",
       " 200,\n",
       " 200,\n",
       " 200,\n",
       " 200,\n",
       " 200,\n",
       " 200,\n",
       " 200,\n",
       " 200,\n",
       " 200,\n",
       " 200,\n",
       " 200,\n",
       " 200,\n",
       " 200,\n",
       " 200,\n",
       " 200,\n",
       " 200,\n",
       " 200,\n",
       " 200,\n",
       " 200,\n",
       " 200,\n",
       " 200,\n",
       " 200,\n",
       " 200,\n",
       " 200,\n",
       " 200,\n",
       " 200,\n",
       " 200,\n",
       " 200,\n",
       " 200,\n",
       " 200,\n",
       " 200,\n",
       " 200,\n",
       " 200,\n",
       " 200,\n",
       " 200,\n",
       " 200,\n",
       " 200,\n",
       " 200,\n",
       " 200,\n",
       " 200,\n",
       " 200,\n",
       " 200,\n",
       " 200,\n",
       " 200,\n",
       " 200,\n",
       " 200,\n",
       " 200,\n",
       " 200,\n",
       " 200,\n",
       " 200,\n",
       " 200,\n",
       " 200,\n",
       " 200,\n",
       " 200,\n",
       " 200,\n",
       " 200,\n",
       " 200,\n",
       " 200,\n",
       " 200,\n",
       " 200,\n",
       " 200,\n",
       " 200,\n",
       " 200,\n",
       " 200,\n",
       " 200,\n",
       " 200,\n",
       " 200,\n",
       " 200,\n",
       " 200,\n",
       " 200,\n",
       " 200,\n",
       " 200,\n",
       " 200,\n",
       " 200,\n",
       " 200,\n",
       " 200,\n",
       " 200,\n",
       " 200,\n",
       " 200,\n",
       " 200,\n",
       " 200,\n",
       " 200,\n",
       " 200,\n",
       " 200,\n",
       " 200,\n",
       " 200,\n",
       " 200,\n",
       " 200,\n",
       " 200,\n",
       " 200,\n",
       " 200,\n",
       " 200,\n",
       " 200,\n",
       " 200,\n",
       " 200,\n",
       " 200,\n",
       " 200,\n",
       " 200,\n",
       " 200,\n",
       " 200,\n",
       " 200,\n",
       " 200,\n",
       " 200,\n",
       " 200,\n",
       " 200,\n",
       " 200,\n",
       " 200,\n",
       " 200,\n",
       " 200,\n",
       " 200,\n",
       " 200,\n",
       " 200,\n",
       " 200,\n",
       " 200,\n",
       " 200,\n",
       " 200,\n",
       " 200,\n",
       " 200,\n",
       " 200,\n",
       " 200,\n",
       " 200,\n",
       " 200,\n",
       " 200,\n",
       " 200,\n",
       " 200,\n",
       " 200,\n",
       " 200,\n",
       " 200,\n",
       " 200,\n",
       " 200,\n",
       " 200,\n",
       " 200,\n",
       " 200,\n",
       " 200,\n",
       " 200,\n",
       " 200,\n",
       " 200,\n",
       " 200,\n",
       " 200,\n",
       " 200,\n",
       " 200,\n",
       " 200,\n",
       " 200,\n",
       " 200,\n",
       " 200,\n",
       " 200,\n",
       " 200,\n",
       " 200,\n",
       " 200,\n",
       " 200,\n",
       " 200,\n",
       " 200,\n",
       " 200,\n",
       " 200,\n",
       " 200,\n",
       " 200,\n",
       " 200,\n",
       " 200,\n",
       " 200,\n",
       " 200,\n",
       " 200,\n",
       " 200,\n",
       " 200,\n",
       " 200,\n",
       " 200,\n",
       " 200,\n",
       " 200,\n",
       " 200,\n",
       " 200,\n",
       " 200,\n",
       " 200,\n",
       " 200,\n",
       " 200,\n",
       " 200,\n",
       " 200,\n",
       " 200,\n",
       " 200,\n",
       " 200,\n",
       " 200,\n",
       " 200,\n",
       " 200,\n",
       " 200,\n",
       " 200,\n",
       " 200,\n",
       " 200,\n",
       " 200,\n",
       " 200,\n",
       " 200,\n",
       " 200,\n",
       " 200,\n",
       " 200,\n",
       " 200,\n",
       " ...]"
      ]
     },
     "execution_count": 76,
     "metadata": {},
     "output_type": "execute_result"
    }
   ],
   "source": [
    "validity_check = check_urls(urls, timeout=2)\n",
    "[check[\"status_code\"] for check in validity_check]"
   ]
  },
  {
   "cell_type": "code",
   "execution_count": 77,
   "id": "82f04ee1-9ef5-4037-bb77-829c484206d9",
   "metadata": {},
   "outputs": [
    {
     "data": {
      "text/plain": [
       "array([], dtype=int64)"
      ]
     },
     "execution_count": 77,
     "metadata": {},
     "output_type": "execute_result"
    }
   ],
   "source": [
    "import numpy as np\n",
    "none_indices = np.where(np.array([check[\"status_code\"] for check in validity_check])==None)[0]\n",
    "none_indices"
   ]
  },
  {
   "cell_type": "code",
   "execution_count": 78,
   "id": "39d465ad-1488-4ef1-99ed-d9f2533b5f76",
   "metadata": {},
   "outputs": [
    {
     "data": {
      "text/plain": [
       "[]"
      ]
     },
     "execution_count": 78,
     "metadata": {},
     "output_type": "execute_result"
    }
   ],
   "source": [
    "none_urls = [param_tuples[idx] for idx in none_indices]\n",
    "none_urls"
   ]
  },
  {
   "cell_type": "markdown",
   "id": "41eda1e6-8eb7-4857-8d6e-d35d4747621e",
   "metadata": {},
   "source": [
    "## Reference period URL's"
   ]
  },
  {
   "cell_type": "code",
   "execution_count": 61,
   "id": "1b672d42-582a-4db5-86a2-ec58f9fa1c60",
   "metadata": {},
   "outputs": [],
   "source": [
    "ref_period_urls = []\n",
    "for var_name in chelsa_ref_period_param[\"var\"]:\n",
    "    ref_period_urls.append(s3.format_url_clim_ref_period(var_name))\n",
    "validity_check_rp = check_urls(ref_period_urls, timeout=2)"
   ]
  },
  {
   "cell_type": "code",
   "execution_count": 64,
   "id": "516a01b3-c4a8-4635-b0ab-fdb2dcc8f152",
   "metadata": {},
   "outputs": [
    {
     "data": {
      "text/plain": [
       "array([], dtype=int64)"
      ]
     },
     "execution_count": 64,
     "metadata": {},
     "output_type": "execute_result"
    }
   ],
   "source": [
    "none_indices_rp = np.where(np.array([check[\"status_code\"] for check in validity_check_rp])==None)[0]\n",
    "none_indices_rp"
   ]
  },
  {
   "cell_type": "markdown",
   "id": "053599a6-f1de-46e2-8813-d38a85cc6c09",
   "metadata": {},
   "source": [
    "## Reference monthly URL's"
   ]
  },
  {
   "cell_type": "code",
   "execution_count": 65,
   "id": "4794424e-f6dd-467f-84c2-f08b779e8862",
   "metadata": {},
   "outputs": [
    {
     "data": {
      "text/plain": [
       "array([], dtype=int64)"
      ]
     },
     "execution_count": 65,
     "metadata": {},
     "output_type": "execute_result"
    }
   ],
   "source": [
    "rm_urls = []\n",
    "param_tuples_rm = []\n",
    "for var_name in chelsa_ref_month_param[\"var\"]:\n",
    "    for month in chelsa_ref_month_param[\"months\"]:  \n",
    "        rm_urls.append(s3.format_url_clim_ref_monthly(var_name, month))\n",
    "        param_tuples.append((var_name, month))\n",
    "validity_check_rm = check_urls(rm_urls, timeout=2)\n",
    "none_indices_rm = np.where(np.array([check[\"status_code\"] for check in validity_check_rm])==None)[0]\n",
    "none_indices_rm"
   ]
  },
  {
   "cell_type": "markdown",
   "id": "885ff31f-ffd6-424d-89ca-ad916a932da8",
   "metadata": {},
   "source": [
    "## Simulation period URL's "
   ]
  },
  {
   "cell_type": "code",
   "execution_count": 67,
   "id": "52726017-bec7-46e7-9738-28b38897a949",
   "metadata": {},
   "outputs": [
    {
     "data": {
      "text/plain": [
       "array([], dtype=int64)"
      ]
     },
     "execution_count": 67,
     "metadata": {},
     "output_type": "execute_result"
    }
   ],
   "source": [
    "sp_urls = []\n",
    "param_tuples_sp = []\n",
    "for var_name in chelsa_sim_period_param[\"var\"]:\n",
    "    for year_range in chelsa_sim_period_param[\"year_ranges\"]:\n",
    "        for model_name in chelsa_sim_period_param[\"model_names\"]:\n",
    "            for scenario in chelsa_sim_period_param[\"scenarios\"]:\n",
    "                sp_urls.append(s3.format_url_clim_sim_period(var_name, year_range, model_name, scenario))\n",
    "                param_tuples.append((var_name, year_range, model_name, scenario))\n",
    "validity_check_sp = check_urls(sp_urls, timeout=2)\n",
    "none_indices_sp = np.where(np.array([check[\"status_code\"] for check in validity_check_sp])==None)[0]\n",
    "none_indices_sp"
   ]
  },
  {
   "cell_type": "markdown",
   "id": "19c5d237-eec6-4ac7-ac4c-7c7034877be0",
   "metadata": {},
   "source": [
    "## Simulation monthly URL's"
   ]
  },
  {
   "cell_type": "code",
   "execution_count": 69,
   "id": "e81cc1a6-97ce-4815-99a6-d8de8b1a885c",
   "metadata": {},
   "outputs": [
    {
     "data": {
      "text/plain": [
       "array([], dtype=int64)"
      ]
     },
     "execution_count": 69,
     "metadata": {},
     "output_type": "execute_result"
    }
   ],
   "source": [
    "sm_urls = []\n",
    "param_tuples_sm = []\n",
    "for var_name in chelsa_sim_month_param[\"var\"]:\n",
    "    for year_range in chelsa_sim_period_param[\"year_ranges\"]:\n",
    "        for month in chelsa_sim_month_param[\"months\"]:  \n",
    "            for model_name in chelsa_sim_period_param[\"model_names\"]:\n",
    "                for scenario in chelsa_sim_period_param[\"scenarios\"]:\n",
    "                    sm_urls.append(s3.format_url_clim_sim_month(var_name, year_range,month, model_name, scenario))\n",
    "                    param_tuples.append((var_name, year_range,month, model_name, scenario))\n",
    "validity_check_sm = check_urls(sm_urls, timeout=2)\n",
    "none_indices_sm = np.where(np.array([check[\"status_code\"] for check in validity_check_sm])==None)[0]\n",
    "none_indices_sm"
   ]
  },
  {
   "cell_type": "markdown",
   "id": "b4c7c721-d2bb-4447-a593-89a0241031c5",
   "metadata": {},
   "source": [
    "## Sampling submodule"
   ]
  },
  {
   "cell_type": "code",
   "execution_count": 82,
   "id": "8ff0c5fb-791a-44bc-bd20-04af0d990bc2",
   "metadata": {},
   "outputs": [],
   "source": [
    "from datasource.chelsa import sampling"
   ]
  },
  {
   "cell_type": "code",
   "execution_count": 90,
   "id": "1cc2042c-7e87-417f-b9e6-5dd5e843ecbd",
   "metadata": {},
   "outputs": [],
   "source": [
    "month_data = [sampling.read_bounding_box(url, chelsa_month_param[\"bbox\"]) for url in urls]"
   ]
  },
  {
   "cell_type": "code",
   "execution_count": 97,
   "id": "35336a11-320f-4ce4-8425-ba85e745e974",
   "metadata": {},
   "outputs": [
    {
     "name": "stdout",
     "output_type": "stream",
     "text": [
      "The first array of the tuples are non NaN: True\n",
      "The second array of the tuples are non NaN: True\n",
      "The third array of the tuples are non NaN: True\n"
     ]
    }
   ],
   "source": [
    "print(f\"The first array of the tuples are non NaN: {all(np.all(~np.isnan(arr_tuple[0])) for arr_tuple in month_data)}\")\n",
    "print(f\"The second array of the tuples are non NaN: {all(np.all(~np.isnan(arr_tuple[1])) for arr_tuple in month_data)}\")\n",
    "print(f\"The third array of the tuples are non NaN: {all(np.all(~np.isnan(arr_tuple[2])) for arr_tuple in month_data)}\")"
   ]
  },
  {
   "cell_type": "code",
   "execution_count": 91,
   "id": "8da553e8-946a-4046-bfe0-a7917170b5dc",
   "metadata": {},
   "outputs": [],
   "source": [
    "rp_data = [sampling.read_bounding_box(url, chelsa_ref_period_param[\"bbox\"]) for url in ref_period_urls]"
   ]
  },
  {
   "cell_type": "code",
   "execution_count": 98,
   "id": "d8ca22ad-56a9-4575-916e-7a48b57dc628",
   "metadata": {},
   "outputs": [
    {
     "name": "stdout",
     "output_type": "stream",
     "text": [
      "The first array of the tuples are non NaN: True\n",
      "The second array of the tuples are non NaN: True\n",
      "The third array of the tuples are non NaN: True\n"
     ]
    }
   ],
   "source": [
    "print(f\"The first array of the tuples are non NaN: {all(np.all(~np.isnan(arr_tuple[0])) for arr_tuple in rp_data)}\")\n",
    "print(f\"The second array of the tuples are non NaN: {all(np.all(~np.isnan(arr_tuple[1])) for arr_tuple in rp_data)}\")\n",
    "print(f\"The third array of the tuples are non NaN: {all(np.all(~np.isnan(arr_tuple[2])) for arr_tuple in rp_data)}\")"
   ]
  },
  {
   "cell_type": "code",
   "execution_count": 92,
   "id": "5a968db8-8c79-45a3-a658-c710b32ae48c",
   "metadata": {},
   "outputs": [],
   "source": [
    "rm_data = [sampling.read_bounding_box(url, chelsa_ref_month_param[\"bbox\"]) for url in rm_urls]"
   ]
  },
  {
   "cell_type": "code",
   "execution_count": 99,
   "id": "80c0b053-3caa-4059-9e64-6927a57e65a7",
   "metadata": {},
   "outputs": [
    {
     "name": "stdout",
     "output_type": "stream",
     "text": [
      "The first array of the tuples are non NaN: True\n",
      "The second array of the tuples are non NaN: True\n",
      "The third array of the tuples are non NaN: True\n"
     ]
    }
   ],
   "source": [
    "print(f\"The first array of the tuples are non NaN: {all(np.all(~np.isnan(arr_tuple[0])) for arr_tuple in rm_data)}\")\n",
    "print(f\"The second array of the tuples are non NaN: {all(np.all(~np.isnan(arr_tuple[1])) for arr_tuple in rm_data)}\")\n",
    "print(f\"The third array of the tuples are non NaN: {all(np.all(~np.isnan(arr_tuple[2])) for arr_tuple in rm_data)}\")"
   ]
  },
  {
   "cell_type": "code",
   "execution_count": 93,
   "id": "755f34fd-704c-477e-ade1-c00a5ea39c0c",
   "metadata": {},
   "outputs": [],
   "source": [
    "sp_data = [sampling.read_bounding_box(url, chelsa_sim_period_param[\"bbox\"]) for url in sp_urls]"
   ]
  },
  {
   "cell_type": "code",
   "execution_count": 100,
   "id": "8c47c19a-4ac3-4f37-aff3-d960f6d73cfc",
   "metadata": {},
   "outputs": [
    {
     "name": "stdout",
     "output_type": "stream",
     "text": [
      "The first array of the tuples are non NaN: True\n",
      "The second array of the tuples are non NaN: True\n",
      "The third array of the tuples are non NaN: True\n"
     ]
    }
   ],
   "source": [
    "print(f\"The first array of the tuples are non NaN: {all(np.all(~np.isnan(arr_tuple[0])) for arr_tuple in sp_data)}\")\n",
    "print(f\"The second array of the tuples are non NaN: {all(np.all(~np.isnan(arr_tuple[1])) for arr_tuple in sp_data)}\")\n",
    "print(f\"The third array of the tuples are non NaN: {all(np.all(~np.isnan(arr_tuple[2])) for arr_tuple in sp_data)}\")"
   ]
  },
  {
   "cell_type": "code",
   "execution_count": 94,
   "id": "243b6563-fca9-4246-aaa5-0091afbaf6bb",
   "metadata": {},
   "outputs": [],
   "source": [
    "sm_data = [sampling.read_bounding_box(url, chelsa_sim_month_param[\"bbox\"]) for url in sm_urls]"
   ]
  },
  {
   "cell_type": "code",
   "execution_count": 101,
   "id": "22c6e497-3363-490b-9bc7-6cfcafdeed61",
   "metadata": {},
   "outputs": [
    {
     "name": "stdout",
     "output_type": "stream",
     "text": [
      "The first array of the tuples are non NaN: True\n",
      "The second array of the tuples are non NaN: True\n",
      "The third array of the tuples are non NaN: True\n"
     ]
    }
   ],
   "source": [
    "print(f\"The first array of the tuples are non NaN: {all(np.all(~np.isnan(arr_tuple[0])) for arr_tuple in sm_data)}\")\n",
    "print(f\"The second array of the tuples are non NaN: {all(np.all(~np.isnan(arr_tuple[1])) for arr_tuple in sm_data)}\")\n",
    "print(f\"The third array of the tuples are non NaN: {all(np.all(~np.isnan(arr_tuple[2])) for arr_tuple in sm_data)}\")"
   ]
  },
  {
   "cell_type": "markdown",
   "id": "321dbfe9-d761-4199-b019-26da832898a1",
   "metadata": {},
   "source": [
    "## Layer submodule"
   ]
  },
  {
   "cell_type": "code",
   "execution_count": 11,
   "id": "e1299a34-c86b-4e98-ba1f-0ca20f3479e1",
   "metadata": {},
   "outputs": [],
   "source": [
    "from datasource.chelsa import layer"
   ]
  },
  {
   "cell_type": "code",
   "execution_count": 12,
   "id": "3cb880c1-5063-4b6b-9e93-333e20efd3ea",
   "metadata": {},
   "outputs": [
    {
     "name": "stdout",
     "output_type": "stream",
     "text": [
      "-----Retrieving monthly CHELSA data for variable 'clt'-----\n"
     ]
    },
    {
     "name": "stderr",
     "output_type": "stream",
     "text": [
      "Processing: 100%|███████████████████████████████████████████████████████████████████████████████████████████████████████████| 479/479 [04:21<00:00,  1.83item/s]\n"
     ]
    },
    {
     "name": "stdout",
     "output_type": "stream",
     "text": [
      "-----Retrieving monthly CHELSA data for variable 'cmi'-----\n"
     ]
    },
    {
     "name": "stderr",
     "output_type": "stream",
     "text": [
      "Processing: 100%|███████████████████████████████████████████████████████████████████████████████████████████████████████████| 479/479 [04:48<00:00,  1.66item/s]\n"
     ]
    },
    {
     "name": "stdout",
     "output_type": "stream",
     "text": [
      "-----Retrieving monthly CHELSA data for variable 'hurs'-----\n"
     ]
    },
    {
     "name": "stderr",
     "output_type": "stream",
     "text": [
      "Processing: 100%|███████████████████████████████████████████████████████████████████████████████████████████████████████████| 479/479 [04:44<00:00,  1.69item/s]\n"
     ]
    },
    {
     "name": "stdout",
     "output_type": "stream",
     "text": [
      "-----Retrieving monthly CHELSA data for variable 'pet'-----\n"
     ]
    },
    {
     "name": "stderr",
     "output_type": "stream",
     "text": [
      "Processing: 100%|███████████████████████████████████████████████████████████████████████████████████████████████████████████| 479/479 [04:49<00:00,  1.65item/s]\n"
     ]
    },
    {
     "name": "stdout",
     "output_type": "stream",
     "text": [
      "-----Retrieving monthly CHELSA data for variable 'pr'-----\n"
     ]
    },
    {
     "name": "stderr",
     "output_type": "stream",
     "text": [
      "Processing: 100%|███████████████████████████████████████████████████████████████████████████████████████████████████████████| 479/479 [05:00<00:00,  1.59item/s]\n"
     ]
    },
    {
     "name": "stdout",
     "output_type": "stream",
     "text": [
      "-----Retrieving monthly CHELSA data for variable 'rsds'-----\n"
     ]
    },
    {
     "name": "stderr",
     "output_type": "stream",
     "text": [
      "Processing: 100%|███████████████████████████████████████████████████████████████████████████████████████████████████████████| 479/479 [04:42<00:00,  1.69item/s]\n"
     ]
    },
    {
     "name": "stdout",
     "output_type": "stream",
     "text": [
      "-----Retrieving monthly CHELSA data for variable 'sfcWind'-----\n"
     ]
    },
    {
     "name": "stderr",
     "output_type": "stream",
     "text": [
      "Processing: 100%|███████████████████████████████████████████████████████████████████████████████████████████████████████████| 479/479 [04:48<00:00,  1.66item/s]\n"
     ]
    },
    {
     "name": "stdout",
     "output_type": "stream",
     "text": [
      "-----Retrieving monthly CHELSA data for variable 'tas'-----\n"
     ]
    },
    {
     "name": "stderr",
     "output_type": "stream",
     "text": [
      "Processing: 100%|███████████████████████████████████████████████████████████████████████████████████████████████████████████| 479/479 [04:32<00:00,  1.76item/s]\n"
     ]
    },
    {
     "name": "stdout",
     "output_type": "stream",
     "text": [
      "-----Retrieving monthly CHELSA data for variable 'tasmax'-----\n"
     ]
    },
    {
     "name": "stderr",
     "output_type": "stream",
     "text": [
      "Processing: 100%|███████████████████████████████████████████████████████████████████████████████████████████████████████████| 479/479 [04:38<00:00,  1.72item/s]\n"
     ]
    },
    {
     "name": "stdout",
     "output_type": "stream",
     "text": [
      "-----Retrieving monthly CHELSA data for variable 'tasmin'-----\n"
     ]
    },
    {
     "name": "stderr",
     "output_type": "stream",
     "text": [
      "Processing: 100%|███████████████████████████████████████████████████████████████████████████████████████████████████████████| 479/479 [04:35<00:00,  1.74item/s]\n"
     ]
    },
    {
     "name": "stdout",
     "output_type": "stream",
     "text": [
      "-----Retrieving monthly CHELSA data for variable 'vpd'-----\n"
     ]
    },
    {
     "name": "stderr",
     "output_type": "stream",
     "text": [
      "Processing: 100%|███████████████████████████████████████████████████████████████████████████████████████████████████████████| 479/479 [04:55<00:00,  1.62item/s]\n"
     ]
    }
   ],
   "source": [
    "m_vars = [] \n",
    "m_das = []\n",
    "\n",
    "for var in chelsa_month_param[\"var\"]:\n",
    "    var, da = layer.chelsa_month_ts(var, \n",
    "                                    chelsa_month_param[\"bbox\"], \n",
    "                                    chelsa_month_param[\"start_month\"], \n",
    "                                    chelsa_month_param[\"end_month\"], \n",
    "                                    chelsa_month_param[\"start_year\"], \n",
    "                                    chelsa_month_param[\"end_year\"])\n",
    "    m_vars.append(var)\n",
    "    m_das.append(da)"
   ]
  },
  {
   "cell_type": "code",
   "execution_count": 13,
   "id": "9c7a5ac9-fa87-4032-84a6-08d1b494fec7",
   "metadata": {},
   "outputs": [
    {
     "name": "stdout",
     "output_type": "stream",
     "text": [
      "-----Retrieving Reference Climatology CHELSA data for variable 'ai' in reference period 1981-2010-----\n",
      "Complete\n",
      "-----Retrieving Reference Climatology CHELSA data for variable 'bio10' in reference period 1981-2010-----\n",
      "Complete\n",
      "-----Retrieving Reference Climatology CHELSA data for variable 'bio11' in reference period 1981-2010-----\n",
      "Complete\n",
      "-----Retrieving Reference Climatology CHELSA data for variable 'bio12' in reference period 1981-2010-----\n",
      "Complete\n",
      "-----Retrieving Reference Climatology CHELSA data for variable 'bio13' in reference period 1981-2010-----\n",
      "Complete\n",
      "-----Retrieving Reference Climatology CHELSA data for variable 'bio14' in reference period 1981-2010-----\n",
      "Complete\n",
      "-----Retrieving Reference Climatology CHELSA data for variable 'bio15' in reference period 1981-2010-----\n",
      "Complete\n",
      "-----Retrieving Reference Climatology CHELSA data for variable 'bio16' in reference period 1981-2010-----\n",
      "Complete\n",
      "-----Retrieving Reference Climatology CHELSA data for variable 'bio17' in reference period 1981-2010-----\n",
      "Complete\n",
      "-----Retrieving Reference Climatology CHELSA data for variable 'bio18' in reference period 1981-2010-----\n",
      "Complete\n",
      "-----Retrieving Reference Climatology CHELSA data for variable 'bio19' in reference period 1981-2010-----\n",
      "Complete\n",
      "-----Retrieving Reference Climatology CHELSA data for variable 'bio1' in reference period 1981-2010-----\n",
      "Complete\n",
      "-----Retrieving Reference Climatology CHELSA data for variable 'bio2' in reference period 1981-2010-----\n",
      "Complete\n",
      "-----Retrieving Reference Climatology CHELSA data for variable 'bio3' in reference period 1981-2010-----\n",
      "Complete\n",
      "-----Retrieving Reference Climatology CHELSA data for variable 'bio4' in reference period 1981-2010-----\n",
      "Complete\n",
      "-----Retrieving Reference Climatology CHELSA data for variable 'bio5' in reference period 1981-2010-----\n",
      "Complete\n",
      "-----Retrieving Reference Climatology CHELSA data for variable 'bio6' in reference period 1981-2010-----\n",
      "Complete\n",
      "-----Retrieving Reference Climatology CHELSA data for variable 'bio7' in reference period 1981-2010-----\n",
      "Complete\n",
      "-----Retrieving Reference Climatology CHELSA data for variable 'bio8' in reference period 1981-2010-----\n",
      "Complete\n",
      "-----Retrieving Reference Climatology CHELSA data for variable 'bio9' in reference period 1981-2010-----\n",
      "Complete\n",
      "-----Retrieving Reference Climatology CHELSA data for variable 'clt_max' in reference period 1981-2010-----\n",
      "Complete\n",
      "-----Retrieving Reference Climatology CHELSA data for variable 'clt_mean' in reference period 1981-2010-----\n",
      "Complete\n",
      "-----Retrieving Reference Climatology CHELSA data for variable 'clt_min' in reference period 1981-2010-----\n",
      "Complete\n",
      "-----Retrieving Reference Climatology CHELSA data for variable 'clt_range' in reference period 1981-2010-----\n",
      "Complete\n",
      "-----Retrieving Reference Climatology CHELSA data for variable 'cmi_max' in reference period 1981-2010-----\n",
      "Complete\n",
      "-----Retrieving Reference Climatology CHELSA data for variable 'cmi_mean' in reference period 1981-2010-----\n",
      "Complete\n",
      "-----Retrieving Reference Climatology CHELSA data for variable 'cmi_min' in reference period 1981-2010-----\n",
      "Complete\n",
      "-----Retrieving Reference Climatology CHELSA data for variable 'cmi_range' in reference period 1981-2010-----\n",
      "Complete\n",
      "-----Retrieving Reference Climatology CHELSA data for variable 'fcf' in reference period 1981-2010-----\n",
      "Complete\n",
      "-----Retrieving Reference Climatology CHELSA data for variable 'fgd' in reference period 1981-2010-----\n",
      "Complete\n",
      "-----Retrieving Reference Climatology CHELSA data for variable 'gdd0' in reference period 1981-2010-----\n",
      "Complete\n",
      "-----Retrieving Reference Climatology CHELSA data for variable 'gdd10' in reference period 1981-2010-----\n",
      "Complete\n",
      "-----Retrieving Reference Climatology CHELSA data for variable 'gdd5' in reference period 1981-2010-----\n",
      "Complete\n",
      "-----Retrieving Reference Climatology CHELSA data for variable 'gddlgd0' in reference period 1981-2010-----\n",
      "Complete\n",
      "-----Retrieving Reference Climatology CHELSA data for variable 'gddlgd10' in reference period 1981-2010-----\n",
      "Complete\n",
      "-----Retrieving Reference Climatology CHELSA data for variable 'gddlgd5' in reference period 1981-2010-----\n",
      "Complete\n",
      "-----Retrieving Reference Climatology CHELSA data for variable 'gdgfgd0' in reference period 1981-2010-----\n",
      "Complete\n",
      "-----Retrieving Reference Climatology CHELSA data for variable 'gdgfgd10' in reference period 1981-2010-----\n",
      "Complete\n",
      "-----Retrieving Reference Climatology CHELSA data for variable 'gdgfgd5' in reference period 1981-2010-----\n",
      "Complete\n",
      "-----Retrieving Reference Climatology CHELSA data for variable 'gsl' in reference period 1981-2010-----\n",
      "Complete\n",
      "-----Retrieving Reference Climatology CHELSA data for variable 'gsp' in reference period 1981-2010-----\n",
      "Complete\n",
      "-----Retrieving Reference Climatology CHELSA data for variable 'gst' in reference period 1981-2010-----\n",
      "Complete\n",
      "-----Retrieving Reference Climatology CHELSA data for variable 'hurs_max' in reference period 1981-2010-----\n",
      "Complete\n",
      "-----Retrieving Reference Climatology CHELSA data for variable 'hurs_mean' in reference period 1981-2010-----\n",
      "Complete\n",
      "-----Retrieving Reference Climatology CHELSA data for variable 'hurs_min' in reference period 1981-2010-----\n",
      "Complete\n",
      "-----Retrieving Reference Climatology CHELSA data for variable 'hurs_range' in reference period 1981-2010-----\n",
      "Complete\n",
      "-----Retrieving Reference Climatology CHELSA data for variable 'kg0' in reference period 1981-2010-----\n",
      "Complete\n",
      "-----Retrieving Reference Climatology CHELSA data for variable 'kg1' in reference period 1981-2010-----\n",
      "Complete\n",
      "-----Retrieving Reference Climatology CHELSA data for variable 'kg2' in reference period 1981-2010-----\n",
      "Complete\n",
      "-----Retrieving Reference Climatology CHELSA data for variable 'kg3' in reference period 1981-2010-----\n",
      "Complete\n",
      "-----Retrieving Reference Climatology CHELSA data for variable 'kg4' in reference period 1981-2010-----\n",
      "Complete\n",
      "-----Retrieving Reference Climatology CHELSA data for variable 'kg5' in reference period 1981-2010-----\n",
      "Complete\n",
      "-----Retrieving Reference Climatology CHELSA data for variable 'lgd' in reference period 1981-2010-----\n",
      "Complete\n",
      "-----Retrieving Reference Climatology CHELSA data for variable 'ngd0' in reference period 1981-2010-----\n",
      "Complete\n",
      "-----Retrieving Reference Climatology CHELSA data for variable 'ngd10' in reference period 1981-2010-----\n",
      "Complete\n",
      "-----Retrieving Reference Climatology CHELSA data for variable 'ngd5' in reference period 1981-2010-----\n",
      "Complete\n",
      "-----Retrieving Reference Climatology CHELSA data for variable 'npp' in reference period 1981-2010-----\n",
      "Complete\n",
      "-----Retrieving Reference Climatology CHELSA data for variable 'pet_penman_max' in reference period 1981-2010-----\n",
      "Complete\n",
      "-----Retrieving Reference Climatology CHELSA data for variable 'pet_penman_mean' in reference period 1981-2010-----\n",
      "Complete\n",
      "-----Retrieving Reference Climatology CHELSA data for variable 'pet_penman_min' in reference period 1981-2010-----\n",
      "Complete\n",
      "-----Retrieving Reference Climatology CHELSA data for variable 'pet_penman_range' in reference period 1981-2010-----\n",
      "Complete\n",
      "-----Retrieving Reference Climatology CHELSA data for variable 'rsds_max' in reference period 1981-2010-----\n",
      "Complete\n",
      "-----Retrieving Reference Climatology CHELSA data for variable 'rsds_min' in reference period 1981-2010-----\n",
      "Complete\n",
      "-----Retrieving Reference Climatology CHELSA data for variable 'rsds_mean' in reference period 1981-2010-----\n",
      "Complete\n",
      "-----Retrieving Reference Climatology CHELSA data for variable 'rsds_range' in reference period 1981-2010-----\n",
      "Complete\n",
      "-----Retrieving Reference Climatology CHELSA data for variable 'scd' in reference period 1981-2010-----\n",
      "Complete\n",
      "-----Retrieving Reference Climatology CHELSA data for variable 'sfcWind_max' in reference period 1981-2010-----\n",
      "Complete\n",
      "-----Retrieving Reference Climatology CHELSA data for variable 'sfcWind_mean' in reference period 1981-2010-----\n",
      "Complete\n",
      "-----Retrieving Reference Climatology CHELSA data for variable 'sfcWind_min' in reference period 1981-2010-----\n",
      "Complete\n",
      "-----Retrieving Reference Climatology CHELSA data for variable 'sfcWind_range' in reference period 1981-2010-----\n",
      "Complete\n",
      "-----Retrieving Reference Climatology CHELSA data for variable 'swb' in reference period 1981-2010-----\n",
      "Complete\n",
      "-----Retrieving Reference Climatology CHELSA data for variable 'swe' in reference period 1981-2010-----\n",
      "Complete\n",
      "-----Retrieving Reference Climatology CHELSA data for variable 'vpd_max' in reference period 1981-2010-----\n",
      "Complete\n",
      "-----Retrieving Reference Climatology CHELSA data for variable 'vpd_mean' in reference period 1981-2010-----\n",
      "Complete\n",
      "-----Retrieving Reference Climatology CHELSA data for variable 'vpd_min' in reference period 1981-2010-----\n",
      "Complete\n",
      "-----Retrieving Reference Climatology CHELSA data for variable 'vpd_range' in reference period 1981-2010-----\n",
      "Complete\n"
     ]
    }
   ],
   "source": [
    "rp_vars = [] \n",
    "rp_das = []\n",
    "\n",
    "for var in chelsa_ref_period_param[\"var\"]:\n",
    "    var, da = layer.chelsa_clim_ref_period(var, \n",
    "                                           chelsa_ref_period_param[\"bbox\"])\n",
    "    rp_vars.append(var)\n",
    "    rp_das.append(da)"
   ]
  },
  {
   "cell_type": "code",
   "execution_count": 14,
   "id": "87e6fba1-b517-4413-9421-3ebc3c75dde1",
   "metadata": {},
   "outputs": [
    {
     "name": "stdout",
     "output_type": "stream",
     "text": [
      "-----Retrieving monthly Reference Climatology CHELSA data for variable 'clt' in reference period 1981-2010-----\n"
     ]
    },
    {
     "name": "stderr",
     "output_type": "stream",
     "text": [
      "Processing: 100%|█████████████████████████████████████████████████████████████████████████████████████████████████████████████| 12/12 [00:06<00:00,  1.87item/s]\n"
     ]
    },
    {
     "name": "stdout",
     "output_type": "stream",
     "text": [
      "-----Retrieving monthly Reference Climatology CHELSA data for variable 'cmi' in reference period 1981-2010-----\n"
     ]
    },
    {
     "name": "stderr",
     "output_type": "stream",
     "text": [
      "Processing: 100%|█████████████████████████████████████████████████████████████████████████████████████████████████████████████| 12/12 [00:06<00:00,  1.74item/s]\n"
     ]
    },
    {
     "name": "stdout",
     "output_type": "stream",
     "text": [
      "-----Retrieving monthly Reference Climatology CHELSA data for variable 'hurs' in reference period 1981-2010-----\n"
     ]
    },
    {
     "name": "stderr",
     "output_type": "stream",
     "text": [
      "Processing: 100%|█████████████████████████████████████████████████████████████████████████████████████████████████████████████| 12/12 [00:07<00:00,  1.58item/s]\n"
     ]
    },
    {
     "name": "stdout",
     "output_type": "stream",
     "text": [
      "-----Retrieving monthly Reference Climatology CHELSA data for variable 'pet' in reference period 1981-2010-----\n"
     ]
    },
    {
     "name": "stderr",
     "output_type": "stream",
     "text": [
      "Processing: 100%|█████████████████████████████████████████████████████████████████████████████████████████████████████████████| 12/12 [00:08<00:00,  1.44item/s]\n"
     ]
    },
    {
     "name": "stdout",
     "output_type": "stream",
     "text": [
      "-----Retrieving monthly Reference Climatology CHELSA data for variable 'pr' in reference period 1981-2010-----\n"
     ]
    },
    {
     "name": "stderr",
     "output_type": "stream",
     "text": [
      "Processing: 100%|█████████████████████████████████████████████████████████████████████████████████████████████████████████████| 12/12 [00:09<00:00,  1.25item/s]\n"
     ]
    },
    {
     "name": "stdout",
     "output_type": "stream",
     "text": [
      "-----Retrieving monthly Reference Climatology CHELSA data for variable 'rsds' in reference period 1981-2010-----\n"
     ]
    },
    {
     "name": "stderr",
     "output_type": "stream",
     "text": [
      "Processing: 100%|█████████████████████████████████████████████████████████████████████████████████████████████████████████████| 12/12 [00:07<00:00,  1.52item/s]\n"
     ]
    },
    {
     "name": "stdout",
     "output_type": "stream",
     "text": [
      "-----Retrieving monthly Reference Climatology CHELSA data for variable 'sfcWind' in reference period 1981-2010-----\n"
     ]
    },
    {
     "name": "stderr",
     "output_type": "stream",
     "text": [
      "Processing: 100%|█████████████████████████████████████████████████████████████████████████████████████████████████████████████| 12/12 [00:07<00:00,  1.71item/s]\n"
     ]
    },
    {
     "name": "stdout",
     "output_type": "stream",
     "text": [
      "-----Retrieving monthly Reference Climatology CHELSA data for variable 'tas' in reference period 1981-2010-----\n"
     ]
    },
    {
     "name": "stderr",
     "output_type": "stream",
     "text": [
      "Processing: 100%|█████████████████████████████████████████████████████████████████████████████████████████████████████████████| 12/12 [00:16<00:00,  1.38s/item]\n"
     ]
    },
    {
     "name": "stdout",
     "output_type": "stream",
     "text": [
      "-----Retrieving monthly Reference Climatology CHELSA data for variable 'tasmax' in reference period 1981-2010-----\n"
     ]
    },
    {
     "name": "stderr",
     "output_type": "stream",
     "text": [
      "Processing: 100%|█████████████████████████████████████████████████████████████████████████████████████████████████████████████| 12/12 [00:07<00:00,  1.53item/s]\n"
     ]
    },
    {
     "name": "stdout",
     "output_type": "stream",
     "text": [
      "-----Retrieving monthly Reference Climatology CHELSA data for variable 'tasmin' in reference period 1981-2010-----\n"
     ]
    },
    {
     "name": "stderr",
     "output_type": "stream",
     "text": [
      "Processing: 100%|█████████████████████████████████████████████████████████████████████████████████████████████████████████████| 12/12 [00:29<00:00,  2.43s/item]\n"
     ]
    },
    {
     "name": "stdout",
     "output_type": "stream",
     "text": [
      "-----Retrieving monthly Reference Climatology CHELSA data for variable 'vpd' in reference period 1981-2010-----\n"
     ]
    },
    {
     "name": "stderr",
     "output_type": "stream",
     "text": [
      "Processing: 100%|█████████████████████████████████████████████████████████████████████████████████████████████████████████████| 12/12 [00:07<00:00,  1.56item/s]\n"
     ]
    }
   ],
   "source": [
    "rm_vars = [] \n",
    "rm_das = []\n",
    "\n",
    "for var in chelsa_ref_month_param[\"var\"]:\n",
    "    var, da = layer.chelsa_clim_ref_month(var,\n",
    "                                          chelsa_ref_month_param[\"bbox\"], \n",
    "                                          chelsa_ref_month_param[\"months\"])\n",
    "    rm_vars.append(var)\n",
    "    rm_das.append(da)"
   ]
  },
  {
   "cell_type": "code",
   "execution_count": 16,
   "id": "2afaa336-d657-462a-9582-2be1f14d3490",
   "metadata": {},
   "outputs": [
    {
     "name": "stdout",
     "output_type": "stream",
     "text": [
      "-----Retrieving Simulation (period) CHELSA data for variable 'bio10'-----\n"
     ]
    },
    {
     "name": "stderr",
     "output_type": "stream",
     "text": [
      "Processing: 100%|█████████████████████████████████████████████████████████████████████████████████████████████████████████████| 45/45 [00:27<00:00,  1.62item/s]\n"
     ]
    },
    {
     "name": "stdout",
     "output_type": "stream",
     "text": [
      "-----Retrieving Simulation (period) CHELSA data for variable 'bio11'-----\n"
     ]
    },
    {
     "name": "stderr",
     "output_type": "stream",
     "text": [
      "Processing: 100%|█████████████████████████████████████████████████████████████████████████████████████████████████████████████| 45/45 [00:25<00:00,  1.73item/s]\n"
     ]
    },
    {
     "name": "stdout",
     "output_type": "stream",
     "text": [
      "-----Retrieving Simulation (period) CHELSA data for variable 'bio12'-----\n"
     ]
    },
    {
     "name": "stderr",
     "output_type": "stream",
     "text": [
      "Processing: 100%|█████████████████████████████████████████████████████████████████████████████████████████████████████████████| 45/45 [00:27<00:00,  1.63item/s]\n"
     ]
    },
    {
     "name": "stdout",
     "output_type": "stream",
     "text": [
      "-----Retrieving Simulation (period) CHELSA data for variable 'bio13'-----\n"
     ]
    },
    {
     "name": "stderr",
     "output_type": "stream",
     "text": [
      "Processing: 100%|█████████████████████████████████████████████████████████████████████████████████████████████████████████████| 45/45 [00:25<00:00,  1.74item/s]\n"
     ]
    },
    {
     "name": "stdout",
     "output_type": "stream",
     "text": [
      "-----Retrieving Simulation (period) CHELSA data for variable 'bio14'-----\n"
     ]
    },
    {
     "name": "stderr",
     "output_type": "stream",
     "text": [
      "Processing: 100%|█████████████████████████████████████████████████████████████████████████████████████████████████████████████| 45/45 [00:25<00:00,  1.79item/s]\n"
     ]
    },
    {
     "name": "stdout",
     "output_type": "stream",
     "text": [
      "-----Retrieving Simulation (period) CHELSA data for variable 'bio15'-----\n"
     ]
    },
    {
     "name": "stderr",
     "output_type": "stream",
     "text": [
      "Processing: 100%|█████████████████████████████████████████████████████████████████████████████████████████████████████████████| 45/45 [00:25<00:00,  1.77item/s]\n"
     ]
    },
    {
     "name": "stdout",
     "output_type": "stream",
     "text": [
      "-----Retrieving Simulation (period) CHELSA data for variable 'bio16'-----\n"
     ]
    },
    {
     "name": "stderr",
     "output_type": "stream",
     "text": [
      "Processing: 100%|█████████████████████████████████████████████████████████████████████████████████████████████████████████████| 45/45 [00:27<00:00,  1.61item/s]\n"
     ]
    },
    {
     "name": "stdout",
     "output_type": "stream",
     "text": [
      "-----Retrieving Simulation (period) CHELSA data for variable 'bio17'-----\n"
     ]
    },
    {
     "name": "stderr",
     "output_type": "stream",
     "text": [
      "Processing: 100%|█████████████████████████████████████████████████████████████████████████████████████████████████████████████| 45/45 [00:26<00:00,  1.70item/s]\n"
     ]
    },
    {
     "name": "stdout",
     "output_type": "stream",
     "text": [
      "-----Retrieving Simulation (period) CHELSA data for variable 'bio18'-----\n"
     ]
    },
    {
     "name": "stderr",
     "output_type": "stream",
     "text": [
      "Processing: 100%|█████████████████████████████████████████████████████████████████████████████████████████████████████████████| 45/45 [00:26<00:00,  1.68item/s]\n"
     ]
    },
    {
     "name": "stdout",
     "output_type": "stream",
     "text": [
      "-----Retrieving Simulation (period) CHELSA data for variable 'bio19'-----\n"
     ]
    },
    {
     "name": "stderr",
     "output_type": "stream",
     "text": [
      "Processing: 100%|█████████████████████████████████████████████████████████████████████████████████████████████████████████████| 45/45 [00:26<00:00,  1.70item/s]\n"
     ]
    },
    {
     "name": "stdout",
     "output_type": "stream",
     "text": [
      "-----Retrieving Simulation (period) CHELSA data for variable 'bio1'-----\n"
     ]
    },
    {
     "name": "stderr",
     "output_type": "stream",
     "text": [
      "Processing: 100%|█████████████████████████████████████████████████████████████████████████████████████████████████████████████| 45/45 [00:26<00:00,  1.67item/s]\n"
     ]
    },
    {
     "name": "stdout",
     "output_type": "stream",
     "text": [
      "-----Retrieving Simulation (period) CHELSA data for variable 'bio2'-----\n"
     ]
    },
    {
     "name": "stderr",
     "output_type": "stream",
     "text": [
      "Processing: 100%|█████████████████████████████████████████████████████████████████████████████████████████████████████████████| 45/45 [00:25<00:00,  1.79item/s]\n"
     ]
    },
    {
     "name": "stdout",
     "output_type": "stream",
     "text": [
      "-----Retrieving Simulation (period) CHELSA data for variable 'bio3'-----\n"
     ]
    },
    {
     "name": "stderr",
     "output_type": "stream",
     "text": [
      "Processing: 100%|█████████████████████████████████████████████████████████████████████████████████████████████████████████████| 45/45 [00:30<00:00,  1.46item/s]\n"
     ]
    },
    {
     "name": "stdout",
     "output_type": "stream",
     "text": [
      "-----Retrieving Simulation (period) CHELSA data for variable 'bio4'-----\n"
     ]
    },
    {
     "name": "stderr",
     "output_type": "stream",
     "text": [
      "Processing: 100%|█████████████████████████████████████████████████████████████████████████████████████████████████████████████| 45/45 [00:27<00:00,  1.62item/s]\n"
     ]
    },
    {
     "name": "stdout",
     "output_type": "stream",
     "text": [
      "-----Retrieving Simulation (period) CHELSA data for variable 'bio5'-----\n"
     ]
    },
    {
     "name": "stderr",
     "output_type": "stream",
     "text": [
      "Processing: 100%|█████████████████████████████████████████████████████████████████████████████████████████████████████████████| 45/45 [00:26<00:00,  1.70item/s]\n"
     ]
    },
    {
     "name": "stdout",
     "output_type": "stream",
     "text": [
      "-----Retrieving Simulation (period) CHELSA data for variable 'bio6'-----\n"
     ]
    },
    {
     "name": "stderr",
     "output_type": "stream",
     "text": [
      "Processing: 100%|█████████████████████████████████████████████████████████████████████████████████████████████████████████████| 45/45 [00:24<00:00,  1.84item/s]\n"
     ]
    },
    {
     "name": "stdout",
     "output_type": "stream",
     "text": [
      "-----Retrieving Simulation (period) CHELSA data for variable 'bio7'-----\n"
     ]
    },
    {
     "name": "stderr",
     "output_type": "stream",
     "text": [
      "Processing: 100%|█████████████████████████████████████████████████████████████████████████████████████████████████████████████| 45/45 [00:24<00:00,  1.85item/s]\n"
     ]
    },
    {
     "name": "stdout",
     "output_type": "stream",
     "text": [
      "-----Retrieving Simulation (period) CHELSA data for variable 'bio8'-----\n"
     ]
    },
    {
     "name": "stderr",
     "output_type": "stream",
     "text": [
      "Processing: 100%|█████████████████████████████████████████████████████████████████████████████████████████████████████████████| 45/45 [00:25<00:00,  1.76item/s]\n"
     ]
    },
    {
     "name": "stdout",
     "output_type": "stream",
     "text": [
      "-----Retrieving Simulation (period) CHELSA data for variable 'bio9'-----\n"
     ]
    },
    {
     "name": "stderr",
     "output_type": "stream",
     "text": [
      "Processing: 100%|█████████████████████████████████████████████████████████████████████████████████████████████████████████████| 45/45 [00:25<00:00,  1.78item/s]\n"
     ]
    },
    {
     "name": "stdout",
     "output_type": "stream",
     "text": [
      "-----Retrieving Simulation (period) CHELSA data for variable 'fcf'-----\n"
     ]
    },
    {
     "name": "stderr",
     "output_type": "stream",
     "text": [
      "Processing: 100%|█████████████████████████████████████████████████████████████████████████████████████████████████████████████| 45/45 [00:26<00:00,  1.71item/s]\n"
     ]
    },
    {
     "name": "stdout",
     "output_type": "stream",
     "text": [
      "-----Retrieving Simulation (period) CHELSA data for variable 'fgd'-----\n"
     ]
    },
    {
     "name": "stderr",
     "output_type": "stream",
     "text": [
      "Processing: 100%|█████████████████████████████████████████████████████████████████████████████████████████████████████████████| 45/45 [00:25<00:00,  1.74item/s]\n"
     ]
    },
    {
     "name": "stdout",
     "output_type": "stream",
     "text": [
      "-----Retrieving Simulation (period) CHELSA data for variable 'gdd0'-----\n"
     ]
    },
    {
     "name": "stderr",
     "output_type": "stream",
     "text": [
      "Processing: 100%|█████████████████████████████████████████████████████████████████████████████████████████████████████████████| 45/45 [00:28<00:00,  1.55item/s]\n"
     ]
    },
    {
     "name": "stdout",
     "output_type": "stream",
     "text": [
      "-----Retrieving Simulation (period) CHELSA data for variable 'gdd10'-----\n"
     ]
    },
    {
     "name": "stderr",
     "output_type": "stream",
     "text": [
      "Processing: 100%|█████████████████████████████████████████████████████████████████████████████████████████████████████████████| 45/45 [00:26<00:00,  1.68item/s]\n"
     ]
    },
    {
     "name": "stdout",
     "output_type": "stream",
     "text": [
      "-----Retrieving Simulation (period) CHELSA data for variable 'gdd5'-----\n"
     ]
    },
    {
     "name": "stderr",
     "output_type": "stream",
     "text": [
      "Processing: 100%|█████████████████████████████████████████████████████████████████████████████████████████████████████████████| 45/45 [00:27<00:00,  1.66item/s]\n"
     ]
    },
    {
     "name": "stdout",
     "output_type": "stream",
     "text": [
      "-----Retrieving Simulation (period) CHELSA data for variable 'gddlgd0'-----\n"
     ]
    },
    {
     "name": "stderr",
     "output_type": "stream",
     "text": [
      "Processing: 100%|█████████████████████████████████████████████████████████████████████████████████████████████████████████████| 45/45 [00:25<00:00,  1.77item/s]\n"
     ]
    },
    {
     "name": "stdout",
     "output_type": "stream",
     "text": [
      "-----Retrieving Simulation (period) CHELSA data for variable 'gddlgd10'-----\n"
     ]
    },
    {
     "name": "stderr",
     "output_type": "stream",
     "text": [
      "Processing: 100%|█████████████████████████████████████████████████████████████████████████████████████████████████████████████| 45/45 [00:24<00:00,  1.83item/s]\n"
     ]
    },
    {
     "name": "stdout",
     "output_type": "stream",
     "text": [
      "-----Retrieving Simulation (period) CHELSA data for variable 'gddlgd5'-----\n"
     ]
    },
    {
     "name": "stderr",
     "output_type": "stream",
     "text": [
      "Processing: 100%|█████████████████████████████████████████████████████████████████████████████████████████████████████████████| 45/45 [00:23<00:00,  1.88item/s]\n"
     ]
    },
    {
     "name": "stdout",
     "output_type": "stream",
     "text": [
      "-----Retrieving Simulation (period) CHELSA data for variable 'gdgfgd0'-----\n"
     ]
    },
    {
     "name": "stderr",
     "output_type": "stream",
     "text": [
      "Processing: 100%|█████████████████████████████████████████████████████████████████████████████████████████████████████████████| 45/45 [00:24<00:00,  1.84item/s]\n"
     ]
    },
    {
     "name": "stdout",
     "output_type": "stream",
     "text": [
      "-----Retrieving Simulation (period) CHELSA data for variable 'gdgfgd10'-----\n"
     ]
    },
    {
     "name": "stderr",
     "output_type": "stream",
     "text": [
      "Processing: 100%|█████████████████████████████████████████████████████████████████████████████████████████████████████████████| 45/45 [00:25<00:00,  1.77item/s]\n"
     ]
    },
    {
     "name": "stdout",
     "output_type": "stream",
     "text": [
      "-----Retrieving Simulation (period) CHELSA data for variable 'gdgfgd5'-----\n"
     ]
    },
    {
     "name": "stderr",
     "output_type": "stream",
     "text": [
      "Processing: 100%|█████████████████████████████████████████████████████████████████████████████████████████████████████████████| 45/45 [00:23<00:00,  1.89item/s]\n"
     ]
    },
    {
     "name": "stdout",
     "output_type": "stream",
     "text": [
      "-----Retrieving Simulation (period) CHELSA data for variable 'gsl'-----\n"
     ]
    },
    {
     "name": "stderr",
     "output_type": "stream",
     "text": [
      "Processing: 100%|█████████████████████████████████████████████████████████████████████████████████████████████████████████████| 45/45 [00:25<00:00,  1.74item/s]\n"
     ]
    },
    {
     "name": "stdout",
     "output_type": "stream",
     "text": [
      "-----Retrieving Simulation (period) CHELSA data for variable 'gsp'-----\n"
     ]
    },
    {
     "name": "stderr",
     "output_type": "stream",
     "text": [
      "Processing: 100%|█████████████████████████████████████████████████████████████████████████████████████████████████████████████| 45/45 [00:28<00:00,  1.58item/s]\n"
     ]
    },
    {
     "name": "stdout",
     "output_type": "stream",
     "text": [
      "-----Retrieving Simulation (period) CHELSA data for variable 'gst'-----\n"
     ]
    },
    {
     "name": "stderr",
     "output_type": "stream",
     "text": [
      "Processing: 100%|█████████████████████████████████████████████████████████████████████████████████████████████████████████████| 45/45 [00:24<00:00,  1.81item/s]\n"
     ]
    },
    {
     "name": "stdout",
     "output_type": "stream",
     "text": [
      "-----Retrieving Simulation (period) CHELSA data for variable 'kg0'-----\n"
     ]
    },
    {
     "name": "stderr",
     "output_type": "stream",
     "text": [
      "Processing: 100%|█████████████████████████████████████████████████████████████████████████████████████████████████████████████| 45/45 [00:23<00:00,  1.93item/s]\n"
     ]
    },
    {
     "name": "stdout",
     "output_type": "stream",
     "text": [
      "-----Retrieving Simulation (period) CHELSA data for variable 'kg1'-----\n"
     ]
    },
    {
     "name": "stderr",
     "output_type": "stream",
     "text": [
      "Processing: 100%|█████████████████████████████████████████████████████████████████████████████████████████████████████████████| 45/45 [00:24<00:00,  1.82item/s]\n"
     ]
    },
    {
     "name": "stdout",
     "output_type": "stream",
     "text": [
      "-----Retrieving Simulation (period) CHELSA data for variable 'kg2'-----\n"
     ]
    },
    {
     "name": "stderr",
     "output_type": "stream",
     "text": [
      "Processing: 100%|█████████████████████████████████████████████████████████████████████████████████████████████████████████████| 45/45 [00:24<00:00,  1.86item/s]\n"
     ]
    },
    {
     "name": "stdout",
     "output_type": "stream",
     "text": [
      "-----Retrieving Simulation (period) CHELSA data for variable 'kg3'-----\n"
     ]
    },
    {
     "name": "stderr",
     "output_type": "stream",
     "text": [
      "Processing: 100%|█████████████████████████████████████████████████████████████████████████████████████████████████████████████| 45/45 [00:23<00:00,  1.91item/s]\n"
     ]
    },
    {
     "name": "stdout",
     "output_type": "stream",
     "text": [
      "-----Retrieving Simulation (period) CHELSA data for variable 'kg4'-----\n"
     ]
    },
    {
     "name": "stderr",
     "output_type": "stream",
     "text": [
      "Processing: 100%|█████████████████████████████████████████████████████████████████████████████████████████████████████████████| 45/45 [00:28<00:00,  1.59item/s]\n"
     ]
    },
    {
     "name": "stdout",
     "output_type": "stream",
     "text": [
      "-----Retrieving Simulation (period) CHELSA data for variable 'kg5'-----\n"
     ]
    },
    {
     "name": "stderr",
     "output_type": "stream",
     "text": [
      "Processing: 100%|█████████████████████████████████████████████████████████████████████████████████████████████████████████████| 45/45 [00:26<00:00,  1.69item/s]\n"
     ]
    },
    {
     "name": "stdout",
     "output_type": "stream",
     "text": [
      "-----Retrieving Simulation (period) CHELSA data for variable 'lgd'-----\n"
     ]
    },
    {
     "name": "stderr",
     "output_type": "stream",
     "text": [
      "Processing: 100%|█████████████████████████████████████████████████████████████████████████████████████████████████████████████| 45/45 [00:31<00:00,  1.42item/s]\n"
     ]
    },
    {
     "name": "stdout",
     "output_type": "stream",
     "text": [
      "-----Retrieving Simulation (period) CHELSA data for variable 'ngd0'-----\n"
     ]
    },
    {
     "name": "stderr",
     "output_type": "stream",
     "text": [
      "Processing: 100%|█████████████████████████████████████████████████████████████████████████████████████████████████████████████| 45/45 [00:26<00:00,  1.70item/s]\n"
     ]
    },
    {
     "name": "stdout",
     "output_type": "stream",
     "text": [
      "-----Retrieving Simulation (period) CHELSA data for variable 'ngd10'-----\n"
     ]
    },
    {
     "name": "stderr",
     "output_type": "stream",
     "text": [
      "Processing: 100%|█████████████████████████████████████████████████████████████████████████████████████████████████████████████| 45/45 [00:26<00:00,  1.68item/s]\n"
     ]
    },
    {
     "name": "stdout",
     "output_type": "stream",
     "text": [
      "-----Retrieving Simulation (period) CHELSA data for variable 'ngd5'-----\n"
     ]
    },
    {
     "name": "stderr",
     "output_type": "stream",
     "text": [
      "Processing: 100%|█████████████████████████████████████████████████████████████████████████████████████████████████████████████| 45/45 [00:26<00:00,  1.71item/s]\n"
     ]
    },
    {
     "name": "stdout",
     "output_type": "stream",
     "text": [
      "-----Retrieving Simulation (period) CHELSA data for variable 'npp'-----\n"
     ]
    },
    {
     "name": "stderr",
     "output_type": "stream",
     "text": [
      "Processing: 100%|█████████████████████████████████████████████████████████████████████████████████████████████████████████████| 45/45 [00:28<00:00,  1.57item/s]\n"
     ]
    },
    {
     "name": "stdout",
     "output_type": "stream",
     "text": [
      "-----Retrieving Simulation (period) CHELSA data for variable 'scd'-----\n"
     ]
    },
    {
     "name": "stderr",
     "output_type": "stream",
     "text": [
      "Processing: 100%|█████████████████████████████████████████████████████████████████████████████████████████████████████████████| 45/45 [00:25<00:00,  1.75item/s]\n"
     ]
    },
    {
     "name": "stdout",
     "output_type": "stream",
     "text": [
      "-----Retrieving Simulation (period) CHELSA data for variable 'swe'-----\n"
     ]
    },
    {
     "name": "stderr",
     "output_type": "stream",
     "text": [
      "Processing: 100%|█████████████████████████████████████████████████████████████████████████████████████████████████████████████| 45/45 [00:26<00:00,  1.69item/s]\n"
     ]
    }
   ],
   "source": [
    "sp_vars = [] \n",
    "sp_das = []\n",
    "\n",
    "for var in chelsa_sim_period_param[\"var\"]:\n",
    "    var, da = layer.chelsa_clim_sim_period(var, \n",
    "                                           chelsa_sim_period_param[\"bbox\"], \n",
    "                                           chelsa_sim_period_param[\"year_ranges\"], \n",
    "                                           chelsa_sim_period_param[\"model_names\"], \n",
    "                                           chelsa_sim_period_param[\"scenarios\"])\n",
    "    sp_vars.append(var)\n",
    "    sp_das.append(da)"
   ]
  },
  {
   "cell_type": "code",
   "execution_count": 18,
   "id": "14cbdcf9-361e-4f84-b72c-6fc673832b2c",
   "metadata": {},
   "outputs": [
    {
     "name": "stdout",
     "output_type": "stream",
     "text": [
      "-----Retrieving Simulation (monthly) CHELSA data for variable 'pr'-----\n"
     ]
    },
    {
     "name": "stderr",
     "output_type": "stream",
     "text": [
      "Processing: 100%|███████████████████████████████████████████████████████████████████████████████████████████████████████████| 540/540 [48:16<00:00,  5.36s/item]\n"
     ]
    },
    {
     "name": "stdout",
     "output_type": "stream",
     "text": [
      "-----Retrieving Simulation (monthly) CHELSA data for variable 'tas'-----\n"
     ]
    },
    {
     "name": "stderr",
     "output_type": "stream",
     "text": [
      "Processing: 100%|███████████████████████████████████████████████████████████████████████████████████████████████████████████| 540/540 [16:30<00:00,  1.84s/item]\n"
     ]
    },
    {
     "name": "stdout",
     "output_type": "stream",
     "text": [
      "-----Retrieving Simulation (monthly) CHELSA data for variable 'tasmax'-----\n"
     ]
    },
    {
     "name": "stderr",
     "output_type": "stream",
     "text": [
      "Processing: 100%|█████████████████████████████████████████████████████████████████████████████████████████████████████████| 540/540 [1:22:21<00:00,  9.15s/item]\n"
     ]
    },
    {
     "name": "stdout",
     "output_type": "stream",
     "text": [
      "-----Retrieving Simulation (monthly) CHELSA data for variable 'tasmin'-----\n"
     ]
    },
    {
     "name": "stderr",
     "output_type": "stream",
     "text": [
      "Processing: 100%|███████████████████████████████████████████████████████████████████████████████████████████████████████████| 540/540 [26:38<00:00,  2.96s/item]\n"
     ]
    }
   ],
   "source": [
    "sm_vars = [] \n",
    "sm_das = []\n",
    "\n",
    "for var in chelsa_sim_month_param[\"var\"]:\n",
    "    var, da = layer.chelsa_clim_sim_month(var, \n",
    "                                          chelsa_sim_month_param[\"bbox\"], \n",
    "                                          chelsa_sim_month_param[\"year_ranges\"],\n",
    "                                          chelsa_sim_month_param[\"months\"],\n",
    "                                          chelsa_sim_month_param[\"model_names\"], \n",
    "                                          chelsa_sim_month_param[\"scenarios\"])\n",
    "    sm_vars.append(var)\n",
    "    sm_das.append(da)"
   ]
  },
  {
   "cell_type": "markdown",
   "id": "b9bdb5cc-8ab2-443e-bf5f-3aea941c731c",
   "metadata": {},
   "source": [
    "# CHELSA cube"
   ]
  },
  {
   "cell_type": "code",
   "execution_count": 19,
   "id": "ba8cc475-78c7-439f-83f3-6dac407ef239",
   "metadata": {},
   "outputs": [],
   "source": [
    "from cube import chelsa"
   ]
  },
  {
   "cell_type": "code",
   "execution_count": 20,
   "id": "f22b0abd-189a-4fe1-b3ab-3f02d1bc83a2",
   "metadata": {},
   "outputs": [],
   "source": [
    "cube = chelsa.chelsa_cube()"
   ]
  },
  {
   "cell_type": "code",
   "execution_count": 21,
   "id": "36a13756-7612-4ce0-8ce3-ea7b45cdb04a",
   "metadata": {},
   "outputs": [
    {
     "name": "stdout",
     "output_type": "stream",
     "text": [
      "-----Retrieving monthly CHELSA data for variable 'clt'-----\n"
     ]
    },
    {
     "name": "stderr",
     "output_type": "stream",
     "text": [
      "Processing: 100%|███████████████████████████████████████████████████████████████████████████████████████████████████████████| 479/479 [01:48<00:00,  4.42item/s]\n"
     ]
    },
    {
     "name": "stdout",
     "output_type": "stream",
     "text": [
      "-----Retrieving monthly CHELSA data for variable 'cmi'-----\n"
     ]
    },
    {
     "name": "stderr",
     "output_type": "stream",
     "text": [
      "Processing: 100%|███████████████████████████████████████████████████████████████████████████████████████████████████████████| 479/479 [02:06<00:00,  3.79item/s]\n"
     ]
    },
    {
     "name": "stdout",
     "output_type": "stream",
     "text": [
      "-----Retrieving monthly CHELSA data for variable 'hurs'-----\n"
     ]
    },
    {
     "name": "stderr",
     "output_type": "stream",
     "text": [
      "Processing: 100%|███████████████████████████████████████████████████████████████████████████████████████████████████████████| 479/479 [02:02<00:00,  3.91item/s]\n"
     ]
    },
    {
     "name": "stdout",
     "output_type": "stream",
     "text": [
      "-----Retrieving monthly CHELSA data for variable 'pet'-----\n"
     ]
    },
    {
     "name": "stderr",
     "output_type": "stream",
     "text": [
      "Processing: 100%|███████████████████████████████████████████████████████████████████████████████████████████████████████████| 479/479 [02:08<00:00,  3.71item/s]\n"
     ]
    },
    {
     "name": "stdout",
     "output_type": "stream",
     "text": [
      "-----Retrieving monthly CHELSA data for variable 'pr'-----\n"
     ]
    },
    {
     "name": "stderr",
     "output_type": "stream",
     "text": [
      "Processing: 100%|███████████████████████████████████████████████████████████████████████████████████████████████████████████| 479/479 [02:13<00:00,  3.60item/s]\n"
     ]
    },
    {
     "name": "stdout",
     "output_type": "stream",
     "text": [
      "-----Retrieving monthly CHELSA data for variable 'rsds'-----\n"
     ]
    },
    {
     "name": "stderr",
     "output_type": "stream",
     "text": [
      "Processing: 100%|███████████████████████████████████████████████████████████████████████████████████████████████████████████| 479/479 [02:01<00:00,  3.94item/s]\n"
     ]
    },
    {
     "name": "stdout",
     "output_type": "stream",
     "text": [
      "-----Retrieving monthly CHELSA data for variable 'sfcWind'-----\n"
     ]
    },
    {
     "name": "stderr",
     "output_type": "stream",
     "text": [
      "Processing: 100%|███████████████████████████████████████████████████████████████████████████████████████████████████████████| 479/479 [02:02<00:00,  3.89item/s]\n"
     ]
    },
    {
     "name": "stdout",
     "output_type": "stream",
     "text": [
      "-----Retrieving monthly CHELSA data for variable 'tas'-----\n"
     ]
    },
    {
     "name": "stderr",
     "output_type": "stream",
     "text": [
      "Processing: 100%|███████████████████████████████████████████████████████████████████████████████████████████████████████████| 479/479 [01:54<00:00,  4.18item/s]\n"
     ]
    },
    {
     "name": "stdout",
     "output_type": "stream",
     "text": [
      "-----Retrieving monthly CHELSA data for variable 'tasmax'-----\n"
     ]
    },
    {
     "name": "stderr",
     "output_type": "stream",
     "text": [
      "Processing: 100%|███████████████████████████████████████████████████████████████████████████████████████████████████████████| 479/479 [01:57<00:00,  4.09item/s]\n"
     ]
    },
    {
     "name": "stdout",
     "output_type": "stream",
     "text": [
      "-----Retrieving monthly CHELSA data for variable 'tasmin'-----\n"
     ]
    },
    {
     "name": "stderr",
     "output_type": "stream",
     "text": [
      "Processing: 100%|███████████████████████████████████████████████████████████████████████████████████████████████████████████| 479/479 [01:56<00:00,  4.10item/s]\n"
     ]
    },
    {
     "name": "stdout",
     "output_type": "stream",
     "text": [
      "-----Retrieving monthly CHELSA data for variable 'vpd'-----\n"
     ]
    },
    {
     "name": "stderr",
     "output_type": "stream",
     "text": [
      "Processing: 100%|███████████████████████████████████████████████████████████████████████████████████████████████████████████| 479/479 [02:05<00:00,  3.80item/s]\n"
     ]
    },
    {
     "name": "stdout",
     "output_type": "stream",
     "text": [
      "-----Retrieving Reference Climatology CHELSA data for variable 'ai' in reference period 1981-2010-----\n",
      "Complete\n",
      "-----Retrieving Reference Climatology CHELSA data for variable 'bio10' in reference period 1981-2010-----\n",
      "Complete\n",
      "-----Retrieving Reference Climatology CHELSA data for variable 'bio11' in reference period 1981-2010-----\n",
      "Complete\n",
      "-----Retrieving Reference Climatology CHELSA data for variable 'bio12' in reference period 1981-2010-----\n",
      "Complete\n",
      "-----Retrieving Reference Climatology CHELSA data for variable 'bio13' in reference period 1981-2010-----\n",
      "Complete\n",
      "-----Retrieving Reference Climatology CHELSA data for variable 'bio14' in reference period 1981-2010-----\n",
      "Complete\n",
      "-----Retrieving Reference Climatology CHELSA data for variable 'bio15' in reference period 1981-2010-----\n",
      "Complete\n",
      "-----Retrieving Reference Climatology CHELSA data for variable 'bio16' in reference period 1981-2010-----\n",
      "Complete\n",
      "-----Retrieving Reference Climatology CHELSA data for variable 'bio17' in reference period 1981-2010-----\n",
      "Complete\n",
      "-----Retrieving Reference Climatology CHELSA data for variable 'bio18' in reference period 1981-2010-----\n",
      "Complete\n",
      "-----Retrieving Reference Climatology CHELSA data for variable 'bio19' in reference period 1981-2010-----\n",
      "Complete\n",
      "-----Retrieving Reference Climatology CHELSA data for variable 'bio1' in reference period 1981-2010-----\n",
      "Complete\n",
      "-----Retrieving Reference Climatology CHELSA data for variable 'bio2' in reference period 1981-2010-----\n",
      "Complete\n",
      "-----Retrieving Reference Climatology CHELSA data for variable 'bio3' in reference period 1981-2010-----\n",
      "Complete\n",
      "-----Retrieving Reference Climatology CHELSA data for variable 'bio4' in reference period 1981-2010-----\n",
      "Complete\n",
      "-----Retrieving Reference Climatology CHELSA data for variable 'bio5' in reference period 1981-2010-----\n",
      "Complete\n",
      "-----Retrieving Reference Climatology CHELSA data for variable 'bio6' in reference period 1981-2010-----\n",
      "Complete\n",
      "-----Retrieving Reference Climatology CHELSA data for variable 'bio7' in reference period 1981-2010-----\n",
      "Complete\n",
      "-----Retrieving Reference Climatology CHELSA data for variable 'bio8' in reference period 1981-2010-----\n",
      "Complete\n",
      "-----Retrieving Reference Climatology CHELSA data for variable 'bio9' in reference period 1981-2010-----\n",
      "Complete\n",
      "-----Retrieving Reference Climatology CHELSA data for variable 'clt_max' in reference period 1981-2010-----\n",
      "Complete\n",
      "-----Retrieving Reference Climatology CHELSA data for variable 'clt_mean' in reference period 1981-2010-----\n",
      "Complete\n",
      "-----Retrieving Reference Climatology CHELSA data for variable 'clt_min' in reference period 1981-2010-----\n",
      "Complete\n",
      "-----Retrieving Reference Climatology CHELSA data for variable 'clt_range' in reference period 1981-2010-----\n",
      "Complete\n",
      "-----Retrieving Reference Climatology CHELSA data for variable 'cmi_max' in reference period 1981-2010-----\n",
      "Complete\n",
      "-----Retrieving Reference Climatology CHELSA data for variable 'cmi_mean' in reference period 1981-2010-----\n",
      "Complete\n",
      "-----Retrieving Reference Climatology CHELSA data for variable 'cmi_min' in reference period 1981-2010-----\n",
      "Complete\n",
      "-----Retrieving Reference Climatology CHELSA data for variable 'cmi_range' in reference period 1981-2010-----\n",
      "Complete\n",
      "-----Retrieving Reference Climatology CHELSA data for variable 'fcf' in reference period 1981-2010-----\n",
      "Complete\n",
      "-----Retrieving Reference Climatology CHELSA data for variable 'fgd' in reference period 1981-2010-----\n",
      "Complete\n",
      "-----Retrieving Reference Climatology CHELSA data for variable 'gdd0' in reference period 1981-2010-----\n",
      "Complete\n",
      "-----Retrieving Reference Climatology CHELSA data for variable 'gdd10' in reference period 1981-2010-----\n",
      "Complete\n",
      "-----Retrieving Reference Climatology CHELSA data for variable 'gdd5' in reference period 1981-2010-----\n",
      "Complete\n",
      "-----Retrieving Reference Climatology CHELSA data for variable 'gddlgd0' in reference period 1981-2010-----\n",
      "Complete\n",
      "-----Retrieving Reference Climatology CHELSA data for variable 'gddlgd10' in reference period 1981-2010-----\n",
      "Complete\n",
      "-----Retrieving Reference Climatology CHELSA data for variable 'gddlgd5' in reference period 1981-2010-----\n",
      "Complete\n",
      "-----Retrieving Reference Climatology CHELSA data for variable 'gdgfgd0' in reference period 1981-2010-----\n",
      "Complete\n",
      "-----Retrieving Reference Climatology CHELSA data for variable 'gdgfgd10' in reference period 1981-2010-----\n",
      "Complete\n",
      "-----Retrieving Reference Climatology CHELSA data for variable 'gdgfgd5' in reference period 1981-2010-----\n",
      "Complete\n",
      "-----Retrieving Reference Climatology CHELSA data for variable 'gsl' in reference period 1981-2010-----\n",
      "Complete\n",
      "-----Retrieving Reference Climatology CHELSA data for variable 'gsp' in reference period 1981-2010-----\n",
      "Complete\n",
      "-----Retrieving Reference Climatology CHELSA data for variable 'gst' in reference period 1981-2010-----\n",
      "Complete\n",
      "-----Retrieving Reference Climatology CHELSA data for variable 'hurs_max' in reference period 1981-2010-----\n",
      "Complete\n",
      "-----Retrieving Reference Climatology CHELSA data for variable 'hurs_mean' in reference period 1981-2010-----\n",
      "Complete\n",
      "-----Retrieving Reference Climatology CHELSA data for variable 'hurs_min' in reference period 1981-2010-----\n",
      "Complete\n",
      "-----Retrieving Reference Climatology CHELSA data for variable 'hurs_range' in reference period 1981-2010-----\n",
      "Complete\n",
      "-----Retrieving Reference Climatology CHELSA data for variable 'kg0' in reference period 1981-2010-----\n",
      "Complete\n",
      "-----Retrieving Reference Climatology CHELSA data for variable 'kg1' in reference period 1981-2010-----\n",
      "Complete\n",
      "-----Retrieving Reference Climatology CHELSA data for variable 'kg2' in reference period 1981-2010-----\n",
      "Complete\n",
      "-----Retrieving Reference Climatology CHELSA data for variable 'kg3' in reference period 1981-2010-----\n",
      "Complete\n",
      "-----Retrieving Reference Climatology CHELSA data for variable 'kg4' in reference period 1981-2010-----\n",
      "Complete\n",
      "-----Retrieving Reference Climatology CHELSA data for variable 'kg5' in reference period 1981-2010-----\n",
      "Complete\n",
      "-----Retrieving Reference Climatology CHELSA data for variable 'lgd' in reference period 1981-2010-----\n",
      "Complete\n",
      "-----Retrieving Reference Climatology CHELSA data for variable 'ngd0' in reference period 1981-2010-----\n",
      "Complete\n",
      "-----Retrieving Reference Climatology CHELSA data for variable 'ngd10' in reference period 1981-2010-----\n",
      "Complete\n",
      "-----Retrieving Reference Climatology CHELSA data for variable 'ngd5' in reference period 1981-2010-----\n",
      "Complete\n",
      "-----Retrieving Reference Climatology CHELSA data for variable 'npp' in reference period 1981-2010-----\n",
      "Complete\n",
      "-----Retrieving Reference Climatology CHELSA data for variable 'pet_penman_max' in reference period 1981-2010-----\n",
      "Complete\n",
      "-----Retrieving Reference Climatology CHELSA data for variable 'pet_penman_mean' in reference period 1981-2010-----\n",
      "Complete\n",
      "-----Retrieving Reference Climatology CHELSA data for variable 'pet_penman_min' in reference period 1981-2010-----\n",
      "Complete\n",
      "-----Retrieving Reference Climatology CHELSA data for variable 'pet_penman_range' in reference period 1981-2010-----\n",
      "Complete\n",
      "-----Retrieving Reference Climatology CHELSA data for variable 'rsds_max' in reference period 1981-2010-----\n",
      "Complete\n",
      "-----Retrieving Reference Climatology CHELSA data for variable 'rsds_min' in reference period 1981-2010-----\n",
      "Complete\n",
      "-----Retrieving Reference Climatology CHELSA data for variable 'rsds_mean' in reference period 1981-2010-----\n",
      "Complete\n",
      "-----Retrieving Reference Climatology CHELSA data for variable 'rsds_range' in reference period 1981-2010-----\n",
      "Complete\n",
      "-----Retrieving Reference Climatology CHELSA data for variable 'scd' in reference period 1981-2010-----\n",
      "Complete\n",
      "-----Retrieving Reference Climatology CHELSA data for variable 'sfcWind_max' in reference period 1981-2010-----\n",
      "Complete\n",
      "-----Retrieving Reference Climatology CHELSA data for variable 'sfcWind_mean' in reference period 1981-2010-----\n",
      "Complete\n",
      "-----Retrieving Reference Climatology CHELSA data for variable 'sfcWind_min' in reference period 1981-2010-----\n",
      "Complete\n",
      "-----Retrieving Reference Climatology CHELSA data for variable 'sfcWind_range' in reference period 1981-2010-----\n",
      "Complete\n",
      "-----Retrieving Reference Climatology CHELSA data for variable 'swb' in reference period 1981-2010-----\n",
      "Complete\n",
      "-----Retrieving Reference Climatology CHELSA data for variable 'swe' in reference period 1981-2010-----\n",
      "Complete\n",
      "-----Retrieving Reference Climatology CHELSA data for variable 'vpd_max' in reference period 1981-2010-----\n",
      "Complete\n",
      "-----Retrieving Reference Climatology CHELSA data for variable 'vpd_mean' in reference period 1981-2010-----\n",
      "Complete\n",
      "-----Retrieving Reference Climatology CHELSA data for variable 'vpd_min' in reference period 1981-2010-----\n",
      "Complete\n",
      "-----Retrieving Reference Climatology CHELSA data for variable 'vpd_range' in reference period 1981-2010-----\n",
      "Complete\n",
      "-----Retrieving monthly Reference Climatology CHELSA data for variable 'clt' in reference period 1981-2010-----\n"
     ]
    },
    {
     "name": "stderr",
     "output_type": "stream",
     "text": [
      "Processing: 100%|█████████████████████████████████████████████████████████████████████████████████████████████████████████████| 12/12 [00:02<00:00,  4.42item/s]\n"
     ]
    },
    {
     "name": "stdout",
     "output_type": "stream",
     "text": [
      "-----Retrieving monthly Reference Climatology CHELSA data for variable 'cmi' in reference period 1981-2010-----\n"
     ]
    },
    {
     "name": "stderr",
     "output_type": "stream",
     "text": [
      "Processing: 100%|█████████████████████████████████████████████████████████████████████████████████████████████████████████████| 12/12 [00:04<00:00,  2.60item/s]\n"
     ]
    },
    {
     "name": "stdout",
     "output_type": "stream",
     "text": [
      "-----Retrieving monthly Reference Climatology CHELSA data for variable 'hurs' in reference period 1981-2010-----\n"
     ]
    },
    {
     "name": "stderr",
     "output_type": "stream",
     "text": [
      "Processing: 100%|█████████████████████████████████████████████████████████████████████████████████████████████████████████████| 12/12 [00:02<00:00,  4.00item/s]\n"
     ]
    },
    {
     "name": "stdout",
     "output_type": "stream",
     "text": [
      "-----Retrieving monthly Reference Climatology CHELSA data for variable 'pet' in reference period 1981-2010-----\n"
     ]
    },
    {
     "name": "stderr",
     "output_type": "stream",
     "text": [
      "Processing: 100%|█████████████████████████████████████████████████████████████████████████████████████████████████████████████| 12/12 [00:02<00:00,  4.11item/s]\n"
     ]
    },
    {
     "name": "stdout",
     "output_type": "stream",
     "text": [
      "-----Retrieving monthly Reference Climatology CHELSA data for variable 'pr' in reference period 1981-2010-----\n"
     ]
    },
    {
     "name": "stderr",
     "output_type": "stream",
     "text": [
      "Processing: 100%|█████████████████████████████████████████████████████████████████████████████████████████████████████████████| 12/12 [00:04<00:00,  2.50item/s]\n"
     ]
    },
    {
     "name": "stdout",
     "output_type": "stream",
     "text": [
      "-----Retrieving monthly Reference Climatology CHELSA data for variable 'rsds' in reference period 1981-2010-----\n"
     ]
    },
    {
     "name": "stderr",
     "output_type": "stream",
     "text": [
      "Processing: 100%|█████████████████████████████████████████████████████████████████████████████████████████████████████████████| 12/12 [00:03<00:00,  3.74item/s]\n"
     ]
    },
    {
     "name": "stdout",
     "output_type": "stream",
     "text": [
      "-----Retrieving monthly Reference Climatology CHELSA data for variable 'sfcWind' in reference period 1981-2010-----\n"
     ]
    },
    {
     "name": "stderr",
     "output_type": "stream",
     "text": [
      "Processing: 100%|█████████████████████████████████████████████████████████████████████████████████████████████████████████████| 12/12 [00:03<00:00,  3.66item/s]\n"
     ]
    },
    {
     "name": "stdout",
     "output_type": "stream",
     "text": [
      "-----Retrieving monthly Reference Climatology CHELSA data for variable 'tas' in reference period 1981-2010-----\n"
     ]
    },
    {
     "name": "stderr",
     "output_type": "stream",
     "text": [
      "Processing: 100%|█████████████████████████████████████████████████████████████████████████████████████████████████████████████| 12/12 [00:05<00:00,  2.24item/s]\n"
     ]
    },
    {
     "name": "stdout",
     "output_type": "stream",
     "text": [
      "-----Retrieving monthly Reference Climatology CHELSA data for variable 'tasmax' in reference period 1981-2010-----\n"
     ]
    },
    {
     "name": "stderr",
     "output_type": "stream",
     "text": [
      "Processing: 100%|█████████████████████████████████████████████████████████████████████████████████████████████████████████████| 12/12 [00:03<00:00,  3.57item/s]\n"
     ]
    },
    {
     "name": "stdout",
     "output_type": "stream",
     "text": [
      "-----Retrieving monthly Reference Climatology CHELSA data for variable 'tasmin' in reference period 1981-2010-----\n"
     ]
    },
    {
     "name": "stderr",
     "output_type": "stream",
     "text": [
      "Processing: 100%|█████████████████████████████████████████████████████████████████████████████████████████████████████████████| 12/12 [00:06<00:00,  1.98item/s]\n"
     ]
    },
    {
     "name": "stdout",
     "output_type": "stream",
     "text": [
      "-----Retrieving monthly Reference Climatology CHELSA data for variable 'vpd' in reference period 1981-2010-----\n"
     ]
    },
    {
     "name": "stderr",
     "output_type": "stream",
     "text": [
      "Processing: 100%|█████████████████████████████████████████████████████████████████████████████████████████████████████████████| 12/12 [00:03<00:00,  3.66item/s]\n"
     ]
    },
    {
     "name": "stdout",
     "output_type": "stream",
     "text": [
      "-----Retrieving Simulation (period) CHELSA data for variable 'bio10'-----\n"
     ]
    },
    {
     "name": "stderr",
     "output_type": "stream",
     "text": [
      "Processing: 100%|█████████████████████████████████████████████████████████████████████████████████████████████████████████████| 45/45 [00:10<00:00,  4.33item/s]\n"
     ]
    },
    {
     "name": "stdout",
     "output_type": "stream",
     "text": [
      "-----Retrieving Simulation (period) CHELSA data for variable 'bio11'-----\n"
     ]
    },
    {
     "name": "stderr",
     "output_type": "stream",
     "text": [
      "Processing: 100%|█████████████████████████████████████████████████████████████████████████████████████████████████████████████| 45/45 [00:10<00:00,  4.29item/s]\n"
     ]
    },
    {
     "name": "stdout",
     "output_type": "stream",
     "text": [
      "-----Retrieving Simulation (period) CHELSA data for variable 'bio12'-----\n"
     ]
    },
    {
     "name": "stderr",
     "output_type": "stream",
     "text": [
      "Processing: 100%|█████████████████████████████████████████████████████████████████████████████████████████████████████████████| 45/45 [00:11<00:00,  3.77item/s]\n"
     ]
    },
    {
     "name": "stdout",
     "output_type": "stream",
     "text": [
      "-----Retrieving Simulation (period) CHELSA data for variable 'bio13'-----\n"
     ]
    },
    {
     "name": "stderr",
     "output_type": "stream",
     "text": [
      "Processing: 100%|█████████████████████████████████████████████████████████████████████████████████████████████████████████████| 45/45 [00:11<00:00,  3.99item/s]\n"
     ]
    },
    {
     "name": "stdout",
     "output_type": "stream",
     "text": [
      "-----Retrieving Simulation (period) CHELSA data for variable 'bio14'-----\n"
     ]
    },
    {
     "name": "stderr",
     "output_type": "stream",
     "text": [
      "Processing: 100%|█████████████████████████████████████████████████████████████████████████████████████████████████████████████| 45/45 [00:10<00:00,  4.18item/s]\n"
     ]
    },
    {
     "name": "stdout",
     "output_type": "stream",
     "text": [
      "-----Retrieving Simulation (period) CHELSA data for variable 'bio15'-----\n"
     ]
    },
    {
     "name": "stderr",
     "output_type": "stream",
     "text": [
      "Processing: 100%|█████████████████████████████████████████████████████████████████████████████████████████████████████████████| 45/45 [00:30<00:00,  1.45item/s]\n"
     ]
    },
    {
     "name": "stdout",
     "output_type": "stream",
     "text": [
      "-----Retrieving Simulation (period) CHELSA data for variable 'bio16'-----\n"
     ]
    },
    {
     "name": "stderr",
     "output_type": "stream",
     "text": [
      "Processing: 100%|█████████████████████████████████████████████████████████████████████████████████████████████████████████████| 45/45 [00:11<00:00,  3.84item/s]\n"
     ]
    },
    {
     "name": "stdout",
     "output_type": "stream",
     "text": [
      "-----Retrieving Simulation (period) CHELSA data for variable 'bio17'-----\n"
     ]
    },
    {
     "name": "stderr",
     "output_type": "stream",
     "text": [
      "Processing: 100%|█████████████████████████████████████████████████████████████████████████████████████████████████████████████| 45/45 [00:11<00:00,  4.02item/s]\n"
     ]
    },
    {
     "name": "stdout",
     "output_type": "stream",
     "text": [
      "-----Retrieving Simulation (period) CHELSA data for variable 'bio18'-----\n"
     ]
    },
    {
     "name": "stderr",
     "output_type": "stream",
     "text": [
      "Processing: 100%|█████████████████████████████████████████████████████████████████████████████████████████████████████████████| 45/45 [00:11<00:00,  3.83item/s]\n"
     ]
    },
    {
     "name": "stdout",
     "output_type": "stream",
     "text": [
      "-----Retrieving Simulation (period) CHELSA data for variable 'bio19'-----\n"
     ]
    },
    {
     "name": "stderr",
     "output_type": "stream",
     "text": [
      "Processing: 100%|█████████████████████████████████████████████████████████████████████████████████████████████████████████████| 45/45 [00:11<00:00,  3.90item/s]\n"
     ]
    },
    {
     "name": "stdout",
     "output_type": "stream",
     "text": [
      "-----Retrieving Simulation (period) CHELSA data for variable 'bio1'-----\n"
     ]
    },
    {
     "name": "stderr",
     "output_type": "stream",
     "text": [
      "Processing: 100%|█████████████████████████████████████████████████████████████████████████████████████████████████████████████| 45/45 [00:11<00:00,  4.08item/s]\n"
     ]
    },
    {
     "name": "stdout",
     "output_type": "stream",
     "text": [
      "-----Retrieving Simulation (period) CHELSA data for variable 'bio2'-----\n"
     ]
    },
    {
     "name": "stderr",
     "output_type": "stream",
     "text": [
      "Processing: 100%|█████████████████████████████████████████████████████████████████████████████████████████████████████████████| 45/45 [00:10<00:00,  4.46item/s]\n"
     ]
    },
    {
     "name": "stdout",
     "output_type": "stream",
     "text": [
      "-----Retrieving Simulation (period) CHELSA data for variable 'bio3'-----\n"
     ]
    },
    {
     "name": "stderr",
     "output_type": "stream",
     "text": [
      "Processing: 100%|█████████████████████████████████████████████████████████████████████████████████████████████████████████████| 45/45 [00:14<00:00,  3.06item/s]\n"
     ]
    },
    {
     "name": "stdout",
     "output_type": "stream",
     "text": [
      "-----Retrieving Simulation (period) CHELSA data for variable 'bio4'-----\n"
     ]
    },
    {
     "name": "stderr",
     "output_type": "stream",
     "text": [
      "Processing: 100%|█████████████████████████████████████████████████████████████████████████████████████████████████████████████| 45/45 [00:11<00:00,  3.75item/s]\n"
     ]
    },
    {
     "name": "stdout",
     "output_type": "stream",
     "text": [
      "-----Retrieving Simulation (period) CHELSA data for variable 'bio5'-----\n"
     ]
    },
    {
     "name": "stderr",
     "output_type": "stream",
     "text": [
      "Processing: 100%|█████████████████████████████████████████████████████████████████████████████████████████████████████████████| 45/45 [00:10<00:00,  4.35item/s]\n"
     ]
    },
    {
     "name": "stdout",
     "output_type": "stream",
     "text": [
      "-----Retrieving Simulation (period) CHELSA data for variable 'bio6'-----\n"
     ]
    },
    {
     "name": "stderr",
     "output_type": "stream",
     "text": [
      "Processing: 100%|█████████████████████████████████████████████████████████████████████████████████████████████████████████████| 45/45 [00:10<00:00,  4.28item/s]\n"
     ]
    },
    {
     "name": "stdout",
     "output_type": "stream",
     "text": [
      "-----Retrieving Simulation (period) CHELSA data for variable 'bio7'-----\n"
     ]
    },
    {
     "name": "stderr",
     "output_type": "stream",
     "text": [
      "Processing: 100%|█████████████████████████████████████████████████████████████████████████████████████████████████████████████| 45/45 [00:10<00:00,  4.13item/s]\n"
     ]
    },
    {
     "name": "stdout",
     "output_type": "stream",
     "text": [
      "-----Retrieving Simulation (period) CHELSA data for variable 'bio8'-----\n"
     ]
    },
    {
     "name": "stderr",
     "output_type": "stream",
     "text": [
      "Processing: 100%|█████████████████████████████████████████████████████████████████████████████████████████████████████████████| 45/45 [00:10<00:00,  4.35item/s]\n"
     ]
    },
    {
     "name": "stdout",
     "output_type": "stream",
     "text": [
      "-----Retrieving Simulation (period) CHELSA data for variable 'bio9'-----\n"
     ]
    },
    {
     "name": "stderr",
     "output_type": "stream",
     "text": [
      "Processing: 100%|█████████████████████████████████████████████████████████████████████████████████████████████████████████████| 45/45 [00:10<00:00,  4.14item/s]\n"
     ]
    },
    {
     "name": "stdout",
     "output_type": "stream",
     "text": [
      "-----Retrieving Simulation (period) CHELSA data for variable 'fcf'-----\n"
     ]
    },
    {
     "name": "stderr",
     "output_type": "stream",
     "text": [
      "Processing: 100%|█████████████████████████████████████████████████████████████████████████████████████████████████████████████| 45/45 [00:10<00:00,  4.24item/s]\n"
     ]
    },
    {
     "name": "stdout",
     "output_type": "stream",
     "text": [
      "-----Retrieving Simulation (period) CHELSA data for variable 'fgd'-----\n"
     ]
    },
    {
     "name": "stderr",
     "output_type": "stream",
     "text": [
      "Processing: 100%|█████████████████████████████████████████████████████████████████████████████████████████████████████████████| 45/45 [00:10<00:00,  4.30item/s]\n"
     ]
    },
    {
     "name": "stdout",
     "output_type": "stream",
     "text": [
      "-----Retrieving Simulation (period) CHELSA data for variable 'gdd0'-----\n"
     ]
    },
    {
     "name": "stderr",
     "output_type": "stream",
     "text": [
      "Processing: 100%|█████████████████████████████████████████████████████████████████████████████████████████████████████████████| 45/45 [00:12<00:00,  3.68item/s]\n"
     ]
    },
    {
     "name": "stdout",
     "output_type": "stream",
     "text": [
      "-----Retrieving Simulation (period) CHELSA data for variable 'gdd10'-----\n"
     ]
    },
    {
     "name": "stderr",
     "output_type": "stream",
     "text": [
      "Processing: 100%|█████████████████████████████████████████████████████████████████████████████████████████████████████████████| 45/45 [00:12<00:00,  3.67item/s]\n"
     ]
    },
    {
     "name": "stdout",
     "output_type": "stream",
     "text": [
      "-----Retrieving Simulation (period) CHELSA data for variable 'gdd5'-----\n"
     ]
    },
    {
     "name": "stderr",
     "output_type": "stream",
     "text": [
      "Processing: 100%|█████████████████████████████████████████████████████████████████████████████████████████████████████████████| 45/45 [00:12<00:00,  3.70item/s]\n"
     ]
    },
    {
     "name": "stdout",
     "output_type": "stream",
     "text": [
      "-----Retrieving Simulation (period) CHELSA data for variable 'gddlgd0'-----\n"
     ]
    },
    {
     "name": "stderr",
     "output_type": "stream",
     "text": [
      "Processing: 100%|█████████████████████████████████████████████████████████████████████████████████████████████████████████████| 45/45 [00:10<00:00,  4.37item/s]\n"
     ]
    },
    {
     "name": "stdout",
     "output_type": "stream",
     "text": [
      "-----Retrieving Simulation (period) CHELSA data for variable 'gddlgd10'-----\n"
     ]
    },
    {
     "name": "stderr",
     "output_type": "stream",
     "text": [
      "Processing: 100%|█████████████████████████████████████████████████████████████████████████████████████████████████████████████| 45/45 [00:10<00:00,  4.22item/s]\n"
     ]
    },
    {
     "name": "stdout",
     "output_type": "stream",
     "text": [
      "-----Retrieving Simulation (period) CHELSA data for variable 'gddlgd5'-----\n"
     ]
    },
    {
     "name": "stderr",
     "output_type": "stream",
     "text": [
      "Processing: 100%|█████████████████████████████████████████████████████████████████████████████████████████████████████████████| 45/45 [00:10<00:00,  4.30item/s]\n"
     ]
    },
    {
     "name": "stdout",
     "output_type": "stream",
     "text": [
      "-----Retrieving Simulation (period) CHELSA data for variable 'gdgfgd0'-----\n"
     ]
    },
    {
     "name": "stderr",
     "output_type": "stream",
     "text": [
      "Processing: 100%|█████████████████████████████████████████████████████████████████████████████████████████████████████████████| 45/45 [00:14<00:00,  3.08item/s]\n"
     ]
    },
    {
     "name": "stdout",
     "output_type": "stream",
     "text": [
      "-----Retrieving Simulation (period) CHELSA data for variable 'gdgfgd10'-----\n"
     ]
    },
    {
     "name": "stderr",
     "output_type": "stream",
     "text": [
      "Processing: 100%|█████████████████████████████████████████████████████████████████████████████████████████████████████████████| 45/45 [00:11<00:00,  3.78item/s]\n"
     ]
    },
    {
     "name": "stdout",
     "output_type": "stream",
     "text": [
      "-----Retrieving Simulation (period) CHELSA data for variable 'gdgfgd5'-----\n"
     ]
    },
    {
     "name": "stderr",
     "output_type": "stream",
     "text": [
      "Processing: 100%|█████████████████████████████████████████████████████████████████████████████████████████████████████████████| 45/45 [00:16<00:00,  2.77item/s]\n"
     ]
    },
    {
     "name": "stdout",
     "output_type": "stream",
     "text": [
      "-----Retrieving Simulation (period) CHELSA data for variable 'gsl'-----\n"
     ]
    },
    {
     "name": "stderr",
     "output_type": "stream",
     "text": [
      "Processing: 100%|█████████████████████████████████████████████████████████████████████████████████████████████████████████████| 45/45 [00:10<00:00,  4.11item/s]\n"
     ]
    },
    {
     "name": "stdout",
     "output_type": "stream",
     "text": [
      "-----Retrieving Simulation (period) CHELSA data for variable 'gsp'-----\n"
     ]
    },
    {
     "name": "stderr",
     "output_type": "stream",
     "text": [
      "Processing: 100%|█████████████████████████████████████████████████████████████████████████████████████████████████████████████| 45/45 [00:14<00:00,  3.18item/s]\n"
     ]
    },
    {
     "name": "stdout",
     "output_type": "stream",
     "text": [
      "-----Retrieving Simulation (period) CHELSA data for variable 'gst'-----\n"
     ]
    },
    {
     "name": "stderr",
     "output_type": "stream",
     "text": [
      "Processing: 100%|█████████████████████████████████████████████████████████████████████████████████████████████████████████████| 45/45 [00:11<00:00,  4.09item/s]\n"
     ]
    },
    {
     "name": "stdout",
     "output_type": "stream",
     "text": [
      "-----Retrieving Simulation (period) CHELSA data for variable 'kg0'-----\n"
     ]
    },
    {
     "name": "stderr",
     "output_type": "stream",
     "text": [
      "Processing: 100%|█████████████████████████████████████████████████████████████████████████████████████████████████████████████| 45/45 [00:10<00:00,  4.28item/s]\n"
     ]
    },
    {
     "name": "stdout",
     "output_type": "stream",
     "text": [
      "-----Retrieving Simulation (period) CHELSA data for variable 'kg1'-----\n"
     ]
    },
    {
     "name": "stderr",
     "output_type": "stream",
     "text": [
      "Processing: 100%|█████████████████████████████████████████████████████████████████████████████████████████████████████████████| 45/45 [00:10<00:00,  4.42item/s]\n"
     ]
    },
    {
     "name": "stdout",
     "output_type": "stream",
     "text": [
      "-----Retrieving Simulation (period) CHELSA data for variable 'kg2'-----\n"
     ]
    },
    {
     "name": "stderr",
     "output_type": "stream",
     "text": [
      "Processing: 100%|█████████████████████████████████████████████████████████████████████████████████████████████████████████████| 45/45 [00:09<00:00,  4.51item/s]\n"
     ]
    },
    {
     "name": "stdout",
     "output_type": "stream",
     "text": [
      "-----Retrieving Simulation (period) CHELSA data for variable 'kg3'-----\n"
     ]
    },
    {
     "name": "stderr",
     "output_type": "stream",
     "text": [
      "Processing: 100%|█████████████████████████████████████████████████████████████████████████████████████████████████████████████| 45/45 [00:10<00:00,  4.40item/s]\n"
     ]
    },
    {
     "name": "stdout",
     "output_type": "stream",
     "text": [
      "-----Retrieving Simulation (period) CHELSA data for variable 'kg4'-----\n"
     ]
    },
    {
     "name": "stderr",
     "output_type": "stream",
     "text": [
      "Processing: 100%|█████████████████████████████████████████████████████████████████████████████████████████████████████████████| 45/45 [00:14<00:00,  3.19item/s]\n"
     ]
    },
    {
     "name": "stdout",
     "output_type": "stream",
     "text": [
      "-----Retrieving Simulation (period) CHELSA data for variable 'kg5'-----\n"
     ]
    },
    {
     "name": "stderr",
     "output_type": "stream",
     "text": [
      "Processing: 100%|█████████████████████████████████████████████████████████████████████████████████████████████████████████████| 45/45 [00:11<00:00,  3.90item/s]\n"
     ]
    },
    {
     "name": "stdout",
     "output_type": "stream",
     "text": [
      "-----Retrieving Simulation (period) CHELSA data for variable 'lgd'-----\n"
     ]
    },
    {
     "name": "stderr",
     "output_type": "stream",
     "text": [
      "Processing: 100%|█████████████████████████████████████████████████████████████████████████████████████████████████████████████| 45/45 [00:12<00:00,  3.56item/s]\n"
     ]
    },
    {
     "name": "stdout",
     "output_type": "stream",
     "text": [
      "-----Retrieving Simulation (period) CHELSA data for variable 'ngd0'-----\n"
     ]
    },
    {
     "name": "stderr",
     "output_type": "stream",
     "text": [
      "Processing: 100%|█████████████████████████████████████████████████████████████████████████████████████████████████████████████| 45/45 [00:11<00:00,  3.84item/s]\n"
     ]
    },
    {
     "name": "stdout",
     "output_type": "stream",
     "text": [
      "-----Retrieving Simulation (period) CHELSA data for variable 'ngd10'-----\n"
     ]
    },
    {
     "name": "stderr",
     "output_type": "stream",
     "text": [
      "Processing: 100%|█████████████████████████████████████████████████████████████████████████████████████████████████████████████| 45/45 [00:16<00:00,  2.75item/s]\n"
     ]
    },
    {
     "name": "stdout",
     "output_type": "stream",
     "text": [
      "-----Retrieving Simulation (period) CHELSA data for variable 'ngd5'-----\n"
     ]
    },
    {
     "name": "stderr",
     "output_type": "stream",
     "text": [
      "Processing: 100%|█████████████████████████████████████████████████████████████████████████████████████████████████████████████| 45/45 [00:11<00:00,  3.84item/s]\n"
     ]
    },
    {
     "name": "stdout",
     "output_type": "stream",
     "text": [
      "-----Retrieving Simulation (period) CHELSA data for variable 'npp'-----\n"
     ]
    },
    {
     "name": "stderr",
     "output_type": "stream",
     "text": [
      "Processing: 100%|█████████████████████████████████████████████████████████████████████████████████████████████████████████████| 45/45 [00:13<00:00,  3.43item/s]\n"
     ]
    },
    {
     "name": "stdout",
     "output_type": "stream",
     "text": [
      "-----Retrieving Simulation (period) CHELSA data for variable 'scd'-----\n"
     ]
    },
    {
     "name": "stderr",
     "output_type": "stream",
     "text": [
      "Processing: 100%|█████████████████████████████████████████████████████████████████████████████████████████████████████████████| 45/45 [00:10<00:00,  4.20item/s]\n"
     ]
    },
    {
     "name": "stdout",
     "output_type": "stream",
     "text": [
      "-----Retrieving Simulation (period) CHELSA data for variable 'swe'-----\n"
     ]
    },
    {
     "name": "stderr",
     "output_type": "stream",
     "text": [
      "Processing: 100%|█████████████████████████████████████████████████████████████████████████████████████████████████████████████| 45/45 [00:44<00:00,  1.02item/s]\n"
     ]
    },
    {
     "name": "stdout",
     "output_type": "stream",
     "text": [
      "-----Retrieving Simulation (monthly) CHELSA data for variable 'pr'-----\n"
     ]
    },
    {
     "name": "stderr",
     "output_type": "stream",
     "text": [
      "Processing: 100%|███████████████████████████████████████████████████████████████████████████████████████████████████████████| 540/540 [21:49<00:00,  2.42s/item]\n"
     ]
    },
    {
     "name": "stdout",
     "output_type": "stream",
     "text": [
      "-----Retrieving Simulation (monthly) CHELSA data for variable 'tas'-----\n"
     ]
    },
    {
     "name": "stderr",
     "output_type": "stream",
     "text": [
      "Processing: 100%|███████████████████████████████████████████████████████████████████████████████████████████████████████████| 540/540 [23:14<00:00,  2.58s/item]\n"
     ]
    },
    {
     "name": "stdout",
     "output_type": "stream",
     "text": [
      "-----Retrieving Simulation (monthly) CHELSA data for variable 'tasmax'-----\n"
     ]
    },
    {
     "name": "stderr",
     "output_type": "stream",
     "text": [
      "Processing: 100%|███████████████████████████████████████████████████████████████████████████████████████████████████████████| 540/540 [41:17<00:00,  4.59s/item]\n"
     ]
    },
    {
     "name": "stdout",
     "output_type": "stream",
     "text": [
      "-----Retrieving Simulation (monthly) CHELSA data for variable 'tasmin'-----\n"
     ]
    },
    {
     "name": "stderr",
     "output_type": "stream",
     "text": [
      "Processing: 100%|███████████████████████████████████████████████████████████████████████████████████████████████████████████| 540/540 [51:51<00:00,  5.76s/item]\n"
     ]
    },
    {
     "data": {
      "text/plain": [
       "(['chelsa_month',\n",
       "  'chelsa_clim_ref_period',\n",
       "  'chelsa_clim_ref_month',\n",
       "  'chelsa_clim_sim_period',\n",
       "  'chelsa_clim_sim_month'],\n",
       " [<xarray.Dataset> Size: 30MB\n",
       "  Dimensions:  (time: 479, lat: 23, long: 69)\n",
       "  Coordinates:\n",
       "    * time     (time) datetime64[ns] 4kB 1979-02-01 1979-03-01 ... 2018-12-01\n",
       "    * lat      (lat) float64 184B 50.87 50.87 50.86 50.85 ... 50.71 50.7 50.69\n",
       "    * long     (long) float64 552B 4.176 4.184 4.192 4.201 ... 4.726 4.734 4.742\n",
       "  Data variables:\n",
       "      clt      (time, lat, long) float64 6MB 6.012e+03 6.012e+03 ... 5.363e+03\n",
       "      cmi      (time, lat, long) int16 2MB 242 221 207 215 220 ... 349 335 311 299\n",
       "      hurs     (time, lat, long) uint16 2MB 6653 6657 6662 6669 ... 6865 6863 6864\n",
       "      pet      (time, lat, long) uint16 2MB 2149 2356 2499 2436 ... 2803 3031 3144\n",
       "      pr       (time, lat, long) int64 6MB 4565 4568 4573 4589 ... 6149 6139 6132\n",
       "      rsds     (time, lat, long) uint16 2MB 5665 5681 5704 5726 ... 2238 2233 2225\n",
       "      sfcWind  (time, lat, long) uint16 2MB 3381 3778 3991 3886 ... 5239 5555 5751\n",
       "      tas      (time, lat, long) int32 3MB 2737 2737 2737 2737 ... 2787 2787 2786\n",
       "      tasmax   (time, lat, long) int32 3MB 2768 2768 2768 2768 ... 2809 2809 2808\n",
       "      tasmin   (time, lat, long) int32 3MB 2709 2709 2709 2709 ... 2762 2762 2761\n",
       "      vpd      (time, lat, long) uint16 2MB 2129 2126 2123 2119 ... 2839 2841 2821,\n",
       "  <xarray.Dataset> Size: 299kB\n",
       "  Dimensions:           (lat: 23, long: 69)\n",
       "  Coordinates:\n",
       "    * lat               (lat) float64 184B 50.87 50.87 50.86 ... 50.71 50.7 50.69\n",
       "    * long              (long) float64 552B 4.176 4.184 4.192 ... 4.734 4.742\n",
       "  Data variables: (12/76)\n",
       "      ai                (lat, long) float32 6kB 1.18 1.183 1.185 ... 1.207 1.216\n",
       "      bio10             (lat, long) uint16 3kB 2906 2905 2905 ... 2902 2902 2901\n",
       "      bio11             (lat, long) uint16 3kB 2769 2769 2769 ... 2763 2763 2763\n",
       "      bio12             (lat, long) uint16 3kB 8432 8445 8464 ... 8468 8510 8557\n",
       "      bio13             (lat, long) uint16 3kB 795 796 798 801 ... 786 788 792 795\n",
       "      bio14             (lat, long) uint16 3kB 499 500 502 504 ... 511 513 516 519\n",
       "      ...                ...\n",
       "      swb               (lat, long) int16 3kB -6 -38 -59 -47 ... -54 -63 -72 -76\n",
       "      swe               (lat, long) uint16 3kB 65535 65535 65535 ... 65535 65535\n",
       "      vpd_max           (lat, long) uint16 3kB 8349 8340 8336 ... 8033 7983 7955\n",
       "      vpd_mean          (lat, long) uint16 3kB 5056 5050 5046 ... 4826 4799 4779\n",
       "      vpd_min           (lat, long) uint16 3kB 2546 2542 2539 ... 2411 2398 2387\n",
       "      vpd_range         (lat, long) uint16 3kB 5803 5798 5797 ... 5622 5585 5568,\n",
       "  <xarray.Dataset> Size: 534kB\n",
       "  Dimensions:  (months: 12, lat: 23, long: 69)\n",
       "  Coordinates:\n",
       "    * months   (months) int64 96B 1 2 3 4 5 6 7 8 9 10 11 12\n",
       "    * lat      (lat) float64 184B 50.87 50.87 50.86 50.85 ... 50.71 50.7 50.69\n",
       "    * long     (long) float64 552B 4.176 4.184 4.192 4.201 ... 4.726 4.734 4.742\n",
       "  Data variables:\n",
       "      clt      (months, lat, long) float64 152kB 5.172e+03 5.172e+03 ... 5.64e+03\n",
       "      cmi      (months, lat, long) int16 38kB 499 466 444 459 ... 519 509 494 488\n",
       "      hurs     (months, lat, long) uint16 38kB 6769 6770 6773 ... 6956 6964 6972\n",
       "      pet      (months, lat, long) uint16 38kB 2049 2396 2640 ... 2445 2629 2727\n",
       "      pr       (months, lat, long) uint16 38kB 737 739 741 744 ... 786 788 792 795\n",
       "      rsds     (months, lat, long) uint16 38kB 2945 2957 2973 ... 2259 2253 2245\n",
       "      sfcWind  (months, lat, long) uint16 38kB 4337 4848 5124 ... 5107 5415 5604\n",
       "      tas      (months, lat, long) uint16 38kB 2766 2766 2766 ... 2767 2766 2766\n",
       "      tasmax   (months, lat, long) uint16 38kB 2790 2790 2789 ... 2789 2788 2788\n",
       "      tasmin   (months, lat, long) uint16 38kB 2740 2740 2740 ... 2744 2744 2744\n",
       "      vpd      (months, lat, long) uint16 38kB 2557 2554 2552 ... 2411 2398 2387,\n",
       "  <xarray.Dataset> Size: 7MB\n",
       "  Dimensions:          (year_range: 3, model_name: 5, ensemble_member: 3,\n",
       "                        lat: 23, long: 69)\n",
       "  Coordinates:\n",
       "    * year_range       (year_range) <U9 108B '2011-2040' '2041-2070' '2071-2100'\n",
       "    * model_name       (model_name) <U13 260B 'gfdl-esm4' ... 'ukesm1-0-ll'\n",
       "    * ensemble_member  (ensemble_member) <U6 72B 'ssp126' 'ssp370' 'ssp585'\n",
       "    * lat              (lat) float64 184B 50.87 50.87 50.86 ... 50.71 50.7 50.69\n",
       "    * long             (long) float64 552B 4.176 4.184 4.192 ... 4.726 4.734 4.742\n",
       "  Data variables: (12/46)\n",
       "      bio10            (year_range, model_name, ensemble_member, lat, long) uint16 143kB ...\n",
       "      bio11            (year_range, model_name, ensemble_member, lat, long) uint16 143kB ...\n",
       "      bio12            (year_range, model_name, ensemble_member, lat, long) uint16 143kB ...\n",
       "      bio13            (year_range, model_name, ensemble_member, lat, long) uint16 143kB ...\n",
       "      bio14            (year_range, model_name, ensemble_member, lat, long) uint16 143kB ...\n",
       "      bio15            (year_range, model_name, ensemble_member, lat, long) uint16 143kB ...\n",
       "      ...               ...\n",
       "      ngd0             (year_range, model_name, ensemble_member, lat, long) uint16 143kB ...\n",
       "      ngd10            (year_range, model_name, ensemble_member, lat, long) uint16 143kB ...\n",
       "      ngd5             (year_range, model_name, ensemble_member, lat, long) uint16 143kB ...\n",
       "      npp              (year_range, model_name, ensemble_member, lat, long) uint16 143kB ...\n",
       "      scd              (year_range, model_name, ensemble_member, lat, long) uint16 143kB ...\n",
       "      swe              (year_range, model_name, ensemble_member, lat, long) uint16 143kB ...,\n",
       "  <xarray.Dataset> Size: 7MB\n",
       "  Dimensions:          (year_range: 3, month: 12, model_name: 5,\n",
       "                        ensemble_member: 3, lat: 23, long: 69)\n",
       "  Coordinates:\n",
       "    * year_range       (year_range) <U9 108B '2011-2040' '2041-2070' '2071-2100'\n",
       "    * month            (month) int64 96B 1 2 3 4 5 6 7 8 9 10 11 12\n",
       "    * model_name       (model_name) <U13 260B 'gfdl-esm4' ... 'ukesm1-0-ll'\n",
       "    * ensemble_member  (ensemble_member) <U6 72B 'ssp126' 'ssp370' 'ssp585'\n",
       "    * lat              (lat) float64 184B 50.87 50.87 50.86 ... 50.71 50.7 50.69\n",
       "    * long             (long) float64 552B 4.176 4.184 4.192 ... 4.726 4.734 4.742\n",
       "  Data variables:\n",
       "      pr               (year_range, month, model_name, ensemble_member, lat, long) uint16 2MB ...\n",
       "      tas              (year_range, month, model_name, ensemble_member, lat, long) uint16 2MB ...\n",
       "      tasmax           (year_range, month, model_name, ensemble_member, lat, long) uint16 2MB ...\n",
       "      tasmin           (year_range, month, model_name, ensemble_member, lat, long) uint16 2MB ...])"
      ]
     },
     "execution_count": 21,
     "metadata": {},
     "output_type": "execute_result"
    }
   ],
   "source": [
    "cube.generate_chelsa_cube(param_file, param_path)"
   ]
  },
  {
   "cell_type": "markdown",
   "id": "d3fe0a29-b913-44e9-a459-be253730a288",
   "metadata": {},
   "source": [
    "# BmD Cube"
   ]
  },
  {
   "cell_type": "code",
   "execution_count": 23,
   "id": "37238fe8-ac37-40ea-85a6-9ef769e30c30",
   "metadata": {},
   "outputs": [],
   "source": [
    "from cube import bmd"
   ]
  },
  {
   "cell_type": "code",
   "execution_count": 24,
   "id": "8b34c8cd-7f1f-40b0-8429-4a64e9ac713e",
   "metadata": {},
   "outputs": [],
   "source": [
    "bmd_cube = bmd.bmd_cube()"
   ]
  },
  {
   "cell_type": "code",
   "execution_count": null,
   "id": "07f725b2-3821-427d-8bb7-483c43d96a35",
   "metadata": {},
   "outputs": [
    {
     "name": "stdout",
     "output_type": "stream",
     "text": [
      "-----Retrieving monthly CHELSA data for variable 'clt'-----\n"
     ]
    },
    {
     "name": "stderr",
     "output_type": "stream",
     "text": [
      "Processing: 100%|███████████████████████████████████████████████████████████████████████████████████████████████████████████| 479/479 [01:50<00:00,  4.34item/s]\n"
     ]
    },
    {
     "name": "stdout",
     "output_type": "stream",
     "text": [
      "-----Retrieving monthly CHELSA data for variable 'cmi'-----\n"
     ]
    },
    {
     "name": "stderr",
     "output_type": "stream",
     "text": [
      "Processing: 100%|███████████████████████████████████████████████████████████████████████████████████████████████████████████| 479/479 [02:05<00:00,  3.82item/s]\n"
     ]
    },
    {
     "name": "stdout",
     "output_type": "stream",
     "text": [
      "-----Retrieving monthly CHELSA data for variable 'hurs'-----\n"
     ]
    },
    {
     "name": "stderr",
     "output_type": "stream",
     "text": [
      "Processing: 100%|███████████████████████████████████████████████████████████████████████████████████████████████████████████| 479/479 [02:02<00:00,  3.92item/s]\n"
     ]
    },
    {
     "name": "stdout",
     "output_type": "stream",
     "text": [
      "-----Retrieving monthly CHELSA data for variable 'pet'-----\n"
     ]
    },
    {
     "name": "stderr",
     "output_type": "stream",
     "text": [
      "Processing: 100%|███████████████████████████████████████████████████████████████████████████████████████████████████████████| 479/479 [02:05<00:00,  3.82item/s]\n"
     ]
    },
    {
     "name": "stdout",
     "output_type": "stream",
     "text": [
      "-----Retrieving monthly CHELSA data for variable 'pr'-----\n"
     ]
    },
    {
     "name": "stderr",
     "output_type": "stream",
     "text": [
      "Processing: 100%|███████████████████████████████████████████████████████████████████████████████████████████████████████████| 479/479 [02:11<00:00,  3.64item/s]\n"
     ]
    },
    {
     "name": "stdout",
     "output_type": "stream",
     "text": [
      "-----Retrieving monthly CHELSA data for variable 'rsds'-----\n"
     ]
    },
    {
     "name": "stderr",
     "output_type": "stream",
     "text": [
      "Processing: 100%|███████████████████████████████████████████████████████████████████████████████████████████████████████████| 479/479 [02:08<00:00,  3.72item/s]\n"
     ]
    },
    {
     "name": "stdout",
     "output_type": "stream",
     "text": [
      "-----Retrieving monthly CHELSA data for variable 'sfcWind'-----\n"
     ]
    },
    {
     "name": "stderr",
     "output_type": "stream",
     "text": [
      "Processing: 100%|███████████████████████████████████████████████████████████████████████████████████████████████████████████| 479/479 [02:05<00:00,  3.82item/s]\n"
     ]
    },
    {
     "name": "stdout",
     "output_type": "stream",
     "text": [
      "-----Retrieving monthly CHELSA data for variable 'tas'-----\n"
     ]
    },
    {
     "name": "stderr",
     "output_type": "stream",
     "text": [
      "Processing: 100%|███████████████████████████████████████████████████████████████████████████████████████████████████████████| 479/479 [01:52<00:00,  4.25item/s]\n"
     ]
    },
    {
     "name": "stdout",
     "output_type": "stream",
     "text": [
      "-----Retrieving monthly CHELSA data for variable 'tasmax'-----\n"
     ]
    },
    {
     "name": "stderr",
     "output_type": "stream",
     "text": [
      "Processing: 100%|███████████████████████████████████████████████████████████████████████████████████████████████████████████| 479/479 [01:54<00:00,  4.18item/s]\n"
     ]
    },
    {
     "name": "stdout",
     "output_type": "stream",
     "text": [
      "-----Retrieving monthly CHELSA data for variable 'tasmin'-----\n"
     ]
    },
    {
     "name": "stderr",
     "output_type": "stream",
     "text": [
      "Processing: 100%|███████████████████████████████████████████████████████████████████████████████████████████████████████████| 479/479 [01:56<00:00,  4.12item/s]\n"
     ]
    },
    {
     "name": "stdout",
     "output_type": "stream",
     "text": [
      "-----Retrieving monthly CHELSA data for variable 'vpd'-----\n"
     ]
    },
    {
     "name": "stderr",
     "output_type": "stream",
     "text": [
      "Processing: 100%|███████████████████████████████████████████████████████████████████████████████████████████████████████████| 479/479 [02:06<00:00,  3.79item/s]\n"
     ]
    },
    {
     "name": "stdout",
     "output_type": "stream",
     "text": [
      "-----Retrieving Reference Climatology CHELSA data for variable 'ai' in reference period 1981-2010-----\n",
      "Complete\n",
      "-----Retrieving Reference Climatology CHELSA data for variable 'bio10' in reference period 1981-2010-----\n",
      "Complete\n",
      "-----Retrieving Reference Climatology CHELSA data for variable 'bio11' in reference period 1981-2010-----\n",
      "Complete\n",
      "-----Retrieving Reference Climatology CHELSA data for variable 'bio12' in reference period 1981-2010-----\n",
      "Complete\n",
      "-----Retrieving Reference Climatology CHELSA data for variable 'bio13' in reference period 1981-2010-----\n",
      "Complete\n",
      "-----Retrieving Reference Climatology CHELSA data for variable 'bio14' in reference period 1981-2010-----\n",
      "Complete\n",
      "-----Retrieving Reference Climatology CHELSA data for variable 'bio15' in reference period 1981-2010-----\n",
      "Complete\n",
      "-----Retrieving Reference Climatology CHELSA data for variable 'bio16' in reference period 1981-2010-----\n",
      "Complete\n",
      "-----Retrieving Reference Climatology CHELSA data for variable 'bio17' in reference period 1981-2010-----\n",
      "Complete\n",
      "-----Retrieving Reference Climatology CHELSA data for variable 'bio18' in reference period 1981-2010-----\n",
      "Complete\n",
      "-----Retrieving Reference Climatology CHELSA data for variable 'bio19' in reference period 1981-2010-----\n",
      "Complete\n",
      "-----Retrieving Reference Climatology CHELSA data for variable 'bio1' in reference period 1981-2010-----\n",
      "Complete\n",
      "-----Retrieving Reference Climatology CHELSA data for variable 'bio2' in reference period 1981-2010-----\n",
      "Complete\n",
      "-----Retrieving Reference Climatology CHELSA data for variable 'bio3' in reference period 1981-2010-----\n",
      "Complete\n",
      "-----Retrieving Reference Climatology CHELSA data for variable 'bio4' in reference period 1981-2010-----\n",
      "Complete\n",
      "-----Retrieving Reference Climatology CHELSA data for variable 'bio5' in reference period 1981-2010-----\n",
      "Complete\n",
      "-----Retrieving Reference Climatology CHELSA data for variable 'bio6' in reference period 1981-2010-----\n",
      "Complete\n",
      "-----Retrieving Reference Climatology CHELSA data for variable 'bio7' in reference period 1981-2010-----\n",
      "Complete\n",
      "-----Retrieving Reference Climatology CHELSA data for variable 'bio8' in reference period 1981-2010-----\n",
      "Complete\n",
      "-----Retrieving Reference Climatology CHELSA data for variable 'bio9' in reference period 1981-2010-----\n",
      "Complete\n",
      "-----Retrieving Reference Climatology CHELSA data for variable 'clt_max' in reference period 1981-2010-----\n",
      "Complete\n",
      "-----Retrieving Reference Climatology CHELSA data for variable 'clt_mean' in reference period 1981-2010-----\n",
      "Complete\n",
      "-----Retrieving Reference Climatology CHELSA data for variable 'clt_min' in reference period 1981-2010-----\n",
      "Complete\n",
      "-----Retrieving Reference Climatology CHELSA data for variable 'clt_range' in reference period 1981-2010-----\n",
      "Complete\n",
      "-----Retrieving Reference Climatology CHELSA data for variable 'cmi_max' in reference period 1981-2010-----\n",
      "Complete\n",
      "-----Retrieving Reference Climatology CHELSA data for variable 'cmi_mean' in reference period 1981-2010-----\n",
      "Complete\n",
      "-----Retrieving Reference Climatology CHELSA data for variable 'cmi_min' in reference period 1981-2010-----\n",
      "Complete\n",
      "-----Retrieving Reference Climatology CHELSA data for variable 'cmi_range' in reference period 1981-2010-----\n",
      "Complete\n",
      "-----Retrieving Reference Climatology CHELSA data for variable 'fcf' in reference period 1981-2010-----\n",
      "Complete\n",
      "-----Retrieving Reference Climatology CHELSA data for variable 'fgd' in reference period 1981-2010-----\n",
      "Complete\n",
      "-----Retrieving Reference Climatology CHELSA data for variable 'gdd0' in reference period 1981-2010-----\n",
      "Complete\n",
      "-----Retrieving Reference Climatology CHELSA data for variable 'gdd10' in reference period 1981-2010-----\n",
      "Complete\n",
      "-----Retrieving Reference Climatology CHELSA data for variable 'gdd5' in reference period 1981-2010-----\n",
      "Complete\n",
      "-----Retrieving Reference Climatology CHELSA data for variable 'gddlgd0' in reference period 1981-2010-----\n",
      "Complete\n",
      "-----Retrieving Reference Climatology CHELSA data for variable 'gddlgd10' in reference period 1981-2010-----\n",
      "Complete\n",
      "-----Retrieving Reference Climatology CHELSA data for variable 'gddlgd5' in reference period 1981-2010-----\n",
      "Complete\n",
      "-----Retrieving Reference Climatology CHELSA data for variable 'gdgfgd0' in reference period 1981-2010-----\n",
      "Complete\n",
      "-----Retrieving Reference Climatology CHELSA data for variable 'gdgfgd10' in reference period 1981-2010-----\n",
      "Complete\n",
      "-----Retrieving Reference Climatology CHELSA data for variable 'gdgfgd5' in reference period 1981-2010-----\n",
      "Complete\n",
      "-----Retrieving Reference Climatology CHELSA data for variable 'gsl' in reference period 1981-2010-----\n",
      "Complete\n",
      "-----Retrieving Reference Climatology CHELSA data for variable 'gsp' in reference period 1981-2010-----\n",
      "Complete\n",
      "-----Retrieving Reference Climatology CHELSA data for variable 'gst' in reference period 1981-2010-----\n",
      "Complete\n",
      "-----Retrieving Reference Climatology CHELSA data for variable 'hurs_max' in reference period 1981-2010-----\n",
      "Complete\n",
      "-----Retrieving Reference Climatology CHELSA data for variable 'hurs_mean' in reference period 1981-2010-----\n",
      "Complete\n",
      "-----Retrieving Reference Climatology CHELSA data for variable 'hurs_min' in reference period 1981-2010-----\n",
      "Complete\n",
      "-----Retrieving Reference Climatology CHELSA data for variable 'hurs_range' in reference period 1981-2010-----\n",
      "Complete\n",
      "-----Retrieving Reference Climatology CHELSA data for variable 'kg0' in reference period 1981-2010-----\n",
      "Complete\n",
      "-----Retrieving Reference Climatology CHELSA data for variable 'kg1' in reference period 1981-2010-----\n",
      "Complete\n",
      "-----Retrieving Reference Climatology CHELSA data for variable 'kg2' in reference period 1981-2010-----\n",
      "Complete\n",
      "-----Retrieving Reference Climatology CHELSA data for variable 'kg3' in reference period 1981-2010-----\n",
      "Complete\n",
      "-----Retrieving Reference Climatology CHELSA data for variable 'kg4' in reference period 1981-2010-----\n",
      "Complete\n",
      "-----Retrieving Reference Climatology CHELSA data for variable 'kg5' in reference period 1981-2010-----\n",
      "Complete\n",
      "-----Retrieving Reference Climatology CHELSA data for variable 'lgd' in reference period 1981-2010-----\n",
      "Complete\n",
      "-----Retrieving Reference Climatology CHELSA data for variable 'ngd0' in reference period 1981-2010-----\n",
      "Complete\n",
      "-----Retrieving Reference Climatology CHELSA data for variable 'ngd10' in reference period 1981-2010-----\n",
      "Complete\n",
      "-----Retrieving Reference Climatology CHELSA data for variable 'ngd5' in reference period 1981-2010-----\n",
      "Complete\n",
      "-----Retrieving Reference Climatology CHELSA data for variable 'npp' in reference period 1981-2010-----\n",
      "Complete\n",
      "-----Retrieving Reference Climatology CHELSA data for variable 'pet_penman_max' in reference period 1981-2010-----\n",
      "Complete\n",
      "-----Retrieving Reference Climatology CHELSA data for variable 'pet_penman_mean' in reference period 1981-2010-----\n",
      "Complete\n",
      "-----Retrieving Reference Climatology CHELSA data for variable 'pet_penman_min' in reference period 1981-2010-----\n",
      "Complete\n",
      "-----Retrieving Reference Climatology CHELSA data for variable 'pet_penman_range' in reference period 1981-2010-----\n",
      "Complete\n",
      "-----Retrieving Reference Climatology CHELSA data for variable 'rsds_max' in reference period 1981-2010-----\n",
      "Complete\n",
      "-----Retrieving Reference Climatology CHELSA data for variable 'rsds_min' in reference period 1981-2010-----\n",
      "Complete\n",
      "-----Retrieving Reference Climatology CHELSA data for variable 'rsds_mean' in reference period 1981-2010-----\n",
      "Complete\n",
      "-----Retrieving Reference Climatology CHELSA data for variable 'rsds_range' in reference period 1981-2010-----\n",
      "Complete\n",
      "-----Retrieving Reference Climatology CHELSA data for variable 'scd' in reference period 1981-2010-----\n",
      "Complete\n",
      "-----Retrieving Reference Climatology CHELSA data for variable 'sfcWind_max' in reference period 1981-2010-----\n",
      "Complete\n",
      "-----Retrieving Reference Climatology CHELSA data for variable 'sfcWind_mean' in reference period 1981-2010-----\n",
      "Complete\n",
      "-----Retrieving Reference Climatology CHELSA data for variable 'sfcWind_min' in reference period 1981-2010-----\n",
      "Complete\n",
      "-----Retrieving Reference Climatology CHELSA data for variable 'sfcWind_range' in reference period 1981-2010-----\n",
      "Complete\n",
      "-----Retrieving Reference Climatology CHELSA data for variable 'swb' in reference period 1981-2010-----\n",
      "Complete\n",
      "-----Retrieving Reference Climatology CHELSA data for variable 'swe' in reference period 1981-2010-----\n",
      "Complete\n",
      "-----Retrieving Reference Climatology CHELSA data for variable 'vpd_max' in reference period 1981-2010-----\n",
      "Complete\n",
      "-----Retrieving Reference Climatology CHELSA data for variable 'vpd_mean' in reference period 1981-2010-----\n",
      "Complete\n",
      "-----Retrieving Reference Climatology CHELSA data for variable 'vpd_min' in reference period 1981-2010-----\n",
      "Complete\n",
      "-----Retrieving Reference Climatology CHELSA data for variable 'vpd_range' in reference period 1981-2010-----\n",
      "Complete\n",
      "-----Retrieving monthly Reference Climatology CHELSA data for variable 'clt' in reference period 1981-2010-----\n"
     ]
    },
    {
     "name": "stderr",
     "output_type": "stream",
     "text": [
      "Processing: 100%|█████████████████████████████████████████████████████████████████████████████████████████████████████████████| 12/12 [00:02<00:00,  4.81item/s]\n"
     ]
    },
    {
     "name": "stdout",
     "output_type": "stream",
     "text": [
      "-----Retrieving monthly Reference Climatology CHELSA data for variable 'cmi' in reference period 1981-2010-----\n"
     ]
    },
    {
     "name": "stderr",
     "output_type": "stream",
     "text": [
      "Processing: 100%|█████████████████████████████████████████████████████████████████████████████████████████████████████████████| 12/12 [00:03<00:00,  3.85item/s]\n"
     ]
    },
    {
     "name": "stdout",
     "output_type": "stream",
     "text": [
      "-----Retrieving monthly Reference Climatology CHELSA data for variable 'hurs' in reference period 1981-2010-----\n"
     ]
    },
    {
     "name": "stderr",
     "output_type": "stream",
     "text": [
      "Processing: 100%|█████████████████████████████████████████████████████████████████████████████████████████████████████████████| 12/12 [00:02<00:00,  4.26item/s]\n"
     ]
    },
    {
     "name": "stdout",
     "output_type": "stream",
     "text": [
      "-----Retrieving monthly Reference Climatology CHELSA data for variable 'pet' in reference period 1981-2010-----\n"
     ]
    },
    {
     "name": "stderr",
     "output_type": "stream",
     "text": [
      "Processing: 100%|█████████████████████████████████████████████████████████████████████████████████████████████████████████████| 12/12 [00:03<00:00,  3.49item/s]\n"
     ]
    },
    {
     "name": "stdout",
     "output_type": "stream",
     "text": [
      "-----Retrieving monthly Reference Climatology CHELSA data for variable 'pr' in reference period 1981-2010-----\n"
     ]
    },
    {
     "name": "stderr",
     "output_type": "stream",
     "text": [
      "Processing: 100%|█████████████████████████████████████████████████████████████████████████████████████████████████████████████| 12/12 [00:04<00:00,  2.65item/s]\n"
     ]
    },
    {
     "name": "stdout",
     "output_type": "stream",
     "text": [
      "-----Retrieving monthly Reference Climatology CHELSA data for variable 'rsds' in reference period 1981-2010-----\n"
     ]
    },
    {
     "name": "stderr",
     "output_type": "stream",
     "text": [
      "Processing: 100%|█████████████████████████████████████████████████████████████████████████████████████████████████████████████| 12/12 [00:03<00:00,  3.67item/s]\n"
     ]
    },
    {
     "name": "stdout",
     "output_type": "stream",
     "text": [
      "-----Retrieving monthly Reference Climatology CHELSA data for variable 'sfcWind' in reference period 1981-2010-----\n"
     ]
    },
    {
     "name": "stderr",
     "output_type": "stream",
     "text": [
      "Processing: 100%|█████████████████████████████████████████████████████████████████████████████████████████████████████████████| 12/12 [00:03<00:00,  3.96item/s]\n"
     ]
    },
    {
     "name": "stdout",
     "output_type": "stream",
     "text": [
      "-----Retrieving monthly Reference Climatology CHELSA data for variable 'tas' in reference period 1981-2010-----\n"
     ]
    },
    {
     "name": "stderr",
     "output_type": "stream",
     "text": [
      "Processing: 100%|█████████████████████████████████████████████████████████████████████████████████████████████████████████████| 12/12 [00:25<00:00,  2.09s/item]\n"
     ]
    },
    {
     "name": "stdout",
     "output_type": "stream",
     "text": [
      "-----Retrieving monthly Reference Climatology CHELSA data for variable 'tasmax' in reference period 1981-2010-----\n"
     ]
    },
    {
     "name": "stderr",
     "output_type": "stream",
     "text": [
      "Processing: 100%|█████████████████████████████████████████████████████████████████████████████████████████████████████████████| 12/12 [00:22<00:00,  1.90s/item]\n"
     ]
    },
    {
     "name": "stdout",
     "output_type": "stream",
     "text": [
      "-----Retrieving monthly Reference Climatology CHELSA data for variable 'tasmin' in reference period 1981-2010-----\n"
     ]
    },
    {
     "name": "stderr",
     "output_type": "stream",
     "text": [
      "Processing: 100%|█████████████████████████████████████████████████████████████████████████████████████████████████████████████| 12/12 [00:25<00:00,  2.12s/item]\n"
     ]
    },
    {
     "name": "stdout",
     "output_type": "stream",
     "text": [
      "-----Retrieving monthly Reference Climatology CHELSA data for variable 'vpd' in reference period 1981-2010-----\n"
     ]
    },
    {
     "name": "stderr",
     "output_type": "stream",
     "text": [
      "Processing: 100%|█████████████████████████████████████████████████████████████████████████████████████████████████████████████| 12/12 [00:03<00:00,  3.69item/s]\n"
     ]
    },
    {
     "name": "stdout",
     "output_type": "stream",
     "text": [
      "-----Retrieving Simulation (period) CHELSA data for variable 'bio10'-----\n"
     ]
    },
    {
     "name": "stderr",
     "output_type": "stream",
     "text": [
      "Processing: 100%|█████████████████████████████████████████████████████████████████████████████████████████████████████████████| 45/45 [00:29<00:00,  1.51item/s]\n"
     ]
    },
    {
     "name": "stdout",
     "output_type": "stream",
     "text": [
      "-----Retrieving Simulation (period) CHELSA data for variable 'bio11'-----\n"
     ]
    },
    {
     "name": "stderr",
     "output_type": "stream",
     "text": [
      "Processing: 100%|█████████████████████████████████████████████████████████████████████████████████████████████████████████████| 45/45 [00:10<00:00,  4.30item/s]\n"
     ]
    },
    {
     "name": "stdout",
     "output_type": "stream",
     "text": [
      "-----Retrieving Simulation (period) CHELSA data for variable 'bio12'-----\n"
     ]
    },
    {
     "name": "stderr",
     "output_type": "stream",
     "text": [
      "Processing: 100%|█████████████████████████████████████████████████████████████████████████████████████████████████████████████| 45/45 [00:32<00:00,  1.39item/s]\n"
     ]
    },
    {
     "name": "stdout",
     "output_type": "stream",
     "text": [
      "-----Retrieving Simulation (period) CHELSA data for variable 'bio13'-----\n"
     ]
    },
    {
     "name": "stderr",
     "output_type": "stream",
     "text": [
      "Processing: 100%|█████████████████████████████████████████████████████████████████████████████████████████████████████████████| 45/45 [00:11<00:00,  3.75item/s]\n"
     ]
    },
    {
     "name": "stdout",
     "output_type": "stream",
     "text": [
      "-----Retrieving Simulation (period) CHELSA data for variable 'bio14'-----\n"
     ]
    },
    {
     "name": "stderr",
     "output_type": "stream",
     "text": [
      "Processing: 100%|█████████████████████████████████████████████████████████████████████████████████████████████████████████████| 45/45 [00:32<00:00,  1.40item/s]\n"
     ]
    },
    {
     "name": "stdout",
     "output_type": "stream",
     "text": [
      "-----Retrieving Simulation (period) CHELSA data for variable 'bio15'-----\n"
     ]
    },
    {
     "name": "stderr",
     "output_type": "stream",
     "text": [
      "Processing: 100%|█████████████████████████████████████████████████████████████████████████████████████████████████████████████| 45/45 [00:10<00:00,  4.16item/s]\n"
     ]
    },
    {
     "name": "stdout",
     "output_type": "stream",
     "text": [
      "-----Retrieving Simulation (period) CHELSA data for variable 'bio16'-----\n"
     ]
    },
    {
     "name": "stderr",
     "output_type": "stream",
     "text": [
      "Processing: 100%|█████████████████████████████████████████████████████████████████████████████████████████████████████████████| 45/45 [00:11<00:00,  3.79item/s]\n"
     ]
    },
    {
     "name": "stdout",
     "output_type": "stream",
     "text": [
      "-----Retrieving Simulation (period) CHELSA data for variable 'bio17'-----\n"
     ]
    },
    {
     "name": "stderr",
     "output_type": "stream",
     "text": [
      "Processing: 100%|█████████████████████████████████████████████████████████████████████████████████████████████████████████████| 45/45 [00:10<00:00,  4.09item/s]\n"
     ]
    },
    {
     "name": "stdout",
     "output_type": "stream",
     "text": [
      "-----Retrieving Simulation (period) CHELSA data for variable 'bio18'-----\n"
     ]
    },
    {
     "name": "stderr",
     "output_type": "stream",
     "text": [
      "Processing: 100%|█████████████████████████████████████████████████████████████████████████████████████████████████████████████| 45/45 [00:11<00:00,  3.95item/s]\n"
     ]
    },
    {
     "name": "stdout",
     "output_type": "stream",
     "text": [
      "-----Retrieving Simulation (period) CHELSA data for variable 'bio19'-----\n"
     ]
    },
    {
     "name": "stderr",
     "output_type": "stream",
     "text": [
      "Processing: 100%|█████████████████████████████████████████████████████████████████████████████████████████████████████████████| 45/45 [00:13<00:00,  3.38item/s]\n"
     ]
    },
    {
     "name": "stdout",
     "output_type": "stream",
     "text": [
      "-----Retrieving Simulation (period) CHELSA data for variable 'bio1'-----\n"
     ]
    },
    {
     "name": "stderr",
     "output_type": "stream",
     "text": [
      "Processing: 100%|█████████████████████████████████████████████████████████████████████████████████████████████████████████████| 45/45 [00:10<00:00,  4.19item/s]\n"
     ]
    },
    {
     "name": "stdout",
     "output_type": "stream",
     "text": [
      "-----Retrieving Simulation (period) CHELSA data for variable 'bio2'-----\n"
     ]
    },
    {
     "name": "stderr",
     "output_type": "stream",
     "text": [
      "Processing: 100%|█████████████████████████████████████████████████████████████████████████████████████████████████████████████| 45/45 [00:13<00:00,  3.41item/s]\n"
     ]
    },
    {
     "name": "stdout",
     "output_type": "stream",
     "text": [
      "-----Retrieving Simulation (period) CHELSA data for variable 'bio3'-----\n"
     ]
    },
    {
     "name": "stderr",
     "output_type": "stream",
     "text": [
      "Processing: 100%|█████████████████████████████████████████████████████████████████████████████████████████████████████████████| 45/45 [00:12<00:00,  3.48item/s]\n"
     ]
    },
    {
     "name": "stdout",
     "output_type": "stream",
     "text": [
      "-----Retrieving Simulation (period) CHELSA data for variable 'bio4'-----\n"
     ]
    },
    {
     "name": "stderr",
     "output_type": "stream",
     "text": [
      "Processing: 100%|█████████████████████████████████████████████████████████████████████████████████████████████████████████████| 45/45 [00:11<00:00,  3.98item/s]\n"
     ]
    },
    {
     "name": "stdout",
     "output_type": "stream",
     "text": [
      "-----Retrieving Simulation (period) CHELSA data for variable 'bio5'-----\n"
     ]
    },
    {
     "name": "stderr",
     "output_type": "stream",
     "text": [
      "Processing: 100%|█████████████████████████████████████████████████████████████████████████████████████████████████████████████| 45/45 [00:11<00:00,  3.91item/s]\n"
     ]
    },
    {
     "name": "stdout",
     "output_type": "stream",
     "text": [
      "-----Retrieving Simulation (period) CHELSA data for variable 'bio6'-----\n"
     ]
    },
    {
     "name": "stderr",
     "output_type": "stream",
     "text": [
      "Processing: 100%|█████████████████████████████████████████████████████████████████████████████████████████████████████████████| 45/45 [00:10<00:00,  4.14item/s]\n"
     ]
    },
    {
     "name": "stdout",
     "output_type": "stream",
     "text": [
      "-----Retrieving Simulation (period) CHELSA data for variable 'bio7'-----\n"
     ]
    },
    {
     "name": "stderr",
     "output_type": "stream",
     "text": [
      "Processing: 100%|█████████████████████████████████████████████████████████████████████████████████████████████████████████████| 45/45 [00:10<00:00,  4.23item/s]\n"
     ]
    },
    {
     "name": "stdout",
     "output_type": "stream",
     "text": [
      "-----Retrieving Simulation (period) CHELSA data for variable 'bio8'-----\n"
     ]
    },
    {
     "name": "stderr",
     "output_type": "stream",
     "text": [
      "Processing: 100%|█████████████████████████████████████████████████████████████████████████████████████████████████████████████| 45/45 [00:10<00:00,  4.49item/s]\n"
     ]
    },
    {
     "name": "stdout",
     "output_type": "stream",
     "text": [
      "-----Retrieving Simulation (period) CHELSA data for variable 'bio9'-----\n"
     ]
    },
    {
     "name": "stderr",
     "output_type": "stream",
     "text": [
      "Processing: 100%|█████████████████████████████████████████████████████████████████████████████████████████████████████████████| 45/45 [00:10<00:00,  4.24item/s]\n"
     ]
    },
    {
     "name": "stdout",
     "output_type": "stream",
     "text": [
      "-----Retrieving Simulation (period) CHELSA data for variable 'fcf'-----\n"
     ]
    },
    {
     "name": "stderr",
     "output_type": "stream",
     "text": [
      "Processing: 100%|█████████████████████████████████████████████████████████████████████████████████████████████████████████████| 45/45 [00:10<00:00,  4.12item/s]\n"
     ]
    },
    {
     "name": "stdout",
     "output_type": "stream",
     "text": [
      "-----Retrieving Simulation (period) CHELSA data for variable 'fgd'-----\n"
     ]
    },
    {
     "name": "stderr",
     "output_type": "stream",
     "text": [
      "Processing: 100%|█████████████████████████████████████████████████████████████████████████████████████████████████████████████| 45/45 [00:10<00:00,  4.11item/s]\n"
     ]
    },
    {
     "name": "stdout",
     "output_type": "stream",
     "text": [
      "-----Retrieving Simulation (period) CHELSA data for variable 'gdd0'-----\n"
     ]
    },
    {
     "name": "stderr",
     "output_type": "stream",
     "text": [
      "Processing: 100%|█████████████████████████████████████████████████████████████████████████████████████████████████████████████| 45/45 [00:12<00:00,  3.56item/s]\n"
     ]
    },
    {
     "name": "stdout",
     "output_type": "stream",
     "text": [
      "-----Retrieving Simulation (period) CHELSA data for variable 'gdd10'-----\n"
     ]
    },
    {
     "name": "stderr",
     "output_type": "stream",
     "text": [
      "Processing: 100%|█████████████████████████████████████████████████████████████████████████████████████████████████████████████| 45/45 [00:11<00:00,  3.81item/s]\n"
     ]
    },
    {
     "name": "stdout",
     "output_type": "stream",
     "text": [
      "-----Retrieving Simulation (period) CHELSA data for variable 'gdd5'-----\n"
     ]
    },
    {
     "name": "stderr",
     "output_type": "stream",
     "text": [
      "Processing: 100%|█████████████████████████████████████████████████████████████████████████████████████████████████████████████| 45/45 [00:12<00:00,  3.63item/s]\n"
     ]
    },
    {
     "name": "stdout",
     "output_type": "stream",
     "text": [
      "-----Retrieving Simulation (period) CHELSA data for variable 'gddlgd0'-----\n"
     ]
    },
    {
     "name": "stderr",
     "output_type": "stream",
     "text": [
      "Processing: 100%|█████████████████████████████████████████████████████████████████████████████████████████████████████████████| 45/45 [00:10<00:00,  4.23item/s]\n"
     ]
    },
    {
     "name": "stdout",
     "output_type": "stream",
     "text": [
      "-----Retrieving Simulation (period) CHELSA data for variable 'gddlgd10'-----\n"
     ]
    },
    {
     "name": "stderr",
     "output_type": "stream",
     "text": [
      "Processing: 100%|█████████████████████████████████████████████████████████████████████████████████████████████████████████████| 45/45 [00:11<00:00,  4.08item/s]\n"
     ]
    },
    {
     "name": "stdout",
     "output_type": "stream",
     "text": [
      "-----Retrieving Simulation (period) CHELSA data for variable 'gddlgd5'-----\n"
     ]
    },
    {
     "name": "stderr",
     "output_type": "stream",
     "text": [
      "Processing: 100%|█████████████████████████████████████████████████████████████████████████████████████████████████████████████| 45/45 [00:10<00:00,  4.26item/s]\n"
     ]
    },
    {
     "name": "stdout",
     "output_type": "stream",
     "text": [
      "-----Retrieving Simulation (period) CHELSA data for variable 'gdgfgd0'-----\n"
     ]
    },
    {
     "name": "stderr",
     "output_type": "stream",
     "text": [
      "Processing: 100%|█████████████████████████████████████████████████████████████████████████████████████████████████████████████| 45/45 [00:10<00:00,  4.09item/s]\n"
     ]
    },
    {
     "name": "stdout",
     "output_type": "stream",
     "text": [
      "-----Retrieving Simulation (period) CHELSA data for variable 'gdgfgd10'-----\n"
     ]
    },
    {
     "name": "stderr",
     "output_type": "stream",
     "text": [
      "Processing: 100%|█████████████████████████████████████████████████████████████████████████████████████████████████████████████| 45/45 [00:10<00:00,  4.23item/s]\n"
     ]
    },
    {
     "name": "stdout",
     "output_type": "stream",
     "text": [
      "-----Retrieving Simulation (period) CHELSA data for variable 'gdgfgd5'-----\n"
     ]
    },
    {
     "name": "stderr",
     "output_type": "stream",
     "text": [
      "Processing: 100%|█████████████████████████████████████████████████████████████████████████████████████████████████████████████| 45/45 [00:10<00:00,  4.14item/s]\n"
     ]
    },
    {
     "name": "stdout",
     "output_type": "stream",
     "text": [
      "-----Retrieving Simulation (period) CHELSA data for variable 'gsl'-----\n"
     ]
    },
    {
     "name": "stderr",
     "output_type": "stream",
     "text": [
      "Processing: 100%|█████████████████████████████████████████████████████████████████████████████████████████████████████████████| 45/45 [00:10<00:00,  4.18item/s]\n"
     ]
    },
    {
     "name": "stdout",
     "output_type": "stream",
     "text": [
      "-----Retrieving Simulation (period) CHELSA data for variable 'gsp'-----\n"
     ]
    },
    {
     "name": "stderr",
     "output_type": "stream",
     "text": [
      "Processing: 100%|█████████████████████████████████████████████████████████████████████████████████████████████████████████████| 45/45 [00:12<00:00,  3.50item/s]\n"
     ]
    },
    {
     "name": "stdout",
     "output_type": "stream",
     "text": [
      "-----Retrieving Simulation (period) CHELSA data for variable 'gst'-----\n"
     ]
    },
    {
     "name": "stderr",
     "output_type": "stream",
     "text": [
      "Processing: 100%|█████████████████████████████████████████████████████████████████████████████████████████████████████████████| 45/45 [00:09<00:00,  4.57item/s]\n"
     ]
    },
    {
     "name": "stdout",
     "output_type": "stream",
     "text": [
      "-----Retrieving Simulation (period) CHELSA data for variable 'kg0'-----\n"
     ]
    },
    {
     "name": "stderr",
     "output_type": "stream",
     "text": [
      "Processing: 100%|█████████████████████████████████████████████████████████████████████████████████████████████████████████████| 45/45 [00:09<00:00,  4.51item/s]\n"
     ]
    },
    {
     "name": "stdout",
     "output_type": "stream",
     "text": [
      "-----Retrieving Simulation (period) CHELSA data for variable 'kg1'-----\n"
     ]
    },
    {
     "name": "stderr",
     "output_type": "stream",
     "text": [
      "Processing: 100%|█████████████████████████████████████████████████████████████████████████████████████████████████████████████| 45/45 [00:10<00:00,  4.47item/s]\n"
     ]
    },
    {
     "name": "stdout",
     "output_type": "stream",
     "text": [
      "-----Retrieving Simulation (period) CHELSA data for variable 'kg2'-----\n"
     ]
    },
    {
     "name": "stderr",
     "output_type": "stream",
     "text": [
      "Processing: 100%|█████████████████████████████████████████████████████████████████████████████████████████████████████████████| 45/45 [00:09<00:00,  4.58item/s]\n"
     ]
    },
    {
     "name": "stdout",
     "output_type": "stream",
     "text": [
      "-----Retrieving Simulation (period) CHELSA data for variable 'kg3'-----\n"
     ]
    },
    {
     "name": "stderr",
     "output_type": "stream",
     "text": [
      "Processing: 100%|█████████████████████████████████████████████████████████████████████████████████████████████████████████████| 45/45 [00:09<00:00,  4.64item/s]\n"
     ]
    },
    {
     "name": "stdout",
     "output_type": "stream",
     "text": [
      "-----Retrieving Simulation (period) CHELSA data for variable 'kg4'-----\n"
     ]
    },
    {
     "name": "stderr",
     "output_type": "stream",
     "text": [
      "Processing: 100%|█████████████████████████████████████████████████████████████████████████████████████████████████████████████| 45/45 [00:09<00:00,  4.52item/s]\n"
     ]
    },
    {
     "name": "stdout",
     "output_type": "stream",
     "text": [
      "-----Retrieving Simulation (period) CHELSA data for variable 'kg5'-----\n"
     ]
    },
    {
     "name": "stderr",
     "output_type": "stream",
     "text": [
      "Processing: 100%|█████████████████████████████████████████████████████████████████████████████████████████████████████████████| 45/45 [00:10<00:00,  4.46item/s]\n"
     ]
    },
    {
     "name": "stdout",
     "output_type": "stream",
     "text": [
      "-----Retrieving Simulation (period) CHELSA data for variable 'lgd'-----\n"
     ]
    },
    {
     "name": "stderr",
     "output_type": "stream",
     "text": [
      "Processing: 100%|█████████████████████████████████████████████████████████████████████████████████████████████████████████████| 45/45 [00:11<00:00,  3.75item/s]\n"
     ]
    },
    {
     "name": "stdout",
     "output_type": "stream",
     "text": [
      "-----Retrieving Simulation (period) CHELSA data for variable 'ngd0'-----\n"
     ]
    },
    {
     "name": "stderr",
     "output_type": "stream",
     "text": [
      "Processing: 100%|█████████████████████████████████████████████████████████████████████████████████████████████████████████████| 45/45 [00:11<00:00,  3.99item/s]\n"
     ]
    },
    {
     "name": "stdout",
     "output_type": "stream",
     "text": [
      "-----Retrieving Simulation (period) CHELSA data for variable 'ngd10'-----\n"
     ]
    },
    {
     "name": "stderr",
     "output_type": "stream",
     "text": [
      "Processing: 100%|█████████████████████████████████████████████████████████████████████████████████████████████████████████████| 45/45 [00:11<00:00,  4.02item/s]\n"
     ]
    },
    {
     "name": "stdout",
     "output_type": "stream",
     "text": [
      "-----Retrieving Simulation (period) CHELSA data for variable 'ngd5'-----\n"
     ]
    },
    {
     "name": "stderr",
     "output_type": "stream",
     "text": [
      "Processing: 100%|█████████████████████████████████████████████████████████████████████████████████████████████████████████████| 45/45 [00:10<00:00,  4.23item/s]\n"
     ]
    },
    {
     "name": "stdout",
     "output_type": "stream",
     "text": [
      "-----Retrieving Simulation (period) CHELSA data for variable 'npp'-----\n"
     ]
    },
    {
     "name": "stderr",
     "output_type": "stream",
     "text": [
      "Processing: 100%|█████████████████████████████████████████████████████████████████████████████████████████████████████████████| 45/45 [00:12<00:00,  3.63item/s]\n"
     ]
    },
    {
     "name": "stdout",
     "output_type": "stream",
     "text": [
      "-----Retrieving Simulation (period) CHELSA data for variable 'scd'-----\n"
     ]
    },
    {
     "name": "stderr",
     "output_type": "stream",
     "text": [
      "Processing: 100%|█████████████████████████████████████████████████████████████████████████████████████████████████████████████| 45/45 [00:11<00:00,  3.96item/s]\n"
     ]
    },
    {
     "name": "stdout",
     "output_type": "stream",
     "text": [
      "-----Retrieving Simulation (period) CHELSA data for variable 'swe'-----\n"
     ]
    },
    {
     "name": "stderr",
     "output_type": "stream",
     "text": [
      "Processing: 100%|█████████████████████████████████████████████████████████████████████████████████████████████████████████████| 45/45 [00:11<00:00,  3.75item/s]\n"
     ]
    },
    {
     "name": "stdout",
     "output_type": "stream",
     "text": [
      "-----Retrieving Simulation (monthly) CHELSA data for variable 'pr'-----\n"
     ]
    },
    {
     "name": "stderr",
     "output_type": "stream",
     "text": [
      "Processing: 100%|███████████████████████████████████████████████████████████████████████████████████████████████████████████| 540/540 [43:50<00:00,  4.87s/item]\n"
     ]
    },
    {
     "name": "stdout",
     "output_type": "stream",
     "text": [
      "-----Retrieving Simulation (monthly) CHELSA data for variable 'tas'-----\n"
     ]
    },
    {
     "name": "stderr",
     "output_type": "stream",
     "text": [
      "Processing: 100%|███████████████████████████████████████████████████████████████████████████████████████████████████████████| 540/540 [50:07<00:00,  5.57s/item]\n"
     ]
    },
    {
     "name": "stdout",
     "output_type": "stream",
     "text": [
      "-----Retrieving Simulation (monthly) CHELSA data for variable 'tasmax'-----\n"
     ]
    },
    {
     "name": "stderr",
     "output_type": "stream",
     "text": [
      "Processing:   3%|██▊                                                                                                         | 14/540 [00:25<40:22,  4.61s/item]"
     ]
    }
   ],
   "source": [
    "bmd_cube.generate_bmd_data(param_file, param_path)"
   ]
  },
  {
   "cell_type": "code",
   "execution_count": null,
   "id": "949eddfe-cd3c-4ab0-a425-928578cd78bc",
   "metadata": {},
   "outputs": [],
   "source": []
  }
 ],
 "metadata": {
  "kernelspec": {
   "display_name": "Python 3 (ipykernel)",
   "language": "python",
   "name": "python3"
  },
  "language_info": {
   "codemirror_mode": {
    "name": "ipython",
    "version": 3
   },
   "file_extension": ".py",
   "mimetype": "text/x-python",
   "name": "python",
   "nbconvert_exporter": "python",
   "pygments_lexer": "ipython3",
   "version": "3.12.9"
  }
 },
 "nbformat": 4,
 "nbformat_minor": 5
}
