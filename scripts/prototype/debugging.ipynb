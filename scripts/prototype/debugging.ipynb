{
 "cells": [
  {
   "cell_type": "code",
   "execution_count": 1,
   "id": "df73a5e0-9845-46be-b234-72cb907b3a61",
   "metadata": {},
   "outputs": [],
   "source": [
    "import sys\n",
    "from pathlib import Path\n",
    "\n",
    "# Add the src directory to sys.path\n",
    "sys.path.append(str(Path().resolve().parents[1] / \"src\"))"
   ]
  },
  {
   "cell_type": "markdown",
   "id": "ef6451e8-0cf2-497f-8755-28c5cf99cb11",
   "metadata": {},
   "source": [
    "# Utils"
   ]
  },
  {
   "cell_type": "code",
   "execution_count": 2,
   "id": "9f355481-91f7-4155-8d7e-a125f5066f20",
   "metadata": {},
   "outputs": [
    {
     "data": {
      "text/plain": [
       "{'cube_dir': 'out/prototype_cubing/',\n",
       " 'cube_name': 'prototype_prototype_cube',\n",
       " 'spatial': {'method': 'bbox',\n",
       "  'bbox': {'long_min': 4.171371,\n",
       "   'long_max': 4.743004,\n",
       "   'lat_min': 50.68406,\n",
       "   'lat_max': 50.877911},\n",
       "  'polygon': {'shapefile_path': '/shapefile/filename.shp'}},\n",
       " 'layers': {'gbif': {'enabled': True,\n",
       "   'type': {'occurences': True, 'absences': False},\n",
       "   'species_paths': '/directory/species_list.csv',\n",
       "   'taxonomic': {'highest_rank': 'kingdom', 'lowest_rank': 'species'},\n",
       "   'time': {'start_year': None,\n",
       "    'end_year': None,\n",
       "    'start_month': None,\n",
       "    'end_month': None},\n",
       "   'defaultCoordinateUncertainty': 1000,\n",
       "   'cubing': {'enabled': True, 'cubingGrid': 'EEA'},\n",
       "   'selection_issues': {'spatial': {'hasCoordinate': True,\n",
       "     'zeroCoordinate': True,\n",
       "     'invalidCoordinate': True,\n",
       "     'countryMismatch': True}},\n",
       "   'file': {'file_path': 'out/', 'file_name': 'species_oi.csv', 'sep': '\\t'}},\n",
       "  'chelsa': {'enabled': True,\n",
       "   'chelsa_month': {'enabled': True,\n",
       "    'time': {'start_year': 1979,\n",
       "     'start_month': 2,\n",
       "     'end_year': 2018,\n",
       "     'end_month': 12,\n",
       "     'year_range': [1979, 2020]},\n",
       "    'variables': {'include_all': True, 'included': [], 'excluded': []},\n",
       "    'source': {'base_url': 'https://os.zhdk.cloud.switch.ch/chelsav2/GLOBAL/monthly',\n",
       "     'version': 'V.2.1'},\n",
       "    'metadata': {'chelsa_month': {'label': 'CHELSA Monthly Climate Data',\n",
       "      'description': 'Monthly high-resolution climate variables from CHELSA V2.1.',\n",
       "      'year_range': '1979-2020',\n",
       "      'available_variables': {'clt': 'Cloud cover (%)',\n",
       "       'cmi': 'Climatic Moisture Index',\n",
       "       'hurs': 'Relative humidity at 2m (%)',\n",
       "       'pet': 'Potential Evapotranspiration (mm)',\n",
       "       'pr': 'Precipitation (mm)',\n",
       "       'rsds': 'Surface downwelling shortwave radiation (W/mÂ²)',\n",
       "       'sfcWind': 'Surface wind speed (m/s)',\n",
       "       'tas': 'Mean air temperature at 2m (Â°C)',\n",
       "       'tasmax': 'Daily maximum air temperature at 2m (Â°C)',\n",
       "       'tasmin': 'Daily minimum air temperature at 2m (Â°C)',\n",
       "       'vpd': 'Vapor Pressure Deficit (kPa)'}}}},\n",
       "   'chelsa_clim_ref_period': {'enabled': True,\n",
       "    'time': {'year_range': '1981-2010'},\n",
       "    'variables': {'include_all': True, 'included': [], 'excluded': []},\n",
       "    'source': {'base_url': 'https://os.zhdk.cloud.switch.ch/chelsav2/GLOBAL/climatologies/1981-2010',\n",
       "     'version': 'V.2.1'},\n",
       "    'metadata': {'chelsa_clim_ref_period': {'label': 'CHELSA Climatological Reference Period',\n",
       "      'description': 'Bioclimatic and derived climatologies for the reference period 1981â€“2010.',\n",
       "      'year_range': '1981-2010',\n",
       "      'available_variables': {'ai': 'Aridity Index',\n",
       "       'bio1': 'Annual Mean Temperature',\n",
       "       'bio2': 'Mean Diurnal Range',\n",
       "       'bio3': 'Isothermality',\n",
       "       'bio4': 'Temperature Seasonality',\n",
       "       'bio5': 'Max Temperature of Warmest Month',\n",
       "       'bio6': 'Min Temperature of Coldest Month',\n",
       "       'bio7': 'Temperature Annual Range',\n",
       "       'bio8': 'Mean Temperature of Wettest Quarter',\n",
       "       'bio9': 'Mean Temperature of Driest Quarter',\n",
       "       'bio10': 'Mean Temperature of Warmest Quarter',\n",
       "       'bio11': 'Mean Temperature of Coldest Quarter',\n",
       "       'bio12': 'Annual Precipitation',\n",
       "       'bio13': 'Precipitation of Wettest Month',\n",
       "       'bio14': 'Precipitation of Driest Month',\n",
       "       'bio15': 'Precipitation Seasonality',\n",
       "       'bio16': 'Precipitation of Wettest Quarter',\n",
       "       'bio17': 'Precipitation of Driest Quarter',\n",
       "       'bio18': 'Precipitation of Warmest Quarter',\n",
       "       'bio19': 'Precipitation of Coldest Quarter',\n",
       "       'clt_max': 'Maximum Cloud Cover',\n",
       "       'clt_mean': 'Mean Cloud Cover',\n",
       "       'clt_min': 'Minimum Cloud Cover',\n",
       "       'clt_range': 'Cloud Cover Range',\n",
       "       'cmi_max': 'Maximum Climatic Moisture Index',\n",
       "       'cmi_mean': 'Mean Climatic Moisture Index',\n",
       "       'cmi_min': 'Minimum Climatic Moisture Index',\n",
       "       'cmi_range': 'Climatic Moisture Index Range',\n",
       "       'fcf': 'Frost Change Frequency',\n",
       "       'fgd': 'First Growing Day',\n",
       "       'gdd0': 'Growing Degree Days (0Â°C base)',\n",
       "       'gdd5': 'Growing Degree Days (5Â°C base)',\n",
       "       'gdd10': 'Growing Degree Days (10Â°C base)',\n",
       "       'gddlgd0': 'Low GDDs relative to long-term mean (0Â°C)',\n",
       "       'gddlgd5': 'Low GDDs relative to long-term mean (5Â°C)',\n",
       "       'gddlgd10': 'Low GDDs relative to long-term mean (10Â°C)',\n",
       "       'gdgfgd0': 'GDD/FGD Ratio (0Â°C base)',\n",
       "       'gdgfgd5': 'GDD/FGD Ratio (5Â°C base)',\n",
       "       'gdgfgd10': 'GDD/FGD Ratio (10Â°C base)',\n",
       "       'gsl': 'Growing Season Length',\n",
       "       'gsp': 'Growing Season Precipitation',\n",
       "       'gst': 'Growing Season Temperature',\n",
       "       'hurs_max': 'Max Relative Humidity',\n",
       "       'hurs_mean': 'Mean Relative Humidity',\n",
       "       'hurs_min': 'Min Relative Humidity',\n",
       "       'hurs_range': 'Relative Humidity Range',\n",
       "       'kg0': 'KÃ¶ppen-Geiger class 0',\n",
       "       'kg1': 'KÃ¶ppen-Geiger class 1',\n",
       "       'kg2': 'KÃ¶ppen-Geiger class 2',\n",
       "       'kg3': 'KÃ¶ppen-Geiger class 3',\n",
       "       'kg4': 'KÃ¶ppen-Geiger class 4',\n",
       "       'kg5': 'KÃ¶ppen-Geiger class 5',\n",
       "       'lgd': 'Last Growing Day',\n",
       "       'ngd0': 'Number of Growing Days (0Â°C)',\n",
       "       'ngd5': 'Number of Growing Days (5Â°C)',\n",
       "       'ngd10': 'Number of Growing Days (10Â°C)',\n",
       "       'npp': 'Net Primary Productivity',\n",
       "       'pet_penman_max': 'Max Penman PET',\n",
       "       'pet_penman_mean': 'Mean Penman PET',\n",
       "       'pet_penman_min': 'Min Penman PET',\n",
       "       'pet_penman_range': 'Range of Penman PET',\n",
       "       'rsds_max': 'Max Shortwave Radiation',\n",
       "       'rsds_mean': 'Mean Shortwave Radiation',\n",
       "       'rsds_min': 'Min Shortwave Radiation',\n",
       "       'rsds_range': 'Shortwave Radiation Range',\n",
       "       'scd': 'Snow Cover Duration',\n",
       "       'sfcWind_max': 'Max Wind Speed',\n",
       "       'sfcWind_mean': 'Mean Wind Speed',\n",
       "       'sfcWind_min': 'Min Wind Speed',\n",
       "       'sfcWind_range': 'Wind Speed Range',\n",
       "       'swb': 'Soil Water Balance',\n",
       "       'swe': 'Snow Water Equivalent',\n",
       "       'vpd_max': 'Max Vapor Pressure Deficit',\n",
       "       'vpd_mean': 'Mean Vapor Pressure Deficit',\n",
       "       'vpd_min': 'Min Vapor Pressure Deficit',\n",
       "       'vpd_range': 'Vapor Pressure Deficit Range'}}}},\n",
       "   'chelsa_clim_ref_month': {'enabled': True,\n",
       "    'time': {'include_all': True,\n",
       "     'included': [],\n",
       "     'excluded': [],\n",
       "     'year_range': '1981-2010'},\n",
       "    'variables': {'include_all': True, 'included': [], 'excluded': []},\n",
       "    'source': {'base_url': 'https://os.zhdk.cloud.switch.ch/chelsav2/GLOBAL/climatologies/1981-2010',\n",
       "     'version': 'V.2.1'},\n",
       "    'metadata': {'chelsa_clim_ref_month': {'label': 'CHELSA Monthly Climatological Reference Data',\n",
       "      'description': 'Monthly climatologies derived from CHELSA for the reference period 1981â€“2010.',\n",
       "      'year_range': '1981-2010',\n",
       "      'available_variables': {'clt': 'Cloud cover (%)',\n",
       "       'cmi': 'Climatic Moisture Index',\n",
       "       'hurs': 'Relative humidity (%)',\n",
       "       'pet': 'Potential Evapotranspiration (mm)',\n",
       "       'pr': 'Precipitation (mm)',\n",
       "       'rsds': 'Surface downwelling shortwave radiation (W/mÂ²)',\n",
       "       'sfcWind': 'Surface wind speed (m/s)',\n",
       "       'tas': 'Mean air temperature at 2m (Â°C)',\n",
       "       'tasmax': 'Daily maximum air temperature at 2m (Â°C)',\n",
       "       'tasmin': 'Daily minimum air temperature at 2m (Â°C)',\n",
       "       'vpd': 'Vapor Pressure Deficit (kPa)'}}}},\n",
       "   'chelsa_clim_sim_period': {'enabled': True,\n",
       "    'time': {'include_all': True, 'included': [], 'excluded': []},\n",
       "    'variables': {'include_all': True, 'included': [], 'excluded': []},\n",
       "    'model': {'include_all': True, 'included': [], 'excluded': []},\n",
       "    'scenario': {'include_all': True, 'included': [], 'excluded': []},\n",
       "    'source': {'base_url': 'https://os.zhdk.cloud.switch.ch/chelsav2/GLOBAL/climatologies',\n",
       "     'version': 'V.2.1'},\n",
       "    'metadata': {'chelsa_clim_sim_period': {'label': 'CHELSA Climatological Simulation Periods',\n",
       "      'description': 'Bioclimatic variables from GCM simulations over multiple future time slices.',\n",
       "      'year_ranges': ['2011-2040', '2041-2070', '2071-2100'],\n",
       "      'model_names': ['gfdl-esm4',\n",
       "       'ipsl-cm6a-lr',\n",
       "       'mpi-esm1-2-hr',\n",
       "       'mri-esm2-0',\n",
       "       'ukesm1-0-ll'],\n",
       "      'scenario': ['ssp126', 'ssp370', 'ssp585'],\n",
       "      'available_variables': {'bio1': 'Annual Mean Temperature',\n",
       "       'bio2': 'Mean Diurnal Range',\n",
       "       'bio3': 'Isothermality',\n",
       "       'bio4': 'Temperature Seasonality',\n",
       "       'bio5': 'Max Temperature of Warmest Month',\n",
       "       'bio6': 'Min Temperature of Coldest Month',\n",
       "       'bio7': 'Temperature Annual Range',\n",
       "       'bio8': 'Mean Temperature of Wettest Quarter',\n",
       "       'bio9': 'Mean Temperature of Driest Quarter',\n",
       "       'bio10': 'Mean Temperature of Warmest Quarter',\n",
       "       'bio11': 'Mean Temperature of Coldest Quarter',\n",
       "       'bio12': 'Annual Precipitation',\n",
       "       'bio13': 'Precipitation of Wettest Month',\n",
       "       'bio14': 'Precipitation of Driest Month',\n",
       "       'bio15': 'Precipitation Seasonality',\n",
       "       'bio16': 'Precipitation of Wettest Quarter',\n",
       "       'bio17': 'Precipitation of Driest Quarter',\n",
       "       'bio18': 'Precipitation of Warmest Quarter',\n",
       "       'bio19': 'Precipitation of Coldest Quarter',\n",
       "       'fcf': 'Frost Change Frequency',\n",
       "       'fgd': 'First Growing Day',\n",
       "       'gdd0': 'Growing Degree Days (0Â°C base)',\n",
       "       'gdd5': 'Growing Degree Days (5Â°C base)',\n",
       "       'gdd10': 'Growing Degree Days (10Â°C base)',\n",
       "       'gddlgd0': 'Low GDDs relative to long-term mean (0Â°C)',\n",
       "       'gddlgd5': 'Low GDDs relative to long-term mean (5Â°C)',\n",
       "       'gddlgd10': 'Low GDDs relative to long-term mean (10Â°C)',\n",
       "       'gdgfgd0': 'GDD/FGD Ratio (0Â°C base)',\n",
       "       'gdgfgd5': 'GDD/FGD Ratio (5Â°C base)',\n",
       "       'gdgfgd10': 'GDD/FGD Ratio (10Â°C base)',\n",
       "       'gsl': 'Growing Season Length',\n",
       "       'gsp': 'Growing Season Precipitation',\n",
       "       'gst': 'Growing Season Temperature',\n",
       "       'kg0': 'KÃ¶ppen-Geiger Class 0',\n",
       "       'kg1': 'KÃ¶ppen-Geiger Class 1',\n",
       "       'kg2': 'KÃ¶ppen-Geiger Class 2',\n",
       "       'kg3': 'KÃ¶ppen-Geiger Class 3',\n",
       "       'kg4': 'KÃ¶ppen-Geiger Class 4',\n",
       "       'kg5': 'KÃ¶ppen-Geiger Class 5',\n",
       "       'lgd': 'Last Growing Day',\n",
       "       'ngd0': 'Number of Growing Days (0Â°C)',\n",
       "       'ngd5': 'Number of Growing Days (5Â°C)',\n",
       "       'ngd10': 'Number of Growing Days (10Â°C)',\n",
       "       'npp': 'Net Primary Productivity',\n",
       "       'scd': 'Snow Cover Duration',\n",
       "       'swe': 'Snow Water Equivalent'}}}},\n",
       "   'chelsa_clim_sim_month': {'enabled': True,\n",
       "    'time': {'year_ranges': {'include_all': True,\n",
       "      'included': [],\n",
       "      'excluded': []},\n",
       "     'months': {'include_all': True, 'included': [], 'excluded': []}},\n",
       "    'variables': {'include_all': True, 'included': [], 'excluded': []},\n",
       "    'model': {'include_all': True, 'included': [], 'excluded': []},\n",
       "    'scenario': {'include_all': True, 'included': [], 'excluded': []},\n",
       "    'source': {'base_url': 'https://os.zhdk.cloud.switch.ch/chelsav2/GLOBAL/climatologies',\n",
       "     'version': 'V.2.1'},\n",
       "    'metadata': {'label': 'CHELSA Monthly Simulated Climate Variables',\n",
       "     'description': 'Monthly climate simulations from GCM models under different climate scenarios.',\n",
       "     'year_ranges': ['2011-2040', '2041-2070', '2071-2100'],\n",
       "     'model_names': ['gfdl-esm4',\n",
       "      'ipsl-cm6a-lr',\n",
       "      'mpi-esm1-2-hr',\n",
       "      'mri-esm2-0',\n",
       "      'ukesm1-0-ll'],\n",
       "     'scenario': ['ssp126', 'ssp370', 'ssp585'],\n",
       "     'available_variables': {'pr': 'Precipitation (mm)',\n",
       "      'tas': 'Mean air temperature at 2m (Â°C)',\n",
       "      'tasmax': 'Daily maximum air temperature at 2m (Â°C)',\n",
       "      'tasmin': 'Daily minimum air temperature at 2m (Â°C)'}}}}}}"
      ]
     },
     "execution_count": 2,
     "metadata": {},
     "output_type": "execute_result"
    }
   ],
   "source": [
    "import yaml\n",
    "import os\n",
    "\n",
    "param_file = \"param_prototype.yaml\" \n",
    "param_path = \"../../config\"\n",
    "param_filepath = param_file if os.path.isabs(param_file) else os.path.join(param_path, param_file)\n",
    "with open(param_filepath) as f:\n",
    "    param_dict = yaml.safe_load(f)\n",
    "param_dict"
   ]
  },
  {
   "cell_type": "code",
   "execution_count": 3,
   "id": "82e7329b-ed5e-4cd4-a63c-484a0008c66d",
   "metadata": {},
   "outputs": [],
   "source": [
    "from utils.chelsa import extract_param"
   ]
  },
  {
   "cell_type": "code",
   "execution_count": 4,
   "id": "6076579a-7e48-4291-9344-4376e56e1d73",
   "metadata": {},
   "outputs": [
    {
     "data": {
      "text/plain": [
       "{'method': 'bbox',\n",
       " 'bbox': {'long_min': 4.171371,\n",
       "  'long_max': 4.743004,\n",
       "  'lat_min': 50.68406,\n",
       "  'lat_max': 50.877911},\n",
       " 'polygon': {'shapefile_path': '/shapefile/filename.shp'}}"
      ]
     },
     "execution_count": 4,
     "metadata": {},
     "output_type": "execute_result"
    }
   ],
   "source": [
    "param_dict[\"spatial\"]"
   ]
  },
  {
   "cell_type": "code",
   "execution_count": 5,
   "id": "b9f10266-f1e9-42d5-af2d-ed904009e0c1",
   "metadata": {},
   "outputs": [
    {
     "data": {
      "text/plain": [
       "(4.171371, 50.68406, 4.743004, 50.877911)"
      ]
     },
     "execution_count": 5,
     "metadata": {},
     "output_type": "execute_result"
    }
   ],
   "source": [
    "bbox = extract_param.construct_bbox(param_dict)\n",
    "bbox"
   ]
  },
  {
   "cell_type": "code",
   "execution_count": 6,
   "id": "45c0a3e4-6633-41d9-a763-27187ce4ac6f",
   "metadata": {},
   "outputs": [
    {
     "data": {
      "text/plain": [
       "{'var': ['clt',\n",
       "  'cmi',\n",
       "  'hurs',\n",
       "  'pet',\n",
       "  'pr',\n",
       "  'rsds',\n",
       "  'sfcWind',\n",
       "  'tas',\n",
       "  'tasmax',\n",
       "  'tasmin',\n",
       "  'vpd'],\n",
       " 'bbox': (4.171371, 50.68406, 4.743004, 50.877911),\n",
       " 'start_month': 2,\n",
       " 'end_month': 12,\n",
       " 'start_year': 1979,\n",
       " 'end_year': 2018,\n",
       " 'base_url': 'https://os.zhdk.cloud.switch.ch/chelsav2/GLOBAL/monthly',\n",
       " 'version': 'V.2.1'}"
      ]
     },
     "execution_count": 6,
     "metadata": {},
     "output_type": "execute_result"
    }
   ],
   "source": [
    "chelsa_month_param = extract_param.read_chelsa_month_param(param_file, param_path)\n",
    "chelsa_month_param"
   ]
  },
  {
   "cell_type": "code",
   "execution_count": 7,
   "id": "fe11026a-bcb0-4202-a09f-2498aac3215d",
   "metadata": {
    "scrolled": true
   },
   "outputs": [
    {
     "data": {
      "text/plain": [
       "{'var': ['ai',\n",
       "  'bio10',\n",
       "  'bio11',\n",
       "  'bio12',\n",
       "  'bio13',\n",
       "  'bio14',\n",
       "  'bio15',\n",
       "  'bio16',\n",
       "  'bio17',\n",
       "  'bio18',\n",
       "  'bio19',\n",
       "  'bio1',\n",
       "  'bio2',\n",
       "  'bio3',\n",
       "  'bio4',\n",
       "  'bio5',\n",
       "  'bio6',\n",
       "  'bio7',\n",
       "  'bio8',\n",
       "  'bio9',\n",
       "  'clt_max',\n",
       "  'clt_mean',\n",
       "  'clt_min',\n",
       "  'clt_range',\n",
       "  'cmi_max',\n",
       "  'cmi_mean',\n",
       "  'cmi_min',\n",
       "  'cmi_range',\n",
       "  'fcf',\n",
       "  'fgd',\n",
       "  'gdd0',\n",
       "  'gdd10',\n",
       "  'gdd5',\n",
       "  'gddlgd0',\n",
       "  'gddlgd10',\n",
       "  'gddlgd5',\n",
       "  'gdgfgd0',\n",
       "  'gdgfgd10',\n",
       "  'gdgfgd5',\n",
       "  'gsl',\n",
       "  'gsp',\n",
       "  'gst',\n",
       "  'hurs_max',\n",
       "  'hurs_mean',\n",
       "  'hurs_min',\n",
       "  'hurs_range',\n",
       "  'kg0',\n",
       "  'kg1',\n",
       "  'kg2',\n",
       "  'kg3',\n",
       "  'kg4',\n",
       "  'kg5',\n",
       "  'lgd',\n",
       "  'ngd0',\n",
       "  'ngd10',\n",
       "  'ngd5',\n",
       "  'npp',\n",
       "  'pet_penman_max',\n",
       "  'pet_penman_mean',\n",
       "  'pet_penman_min',\n",
       "  'pet_penman_range',\n",
       "  'rsds_max',\n",
       "  'rsds_min',\n",
       "  'rsds_mean',\n",
       "  'rsds_range',\n",
       "  'scd',\n",
       "  'sfcWind_max',\n",
       "  'sfcWind_mean',\n",
       "  'sfcWind_min',\n",
       "  'sfcWind_range',\n",
       "  'swb',\n",
       "  'swe',\n",
       "  'vpd_max',\n",
       "  'vpd_mean',\n",
       "  'vpd_min',\n",
       "  'vpd_range'],\n",
       " 'bbox': (4.171371, 50.68406, 4.743004, 50.877911),\n",
       " 'ref_period': '1981-2010',\n",
       " 'base_url': 'https://os.zhdk.cloud.switch.ch/chelsav2/GLOBAL/climatologies/1981-2010',\n",
       " 'version': 'V.2.1'}"
      ]
     },
     "execution_count": 7,
     "metadata": {},
     "output_type": "execute_result"
    }
   ],
   "source": [
    "chelsa_ref_period_param = extract_param.read_chelsa_clim_ref_period_param(param_file, param_path)\n",
    "chelsa_ref_period_param"
   ]
  },
  {
   "cell_type": "code",
   "execution_count": 8,
   "id": "f1e28f5d-4ca3-48e3-9e55-6c8b53f282a9",
   "metadata": {},
   "outputs": [
    {
     "data": {
      "text/plain": [
       "{'var': ['clt',\n",
       "  'cmi',\n",
       "  'hurs',\n",
       "  'pet',\n",
       "  'pr',\n",
       "  'rsds',\n",
       "  'sfcWind',\n",
       "  'tas',\n",
       "  'tasmax',\n",
       "  'tasmin',\n",
       "  'vpd'],\n",
       " 'bbox': (4.171371, 50.68406, 4.743004, 50.877911),\n",
       " 'months': [1, 2, 3, 4, 5, 6, 7, 8, 9, 10, 11, 12],\n",
       " 'ref_period': '1981-2010',\n",
       " 'base_url': 'https://os.zhdk.cloud.switch.ch/chelsav2/GLOBAL/climatologies/1981-2010',\n",
       " 'version': 'V.2.1'}"
      ]
     },
     "execution_count": 8,
     "metadata": {},
     "output_type": "execute_result"
    }
   ],
   "source": [
    "chelsa_ref_month_param = extract_param.read_chelsa_clim_ref_month_param(param_file, param_path)\n",
    "chelsa_ref_month_param"
   ]
  },
  {
   "cell_type": "code",
   "execution_count": 9,
   "id": "cb4c0b97-ceff-4a71-91e9-dd250c86f964",
   "metadata": {
    "scrolled": true
   },
   "outputs": [
    {
     "data": {
      "text/plain": [
       "{'var': ['bio10',\n",
       "  'bio11',\n",
       "  'bio12',\n",
       "  'bio13',\n",
       "  'bio14',\n",
       "  'bio15',\n",
       "  'bio16',\n",
       "  'bio17',\n",
       "  'bio18',\n",
       "  'bio19',\n",
       "  'bio1',\n",
       "  'bio2',\n",
       "  'bio3',\n",
       "  'bio4',\n",
       "  'bio5',\n",
       "  'bio6',\n",
       "  'bio7',\n",
       "  'bio8',\n",
       "  'bio9',\n",
       "  'fcf',\n",
       "  'fgd',\n",
       "  'gdd0',\n",
       "  'gdd10',\n",
       "  'gdd5',\n",
       "  'gddlgd0',\n",
       "  'gddlgd10',\n",
       "  'gddlgd5',\n",
       "  'gdgfgd0',\n",
       "  'gdgfgd10',\n",
       "  'gdgfgd5',\n",
       "  'gsl',\n",
       "  'gsp',\n",
       "  'gst',\n",
       "  'kg0',\n",
       "  'kg1',\n",
       "  'kg2',\n",
       "  'kg3',\n",
       "  'kg4',\n",
       "  'kg5',\n",
       "  'lgd',\n",
       "  'ngd0',\n",
       "  'ngd10',\n",
       "  'ngd5',\n",
       "  'npp',\n",
       "  'scd',\n",
       "  'swe'],\n",
       " 'bbox': (4.171371, 50.68406, 4.743004, 50.877911),\n",
       " 'year_ranges': ['2011-2040', '2041-2070', '2071-2100'],\n",
       " 'model_names': ['gfdl-esm4',\n",
       "  'ipsl-cm6a-lr',\n",
       "  'mpi-esm1-2-hr',\n",
       "  'mri-esm2-0',\n",
       "  'ukesm1-0-ll'],\n",
       " 'scenarios': ['ssp126', 'ssp370', 'ssp585'],\n",
       " 'base_url': 'https://os.zhdk.cloud.switch.ch/chelsav2/GLOBAL/climatologies',\n",
       " 'version': 'V.2.1'}"
      ]
     },
     "execution_count": 9,
     "metadata": {},
     "output_type": "execute_result"
    }
   ],
   "source": [
    "chelsa_sim_period_param = extract_param.read_chelsa_clim_sim_period_param(param_file, param_path)\n",
    "chelsa_sim_period_param"
   ]
  },
  {
   "cell_type": "code",
   "execution_count": 10,
   "id": "7e409d4c-8d52-426a-9259-1856e483e6d0",
   "metadata": {},
   "outputs": [
    {
     "data": {
      "text/plain": [
       "{'var': ['pr', 'tas', 'tasmax', 'tasmin'],\n",
       " 'bbox': (4.171371, 50.68406, 4.743004, 50.877911),\n",
       " 'year_ranges': ['2011-2040', '2041-2070', '2071-2100'],\n",
       " 'months': [1, 2, 3, 4, 5, 6, 7, 8, 9, 10, 11, 12],\n",
       " 'model_names': ['gfdl-esm4',\n",
       "  'ipsl-cm6a-lr',\n",
       "  'mpi-esm1-2-hr',\n",
       "  'mri-esm2-0',\n",
       "  'ukesm1-0-ll'],\n",
       " 'scenarios': ['ssp126', 'ssp370', 'ssp585'],\n",
       " 'base_url': 'https://os.zhdk.cloud.switch.ch/chelsav2/GLOBAL/climatologies',\n",
       " 'version': 'V.2.1'}"
      ]
     },
     "execution_count": 10,
     "metadata": {},
     "output_type": "execute_result"
    }
   ],
   "source": [
    "chelsa_sim_month_param = extract_param.read_chelsa_clim_sim_month_param(param_file, param_path)\n",
    "chelsa_sim_month_param"
   ]
  },
  {
   "cell_type": "markdown",
   "id": "d5be69de-28a0-4822-891f-03dad566e9c3",
   "metadata": {},
   "source": [
    "# CHELSA debugging"
   ]
  },
  {
   "cell_type": "markdown",
   "id": "cf42bee3-2e0a-4db1-b91a-8f9ce4204883",
   "metadata": {},
   "source": [
    "## S3 submodule"
   ]
  },
  {
   "cell_type": "code",
   "execution_count": 11,
   "id": "c2110dfd-7872-494d-9c7b-0b8f1e673fcb",
   "metadata": {},
   "outputs": [],
   "source": [
    "from datasource.chelsa import s3"
   ]
  },
  {
   "cell_type": "code",
   "execution_count": 12,
   "id": "9da3f28b-a5c4-496e-a15c-44b1abd90ad0",
   "metadata": {},
   "outputs": [],
   "source": [
    "import requests\n",
    "\n",
    "def check_urls(url_list, timeout=3):\n",
    "    results = []\n",
    "    for url in url_list:\n",
    "        try:\n",
    "            response = requests.head(url, timeout=timeout)\n",
    "            results.append({\"url\": url, \"status_code\": response.status_code})\n",
    "        except requests.exceptions.RequestException as e:\n",
    "            # If request fails (timeout, DNS error, etc.)\n",
    "            results.append({\"url\": url, \"status_code\": None, \"error\": str(e)})\n",
    "    return results"
   ]
  },
  {
   "cell_type": "markdown",
   "id": "bb1d09df-f94d-49a3-9b19-e3ab9ca8c102",
   "metadata": {},
   "source": [
    "## Month URL's"
   ]
  },
  {
   "cell_type": "code",
   "execution_count": 13,
   "id": "18b2e07b-2cda-4756-a25e-04ac4627216d",
   "metadata": {},
   "outputs": [],
   "source": [
    "urls = []\n",
    "param_tuples = []\n",
    "for var_name in chelsa_month_param[\"var\"]:\n",
    "    for year in range(chelsa_month_param[\"start_year\"], chelsa_month_param[\"end_year\"]+1):\n",
    "        for month in range(chelsa_month_param[\"start_month\"], chelsa_month_param[\"end_month\"]+1):\n",
    "            urls.append(s3.format_url_month_ts(var_name, month, year, base_url=chelsa_month_param[\"base_url\"], version=chelsa_month_param[\"version\"]))\n",
    "            param_tuples.append((var_name, month, year))"
   ]
  },
  {
   "cell_type": "code",
   "execution_count": 23,
   "id": "430124be-bc1f-40a6-a4e9-ead7a657461d",
   "metadata": {
    "scrolled": true
   },
   "outputs": [
    {
     "data": {
      "text/plain": [
       "[200,\n",
       " 200,\n",
       " 200,\n",
       " 200,\n",
       " 200,\n",
       " 200,\n",
       " 200,\n",
       " 200,\n",
       " 200,\n",
       " 200,\n",
       " 200,\n",
       " 200,\n",
       " 200,\n",
       " 200,\n",
       " 200,\n",
       " 200,\n",
       " 200,\n",
       " 200,\n",
       " 200,\n",
       " 200,\n",
       " 200,\n",
       " 200,\n",
       " 200,\n",
       " 200,\n",
       " 200,\n",
       " 200,\n",
       " 200,\n",
       " 200,\n",
       " 200,\n",
       " 200,\n",
       " 200,\n",
       " 200,\n",
       " 200,\n",
       " 200,\n",
       " 200,\n",
       " 200,\n",
       " 200,\n",
       " 200,\n",
       " 200,\n",
       " 200,\n",
       " 200,\n",
       " 200,\n",
       " 200,\n",
       " 200,\n",
       " 200,\n",
       " 200,\n",
       " 200,\n",
       " 200,\n",
       " 200,\n",
       " 200,\n",
       " 200,\n",
       " 200,\n",
       " 200,\n",
       " 200,\n",
       " 200,\n",
       " 200,\n",
       " 200,\n",
       " 200,\n",
       " 200,\n",
       " 200,\n",
       " 200,\n",
       " 200,\n",
       " 200,\n",
       " 200,\n",
       " 200,\n",
       " 200,\n",
       " 200,\n",
       " 200,\n",
       " 200,\n",
       " 200,\n",
       " 200,\n",
       " 200,\n",
       " 200,\n",
       " 200,\n",
       " 200,\n",
       " 200,\n",
       " 200,\n",
       " 200,\n",
       " 200,\n",
       " 200,\n",
       " 200,\n",
       " 200,\n",
       " 200,\n",
       " 200,\n",
       " 200,\n",
       " 200,\n",
       " 200,\n",
       " 200,\n",
       " 200,\n",
       " 200,\n",
       " 200,\n",
       " 200,\n",
       " 200,\n",
       " 200,\n",
       " 200,\n",
       " 200,\n",
       " 200,\n",
       " 200,\n",
       " 200,\n",
       " 200,\n",
       " 200,\n",
       " 200,\n",
       " 200,\n",
       " 200,\n",
       " 200,\n",
       " 200,\n",
       " 200,\n",
       " 200,\n",
       " 200,\n",
       " 200,\n",
       " 200,\n",
       " 200,\n",
       " 200,\n",
       " 200,\n",
       " 200,\n",
       " 200,\n",
       " 200,\n",
       " 200,\n",
       " 200,\n",
       " 200,\n",
       " 200,\n",
       " 200,\n",
       " 200,\n",
       " 200,\n",
       " 200,\n",
       " 200,\n",
       " 200,\n",
       " 200,\n",
       " 200,\n",
       " 200,\n",
       " 200,\n",
       " 200,\n",
       " 200,\n",
       " 200,\n",
       " 200,\n",
       " 200,\n",
       " 200,\n",
       " 200,\n",
       " 200,\n",
       " 200,\n",
       " 200,\n",
       " 200,\n",
       " 200,\n",
       " 200,\n",
       " 200,\n",
       " 200,\n",
       " 200,\n",
       " 200,\n",
       " 200,\n",
       " 200,\n",
       " 200,\n",
       " 200,\n",
       " 200,\n",
       " 200,\n",
       " 200,\n",
       " 200,\n",
       " 200,\n",
       " 200,\n",
       " 200,\n",
       " 200,\n",
       " 200,\n",
       " 200,\n",
       " 200,\n",
       " 200,\n",
       " 200,\n",
       " 200,\n",
       " 200,\n",
       " 200,\n",
       " 200,\n",
       " 200,\n",
       " 200,\n",
       " 200,\n",
       " 200,\n",
       " 200,\n",
       " 200,\n",
       " 200,\n",
       " 200,\n",
       " 200,\n",
       " 200,\n",
       " 200,\n",
       " 200,\n",
       " 200,\n",
       " 200,\n",
       " 200,\n",
       " 200,\n",
       " 200,\n",
       " 200,\n",
       " 200,\n",
       " 200,\n",
       " 200,\n",
       " 200,\n",
       " 200,\n",
       " 200,\n",
       " 200,\n",
       " 200,\n",
       " 200,\n",
       " 200,\n",
       " 200,\n",
       " 200,\n",
       " 200,\n",
       " 200,\n",
       " 200,\n",
       " 200,\n",
       " 200,\n",
       " 200,\n",
       " 200,\n",
       " 200,\n",
       " 200,\n",
       " 200,\n",
       " 200,\n",
       " 200,\n",
       " 200,\n",
       " 200,\n",
       " 200,\n",
       " 200,\n",
       " 200,\n",
       " 200,\n",
       " 200,\n",
       " 200,\n",
       " 200,\n",
       " 200,\n",
       " 200,\n",
       " 200,\n",
       " 200,\n",
       " 200,\n",
       " 200,\n",
       " 200,\n",
       " 200,\n",
       " 200,\n",
       " 200,\n",
       " 200,\n",
       " 200,\n",
       " 200,\n",
       " 200,\n",
       " 200,\n",
       " 200,\n",
       " 200,\n",
       " 200,\n",
       " 200,\n",
       " 200,\n",
       " 200,\n",
       " 200,\n",
       " 200,\n",
       " 200,\n",
       " 200,\n",
       " 200,\n",
       " 200,\n",
       " 200,\n",
       " 200,\n",
       " 200,\n",
       " 200,\n",
       " 200,\n",
       " 200,\n",
       " 200,\n",
       " 200,\n",
       " 200,\n",
       " 200,\n",
       " 200,\n",
       " 200,\n",
       " 200,\n",
       " 200,\n",
       " 200,\n",
       " 200,\n",
       " 200,\n",
       " 200,\n",
       " 200,\n",
       " 200,\n",
       " 200,\n",
       " 200,\n",
       " 200,\n",
       " 200,\n",
       " 200,\n",
       " 200,\n",
       " 200,\n",
       " 200,\n",
       " 200,\n",
       " 200,\n",
       " 200,\n",
       " 200,\n",
       " 200,\n",
       " 200,\n",
       " 200,\n",
       " 200,\n",
       " 200,\n",
       " 200,\n",
       " 200,\n",
       " 200,\n",
       " 200,\n",
       " 200,\n",
       " 200,\n",
       " 200,\n",
       " 200,\n",
       " 200,\n",
       " 200,\n",
       " 200,\n",
       " 200,\n",
       " 200,\n",
       " 200,\n",
       " 200,\n",
       " 200,\n",
       " 200,\n",
       " 200,\n",
       " 200,\n",
       " 200,\n",
       " 200,\n",
       " 200,\n",
       " 200,\n",
       " 200,\n",
       " 200,\n",
       " 200,\n",
       " 200,\n",
       " 200,\n",
       " 200,\n",
       " 200,\n",
       " 200,\n",
       " 200,\n",
       " 200,\n",
       " 200,\n",
       " 200,\n",
       " 200,\n",
       " 200,\n",
       " 200,\n",
       " 200,\n",
       " 200,\n",
       " 200,\n",
       " 200,\n",
       " 200,\n",
       " 200,\n",
       " 200,\n",
       " 200,\n",
       " 200,\n",
       " 200,\n",
       " 200,\n",
       " 200,\n",
       " 200,\n",
       " 200,\n",
       " 200,\n",
       " 200,\n",
       " 200,\n",
       " 200,\n",
       " 200,\n",
       " 200,\n",
       " 200,\n",
       " 200,\n",
       " 200,\n",
       " 200,\n",
       " 200,\n",
       " 200,\n",
       " 200,\n",
       " 200,\n",
       " 200,\n",
       " 200,\n",
       " 200,\n",
       " 200,\n",
       " 200,\n",
       " 200,\n",
       " 200,\n",
       " 200,\n",
       " 200,\n",
       " 200,\n",
       " 200,\n",
       " 200,\n",
       " 200,\n",
       " 200,\n",
       " 200,\n",
       " 200,\n",
       " 200,\n",
       " 200,\n",
       " 200,\n",
       " 200,\n",
       " 200,\n",
       " 200,\n",
       " 200,\n",
       " 200,\n",
       " 200,\n",
       " 200,\n",
       " 200,\n",
       " 200,\n",
       " 200,\n",
       " 200,\n",
       " 200,\n",
       " 200,\n",
       " 200,\n",
       " 200,\n",
       " 200,\n",
       " 200,\n",
       " 200,\n",
       " 200,\n",
       " 200,\n",
       " 200,\n",
       " 200,\n",
       " 200,\n",
       " 200,\n",
       " 200,\n",
       " 200,\n",
       " 200,\n",
       " 200,\n",
       " 200,\n",
       " 200,\n",
       " 200,\n",
       " 200,\n",
       " 200,\n",
       " 200,\n",
       " 200,\n",
       " 200,\n",
       " 200,\n",
       " 200,\n",
       " 200,\n",
       " 200,\n",
       " 200,\n",
       " 200,\n",
       " 200,\n",
       " 200,\n",
       " 200,\n",
       " 200,\n",
       " 200,\n",
       " 200,\n",
       " 200,\n",
       " 200,\n",
       " 200,\n",
       " 200,\n",
       " 200,\n",
       " 200,\n",
       " 200,\n",
       " 200,\n",
       " 200,\n",
       " 200,\n",
       " 200,\n",
       " 200,\n",
       " 200,\n",
       " 200,\n",
       " 200,\n",
       " 200,\n",
       " 200,\n",
       " 200,\n",
       " 200,\n",
       " 200,\n",
       " 200,\n",
       " 200,\n",
       " 200,\n",
       " 200,\n",
       " 200,\n",
       " 200,\n",
       " 200,\n",
       " 200,\n",
       " 200,\n",
       " 200,\n",
       " 200,\n",
       " 200,\n",
       " 200,\n",
       " 200,\n",
       " 200,\n",
       " 200,\n",
       " 200,\n",
       " 200,\n",
       " 200,\n",
       " 200,\n",
       " 200,\n",
       " 200,\n",
       " 200,\n",
       " 200,\n",
       " 200,\n",
       " 200,\n",
       " 200,\n",
       " 200,\n",
       " 200,\n",
       " 200,\n",
       " 200,\n",
       " 200,\n",
       " 200,\n",
       " 200,\n",
       " 200,\n",
       " 200,\n",
       " 200,\n",
       " 200,\n",
       " 200,\n",
       " 200,\n",
       " 200,\n",
       " 200,\n",
       " 200,\n",
       " 200,\n",
       " 200,\n",
       " 200,\n",
       " 200,\n",
       " 200,\n",
       " 200,\n",
       " 200,\n",
       " 200,\n",
       " 200,\n",
       " 200,\n",
       " 200,\n",
       " 200,\n",
       " 200,\n",
       " 200,\n",
       " 200,\n",
       " 200,\n",
       " 200,\n",
       " 200,\n",
       " 200,\n",
       " 200,\n",
       " 200,\n",
       " 200,\n",
       " 200,\n",
       " 200,\n",
       " 200,\n",
       " 200,\n",
       " 200,\n",
       " 200,\n",
       " 200,\n",
       " 200,\n",
       " 200,\n",
       " 200,\n",
       " 200,\n",
       " 200,\n",
       " 200,\n",
       " 200,\n",
       " 200,\n",
       " 200,\n",
       " 200,\n",
       " 200,\n",
       " 200,\n",
       " 200,\n",
       " 200,\n",
       " 200,\n",
       " 200,\n",
       " 200,\n",
       " 200,\n",
       " 200,\n",
       " 200,\n",
       " 200,\n",
       " 200,\n",
       " 200,\n",
       " 200,\n",
       " 200,\n",
       " 200,\n",
       " 200,\n",
       " 200,\n",
       " 200,\n",
       " 200,\n",
       " 200,\n",
       " 200,\n",
       " 200,\n",
       " 200,\n",
       " 200,\n",
       " 200,\n",
       " 200,\n",
       " 200,\n",
       " 200,\n",
       " 200,\n",
       " 200,\n",
       " 200,\n",
       " 200,\n",
       " 200,\n",
       " 200,\n",
       " 200,\n",
       " 200,\n",
       " 200,\n",
       " 200,\n",
       " 200,\n",
       " 200,\n",
       " 200,\n",
       " 200,\n",
       " 200,\n",
       " 200,\n",
       " 200,\n",
       " 200,\n",
       " 200,\n",
       " 200,\n",
       " 200,\n",
       " 200,\n",
       " 200,\n",
       " 200,\n",
       " 200,\n",
       " 200,\n",
       " 200,\n",
       " 200,\n",
       " 200,\n",
       " 200,\n",
       " 200,\n",
       " 200,\n",
       " 200,\n",
       " 200,\n",
       " 200,\n",
       " 200,\n",
       " 200,\n",
       " 200,\n",
       " 200,\n",
       " 200,\n",
       " 200,\n",
       " 200,\n",
       " 200,\n",
       " 200,\n",
       " 200,\n",
       " 200,\n",
       " 200,\n",
       " 200,\n",
       " 200,\n",
       " 200,\n",
       " 200,\n",
       " 200,\n",
       " 200,\n",
       " 200,\n",
       " 200,\n",
       " 200,\n",
       " 200,\n",
       " 200,\n",
       " 200,\n",
       " 200,\n",
       " 200,\n",
       " 200,\n",
       " 200,\n",
       " 200,\n",
       " 200,\n",
       " 200,\n",
       " 200,\n",
       " 200,\n",
       " 200,\n",
       " 200,\n",
       " 200,\n",
       " 200,\n",
       " 200,\n",
       " 200,\n",
       " 200,\n",
       " 200,\n",
       " 200,\n",
       " 200,\n",
       " 200,\n",
       " 200,\n",
       " 200,\n",
       " 200,\n",
       " 200,\n",
       " 200,\n",
       " 200,\n",
       " 200,\n",
       " 200,\n",
       " 200,\n",
       " 200,\n",
       " 200,\n",
       " 200,\n",
       " 200,\n",
       " 200,\n",
       " 200,\n",
       " 200,\n",
       " 200,\n",
       " 200,\n",
       " 200,\n",
       " 200,\n",
       " 200,\n",
       " 200,\n",
       " 200,\n",
       " 200,\n",
       " 200,\n",
       " 200,\n",
       " 200,\n",
       " 200,\n",
       " 200,\n",
       " 200,\n",
       " 200,\n",
       " 200,\n",
       " 200,\n",
       " 200,\n",
       " 200,\n",
       " 200,\n",
       " 200,\n",
       " 200,\n",
       " 200,\n",
       " 200,\n",
       " 200,\n",
       " 200,\n",
       " 200,\n",
       " 200,\n",
       " 200,\n",
       " 200,\n",
       " 200,\n",
       " 200,\n",
       " 200,\n",
       " 200,\n",
       " 200,\n",
       " 200,\n",
       " 200,\n",
       " 200,\n",
       " 200,\n",
       " 200,\n",
       " 200,\n",
       " 200,\n",
       " 200,\n",
       " 200,\n",
       " 200,\n",
       " 200,\n",
       " 200,\n",
       " 200,\n",
       " 200,\n",
       " 200,\n",
       " 200,\n",
       " 200,\n",
       " 200,\n",
       " 200,\n",
       " 200,\n",
       " 200,\n",
       " 200,\n",
       " 200,\n",
       " 200,\n",
       " 200,\n",
       " 200,\n",
       " 200,\n",
       " 200,\n",
       " 200,\n",
       " 200,\n",
       " 200,\n",
       " 200,\n",
       " 200,\n",
       " 200,\n",
       " 200,\n",
       " 200,\n",
       " 200,\n",
       " 200,\n",
       " 200,\n",
       " 200,\n",
       " 200,\n",
       " 200,\n",
       " 200,\n",
       " 200,\n",
       " 200,\n",
       " 200,\n",
       " 200,\n",
       " 200,\n",
       " 200,\n",
       " 200,\n",
       " 200,\n",
       " 200,\n",
       " 200,\n",
       " 200,\n",
       " 200,\n",
       " 200,\n",
       " 200,\n",
       " 200,\n",
       " 200,\n",
       " 200,\n",
       " 200,\n",
       " 200,\n",
       " 200,\n",
       " 200,\n",
       " 200,\n",
       " 200,\n",
       " 200,\n",
       " 200,\n",
       " 200,\n",
       " 200,\n",
       " 200,\n",
       " 200,\n",
       " 200,\n",
       " 200,\n",
       " 200,\n",
       " 200,\n",
       " 200,\n",
       " 200,\n",
       " 200,\n",
       " 200,\n",
       " 200,\n",
       " 200,\n",
       " 200,\n",
       " 200,\n",
       " 200,\n",
       " 200,\n",
       " 200,\n",
       " 200,\n",
       " 200,\n",
       " 200,\n",
       " 200,\n",
       " 200,\n",
       " 200,\n",
       " 200,\n",
       " 200,\n",
       " 200,\n",
       " 200,\n",
       " 200,\n",
       " 200,\n",
       " 200,\n",
       " 200,\n",
       " 200,\n",
       " 200,\n",
       " 200,\n",
       " 200,\n",
       " 200,\n",
       " 200,\n",
       " 200,\n",
       " 200,\n",
       " 200,\n",
       " 200,\n",
       " 200,\n",
       " 200,\n",
       " 200,\n",
       " 200,\n",
       " 200,\n",
       " 200,\n",
       " 200,\n",
       " 200,\n",
       " 200,\n",
       " 200,\n",
       " 200,\n",
       " 200,\n",
       " 200,\n",
       " 200,\n",
       " 200,\n",
       " 200,\n",
       " 200,\n",
       " 200,\n",
       " 200,\n",
       " 200,\n",
       " 200,\n",
       " 200,\n",
       " 200,\n",
       " 200,\n",
       " 200,\n",
       " 200,\n",
       " 200,\n",
       " 200,\n",
       " 200,\n",
       " 200,\n",
       " 200,\n",
       " 200,\n",
       " 200,\n",
       " 200,\n",
       " 200,\n",
       " 200,\n",
       " 200,\n",
       " 200,\n",
       " 200,\n",
       " 200,\n",
       " 200,\n",
       " 200,\n",
       " 200,\n",
       " 200,\n",
       " 200,\n",
       " 200,\n",
       " 200,\n",
       " 200,\n",
       " 200,\n",
       " 200,\n",
       " 200,\n",
       " 200,\n",
       " 200,\n",
       " 200,\n",
       " 200,\n",
       " 200,\n",
       " 200,\n",
       " 200,\n",
       " 200,\n",
       " 200,\n",
       " 200,\n",
       " 200,\n",
       " 200,\n",
       " 200,\n",
       " 200,\n",
       " 200,\n",
       " 200,\n",
       " 200,\n",
       " 200,\n",
       " 200,\n",
       " 200,\n",
       " 200,\n",
       " 200,\n",
       " 200,\n",
       " 200,\n",
       " 200,\n",
       " 200,\n",
       " 200,\n",
       " 200,\n",
       " 200,\n",
       " 200,\n",
       " 200,\n",
       " 200,\n",
       " 200,\n",
       " 200,\n",
       " 200,\n",
       " 200,\n",
       " 200,\n",
       " 200,\n",
       " 200,\n",
       " 200,\n",
       " 200,\n",
       " 200,\n",
       " 200,\n",
       " 200,\n",
       " 200,\n",
       " 200,\n",
       " 200,\n",
       " 200,\n",
       " 200,\n",
       " 200,\n",
       " 200,\n",
       " 200,\n",
       " 200,\n",
       " 200,\n",
       " 200,\n",
       " 200,\n",
       " 200,\n",
       " 200,\n",
       " 200,\n",
       " 200,\n",
       " 200,\n",
       " 200,\n",
       " 200,\n",
       " 200,\n",
       " 200,\n",
       " 200,\n",
       " 200,\n",
       " 200,\n",
       " 200,\n",
       " 200,\n",
       " 200,\n",
       " 200,\n",
       " 200,\n",
       " 200,\n",
       " 200,\n",
       " 200,\n",
       " 200,\n",
       " 200,\n",
       " 200,\n",
       " 200,\n",
       " 200,\n",
       " 200,\n",
       " 200,\n",
       " 200,\n",
       " 200,\n",
       " 200,\n",
       " 200,\n",
       " 200,\n",
       " 200,\n",
       " 200,\n",
       " 200,\n",
       " 200,\n",
       " 200,\n",
       " 200,\n",
       " 200,\n",
       " 200,\n",
       " 200,\n",
       " 200,\n",
       " 200,\n",
       " 200,\n",
       " 200,\n",
       " 200,\n",
       " 200,\n",
       " 200,\n",
       " 200,\n",
       " 200,\n",
       " 200,\n",
       " 200,\n",
       " 200,\n",
       " 200,\n",
       " 200,\n",
       " 200,\n",
       " 200,\n",
       " 200,\n",
       " 200,\n",
       " 200,\n",
       " 200,\n",
       " 200,\n",
       " 200,\n",
       " 200,\n",
       " 200,\n",
       " 200,\n",
       " 200,\n",
       " 200,\n",
       " 200,\n",
       " 200,\n",
       " 200,\n",
       " 200,\n",
       " 200,\n",
       " 200,\n",
       " 200,\n",
       " 200,\n",
       " 200,\n",
       " 200,\n",
       " 200,\n",
       " 200,\n",
       " 200,\n",
       " 200,\n",
       " 200,\n",
       " 200,\n",
       " 200,\n",
       " 200,\n",
       " 200,\n",
       " 200,\n",
       " 200,\n",
       " 200,\n",
       " 200,\n",
       " 200,\n",
       " 200,\n",
       " 200,\n",
       " 200,\n",
       " 200,\n",
       " 200,\n",
       " 200,\n",
       " 200,\n",
       " 200,\n",
       " 200,\n",
       " 200,\n",
       " 200,\n",
       " 200,\n",
       " ...]"
      ]
     },
     "execution_count": 23,
     "metadata": {},
     "output_type": "execute_result"
    }
   ],
   "source": [
    "validity_check = check_urls(urls, timeout=2)\n",
    "[check[\"status_code\"] for check in validity_check]"
   ]
  },
  {
   "cell_type": "code",
   "execution_count": 24,
   "id": "82f04ee1-9ef5-4037-bb77-829c484206d9",
   "metadata": {},
   "outputs": [
    {
     "data": {
      "text/plain": [
       "array([], dtype=int64)"
      ]
     },
     "execution_count": 24,
     "metadata": {},
     "output_type": "execute_result"
    }
   ],
   "source": [
    "import numpy as np\n",
    "none_indices = np.where(np.array([check[\"status_code\"] for check in validity_check])==None)[0]\n",
    "none_indices"
   ]
  },
  {
   "cell_type": "code",
   "execution_count": 25,
   "id": "39d465ad-1488-4ef1-99ed-d9f2533b5f76",
   "metadata": {},
   "outputs": [
    {
     "data": {
      "text/plain": [
       "[]"
      ]
     },
     "execution_count": 25,
     "metadata": {},
     "output_type": "execute_result"
    }
   ],
   "source": [
    "none_urls = [param_tuples[idx] for idx in none_indices]\n",
    "none_urls"
   ]
  },
  {
   "cell_type": "markdown",
   "id": "41eda1e6-8eb7-4857-8d6e-d35d4747621e",
   "metadata": {},
   "source": [
    "## Reference period URL's"
   ]
  },
  {
   "cell_type": "code",
   "execution_count": 17,
   "id": "1b672d42-582a-4db5-86a2-ec58f9fa1c60",
   "metadata": {},
   "outputs": [],
   "source": [
    "ref_period_urls = []\n",
    "for var_name in chelsa_ref_period_param[\"var\"]:\n",
    "    ref_period_urls.append(s3.format_url_clim_ref_period(var_name))\n",
    "validity_check_rp = check_urls(ref_period_urls, timeout=2)"
   ]
  },
  {
   "cell_type": "code",
   "execution_count": 18,
   "id": "516a01b3-c4a8-4635-b0ab-fdb2dcc8f152",
   "metadata": {},
   "outputs": [
    {
     "data": {
      "text/plain": [
       "array([], dtype=int64)"
      ]
     },
     "execution_count": 18,
     "metadata": {},
     "output_type": "execute_result"
    }
   ],
   "source": [
    "none_indices_rp = np.where(np.array([check[\"status_code\"] for check in validity_check_rp])==None)[0]\n",
    "none_indices_rp"
   ]
  },
  {
   "cell_type": "markdown",
   "id": "053599a6-f1de-46e2-8813-d38a85cc6c09",
   "metadata": {},
   "source": [
    "## Reference monthly URL's"
   ]
  },
  {
   "cell_type": "code",
   "execution_count": 19,
   "id": "4794424e-f6dd-467f-84c2-f08b779e8862",
   "metadata": {},
   "outputs": [
    {
     "data": {
      "text/plain": [
       "array([], dtype=int64)"
      ]
     },
     "execution_count": 19,
     "metadata": {},
     "output_type": "execute_result"
    }
   ],
   "source": [
    "rm_urls = []\n",
    "param_tuples_rm = []\n",
    "for var_name in chelsa_ref_month_param[\"var\"]:\n",
    "    for month in chelsa_ref_month_param[\"months\"]:  \n",
    "        rm_urls.append(s3.format_url_clim_ref_monthly(var_name, month))\n",
    "        param_tuples.append((var_name, month))\n",
    "validity_check_rm = check_urls(rm_urls, timeout=2)\n",
    "none_indices_rm = np.where(np.array([check[\"status_code\"] for check in validity_check_rm])==None)[0]\n",
    "none_indices_rm"
   ]
  },
  {
   "cell_type": "markdown",
   "id": "885ff31f-ffd6-424d-89ca-ad916a932da8",
   "metadata": {},
   "source": [
    "## Simulation period URL's "
   ]
  },
  {
   "cell_type": "code",
   "execution_count": 20,
   "id": "52726017-bec7-46e7-9738-28b38897a949",
   "metadata": {},
   "outputs": [
    {
     "data": {
      "text/plain": [
       "array([], dtype=int64)"
      ]
     },
     "execution_count": 20,
     "metadata": {},
     "output_type": "execute_result"
    }
   ],
   "source": [
    "sp_urls = []\n",
    "param_tuples_sp = []\n",
    "for var_name in chelsa_sim_period_param[\"var\"]:\n",
    "    for year_range in chelsa_sim_period_param[\"year_ranges\"]:\n",
    "        for model_name in chelsa_sim_period_param[\"model_names\"]:\n",
    "            for scenario in chelsa_sim_period_param[\"scenarios\"]:\n",
    "                sp_urls.append(s3.format_url_clim_sim_period(var_name, year_range, model_name, scenario))\n",
    "                param_tuples.append((var_name, year_range, model_name, scenario))\n",
    "validity_check_sp = check_urls(sp_urls, timeout=2)\n",
    "none_indices_sp = np.where(np.array([check[\"status_code\"] for check in validity_check_sp])==None)[0]\n",
    "none_indices_sp"
   ]
  },
  {
   "cell_type": "markdown",
   "id": "19c5d237-eec6-4ac7-ac4c-7c7034877be0",
   "metadata": {},
   "source": [
    "## Simulation monthly URL's"
   ]
  },
  {
   "cell_type": "code",
   "execution_count": 21,
   "id": "e81cc1a6-97ce-4815-99a6-d8de8b1a885c",
   "metadata": {},
   "outputs": [
    {
     "data": {
      "text/plain": [
       "array([], dtype=int64)"
      ]
     },
     "execution_count": 21,
     "metadata": {},
     "output_type": "execute_result"
    }
   ],
   "source": [
    "sm_urls = []\n",
    "param_tuples_sm = []\n",
    "for var_name in chelsa_sim_month_param[\"var\"]:\n",
    "    for year_range in chelsa_sim_period_param[\"year_ranges\"]:\n",
    "        for month in chelsa_sim_month_param[\"months\"]:  \n",
    "            for model_name in chelsa_sim_period_param[\"model_names\"]:\n",
    "                for scenario in chelsa_sim_period_param[\"scenarios\"]:\n",
    "                    sm_urls.append(s3.format_url_clim_sim_month(var_name, year_range,month, model_name, scenario))\n",
    "                    param_tuples.append((var_name, year_range,month, model_name, scenario))\n",
    "validity_check_sm = check_urls(sm_urls, timeout=2)\n",
    "none_indices_sm = np.where(np.array([check[\"status_code\"] for check in validity_check_sm])==None)[0]\n",
    "none_indices_sm"
   ]
  },
  {
   "cell_type": "markdown",
   "id": "b4c7c721-d2bb-4447-a593-89a0241031c5",
   "metadata": {},
   "source": [
    "## Sampling submodule"
   ]
  },
  {
   "cell_type": "code",
   "execution_count": 22,
   "id": "8ff0c5fb-791a-44bc-bd20-04af0d990bc2",
   "metadata": {},
   "outputs": [],
   "source": [
    "from datasource.chelsa import sampling"
   ]
  },
  {
   "cell_type": "code",
   "execution_count": 90,
   "id": "1cc2042c-7e87-417f-b9e6-5dd5e843ecbd",
   "metadata": {},
   "outputs": [],
   "source": [
    "month_data = [sampling.read_bounding_box(url, chelsa_month_param[\"bbox\"]) for url in urls]"
   ]
  },
  {
   "cell_type": "code",
   "execution_count": 97,
   "id": "35336a11-320f-4ce4-8425-ba85e745e974",
   "metadata": {},
   "outputs": [
    {
     "name": "stdout",
     "output_type": "stream",
     "text": [
      "The first array of the tuples are non NaN: True\n",
      "The second array of the tuples are non NaN: True\n",
      "The third array of the tuples are non NaN: True\n"
     ]
    }
   ],
   "source": [
    "print(f\"The first array of the tuples are non NaN: {all(np.all(~np.isnan(arr_tuple[0])) for arr_tuple in month_data)}\")\n",
    "print(f\"The second array of the tuples are non NaN: {all(np.all(~np.isnan(arr_tuple[1])) for arr_tuple in month_data)}\")\n",
    "print(f\"The third array of the tuples are non NaN: {all(np.all(~np.isnan(arr_tuple[2])) for arr_tuple in month_data)}\")"
   ]
  },
  {
   "cell_type": "code",
   "execution_count": 91,
   "id": "8da553e8-946a-4046-bfe0-a7917170b5dc",
   "metadata": {},
   "outputs": [],
   "source": [
    "rp_data = [sampling.read_bounding_box(url, chelsa_ref_period_param[\"bbox\"]) for url in ref_period_urls]"
   ]
  },
  {
   "cell_type": "code",
   "execution_count": 98,
   "id": "d8ca22ad-56a9-4575-916e-7a48b57dc628",
   "metadata": {},
   "outputs": [
    {
     "name": "stdout",
     "output_type": "stream",
     "text": [
      "The first array of the tuples are non NaN: True\n",
      "The second array of the tuples are non NaN: True\n",
      "The third array of the tuples are non NaN: True\n"
     ]
    }
   ],
   "source": [
    "print(f\"The first array of the tuples are non NaN: {all(np.all(~np.isnan(arr_tuple[0])) for arr_tuple in rp_data)}\")\n",
    "print(f\"The second array of the tuples are non NaN: {all(np.all(~np.isnan(arr_tuple[1])) for arr_tuple in rp_data)}\")\n",
    "print(f\"The third array of the tuples are non NaN: {all(np.all(~np.isnan(arr_tuple[2])) for arr_tuple in rp_data)}\")"
   ]
  },
  {
   "cell_type": "code",
   "execution_count": 92,
   "id": "5a968db8-8c79-45a3-a658-c710b32ae48c",
   "metadata": {},
   "outputs": [],
   "source": [
    "rm_data = [sampling.read_bounding_box(url, chelsa_ref_month_param[\"bbox\"]) for url in rm_urls]"
   ]
  },
  {
   "cell_type": "code",
   "execution_count": 99,
   "id": "80c0b053-3caa-4059-9e64-6927a57e65a7",
   "metadata": {},
   "outputs": [
    {
     "name": "stdout",
     "output_type": "stream",
     "text": [
      "The first array of the tuples are non NaN: True\n",
      "The second array of the tuples are non NaN: True\n",
      "The third array of the tuples are non NaN: True\n"
     ]
    }
   ],
   "source": [
    "print(f\"The first array of the tuples are non NaN: {all(np.all(~np.isnan(arr_tuple[0])) for arr_tuple in rm_data)}\")\n",
    "print(f\"The second array of the tuples are non NaN: {all(np.all(~np.isnan(arr_tuple[1])) for arr_tuple in rm_data)}\")\n",
    "print(f\"The third array of the tuples are non NaN: {all(np.all(~np.isnan(arr_tuple[2])) for arr_tuple in rm_data)}\")"
   ]
  },
  {
   "cell_type": "code",
   "execution_count": 93,
   "id": "755f34fd-704c-477e-ade1-c00a5ea39c0c",
   "metadata": {},
   "outputs": [],
   "source": [
    "sp_data = [sampling.read_bounding_box(url, chelsa_sim_period_param[\"bbox\"]) for url in sp_urls]"
   ]
  },
  {
   "cell_type": "code",
   "execution_count": 100,
   "id": "8c47c19a-4ac3-4f37-aff3-d960f6d73cfc",
   "metadata": {},
   "outputs": [
    {
     "name": "stdout",
     "output_type": "stream",
     "text": [
      "The first array of the tuples are non NaN: True\n",
      "The second array of the tuples are non NaN: True\n",
      "The third array of the tuples are non NaN: True\n"
     ]
    }
   ],
   "source": [
    "print(f\"The first array of the tuples are non NaN: {all(np.all(~np.isnan(arr_tuple[0])) for arr_tuple in sp_data)}\")\n",
    "print(f\"The second array of the tuples are non NaN: {all(np.all(~np.isnan(arr_tuple[1])) for arr_tuple in sp_data)}\")\n",
    "print(f\"The third array of the tuples are non NaN: {all(np.all(~np.isnan(arr_tuple[2])) for arr_tuple in sp_data)}\")"
   ]
  },
  {
   "cell_type": "code",
   "execution_count": 94,
   "id": "243b6563-fca9-4246-aaa5-0091afbaf6bb",
   "metadata": {},
   "outputs": [],
   "source": [
    "sm_data = [sampling.read_bounding_box(url, chelsa_sim_month_param[\"bbox\"]) for url in sm_urls]"
   ]
  },
  {
   "cell_type": "code",
   "execution_count": 101,
   "id": "22c6e497-3363-490b-9bc7-6cfcafdeed61",
   "metadata": {},
   "outputs": [
    {
     "name": "stdout",
     "output_type": "stream",
     "text": [
      "The first array of the tuples are non NaN: True\n",
      "The second array of the tuples are non NaN: True\n",
      "The third array of the tuples are non NaN: True\n"
     ]
    }
   ],
   "source": [
    "print(f\"The first array of the tuples are non NaN: {all(np.all(~np.isnan(arr_tuple[0])) for arr_tuple in sm_data)}\")\n",
    "print(f\"The second array of the tuples are non NaN: {all(np.all(~np.isnan(arr_tuple[1])) for arr_tuple in sm_data)}\")\n",
    "print(f\"The third array of the tuples are non NaN: {all(np.all(~np.isnan(arr_tuple[2])) for arr_tuple in sm_data)}\")"
   ]
  },
  {
   "cell_type": "markdown",
   "id": "321dbfe9-d761-4199-b019-26da832898a1",
   "metadata": {},
   "source": [
    "## Layer submodule"
   ]
  },
  {
   "cell_type": "code",
   "execution_count": 11,
   "id": "e1299a34-c86b-4e98-ba1f-0ca20f3479e1",
   "metadata": {},
   "outputs": [],
   "source": [
    "from datasource.chelsa import layer"
   ]
  },
  {
   "cell_type": "code",
   "execution_count": 12,
   "id": "3cb880c1-5063-4b6b-9e93-333e20efd3ea",
   "metadata": {},
   "outputs": [
    {
     "name": "stdout",
     "output_type": "stream",
     "text": [
      "-----Retrieving monthly CHELSA data for variable 'clt'-----\n"
     ]
    },
    {
     "name": "stderr",
     "output_type": "stream",
     "text": [
      "Processing: 100%|███████████████████████████████████████████████████████████████████████████████████████████████████████████| 479/479 [04:21<00:00,  1.83item/s]\n"
     ]
    },
    {
     "name": "stdout",
     "output_type": "stream",
     "text": [
      "-----Retrieving monthly CHELSA data for variable 'cmi'-----\n"
     ]
    },
    {
     "name": "stderr",
     "output_type": "stream",
     "text": [
      "Processing: 100%|███████████████████████████████████████████████████████████████████████████████████████████████████████████| 479/479 [04:48<00:00,  1.66item/s]\n"
     ]
    },
    {
     "name": "stdout",
     "output_type": "stream",
     "text": [
      "-----Retrieving monthly CHELSA data for variable 'hurs'-----\n"
     ]
    },
    {
     "name": "stderr",
     "output_type": "stream",
     "text": [
      "Processing: 100%|███████████████████████████████████████████████████████████████████████████████████████████████████████████| 479/479 [04:44<00:00,  1.69item/s]\n"
     ]
    },
    {
     "name": "stdout",
     "output_type": "stream",
     "text": [
      "-----Retrieving monthly CHELSA data for variable 'pet'-----\n"
     ]
    },
    {
     "name": "stderr",
     "output_type": "stream",
     "text": [
      "Processing: 100%|███████████████████████████████████████████████████████████████████████████████████████████████████████████| 479/479 [04:49<00:00,  1.65item/s]\n"
     ]
    },
    {
     "name": "stdout",
     "output_type": "stream",
     "text": [
      "-----Retrieving monthly CHELSA data for variable 'pr'-----\n"
     ]
    },
    {
     "name": "stderr",
     "output_type": "stream",
     "text": [
      "Processing: 100%|███████████████████████████████████████████████████████████████████████████████████████████████████████████| 479/479 [05:00<00:00,  1.59item/s]\n"
     ]
    },
    {
     "name": "stdout",
     "output_type": "stream",
     "text": [
      "-----Retrieving monthly CHELSA data for variable 'rsds'-----\n"
     ]
    },
    {
     "name": "stderr",
     "output_type": "stream",
     "text": [
      "Processing: 100%|███████████████████████████████████████████████████████████████████████████████████████████████████████████| 479/479 [04:42<00:00,  1.69item/s]\n"
     ]
    },
    {
     "name": "stdout",
     "output_type": "stream",
     "text": [
      "-----Retrieving monthly CHELSA data for variable 'sfcWind'-----\n"
     ]
    },
    {
     "name": "stderr",
     "output_type": "stream",
     "text": [
      "Processing: 100%|███████████████████████████████████████████████████████████████████████████████████████████████████████████| 479/479 [04:48<00:00,  1.66item/s]\n"
     ]
    },
    {
     "name": "stdout",
     "output_type": "stream",
     "text": [
      "-----Retrieving monthly CHELSA data for variable 'tas'-----\n"
     ]
    },
    {
     "name": "stderr",
     "output_type": "stream",
     "text": [
      "Processing: 100%|███████████████████████████████████████████████████████████████████████████████████████████████████████████| 479/479 [04:32<00:00,  1.76item/s]\n"
     ]
    },
    {
     "name": "stdout",
     "output_type": "stream",
     "text": [
      "-----Retrieving monthly CHELSA data for variable 'tasmax'-----\n"
     ]
    },
    {
     "name": "stderr",
     "output_type": "stream",
     "text": [
      "Processing: 100%|███████████████████████████████████████████████████████████████████████████████████████████████████████████| 479/479 [04:38<00:00,  1.72item/s]\n"
     ]
    },
    {
     "name": "stdout",
     "output_type": "stream",
     "text": [
      "-----Retrieving monthly CHELSA data for variable 'tasmin'-----\n"
     ]
    },
    {
     "name": "stderr",
     "output_type": "stream",
     "text": [
      "Processing: 100%|███████████████████████████████████████████████████████████████████████████████████████████████████████████| 479/479 [04:35<00:00,  1.74item/s]\n"
     ]
    },
    {
     "name": "stdout",
     "output_type": "stream",
     "text": [
      "-----Retrieving monthly CHELSA data for variable 'vpd'-----\n"
     ]
    },
    {
     "name": "stderr",
     "output_type": "stream",
     "text": [
      "Processing: 100%|███████████████████████████████████████████████████████████████████████████████████████████████████████████| 479/479 [04:55<00:00,  1.62item/s]\n"
     ]
    }
   ],
   "source": [
    "m_vars = [] \n",
    "m_das = []\n",
    "\n",
    "for var in chelsa_month_param[\"var\"]:\n",
    "    var, da = layer.chelsa_month_ts(var, \n",
    "                                    chelsa_month_param[\"bbox\"], \n",
    "                                    chelsa_month_param[\"start_month\"], \n",
    "                                    chelsa_month_param[\"end_month\"], \n",
    "                                    chelsa_month_param[\"start_year\"], \n",
    "                                    chelsa_month_param[\"end_year\"])\n",
    "    m_vars.append(var)\n",
    "    m_das.append(da)"
   ]
  },
  {
   "cell_type": "code",
   "execution_count": 13,
   "id": "9c7a5ac9-fa87-4032-84a6-08d1b494fec7",
   "metadata": {},
   "outputs": [
    {
     "name": "stdout",
     "output_type": "stream",
     "text": [
      "-----Retrieving Reference Climatology CHELSA data for variable 'ai' in reference period 1981-2010-----\n",
      "Complete\n",
      "-----Retrieving Reference Climatology CHELSA data for variable 'bio10' in reference period 1981-2010-----\n",
      "Complete\n",
      "-----Retrieving Reference Climatology CHELSA data for variable 'bio11' in reference period 1981-2010-----\n",
      "Complete\n",
      "-----Retrieving Reference Climatology CHELSA data for variable 'bio12' in reference period 1981-2010-----\n",
      "Complete\n",
      "-----Retrieving Reference Climatology CHELSA data for variable 'bio13' in reference period 1981-2010-----\n",
      "Complete\n",
      "-----Retrieving Reference Climatology CHELSA data for variable 'bio14' in reference period 1981-2010-----\n",
      "Complete\n",
      "-----Retrieving Reference Climatology CHELSA data for variable 'bio15' in reference period 1981-2010-----\n",
      "Complete\n",
      "-----Retrieving Reference Climatology CHELSA data for variable 'bio16' in reference period 1981-2010-----\n",
      "Complete\n",
      "-----Retrieving Reference Climatology CHELSA data for variable 'bio17' in reference period 1981-2010-----\n",
      "Complete\n",
      "-----Retrieving Reference Climatology CHELSA data for variable 'bio18' in reference period 1981-2010-----\n",
      "Complete\n",
      "-----Retrieving Reference Climatology CHELSA data for variable 'bio19' in reference period 1981-2010-----\n",
      "Complete\n",
      "-----Retrieving Reference Climatology CHELSA data for variable 'bio1' in reference period 1981-2010-----\n",
      "Complete\n",
      "-----Retrieving Reference Climatology CHELSA data for variable 'bio2' in reference period 1981-2010-----\n",
      "Complete\n",
      "-----Retrieving Reference Climatology CHELSA data for variable 'bio3' in reference period 1981-2010-----\n",
      "Complete\n",
      "-----Retrieving Reference Climatology CHELSA data for variable 'bio4' in reference period 1981-2010-----\n",
      "Complete\n",
      "-----Retrieving Reference Climatology CHELSA data for variable 'bio5' in reference period 1981-2010-----\n",
      "Complete\n",
      "-----Retrieving Reference Climatology CHELSA data for variable 'bio6' in reference period 1981-2010-----\n",
      "Complete\n",
      "-----Retrieving Reference Climatology CHELSA data for variable 'bio7' in reference period 1981-2010-----\n",
      "Complete\n",
      "-----Retrieving Reference Climatology CHELSA data for variable 'bio8' in reference period 1981-2010-----\n",
      "Complete\n",
      "-----Retrieving Reference Climatology CHELSA data for variable 'bio9' in reference period 1981-2010-----\n",
      "Complete\n",
      "-----Retrieving Reference Climatology CHELSA data for variable 'clt_max' in reference period 1981-2010-----\n",
      "Complete\n",
      "-----Retrieving Reference Climatology CHELSA data for variable 'clt_mean' in reference period 1981-2010-----\n",
      "Complete\n",
      "-----Retrieving Reference Climatology CHELSA data for variable 'clt_min' in reference period 1981-2010-----\n",
      "Complete\n",
      "-----Retrieving Reference Climatology CHELSA data for variable 'clt_range' in reference period 1981-2010-----\n",
      "Complete\n",
      "-----Retrieving Reference Climatology CHELSA data for variable 'cmi_max' in reference period 1981-2010-----\n",
      "Complete\n",
      "-----Retrieving Reference Climatology CHELSA data for variable 'cmi_mean' in reference period 1981-2010-----\n",
      "Complete\n",
      "-----Retrieving Reference Climatology CHELSA data for variable 'cmi_min' in reference period 1981-2010-----\n",
      "Complete\n",
      "-----Retrieving Reference Climatology CHELSA data for variable 'cmi_range' in reference period 1981-2010-----\n",
      "Complete\n",
      "-----Retrieving Reference Climatology CHELSA data for variable 'fcf' in reference period 1981-2010-----\n",
      "Complete\n",
      "-----Retrieving Reference Climatology CHELSA data for variable 'fgd' in reference period 1981-2010-----\n",
      "Complete\n",
      "-----Retrieving Reference Climatology CHELSA data for variable 'gdd0' in reference period 1981-2010-----\n",
      "Complete\n",
      "-----Retrieving Reference Climatology CHELSA data for variable 'gdd10' in reference period 1981-2010-----\n",
      "Complete\n",
      "-----Retrieving Reference Climatology CHELSA data for variable 'gdd5' in reference period 1981-2010-----\n",
      "Complete\n",
      "-----Retrieving Reference Climatology CHELSA data for variable 'gddlgd0' in reference period 1981-2010-----\n",
      "Complete\n",
      "-----Retrieving Reference Climatology CHELSA data for variable 'gddlgd10' in reference period 1981-2010-----\n",
      "Complete\n",
      "-----Retrieving Reference Climatology CHELSA data for variable 'gddlgd5' in reference period 1981-2010-----\n",
      "Complete\n",
      "-----Retrieving Reference Climatology CHELSA data for variable 'gdgfgd0' in reference period 1981-2010-----\n",
      "Complete\n",
      "-----Retrieving Reference Climatology CHELSA data for variable 'gdgfgd10' in reference period 1981-2010-----\n",
      "Complete\n",
      "-----Retrieving Reference Climatology CHELSA data for variable 'gdgfgd5' in reference period 1981-2010-----\n",
      "Complete\n",
      "-----Retrieving Reference Climatology CHELSA data for variable 'gsl' in reference period 1981-2010-----\n",
      "Complete\n",
      "-----Retrieving Reference Climatology CHELSA data for variable 'gsp' in reference period 1981-2010-----\n",
      "Complete\n",
      "-----Retrieving Reference Climatology CHELSA data for variable 'gst' in reference period 1981-2010-----\n",
      "Complete\n",
      "-----Retrieving Reference Climatology CHELSA data for variable 'hurs_max' in reference period 1981-2010-----\n",
      "Complete\n",
      "-----Retrieving Reference Climatology CHELSA data for variable 'hurs_mean' in reference period 1981-2010-----\n",
      "Complete\n",
      "-----Retrieving Reference Climatology CHELSA data for variable 'hurs_min' in reference period 1981-2010-----\n",
      "Complete\n",
      "-----Retrieving Reference Climatology CHELSA data for variable 'hurs_range' in reference period 1981-2010-----\n",
      "Complete\n",
      "-----Retrieving Reference Climatology CHELSA data for variable 'kg0' in reference period 1981-2010-----\n",
      "Complete\n",
      "-----Retrieving Reference Climatology CHELSA data for variable 'kg1' in reference period 1981-2010-----\n",
      "Complete\n",
      "-----Retrieving Reference Climatology CHELSA data for variable 'kg2' in reference period 1981-2010-----\n",
      "Complete\n",
      "-----Retrieving Reference Climatology CHELSA data for variable 'kg3' in reference period 1981-2010-----\n",
      "Complete\n",
      "-----Retrieving Reference Climatology CHELSA data for variable 'kg4' in reference period 1981-2010-----\n",
      "Complete\n",
      "-----Retrieving Reference Climatology CHELSA data for variable 'kg5' in reference period 1981-2010-----\n",
      "Complete\n",
      "-----Retrieving Reference Climatology CHELSA data for variable 'lgd' in reference period 1981-2010-----\n",
      "Complete\n",
      "-----Retrieving Reference Climatology CHELSA data for variable 'ngd0' in reference period 1981-2010-----\n",
      "Complete\n",
      "-----Retrieving Reference Climatology CHELSA data for variable 'ngd10' in reference period 1981-2010-----\n",
      "Complete\n",
      "-----Retrieving Reference Climatology CHELSA data for variable 'ngd5' in reference period 1981-2010-----\n",
      "Complete\n",
      "-----Retrieving Reference Climatology CHELSA data for variable 'npp' in reference period 1981-2010-----\n",
      "Complete\n",
      "-----Retrieving Reference Climatology CHELSA data for variable 'pet_penman_max' in reference period 1981-2010-----\n",
      "Complete\n",
      "-----Retrieving Reference Climatology CHELSA data for variable 'pet_penman_mean' in reference period 1981-2010-----\n",
      "Complete\n",
      "-----Retrieving Reference Climatology CHELSA data for variable 'pet_penman_min' in reference period 1981-2010-----\n",
      "Complete\n",
      "-----Retrieving Reference Climatology CHELSA data for variable 'pet_penman_range' in reference period 1981-2010-----\n",
      "Complete\n",
      "-----Retrieving Reference Climatology CHELSA data for variable 'rsds_max' in reference period 1981-2010-----\n",
      "Complete\n",
      "-----Retrieving Reference Climatology CHELSA data for variable 'rsds_min' in reference period 1981-2010-----\n",
      "Complete\n",
      "-----Retrieving Reference Climatology CHELSA data for variable 'rsds_mean' in reference period 1981-2010-----\n",
      "Complete\n",
      "-----Retrieving Reference Climatology CHELSA data for variable 'rsds_range' in reference period 1981-2010-----\n",
      "Complete\n",
      "-----Retrieving Reference Climatology CHELSA data for variable 'scd' in reference period 1981-2010-----\n",
      "Complete\n",
      "-----Retrieving Reference Climatology CHELSA data for variable 'sfcWind_max' in reference period 1981-2010-----\n",
      "Complete\n",
      "-----Retrieving Reference Climatology CHELSA data for variable 'sfcWind_mean' in reference period 1981-2010-----\n",
      "Complete\n",
      "-----Retrieving Reference Climatology CHELSA data for variable 'sfcWind_min' in reference period 1981-2010-----\n",
      "Complete\n",
      "-----Retrieving Reference Climatology CHELSA data for variable 'sfcWind_range' in reference period 1981-2010-----\n",
      "Complete\n",
      "-----Retrieving Reference Climatology CHELSA data for variable 'swb' in reference period 1981-2010-----\n",
      "Complete\n",
      "-----Retrieving Reference Climatology CHELSA data for variable 'swe' in reference period 1981-2010-----\n",
      "Complete\n",
      "-----Retrieving Reference Climatology CHELSA data for variable 'vpd_max' in reference period 1981-2010-----\n",
      "Complete\n",
      "-----Retrieving Reference Climatology CHELSA data for variable 'vpd_mean' in reference period 1981-2010-----\n",
      "Complete\n",
      "-----Retrieving Reference Climatology CHELSA data for variable 'vpd_min' in reference period 1981-2010-----\n",
      "Complete\n",
      "-----Retrieving Reference Climatology CHELSA data for variable 'vpd_range' in reference period 1981-2010-----\n",
      "Complete\n"
     ]
    }
   ],
   "source": [
    "rp_vars = [] \n",
    "rp_das = []\n",
    "\n",
    "for var in chelsa_ref_period_param[\"var\"]:\n",
    "    var, da = layer.chelsa_clim_ref_period(var, \n",
    "                                           chelsa_ref_period_param[\"bbox\"])\n",
    "    rp_vars.append(var)\n",
    "    rp_das.append(da)"
   ]
  },
  {
   "cell_type": "code",
   "execution_count": 14,
   "id": "87e6fba1-b517-4413-9421-3ebc3c75dde1",
   "metadata": {},
   "outputs": [
    {
     "name": "stdout",
     "output_type": "stream",
     "text": [
      "-----Retrieving monthly Reference Climatology CHELSA data for variable 'clt' in reference period 1981-2010-----\n"
     ]
    },
    {
     "name": "stderr",
     "output_type": "stream",
     "text": [
      "Processing: 100%|█████████████████████████████████████████████████████████████████████████████████████████████████████████████| 12/12 [00:06<00:00,  1.87item/s]\n"
     ]
    },
    {
     "name": "stdout",
     "output_type": "stream",
     "text": [
      "-----Retrieving monthly Reference Climatology CHELSA data for variable 'cmi' in reference period 1981-2010-----\n"
     ]
    },
    {
     "name": "stderr",
     "output_type": "stream",
     "text": [
      "Processing: 100%|█████████████████████████████████████████████████████████████████████████████████████████████████████████████| 12/12 [00:06<00:00,  1.74item/s]\n"
     ]
    },
    {
     "name": "stdout",
     "output_type": "stream",
     "text": [
      "-----Retrieving monthly Reference Climatology CHELSA data for variable 'hurs' in reference period 1981-2010-----\n"
     ]
    },
    {
     "name": "stderr",
     "output_type": "stream",
     "text": [
      "Processing: 100%|█████████████████████████████████████████████████████████████████████████████████████████████████████████████| 12/12 [00:07<00:00,  1.58item/s]\n"
     ]
    },
    {
     "name": "stdout",
     "output_type": "stream",
     "text": [
      "-----Retrieving monthly Reference Climatology CHELSA data for variable 'pet' in reference period 1981-2010-----\n"
     ]
    },
    {
     "name": "stderr",
     "output_type": "stream",
     "text": [
      "Processing: 100%|█████████████████████████████████████████████████████████████████████████████████████████████████████████████| 12/12 [00:08<00:00,  1.44item/s]\n"
     ]
    },
    {
     "name": "stdout",
     "output_type": "stream",
     "text": [
      "-----Retrieving monthly Reference Climatology CHELSA data for variable 'pr' in reference period 1981-2010-----\n"
     ]
    },
    {
     "name": "stderr",
     "output_type": "stream",
     "text": [
      "Processing: 100%|█████████████████████████████████████████████████████████████████████████████████████████████████████████████| 12/12 [00:09<00:00,  1.25item/s]\n"
     ]
    },
    {
     "name": "stdout",
     "output_type": "stream",
     "text": [
      "-----Retrieving monthly Reference Climatology CHELSA data for variable 'rsds' in reference period 1981-2010-----\n"
     ]
    },
    {
     "name": "stderr",
     "output_type": "stream",
     "text": [
      "Processing: 100%|█████████████████████████████████████████████████████████████████████████████████████████████████████████████| 12/12 [00:07<00:00,  1.52item/s]\n"
     ]
    },
    {
     "name": "stdout",
     "output_type": "stream",
     "text": [
      "-----Retrieving monthly Reference Climatology CHELSA data for variable 'sfcWind' in reference period 1981-2010-----\n"
     ]
    },
    {
     "name": "stderr",
     "output_type": "stream",
     "text": [
      "Processing: 100%|█████████████████████████████████████████████████████████████████████████████████████████████████████████████| 12/12 [00:07<00:00,  1.71item/s]\n"
     ]
    },
    {
     "name": "stdout",
     "output_type": "stream",
     "text": [
      "-----Retrieving monthly Reference Climatology CHELSA data for variable 'tas' in reference period 1981-2010-----\n"
     ]
    },
    {
     "name": "stderr",
     "output_type": "stream",
     "text": [
      "Processing: 100%|█████████████████████████████████████████████████████████████████████████████████████████████████████████████| 12/12 [00:16<00:00,  1.38s/item]\n"
     ]
    },
    {
     "name": "stdout",
     "output_type": "stream",
     "text": [
      "-----Retrieving monthly Reference Climatology CHELSA data for variable 'tasmax' in reference period 1981-2010-----\n"
     ]
    },
    {
     "name": "stderr",
     "output_type": "stream",
     "text": [
      "Processing: 100%|█████████████████████████████████████████████████████████████████████████████████████████████████████████████| 12/12 [00:07<00:00,  1.53item/s]\n"
     ]
    },
    {
     "name": "stdout",
     "output_type": "stream",
     "text": [
      "-----Retrieving monthly Reference Climatology CHELSA data for variable 'tasmin' in reference period 1981-2010-----\n"
     ]
    },
    {
     "name": "stderr",
     "output_type": "stream",
     "text": [
      "Processing: 100%|█████████████████████████████████████████████████████████████████████████████████████████████████████████████| 12/12 [00:29<00:00,  2.43s/item]\n"
     ]
    },
    {
     "name": "stdout",
     "output_type": "stream",
     "text": [
      "-----Retrieving monthly Reference Climatology CHELSA data for variable 'vpd' in reference period 1981-2010-----\n"
     ]
    },
    {
     "name": "stderr",
     "output_type": "stream",
     "text": [
      "Processing: 100%|█████████████████████████████████████████████████████████████████████████████████████████████████████████████| 12/12 [00:07<00:00,  1.56item/s]\n"
     ]
    }
   ],
   "source": [
    "rm_vars = [] \n",
    "rm_das = []\n",
    "\n",
    "for var in chelsa_ref_month_param[\"var\"]:\n",
    "    var, da = layer.chelsa_clim_ref_month(var,\n",
    "                                          chelsa_ref_month_param[\"bbox\"], \n",
    "                                          chelsa_ref_month_param[\"months\"])\n",
    "    rm_vars.append(var)\n",
    "    rm_das.append(da)"
   ]
  },
  {
   "cell_type": "code",
   "execution_count": 16,
   "id": "2afaa336-d657-462a-9582-2be1f14d3490",
   "metadata": {},
   "outputs": [
    {
     "name": "stdout",
     "output_type": "stream",
     "text": [
      "-----Retrieving Simulation (period) CHELSA data for variable 'bio10'-----\n"
     ]
    },
    {
     "name": "stderr",
     "output_type": "stream",
     "text": [
      "Processing: 100%|█████████████████████████████████████████████████████████████████████████████████████████████████████████████| 45/45 [00:27<00:00,  1.62item/s]\n"
     ]
    },
    {
     "name": "stdout",
     "output_type": "stream",
     "text": [
      "-----Retrieving Simulation (period) CHELSA data for variable 'bio11'-----\n"
     ]
    },
    {
     "name": "stderr",
     "output_type": "stream",
     "text": [
      "Processing: 100%|█████████████████████████████████████████████████████████████████████████████████████████████████████████████| 45/45 [00:25<00:00,  1.73item/s]\n"
     ]
    },
    {
     "name": "stdout",
     "output_type": "stream",
     "text": [
      "-----Retrieving Simulation (period) CHELSA data for variable 'bio12'-----\n"
     ]
    },
    {
     "name": "stderr",
     "output_type": "stream",
     "text": [
      "Processing: 100%|█████████████████████████████████████████████████████████████████████████████████████████████████████████████| 45/45 [00:27<00:00,  1.63item/s]\n"
     ]
    },
    {
     "name": "stdout",
     "output_type": "stream",
     "text": [
      "-----Retrieving Simulation (period) CHELSA data for variable 'bio13'-----\n"
     ]
    },
    {
     "name": "stderr",
     "output_type": "stream",
     "text": [
      "Processing: 100%|█████████████████████████████████████████████████████████████████████████████████████████████████████████████| 45/45 [00:25<00:00,  1.74item/s]\n"
     ]
    },
    {
     "name": "stdout",
     "output_type": "stream",
     "text": [
      "-----Retrieving Simulation (period) CHELSA data for variable 'bio14'-----\n"
     ]
    },
    {
     "name": "stderr",
     "output_type": "stream",
     "text": [
      "Processing: 100%|█████████████████████████████████████████████████████████████████████████████████████████████████████████████| 45/45 [00:25<00:00,  1.79item/s]\n"
     ]
    },
    {
     "name": "stdout",
     "output_type": "stream",
     "text": [
      "-----Retrieving Simulation (period) CHELSA data for variable 'bio15'-----\n"
     ]
    },
    {
     "name": "stderr",
     "output_type": "stream",
     "text": [
      "Processing: 100%|█████████████████████████████████████████████████████████████████████████████████████████████████████████████| 45/45 [00:25<00:00,  1.77item/s]\n"
     ]
    },
    {
     "name": "stdout",
     "output_type": "stream",
     "text": [
      "-----Retrieving Simulation (period) CHELSA data for variable 'bio16'-----\n"
     ]
    },
    {
     "name": "stderr",
     "output_type": "stream",
     "text": [
      "Processing: 100%|█████████████████████████████████████████████████████████████████████████████████████████████████████████████| 45/45 [00:27<00:00,  1.61item/s]\n"
     ]
    },
    {
     "name": "stdout",
     "output_type": "stream",
     "text": [
      "-----Retrieving Simulation (period) CHELSA data for variable 'bio17'-----\n"
     ]
    },
    {
     "name": "stderr",
     "output_type": "stream",
     "text": [
      "Processing: 100%|█████████████████████████████████████████████████████████████████████████████████████████████████████████████| 45/45 [00:26<00:00,  1.70item/s]\n"
     ]
    },
    {
     "name": "stdout",
     "output_type": "stream",
     "text": [
      "-----Retrieving Simulation (period) CHELSA data for variable 'bio18'-----\n"
     ]
    },
    {
     "name": "stderr",
     "output_type": "stream",
     "text": [
      "Processing: 100%|█████████████████████████████████████████████████████████████████████████████████████████████████████████████| 45/45 [00:26<00:00,  1.68item/s]\n"
     ]
    },
    {
     "name": "stdout",
     "output_type": "stream",
     "text": [
      "-----Retrieving Simulation (period) CHELSA data for variable 'bio19'-----\n"
     ]
    },
    {
     "name": "stderr",
     "output_type": "stream",
     "text": [
      "Processing: 100%|█████████████████████████████████████████████████████████████████████████████████████████████████████████████| 45/45 [00:26<00:00,  1.70item/s]\n"
     ]
    },
    {
     "name": "stdout",
     "output_type": "stream",
     "text": [
      "-----Retrieving Simulation (period) CHELSA data for variable 'bio1'-----\n"
     ]
    },
    {
     "name": "stderr",
     "output_type": "stream",
     "text": [
      "Processing: 100%|█████████████████████████████████████████████████████████████████████████████████████████████████████████████| 45/45 [00:26<00:00,  1.67item/s]\n"
     ]
    },
    {
     "name": "stdout",
     "output_type": "stream",
     "text": [
      "-----Retrieving Simulation (period) CHELSA data for variable 'bio2'-----\n"
     ]
    },
    {
     "name": "stderr",
     "output_type": "stream",
     "text": [
      "Processing: 100%|█████████████████████████████████████████████████████████████████████████████████████████████████████████████| 45/45 [00:25<00:00,  1.79item/s]\n"
     ]
    },
    {
     "name": "stdout",
     "output_type": "stream",
     "text": [
      "-----Retrieving Simulation (period) CHELSA data for variable 'bio3'-----\n"
     ]
    },
    {
     "name": "stderr",
     "output_type": "stream",
     "text": [
      "Processing: 100%|█████████████████████████████████████████████████████████████████████████████████████████████████████████████| 45/45 [00:30<00:00,  1.46item/s]\n"
     ]
    },
    {
     "name": "stdout",
     "output_type": "stream",
     "text": [
      "-----Retrieving Simulation (period) CHELSA data for variable 'bio4'-----\n"
     ]
    },
    {
     "name": "stderr",
     "output_type": "stream",
     "text": [
      "Processing: 100%|█████████████████████████████████████████████████████████████████████████████████████████████████████████████| 45/45 [00:27<00:00,  1.62item/s]\n"
     ]
    },
    {
     "name": "stdout",
     "output_type": "stream",
     "text": [
      "-----Retrieving Simulation (period) CHELSA data for variable 'bio5'-----\n"
     ]
    },
    {
     "name": "stderr",
     "output_type": "stream",
     "text": [
      "Processing: 100%|█████████████████████████████████████████████████████████████████████████████████████████████████████████████| 45/45 [00:26<00:00,  1.70item/s]\n"
     ]
    },
    {
     "name": "stdout",
     "output_type": "stream",
     "text": [
      "-----Retrieving Simulation (period) CHELSA data for variable 'bio6'-----\n"
     ]
    },
    {
     "name": "stderr",
     "output_type": "stream",
     "text": [
      "Processing: 100%|█████████████████████████████████████████████████████████████████████████████████████████████████████████████| 45/45 [00:24<00:00,  1.84item/s]\n"
     ]
    },
    {
     "name": "stdout",
     "output_type": "stream",
     "text": [
      "-----Retrieving Simulation (period) CHELSA data for variable 'bio7'-----\n"
     ]
    },
    {
     "name": "stderr",
     "output_type": "stream",
     "text": [
      "Processing: 100%|█████████████████████████████████████████████████████████████████████████████████████████████████████████████| 45/45 [00:24<00:00,  1.85item/s]\n"
     ]
    },
    {
     "name": "stdout",
     "output_type": "stream",
     "text": [
      "-----Retrieving Simulation (period) CHELSA data for variable 'bio8'-----\n"
     ]
    },
    {
     "name": "stderr",
     "output_type": "stream",
     "text": [
      "Processing: 100%|█████████████████████████████████████████████████████████████████████████████████████████████████████████████| 45/45 [00:25<00:00,  1.76item/s]\n"
     ]
    },
    {
     "name": "stdout",
     "output_type": "stream",
     "text": [
      "-----Retrieving Simulation (period) CHELSA data for variable 'bio9'-----\n"
     ]
    },
    {
     "name": "stderr",
     "output_type": "stream",
     "text": [
      "Processing: 100%|█████████████████████████████████████████████████████████████████████████████████████████████████████████████| 45/45 [00:25<00:00,  1.78item/s]\n"
     ]
    },
    {
     "name": "stdout",
     "output_type": "stream",
     "text": [
      "-----Retrieving Simulation (period) CHELSA data for variable 'fcf'-----\n"
     ]
    },
    {
     "name": "stderr",
     "output_type": "stream",
     "text": [
      "Processing: 100%|█████████████████████████████████████████████████████████████████████████████████████████████████████████████| 45/45 [00:26<00:00,  1.71item/s]\n"
     ]
    },
    {
     "name": "stdout",
     "output_type": "stream",
     "text": [
      "-----Retrieving Simulation (period) CHELSA data for variable 'fgd'-----\n"
     ]
    },
    {
     "name": "stderr",
     "output_type": "stream",
     "text": [
      "Processing: 100%|█████████████████████████████████████████████████████████████████████████████████████████████████████████████| 45/45 [00:25<00:00,  1.74item/s]\n"
     ]
    },
    {
     "name": "stdout",
     "output_type": "stream",
     "text": [
      "-----Retrieving Simulation (period) CHELSA data for variable 'gdd0'-----\n"
     ]
    },
    {
     "name": "stderr",
     "output_type": "stream",
     "text": [
      "Processing: 100%|█████████████████████████████████████████████████████████████████████████████████████████████████████████████| 45/45 [00:28<00:00,  1.55item/s]\n"
     ]
    },
    {
     "name": "stdout",
     "output_type": "stream",
     "text": [
      "-----Retrieving Simulation (period) CHELSA data for variable 'gdd10'-----\n"
     ]
    },
    {
     "name": "stderr",
     "output_type": "stream",
     "text": [
      "Processing: 100%|█████████████████████████████████████████████████████████████████████████████████████████████████████████████| 45/45 [00:26<00:00,  1.68item/s]\n"
     ]
    },
    {
     "name": "stdout",
     "output_type": "stream",
     "text": [
      "-----Retrieving Simulation (period) CHELSA data for variable 'gdd5'-----\n"
     ]
    },
    {
     "name": "stderr",
     "output_type": "stream",
     "text": [
      "Processing: 100%|█████████████████████████████████████████████████████████████████████████████████████████████████████████████| 45/45 [00:27<00:00,  1.66item/s]\n"
     ]
    },
    {
     "name": "stdout",
     "output_type": "stream",
     "text": [
      "-----Retrieving Simulation (period) CHELSA data for variable 'gddlgd0'-----\n"
     ]
    },
    {
     "name": "stderr",
     "output_type": "stream",
     "text": [
      "Processing: 100%|█████████████████████████████████████████████████████████████████████████████████████████████████████████████| 45/45 [00:25<00:00,  1.77item/s]\n"
     ]
    },
    {
     "name": "stdout",
     "output_type": "stream",
     "text": [
      "-----Retrieving Simulation (period) CHELSA data for variable 'gddlgd10'-----\n"
     ]
    },
    {
     "name": "stderr",
     "output_type": "stream",
     "text": [
      "Processing: 100%|█████████████████████████████████████████████████████████████████████████████████████████████████████████████| 45/45 [00:24<00:00,  1.83item/s]\n"
     ]
    },
    {
     "name": "stdout",
     "output_type": "stream",
     "text": [
      "-----Retrieving Simulation (period) CHELSA data for variable 'gddlgd5'-----\n"
     ]
    },
    {
     "name": "stderr",
     "output_type": "stream",
     "text": [
      "Processing: 100%|█████████████████████████████████████████████████████████████████████████████████████████████████████████████| 45/45 [00:23<00:00,  1.88item/s]\n"
     ]
    },
    {
     "name": "stdout",
     "output_type": "stream",
     "text": [
      "-----Retrieving Simulation (period) CHELSA data for variable 'gdgfgd0'-----\n"
     ]
    },
    {
     "name": "stderr",
     "output_type": "stream",
     "text": [
      "Processing: 100%|█████████████████████████████████████████████████████████████████████████████████████████████████████████████| 45/45 [00:24<00:00,  1.84item/s]\n"
     ]
    },
    {
     "name": "stdout",
     "output_type": "stream",
     "text": [
      "-----Retrieving Simulation (period) CHELSA data for variable 'gdgfgd10'-----\n"
     ]
    },
    {
     "name": "stderr",
     "output_type": "stream",
     "text": [
      "Processing: 100%|█████████████████████████████████████████████████████████████████████████████████████████████████████████████| 45/45 [00:25<00:00,  1.77item/s]\n"
     ]
    },
    {
     "name": "stdout",
     "output_type": "stream",
     "text": [
      "-----Retrieving Simulation (period) CHELSA data for variable 'gdgfgd5'-----\n"
     ]
    },
    {
     "name": "stderr",
     "output_type": "stream",
     "text": [
      "Processing: 100%|█████████████████████████████████████████████████████████████████████████████████████████████████████████████| 45/45 [00:23<00:00,  1.89item/s]\n"
     ]
    },
    {
     "name": "stdout",
     "output_type": "stream",
     "text": [
      "-----Retrieving Simulation (period) CHELSA data for variable 'gsl'-----\n"
     ]
    },
    {
     "name": "stderr",
     "output_type": "stream",
     "text": [
      "Processing: 100%|█████████████████████████████████████████████████████████████████████████████████████████████████████████████| 45/45 [00:25<00:00,  1.74item/s]\n"
     ]
    },
    {
     "name": "stdout",
     "output_type": "stream",
     "text": [
      "-----Retrieving Simulation (period) CHELSA data for variable 'gsp'-----\n"
     ]
    },
    {
     "name": "stderr",
     "output_type": "stream",
     "text": [
      "Processing: 100%|█████████████████████████████████████████████████████████████████████████████████████████████████████████████| 45/45 [00:28<00:00,  1.58item/s]\n"
     ]
    },
    {
     "name": "stdout",
     "output_type": "stream",
     "text": [
      "-----Retrieving Simulation (period) CHELSA data for variable 'gst'-----\n"
     ]
    },
    {
     "name": "stderr",
     "output_type": "stream",
     "text": [
      "Processing: 100%|█████████████████████████████████████████████████████████████████████████████████████████████████████████████| 45/45 [00:24<00:00,  1.81item/s]\n"
     ]
    },
    {
     "name": "stdout",
     "output_type": "stream",
     "text": [
      "-----Retrieving Simulation (period) CHELSA data for variable 'kg0'-----\n"
     ]
    },
    {
     "name": "stderr",
     "output_type": "stream",
     "text": [
      "Processing: 100%|█████████████████████████████████████████████████████████████████████████████████████████████████████████████| 45/45 [00:23<00:00,  1.93item/s]\n"
     ]
    },
    {
     "name": "stdout",
     "output_type": "stream",
     "text": [
      "-----Retrieving Simulation (period) CHELSA data for variable 'kg1'-----\n"
     ]
    },
    {
     "name": "stderr",
     "output_type": "stream",
     "text": [
      "Processing: 100%|█████████████████████████████████████████████████████████████████████████████████████████████████████████████| 45/45 [00:24<00:00,  1.82item/s]\n"
     ]
    },
    {
     "name": "stdout",
     "output_type": "stream",
     "text": [
      "-----Retrieving Simulation (period) CHELSA data for variable 'kg2'-----\n"
     ]
    },
    {
     "name": "stderr",
     "output_type": "stream",
     "text": [
      "Processing: 100%|█████████████████████████████████████████████████████████████████████████████████████████████████████████████| 45/45 [00:24<00:00,  1.86item/s]\n"
     ]
    },
    {
     "name": "stdout",
     "output_type": "stream",
     "text": [
      "-----Retrieving Simulation (period) CHELSA data for variable 'kg3'-----\n"
     ]
    },
    {
     "name": "stderr",
     "output_type": "stream",
     "text": [
      "Processing: 100%|█████████████████████████████████████████████████████████████████████████████████████████████████████████████| 45/45 [00:23<00:00,  1.91item/s]\n"
     ]
    },
    {
     "name": "stdout",
     "output_type": "stream",
     "text": [
      "-----Retrieving Simulation (period) CHELSA data for variable 'kg4'-----\n"
     ]
    },
    {
     "name": "stderr",
     "output_type": "stream",
     "text": [
      "Processing: 100%|█████████████████████████████████████████████████████████████████████████████████████████████████████████████| 45/45 [00:28<00:00,  1.59item/s]\n"
     ]
    },
    {
     "name": "stdout",
     "output_type": "stream",
     "text": [
      "-----Retrieving Simulation (period) CHELSA data for variable 'kg5'-----\n"
     ]
    },
    {
     "name": "stderr",
     "output_type": "stream",
     "text": [
      "Processing: 100%|█████████████████████████████████████████████████████████████████████████████████████████████████████████████| 45/45 [00:26<00:00,  1.69item/s]\n"
     ]
    },
    {
     "name": "stdout",
     "output_type": "stream",
     "text": [
      "-----Retrieving Simulation (period) CHELSA data for variable 'lgd'-----\n"
     ]
    },
    {
     "name": "stderr",
     "output_type": "stream",
     "text": [
      "Processing: 100%|█████████████████████████████████████████████████████████████████████████████████████████████████████████████| 45/45 [00:31<00:00,  1.42item/s]\n"
     ]
    },
    {
     "name": "stdout",
     "output_type": "stream",
     "text": [
      "-----Retrieving Simulation (period) CHELSA data for variable 'ngd0'-----\n"
     ]
    },
    {
     "name": "stderr",
     "output_type": "stream",
     "text": [
      "Processing: 100%|█████████████████████████████████████████████████████████████████████████████████████████████████████████████| 45/45 [00:26<00:00,  1.70item/s]\n"
     ]
    },
    {
     "name": "stdout",
     "output_type": "stream",
     "text": [
      "-----Retrieving Simulation (period) CHELSA data for variable 'ngd10'-----\n"
     ]
    },
    {
     "name": "stderr",
     "output_type": "stream",
     "text": [
      "Processing: 100%|█████████████████████████████████████████████████████████████████████████████████████████████████████████████| 45/45 [00:26<00:00,  1.68item/s]\n"
     ]
    },
    {
     "name": "stdout",
     "output_type": "stream",
     "text": [
      "-----Retrieving Simulation (period) CHELSA data for variable 'ngd5'-----\n"
     ]
    },
    {
     "name": "stderr",
     "output_type": "stream",
     "text": [
      "Processing: 100%|█████████████████████████████████████████████████████████████████████████████████████████████████████████████| 45/45 [00:26<00:00,  1.71item/s]\n"
     ]
    },
    {
     "name": "stdout",
     "output_type": "stream",
     "text": [
      "-----Retrieving Simulation (period) CHELSA data for variable 'npp'-----\n"
     ]
    },
    {
     "name": "stderr",
     "output_type": "stream",
     "text": [
      "Processing: 100%|█████████████████████████████████████████████████████████████████████████████████████████████████████████████| 45/45 [00:28<00:00,  1.57item/s]\n"
     ]
    },
    {
     "name": "stdout",
     "output_type": "stream",
     "text": [
      "-----Retrieving Simulation (period) CHELSA data for variable 'scd'-----\n"
     ]
    },
    {
     "name": "stderr",
     "output_type": "stream",
     "text": [
      "Processing: 100%|█████████████████████████████████████████████████████████████████████████████████████████████████████████████| 45/45 [00:25<00:00,  1.75item/s]\n"
     ]
    },
    {
     "name": "stdout",
     "output_type": "stream",
     "text": [
      "-----Retrieving Simulation (period) CHELSA data for variable 'swe'-----\n"
     ]
    },
    {
     "name": "stderr",
     "output_type": "stream",
     "text": [
      "Processing: 100%|█████████████████████████████████████████████████████████████████████████████████████████████████████████████| 45/45 [00:26<00:00,  1.69item/s]\n"
     ]
    }
   ],
   "source": [
    "sp_vars = [] \n",
    "sp_das = []\n",
    "\n",
    "for var in chelsa_sim_period_param[\"var\"]:\n",
    "    var, da = layer.chelsa_clim_sim_period(var, \n",
    "                                           chelsa_sim_period_param[\"bbox\"], \n",
    "                                           chelsa_sim_period_param[\"year_ranges\"], \n",
    "                                           chelsa_sim_period_param[\"model_names\"], \n",
    "                                           chelsa_sim_period_param[\"scenarios\"])\n",
    "    sp_vars.append(var)\n",
    "    sp_das.append(da)"
   ]
  },
  {
   "cell_type": "code",
   "execution_count": 18,
   "id": "14cbdcf9-361e-4f84-b72c-6fc673832b2c",
   "metadata": {},
   "outputs": [
    {
     "name": "stdout",
     "output_type": "stream",
     "text": [
      "-----Retrieving Simulation (monthly) CHELSA data for variable 'pr'-----\n"
     ]
    },
    {
     "name": "stderr",
     "output_type": "stream",
     "text": [
      "Processing: 100%|███████████████████████████████████████████████████████████████████████████████████████████████████████████| 540/540 [48:16<00:00,  5.36s/item]\n"
     ]
    },
    {
     "name": "stdout",
     "output_type": "stream",
     "text": [
      "-----Retrieving Simulation (monthly) CHELSA data for variable 'tas'-----\n"
     ]
    },
    {
     "name": "stderr",
     "output_type": "stream",
     "text": [
      "Processing: 100%|███████████████████████████████████████████████████████████████████████████████████████████████████████████| 540/540 [16:30<00:00,  1.84s/item]\n"
     ]
    },
    {
     "name": "stdout",
     "output_type": "stream",
     "text": [
      "-----Retrieving Simulation (monthly) CHELSA data for variable 'tasmax'-----\n"
     ]
    },
    {
     "name": "stderr",
     "output_type": "stream",
     "text": [
      "Processing: 100%|█████████████████████████████████████████████████████████████████████████████████████████████████████████| 540/540 [1:22:21<00:00,  9.15s/item]\n"
     ]
    },
    {
     "name": "stdout",
     "output_type": "stream",
     "text": [
      "-----Retrieving Simulation (monthly) CHELSA data for variable 'tasmin'-----\n"
     ]
    },
    {
     "name": "stderr",
     "output_type": "stream",
     "text": [
      "Processing: 100%|███████████████████████████████████████████████████████████████████████████████████████████████████████████| 540/540 [26:38<00:00,  2.96s/item]\n"
     ]
    }
   ],
   "source": [
    "sm_vars = [] \n",
    "sm_das = []\n",
    "\n",
    "for var in chelsa_sim_month_param[\"var\"]:\n",
    "    var, da = layer.chelsa_clim_sim_month(var, \n",
    "                                          chelsa_sim_month_param[\"bbox\"], \n",
    "                                          chelsa_sim_month_param[\"year_ranges\"],\n",
    "                                          chelsa_sim_month_param[\"months\"],\n",
    "                                          chelsa_sim_month_param[\"model_names\"], \n",
    "                                          chelsa_sim_month_param[\"scenarios\"])\n",
    "    sm_vars.append(var)\n",
    "    sm_das.append(da)"
   ]
  },
  {
   "cell_type": "markdown",
   "id": "b9bdb5cc-8ab2-443e-bf5f-3aea941c731c",
   "metadata": {},
   "source": [
    "# CHELSA cube"
   ]
  },
  {
   "cell_type": "code",
   "execution_count": 19,
   "id": "ba8cc475-78c7-439f-83f3-6dac407ef239",
   "metadata": {},
   "outputs": [],
   "source": [
    "from cube import chelsa"
   ]
  },
  {
   "cell_type": "code",
   "execution_count": 20,
   "id": "f22b0abd-189a-4fe1-b3ab-3f02d1bc83a2",
   "metadata": {},
   "outputs": [],
   "source": [
    "cube = chelsa.chelsa_cube()"
   ]
  },
  {
   "cell_type": "code",
   "execution_count": 21,
   "id": "36a13756-7612-4ce0-8ce3-ea7b45cdb04a",
   "metadata": {},
   "outputs": [
    {
     "name": "stdout",
     "output_type": "stream",
     "text": [
      "-----Retrieving monthly CHELSA data for variable 'clt'-----\n"
     ]
    },
    {
     "name": "stderr",
     "output_type": "stream",
     "text": [
      "Processing: 100%|███████████████████████████████████████████████████████████████████████████████████████████████████████████| 479/479 [01:48<00:00,  4.42item/s]\n"
     ]
    },
    {
     "name": "stdout",
     "output_type": "stream",
     "text": [
      "-----Retrieving monthly CHELSA data for variable 'cmi'-----\n"
     ]
    },
    {
     "name": "stderr",
     "output_type": "stream",
     "text": [
      "Processing: 100%|███████████████████████████████████████████████████████████████████████████████████████████████████████████| 479/479 [02:06<00:00,  3.79item/s]\n"
     ]
    },
    {
     "name": "stdout",
     "output_type": "stream",
     "text": [
      "-----Retrieving monthly CHELSA data for variable 'hurs'-----\n"
     ]
    },
    {
     "name": "stderr",
     "output_type": "stream",
     "text": [
      "Processing: 100%|███████████████████████████████████████████████████████████████████████████████████████████████████████████| 479/479 [02:02<00:00,  3.91item/s]\n"
     ]
    },
    {
     "name": "stdout",
     "output_type": "stream",
     "text": [
      "-----Retrieving monthly CHELSA data for variable 'pet'-----\n"
     ]
    },
    {
     "name": "stderr",
     "output_type": "stream",
     "text": [
      "Processing: 100%|███████████████████████████████████████████████████████████████████████████████████████████████████████████| 479/479 [02:08<00:00,  3.71item/s]\n"
     ]
    },
    {
     "name": "stdout",
     "output_type": "stream",
     "text": [
      "-----Retrieving monthly CHELSA data for variable 'pr'-----\n"
     ]
    },
    {
     "name": "stderr",
     "output_type": "stream",
     "text": [
      "Processing: 100%|███████████████████████████████████████████████████████████████████████████████████████████████████████████| 479/479 [02:13<00:00,  3.60item/s]\n"
     ]
    },
    {
     "name": "stdout",
     "output_type": "stream",
     "text": [
      "-----Retrieving monthly CHELSA data for variable 'rsds'-----\n"
     ]
    },
    {
     "name": "stderr",
     "output_type": "stream",
     "text": [
      "Processing: 100%|███████████████████████████████████████████████████████████████████████████████████████████████████████████| 479/479 [02:01<00:00,  3.94item/s]\n"
     ]
    },
    {
     "name": "stdout",
     "output_type": "stream",
     "text": [
      "-----Retrieving monthly CHELSA data for variable 'sfcWind'-----\n"
     ]
    },
    {
     "name": "stderr",
     "output_type": "stream",
     "text": [
      "Processing: 100%|███████████████████████████████████████████████████████████████████████████████████████████████████████████| 479/479 [02:02<00:00,  3.89item/s]\n"
     ]
    },
    {
     "name": "stdout",
     "output_type": "stream",
     "text": [
      "-----Retrieving monthly CHELSA data for variable 'tas'-----\n"
     ]
    },
    {
     "name": "stderr",
     "output_type": "stream",
     "text": [
      "Processing: 100%|███████████████████████████████████████████████████████████████████████████████████████████████████████████| 479/479 [01:54<00:00,  4.18item/s]\n"
     ]
    },
    {
     "name": "stdout",
     "output_type": "stream",
     "text": [
      "-----Retrieving monthly CHELSA data for variable 'tasmax'-----\n"
     ]
    },
    {
     "name": "stderr",
     "output_type": "stream",
     "text": [
      "Processing: 100%|███████████████████████████████████████████████████████████████████████████████████████████████████████████| 479/479 [01:57<00:00,  4.09item/s]\n"
     ]
    },
    {
     "name": "stdout",
     "output_type": "stream",
     "text": [
      "-----Retrieving monthly CHELSA data for variable 'tasmin'-----\n"
     ]
    },
    {
     "name": "stderr",
     "output_type": "stream",
     "text": [
      "Processing: 100%|███████████████████████████████████████████████████████████████████████████████████████████████████████████| 479/479 [01:56<00:00,  4.10item/s]\n"
     ]
    },
    {
     "name": "stdout",
     "output_type": "stream",
     "text": [
      "-----Retrieving monthly CHELSA data for variable 'vpd'-----\n"
     ]
    },
    {
     "name": "stderr",
     "output_type": "stream",
     "text": [
      "Processing: 100%|███████████████████████████████████████████████████████████████████████████████████████████████████████████| 479/479 [02:05<00:00,  3.80item/s]\n"
     ]
    },
    {
     "name": "stdout",
     "output_type": "stream",
     "text": [
      "-----Retrieving Reference Climatology CHELSA data for variable 'ai' in reference period 1981-2010-----\n",
      "Complete\n",
      "-----Retrieving Reference Climatology CHELSA data for variable 'bio10' in reference period 1981-2010-----\n",
      "Complete\n",
      "-----Retrieving Reference Climatology CHELSA data for variable 'bio11' in reference period 1981-2010-----\n",
      "Complete\n",
      "-----Retrieving Reference Climatology CHELSA data for variable 'bio12' in reference period 1981-2010-----\n",
      "Complete\n",
      "-----Retrieving Reference Climatology CHELSA data for variable 'bio13' in reference period 1981-2010-----\n",
      "Complete\n",
      "-----Retrieving Reference Climatology CHELSA data for variable 'bio14' in reference period 1981-2010-----\n",
      "Complete\n",
      "-----Retrieving Reference Climatology CHELSA data for variable 'bio15' in reference period 1981-2010-----\n",
      "Complete\n",
      "-----Retrieving Reference Climatology CHELSA data for variable 'bio16' in reference period 1981-2010-----\n",
      "Complete\n",
      "-----Retrieving Reference Climatology CHELSA data for variable 'bio17' in reference period 1981-2010-----\n",
      "Complete\n",
      "-----Retrieving Reference Climatology CHELSA data for variable 'bio18' in reference period 1981-2010-----\n",
      "Complete\n",
      "-----Retrieving Reference Climatology CHELSA data for variable 'bio19' in reference period 1981-2010-----\n",
      "Complete\n",
      "-----Retrieving Reference Climatology CHELSA data for variable 'bio1' in reference period 1981-2010-----\n",
      "Complete\n",
      "-----Retrieving Reference Climatology CHELSA data for variable 'bio2' in reference period 1981-2010-----\n",
      "Complete\n",
      "-----Retrieving Reference Climatology CHELSA data for variable 'bio3' in reference period 1981-2010-----\n",
      "Complete\n",
      "-----Retrieving Reference Climatology CHELSA data for variable 'bio4' in reference period 1981-2010-----\n",
      "Complete\n",
      "-----Retrieving Reference Climatology CHELSA data for variable 'bio5' in reference period 1981-2010-----\n",
      "Complete\n",
      "-----Retrieving Reference Climatology CHELSA data for variable 'bio6' in reference period 1981-2010-----\n",
      "Complete\n",
      "-----Retrieving Reference Climatology CHELSA data for variable 'bio7' in reference period 1981-2010-----\n",
      "Complete\n",
      "-----Retrieving Reference Climatology CHELSA data for variable 'bio8' in reference period 1981-2010-----\n",
      "Complete\n",
      "-----Retrieving Reference Climatology CHELSA data for variable 'bio9' in reference period 1981-2010-----\n",
      "Complete\n",
      "-----Retrieving Reference Climatology CHELSA data for variable 'clt_max' in reference period 1981-2010-----\n",
      "Complete\n",
      "-----Retrieving Reference Climatology CHELSA data for variable 'clt_mean' in reference period 1981-2010-----\n",
      "Complete\n",
      "-----Retrieving Reference Climatology CHELSA data for variable 'clt_min' in reference period 1981-2010-----\n",
      "Complete\n",
      "-----Retrieving Reference Climatology CHELSA data for variable 'clt_range' in reference period 1981-2010-----\n",
      "Complete\n",
      "-----Retrieving Reference Climatology CHELSA data for variable 'cmi_max' in reference period 1981-2010-----\n",
      "Complete\n",
      "-----Retrieving Reference Climatology CHELSA data for variable 'cmi_mean' in reference period 1981-2010-----\n",
      "Complete\n",
      "-----Retrieving Reference Climatology CHELSA data for variable 'cmi_min' in reference period 1981-2010-----\n",
      "Complete\n",
      "-----Retrieving Reference Climatology CHELSA data for variable 'cmi_range' in reference period 1981-2010-----\n",
      "Complete\n",
      "-----Retrieving Reference Climatology CHELSA data for variable 'fcf' in reference period 1981-2010-----\n",
      "Complete\n",
      "-----Retrieving Reference Climatology CHELSA data for variable 'fgd' in reference period 1981-2010-----\n",
      "Complete\n",
      "-----Retrieving Reference Climatology CHELSA data for variable 'gdd0' in reference period 1981-2010-----\n",
      "Complete\n",
      "-----Retrieving Reference Climatology CHELSA data for variable 'gdd10' in reference period 1981-2010-----\n",
      "Complete\n",
      "-----Retrieving Reference Climatology CHELSA data for variable 'gdd5' in reference period 1981-2010-----\n",
      "Complete\n",
      "-----Retrieving Reference Climatology CHELSA data for variable 'gddlgd0' in reference period 1981-2010-----\n",
      "Complete\n",
      "-----Retrieving Reference Climatology CHELSA data for variable 'gddlgd10' in reference period 1981-2010-----\n",
      "Complete\n",
      "-----Retrieving Reference Climatology CHELSA data for variable 'gddlgd5' in reference period 1981-2010-----\n",
      "Complete\n",
      "-----Retrieving Reference Climatology CHELSA data for variable 'gdgfgd0' in reference period 1981-2010-----\n",
      "Complete\n",
      "-----Retrieving Reference Climatology CHELSA data for variable 'gdgfgd10' in reference period 1981-2010-----\n",
      "Complete\n",
      "-----Retrieving Reference Climatology CHELSA data for variable 'gdgfgd5' in reference period 1981-2010-----\n",
      "Complete\n",
      "-----Retrieving Reference Climatology CHELSA data for variable 'gsl' in reference period 1981-2010-----\n",
      "Complete\n",
      "-----Retrieving Reference Climatology CHELSA data for variable 'gsp' in reference period 1981-2010-----\n",
      "Complete\n",
      "-----Retrieving Reference Climatology CHELSA data for variable 'gst' in reference period 1981-2010-----\n",
      "Complete\n",
      "-----Retrieving Reference Climatology CHELSA data for variable 'hurs_max' in reference period 1981-2010-----\n",
      "Complete\n",
      "-----Retrieving Reference Climatology CHELSA data for variable 'hurs_mean' in reference period 1981-2010-----\n",
      "Complete\n",
      "-----Retrieving Reference Climatology CHELSA data for variable 'hurs_min' in reference period 1981-2010-----\n",
      "Complete\n",
      "-----Retrieving Reference Climatology CHELSA data for variable 'hurs_range' in reference period 1981-2010-----\n",
      "Complete\n",
      "-----Retrieving Reference Climatology CHELSA data for variable 'kg0' in reference period 1981-2010-----\n",
      "Complete\n",
      "-----Retrieving Reference Climatology CHELSA data for variable 'kg1' in reference period 1981-2010-----\n",
      "Complete\n",
      "-----Retrieving Reference Climatology CHELSA data for variable 'kg2' in reference period 1981-2010-----\n",
      "Complete\n",
      "-----Retrieving Reference Climatology CHELSA data for variable 'kg3' in reference period 1981-2010-----\n",
      "Complete\n",
      "-----Retrieving Reference Climatology CHELSA data for variable 'kg4' in reference period 1981-2010-----\n",
      "Complete\n",
      "-----Retrieving Reference Climatology CHELSA data for variable 'kg5' in reference period 1981-2010-----\n",
      "Complete\n",
      "-----Retrieving Reference Climatology CHELSA data for variable 'lgd' in reference period 1981-2010-----\n",
      "Complete\n",
      "-----Retrieving Reference Climatology CHELSA data for variable 'ngd0' in reference period 1981-2010-----\n",
      "Complete\n",
      "-----Retrieving Reference Climatology CHELSA data for variable 'ngd10' in reference period 1981-2010-----\n",
      "Complete\n",
      "-----Retrieving Reference Climatology CHELSA data for variable 'ngd5' in reference period 1981-2010-----\n",
      "Complete\n",
      "-----Retrieving Reference Climatology CHELSA data for variable 'npp' in reference period 1981-2010-----\n",
      "Complete\n",
      "-----Retrieving Reference Climatology CHELSA data for variable 'pet_penman_max' in reference period 1981-2010-----\n",
      "Complete\n",
      "-----Retrieving Reference Climatology CHELSA data for variable 'pet_penman_mean' in reference period 1981-2010-----\n",
      "Complete\n",
      "-----Retrieving Reference Climatology CHELSA data for variable 'pet_penman_min' in reference period 1981-2010-----\n",
      "Complete\n",
      "-----Retrieving Reference Climatology CHELSA data for variable 'pet_penman_range' in reference period 1981-2010-----\n",
      "Complete\n",
      "-----Retrieving Reference Climatology CHELSA data for variable 'rsds_max' in reference period 1981-2010-----\n",
      "Complete\n",
      "-----Retrieving Reference Climatology CHELSA data for variable 'rsds_min' in reference period 1981-2010-----\n",
      "Complete\n",
      "-----Retrieving Reference Climatology CHELSA data for variable 'rsds_mean' in reference period 1981-2010-----\n",
      "Complete\n",
      "-----Retrieving Reference Climatology CHELSA data for variable 'rsds_range' in reference period 1981-2010-----\n",
      "Complete\n",
      "-----Retrieving Reference Climatology CHELSA data for variable 'scd' in reference period 1981-2010-----\n",
      "Complete\n",
      "-----Retrieving Reference Climatology CHELSA data for variable 'sfcWind_max' in reference period 1981-2010-----\n",
      "Complete\n",
      "-----Retrieving Reference Climatology CHELSA data for variable 'sfcWind_mean' in reference period 1981-2010-----\n",
      "Complete\n",
      "-----Retrieving Reference Climatology CHELSA data for variable 'sfcWind_min' in reference period 1981-2010-----\n",
      "Complete\n",
      "-----Retrieving Reference Climatology CHELSA data for variable 'sfcWind_range' in reference period 1981-2010-----\n",
      "Complete\n",
      "-----Retrieving Reference Climatology CHELSA data for variable 'swb' in reference period 1981-2010-----\n",
      "Complete\n",
      "-----Retrieving Reference Climatology CHELSA data for variable 'swe' in reference period 1981-2010-----\n",
      "Complete\n",
      "-----Retrieving Reference Climatology CHELSA data for variable 'vpd_max' in reference period 1981-2010-----\n",
      "Complete\n",
      "-----Retrieving Reference Climatology CHELSA data for variable 'vpd_mean' in reference period 1981-2010-----\n",
      "Complete\n",
      "-----Retrieving Reference Climatology CHELSA data for variable 'vpd_min' in reference period 1981-2010-----\n",
      "Complete\n",
      "-----Retrieving Reference Climatology CHELSA data for variable 'vpd_range' in reference period 1981-2010-----\n",
      "Complete\n",
      "-----Retrieving monthly Reference Climatology CHELSA data for variable 'clt' in reference period 1981-2010-----\n"
     ]
    },
    {
     "name": "stderr",
     "output_type": "stream",
     "text": [
      "Processing: 100%|█████████████████████████████████████████████████████████████████████████████████████████████████████████████| 12/12 [00:02<00:00,  4.42item/s]\n"
     ]
    },
    {
     "name": "stdout",
     "output_type": "stream",
     "text": [
      "-----Retrieving monthly Reference Climatology CHELSA data for variable 'cmi' in reference period 1981-2010-----\n"
     ]
    },
    {
     "name": "stderr",
     "output_type": "stream",
     "text": [
      "Processing: 100%|█████████████████████████████████████████████████████████████████████████████████████████████████████████████| 12/12 [00:04<00:00,  2.60item/s]\n"
     ]
    },
    {
     "name": "stdout",
     "output_type": "stream",
     "text": [
      "-----Retrieving monthly Reference Climatology CHELSA data for variable 'hurs' in reference period 1981-2010-----\n"
     ]
    },
    {
     "name": "stderr",
     "output_type": "stream",
     "text": [
      "Processing: 100%|█████████████████████████████████████████████████████████████████████████████████████████████████████████████| 12/12 [00:02<00:00,  4.00item/s]\n"
     ]
    },
    {
     "name": "stdout",
     "output_type": "stream",
     "text": [
      "-----Retrieving monthly Reference Climatology CHELSA data for variable 'pet' in reference period 1981-2010-----\n"
     ]
    },
    {
     "name": "stderr",
     "output_type": "stream",
     "text": [
      "Processing: 100%|█████████████████████████████████████████████████████████████████████████████████████████████████████████████| 12/12 [00:02<00:00,  4.11item/s]\n"
     ]
    },
    {
     "name": "stdout",
     "output_type": "stream",
     "text": [
      "-----Retrieving monthly Reference Climatology CHELSA data for variable 'pr' in reference period 1981-2010-----\n"
     ]
    },
    {
     "name": "stderr",
     "output_type": "stream",
     "text": [
      "Processing: 100%|█████████████████████████████████████████████████████████████████████████████████████████████████████████████| 12/12 [00:04<00:00,  2.50item/s]\n"
     ]
    },
    {
     "name": "stdout",
     "output_type": "stream",
     "text": [
      "-----Retrieving monthly Reference Climatology CHELSA data for variable 'rsds' in reference period 1981-2010-----\n"
     ]
    },
    {
     "name": "stderr",
     "output_type": "stream",
     "text": [
      "Processing: 100%|█████████████████████████████████████████████████████████████████████████████████████████████████████████████| 12/12 [00:03<00:00,  3.74item/s]\n"
     ]
    },
    {
     "name": "stdout",
     "output_type": "stream",
     "text": [
      "-----Retrieving monthly Reference Climatology CHELSA data for variable 'sfcWind' in reference period 1981-2010-----\n"
     ]
    },
    {
     "name": "stderr",
     "output_type": "stream",
     "text": [
      "Processing: 100%|█████████████████████████████████████████████████████████████████████████████████████████████████████████████| 12/12 [00:03<00:00,  3.66item/s]\n"
     ]
    },
    {
     "name": "stdout",
     "output_type": "stream",
     "text": [
      "-----Retrieving monthly Reference Climatology CHELSA data for variable 'tas' in reference period 1981-2010-----\n"
     ]
    },
    {
     "name": "stderr",
     "output_type": "stream",
     "text": [
      "Processing: 100%|█████████████████████████████████████████████████████████████████████████████████████████████████████████████| 12/12 [00:05<00:00,  2.24item/s]\n"
     ]
    },
    {
     "name": "stdout",
     "output_type": "stream",
     "text": [
      "-----Retrieving monthly Reference Climatology CHELSA data for variable 'tasmax' in reference period 1981-2010-----\n"
     ]
    },
    {
     "name": "stderr",
     "output_type": "stream",
     "text": [
      "Processing: 100%|█████████████████████████████████████████████████████████████████████████████████████████████████████████████| 12/12 [00:03<00:00,  3.57item/s]\n"
     ]
    },
    {
     "name": "stdout",
     "output_type": "stream",
     "text": [
      "-----Retrieving monthly Reference Climatology CHELSA data for variable 'tasmin' in reference period 1981-2010-----\n"
     ]
    },
    {
     "name": "stderr",
     "output_type": "stream",
     "text": [
      "Processing: 100%|█████████████████████████████████████████████████████████████████████████████████████████████████████████████| 12/12 [00:06<00:00,  1.98item/s]\n"
     ]
    },
    {
     "name": "stdout",
     "output_type": "stream",
     "text": [
      "-----Retrieving monthly Reference Climatology CHELSA data for variable 'vpd' in reference period 1981-2010-----\n"
     ]
    },
    {
     "name": "stderr",
     "output_type": "stream",
     "text": [
      "Processing: 100%|█████████████████████████████████████████████████████████████████████████████████████████████████████████████| 12/12 [00:03<00:00,  3.66item/s]\n"
     ]
    },
    {
     "name": "stdout",
     "output_type": "stream",
     "text": [
      "-----Retrieving Simulation (period) CHELSA data for variable 'bio10'-----\n"
     ]
    },
    {
     "name": "stderr",
     "output_type": "stream",
     "text": [
      "Processing: 100%|█████████████████████████████████████████████████████████████████████████████████████████████████████████████| 45/45 [00:10<00:00,  4.33item/s]\n"
     ]
    },
    {
     "name": "stdout",
     "output_type": "stream",
     "text": [
      "-----Retrieving Simulation (period) CHELSA data for variable 'bio11'-----\n"
     ]
    },
    {
     "name": "stderr",
     "output_type": "stream",
     "text": [
      "Processing: 100%|█████████████████████████████████████████████████████████████████████████████████████████████████████████████| 45/45 [00:10<00:00,  4.29item/s]\n"
     ]
    },
    {
     "name": "stdout",
     "output_type": "stream",
     "text": [
      "-----Retrieving Simulation (period) CHELSA data for variable 'bio12'-----\n"
     ]
    },
    {
     "name": "stderr",
     "output_type": "stream",
     "text": [
      "Processing: 100%|█████████████████████████████████████████████████████████████████████████████████████████████████████████████| 45/45 [00:11<00:00,  3.77item/s]\n"
     ]
    },
    {
     "name": "stdout",
     "output_type": "stream",
     "text": [
      "-----Retrieving Simulation (period) CHELSA data for variable 'bio13'-----\n"
     ]
    },
    {
     "name": "stderr",
     "output_type": "stream",
     "text": [
      "Processing: 100%|█████████████████████████████████████████████████████████████████████████████████████████████████████████████| 45/45 [00:11<00:00,  3.99item/s]\n"
     ]
    },
    {
     "name": "stdout",
     "output_type": "stream",
     "text": [
      "-----Retrieving Simulation (period) CHELSA data for variable 'bio14'-----\n"
     ]
    },
    {
     "name": "stderr",
     "output_type": "stream",
     "text": [
      "Processing: 100%|█████████████████████████████████████████████████████████████████████████████████████████████████████████████| 45/45 [00:10<00:00,  4.18item/s]\n"
     ]
    },
    {
     "name": "stdout",
     "output_type": "stream",
     "text": [
      "-----Retrieving Simulation (period) CHELSA data for variable 'bio15'-----\n"
     ]
    },
    {
     "name": "stderr",
     "output_type": "stream",
     "text": [
      "Processing: 100%|█████████████████████████████████████████████████████████████████████████████████████████████████████████████| 45/45 [00:30<00:00,  1.45item/s]\n"
     ]
    },
    {
     "name": "stdout",
     "output_type": "stream",
     "text": [
      "-----Retrieving Simulation (period) CHELSA data for variable 'bio16'-----\n"
     ]
    },
    {
     "name": "stderr",
     "output_type": "stream",
     "text": [
      "Processing: 100%|█████████████████████████████████████████████████████████████████████████████████████████████████████████████| 45/45 [00:11<00:00,  3.84item/s]\n"
     ]
    },
    {
     "name": "stdout",
     "output_type": "stream",
     "text": [
      "-----Retrieving Simulation (period) CHELSA data for variable 'bio17'-----\n"
     ]
    },
    {
     "name": "stderr",
     "output_type": "stream",
     "text": [
      "Processing: 100%|█████████████████████████████████████████████████████████████████████████████████████████████████████████████| 45/45 [00:11<00:00,  4.02item/s]\n"
     ]
    },
    {
     "name": "stdout",
     "output_type": "stream",
     "text": [
      "-----Retrieving Simulation (period) CHELSA data for variable 'bio18'-----\n"
     ]
    },
    {
     "name": "stderr",
     "output_type": "stream",
     "text": [
      "Processing: 100%|█████████████████████████████████████████████████████████████████████████████████████████████████████████████| 45/45 [00:11<00:00,  3.83item/s]\n"
     ]
    },
    {
     "name": "stdout",
     "output_type": "stream",
     "text": [
      "-----Retrieving Simulation (period) CHELSA data for variable 'bio19'-----\n"
     ]
    },
    {
     "name": "stderr",
     "output_type": "stream",
     "text": [
      "Processing: 100%|█████████████████████████████████████████████████████████████████████████████████████████████████████████████| 45/45 [00:11<00:00,  3.90item/s]\n"
     ]
    },
    {
     "name": "stdout",
     "output_type": "stream",
     "text": [
      "-----Retrieving Simulation (period) CHELSA data for variable 'bio1'-----\n"
     ]
    },
    {
     "name": "stderr",
     "output_type": "stream",
     "text": [
      "Processing: 100%|█████████████████████████████████████████████████████████████████████████████████████████████████████████████| 45/45 [00:11<00:00,  4.08item/s]\n"
     ]
    },
    {
     "name": "stdout",
     "output_type": "stream",
     "text": [
      "-----Retrieving Simulation (period) CHELSA data for variable 'bio2'-----\n"
     ]
    },
    {
     "name": "stderr",
     "output_type": "stream",
     "text": [
      "Processing: 100%|█████████████████████████████████████████████████████████████████████████████████████████████████████████████| 45/45 [00:10<00:00,  4.46item/s]\n"
     ]
    },
    {
     "name": "stdout",
     "output_type": "stream",
     "text": [
      "-----Retrieving Simulation (period) CHELSA data for variable 'bio3'-----\n"
     ]
    },
    {
     "name": "stderr",
     "output_type": "stream",
     "text": [
      "Processing: 100%|█████████████████████████████████████████████████████████████████████████████████████████████████████████████| 45/45 [00:14<00:00,  3.06item/s]\n"
     ]
    },
    {
     "name": "stdout",
     "output_type": "stream",
     "text": [
      "-----Retrieving Simulation (period) CHELSA data for variable 'bio4'-----\n"
     ]
    },
    {
     "name": "stderr",
     "output_type": "stream",
     "text": [
      "Processing: 100%|█████████████████████████████████████████████████████████████████████████████████████████████████████████████| 45/45 [00:11<00:00,  3.75item/s]\n"
     ]
    },
    {
     "name": "stdout",
     "output_type": "stream",
     "text": [
      "-----Retrieving Simulation (period) CHELSA data for variable 'bio5'-----\n"
     ]
    },
    {
     "name": "stderr",
     "output_type": "stream",
     "text": [
      "Processing: 100%|█████████████████████████████████████████████████████████████████████████████████████████████████████████████| 45/45 [00:10<00:00,  4.35item/s]\n"
     ]
    },
    {
     "name": "stdout",
     "output_type": "stream",
     "text": [
      "-----Retrieving Simulation (period) CHELSA data for variable 'bio6'-----\n"
     ]
    },
    {
     "name": "stderr",
     "output_type": "stream",
     "text": [
      "Processing: 100%|█████████████████████████████████████████████████████████████████████████████████████████████████████████████| 45/45 [00:10<00:00,  4.28item/s]\n"
     ]
    },
    {
     "name": "stdout",
     "output_type": "stream",
     "text": [
      "-----Retrieving Simulation (period) CHELSA data for variable 'bio7'-----\n"
     ]
    },
    {
     "name": "stderr",
     "output_type": "stream",
     "text": [
      "Processing: 100%|█████████████████████████████████████████████████████████████████████████████████████████████████████████████| 45/45 [00:10<00:00,  4.13item/s]\n"
     ]
    },
    {
     "name": "stdout",
     "output_type": "stream",
     "text": [
      "-----Retrieving Simulation (period) CHELSA data for variable 'bio8'-----\n"
     ]
    },
    {
     "name": "stderr",
     "output_type": "stream",
     "text": [
      "Processing: 100%|█████████████████████████████████████████████████████████████████████████████████████████████████████████████| 45/45 [00:10<00:00,  4.35item/s]\n"
     ]
    },
    {
     "name": "stdout",
     "output_type": "stream",
     "text": [
      "-----Retrieving Simulation (period) CHELSA data for variable 'bio9'-----\n"
     ]
    },
    {
     "name": "stderr",
     "output_type": "stream",
     "text": [
      "Processing: 100%|█████████████████████████████████████████████████████████████████████████████████████████████████████████████| 45/45 [00:10<00:00,  4.14item/s]\n"
     ]
    },
    {
     "name": "stdout",
     "output_type": "stream",
     "text": [
      "-----Retrieving Simulation (period) CHELSA data for variable 'fcf'-----\n"
     ]
    },
    {
     "name": "stderr",
     "output_type": "stream",
     "text": [
      "Processing: 100%|█████████████████████████████████████████████████████████████████████████████████████████████████████████████| 45/45 [00:10<00:00,  4.24item/s]\n"
     ]
    },
    {
     "name": "stdout",
     "output_type": "stream",
     "text": [
      "-----Retrieving Simulation (period) CHELSA data for variable 'fgd'-----\n"
     ]
    },
    {
     "name": "stderr",
     "output_type": "stream",
     "text": [
      "Processing: 100%|█████████████████████████████████████████████████████████████████████████████████████████████████████████████| 45/45 [00:10<00:00,  4.30item/s]\n"
     ]
    },
    {
     "name": "stdout",
     "output_type": "stream",
     "text": [
      "-----Retrieving Simulation (period) CHELSA data for variable 'gdd0'-----\n"
     ]
    },
    {
     "name": "stderr",
     "output_type": "stream",
     "text": [
      "Processing: 100%|█████████████████████████████████████████████████████████████████████████████████████████████████████████████| 45/45 [00:12<00:00,  3.68item/s]\n"
     ]
    },
    {
     "name": "stdout",
     "output_type": "stream",
     "text": [
      "-----Retrieving Simulation (period) CHELSA data for variable 'gdd10'-----\n"
     ]
    },
    {
     "name": "stderr",
     "output_type": "stream",
     "text": [
      "Processing: 100%|█████████████████████████████████████████████████████████████████████████████████████████████████████████████| 45/45 [00:12<00:00,  3.67item/s]\n"
     ]
    },
    {
     "name": "stdout",
     "output_type": "stream",
     "text": [
      "-----Retrieving Simulation (period) CHELSA data for variable 'gdd5'-----\n"
     ]
    },
    {
     "name": "stderr",
     "output_type": "stream",
     "text": [
      "Processing: 100%|█████████████████████████████████████████████████████████████████████████████████████████████████████████████| 45/45 [00:12<00:00,  3.70item/s]\n"
     ]
    },
    {
     "name": "stdout",
     "output_type": "stream",
     "text": [
      "-----Retrieving Simulation (period) CHELSA data for variable 'gddlgd0'-----\n"
     ]
    },
    {
     "name": "stderr",
     "output_type": "stream",
     "text": [
      "Processing: 100%|█████████████████████████████████████████████████████████████████████████████████████████████████████████████| 45/45 [00:10<00:00,  4.37item/s]\n"
     ]
    },
    {
     "name": "stdout",
     "output_type": "stream",
     "text": [
      "-----Retrieving Simulation (period) CHELSA data for variable 'gddlgd10'-----\n"
     ]
    },
    {
     "name": "stderr",
     "output_type": "stream",
     "text": [
      "Processing: 100%|█████████████████████████████████████████████████████████████████████████████████████████████████████████████| 45/45 [00:10<00:00,  4.22item/s]\n"
     ]
    },
    {
     "name": "stdout",
     "output_type": "stream",
     "text": [
      "-----Retrieving Simulation (period) CHELSA data for variable 'gddlgd5'-----\n"
     ]
    },
    {
     "name": "stderr",
     "output_type": "stream",
     "text": [
      "Processing: 100%|█████████████████████████████████████████████████████████████████████████████████████████████████████████████| 45/45 [00:10<00:00,  4.30item/s]\n"
     ]
    },
    {
     "name": "stdout",
     "output_type": "stream",
     "text": [
      "-----Retrieving Simulation (period) CHELSA data for variable 'gdgfgd0'-----\n"
     ]
    },
    {
     "name": "stderr",
     "output_type": "stream",
     "text": [
      "Processing: 100%|█████████████████████████████████████████████████████████████████████████████████████████████████████████████| 45/45 [00:14<00:00,  3.08item/s]\n"
     ]
    },
    {
     "name": "stdout",
     "output_type": "stream",
     "text": [
      "-----Retrieving Simulation (period) CHELSA data for variable 'gdgfgd10'-----\n"
     ]
    },
    {
     "name": "stderr",
     "output_type": "stream",
     "text": [
      "Processing: 100%|█████████████████████████████████████████████████████████████████████████████████████████████████████████████| 45/45 [00:11<00:00,  3.78item/s]\n"
     ]
    },
    {
     "name": "stdout",
     "output_type": "stream",
     "text": [
      "-----Retrieving Simulation (period) CHELSA data for variable 'gdgfgd5'-----\n"
     ]
    },
    {
     "name": "stderr",
     "output_type": "stream",
     "text": [
      "Processing: 100%|█████████████████████████████████████████████████████████████████████████████████████████████████████████████| 45/45 [00:16<00:00,  2.77item/s]\n"
     ]
    },
    {
     "name": "stdout",
     "output_type": "stream",
     "text": [
      "-----Retrieving Simulation (period) CHELSA data for variable 'gsl'-----\n"
     ]
    },
    {
     "name": "stderr",
     "output_type": "stream",
     "text": [
      "Processing: 100%|█████████████████████████████████████████████████████████████████████████████████████████████████████████████| 45/45 [00:10<00:00,  4.11item/s]\n"
     ]
    },
    {
     "name": "stdout",
     "output_type": "stream",
     "text": [
      "-----Retrieving Simulation (period) CHELSA data for variable 'gsp'-----\n"
     ]
    },
    {
     "name": "stderr",
     "output_type": "stream",
     "text": [
      "Processing: 100%|█████████████████████████████████████████████████████████████████████████████████████████████████████████████| 45/45 [00:14<00:00,  3.18item/s]\n"
     ]
    },
    {
     "name": "stdout",
     "output_type": "stream",
     "text": [
      "-----Retrieving Simulation (period) CHELSA data for variable 'gst'-----\n"
     ]
    },
    {
     "name": "stderr",
     "output_type": "stream",
     "text": [
      "Processing: 100%|█████████████████████████████████████████████████████████████████████████████████████████████████████████████| 45/45 [00:11<00:00,  4.09item/s]\n"
     ]
    },
    {
     "name": "stdout",
     "output_type": "stream",
     "text": [
      "-----Retrieving Simulation (period) CHELSA data for variable 'kg0'-----\n"
     ]
    },
    {
     "name": "stderr",
     "output_type": "stream",
     "text": [
      "Processing: 100%|█████████████████████████████████████████████████████████████████████████████████████████████████████████████| 45/45 [00:10<00:00,  4.28item/s]\n"
     ]
    },
    {
     "name": "stdout",
     "output_type": "stream",
     "text": [
      "-----Retrieving Simulation (period) CHELSA data for variable 'kg1'-----\n"
     ]
    },
    {
     "name": "stderr",
     "output_type": "stream",
     "text": [
      "Processing: 100%|█████████████████████████████████████████████████████████████████████████████████████████████████████████████| 45/45 [00:10<00:00,  4.42item/s]\n"
     ]
    },
    {
     "name": "stdout",
     "output_type": "stream",
     "text": [
      "-----Retrieving Simulation (period) CHELSA data for variable 'kg2'-----\n"
     ]
    },
    {
     "name": "stderr",
     "output_type": "stream",
     "text": [
      "Processing: 100%|█████████████████████████████████████████████████████████████████████████████████████████████████████████████| 45/45 [00:09<00:00,  4.51item/s]\n"
     ]
    },
    {
     "name": "stdout",
     "output_type": "stream",
     "text": [
      "-----Retrieving Simulation (period) CHELSA data for variable 'kg3'-----\n"
     ]
    },
    {
     "name": "stderr",
     "output_type": "stream",
     "text": [
      "Processing: 100%|█████████████████████████████████████████████████████████████████████████████████████████████████████████████| 45/45 [00:10<00:00,  4.40item/s]\n"
     ]
    },
    {
     "name": "stdout",
     "output_type": "stream",
     "text": [
      "-----Retrieving Simulation (period) CHELSA data for variable 'kg4'-----\n"
     ]
    },
    {
     "name": "stderr",
     "output_type": "stream",
     "text": [
      "Processing: 100%|█████████████████████████████████████████████████████████████████████████████████████████████████████████████| 45/45 [00:14<00:00,  3.19item/s]\n"
     ]
    },
    {
     "name": "stdout",
     "output_type": "stream",
     "text": [
      "-----Retrieving Simulation (period) CHELSA data for variable 'kg5'-----\n"
     ]
    },
    {
     "name": "stderr",
     "output_type": "stream",
     "text": [
      "Processing: 100%|█████████████████████████████████████████████████████████████████████████████████████████████████████████████| 45/45 [00:11<00:00,  3.90item/s]\n"
     ]
    },
    {
     "name": "stdout",
     "output_type": "stream",
     "text": [
      "-----Retrieving Simulation (period) CHELSA data for variable 'lgd'-----\n"
     ]
    },
    {
     "name": "stderr",
     "output_type": "stream",
     "text": [
      "Processing: 100%|█████████████████████████████████████████████████████████████████████████████████████████████████████████████| 45/45 [00:12<00:00,  3.56item/s]\n"
     ]
    },
    {
     "name": "stdout",
     "output_type": "stream",
     "text": [
      "-----Retrieving Simulation (period) CHELSA data for variable 'ngd0'-----\n"
     ]
    },
    {
     "name": "stderr",
     "output_type": "stream",
     "text": [
      "Processing: 100%|█████████████████████████████████████████████████████████████████████████████████████████████████████████████| 45/45 [00:11<00:00,  3.84item/s]\n"
     ]
    },
    {
     "name": "stdout",
     "output_type": "stream",
     "text": [
      "-----Retrieving Simulation (period) CHELSA data for variable 'ngd10'-----\n"
     ]
    },
    {
     "name": "stderr",
     "output_type": "stream",
     "text": [
      "Processing: 100%|█████████████████████████████████████████████████████████████████████████████████████████████████████████████| 45/45 [00:16<00:00,  2.75item/s]\n"
     ]
    },
    {
     "name": "stdout",
     "output_type": "stream",
     "text": [
      "-----Retrieving Simulation (period) CHELSA data for variable 'ngd5'-----\n"
     ]
    },
    {
     "name": "stderr",
     "output_type": "stream",
     "text": [
      "Processing: 100%|█████████████████████████████████████████████████████████████████████████████████████████████████████████████| 45/45 [00:11<00:00,  3.84item/s]\n"
     ]
    },
    {
     "name": "stdout",
     "output_type": "stream",
     "text": [
      "-----Retrieving Simulation (period) CHELSA data for variable 'npp'-----\n"
     ]
    },
    {
     "name": "stderr",
     "output_type": "stream",
     "text": [
      "Processing: 100%|█████████████████████████████████████████████████████████████████████████████████████████████████████████████| 45/45 [00:13<00:00,  3.43item/s]\n"
     ]
    },
    {
     "name": "stdout",
     "output_type": "stream",
     "text": [
      "-----Retrieving Simulation (period) CHELSA data for variable 'scd'-----\n"
     ]
    },
    {
     "name": "stderr",
     "output_type": "stream",
     "text": [
      "Processing: 100%|█████████████████████████████████████████████████████████████████████████████████████████████████████████████| 45/45 [00:10<00:00,  4.20item/s]\n"
     ]
    },
    {
     "name": "stdout",
     "output_type": "stream",
     "text": [
      "-----Retrieving Simulation (period) CHELSA data for variable 'swe'-----\n"
     ]
    },
    {
     "name": "stderr",
     "output_type": "stream",
     "text": [
      "Processing: 100%|█████████████████████████████████████████████████████████████████████████████████████████████████████████████| 45/45 [00:44<00:00,  1.02item/s]\n"
     ]
    },
    {
     "name": "stdout",
     "output_type": "stream",
     "text": [
      "-----Retrieving Simulation (monthly) CHELSA data for variable 'pr'-----\n"
     ]
    },
    {
     "name": "stderr",
     "output_type": "stream",
     "text": [
      "Processing: 100%|███████████████████████████████████████████████████████████████████████████████████████████████████████████| 540/540 [21:49<00:00,  2.42s/item]\n"
     ]
    },
    {
     "name": "stdout",
     "output_type": "stream",
     "text": [
      "-----Retrieving Simulation (monthly) CHELSA data for variable 'tas'-----\n"
     ]
    },
    {
     "name": "stderr",
     "output_type": "stream",
     "text": [
      "Processing: 100%|███████████████████████████████████████████████████████████████████████████████████████████████████████████| 540/540 [23:14<00:00,  2.58s/item]\n"
     ]
    },
    {
     "name": "stdout",
     "output_type": "stream",
     "text": [
      "-----Retrieving Simulation (monthly) CHELSA data for variable 'tasmax'-----\n"
     ]
    },
    {
     "name": "stderr",
     "output_type": "stream",
     "text": [
      "Processing: 100%|███████████████████████████████████████████████████████████████████████████████████████████████████████████| 540/540 [41:17<00:00,  4.59s/item]\n"
     ]
    },
    {
     "name": "stdout",
     "output_type": "stream",
     "text": [
      "-----Retrieving Simulation (monthly) CHELSA data for variable 'tasmin'-----\n"
     ]
    },
    {
     "name": "stderr",
     "output_type": "stream",
     "text": [
      "Processing: 100%|███████████████████████████████████████████████████████████████████████████████████████████████████████████| 540/540 [51:51<00:00,  5.76s/item]\n"
     ]
    },
    {
     "data": {
      "text/plain": [
       "(['chelsa_month',\n",
       "  'chelsa_clim_ref_period',\n",
       "  'chelsa_clim_ref_month',\n",
       "  'chelsa_clim_sim_period',\n",
       "  'chelsa_clim_sim_month'],\n",
       " [<xarray.Dataset> Size: 30MB\n",
       "  Dimensions:  (time: 479, lat: 23, long: 69)\n",
       "  Coordinates:\n",
       "    * time     (time) datetime64[ns] 4kB 1979-02-01 1979-03-01 ... 2018-12-01\n",
       "    * lat      (lat) float64 184B 50.87 50.87 50.86 50.85 ... 50.71 50.7 50.69\n",
       "    * long     (long) float64 552B 4.176 4.184 4.192 4.201 ... 4.726 4.734 4.742\n",
       "  Data variables:\n",
       "      clt      (time, lat, long) float64 6MB 6.012e+03 6.012e+03 ... 5.363e+03\n",
       "      cmi      (time, lat, long) int16 2MB 242 221 207 215 220 ... 349 335 311 299\n",
       "      hurs     (time, lat, long) uint16 2MB 6653 6657 6662 6669 ... 6865 6863 6864\n",
       "      pet      (time, lat, long) uint16 2MB 2149 2356 2499 2436 ... 2803 3031 3144\n",
       "      pr       (time, lat, long) int64 6MB 4565 4568 4573 4589 ... 6149 6139 6132\n",
       "      rsds     (time, lat, long) uint16 2MB 5665 5681 5704 5726 ... 2238 2233 2225\n",
       "      sfcWind  (time, lat, long) uint16 2MB 3381 3778 3991 3886 ... 5239 5555 5751\n",
       "      tas      (time, lat, long) int32 3MB 2737 2737 2737 2737 ... 2787 2787 2786\n",
       "      tasmax   (time, lat, long) int32 3MB 2768 2768 2768 2768 ... 2809 2809 2808\n",
       "      tasmin   (time, lat, long) int32 3MB 2709 2709 2709 2709 ... 2762 2762 2761\n",
       "      vpd      (time, lat, long) uint16 2MB 2129 2126 2123 2119 ... 2839 2841 2821,\n",
       "  <xarray.Dataset> Size: 299kB\n",
       "  Dimensions:           (lat: 23, long: 69)\n",
       "  Coordinates:\n",
       "    * lat               (lat) float64 184B 50.87 50.87 50.86 ... 50.71 50.7 50.69\n",
       "    * long              (long) float64 552B 4.176 4.184 4.192 ... 4.734 4.742\n",
       "  Data variables: (12/76)\n",
       "      ai                (lat, long) float32 6kB 1.18 1.183 1.185 ... 1.207 1.216\n",
       "      bio10             (lat, long) uint16 3kB 2906 2905 2905 ... 2902 2902 2901\n",
       "      bio11             (lat, long) uint16 3kB 2769 2769 2769 ... 2763 2763 2763\n",
       "      bio12             (lat, long) uint16 3kB 8432 8445 8464 ... 8468 8510 8557\n",
       "      bio13             (lat, long) uint16 3kB 795 796 798 801 ... 786 788 792 795\n",
       "      bio14             (lat, long) uint16 3kB 499 500 502 504 ... 511 513 516 519\n",
       "      ...                ...\n",
       "      swb               (lat, long) int16 3kB -6 -38 -59 -47 ... -54 -63 -72 -76\n",
       "      swe               (lat, long) uint16 3kB 65535 65535 65535 ... 65535 65535\n",
       "      vpd_max           (lat, long) uint16 3kB 8349 8340 8336 ... 8033 7983 7955\n",
       "      vpd_mean          (lat, long) uint16 3kB 5056 5050 5046 ... 4826 4799 4779\n",
       "      vpd_min           (lat, long) uint16 3kB 2546 2542 2539 ... 2411 2398 2387\n",
       "      vpd_range         (lat, long) uint16 3kB 5803 5798 5797 ... 5622 5585 5568,\n",
       "  <xarray.Dataset> Size: 534kB\n",
       "  Dimensions:  (months: 12, lat: 23, long: 69)\n",
       "  Coordinates:\n",
       "    * months   (months) int64 96B 1 2 3 4 5 6 7 8 9 10 11 12\n",
       "    * lat      (lat) float64 184B 50.87 50.87 50.86 50.85 ... 50.71 50.7 50.69\n",
       "    * long     (long) float64 552B 4.176 4.184 4.192 4.201 ... 4.726 4.734 4.742\n",
       "  Data variables:\n",
       "      clt      (months, lat, long) float64 152kB 5.172e+03 5.172e+03 ... 5.64e+03\n",
       "      cmi      (months, lat, long) int16 38kB 499 466 444 459 ... 519 509 494 488\n",
       "      hurs     (months, lat, long) uint16 38kB 6769 6770 6773 ... 6956 6964 6972\n",
       "      pet      (months, lat, long) uint16 38kB 2049 2396 2640 ... 2445 2629 2727\n",
       "      pr       (months, lat, long) uint16 38kB 737 739 741 744 ... 786 788 792 795\n",
       "      rsds     (months, lat, long) uint16 38kB 2945 2957 2973 ... 2259 2253 2245\n",
       "      sfcWind  (months, lat, long) uint16 38kB 4337 4848 5124 ... 5107 5415 5604\n",
       "      tas      (months, lat, long) uint16 38kB 2766 2766 2766 ... 2767 2766 2766\n",
       "      tasmax   (months, lat, long) uint16 38kB 2790 2790 2789 ... 2789 2788 2788\n",
       "      tasmin   (months, lat, long) uint16 38kB 2740 2740 2740 ... 2744 2744 2744\n",
       "      vpd      (months, lat, long) uint16 38kB 2557 2554 2552 ... 2411 2398 2387,\n",
       "  <xarray.Dataset> Size: 7MB\n",
       "  Dimensions:          (year_range: 3, model_name: 5, ensemble_member: 3,\n",
       "                        lat: 23, long: 69)\n",
       "  Coordinates:\n",
       "    * year_range       (year_range) <U9 108B '2011-2040' '2041-2070' '2071-2100'\n",
       "    * model_name       (model_name) <U13 260B 'gfdl-esm4' ... 'ukesm1-0-ll'\n",
       "    * ensemble_member  (ensemble_member) <U6 72B 'ssp126' 'ssp370' 'ssp585'\n",
       "    * lat              (lat) float64 184B 50.87 50.87 50.86 ... 50.71 50.7 50.69\n",
       "    * long             (long) float64 552B 4.176 4.184 4.192 ... 4.726 4.734 4.742\n",
       "  Data variables: (12/46)\n",
       "      bio10            (year_range, model_name, ensemble_member, lat, long) uint16 143kB ...\n",
       "      bio11            (year_range, model_name, ensemble_member, lat, long) uint16 143kB ...\n",
       "      bio12            (year_range, model_name, ensemble_member, lat, long) uint16 143kB ...\n",
       "      bio13            (year_range, model_name, ensemble_member, lat, long) uint16 143kB ...\n",
       "      bio14            (year_range, model_name, ensemble_member, lat, long) uint16 143kB ...\n",
       "      bio15            (year_range, model_name, ensemble_member, lat, long) uint16 143kB ...\n",
       "      ...               ...\n",
       "      ngd0             (year_range, model_name, ensemble_member, lat, long) uint16 143kB ...\n",
       "      ngd10            (year_range, model_name, ensemble_member, lat, long) uint16 143kB ...\n",
       "      ngd5             (year_range, model_name, ensemble_member, lat, long) uint16 143kB ...\n",
       "      npp              (year_range, model_name, ensemble_member, lat, long) uint16 143kB ...\n",
       "      scd              (year_range, model_name, ensemble_member, lat, long) uint16 143kB ...\n",
       "      swe              (year_range, model_name, ensemble_member, lat, long) uint16 143kB ...,\n",
       "  <xarray.Dataset> Size: 7MB\n",
       "  Dimensions:          (year_range: 3, month: 12, model_name: 5,\n",
       "                        ensemble_member: 3, lat: 23, long: 69)\n",
       "  Coordinates:\n",
       "    * year_range       (year_range) <U9 108B '2011-2040' '2041-2070' '2071-2100'\n",
       "    * month            (month) int64 96B 1 2 3 4 5 6 7 8 9 10 11 12\n",
       "    * model_name       (model_name) <U13 260B 'gfdl-esm4' ... 'ukesm1-0-ll'\n",
       "    * ensemble_member  (ensemble_member) <U6 72B 'ssp126' 'ssp370' 'ssp585'\n",
       "    * lat              (lat) float64 184B 50.87 50.87 50.86 ... 50.71 50.7 50.69\n",
       "    * long             (long) float64 552B 4.176 4.184 4.192 ... 4.726 4.734 4.742\n",
       "  Data variables:\n",
       "      pr               (year_range, month, model_name, ensemble_member, lat, long) uint16 2MB ...\n",
       "      tas              (year_range, month, model_name, ensemble_member, lat, long) uint16 2MB ...\n",
       "      tasmax           (year_range, month, model_name, ensemble_member, lat, long) uint16 2MB ...\n",
       "      tasmin           (year_range, month, model_name, ensemble_member, lat, long) uint16 2MB ...])"
      ]
     },
     "execution_count": 21,
     "metadata": {},
     "output_type": "execute_result"
    }
   ],
   "source": [
    "cube.generate_chelsa_cube(param_file, param_path)"
   ]
  },
  {
   "cell_type": "markdown",
   "id": "d3fe0a29-b913-44e9-a459-be253730a288",
   "metadata": {},
   "source": [
    "# BmD Cube"
   ]
  },
  {
   "cell_type": "code",
   "execution_count": 26,
   "id": "37238fe8-ac37-40ea-85a6-9ef769e30c30",
   "metadata": {},
   "outputs": [],
   "source": [
    "from cube import bmd"
   ]
  },
  {
   "cell_type": "code",
   "execution_count": 27,
   "id": "8b34c8cd-7f1f-40b0-8429-4a64e9ac713e",
   "metadata": {},
   "outputs": [],
   "source": [
    "bmd_cube = bmd.bmd_cube()"
   ]
  },
  {
   "cell_type": "code",
   "execution_count": 28,
   "id": "07f725b2-3821-427d-8bb7-483c43d96a35",
   "metadata": {},
   "outputs": [
    {
     "name": "stdout",
     "output_type": "stream",
     "text": [
      "-----Retrieving monthly CHELSA data for variable 'clt'-----\n"
     ]
    },
    {
     "name": "stderr",
     "output_type": "stream",
     "text": [
      "Processing: 100%|█████████████████████████████████████████████████████████████████████████████████████████████████████████████████████████████████| 479/479 [02:50<00:00,  2.81item/s]\n"
     ]
    },
    {
     "name": "stdout",
     "output_type": "stream",
     "text": [
      "-----Retrieving monthly CHELSA data for variable 'cmi'-----\n"
     ]
    },
    {
     "name": "stderr",
     "output_type": "stream",
     "text": [
      "Processing: 100%|█████████████████████████████████████████████████████████████████████████████████████████████████████████████████████████████████| 479/479 [02:58<00:00,  2.69item/s]\n"
     ]
    },
    {
     "name": "stdout",
     "output_type": "stream",
     "text": [
      "-----Retrieving monthly CHELSA data for variable 'hurs'-----\n"
     ]
    },
    {
     "name": "stderr",
     "output_type": "stream",
     "text": [
      "Processing: 100%|█████████████████████████████████████████████████████████████████████████████████████████████████████████████████████████████████| 479/479 [02:59<00:00,  2.67item/s]\n"
     ]
    },
    {
     "name": "stdout",
     "output_type": "stream",
     "text": [
      "-----Retrieving monthly CHELSA data for variable 'pet'-----\n"
     ]
    },
    {
     "name": "stderr",
     "output_type": "stream",
     "text": [
      "Processing: 100%|█████████████████████████████████████████████████████████████████████████████████████████████████████████████████████████████████| 479/479 [03:05<00:00,  2.59item/s]\n"
     ]
    },
    {
     "name": "stdout",
     "output_type": "stream",
     "text": [
      "-----Retrieving monthly CHELSA data for variable 'pr'-----\n"
     ]
    },
    {
     "name": "stderr",
     "output_type": "stream",
     "text": [
      "Processing: 100%|█████████████████████████████████████████████████████████████████████████████████████████████████████████████████████████████████| 479/479 [03:10<00:00,  2.52item/s]\n"
     ]
    },
    {
     "name": "stdout",
     "output_type": "stream",
     "text": [
      "-----Retrieving monthly CHELSA data for variable 'rsds'-----\n"
     ]
    },
    {
     "name": "stderr",
     "output_type": "stream",
     "text": [
      "Processing: 100%|█████████████████████████████████████████████████████████████████████████████████████████████████████████████████████████████████| 479/479 [03:09<00:00,  2.53item/s]\n"
     ]
    },
    {
     "name": "stdout",
     "output_type": "stream",
     "text": [
      "-----Retrieving monthly CHELSA data for variable 'sfcWind'-----\n"
     ]
    },
    {
     "name": "stderr",
     "output_type": "stream",
     "text": [
      "Processing: 100%|█████████████████████████████████████████████████████████████████████████████████████████████████████████████████████████████████| 479/479 [03:01<00:00,  2.63item/s]\n"
     ]
    },
    {
     "name": "stdout",
     "output_type": "stream",
     "text": [
      "-----Retrieving monthly CHELSA data for variable 'tas'-----\n"
     ]
    },
    {
     "name": "stderr",
     "output_type": "stream",
     "text": [
      "Processing: 100%|█████████████████████████████████████████████████████████████████████████████████████████████████████████████████████████████████| 479/479 [02:56<00:00,  2.71item/s]\n"
     ]
    },
    {
     "name": "stdout",
     "output_type": "stream",
     "text": [
      "-----Retrieving monthly CHELSA data for variable 'tasmax'-----\n"
     ]
    },
    {
     "name": "stderr",
     "output_type": "stream",
     "text": [
      "Processing: 100%|█████████████████████████████████████████████████████████████████████████████████████████████████████████████████████████████████| 479/479 [02:54<00:00,  2.74item/s]\n"
     ]
    },
    {
     "name": "stdout",
     "output_type": "stream",
     "text": [
      "-----Retrieving monthly CHELSA data for variable 'tasmin'-----\n"
     ]
    },
    {
     "name": "stderr",
     "output_type": "stream",
     "text": [
      "Processing: 100%|█████████████████████████████████████████████████████████████████████████████████████████████████████████████████████████████████| 479/479 [02:53<00:00,  2.76item/s]\n"
     ]
    },
    {
     "name": "stdout",
     "output_type": "stream",
     "text": [
      "-----Retrieving monthly CHELSA data for variable 'vpd'-----\n"
     ]
    },
    {
     "name": "stderr",
     "output_type": "stream",
     "text": [
      "Processing: 100%|█████████████████████████████████████████████████████████████████████████████████████████████████████████████████████████████████| 479/479 [03:00<00:00,  2.65item/s]\n"
     ]
    },
    {
     "name": "stdout",
     "output_type": "stream",
     "text": [
      "-----Retrieving Reference Climatology CHELSA data for variable 'ai' in reference period 1981-2010-----\n",
      "Complete\n",
      "-----Retrieving Reference Climatology CHELSA data for variable 'bio10' in reference period 1981-2010-----\n",
      "Complete\n",
      "-----Retrieving Reference Climatology CHELSA data for variable 'bio11' in reference period 1981-2010-----\n",
      "Complete\n",
      "-----Retrieving Reference Climatology CHELSA data for variable 'bio12' in reference period 1981-2010-----\n",
      "Complete\n",
      "-----Retrieving Reference Climatology CHELSA data for variable 'bio13' in reference period 1981-2010-----\n",
      "Complete\n",
      "-----Retrieving Reference Climatology CHELSA data for variable 'bio14' in reference period 1981-2010-----\n",
      "Complete\n",
      "-----Retrieving Reference Climatology CHELSA data for variable 'bio15' in reference period 1981-2010-----\n",
      "Complete\n",
      "-----Retrieving Reference Climatology CHELSA data for variable 'bio16' in reference period 1981-2010-----\n",
      "Complete\n",
      "-----Retrieving Reference Climatology CHELSA data for variable 'bio17' in reference period 1981-2010-----\n",
      "Complete\n",
      "-----Retrieving Reference Climatology CHELSA data for variable 'bio18' in reference period 1981-2010-----\n",
      "Complete\n",
      "-----Retrieving Reference Climatology CHELSA data for variable 'bio19' in reference period 1981-2010-----\n",
      "Complete\n",
      "-----Retrieving Reference Climatology CHELSA data for variable 'bio1' in reference period 1981-2010-----\n",
      "Complete\n",
      "-----Retrieving Reference Climatology CHELSA data for variable 'bio2' in reference period 1981-2010-----\n",
      "Complete\n",
      "-----Retrieving Reference Climatology CHELSA data for variable 'bio3' in reference period 1981-2010-----\n",
      "Complete\n",
      "-----Retrieving Reference Climatology CHELSA data for variable 'bio4' in reference period 1981-2010-----\n",
      "Complete\n",
      "-----Retrieving Reference Climatology CHELSA data for variable 'bio5' in reference period 1981-2010-----\n",
      "Complete\n",
      "-----Retrieving Reference Climatology CHELSA data for variable 'bio6' in reference period 1981-2010-----\n",
      "Complete\n",
      "-----Retrieving Reference Climatology CHELSA data for variable 'bio7' in reference period 1981-2010-----\n",
      "Complete\n",
      "-----Retrieving Reference Climatology CHELSA data for variable 'bio8' in reference period 1981-2010-----\n",
      "Complete\n",
      "-----Retrieving Reference Climatology CHELSA data for variable 'bio9' in reference period 1981-2010-----\n",
      "Complete\n",
      "-----Retrieving Reference Climatology CHELSA data for variable 'clt_max' in reference period 1981-2010-----\n",
      "Complete\n",
      "-----Retrieving Reference Climatology CHELSA data for variable 'clt_mean' in reference period 1981-2010-----\n",
      "Complete\n",
      "-----Retrieving Reference Climatology CHELSA data for variable 'clt_min' in reference period 1981-2010-----\n",
      "Complete\n",
      "-----Retrieving Reference Climatology CHELSA data for variable 'clt_range' in reference period 1981-2010-----\n",
      "Complete\n",
      "-----Retrieving Reference Climatology CHELSA data for variable 'cmi_max' in reference period 1981-2010-----\n",
      "Complete\n",
      "-----Retrieving Reference Climatology CHELSA data for variable 'cmi_mean' in reference period 1981-2010-----\n",
      "Complete\n",
      "-----Retrieving Reference Climatology CHELSA data for variable 'cmi_min' in reference period 1981-2010-----\n",
      "Complete\n",
      "-----Retrieving Reference Climatology CHELSA data for variable 'cmi_range' in reference period 1981-2010-----\n",
      "Complete\n",
      "-----Retrieving Reference Climatology CHELSA data for variable 'fcf' in reference period 1981-2010-----\n",
      "Complete\n",
      "-----Retrieving Reference Climatology CHELSA data for variable 'fgd' in reference period 1981-2010-----\n",
      "Complete\n",
      "-----Retrieving Reference Climatology CHELSA data for variable 'gdd0' in reference period 1981-2010-----\n",
      "Complete\n",
      "-----Retrieving Reference Climatology CHELSA data for variable 'gdd10' in reference period 1981-2010-----\n",
      "Complete\n",
      "-----Retrieving Reference Climatology CHELSA data for variable 'gdd5' in reference period 1981-2010-----\n",
      "Complete\n",
      "-----Retrieving Reference Climatology CHELSA data for variable 'gddlgd0' in reference period 1981-2010-----\n",
      "Complete\n",
      "-----Retrieving Reference Climatology CHELSA data for variable 'gddlgd10' in reference period 1981-2010-----\n",
      "Complete\n",
      "-----Retrieving Reference Climatology CHELSA data for variable 'gddlgd5' in reference period 1981-2010-----\n",
      "Complete\n",
      "-----Retrieving Reference Climatology CHELSA data for variable 'gdgfgd0' in reference period 1981-2010-----\n",
      "Complete\n",
      "-----Retrieving Reference Climatology CHELSA data for variable 'gdgfgd10' in reference period 1981-2010-----\n",
      "Complete\n",
      "-----Retrieving Reference Climatology CHELSA data for variable 'gdgfgd5' in reference period 1981-2010-----\n",
      "Complete\n",
      "-----Retrieving Reference Climatology CHELSA data for variable 'gsl' in reference period 1981-2010-----\n",
      "Complete\n",
      "-----Retrieving Reference Climatology CHELSA data for variable 'gsp' in reference period 1981-2010-----\n",
      "Complete\n",
      "-----Retrieving Reference Climatology CHELSA data for variable 'gst' in reference period 1981-2010-----\n",
      "Complete\n",
      "-----Retrieving Reference Climatology CHELSA data for variable 'hurs_max' in reference period 1981-2010-----\n",
      "Complete\n",
      "-----Retrieving Reference Climatology CHELSA data for variable 'hurs_mean' in reference period 1981-2010-----\n",
      "Complete\n",
      "-----Retrieving Reference Climatology CHELSA data for variable 'hurs_min' in reference period 1981-2010-----\n",
      "Complete\n",
      "-----Retrieving Reference Climatology CHELSA data for variable 'hurs_range' in reference period 1981-2010-----\n",
      "Complete\n",
      "-----Retrieving Reference Climatology CHELSA data for variable 'kg0' in reference period 1981-2010-----\n",
      "Complete\n",
      "-----Retrieving Reference Climatology CHELSA data for variable 'kg1' in reference period 1981-2010-----\n",
      "Complete\n",
      "-----Retrieving Reference Climatology CHELSA data for variable 'kg2' in reference period 1981-2010-----\n",
      "Complete\n",
      "-----Retrieving Reference Climatology CHELSA data for variable 'kg3' in reference period 1981-2010-----\n",
      "Complete\n",
      "-----Retrieving Reference Climatology CHELSA data for variable 'kg4' in reference period 1981-2010-----\n",
      "Complete\n",
      "-----Retrieving Reference Climatology CHELSA data for variable 'kg5' in reference period 1981-2010-----\n",
      "Complete\n",
      "-----Retrieving Reference Climatology CHELSA data for variable 'lgd' in reference period 1981-2010-----\n",
      "Complete\n",
      "-----Retrieving Reference Climatology CHELSA data for variable 'ngd0' in reference period 1981-2010-----\n",
      "Complete\n",
      "-----Retrieving Reference Climatology CHELSA data for variable 'ngd10' in reference period 1981-2010-----\n",
      "Complete\n",
      "-----Retrieving Reference Climatology CHELSA data for variable 'ngd5' in reference period 1981-2010-----\n",
      "Complete\n",
      "-----Retrieving Reference Climatology CHELSA data for variable 'npp' in reference period 1981-2010-----\n",
      "Complete\n",
      "-----Retrieving Reference Climatology CHELSA data for variable 'pet_penman_max' in reference period 1981-2010-----\n",
      "Complete\n",
      "-----Retrieving Reference Climatology CHELSA data for variable 'pet_penman_mean' in reference period 1981-2010-----\n",
      "Complete\n",
      "-----Retrieving Reference Climatology CHELSA data for variable 'pet_penman_min' in reference period 1981-2010-----\n",
      "Complete\n",
      "-----Retrieving Reference Climatology CHELSA data for variable 'pet_penman_range' in reference period 1981-2010-----\n",
      "Complete\n",
      "-----Retrieving Reference Climatology CHELSA data for variable 'rsds_max' in reference period 1981-2010-----\n",
      "Complete\n",
      "-----Retrieving Reference Climatology CHELSA data for variable 'rsds_min' in reference period 1981-2010-----\n",
      "Complete\n",
      "-----Retrieving Reference Climatology CHELSA data for variable 'rsds_mean' in reference period 1981-2010-----\n",
      "Complete\n",
      "-----Retrieving Reference Climatology CHELSA data for variable 'rsds_range' in reference period 1981-2010-----\n",
      "Complete\n",
      "-----Retrieving Reference Climatology CHELSA data for variable 'scd' in reference period 1981-2010-----\n",
      "Complete\n",
      "-----Retrieving Reference Climatology CHELSA data for variable 'sfcWind_max' in reference period 1981-2010-----\n",
      "Complete\n",
      "-----Retrieving Reference Climatology CHELSA data for variable 'sfcWind_mean' in reference period 1981-2010-----\n",
      "Complete\n",
      "-----Retrieving Reference Climatology CHELSA data for variable 'sfcWind_min' in reference period 1981-2010-----\n",
      "Complete\n",
      "-----Retrieving Reference Climatology CHELSA data for variable 'sfcWind_range' in reference period 1981-2010-----\n",
      "Complete\n",
      "-----Retrieving Reference Climatology CHELSA data for variable 'swb' in reference period 1981-2010-----\n",
      "Complete\n",
      "-----Retrieving Reference Climatology CHELSA data for variable 'swe' in reference period 1981-2010-----\n",
      "Complete\n",
      "-----Retrieving Reference Climatology CHELSA data for variable 'vpd_max' in reference period 1981-2010-----\n",
      "Complete\n",
      "-----Retrieving Reference Climatology CHELSA data for variable 'vpd_mean' in reference period 1981-2010-----\n",
      "Complete\n",
      "-----Retrieving Reference Climatology CHELSA data for variable 'vpd_min' in reference period 1981-2010-----\n",
      "Complete\n",
      "-----Retrieving Reference Climatology CHELSA data for variable 'vpd_range' in reference period 1981-2010-----\n",
      "Complete\n",
      "-----Retrieving monthly Reference Climatology CHELSA data for variable 'clt' in reference period 1981-2010-----\n"
     ]
    },
    {
     "name": "stderr",
     "output_type": "stream",
     "text": [
      "Processing: 100%|███████████████████████████████████████████████████████████████████████████████████████████████████████████████████████████████████| 12/12 [00:03<00:00,  3.10item/s]\n"
     ]
    },
    {
     "name": "stdout",
     "output_type": "stream",
     "text": [
      "-----Retrieving monthly Reference Climatology CHELSA data for variable 'cmi' in reference period 1981-2010-----\n"
     ]
    },
    {
     "name": "stderr",
     "output_type": "stream",
     "text": [
      "Processing: 100%|███████████████████████████████████████████████████████████████████████████████████████████████████████████████████████████████████| 12/12 [00:04<00:00,  2.82item/s]\n"
     ]
    },
    {
     "name": "stdout",
     "output_type": "stream",
     "text": [
      "-----Retrieving monthly Reference Climatology CHELSA data for variable 'hurs' in reference period 1981-2010-----\n"
     ]
    },
    {
     "name": "stderr",
     "output_type": "stream",
     "text": [
      "Processing: 100%|███████████████████████████████████████████████████████████████████████████████████████████████████████████████████████████████████| 12/12 [00:04<00:00,  2.56item/s]\n"
     ]
    },
    {
     "name": "stdout",
     "output_type": "stream",
     "text": [
      "-----Retrieving monthly Reference Climatology CHELSA data for variable 'pet' in reference period 1981-2010-----\n"
     ]
    },
    {
     "name": "stderr",
     "output_type": "stream",
     "text": [
      "Processing: 100%|███████████████████████████████████████████████████████████████████████████████████████████████████████████████████████████████████| 12/12 [00:04<00:00,  2.71item/s]\n"
     ]
    },
    {
     "name": "stdout",
     "output_type": "stream",
     "text": [
      "-----Retrieving monthly Reference Climatology CHELSA data for variable 'pr' in reference period 1981-2010-----\n"
     ]
    },
    {
     "name": "stderr",
     "output_type": "stream",
     "text": [
      "Processing: 100%|███████████████████████████████████████████████████████████████████████████████████████████████████████████████████████████████████| 12/12 [00:05<00:00,  2.26item/s]\n"
     ]
    },
    {
     "name": "stdout",
     "output_type": "stream",
     "text": [
      "-----Retrieving monthly Reference Climatology CHELSA data for variable 'rsds' in reference period 1981-2010-----\n"
     ]
    },
    {
     "name": "stderr",
     "output_type": "stream",
     "text": [
      "Processing: 100%|███████████████████████████████████████████████████████████████████████████████████████████████████████████████████████████████████| 12/12 [00:04<00:00,  2.68item/s]\n"
     ]
    },
    {
     "name": "stdout",
     "output_type": "stream",
     "text": [
      "-----Retrieving monthly Reference Climatology CHELSA data for variable 'sfcWind' in reference period 1981-2010-----\n"
     ]
    },
    {
     "name": "stderr",
     "output_type": "stream",
     "text": [
      "Processing: 100%|███████████████████████████████████████████████████████████████████████████████████████████████████████████████████████████████████| 12/12 [00:04<00:00,  2.73item/s]\n"
     ]
    },
    {
     "name": "stdout",
     "output_type": "stream",
     "text": [
      "-----Retrieving monthly Reference Climatology CHELSA data for variable 'tas' in reference period 1981-2010-----\n"
     ]
    },
    {
     "name": "stderr",
     "output_type": "stream",
     "text": [
      "Processing: 100%|███████████████████████████████████████████████████████████████████████████████████████████████████████████████████████████████████| 12/12 [00:05<00:00,  2.36item/s]\n"
     ]
    },
    {
     "name": "stdout",
     "output_type": "stream",
     "text": [
      "-----Retrieving monthly Reference Climatology CHELSA data for variable 'tasmax' in reference period 1981-2010-----\n"
     ]
    },
    {
     "name": "stderr",
     "output_type": "stream",
     "text": [
      "Processing: 100%|███████████████████████████████████████████████████████████████████████████████████████████████████████████████████████████████████| 12/12 [00:04<00:00,  2.51item/s]\n"
     ]
    },
    {
     "name": "stdout",
     "output_type": "stream",
     "text": [
      "-----Retrieving monthly Reference Climatology CHELSA data for variable 'tasmin' in reference period 1981-2010-----\n"
     ]
    },
    {
     "name": "stderr",
     "output_type": "stream",
     "text": [
      "Processing: 100%|███████████████████████████████████████████████████████████████████████████████████████████████████████████████████████████████████| 12/12 [00:05<00:00,  2.38item/s]\n"
     ]
    },
    {
     "name": "stdout",
     "output_type": "stream",
     "text": [
      "-----Retrieving monthly Reference Climatology CHELSA data for variable 'vpd' in reference period 1981-2010-----\n"
     ]
    },
    {
     "name": "stderr",
     "output_type": "stream",
     "text": [
      "Processing: 100%|███████████████████████████████████████████████████████████████████████████████████████████████████████████████████████████████████| 12/12 [00:04<00:00,  2.61item/s]\n"
     ]
    },
    {
     "name": "stdout",
     "output_type": "stream",
     "text": [
      "-----Retrieving Simulation (period) CHELSA data for variable 'bio10'-----\n"
     ]
    },
    {
     "name": "stderr",
     "output_type": "stream",
     "text": [
      "Processing: 100%|███████████████████████████████████████████████████████████████████████████████████████████████████████████████████████████████████| 45/45 [00:16<00:00,  2.79item/s]\n"
     ]
    },
    {
     "name": "stdout",
     "output_type": "stream",
     "text": [
      "-----Retrieving Simulation (period) CHELSA data for variable 'bio11'-----\n"
     ]
    },
    {
     "name": "stderr",
     "output_type": "stream",
     "text": [
      "Processing: 100%|███████████████████████████████████████████████████████████████████████████████████████████████████████████████████████████████████| 45/45 [00:15<00:00,  2.86item/s]\n"
     ]
    },
    {
     "name": "stdout",
     "output_type": "stream",
     "text": [
      "-----Retrieving Simulation (period) CHELSA data for variable 'bio12'-----\n"
     ]
    },
    {
     "name": "stderr",
     "output_type": "stream",
     "text": [
      "Processing: 100%|███████████████████████████████████████████████████████████████████████████████████████████████████████████████████████████████████| 45/45 [00:18<00:00,  2.44item/s]\n"
     ]
    },
    {
     "name": "stdout",
     "output_type": "stream",
     "text": [
      "-----Retrieving Simulation (period) CHELSA data for variable 'bio13'-----\n"
     ]
    },
    {
     "name": "stderr",
     "output_type": "stream",
     "text": [
      "Processing: 100%|███████████████████████████████████████████████████████████████████████████████████████████████████████████████████████████████████| 45/45 [00:16<00:00,  2.75item/s]\n"
     ]
    },
    {
     "name": "stdout",
     "output_type": "stream",
     "text": [
      "-----Retrieving Simulation (period) CHELSA data for variable 'bio14'-----\n"
     ]
    },
    {
     "name": "stderr",
     "output_type": "stream",
     "text": [
      "Processing: 100%|███████████████████████████████████████████████████████████████████████████████████████████████████████████████████████████████████| 45/45 [00:15<00:00,  2.93item/s]\n"
     ]
    },
    {
     "name": "stdout",
     "output_type": "stream",
     "text": [
      "-----Retrieving Simulation (period) CHELSA data for variable 'bio15'-----\n"
     ]
    },
    {
     "name": "stderr",
     "output_type": "stream",
     "text": [
      "Processing: 100%|███████████████████████████████████████████████████████████████████████████████████████████████████████████████████████████████████| 45/45 [00:15<00:00,  2.99item/s]\n"
     ]
    },
    {
     "name": "stdout",
     "output_type": "stream",
     "text": [
      "-----Retrieving Simulation (period) CHELSA data for variable 'bio16'-----\n"
     ]
    },
    {
     "name": "stderr",
     "output_type": "stream",
     "text": [
      "Processing: 100%|███████████████████████████████████████████████████████████████████████████████████████████████████████████████████████████████████| 45/45 [00:18<00:00,  2.45item/s]\n"
     ]
    },
    {
     "name": "stdout",
     "output_type": "stream",
     "text": [
      "-----Retrieving Simulation (period) CHELSA data for variable 'bio17'-----\n"
     ]
    },
    {
     "name": "stderr",
     "output_type": "stream",
     "text": [
      "Processing: 100%|███████████████████████████████████████████████████████████████████████████████████████████████████████████████████████████████████| 45/45 [00:16<00:00,  2.73item/s]\n"
     ]
    },
    {
     "name": "stdout",
     "output_type": "stream",
     "text": [
      "-----Retrieving Simulation (period) CHELSA data for variable 'bio18'-----\n"
     ]
    },
    {
     "name": "stderr",
     "output_type": "stream",
     "text": [
      "Processing: 100%|███████████████████████████████████████████████████████████████████████████████████████████████████████████████████████████████████| 45/45 [00:16<00:00,  2.68item/s]\n"
     ]
    },
    {
     "name": "stdout",
     "output_type": "stream",
     "text": [
      "-----Retrieving Simulation (period) CHELSA data for variable 'bio19'-----\n"
     ]
    },
    {
     "name": "stderr",
     "output_type": "stream",
     "text": [
      "Processing: 100%|███████████████████████████████████████████████████████████████████████████████████████████████████████████████████████████████████| 45/45 [00:16<00:00,  2.69item/s]\n"
     ]
    },
    {
     "name": "stdout",
     "output_type": "stream",
     "text": [
      "-----Retrieving Simulation (period) CHELSA data for variable 'bio1'-----\n"
     ]
    },
    {
     "name": "stderr",
     "output_type": "stream",
     "text": [
      "Processing: 100%|███████████████████████████████████████████████████████████████████████████████████████████████████████████████████████████████████| 45/45 [00:16<00:00,  2.69item/s]\n"
     ]
    },
    {
     "name": "stdout",
     "output_type": "stream",
     "text": [
      "-----Retrieving Simulation (period) CHELSA data for variable 'bio2'-----\n"
     ]
    },
    {
     "name": "stderr",
     "output_type": "stream",
     "text": [
      "Processing: 100%|███████████████████████████████████████████████████████████████████████████████████████████████████████████████████████████████████| 45/45 [00:14<00:00,  3.08item/s]\n"
     ]
    },
    {
     "name": "stdout",
     "output_type": "stream",
     "text": [
      "-----Retrieving Simulation (period) CHELSA data for variable 'bio3'-----\n"
     ]
    },
    {
     "name": "stderr",
     "output_type": "stream",
     "text": [
      "Processing: 100%|███████████████████████████████████████████████████████████████████████████████████████████████████████████████████████████████████| 45/45 [00:19<00:00,  2.31item/s]\n"
     ]
    },
    {
     "name": "stdout",
     "output_type": "stream",
     "text": [
      "-----Retrieving Simulation (period) CHELSA data for variable 'bio4'-----\n"
     ]
    },
    {
     "name": "stderr",
     "output_type": "stream",
     "text": [
      "Processing: 100%|███████████████████████████████████████████████████████████████████████████████████████████████████████████████████████████████████| 45/45 [00:16<00:00,  2.78item/s]\n"
     ]
    },
    {
     "name": "stdout",
     "output_type": "stream",
     "text": [
      "-----Retrieving Simulation (period) CHELSA data for variable 'bio5'-----\n"
     ]
    },
    {
     "name": "stderr",
     "output_type": "stream",
     "text": [
      "Processing: 100%|███████████████████████████████████████████████████████████████████████████████████████████████████████████████████████████████████| 45/45 [00:15<00:00,  2.87item/s]\n"
     ]
    },
    {
     "name": "stdout",
     "output_type": "stream",
     "text": [
      "-----Retrieving Simulation (period) CHELSA data for variable 'bio6'-----\n"
     ]
    },
    {
     "name": "stderr",
     "output_type": "stream",
     "text": [
      "Processing: 100%|███████████████████████████████████████████████████████████████████████████████████████████████████████████████████████████████████| 45/45 [00:15<00:00,  2.94item/s]\n"
     ]
    },
    {
     "name": "stdout",
     "output_type": "stream",
     "text": [
      "-----Retrieving Simulation (period) CHELSA data for variable 'bio7'-----\n"
     ]
    },
    {
     "name": "stderr",
     "output_type": "stream",
     "text": [
      "Processing: 100%|███████████████████████████████████████████████████████████████████████████████████████████████████████████████████████████████████| 45/45 [00:15<00:00,  2.88item/s]\n"
     ]
    },
    {
     "name": "stdout",
     "output_type": "stream",
     "text": [
      "-----Retrieving Simulation (period) CHELSA data for variable 'bio8'-----\n"
     ]
    },
    {
     "name": "stderr",
     "output_type": "stream",
     "text": [
      "Processing: 100%|███████████████████████████████████████████████████████████████████████████████████████████████████████████████████████████████████| 45/45 [00:16<00:00,  2.71item/s]\n"
     ]
    },
    {
     "name": "stdout",
     "output_type": "stream",
     "text": [
      "-----Retrieving Simulation (period) CHELSA data for variable 'bio9'-----\n"
     ]
    },
    {
     "name": "stderr",
     "output_type": "stream",
     "text": [
      "Processing: 100%|███████████████████████████████████████████████████████████████████████████████████████████████████████████████████████████████████| 45/45 [00:15<00:00,  2.87item/s]\n"
     ]
    },
    {
     "name": "stdout",
     "output_type": "stream",
     "text": [
      "-----Retrieving Simulation (period) CHELSA data for variable 'fcf'-----\n"
     ]
    },
    {
     "name": "stderr",
     "output_type": "stream",
     "text": [
      "Processing: 100%|███████████████████████████████████████████████████████████████████████████████████████████████████████████████████████████████████| 45/45 [00:15<00:00,  2.97item/s]\n"
     ]
    },
    {
     "name": "stdout",
     "output_type": "stream",
     "text": [
      "-----Retrieving Simulation (period) CHELSA data for variable 'fgd'-----\n"
     ]
    },
    {
     "name": "stderr",
     "output_type": "stream",
     "text": [
      "Processing: 100%|███████████████████████████████████████████████████████████████████████████████████████████████████████████████████████████████████| 45/45 [00:15<00:00,  2.89item/s]\n"
     ]
    },
    {
     "name": "stdout",
     "output_type": "stream",
     "text": [
      "-----Retrieving Simulation (period) CHELSA data for variable 'gdd0'-----\n"
     ]
    },
    {
     "name": "stderr",
     "output_type": "stream",
     "text": [
      "Processing: 100%|███████████████████████████████████████████████████████████████████████████████████████████████████████████████████████████████████| 45/45 [00:17<00:00,  2.60item/s]\n"
     ]
    },
    {
     "name": "stdout",
     "output_type": "stream",
     "text": [
      "-----Retrieving Simulation (period) CHELSA data for variable 'gdd10'-----\n"
     ]
    },
    {
     "name": "stderr",
     "output_type": "stream",
     "text": [
      "Processing: 100%|███████████████████████████████████████████████████████████████████████████████████████████████████████████████████████████████████| 45/45 [00:17<00:00,  2.60item/s]\n"
     ]
    },
    {
     "name": "stdout",
     "output_type": "stream",
     "text": [
      "-----Retrieving Simulation (period) CHELSA data for variable 'gdd5'-----\n"
     ]
    },
    {
     "name": "stderr",
     "output_type": "stream",
     "text": [
      "Processing: 100%|███████████████████████████████████████████████████████████████████████████████████████████████████████████████████████████████████| 45/45 [00:17<00:00,  2.63item/s]\n"
     ]
    },
    {
     "name": "stdout",
     "output_type": "stream",
     "text": [
      "-----Retrieving Simulation (period) CHELSA data for variable 'gddlgd0'-----\n"
     ]
    },
    {
     "name": "stderr",
     "output_type": "stream",
     "text": [
      "Processing: 100%|███████████████████████████████████████████████████████████████████████████████████████████████████████████████████████████████████| 45/45 [00:15<00:00,  2.96item/s]\n"
     ]
    },
    {
     "name": "stdout",
     "output_type": "stream",
     "text": [
      "-----Retrieving Simulation (period) CHELSA data for variable 'gddlgd10'-----\n"
     ]
    },
    {
     "name": "stderr",
     "output_type": "stream",
     "text": [
      "Processing: 100%|███████████████████████████████████████████████████████████████████████████████████████████████████████████████████████████████████| 45/45 [00:15<00:00,  2.93item/s]\n"
     ]
    },
    {
     "name": "stdout",
     "output_type": "stream",
     "text": [
      "-----Retrieving Simulation (period) CHELSA data for variable 'gddlgd5'-----\n"
     ]
    },
    {
     "name": "stderr",
     "output_type": "stream",
     "text": [
      "Processing: 100%|███████████████████████████████████████████████████████████████████████████████████████████████████████████████████████████████████| 45/45 [00:16<00:00,  2.75item/s]\n"
     ]
    },
    {
     "name": "stdout",
     "output_type": "stream",
     "text": [
      "-----Retrieving Simulation (period) CHELSA data for variable 'gdgfgd0'-----\n"
     ]
    },
    {
     "name": "stderr",
     "output_type": "stream",
     "text": [
      "Processing: 100%|███████████████████████████████████████████████████████████████████████████████████████████████████████████████████████████████████| 45/45 [00:15<00:00,  2.92item/s]\n"
     ]
    },
    {
     "name": "stdout",
     "output_type": "stream",
     "text": [
      "-----Retrieving Simulation (period) CHELSA data for variable 'gdgfgd10'-----\n"
     ]
    },
    {
     "name": "stderr",
     "output_type": "stream",
     "text": [
      "Processing: 100%|███████████████████████████████████████████████████████████████████████████████████████████████████████████████████████████████████| 45/45 [00:18<00:00,  2.41item/s]\n"
     ]
    },
    {
     "name": "stdout",
     "output_type": "stream",
     "text": [
      "-----Retrieving Simulation (period) CHELSA data for variable 'gdgfgd5'-----\n"
     ]
    },
    {
     "name": "stderr",
     "output_type": "stream",
     "text": [
      "Processing: 100%|███████████████████████████████████████████████████████████████████████████████████████████████████████████████████████████████████| 45/45 [00:16<00:00,  2.77item/s]\n"
     ]
    },
    {
     "name": "stdout",
     "output_type": "stream",
     "text": [
      "-----Retrieving Simulation (period) CHELSA data for variable 'gsl'-----\n"
     ]
    },
    {
     "name": "stderr",
     "output_type": "stream",
     "text": [
      "Processing: 100%|███████████████████████████████████████████████████████████████████████████████████████████████████████████████████████████████████| 45/45 [00:17<00:00,  2.61item/s]\n"
     ]
    },
    {
     "name": "stdout",
     "output_type": "stream",
     "text": [
      "-----Retrieving Simulation (period) CHELSA data for variable 'gsp'-----\n"
     ]
    },
    {
     "name": "stderr",
     "output_type": "stream",
     "text": [
      "Processing: 100%|███████████████████████████████████████████████████████████████████████████████████████████████████████████████████████████████████| 45/45 [00:17<00:00,  2.51item/s]\n"
     ]
    },
    {
     "name": "stdout",
     "output_type": "stream",
     "text": [
      "-----Retrieving Simulation (period) CHELSA data for variable 'gst'-----\n"
     ]
    },
    {
     "name": "stderr",
     "output_type": "stream",
     "text": [
      "Processing: 100%|███████████████████████████████████████████████████████████████████████████████████████████████████████████████████████████████████| 45/45 [00:15<00:00,  2.86item/s]\n"
     ]
    },
    {
     "name": "stdout",
     "output_type": "stream",
     "text": [
      "-----Retrieving Simulation (period) CHELSA data for variable 'kg0'-----\n"
     ]
    },
    {
     "name": "stderr",
     "output_type": "stream",
     "text": [
      "Processing: 100%|███████████████████████████████████████████████████████████████████████████████████████████████████████████████████████████████████| 45/45 [00:15<00:00,  2.97item/s]\n"
     ]
    },
    {
     "name": "stdout",
     "output_type": "stream",
     "text": [
      "-----Retrieving Simulation (period) CHELSA data for variable 'kg1'-----\n"
     ]
    },
    {
     "name": "stderr",
     "output_type": "stream",
     "text": [
      "Processing: 100%|███████████████████████████████████████████████████████████████████████████████████████████████████████████████████████████████████| 45/45 [00:15<00:00,  2.95item/s]\n"
     ]
    },
    {
     "name": "stdout",
     "output_type": "stream",
     "text": [
      "-----Retrieving Simulation (period) CHELSA data for variable 'kg2'-----\n"
     ]
    },
    {
     "name": "stderr",
     "output_type": "stream",
     "text": [
      "Processing: 100%|███████████████████████████████████████████████████████████████████████████████████████████████████████████████████████████████████| 45/45 [00:14<00:00,  3.06item/s]\n"
     ]
    },
    {
     "name": "stdout",
     "output_type": "stream",
     "text": [
      "-----Retrieving Simulation (period) CHELSA data for variable 'kg3'-----\n"
     ]
    },
    {
     "name": "stderr",
     "output_type": "stream",
     "text": [
      "Processing: 100%|███████████████████████████████████████████████████████████████████████████████████████████████████████████████████████████████████| 45/45 [00:14<00:00,  3.16item/s]\n"
     ]
    },
    {
     "name": "stdout",
     "output_type": "stream",
     "text": [
      "-----Retrieving Simulation (period) CHELSA data for variable 'kg4'-----\n"
     ]
    },
    {
     "name": "stderr",
     "output_type": "stream",
     "text": [
      "Processing: 100%|███████████████████████████████████████████████████████████████████████████████████████████████████████████████████████████████████| 45/45 [00:15<00:00,  2.93item/s]\n"
     ]
    },
    {
     "name": "stdout",
     "output_type": "stream",
     "text": [
      "-----Retrieving Simulation (period) CHELSA data for variable 'kg5'-----\n"
     ]
    },
    {
     "name": "stderr",
     "output_type": "stream",
     "text": [
      "Processing: 100%|███████████████████████████████████████████████████████████████████████████████████████████████████████████████████████████████████| 45/45 [00:14<00:00,  3.08item/s]\n"
     ]
    },
    {
     "name": "stdout",
     "output_type": "stream",
     "text": [
      "-----Retrieving Simulation (period) CHELSA data for variable 'lgd'-----\n"
     ]
    },
    {
     "name": "stderr",
     "output_type": "stream",
     "text": [
      "Processing: 100%|███████████████████████████████████████████████████████████████████████████████████████████████████████████████████████████████████| 45/45 [00:15<00:00,  2.90item/s]\n"
     ]
    },
    {
     "name": "stdout",
     "output_type": "stream",
     "text": [
      "-----Retrieving Simulation (period) CHELSA data for variable 'ngd0'-----\n"
     ]
    },
    {
     "name": "stderr",
     "output_type": "stream",
     "text": [
      "Processing: 100%|███████████████████████████████████████████████████████████████████████████████████████████████████████████████████████████████████| 45/45 [00:15<00:00,  2.86item/s]\n"
     ]
    },
    {
     "name": "stdout",
     "output_type": "stream",
     "text": [
      "-----Retrieving Simulation (period) CHELSA data for variable 'ngd10'-----\n"
     ]
    },
    {
     "name": "stderr",
     "output_type": "stream",
     "text": [
      "Processing: 100%|███████████████████████████████████████████████████████████████████████████████████████████████████████████████████████████████████| 45/45 [00:15<00:00,  2.96item/s]\n"
     ]
    },
    {
     "name": "stdout",
     "output_type": "stream",
     "text": [
      "-----Retrieving Simulation (period) CHELSA data for variable 'ngd5'-----\n"
     ]
    },
    {
     "name": "stderr",
     "output_type": "stream",
     "text": [
      "Processing: 100%|███████████████████████████████████████████████████████████████████████████████████████████████████████████████████████████████████| 45/45 [00:15<00:00,  2.90item/s]\n"
     ]
    },
    {
     "name": "stdout",
     "output_type": "stream",
     "text": [
      "-----Retrieving Simulation (period) CHELSA data for variable 'npp'-----\n"
     ]
    },
    {
     "name": "stderr",
     "output_type": "stream",
     "text": [
      "Processing: 100%|███████████████████████████████████████████████████████████████████████████████████████████████████████████████████████████████████| 45/45 [00:16<00:00,  2.70item/s]\n"
     ]
    },
    {
     "name": "stdout",
     "output_type": "stream",
     "text": [
      "-----Retrieving Simulation (period) CHELSA data for variable 'scd'-----\n"
     ]
    },
    {
     "name": "stderr",
     "output_type": "stream",
     "text": [
      "Processing: 100%|███████████████████████████████████████████████████████████████████████████████████████████████████████████████████████████████████| 45/45 [00:15<00:00,  2.84item/s]\n"
     ]
    },
    {
     "name": "stdout",
     "output_type": "stream",
     "text": [
      "-----Retrieving Simulation (period) CHELSA data for variable 'swe'-----\n"
     ]
    },
    {
     "name": "stderr",
     "output_type": "stream",
     "text": [
      "Processing: 100%|███████████████████████████████████████████████████████████████████████████████████████████████████████████████████████████████████| 45/45 [00:16<00:00,  2.73item/s]\n"
     ]
    },
    {
     "name": "stdout",
     "output_type": "stream",
     "text": [
      "-----Retrieving Simulation (monthly) CHELSA data for variable 'pr'-----\n"
     ]
    },
    {
     "name": "stderr",
     "output_type": "stream",
     "text": [
      "Processing: 100%|█████████████████████████████████████████████████████████████████████████████████████████████████████████████████████████████████| 540/540 [03:47<00:00,  2.37item/s]\n"
     ]
    },
    {
     "name": "stdout",
     "output_type": "stream",
     "text": [
      "-----Retrieving Simulation (monthly) CHELSA data for variable 'tas'-----\n"
     ]
    },
    {
     "name": "stderr",
     "output_type": "stream",
     "text": [
      "Processing: 100%|█████████████████████████████████████████████████████████████████████████████████████████████████████████████████████████████████| 540/540 [03:37<00:00,  2.49item/s]\n"
     ]
    },
    {
     "name": "stdout",
     "output_type": "stream",
     "text": [
      "-----Retrieving Simulation (monthly) CHELSA data for variable 'tasmax'-----\n"
     ]
    },
    {
     "name": "stderr",
     "output_type": "stream",
     "text": [
      "Processing: 100%|█████████████████████████████████████████████████████████████████████████████████████████████████████████████████████████████████| 540/540 [03:35<00:00,  2.51item/s]\n"
     ]
    },
    {
     "name": "stdout",
     "output_type": "stream",
     "text": [
      "-----Retrieving Simulation (monthly) CHELSA data for variable 'tasmin'-----\n"
     ]
    },
    {
     "name": "stderr",
     "output_type": "stream",
     "text": [
      "Processing: 100%|█████████████████████████████████████████████████████████████████████████████████████████████████████████████████████████████████| 540/540 [03:39<00:00,  2.46item/s]\n"
     ]
    }
   ],
   "source": [
    "bmd_cube.generate_bmd_data(param_file, param_path)"
   ]
  },
  {
   "cell_type": "code",
   "execution_count": 29,
   "id": "949eddfe-cd3c-4ab0-a425-928578cd78bc",
   "metadata": {},
   "outputs": [
    {
     "data": {
      "text/plain": [
       "<cube.bmd.bmd_cube at 0x20cd6d61d90>"
      ]
     },
     "execution_count": 29,
     "metadata": {},
     "output_type": "execute_result"
    }
   ],
   "source": [
    "bmd_cube"
   ]
  },
  {
   "cell_type": "code",
   "execution_count": 30,
   "id": "788b7c98-16d4-4dd9-9e6c-72d741b9ad5c",
   "metadata": {},
   "outputs": [
    {
     "data": {
      "text/plain": [
       "{'static': [<xarray.Dataset> Size: 299kB\n",
       "  Dimensions:           (lat: 23, long: 69)\n",
       "  Coordinates:\n",
       "    * lat               (lat) float64 184B 50.87 50.87 50.86 ... 50.71 50.7 50.69\n",
       "    * long              (long) float64 552B 4.176 4.184 4.192 ... 4.734 4.742\n",
       "  Data variables: (12/76)\n",
       "      ai                (lat, long) float32 6kB 1.18 1.183 1.185 ... 1.207 1.216\n",
       "      bio10             (lat, long) uint16 3kB 2906 2905 2905 ... 2902 2902 2901\n",
       "      bio11             (lat, long) uint16 3kB 2769 2769 2769 ... 2763 2763 2763\n",
       "      bio12             (lat, long) uint16 3kB 8432 8445 8464 ... 8468 8510 8557\n",
       "      bio13             (lat, long) uint16 3kB 795 796 798 801 ... 786 788 792 795\n",
       "      bio14             (lat, long) uint16 3kB 499 500 502 504 ... 511 513 516 519\n",
       "      ...                ...\n",
       "      swb               (lat, long) int16 3kB -6 -38 -59 -47 ... -54 -63 -72 -76\n",
       "      swe               (lat, long) uint16 3kB 65535 65535 65535 ... 65535 65535\n",
       "      vpd_max           (lat, long) uint16 3kB 8349 8340 8336 ... 8033 7983 7955\n",
       "      vpd_mean          (lat, long) uint16 3kB 5056 5050 5046 ... 4826 4799 4779\n",
       "      vpd_min           (lat, long) uint16 3kB 2546 2542 2539 ... 2411 2398 2387\n",
       "      vpd_range         (lat, long) uint16 3kB 5803 5798 5797 ... 5622 5585 5568,\n",
       "  <xarray.Dataset> Size: 534kB\n",
       "  Dimensions:  (months: 12, lat: 23, long: 69)\n",
       "  Coordinates:\n",
       "    * months   (months) int64 96B 1 2 3 4 5 6 7 8 9 10 11 12\n",
       "    * lat      (lat) float64 184B 50.87 50.87 50.86 50.85 ... 50.71 50.7 50.69\n",
       "    * long     (long) float64 552B 4.176 4.184 4.192 4.201 ... 4.726 4.734 4.742\n",
       "  Data variables:\n",
       "      clt      (months, lat, long) float64 152kB 5.172e+03 5.172e+03 ... 5.64e+03\n",
       "      cmi      (months, lat, long) int16 38kB 499 466 444 459 ... 519 509 494 488\n",
       "      hurs     (months, lat, long) uint16 38kB 6769 6770 6773 ... 6956 6964 6972\n",
       "      pet      (months, lat, long) uint16 38kB 2049 2396 2640 ... 2445 2629 2727\n",
       "      pr       (months, lat, long) uint16 38kB 737 739 741 744 ... 786 788 792 795\n",
       "      rsds     (months, lat, long) uint16 38kB 2945 2957 2973 ... 2259 2253 2245\n",
       "      sfcWind  (months, lat, long) uint16 38kB 4337 4848 5124 ... 5107 5415 5604\n",
       "      tas      (months, lat, long) uint16 38kB 2766 2766 2766 ... 2767 2766 2766\n",
       "      tasmax   (months, lat, long) uint16 38kB 2790 2790 2789 ... 2789 2788 2788\n",
       "      tasmin   (months, lat, long) uint16 38kB 2740 2740 2740 ... 2744 2744 2744\n",
       "      vpd      (months, lat, long) uint16 38kB 2557 2554 2552 ... 2411 2398 2387,\n",
       "  <xarray.Dataset> Size: 7MB\n",
       "  Dimensions:          (year_range: 3, model_name: 5, ensemble_member: 3,\n",
       "                        lat: 23, long: 69)\n",
       "  Coordinates:\n",
       "    * year_range       (year_range) <U9 108B '2011-2040' '2041-2070' '2071-2100'\n",
       "    * model_name       (model_name) <U13 260B 'gfdl-esm4' ... 'ukesm1-0-ll'\n",
       "    * ensemble_member  (ensemble_member) <U6 72B 'ssp126' 'ssp370' 'ssp585'\n",
       "    * lat              (lat) float64 184B 50.87 50.87 50.86 ... 50.71 50.7 50.69\n",
       "    * long             (long) float64 552B 4.176 4.184 4.192 ... 4.726 4.734 4.742\n",
       "  Data variables: (12/46)\n",
       "      bio10            (year_range, model_name, ensemble_member, lat, long) uint16 143kB ...\n",
       "      bio11            (year_range, model_name, ensemble_member, lat, long) uint16 143kB ...\n",
       "      bio12            (year_range, model_name, ensemble_member, lat, long) uint16 143kB ...\n",
       "      bio13            (year_range, model_name, ensemble_member, lat, long) uint16 143kB ...\n",
       "      bio14            (year_range, model_name, ensemble_member, lat, long) uint16 143kB ...\n",
       "      bio15            (year_range, model_name, ensemble_member, lat, long) uint16 143kB ...\n",
       "      ...               ...\n",
       "      ngd0             (year_range, model_name, ensemble_member, lat, long) uint16 143kB ...\n",
       "      ngd10            (year_range, model_name, ensemble_member, lat, long) uint16 143kB ...\n",
       "      ngd5             (year_range, model_name, ensemble_member, lat, long) uint16 143kB ...\n",
       "      npp              (year_range, model_name, ensemble_member, lat, long) uint16 143kB ...\n",
       "      scd              (year_range, model_name, ensemble_member, lat, long) uint16 143kB ...\n",
       "      swe              (year_range, model_name, ensemble_member, lat, long) uint16 143kB ...,\n",
       "  <xarray.Dataset> Size: 7MB\n",
       "  Dimensions:          (year_range: 3, month: 12, model_name: 5,\n",
       "                        ensemble_member: 3, lat: 23, long: 69)\n",
       "  Coordinates:\n",
       "    * year_range       (year_range) <U9 108B '2011-2040' '2041-2070' '2071-2100'\n",
       "    * month            (month) int64 96B 1 2 3 4 5 6 7 8 9 10 11 12\n",
       "    * model_name       (model_name) <U13 260B 'gfdl-esm4' ... 'ukesm1-0-ll'\n",
       "    * ensemble_member  (ensemble_member) <U6 72B 'ssp126' 'ssp370' 'ssp585'\n",
       "    * lat              (lat) float64 184B 50.87 50.87 50.86 ... 50.71 50.7 50.69\n",
       "    * long             (long) float64 552B 4.176 4.184 4.192 ... 4.726 4.734 4.742\n",
       "  Data variables:\n",
       "      pr               (year_range, month, model_name, ensemble_member, lat, long) uint16 2MB ...\n",
       "      tas              (year_range, month, model_name, ensemble_member, lat, long) uint16 2MB ...\n",
       "      tasmax           (year_range, month, model_name, ensemble_member, lat, long) uint16 2MB ...\n",
       "      tasmin           (year_range, month, model_name, ensemble_member, lat, long) uint16 2MB ...],\n",
       " 'dynamic': [<xarray.Dataset> Size: 30MB\n",
       "  Dimensions:  (time: 479, lat: 23, long: 69)\n",
       "  Coordinates:\n",
       "    * time     (time) datetime64[ns] 4kB 1979-02-01 1979-03-01 ... 2018-12-01\n",
       "    * lat      (lat) float64 184B 50.87 50.87 50.86 50.85 ... 50.71 50.7 50.69\n",
       "    * long     (long) float64 552B 4.176 4.184 4.192 4.201 ... 4.726 4.734 4.742\n",
       "  Data variables:\n",
       "      clt      (time, lat, long) float64 6MB 6.012e+03 6.012e+03 ... 5.363e+03\n",
       "      cmi      (time, lat, long) int16 2MB 242 221 207 215 220 ... 349 335 311 299\n",
       "      hurs     (time, lat, long) uint16 2MB 6653 6657 6662 6669 ... 6865 6863 6864\n",
       "      pet      (time, lat, long) uint16 2MB 2149 2356 2499 2436 ... 2803 3031 3144\n",
       "      pr       (time, lat, long) int64 6MB 4565 4568 4573 4589 ... 6149 6139 6132\n",
       "      rsds     (time, lat, long) uint16 2MB 5665 5681 5704 5726 ... 2238 2233 2225\n",
       "      sfcWind  (time, lat, long) uint16 2MB 3381 3778 3991 3886 ... 5239 5555 5751\n",
       "      tas      (time, lat, long) int32 3MB 2737 2737 2737 2737 ... 2787 2787 2786\n",
       "      tasmax   (time, lat, long) int32 3MB 2768 2768 2768 2768 ... 2809 2809 2808\n",
       "      tasmin   (time, lat, long) int32 3MB 2709 2709 2709 2709 ... 2762 2762 2761\n",
       "      vpd      (time, lat, long) uint16 2MB 2129 2126 2123 2119 ... 2839 2841 2821,\n",
       "  <xarray.Dataset> Size: 2MB\n",
       "  Dimensions:      (specieskey: 140, genuskey: 110, familykey: 60, classkey: 8,\n",
       "                    eeacellcode: 1047, time: 488)\n",
       "  Coordinates:\n",
       "    * specieskey   (specieskey) int64 1kB 2432427 2432452 ... 9752617 11071158\n",
       "    * genuskey     (genuskey) int64 880B 2432384 2475493 ... 10792217 11086674\n",
       "    * familykey    (familykey) int64 480B 2407 2410 2416 ... 4408414 6101019\n",
       "    * classkey     (classkey) float64 64B 194.0 196.0 212.0 ... 359.0 7.229e+06\n",
       "    * eeacellcode  (eeacellcode) object 8kB '1kmE3907N3097' ... '1kmE3954N3100'\n",
       "    * time         (time) datetime64[ns] 4kB 1980-01-01 1980-02-01 ... 2020-12-01\n",
       "  Data variables:\n",
       "      occurrences  (specieskey, genuskey, familykey, classkey, eeacellcode, time) int64 2MB <COO: nnz=99549, fill_value=0>]}"
      ]
     },
     "execution_count": 30,
     "metadata": {},
     "output_type": "execute_result"
    }
   ],
   "source": [
    "bmd_cube.groups"
   ]
  },
  {
   "cell_type": "code",
   "execution_count": 31,
   "id": "08be9e6f-3505-4c3b-9a76-0b4473891edc",
   "metadata": {},
   "outputs": [
    {
     "data": {
      "text/html": [
       "<div><svg style=\"position: absolute; width: 0; height: 0; overflow: hidden\">\n",
       "<defs>\n",
       "<symbol id=\"icon-database\" viewBox=\"0 0 32 32\">\n",
       "<path d=\"M16 0c-8.837 0-16 2.239-16 5v4c0 2.761 7.163 5 16 5s16-2.239 16-5v-4c0-2.761-7.163-5-16-5z\"></path>\n",
       "<path d=\"M16 17c-8.837 0-16-2.239-16-5v6c0 2.761 7.163 5 16 5s16-2.239 16-5v-6c0 2.761-7.163 5-16 5z\"></path>\n",
       "<path d=\"M16 26c-8.837 0-16-2.239-16-5v6c0 2.761 7.163 5 16 5s16-2.239 16-5v-6c0 2.761-7.163 5-16 5z\"></path>\n",
       "</symbol>\n",
       "<symbol id=\"icon-file-text2\" viewBox=\"0 0 32 32\">\n",
       "<path d=\"M28.681 7.159c-0.694-0.947-1.662-2.053-2.724-3.116s-2.169-2.030-3.116-2.724c-1.612-1.182-2.393-1.319-2.841-1.319h-15.5c-1.378 0-2.5 1.121-2.5 2.5v27c0 1.378 1.122 2.5 2.5 2.5h23c1.378 0 2.5-1.122 2.5-2.5v-19.5c0-0.448-0.137-1.23-1.319-2.841zM24.543 5.457c0.959 0.959 1.712 1.825 2.268 2.543h-4.811v-4.811c0.718 0.556 1.584 1.309 2.543 2.268zM28 29.5c0 0.271-0.229 0.5-0.5 0.5h-23c-0.271 0-0.5-0.229-0.5-0.5v-27c0-0.271 0.229-0.5 0.5-0.5 0 0 15.499-0 15.5 0v7c0 0.552 0.448 1 1 1h7v19.5z\"></path>\n",
       "<path d=\"M23 26h-14c-0.552 0-1-0.448-1-1s0.448-1 1-1h14c0.552 0 1 0.448 1 1s-0.448 1-1 1z\"></path>\n",
       "<path d=\"M23 22h-14c-0.552 0-1-0.448-1-1s0.448-1 1-1h14c0.552 0 1 0.448 1 1s-0.448 1-1 1z\"></path>\n",
       "<path d=\"M23 18h-14c-0.552 0-1-0.448-1-1s0.448-1 1-1h14c0.552 0 1 0.448 1 1s-0.448 1-1 1z\"></path>\n",
       "</symbol>\n",
       "</defs>\n",
       "</svg>\n",
       "<style>/* CSS stylesheet for displaying xarray objects in jupyterlab.\n",
       " *\n",
       " */\n",
       "\n",
       ":root {\n",
       "  --xr-font-color0: var(--jp-content-font-color0, rgba(0, 0, 0, 1));\n",
       "  --xr-font-color2: var(--jp-content-font-color2, rgba(0, 0, 0, 0.54));\n",
       "  --xr-font-color3: var(--jp-content-font-color3, rgba(0, 0, 0, 0.38));\n",
       "  --xr-border-color: var(--jp-border-color2, #e0e0e0);\n",
       "  --xr-disabled-color: var(--jp-layout-color3, #bdbdbd);\n",
       "  --xr-background-color: var(--jp-layout-color0, white);\n",
       "  --xr-background-color-row-even: var(--jp-layout-color1, white);\n",
       "  --xr-background-color-row-odd: var(--jp-layout-color2, #eeeeee);\n",
       "}\n",
       "\n",
       "html[theme=dark],\n",
       "html[data-theme=dark],\n",
       "body[data-theme=dark],\n",
       "body.vscode-dark {\n",
       "  --xr-font-color0: rgba(255, 255, 255, 1);\n",
       "  --xr-font-color2: rgba(255, 255, 255, 0.54);\n",
       "  --xr-font-color3: rgba(255, 255, 255, 0.38);\n",
       "  --xr-border-color: #1F1F1F;\n",
       "  --xr-disabled-color: #515151;\n",
       "  --xr-background-color: #111111;\n",
       "  --xr-background-color-row-even: #111111;\n",
       "  --xr-background-color-row-odd: #313131;\n",
       "}\n",
       "\n",
       ".xr-wrap {\n",
       "  display: block !important;\n",
       "  min-width: 300px;\n",
       "  max-width: 700px;\n",
       "}\n",
       "\n",
       ".xr-text-repr-fallback {\n",
       "  /* fallback to plain text repr when CSS is not injected (untrusted notebook) */\n",
       "  display: none;\n",
       "}\n",
       "\n",
       ".xr-header {\n",
       "  padding-top: 6px;\n",
       "  padding-bottom: 6px;\n",
       "  margin-bottom: 4px;\n",
       "  border-bottom: solid 1px var(--xr-border-color);\n",
       "}\n",
       "\n",
       ".xr-header > div,\n",
       ".xr-header > ul {\n",
       "  display: inline;\n",
       "  margin-top: 0;\n",
       "  margin-bottom: 0;\n",
       "}\n",
       "\n",
       ".xr-obj-type,\n",
       ".xr-array-name {\n",
       "  margin-left: 2px;\n",
       "  margin-right: 10px;\n",
       "}\n",
       "\n",
       ".xr-obj-type {\n",
       "  color: var(--xr-font-color2);\n",
       "}\n",
       "\n",
       ".xr-sections {\n",
       "  padding-left: 0 !important;\n",
       "  display: grid;\n",
       "  grid-template-columns: 150px auto auto 1fr 20px 20px;\n",
       "}\n",
       "\n",
       ".xr-section-item {\n",
       "  display: contents;\n",
       "}\n",
       "\n",
       ".xr-section-item input {\n",
       "  display: none;\n",
       "}\n",
       "\n",
       ".xr-section-item input + label {\n",
       "  color: var(--xr-disabled-color);\n",
       "}\n",
       "\n",
       ".xr-section-item input:enabled + label {\n",
       "  cursor: pointer;\n",
       "  color: var(--xr-font-color2);\n",
       "}\n",
       "\n",
       ".xr-section-item input:enabled + label:hover {\n",
       "  color: var(--xr-font-color0);\n",
       "}\n",
       "\n",
       ".xr-section-summary {\n",
       "  grid-column: 1;\n",
       "  color: var(--xr-font-color2);\n",
       "  font-weight: 500;\n",
       "}\n",
       "\n",
       ".xr-section-summary > span {\n",
       "  display: inline-block;\n",
       "  padding-left: 0.5em;\n",
       "}\n",
       "\n",
       ".xr-section-summary-in:disabled + label {\n",
       "  color: var(--xr-font-color2);\n",
       "}\n",
       "\n",
       ".xr-section-summary-in + label:before {\n",
       "  display: inline-block;\n",
       "  content: '►';\n",
       "  font-size: 11px;\n",
       "  width: 15px;\n",
       "  text-align: center;\n",
       "}\n",
       "\n",
       ".xr-section-summary-in:disabled + label:before {\n",
       "  color: var(--xr-disabled-color);\n",
       "}\n",
       "\n",
       ".xr-section-summary-in:checked + label:before {\n",
       "  content: '▼';\n",
       "}\n",
       "\n",
       ".xr-section-summary-in:checked + label > span {\n",
       "  display: none;\n",
       "}\n",
       "\n",
       ".xr-section-summary,\n",
       ".xr-section-inline-details {\n",
       "  padding-top: 4px;\n",
       "  padding-bottom: 4px;\n",
       "}\n",
       "\n",
       ".xr-section-inline-details {\n",
       "  grid-column: 2 / -1;\n",
       "}\n",
       "\n",
       ".xr-section-details {\n",
       "  display: none;\n",
       "  grid-column: 1 / -1;\n",
       "  margin-bottom: 5px;\n",
       "}\n",
       "\n",
       ".xr-section-summary-in:checked ~ .xr-section-details {\n",
       "  display: contents;\n",
       "}\n",
       "\n",
       ".xr-array-wrap {\n",
       "  grid-column: 1 / -1;\n",
       "  display: grid;\n",
       "  grid-template-columns: 20px auto;\n",
       "}\n",
       "\n",
       ".xr-array-wrap > label {\n",
       "  grid-column: 1;\n",
       "  vertical-align: top;\n",
       "}\n",
       "\n",
       ".xr-preview {\n",
       "  color: var(--xr-font-color3);\n",
       "}\n",
       "\n",
       ".xr-array-preview,\n",
       ".xr-array-data {\n",
       "  padding: 0 5px !important;\n",
       "  grid-column: 2;\n",
       "}\n",
       "\n",
       ".xr-array-data,\n",
       ".xr-array-in:checked ~ .xr-array-preview {\n",
       "  display: none;\n",
       "}\n",
       "\n",
       ".xr-array-in:checked ~ .xr-array-data,\n",
       ".xr-array-preview {\n",
       "  display: inline-block;\n",
       "}\n",
       "\n",
       ".xr-dim-list {\n",
       "  display: inline-block !important;\n",
       "  list-style: none;\n",
       "  padding: 0 !important;\n",
       "  margin: 0;\n",
       "}\n",
       "\n",
       ".xr-dim-list li {\n",
       "  display: inline-block;\n",
       "  padding: 0;\n",
       "  margin: 0;\n",
       "}\n",
       "\n",
       ".xr-dim-list:before {\n",
       "  content: '(';\n",
       "}\n",
       "\n",
       ".xr-dim-list:after {\n",
       "  content: ')';\n",
       "}\n",
       "\n",
       ".xr-dim-list li:not(:last-child):after {\n",
       "  content: ',';\n",
       "  padding-right: 5px;\n",
       "}\n",
       "\n",
       ".xr-has-index {\n",
       "  font-weight: bold;\n",
       "}\n",
       "\n",
       ".xr-var-list,\n",
       ".xr-var-item {\n",
       "  display: contents;\n",
       "}\n",
       "\n",
       ".xr-var-item > div,\n",
       ".xr-var-item label,\n",
       ".xr-var-item > .xr-var-name span {\n",
       "  background-color: var(--xr-background-color-row-even);\n",
       "  margin-bottom: 0;\n",
       "}\n",
       "\n",
       ".xr-var-item > .xr-var-name:hover span {\n",
       "  padding-right: 5px;\n",
       "}\n",
       "\n",
       ".xr-var-list > li:nth-child(odd) > div,\n",
       ".xr-var-list > li:nth-child(odd) > label,\n",
       ".xr-var-list > li:nth-child(odd) > .xr-var-name span {\n",
       "  background-color: var(--xr-background-color-row-odd);\n",
       "}\n",
       "\n",
       ".xr-var-name {\n",
       "  grid-column: 1;\n",
       "}\n",
       "\n",
       ".xr-var-dims {\n",
       "  grid-column: 2;\n",
       "}\n",
       "\n",
       ".xr-var-dtype {\n",
       "  grid-column: 3;\n",
       "  text-align: right;\n",
       "  color: var(--xr-font-color2);\n",
       "}\n",
       "\n",
       ".xr-var-preview {\n",
       "  grid-column: 4;\n",
       "}\n",
       "\n",
       ".xr-index-preview {\n",
       "  grid-column: 2 / 5;\n",
       "  color: var(--xr-font-color2);\n",
       "}\n",
       "\n",
       ".xr-var-name,\n",
       ".xr-var-dims,\n",
       ".xr-var-dtype,\n",
       ".xr-preview,\n",
       ".xr-attrs dt {\n",
       "  white-space: nowrap;\n",
       "  overflow: hidden;\n",
       "  text-overflow: ellipsis;\n",
       "  padding-right: 10px;\n",
       "}\n",
       "\n",
       ".xr-var-name:hover,\n",
       ".xr-var-dims:hover,\n",
       ".xr-var-dtype:hover,\n",
       ".xr-attrs dt:hover {\n",
       "  overflow: visible;\n",
       "  width: auto;\n",
       "  z-index: 1;\n",
       "}\n",
       "\n",
       ".xr-var-attrs,\n",
       ".xr-var-data,\n",
       ".xr-index-data {\n",
       "  display: none;\n",
       "  background-color: var(--xr-background-color) !important;\n",
       "  padding-bottom: 5px !important;\n",
       "}\n",
       "\n",
       ".xr-var-attrs-in:checked ~ .xr-var-attrs,\n",
       ".xr-var-data-in:checked ~ .xr-var-data,\n",
       ".xr-index-data-in:checked ~ .xr-index-data {\n",
       "  display: block;\n",
       "}\n",
       "\n",
       ".xr-var-data > table {\n",
       "  float: right;\n",
       "}\n",
       "\n",
       ".xr-var-name span,\n",
       ".xr-var-data,\n",
       ".xr-index-name div,\n",
       ".xr-index-data,\n",
       ".xr-attrs {\n",
       "  padding-left: 25px !important;\n",
       "}\n",
       "\n",
       ".xr-attrs,\n",
       ".xr-var-attrs,\n",
       ".xr-var-data,\n",
       ".xr-index-data {\n",
       "  grid-column: 1 / -1;\n",
       "}\n",
       "\n",
       "dl.xr-attrs {\n",
       "  padding: 0;\n",
       "  margin: 0;\n",
       "  display: grid;\n",
       "  grid-template-columns: 125px auto;\n",
       "}\n",
       "\n",
       ".xr-attrs dt,\n",
       ".xr-attrs dd {\n",
       "  padding: 0;\n",
       "  margin: 0;\n",
       "  float: left;\n",
       "  padding-right: 10px;\n",
       "  width: auto;\n",
       "}\n",
       "\n",
       ".xr-attrs dt {\n",
       "  font-weight: normal;\n",
       "  grid-column: 1;\n",
       "}\n",
       "\n",
       ".xr-attrs dt:hover span {\n",
       "  display: inline-block;\n",
       "  background: var(--xr-background-color);\n",
       "  padding-right: 10px;\n",
       "}\n",
       "\n",
       ".xr-attrs dd {\n",
       "  grid-column: 2;\n",
       "  white-space: pre-wrap;\n",
       "  word-break: break-all;\n",
       "}\n",
       "\n",
       ".xr-icon-database,\n",
       ".xr-icon-file-text2,\n",
       ".xr-no-icon {\n",
       "  display: inline-block;\n",
       "  vertical-align: middle;\n",
       "  width: 1em;\n",
       "  height: 1.5em !important;\n",
       "  stroke-width: 0;\n",
       "  stroke: currentColor;\n",
       "  fill: currentColor;\n",
       "}\n",
       "</style><pre class='xr-text-repr-fallback'>&lt;xarray.Dataset&gt; Size: 299kB\n",
       "Dimensions:           (lat: 23, long: 69)\n",
       "Coordinates:\n",
       "  * lat               (lat) float64 184B 50.87 50.87 50.86 ... 50.71 50.7 50.69\n",
       "  * long              (long) float64 552B 4.176 4.184 4.192 ... 4.734 4.742\n",
       "Data variables: (12/76)\n",
       "    ai                (lat, long) float32 6kB 1.18 1.183 1.185 ... 1.207 1.216\n",
       "    bio10             (lat, long) uint16 3kB 2906 2905 2905 ... 2902 2902 2901\n",
       "    bio11             (lat, long) uint16 3kB 2769 2769 2769 ... 2763 2763 2763\n",
       "    bio12             (lat, long) uint16 3kB 8432 8445 8464 ... 8468 8510 8557\n",
       "    bio13             (lat, long) uint16 3kB 795 796 798 801 ... 786 788 792 795\n",
       "    bio14             (lat, long) uint16 3kB 499 500 502 504 ... 511 513 516 519\n",
       "    ...                ...\n",
       "    swb               (lat, long) int16 3kB -6 -38 -59 -47 ... -54 -63 -72 -76\n",
       "    swe               (lat, long) uint16 3kB 65535 65535 65535 ... 65535 65535\n",
       "    vpd_max           (lat, long) uint16 3kB 8349 8340 8336 ... 8033 7983 7955\n",
       "    vpd_mean          (lat, long) uint16 3kB 5056 5050 5046 ... 4826 4799 4779\n",
       "    vpd_min           (lat, long) uint16 3kB 2546 2542 2539 ... 2411 2398 2387\n",
       "    vpd_range         (lat, long) uint16 3kB 5803 5798 5797 ... 5622 5585 5568</pre><div class='xr-wrap' style='display:none'><div class='xr-header'><div class='xr-obj-type'>xarray.Dataset</div></div><ul class='xr-sections'><li class='xr-section-item'><input id='section-b0ef0885-31a1-452b-8182-17150c2ec1d6' class='xr-section-summary-in' type='checkbox' disabled ><label for='section-b0ef0885-31a1-452b-8182-17150c2ec1d6' class='xr-section-summary'  title='Expand/collapse section'>Dimensions:</label><div class='xr-section-inline-details'><ul class='xr-dim-list'><li><span class='xr-has-index'>lat</span>: 23</li><li><span class='xr-has-index'>long</span>: 69</li></ul></div><div class='xr-section-details'></div></li><li class='xr-section-item'><input id='section-c78d3819-0b58-493b-b0a0-73c291c23766' class='xr-section-summary-in' type='checkbox'  checked><label for='section-c78d3819-0b58-493b-b0a0-73c291c23766' class='xr-section-summary' >Coordinates: <span>(2)</span></label><div class='xr-section-inline-details'></div><div class='xr-section-details'><ul class='xr-var-list'><li class='xr-var-item'><div class='xr-var-name'><span class='xr-has-index'>lat</span></div><div class='xr-var-dims'>(lat)</div><div class='xr-var-dtype'>float64</div><div class='xr-var-preview xr-preview'>50.87 50.87 50.86 ... 50.7 50.69</div><input id='attrs-4e52aeb8-f488-439b-8394-fe07c44cba7c' class='xr-var-attrs-in' type='checkbox' disabled><label for='attrs-4e52aeb8-f488-439b-8394-fe07c44cba7c' title='Show/Hide attributes'><svg class='icon xr-icon-file-text2'><use xlink:href='#icon-file-text2'></use></svg></label><input id='data-ae616fe3-7f5c-452c-a304-0752219823c5' class='xr-var-data-in' type='checkbox'><label for='data-ae616fe3-7f5c-452c-a304-0752219823c5' title='Show/Hide data repr'><svg class='icon xr-icon-database'><use xlink:href='#icon-database'></use></svg></label><div class='xr-var-attrs'><dl class='xr-attrs'></dl></div><div class='xr-var-data'><pre>array([50.873744, 50.865411, 50.857078, 50.848744, 50.840411, 50.832078,\n",
       "       50.823744, 50.815411, 50.807078, 50.798744, 50.790411, 50.782078,\n",
       "       50.773744, 50.765411, 50.757078, 50.748744, 50.740411, 50.732078,\n",
       "       50.723744, 50.715411, 50.707078, 50.698744, 50.690411])</pre></div></li><li class='xr-var-item'><div class='xr-var-name'><span class='xr-has-index'>long</span></div><div class='xr-var-dims'>(long)</div><div class='xr-var-dtype'>float64</div><div class='xr-var-preview xr-preview'>4.176 4.184 4.192 ... 4.734 4.742</div><input id='attrs-ba43edae-abf7-47f7-89e0-bdd8cffc6675' class='xr-var-attrs-in' type='checkbox' disabled><label for='attrs-ba43edae-abf7-47f7-89e0-bdd8cffc6675' title='Show/Hide attributes'><svg class='icon xr-icon-file-text2'><use xlink:href='#icon-file-text2'></use></svg></label><input id='data-4fbfd8a3-1350-498b-9152-6a8188b69a74' class='xr-var-data-in' type='checkbox'><label for='data-4fbfd8a3-1350-498b-9152-6a8188b69a74' title='Show/Hide data repr'><svg class='icon xr-icon-database'><use xlink:href='#icon-database'></use></svg></label><div class='xr-var-attrs'><dl class='xr-attrs'></dl></div><div class='xr-var-data'><pre>array([4.175538, 4.183871, 4.192204, 4.200538, 4.208871, 4.217204, 4.225538,\n",
       "       4.233871, 4.242204, 4.250538, 4.258871, 4.267204, 4.275538, 4.283871,\n",
       "       4.292204, 4.300538, 4.308871, 4.317204, 4.325538, 4.333871, 4.342204,\n",
       "       4.350538, 4.358871, 4.367204, 4.375538, 4.383871, 4.392204, 4.400538,\n",
       "       4.408871, 4.417204, 4.425538, 4.433871, 4.442204, 4.450538, 4.458871,\n",
       "       4.467204, 4.475538, 4.483871, 4.492204, 4.500538, 4.508871, 4.517204,\n",
       "       4.525538, 4.533871, 4.542204, 4.550538, 4.558871, 4.567204, 4.575538,\n",
       "       4.583871, 4.592204, 4.600538, 4.608871, 4.617204, 4.625538, 4.633871,\n",
       "       4.642204, 4.650538, 4.658871, 4.667204, 4.675538, 4.683871, 4.692204,\n",
       "       4.700538, 4.708871, 4.717204, 4.725538, 4.733871, 4.742204])</pre></div></li></ul></div></li><li class='xr-section-item'><input id='section-920ed3bc-7439-4fab-adc5-e9be944a5f18' class='xr-section-summary-in' type='checkbox'  ><label for='section-920ed3bc-7439-4fab-adc5-e9be944a5f18' class='xr-section-summary' >Data variables: <span>(76)</span></label><div class='xr-section-inline-details'></div><div class='xr-section-details'><ul class='xr-var-list'><li class='xr-var-item'><div class='xr-var-name'><span>ai</span></div><div class='xr-var-dims'>(lat, long)</div><div class='xr-var-dtype'>float32</div><div class='xr-var-preview xr-preview'>1.18 1.183 1.185 ... 1.207 1.216</div><input id='attrs-e40038fb-9365-4e05-821d-249e0303edca' class='xr-var-attrs-in' type='checkbox' ><label for='attrs-e40038fb-9365-4e05-821d-249e0303edca' title='Show/Hide attributes'><svg class='icon xr-icon-file-text2'><use xlink:href='#icon-file-text2'></use></svg></label><input id='data-ceb3ba89-5d80-4ebf-98de-e2fd0f9e01da' class='xr-var-data-in' type='checkbox'><label for='data-ceb3ba89-5d80-4ebf-98de-e2fd0f9e01da' title='Show/Hide data repr'><svg class='icon xr-icon-database'><use xlink:href='#icon-database'></use></svg></label><div class='xr-var-attrs'><dl class='xr-attrs'><dt><span>year_range :</span></dt><dd>1981-2010</dd></dl></div><div class='xr-var-data'><pre>array([[1.1801516, 1.1825533, 1.1854044, ..., 1.1370064, 1.1396879,\n",
       "        1.1454105],\n",
       "       [1.182465 , 1.1845295, 1.1850275, ..., 1.1446365, 1.1439524,\n",
       "        1.1458374],\n",
       "       [1.1895815, 1.1872861, 1.1878465, ..., 1.1580628, 1.1589353,\n",
       "        1.1604899],\n",
       "       ...,\n",
       "       [1.1737026, 1.1689979, 1.1673715, ..., 1.1851885, 1.1920822,\n",
       "        1.2051414],\n",
       "       [1.1665825, 1.1640605, 1.1579589, ..., 1.1936774, 1.1990119,\n",
       "        1.2093524],\n",
       "       [1.1584452, 1.1546044, 1.1537803, ..., 1.197191 , 1.2068577,\n",
       "        1.2157309]], shape=(23, 69), dtype=float32)</pre></div></li><li class='xr-var-item'><div class='xr-var-name'><span>bio10</span></div><div class='xr-var-dims'>(lat, long)</div><div class='xr-var-dtype'>uint16</div><div class='xr-var-preview xr-preview'>2906 2905 2905 ... 2902 2902 2901</div><input id='attrs-f15613c7-d35c-4769-9a09-c2486def0aca' class='xr-var-attrs-in' type='checkbox' ><label for='attrs-f15613c7-d35c-4769-9a09-c2486def0aca' title='Show/Hide attributes'><svg class='icon xr-icon-file-text2'><use xlink:href='#icon-file-text2'></use></svg></label><input id='data-61496520-7319-436d-b0b2-7952e34cea16' class='xr-var-data-in' type='checkbox'><label for='data-61496520-7319-436d-b0b2-7952e34cea16' title='Show/Hide data repr'><svg class='icon xr-icon-database'><use xlink:href='#icon-database'></use></svg></label><div class='xr-var-attrs'><dl class='xr-attrs'><dt><span>year_range :</span></dt><dd>1981-2010</dd></dl></div><div class='xr-var-data'><pre>array([[2906, 2905, 2905, ..., 2906, 2906, 2904],\n",
       "       [2905, 2905, 2905, ..., 2906, 2906, 2906],\n",
       "       [2905, 2905, 2905, ..., 2905, 2905, 2906],\n",
       "       ...,\n",
       "       [2903, 2904, 2904, ..., 2902, 2901, 2901],\n",
       "       [2904, 2904, 2905, ..., 2901, 2901, 2901],\n",
       "       [2905, 2905, 2905, ..., 2902, 2902, 2901]],\n",
       "      shape=(23, 69), dtype=uint16)</pre></div></li><li class='xr-var-item'><div class='xr-var-name'><span>bio11</span></div><div class='xr-var-dims'>(lat, long)</div><div class='xr-var-dtype'>uint16</div><div class='xr-var-preview xr-preview'>2769 2769 2769 ... 2763 2763 2763</div><input id='attrs-1d5a5b30-e3a1-4476-90d4-afdd87aaff39' class='xr-var-attrs-in' type='checkbox' ><label for='attrs-1d5a5b30-e3a1-4476-90d4-afdd87aaff39' title='Show/Hide attributes'><svg class='icon xr-icon-file-text2'><use xlink:href='#icon-file-text2'></use></svg></label><input id='data-fda273e5-653a-4ada-9096-6044a687ce08' class='xr-var-data-in' type='checkbox'><label for='data-fda273e5-653a-4ada-9096-6044a687ce08' title='Show/Hide data repr'><svg class='icon xr-icon-database'><use xlink:href='#icon-database'></use></svg></label><div class='xr-var-attrs'><dl class='xr-attrs'><dt><span>year_range :</span></dt><dd>1981-2010</dd></dl></div><div class='xr-var-data'><pre>array([[2769, 2769, 2769, ..., 2767, 2767, 2766],\n",
       "       [2768, 2769, 2769, ..., 2767, 2767, 2767],\n",
       "       [2768, 2768, 2768, ..., 2767, 2766, 2767],\n",
       "       ...,\n",
       "       [2766, 2767, 2767, ..., 2763, 2763, 2763],\n",
       "       [2767, 2767, 2768, ..., 2763, 2763, 2763],\n",
       "       [2768, 2768, 2768, ..., 2763, 2763, 2763]],\n",
       "      shape=(23, 69), dtype=uint16)</pre></div></li><li class='xr-var-item'><div class='xr-var-name'><span>bio12</span></div><div class='xr-var-dims'>(lat, long)</div><div class='xr-var-dtype'>uint16</div><div class='xr-var-preview xr-preview'>8432 8445 8464 ... 8468 8510 8557</div><input id='attrs-1f3fd3e1-ed46-4952-b7d1-9359b470df2d' class='xr-var-attrs-in' type='checkbox' ><label for='attrs-1f3fd3e1-ed46-4952-b7d1-9359b470df2d' title='Show/Hide attributes'><svg class='icon xr-icon-file-text2'><use xlink:href='#icon-file-text2'></use></svg></label><input id='data-55f7e4be-9203-4482-b99c-addf6b792872' class='xr-var-data-in' type='checkbox'><label for='data-55f7e4be-9203-4482-b99c-addf6b792872' title='Show/Hide data repr'><svg class='icon xr-icon-database'><use xlink:href='#icon-database'></use></svg></label><div class='xr-var-attrs'><dl class='xr-attrs'><dt><span>year_range :</span></dt><dd>1981-2010</dd></dl></div><div class='xr-var-data'><pre>array([[8432, 8445, 8464, ..., 8154, 8152, 8162],\n",
       "       [8428, 8432, 8442, ..., 8213, 8213, 8221],\n",
       "       [8479, 8475, 8479, ..., 8285, 8292, 8296],\n",
       "       ...,\n",
       "       [8357, 8345, 8326, ..., 8354, 8411, 8472],\n",
       "       [8326, 8308, 8288, ..., 8410, 8458, 8513],\n",
       "       [8298, 8278, 8259, ..., 8468, 8510, 8557]],\n",
       "      shape=(23, 69), dtype=uint16)</pre></div></li><li class='xr-var-item'><div class='xr-var-name'><span>bio13</span></div><div class='xr-var-dims'>(lat, long)</div><div class='xr-var-dtype'>uint16</div><div class='xr-var-preview xr-preview'>795 796 798 801 ... 786 788 792 795</div><input id='attrs-458ac28f-92be-42a8-8245-0fd858c95976' class='xr-var-attrs-in' type='checkbox' ><label for='attrs-458ac28f-92be-42a8-8245-0fd858c95976' title='Show/Hide attributes'><svg class='icon xr-icon-file-text2'><use xlink:href='#icon-file-text2'></use></svg></label><input id='data-19bc097e-e53e-42aa-9174-e3cb969241eb' class='xr-var-data-in' type='checkbox'><label for='data-19bc097e-e53e-42aa-9174-e3cb969241eb' title='Show/Hide data repr'><svg class='icon xr-icon-database'><use xlink:href='#icon-database'></use></svg></label><div class='xr-var-attrs'><dl class='xr-attrs'><dt><span>year_range :</span></dt><dd>1981-2010</dd></dl></div><div class='xr-var-data'><pre>array([[795, 796, 798, ..., 762, 762, 762],\n",
       "       [795, 795, 796, ..., 767, 767, 767],\n",
       "       [800, 799, 800, ..., 773, 774, 773],\n",
       "       ...,\n",
       "       [794, 793, 791, ..., 777, 782, 787],\n",
       "       [792, 790, 788, ..., 782, 786, 791],\n",
       "       [790, 788, 786, ..., 788, 792, 795]], shape=(23, 69), dtype=uint16)</pre></div></li><li class='xr-var-item'><div class='xr-var-name'><span>bio14</span></div><div class='xr-var-dims'>(lat, long)</div><div class='xr-var-dtype'>uint16</div><div class='xr-var-preview xr-preview'>499 500 502 504 ... 511 513 516 519</div><input id='attrs-0ab25831-051c-41d5-9cc7-9fd4e36ff62e' class='xr-var-attrs-in' type='checkbox' ><label for='attrs-0ab25831-051c-41d5-9cc7-9fd4e36ff62e' title='Show/Hide attributes'><svg class='icon xr-icon-file-text2'><use xlink:href='#icon-file-text2'></use></svg></label><input id='data-76934a93-1642-450d-a968-bb8ea0aa81a0' class='xr-var-data-in' type='checkbox'><label for='data-76934a93-1642-450d-a968-bb8ea0aa81a0' title='Show/Hide data repr'><svg class='icon xr-icon-database'><use xlink:href='#icon-database'></use></svg></label><div class='xr-var-attrs'><dl class='xr-attrs'><dt><span>year_range :</span></dt><dd>1981-2010</dd></dl></div><div class='xr-var-data'><pre>array([[499, 500, 502, ..., 481, 481, 482],\n",
       "       [500, 500, 501, ..., 485, 485, 486],\n",
       "       [504, 504, 504, ..., 490, 490, 491],\n",
       "       ...,\n",
       "       [503, 502, 501, ..., 505, 509, 513],\n",
       "       [501, 500, 499, ..., 509, 512, 516],\n",
       "       [500, 498, 497, ..., 513, 516, 519]], shape=(23, 69), dtype=uint16)</pre></div></li><li class='xr-var-item'><div class='xr-var-name'><span>bio15</span></div><div class='xr-var-dims'>(lat, long)</div><div class='xr-var-dtype'>uint16</div><div class='xr-var-preview xr-preview'>118 118 117 117 ... 111 111 111 111</div><input id='attrs-669a4b9e-9bb7-4291-8408-a97d273eb194' class='xr-var-attrs-in' type='checkbox' ><label for='attrs-669a4b9e-9bb7-4291-8408-a97d273eb194' title='Show/Hide attributes'><svg class='icon xr-icon-file-text2'><use xlink:href='#icon-file-text2'></use></svg></label><input id='data-3307cbc3-5ff3-4175-9610-b04023764ee5' class='xr-var-data-in' type='checkbox'><label for='data-3307cbc3-5ff3-4175-9610-b04023764ee5' title='Show/Hide data repr'><svg class='icon xr-icon-database'><use xlink:href='#icon-database'></use></svg></label><div class='xr-var-attrs'><dl class='xr-attrs'><dt><span>year_range :</span></dt><dd>1981-2010</dd></dl></div><div class='xr-var-data'><pre>array([[118, 118, 117, ..., 114, 114, 113],\n",
       "       [117, 117, 117, ..., 113, 113, 113],\n",
       "       [117, 116, 116, ..., 113, 113, 113],\n",
       "       ...,\n",
       "       [112, 112, 112, ..., 111, 111, 111],\n",
       "       [112, 112, 112, ..., 111, 111, 111],\n",
       "       [112, 112, 112, ..., 111, 111, 111]], shape=(23, 69), dtype=uint16)</pre></div></li><li class='xr-var-item'><div class='xr-var-name'><span>bio16</span></div><div class='xr-var-dims'>(lat, long)</div><div class='xr-var-dtype'>uint16</div><div class='xr-var-preview xr-preview'>2321 2324 2328 ... 2286 2297 2312</div><input id='attrs-f52786de-0755-4de1-821d-088e73b3c4aa' class='xr-var-attrs-in' type='checkbox' ><label for='attrs-f52786de-0755-4de1-821d-088e73b3c4aa' title='Show/Hide attributes'><svg class='icon xr-icon-file-text2'><use xlink:href='#icon-file-text2'></use></svg></label><input id='data-a04f23d4-3239-4c18-8fd5-1787fd6ce148' class='xr-var-data-in' type='checkbox'><label for='data-a04f23d4-3239-4c18-8fd5-1787fd6ce148' title='Show/Hide data repr'><svg class='icon xr-icon-database'><use xlink:href='#icon-database'></use></svg></label><div class='xr-var-attrs'><dl class='xr-attrs'><dt><span>year_range :</span></dt><dd>1981-2010</dd></dl></div><div class='xr-var-data'><pre>array([[2321, 2324, 2328, ..., 2196, 2196, 2197],\n",
       "       [2319, 2319, 2320, ..., 2211, 2210, 2211],\n",
       "       [2332, 2329, 2330, ..., 2229, 2230, 2232],\n",
       "       ...,\n",
       "       [2282, 2277, 2271, ..., 2256, 2272, 2289],\n",
       "       [2273, 2267, 2261, ..., 2271, 2284, 2300],\n",
       "       [2265, 2259, 2253, ..., 2286, 2297, 2312]],\n",
       "      shape=(23, 69), dtype=uint16)</pre></div></li><li class='xr-var-item'><div class='xr-var-name'><span>bio17</span></div><div class='xr-var-dims'>(lat, long)</div><div class='xr-var-dtype'>uint16</div><div class='xr-var-preview xr-preview'>1776 1779 1785 ... 1834 1845 1854</div><input id='attrs-fea8a938-51ab-4b09-9108-f6056c840f0f' class='xr-var-attrs-in' type='checkbox' ><label for='attrs-fea8a938-51ab-4b09-9108-f6056c840f0f' title='Show/Hide attributes'><svg class='icon xr-icon-file-text2'><use xlink:href='#icon-file-text2'></use></svg></label><input id='data-ab403627-1c92-4dc1-8b48-5c3fa74b979f' class='xr-var-data-in' type='checkbox'><label for='data-ab403627-1c92-4dc1-8b48-5c3fa74b979f' title='Show/Hide data repr'><svg class='icon xr-icon-database'><use xlink:href='#icon-database'></use></svg></label><div class='xr-var-attrs'><dl class='xr-attrs'><dt><span>year_range :</span></dt><dd>1981-2010</dd></dl></div><div class='xr-var-data'><pre>array([[1776, 1779, 1785, ..., 1738, 1738, 1741],\n",
       "       [1777, 1779, 1782, ..., 1752, 1753, 1755],\n",
       "       [1791, 1791, 1792, ..., 1768, 1770, 1772],\n",
       "       ...,\n",
       "       [1801, 1798, 1795, ..., 1808, 1820, 1834],\n",
       "       [1795, 1792, 1788, ..., 1821, 1832, 1844],\n",
       "       [1791, 1787, 1783, ..., 1834, 1845, 1854]],\n",
       "      shape=(23, 69), dtype=uint16)</pre></div></li><li class='xr-var-item'><div class='xr-var-name'><span>bio18</span></div><div class='xr-var-dims'>(lat, long)</div><div class='xr-var-dtype'>uint16</div><div class='xr-var-preview xr-preview'>2263 2265 2268 ... 2286 2297 2312</div><input id='attrs-a4e9e1e2-491f-4206-86ee-dd2beff93411' class='xr-var-attrs-in' type='checkbox' ><label for='attrs-a4e9e1e2-491f-4206-86ee-dd2beff93411' title='Show/Hide attributes'><svg class='icon xr-icon-file-text2'><use xlink:href='#icon-file-text2'></use></svg></label><input id='data-259804ab-1dc6-498c-91cf-bab8c6e66230' class='xr-var-data-in' type='checkbox'><label for='data-259804ab-1dc6-498c-91cf-bab8c6e66230' title='Show/Hide data repr'><svg class='icon xr-icon-database'><use xlink:href='#icon-database'></use></svg></label><div class='xr-var-attrs'><dl class='xr-attrs'><dt><span>year_range :</span></dt><dd>1981-2010</dd></dl></div><div class='xr-var-data'><pre>array([[2263, 2265, 2268, ..., 2189, 2189, 2193],\n",
       "       [2260, 2260, 2261, ..., 2206, 2206, 2210],\n",
       "       [2272, 2270, 2269, ..., 2226, 2229, 2232],\n",
       "       ...,\n",
       "       [2225, 2222, 2216, ..., 2256, 2272, 2289],\n",
       "       [2217, 2211, 2206, ..., 2271, 2284, 2300],\n",
       "       [2208, 2202, 2197, ..., 2286, 2297, 2312]],\n",
       "      shape=(23, 69), dtype=uint16)</pre></div></li><li class='xr-var-item'><div class='xr-var-name'><span>bio19</span></div><div class='xr-var-dims'>(lat, long)</div><div class='xr-var-dtype'>uint16</div><div class='xr-var-preview xr-preview'>2126 2130 2136 ... 2157 2167 2176</div><input id='attrs-6eaf7d10-b2ca-48c2-9f22-aa1a7b8bb080' class='xr-var-attrs-in' type='checkbox' ><label for='attrs-6eaf7d10-b2ca-48c2-9f22-aa1a7b8bb080' title='Show/Hide attributes'><svg class='icon xr-icon-file-text2'><use xlink:href='#icon-file-text2'></use></svg></label><input id='data-fccee6b3-8d93-46bb-9130-158bfa74e4b0' class='xr-var-data-in' type='checkbox'><label for='data-fccee6b3-8d93-46bb-9130-158bfa74e4b0' title='Show/Hide data repr'><svg class='icon xr-icon-database'><use xlink:href='#icon-database'></use></svg></label><div class='xr-var-attrs'><dl class='xr-attrs'><dt><span>year_range :</span></dt><dd>1981-2010</dd></dl></div><div class='xr-var-data'><pre>array([[2126, 2130, 2136, ..., 2077, 2076, 2077],\n",
       "       [2126, 2128, 2132, ..., 2092, 2091, 2091],\n",
       "       [2140, 2139, 2142, ..., 2110, 2110, 2109],\n",
       "       ...,\n",
       "       [2134, 2132, 2128, ..., 2127, 2140, 2154],\n",
       "       [2128, 2124, 2120, ..., 2141, 2152, 2165],\n",
       "       [2122, 2118, 2114, ..., 2157, 2167, 2176]],\n",
       "      shape=(23, 69), dtype=uint16)</pre></div></li><li class='xr-var-item'><div class='xr-var-name'><span>bio1</span></div><div class='xr-var-dims'>(lat, long)</div><div class='xr-var-dtype'>uint16</div><div class='xr-var-preview xr-preview'>2837 2837 2837 ... 2832 2832 2831</div><input id='attrs-1675e6be-f5a6-4215-8051-0bfcd1067492' class='xr-var-attrs-in' type='checkbox' ><label for='attrs-1675e6be-f5a6-4215-8051-0bfcd1067492' title='Show/Hide attributes'><svg class='icon xr-icon-file-text2'><use xlink:href='#icon-file-text2'></use></svg></label><input id='data-88d495df-7564-47d1-a9bb-707afc0fb74b' class='xr-var-data-in' type='checkbox'><label for='data-88d495df-7564-47d1-a9bb-707afc0fb74b' title='Show/Hide data repr'><svg class='icon xr-icon-database'><use xlink:href='#icon-database'></use></svg></label><div class='xr-var-attrs'><dl class='xr-attrs'><dt><span>year_range :</span></dt><dd>1981-2010</dd></dl></div><div class='xr-var-data'><pre>array([[2837, 2837, 2837, ..., 2836, 2836, 2835],\n",
       "       [2836, 2836, 2836, ..., 2836, 2836, 2836],\n",
       "       [2836, 2836, 2836, ..., 2836, 2835, 2836],\n",
       "       ...,\n",
       "       [2834, 2835, 2835, ..., 2832, 2831, 2831],\n",
       "       [2835, 2835, 2836, ..., 2832, 2831, 2831],\n",
       "       [2836, 2836, 2836, ..., 2832, 2832, 2831]],\n",
       "      shape=(23, 69), dtype=uint16)</pre></div></li><li class='xr-var-item'><div class='xr-var-name'><span>bio2</span></div><div class='xr-var-dims'>(lat, long)</div><div class='xr-var-dtype'>uint16</div><div class='xr-var-preview xr-preview'>71 71 71 71 71 ... 71 71 71 71 71</div><input id='attrs-d9e53e4d-8f66-48bd-a3d2-fc41d86375a2' class='xr-var-attrs-in' type='checkbox' ><label for='attrs-d9e53e4d-8f66-48bd-a3d2-fc41d86375a2' title='Show/Hide attributes'><svg class='icon xr-icon-file-text2'><use xlink:href='#icon-file-text2'></use></svg></label><input id='data-1c5fcf0f-a01e-4b0a-943f-24f128d691ab' class='xr-var-data-in' type='checkbox'><label for='data-1c5fcf0f-a01e-4b0a-943f-24f128d691ab' title='Show/Hide data repr'><svg class='icon xr-icon-database'><use xlink:href='#icon-database'></use></svg></label><div class='xr-var-attrs'><dl class='xr-attrs'><dt><span>year_range :</span></dt><dd>1981-2010</dd></dl></div><div class='xr-var-data'><pre>array([[71, 71, 71, ..., 71, 71, 71],\n",
       "       [71, 71, 71, ..., 71, 72, 71],\n",
       "       [71, 71, 71, ..., 71, 72, 71],\n",
       "       ...,\n",
       "       [72, 72, 71, ..., 71, 71, 71],\n",
       "       [71, 71, 71, ..., 71, 71, 71],\n",
       "       [71, 71, 71, ..., 71, 71, 71]], shape=(23, 69), dtype=uint16)</pre></div></li><li class='xr-var-item'><div class='xr-var-name'><span>bio3</span></div><div class='xr-var-dims'>(lat, long)</div><div class='xr-var-dtype'>float32</div><div class='xr-var-preview xr-preview'>3.3 3.3 3.3 3.29 ... 3.27 3.27 3.26</div><input id='attrs-7c7fa824-a641-46a7-820f-1bc7dc826c3b' class='xr-var-attrs-in' type='checkbox' ><label for='attrs-7c7fa824-a641-46a7-820f-1bc7dc826c3b' title='Show/Hide attributes'><svg class='icon xr-icon-file-text2'><use xlink:href='#icon-file-text2'></use></svg></label><input id='data-568e12a3-14a9-494a-b758-a6a4d75bad1b' class='xr-var-data-in' type='checkbox'><label for='data-568e12a3-14a9-494a-b758-a6a4d75bad1b' title='Show/Hide data repr'><svg class='icon xr-icon-database'><use xlink:href='#icon-database'></use></svg></label><div class='xr-var-attrs'><dl class='xr-attrs'><dt><span>year_range :</span></dt><dd>1981-2010</dd></dl></div><div class='xr-var-data'><pre>array([[3.3 , 3.3 , 3.3 , ..., 3.28, 3.27, 3.27],\n",
       "       [3.3 , 3.29, 3.3 , ..., 3.26, 3.26, 3.26],\n",
       "       [3.29, 3.3 , 3.3 , ..., 3.28, 3.26, 3.26],\n",
       "       ...,\n",
       "       [3.31, 3.31, 3.31, ..., 3.26, 3.28, 3.28],\n",
       "       [3.31, 3.31, 3.3 , ..., 3.27, 3.27, 3.26],\n",
       "       [3.31, 3.31, 3.3 , ..., 3.27, 3.27, 3.26]],\n",
       "      shape=(23, 69), dtype=float32)</pre></div></li><li class='xr-var-item'><div class='xr-var-name'><span>bio4</span></div><div class='xr-var-dims'>(lat, long)</div><div class='xr-var-dtype'>uint16</div><div class='xr-var-preview xr-preview'>5316 5310 5310 ... 5400 5403 5382</div><input id='attrs-5480f721-4626-4b2a-93a9-d5a1507b6deb' class='xr-var-attrs-in' type='checkbox' ><label for='attrs-5480f721-4626-4b2a-93a9-d5a1507b6deb' title='Show/Hide attributes'><svg class='icon xr-icon-file-text2'><use xlink:href='#icon-file-text2'></use></svg></label><input id='data-ec7cdda9-52cb-4340-b3f7-5e61d3ce01b3' class='xr-var-data-in' type='checkbox'><label for='data-ec7cdda9-52cb-4340-b3f7-5e61d3ce01b3' title='Show/Hide data repr'><svg class='icon xr-icon-database'><use xlink:href='#icon-database'></use></svg></label><div class='xr-var-attrs'><dl class='xr-attrs'><dt><span>year_range :</span></dt><dd>1981-2010</dd></dl></div><div class='xr-var-data'><pre>array([[5316, 5310, 5310, ..., 5415, 5419, 5379],\n",
       "       [5306, 5297, 5297, ..., 5415, 5415, 5426],\n",
       "       [5302, 5306, 5306, ..., 5401, 5411, 5419],\n",
       "       ...,\n",
       "       [5312, 5328, 5333, ..., 5381, 5390, 5382],\n",
       "       [5334, 5334, 5345, ..., 5370, 5389, 5382],\n",
       "       [5333, 5354, 5345, ..., 5400, 5403, 5382]],\n",
       "      shape=(23, 69), dtype=uint16)</pre></div></li><li class='xr-var-item'><div class='xr-var-name'><span>bio5</span></div><div class='xr-var-dims'>(lat, long)</div><div class='xr-var-dtype'>uint16</div><div class='xr-var-preview xr-preview'>2954 2954 2954 ... 2951 2950 2950</div><input id='attrs-4bd7577c-bf13-48bb-9874-196809fd8abd' class='xr-var-attrs-in' type='checkbox' ><label for='attrs-4bd7577c-bf13-48bb-9874-196809fd8abd' title='Show/Hide attributes'><svg class='icon xr-icon-file-text2'><use xlink:href='#icon-file-text2'></use></svg></label><input id='data-5ad85092-41e6-45f5-8f78-8b665e905005' class='xr-var-data-in' type='checkbox'><label for='data-5ad85092-41e6-45f5-8f78-8b665e905005' title='Show/Hide data repr'><svg class='icon xr-icon-database'><use xlink:href='#icon-database'></use></svg></label><div class='xr-var-attrs'><dl class='xr-attrs'><dt><span>year_range :</span></dt><dd>1981-2010</dd></dl></div><div class='xr-var-data'><pre>array([[2954, 2954, 2954, ..., 2955, 2955, 2954],\n",
       "       [2954, 2954, 2954, ..., 2956, 2956, 2956],\n",
       "       [2954, 2954, 2954, ..., 2955, 2955, 2955],\n",
       "       ...,\n",
       "       [2952, 2953, 2953, ..., 2950, 2950, 2949],\n",
       "       [2953, 2953, 2954, ..., 2950, 2950, 2950],\n",
       "       [2954, 2954, 2954, ..., 2951, 2950, 2950]],\n",
       "      shape=(23, 69), dtype=uint16)</pre></div></li><li class='xr-var-item'><div class='xr-var-name'><span>bio6</span></div><div class='xr-var-dims'>(lat, long)</div><div class='xr-var-dtype'>uint16</div><div class='xr-var-preview xr-preview'>2739 2739 2739 ... 2734 2733 2733</div><input id='attrs-ee20383a-3c0b-4c76-bb34-1e7958374e82' class='xr-var-attrs-in' type='checkbox' ><label for='attrs-ee20383a-3c0b-4c76-bb34-1e7958374e82' title='Show/Hide attributes'><svg class='icon xr-icon-file-text2'><use xlink:href='#icon-file-text2'></use></svg></label><input id='data-a8f4449a-ea72-4f78-ba3d-cb6abe0110f7' class='xr-var-data-in' type='checkbox'><label for='data-a8f4449a-ea72-4f78-ba3d-cb6abe0110f7' title='Show/Hide data repr'><svg class='icon xr-icon-database'><use xlink:href='#icon-database'></use></svg></label><div class='xr-var-attrs'><dl class='xr-attrs'><dt><span>year_range :</span></dt><dd>1981-2010</dd></dl></div><div class='xr-var-data'><pre>array([[2739, 2739, 2739, ..., 2737, 2737, 2736],\n",
       "       [2739, 2739, 2739, ..., 2737, 2737, 2737],\n",
       "       [2738, 2738, 2738, ..., 2737, 2736, 2737],\n",
       "       ...,\n",
       "       [2736, 2737, 2737, ..., 2733, 2733, 2733],\n",
       "       [2737, 2737, 2738, ..., 2733, 2733, 2733],\n",
       "       [2738, 2738, 2738, ..., 2734, 2733, 2733]],\n",
       "      shape=(23, 69), dtype=uint16)</pre></div></li><li class='xr-var-item'><div class='xr-var-name'><span>bio7</span></div><div class='xr-var-dims'>(lat, long)</div><div class='xr-var-dtype'>uint16</div><div class='xr-var-preview xr-preview'>215 215 215 215 ... 217 217 217 217</div><input id='attrs-5f95fa94-847c-4c81-93d0-27e3641193d3' class='xr-var-attrs-in' type='checkbox' ><label for='attrs-5f95fa94-847c-4c81-93d0-27e3641193d3' title='Show/Hide attributes'><svg class='icon xr-icon-file-text2'><use xlink:href='#icon-file-text2'></use></svg></label><input id='data-43e000aa-274e-48a2-be00-b9eb7b61f6c0' class='xr-var-data-in' type='checkbox'><label for='data-43e000aa-274e-48a2-be00-b9eb7b61f6c0' title='Show/Hide data repr'><svg class='icon xr-icon-database'><use xlink:href='#icon-database'></use></svg></label><div class='xr-var-attrs'><dl class='xr-attrs'><dt><span>year_range :</span></dt><dd>1981-2010</dd></dl></div><div class='xr-var-data'><pre>array([[215, 215, 215, ..., 218, 218, 218],\n",
       "       [215, 215, 215, ..., 219, 219, 219],\n",
       "       [216, 216, 216, ..., 218, 219, 218],\n",
       "       ...,\n",
       "       [216, 216, 216, ..., 217, 217, 216],\n",
       "       [216, 216, 216, ..., 217, 217, 217],\n",
       "       [216, 216, 216, ..., 217, 217, 217]], shape=(23, 69), dtype=uint16)</pre></div></li><li class='xr-var-item'><div class='xr-var-name'><span>bio8</span></div><div class='xr-var-dims'>(lat, long)</div><div class='xr-var-dtype'>uint16</div><div class='xr-var-preview xr-preview'>2806 2806 2806 ... 2902 2902 2901</div><input id='attrs-8c8e1472-3ff4-425f-8fd6-0315d7ccf24c' class='xr-var-attrs-in' type='checkbox' ><label for='attrs-8c8e1472-3ff4-425f-8fd6-0315d7ccf24c' title='Show/Hide attributes'><svg class='icon xr-icon-file-text2'><use xlink:href='#icon-file-text2'></use></svg></label><input id='data-af1e2c42-ad1c-486a-9a0b-981fa67547a1' class='xr-var-data-in' type='checkbox'><label for='data-af1e2c42-ad1c-486a-9a0b-981fa67547a1' title='Show/Hide data repr'><svg class='icon xr-icon-database'><use xlink:href='#icon-database'></use></svg></label><div class='xr-var-attrs'><dl class='xr-attrs'><dt><span>year_range :</span></dt><dd>1981-2010</dd></dl></div><div class='xr-var-data'><pre>array([[2806, 2806, 2806, ..., 2778, 2778, 2777],\n",
       "       [2805, 2806, 2806, ..., 2778, 2778, 2778],\n",
       "       [2805, 2805, 2805, ..., 2777, 2777, 2906],\n",
       "       ...,\n",
       "       [2803, 2804, 2804, ..., 2902, 2901, 2901],\n",
       "       [2804, 2804, 2805, ..., 2901, 2901, 2901],\n",
       "       [2805, 2805, 2805, ..., 2902, 2902, 2901]],\n",
       "      shape=(23, 69), dtype=uint16)</pre></div></li><li class='xr-var-item'><div class='xr-var-name'><span>bio9</span></div><div class='xr-var-dims'>(lat, long)</div><div class='xr-var-dtype'>uint16</div><div class='xr-var-preview xr-preview'>2798 2798 2798 ... 2793 2793 2792</div><input id='attrs-9a95ee1c-9a4b-450d-bb89-b30aa563bbf6' class='xr-var-attrs-in' type='checkbox' ><label for='attrs-9a95ee1c-9a4b-450d-bb89-b30aa563bbf6' title='Show/Hide attributes'><svg class='icon xr-icon-file-text2'><use xlink:href='#icon-file-text2'></use></svg></label><input id='data-02083ecc-3505-48ef-b629-641821e014ec' class='xr-var-data-in' type='checkbox'><label for='data-02083ecc-3505-48ef-b629-641821e014ec' title='Show/Hide data repr'><svg class='icon xr-icon-database'><use xlink:href='#icon-database'></use></svg></label><div class='xr-var-attrs'><dl class='xr-attrs'><dt><span>year_range :</span></dt><dd>1981-2010</dd></dl></div><div class='xr-var-data'><pre>array([[2798, 2798, 2798, ..., 2797, 2797, 2796],\n",
       "       [2797, 2798, 2798, ..., 2797, 2797, 2797],\n",
       "       [2797, 2797, 2797, ..., 2797, 2796, 2797],\n",
       "       ...,\n",
       "       [2795, 2796, 2796, ..., 2793, 2793, 2792],\n",
       "       [2796, 2796, 2797, ..., 2793, 2793, 2792],\n",
       "       [2797, 2797, 2797, ..., 2793, 2793, 2792]],\n",
       "      shape=(23, 69), dtype=uint16)</pre></div></li><li class='xr-var-item'><div class='xr-var-name'><span>clt_max</span></div><div class='xr-var-dims'>(lat, long)</div><div class='xr-var-dtype'>float64</div><div class='xr-var-preview xr-preview'>5.45e+03 5.45e+03 ... 5.64e+03</div><input id='attrs-29318cc1-52ab-4761-9554-07951ff01084' class='xr-var-attrs-in' type='checkbox' ><label for='attrs-29318cc1-52ab-4761-9554-07951ff01084' title='Show/Hide attributes'><svg class='icon xr-icon-file-text2'><use xlink:href='#icon-file-text2'></use></svg></label><input id='data-a67bed08-25d2-4a35-aee3-d99bfec677ed' class='xr-var-data-in' type='checkbox'><label for='data-a67bed08-25d2-4a35-aee3-d99bfec677ed' title='Show/Hide data repr'><svg class='icon xr-icon-database'><use xlink:href='#icon-database'></use></svg></label><div class='xr-var-attrs'><dl class='xr-attrs'><dt><span>year_range :</span></dt><dd>1981-2010</dd></dl></div><div class='xr-var-data'><pre>array([[5450.00000931, 5450.00000931, 5452.33334205, ..., 5467.00003135,\n",
       "        5467.00003135, 5467.00003135],\n",
       "       [5450.00000931, 5450.00000931, 5452.33334205, ..., 5467.00003135,\n",
       "        5467.00003135, 5467.00003135],\n",
       "       [5463.3333464 , 5463.3333464 , 5463.11112156, ..., 5475.44445866,\n",
       "        5475.44445866, 5475.44445866],\n",
       "       ...,\n",
       "       [5502.33328298, 5502.33328298, 5494.99996839, ..., 5627.6674427 ,\n",
       "        5627.6674427 , 5627.6674427 ],\n",
       "       [5496.66661565, 5496.66661565, 5491.99996984, ..., 5640.00078091,\n",
       "        5640.00078091, 5640.00078091],\n",
       "       [5496.66661565, 5496.66661565, 5491.99996984, ..., 5640.00078091,\n",
       "        5640.00078091, 5640.00078091]], shape=(23, 69))</pre></div></li><li class='xr-var-item'><div class='xr-var-name'><span>clt_mean</span></div><div class='xr-var-dims'>(lat, long)</div><div class='xr-var-dtype'>float64</div><div class='xr-var-preview xr-preview'>4.476e+03 4.476e+03 ... 4.55e+03</div><input id='attrs-b04c4806-418a-40ea-81ad-e0e00504c1f1' class='xr-var-attrs-in' type='checkbox' ><label for='attrs-b04c4806-418a-40ea-81ad-e0e00504c1f1' title='Show/Hide attributes'><svg class='icon xr-icon-file-text2'><use xlink:href='#icon-file-text2'></use></svg></label><input id='data-4e0cd8c4-b19c-490b-b8af-5b4aacc5336b' class='xr-var-data-in' type='checkbox'><label for='data-4e0cd8c4-b19c-490b-b8af-5b4aacc5336b' title='Show/Hide data repr'><svg class='icon xr-icon-database'><use xlink:href='#icon-database'></use></svg></label><div class='xr-var-attrs'><dl class='xr-attrs'><dt><span>year_range :</span></dt><dd>1981-2010</dd></dl></div><div class='xr-var-data'><pre>array([[4476.00000218, 4476.00000218, 4477.00000218, ..., 4482.66667637,\n",
       "        4482.66667637, 4482.66667637],\n",
       "       [4476.00000218, 4476.00000218, 4477.00000218, ..., 4482.66667637,\n",
       "        4482.66667637, 4482.66667637],\n",
       "       [4478.6666695 , 4478.6666695 , 4479.00000231, ..., 4484.22222669,\n",
       "        4484.22222669, 4484.22222669],\n",
       "       ...,\n",
       "       [4489.3333272 , 4489.3333272 , 4488.1111108 , ..., 4544.22258018,\n",
       "        4544.22258018, 4544.22258018],\n",
       "       [4488.66666073, 4488.66666073, 4488.22222273, ..., 4550.11147433,\n",
       "        4550.11147433, 4550.11147433],\n",
       "       [4488.66666073, 4488.66666073, 4488.22222273, ..., 4550.11147433,\n",
       "        4550.11147433, 4550.11147433]], shape=(23, 69))</pre></div></li><li class='xr-var-item'><div class='xr-var-name'><span>clt_min</span></div><div class='xr-var-dims'>(lat, long)</div><div class='xr-var-dtype'>float64</div><div class='xr-var-preview xr-preview'>3.6e+03 3.6e+03 ... 3.617e+03</div><input id='attrs-233a274e-0f89-45f8-bfc5-861fef4436c2' class='xr-var-attrs-in' type='checkbox' ><label for='attrs-233a274e-0f89-45f8-bfc5-861fef4436c2' title='Show/Hide attributes'><svg class='icon xr-icon-file-text2'><use xlink:href='#icon-file-text2'></use></svg></label><input id='data-08147241-6d70-4b4b-9ddd-bac53c733a39' class='xr-var-data-in' type='checkbox'><label for='data-08147241-6d70-4b4b-9ddd-bac53c733a39' title='Show/Hide data repr'><svg class='icon xr-icon-database'><use xlink:href='#icon-database'></use></svg></label><div class='xr-var-attrs'><dl class='xr-attrs'><dt><span>year_range :</span></dt><dd>1981-2010</dd></dl></div><div class='xr-var-data'><pre>array([[3599.99999782, 3599.99999782, 3600.33333149, ..., 3596.3333235 ,\n",
       "        3596.3333235 , 3596.3333235 ],\n",
       "       [3599.99999782, 3599.99999782, 3600.33333149, ..., 3596.3333235 ,\n",
       "        3596.3333235 , 3596.3333235 ],\n",
       "       [3595.99999644, 3595.99999644, 3596.6666637 , ..., 3594.55554794,\n",
       "        3594.55554794, 3594.55554794],\n",
       "       ...,\n",
       "       [3587.66668105, 3587.66668105, 3589.11112427, ..., 3613.77796082,\n",
       "        3613.77796082, 3613.77796082],\n",
       "       [3589.33334825, 3589.33334825, 3590.55556906, ..., 3617.22241248,\n",
       "        3617.22241248, 3617.22241248],\n",
       "       [3589.33334825, 3589.33334825, 3590.55556906, ..., 3617.22241248,\n",
       "        3617.22241248, 3617.22241248]], shape=(23, 69))</pre></div></li><li class='xr-var-item'><div class='xr-var-name'><span>clt_range</span></div><div class='xr-var-dims'>(lat, long)</div><div class='xr-var-dtype'>float64</div><div class='xr-var-preview xr-preview'>1.85e+03 1.85e+03 ... 2.023e+03</div><input id='attrs-7a8186f8-878f-490e-8321-f9bebd42075d' class='xr-var-attrs-in' type='checkbox' ><label for='attrs-7a8186f8-878f-490e-8321-f9bebd42075d' title='Show/Hide attributes'><svg class='icon xr-icon-file-text2'><use xlink:href='#icon-file-text2'></use></svg></label><input id='data-604b8210-226e-4507-ae0a-aabed7c21d0c' class='xr-var-data-in' type='checkbox'><label for='data-604b8210-226e-4507-ae0a-aabed7c21d0c' title='Show/Hide data repr'><svg class='icon xr-icon-database'><use xlink:href='#icon-database'></use></svg></label><div class='xr-var-attrs'><dl class='xr-attrs'><dt><span>year_range :</span></dt><dd>1981-2010</dd></dl></div><div class='xr-var-data'><pre>array([[1850.00001148, 1850.00001148, 1852.00001056, ..., 1870.66670785,\n",
       "        1870.66670785, 1870.66670785],\n",
       "       [1850.00001148, 1850.00001148, 1852.00001056, ..., 1870.66670785,\n",
       "        1870.66670785, 1870.66670785],\n",
       "       [1867.33334997, 1867.33334997, 1866.44445786, ..., 1880.88891071,\n",
       "        1880.88891071, 1880.88891071],\n",
       "       ...,\n",
       "       [1914.66660192, 1914.66660192, 1905.88884412, ..., 2013.88948188,\n",
       "        2013.88948188, 2013.88948188],\n",
       "       [1907.3332674 , 1907.3332674 , 1901.44440077, ..., 2022.77836843,\n",
       "        2022.77836843, 2022.77836843],\n",
       "       [1907.3332674 , 1907.3332674 , 1901.44440077, ..., 2022.77836843,\n",
       "        2022.77836843, 2022.77836843]], shape=(23, 69))</pre></div></li><li class='xr-var-item'><div class='xr-var-name'><span>cmi_max</span></div><div class='xr-var-dims'>(lat, long)</div><div class='xr-var-dtype'>int16</div><div class='xr-var-preview xr-preview'>570 538 516 530 ... 519 509 494 488</div><input id='attrs-bb200504-67e3-4ff2-bd6a-9db835187b48' class='xr-var-attrs-in' type='checkbox' ><label for='attrs-bb200504-67e3-4ff2-bd6a-9db835187b48' title='Show/Hide attributes'><svg class='icon xr-icon-file-text2'><use xlink:href='#icon-file-text2'></use></svg></label><input id='data-0d12163e-0808-431a-9648-5ad8f3b09178' class='xr-var-data-in' type='checkbox'><label for='data-0d12163e-0808-431a-9648-5ad8f3b09178' title='Show/Hide data repr'><svg class='icon xr-icon-database'><use xlink:href='#icon-database'></use></svg></label><div class='xr-var-attrs'><dl class='xr-attrs'><dt><span>year_range :</span></dt><dd>1981-2010</dd></dl></div><div class='xr-var-data'><pre>array([[570, 538, 516, ..., 544, 546, 529],\n",
       "       [495, 499, 504, ..., 506, 521, 532],\n",
       "       [499, 501, 504, ..., 524, 530, 512],\n",
       "       ...,\n",
       "       [516, 489, 498, ..., 500, 476, 478],\n",
       "       [488, 498, 531, ..., 503, 481, 482],\n",
       "       [490, 504, 539, ..., 509, 494, 488]], shape=(23, 69), dtype=int16)</pre></div></li><li class='xr-var-item'><div class='xr-var-name'><span>cmi_mean</span></div><div class='xr-var-dims'>(lat, long)</div><div class='xr-var-dtype'>int16</div><div class='xr-var-preview xr-preview'>54 19 -6 8 16 9 ... 35 9 -1 -17 -24</div><input id='attrs-7bb06a58-e0cf-4995-bfa0-28f47445f7e5' class='xr-var-attrs-in' type='checkbox' ><label for='attrs-7bb06a58-e0cf-4995-bfa0-28f47445f7e5' title='Show/Hide attributes'><svg class='icon xr-icon-file-text2'><use xlink:href='#icon-file-text2'></use></svg></label><input id='data-7910d9a5-3077-4b1b-bfd5-b1bba1da8db4' class='xr-var-data-in' type='checkbox'><label for='data-7910d9a5-3077-4b1b-bfd5-b1bba1da8db4' title='Show/Hide data repr'><svg class='icon xr-icon-database'><use xlink:href='#icon-database'></use></svg></label><div class='xr-var-attrs'><dl class='xr-attrs'><dt><span>year_range :</span></dt><dd>1981-2010</dd></dl></div><div class='xr-var-data'><pre>array([[ 54,  19,  -6, ...,  37,  39,  23],\n",
       "       [-25, -23, -18, ...,  -5,  12,  22],\n",
       "       [-21, -19, -17, ...,  17,  23,   3],\n",
       "       ...,\n",
       "       [-11, -41, -31, ...,  -6, -33, -31],\n",
       "       [-43, -33,   4, ...,  -6, -30, -29],\n",
       "       [-40, -24,  16, ...,  -1, -17, -24]], shape=(23, 69), dtype=int16)</pre></div></li><li class='xr-var-item'><div class='xr-var-name'><span>cmi_min</span></div><div class='xr-var-dims'>(lat, long)</div><div class='xr-var-dtype'>int16</div><div class='xr-var-preview xr-preview'>-481 -519 -546 ... -537 -554 -561</div><input id='attrs-68d19dcb-c71d-4f05-93ff-e79327c76dfa' class='xr-var-attrs-in' type='checkbox' ><label for='attrs-68d19dcb-c71d-4f05-93ff-e79327c76dfa' title='Show/Hide attributes'><svg class='icon xr-icon-file-text2'><use xlink:href='#icon-file-text2'></use></svg></label><input id='data-7a9d2954-f031-4f00-9f8f-09dbc223d08d' class='xr-var-data-in' type='checkbox'><label for='data-7a9d2954-f031-4f00-9f8f-09dbc223d08d' title='Show/Hide data repr'><svg class='icon xr-icon-database'><use xlink:href='#icon-database'></use></svg></label><div class='xr-var-attrs'><dl class='xr-attrs'><dt><span>year_range :</span></dt><dd>1981-2010</dd></dl></div><div class='xr-var-data'><pre>array([[-481, -519, -546, ..., -486, -482, -498],\n",
       "       [-567, -564, -559, ..., -531, -513, -501],\n",
       "       [-563, -561, -559, ..., -507, -500, -522],\n",
       "       ...,\n",
       "       [-554, -589, -578, ..., -538, -568, -566],\n",
       "       [-592, -580, -541, ..., -539, -566, -566],\n",
       "       [-590, -572, -528, ..., -537, -554, -561]],\n",
       "      shape=(23, 69), dtype=int16)</pre></div></li><li class='xr-var-item'><div class='xr-var-name'><span>cmi_range</span></div><div class='xr-var-dims'>(lat, long)</div><div class='xr-var-dtype'>int16</div><div class='xr-var-preview xr-preview'>1051 1057 1063 ... 1046 1048 1049</div><input id='attrs-5d2c0960-d6c8-463e-99b5-0b854890ae9a' class='xr-var-attrs-in' type='checkbox' ><label for='attrs-5d2c0960-d6c8-463e-99b5-0b854890ae9a' title='Show/Hide attributes'><svg class='icon xr-icon-file-text2'><use xlink:href='#icon-file-text2'></use></svg></label><input id='data-fbce1b3a-7ee5-4523-bcbb-f0884d9a4497' class='xr-var-data-in' type='checkbox'><label for='data-fbce1b3a-7ee5-4523-bcbb-f0884d9a4497' title='Show/Hide data repr'><svg class='icon xr-icon-database'><use xlink:href='#icon-database'></use></svg></label><div class='xr-var-attrs'><dl class='xr-attrs'><dt><span>year_range :</span></dt><dd>1981-2010</dd></dl></div><div class='xr-var-data'><pre>array([[1051, 1057, 1063, ..., 1029, 1028, 1027],\n",
       "       [1062, 1063, 1062, ..., 1037, 1034, 1033],\n",
       "       [1063, 1062, 1063, ..., 1031, 1030, 1034],\n",
       "       ...,\n",
       "       [1070, 1078, 1076, ..., 1039, 1045, 1044],\n",
       "       [1081, 1078, 1071, ..., 1042, 1048, 1047],\n",
       "       [1080, 1076, 1067, ..., 1046, 1048, 1049]],\n",
       "      shape=(23, 69), dtype=int16)</pre></div></li><li class='xr-var-item'><div class='xr-var-name'><span>fcf</span></div><div class='xr-var-dims'>(lat, long)</div><div class='xr-var-dtype'>uint16</div><div class='xr-var-preview xr-preview'>0 0 0 0 0 0 0 0 ... 0 0 0 0 0 14 12</div><input id='attrs-add07f1a-1b31-4884-8edc-d50b823319ca' class='xr-var-attrs-in' type='checkbox' ><label for='attrs-add07f1a-1b31-4884-8edc-d50b823319ca' title='Show/Hide attributes'><svg class='icon xr-icon-file-text2'><use xlink:href='#icon-file-text2'></use></svg></label><input id='data-7072c569-0dd1-4758-a764-613043f7f336' class='xr-var-data-in' type='checkbox'><label for='data-7072c569-0dd1-4758-a764-613043f7f336' title='Show/Hide data repr'><svg class='icon xr-icon-database'><use xlink:href='#icon-database'></use></svg></label><div class='xr-var-attrs'><dl class='xr-attrs'><dt><span>year_range :</span></dt><dd>1981-2010</dd></dl></div><div class='xr-var-data'><pre>array([[ 0,  0,  0, ...,  0,  0,  0],\n",
       "       [ 0,  0,  0, ...,  0,  0,  0],\n",
       "       [ 0,  0,  0, ...,  0,  0,  0],\n",
       "       ...,\n",
       "       [ 0,  0,  0, ..., 14, 12, 12],\n",
       "       [ 0,  0,  0, ..., 14, 12, 12],\n",
       "       [ 0,  0,  0, ...,  0, 14, 12]], shape=(23, 69), dtype=uint16)</pre></div></li><li class='xr-var-item'><div class='xr-var-name'><span>fgd</span></div><div class='xr-var-dims'>(lat, long)</div><div class='xr-var-dtype'>uint16</div><div class='xr-var-preview xr-preview'>0 0 0 0 0 0 0 0 ... 0 0 0 0 0 0 0 0</div><input id='attrs-69b459c7-ea53-44bb-9648-3babcf2cc844' class='xr-var-attrs-in' type='checkbox' ><label for='attrs-69b459c7-ea53-44bb-9648-3babcf2cc844' title='Show/Hide attributes'><svg class='icon xr-icon-file-text2'><use xlink:href='#icon-file-text2'></use></svg></label><input id='data-2e1de212-3b5d-453e-bf41-85fa862d1111' class='xr-var-data-in' type='checkbox'><label for='data-2e1de212-3b5d-453e-bf41-85fa862d1111' title='Show/Hide data repr'><svg class='icon xr-icon-database'><use xlink:href='#icon-database'></use></svg></label><div class='xr-var-attrs'><dl class='xr-attrs'><dt><span>year_range :</span></dt><dd>1981-2010</dd></dl></div><div class='xr-var-data'><pre>array([[0, 0, 0, ..., 0, 0, 0],\n",
       "       [0, 0, 0, ..., 0, 0, 0],\n",
       "       [0, 0, 0, ..., 0, 0, 0],\n",
       "       ...,\n",
       "       [0, 0, 0, ..., 0, 0, 0],\n",
       "       [0, 0, 0, ..., 0, 0, 0],\n",
       "       [0, 0, 0, ..., 0, 0, 0]], shape=(23, 69), dtype=uint16)</pre></div></li><li class='xr-var-item'><div class='xr-var-name'><span>gdd0</span></div><div class='xr-var-dims'>(lat, long)</div><div class='xr-var-dtype'>int32</div><div class='xr-var-preview xr-preview'>38607 38545 38545 ... 36692 36508</div><input id='attrs-8b06b5c0-e340-428b-b5f7-07f018d3dd01' class='xr-var-attrs-in' type='checkbox' ><label for='attrs-8b06b5c0-e340-428b-b5f7-07f018d3dd01' title='Show/Hide attributes'><svg class='icon xr-icon-file-text2'><use xlink:href='#icon-file-text2'></use></svg></label><input id='data-44c59a41-b1ee-4340-aa31-8ad84d41c700' class='xr-var-data-in' type='checkbox'><label for='data-44c59a41-b1ee-4340-aa31-8ad84d41c700' title='Show/Hide data repr'><svg class='icon xr-icon-database'><use xlink:href='#icon-database'></use></svg></label><div class='xr-var-attrs'><dl class='xr-attrs'><dt><span>year_range :</span></dt><dd>1981-2010</dd></dl></div><div class='xr-var-data'><pre>array([[38607, 38545, 38545, ..., 38365, 38182, 37847],\n",
       "       [38272, 38332, 38332, ..., 38365, 38365, 38334],\n",
       "       [38242, 38272, 38272, ..., 38090, 38061, 38182],\n",
       "       ...,\n",
       "       [37511, 37785, 37815, ..., 36814, 36600, 36508],\n",
       "       [37876, 37876, 38210, ..., 36722, 36569, 36508],\n",
       "       [38180, 38241, 38210, ..., 36905, 36692, 36508]],\n",
       "      shape=(23, 69), dtype=int32)</pre></div></li><li class='xr-var-item'><div class='xr-var-name'><span>gdd10</span></div><div class='xr-var-dims'>(lat, long)</div><div class='xr-var-dtype'>int32</div><div class='xr-var-preview xr-preview'>9768 9737 9737 ... 9038 8939 8820</div><input id='attrs-7f8a292c-5b42-4c35-99af-37ba2a726086' class='xr-var-attrs-in' type='checkbox' ><label for='attrs-7f8a292c-5b42-4c35-99af-37ba2a726086' title='Show/Hide attributes'><svg class='icon xr-icon-file-text2'><use xlink:href='#icon-file-text2'></use></svg></label><input id='data-37cef8f4-6c5d-4353-a055-9df8141d61df' class='xr-var-data-in' type='checkbox'><label for='data-37cef8f4-6c5d-4353-a055-9df8141d61df' title='Show/Hide data repr'><svg class='icon xr-icon-database'><use xlink:href='#icon-database'></use></svg></label><div class='xr-var-attrs'><dl class='xr-attrs'><dt><span>year_range :</span></dt><dd>1981-2010</dd></dl></div><div class='xr-var-data'><pre>array([[9768, 9737, 9737, ..., 9808, 9714, 9487],\n",
       "       [9581, 9604, 9604, ..., 9808, 9808, 9808],\n",
       "       [9548, 9581, 9581, ..., 9654, 9653, 9714],\n",
       "       ...,\n",
       "       [9211, 9363, 9395, ..., 8970, 8877, 8820],\n",
       "       [9426, 9426, 9612, ..., 8908, 8858, 8820],\n",
       "       [9581, 9642, 9612, ..., 9038, 8939, 8820]],\n",
       "      shape=(23, 69), dtype=int32)</pre></div></li><li class='xr-var-item'><div class='xr-var-name'><span>gdd5</span></div><div class='xr-var-dims'>(lat, long)</div><div class='xr-var-dtype'>int32</div><div class='xr-var-preview xr-preview'>21415 21354 21354 ... 20086 19905</div><input id='attrs-4e006b74-1c7c-4924-a5aa-e40bd5296eee' class='xr-var-attrs-in' type='checkbox' ><label for='attrs-4e006b74-1c7c-4924-a5aa-e40bd5296eee' title='Show/Hide attributes'><svg class='icon xr-icon-file-text2'><use xlink:href='#icon-file-text2'></use></svg></label><input id='data-60221b94-d4d8-483e-bf4e-91996bc43164' class='xr-var-data-in' type='checkbox'><label for='data-60221b94-d4d8-483e-bf4e-91996bc43164' title='Show/Hide data repr'><svg class='icon xr-icon-database'><use xlink:href='#icon-database'></use></svg></label><div class='xr-var-attrs'><dl class='xr-attrs'><dt><span>year_range :</span></dt><dd>1981-2010</dd></dl></div><div class='xr-var-data'><pre>array([[21415, 21354, 21354, ..., 21350, 21200, 20922],\n",
       "       [21141, 21174, 21174, ..., 21350, 21350, 21350],\n",
       "       [21111, 21141, 21141, ..., 21109, 21108, 21199],\n",
       "       ...,\n",
       "       [20562, 20804, 20834, ..., 20143, 19999, 19905],\n",
       "       [20864, 20864, 21140, ..., 20056, 19967, 19905],\n",
       "       [21109, 21170, 21140, ..., 20235, 20086, 19905]],\n",
       "      shape=(23, 69), dtype=int32)</pre></div></li><li class='xr-var-item'><div class='xr-var-name'><span>gddlgd0</span></div><div class='xr-var-dims'>(lat, long)</div><div class='xr-var-dtype'>uint16</div><div class='xr-var-preview xr-preview'>0 0 0 0 0 0 0 0 ... 0 0 0 0 0 0 0 0</div><input id='attrs-8f017ac6-e674-4dae-852e-bdb0f8997c86' class='xr-var-attrs-in' type='checkbox' ><label for='attrs-8f017ac6-e674-4dae-852e-bdb0f8997c86' title='Show/Hide attributes'><svg class='icon xr-icon-file-text2'><use xlink:href='#icon-file-text2'></use></svg></label><input id='data-7dbe73e8-624f-446f-a71c-043a42b53852' class='xr-var-data-in' type='checkbox'><label for='data-7dbe73e8-624f-446f-a71c-043a42b53852' title='Show/Hide data repr'><svg class='icon xr-icon-database'><use xlink:href='#icon-database'></use></svg></label><div class='xr-var-attrs'><dl class='xr-attrs'><dt><span>year_range :</span></dt><dd>1981-2010</dd></dl></div><div class='xr-var-data'><pre>array([[0, 0, 0, ..., 0, 0, 0],\n",
       "       [0, 0, 0, ..., 0, 0, 0],\n",
       "       [0, 0, 0, ..., 0, 0, 0],\n",
       "       ...,\n",
       "       [0, 0, 0, ..., 0, 0, 0],\n",
       "       [0, 0, 0, ..., 0, 0, 0],\n",
       "       [0, 0, 0, ..., 0, 0, 0]], shape=(23, 69), dtype=uint16)</pre></div></li><li class='xr-var-item'><div class='xr-var-name'><span>gddlgd10</span></div><div class='xr-var-dims'>(lat, long)</div><div class='xr-var-dtype'>uint16</div><div class='xr-var-preview xr-preview'>298 297 297 297 ... 294 294 294 293</div><input id='attrs-3613219f-3560-4d5c-be2d-9abb07c53596' class='xr-var-attrs-in' type='checkbox' ><label for='attrs-3613219f-3560-4d5c-be2d-9abb07c53596' title='Show/Hide attributes'><svg class='icon xr-icon-file-text2'><use xlink:href='#icon-file-text2'></use></svg></label><input id='data-c1d3954f-a56e-4e2d-a614-c3b9f60e3e3b' class='xr-var-data-in' type='checkbox'><label for='data-c1d3954f-a56e-4e2d-a614-c3b9f60e3e3b' title='Show/Hide data repr'><svg class='icon xr-icon-database'><use xlink:href='#icon-database'></use></svg></label><div class='xr-var-attrs'><dl class='xr-attrs'><dt><span>year_range :</span></dt><dd>1981-2010</dd></dl></div><div class='xr-var-data'><pre>array([[298, 297, 297, ..., 297, 296, 296],\n",
       "       [297, 298, 298, ..., 297, 297, 297],\n",
       "       [297, 297, 297, ..., 296, 296, 296],\n",
       "       ...,\n",
       "       [295, 296, 296, ..., 294, 294, 293],\n",
       "       [296, 296, 297, ..., 294, 293, 293],\n",
       "       [297, 297, 297, ..., 294, 294, 293]], shape=(23, 69), dtype=uint16)</pre></div></li><li class='xr-var-item'><div class='xr-var-name'><span>gddlgd5</span></div><div class='xr-var-dims'>(lat, long)</div><div class='xr-var-dtype'>uint16</div><div class='xr-var-preview xr-preview'>337 337 337 337 ... 332 332 332 331</div><input id='attrs-4f824dff-61b2-4df8-8ee5-886a6c208384' class='xr-var-attrs-in' type='checkbox' ><label for='attrs-4f824dff-61b2-4df8-8ee5-886a6c208384' title='Show/Hide attributes'><svg class='icon xr-icon-file-text2'><use xlink:href='#icon-file-text2'></use></svg></label><input id='data-e8be21db-91e9-4ce4-b93c-ee738258e9c2' class='xr-var-data-in' type='checkbox'><label for='data-e8be21db-91e9-4ce4-b93c-ee738258e9c2' title='Show/Hide data repr'><svg class='icon xr-icon-database'><use xlink:href='#icon-database'></use></svg></label><div class='xr-var-attrs'><dl class='xr-attrs'><dt><span>year_range :</span></dt><dd>1981-2010</dd></dl></div><div class='xr-var-data'><pre>array([[337, 337, 337, ..., 335, 336, 334],\n",
       "       [337, 337, 337, ..., 335, 335, 335],\n",
       "       [337, 337, 337, ..., 335, 335, 335],\n",
       "       ...,\n",
       "       [334, 335, 335, ..., 332, 331, 331],\n",
       "       [335, 335, 336, ..., 332, 331, 331],\n",
       "       [336, 336, 336, ..., 332, 332, 331]], shape=(23, 69), dtype=uint16)</pre></div></li><li class='xr-var-item'><div class='xr-var-name'><span>gdgfgd0</span></div><div class='xr-var-dims'>(lat, long)</div><div class='xr-var-dtype'>uint16</div><div class='xr-var-preview xr-preview'>0 0 0 0 0 0 0 0 ... 0 0 0 0 0 0 0 0</div><input id='attrs-abaceed1-c2d2-4df6-b66a-ae1bcb42984e' class='xr-var-attrs-in' type='checkbox' ><label for='attrs-abaceed1-c2d2-4df6-b66a-ae1bcb42984e' title='Show/Hide attributes'><svg class='icon xr-icon-file-text2'><use xlink:href='#icon-file-text2'></use></svg></label><input id='data-a7f7d88b-542a-4f34-8ceb-ad1aad80c12f' class='xr-var-data-in' type='checkbox'><label for='data-a7f7d88b-542a-4f34-8ceb-ad1aad80c12f' title='Show/Hide data repr'><svg class='icon xr-icon-database'><use xlink:href='#icon-database'></use></svg></label><div class='xr-var-attrs'><dl class='xr-attrs'><dt><span>year_range :</span></dt><dd>1981-2010</dd></dl></div><div class='xr-var-data'><pre>array([[0, 0, 0, ..., 0, 0, 0],\n",
       "       [0, 0, 0, ..., 0, 0, 0],\n",
       "       [0, 0, 0, ..., 0, 0, 0],\n",
       "       ...,\n",
       "       [0, 0, 0, ..., 0, 0, 0],\n",
       "       [0, 0, 0, ..., 0, 0, 0],\n",
       "       [0, 0, 0, ..., 0, 0, 0]], shape=(23, 69), dtype=uint16)</pre></div></li><li class='xr-var-item'><div class='xr-var-name'><span>gdgfgd10</span></div><div class='xr-var-dims'>(lat, long)</div><div class='xr-var-dtype'>uint16</div><div class='xr-var-preview xr-preview'>110 110 110 111 ... 114 113 114 115</div><input id='attrs-ebb0e054-93e0-4dc5-b538-26a99bc1c4ef' class='xr-var-attrs-in' type='checkbox' ><label for='attrs-ebb0e054-93e0-4dc5-b538-26a99bc1c4ef' title='Show/Hide attributes'><svg class='icon xr-icon-file-text2'><use xlink:href='#icon-file-text2'></use></svg></label><input id='data-d8a7fed1-555e-4165-94e0-ddbc68240651' class='xr-var-data-in' type='checkbox'><label for='data-d8a7fed1-555e-4165-94e0-ddbc68240651' title='Show/Hide data repr'><svg class='icon xr-icon-database'><use xlink:href='#icon-database'></use></svg></label><div class='xr-var-attrs'><dl class='xr-attrs'><dt><span>year_range :</span></dt><dd>1981-2010</dd></dl></div><div class='xr-var-data'><pre>array([[110, 110, 110, ..., 110, 111, 112],\n",
       "       [111, 111, 111, ..., 110, 110, 110],\n",
       "       [111, 111, 111, ..., 111, 111, 111],\n",
       "       ...,\n",
       "       [113, 112, 112, ..., 114, 114, 115],\n",
       "       [112, 112, 111, ..., 114, 114, 115],\n",
       "       [111, 111, 111, ..., 113, 114, 115]], shape=(23, 69), dtype=uint16)</pre></div></li><li class='xr-var-item'><div class='xr-var-name'><span>gdgfgd5</span></div><div class='xr-var-dims'>(lat, long)</div><div class='xr-var-dtype'>uint16</div><div class='xr-var-preview xr-preview'>60 60 60 60 60 ... 64 65 65 65 65</div><input id='attrs-985d8224-e446-4408-9e98-f15eef886da6' class='xr-var-attrs-in' type='checkbox' ><label for='attrs-985d8224-e446-4408-9e98-f15eef886da6' title='Show/Hide attributes'><svg class='icon xr-icon-file-text2'><use xlink:href='#icon-file-text2'></use></svg></label><input id='data-ff17ec21-5523-4f28-b508-9cf5743eaa41' class='xr-var-data-in' type='checkbox'><label for='data-ff17ec21-5523-4f28-b508-9cf5743eaa41' title='Show/Hide data repr'><svg class='icon xr-icon-database'><use xlink:href='#icon-database'></use></svg></label><div class='xr-var-attrs'><dl class='xr-attrs'><dt><span>year_range :</span></dt><dd>1981-2010</dd></dl></div><div class='xr-var-data'><pre>array([[60, 60, 60, ..., 61, 62, 62],\n",
       "       [61, 60, 60, ..., 61, 61, 61],\n",
       "       [61, 61, 61, ..., 62, 62, 61],\n",
       "       ...,\n",
       "       [63, 62, 62, ..., 65, 65, 65],\n",
       "       [62, 62, 61, ..., 65, 65, 65],\n",
       "       [61, 61, 61, ..., 65, 65, 65]], shape=(23, 69), dtype=uint16)</pre></div></li><li class='xr-var-item'><div class='xr-var-name'><span>gsl</span></div><div class='xr-var-dims'>(lat, long)</div><div class='xr-var-dtype'>uint16</div><div class='xr-var-preview xr-preview'>365 365 365 365 ... 365 365 365 365</div><input id='attrs-b1878ff1-b311-400a-a990-7ecab762dbb0' class='xr-var-attrs-in' type='checkbox' ><label for='attrs-b1878ff1-b311-400a-a990-7ecab762dbb0' title='Show/Hide attributes'><svg class='icon xr-icon-file-text2'><use xlink:href='#icon-file-text2'></use></svg></label><input id='data-06f416df-bd98-46a3-9b4a-d35886693b5f' class='xr-var-data-in' type='checkbox'><label for='data-06f416df-bd98-46a3-9b4a-d35886693b5f' title='Show/Hide data repr'><svg class='icon xr-icon-database'><use xlink:href='#icon-database'></use></svg></label><div class='xr-var-attrs'><dl class='xr-attrs'><dt><span>year_range :</span></dt><dd>1981-2010</dd></dl></div><div class='xr-var-data'><pre>array([[365, 365, 365, ..., 365, 365, 365],\n",
       "       [365, 365, 365, ..., 365, 365, 365],\n",
       "       [365, 365, 365, ..., 365, 365, 365],\n",
       "       ...,\n",
       "       [365, 365, 365, ..., 365, 365, 365],\n",
       "       [365, 365, 365, ..., 365, 365, 365],\n",
       "       [365, 365, 365, ..., 365, 365, 365]], shape=(23, 69), dtype=uint16)</pre></div></li><li class='xr-var-item'><div class='xr-var-name'><span>gsp</span></div><div class='xr-var-dims'>(lat, long)</div><div class='xr-var-dtype'>uint32</div><div class='xr-var-preview xr-preview'>8432 8445 8464 ... 8468 8510 8557</div><input id='attrs-4e339bb7-360f-442c-83d0-738071dad9bd' class='xr-var-attrs-in' type='checkbox' ><label for='attrs-4e339bb7-360f-442c-83d0-738071dad9bd' title='Show/Hide attributes'><svg class='icon xr-icon-file-text2'><use xlink:href='#icon-file-text2'></use></svg></label><input id='data-acbe649e-a526-4d44-a9ce-e835660b38c6' class='xr-var-data-in' type='checkbox'><label for='data-acbe649e-a526-4d44-a9ce-e835660b38c6' title='Show/Hide data repr'><svg class='icon xr-icon-database'><use xlink:href='#icon-database'></use></svg></label><div class='xr-var-attrs'><dl class='xr-attrs'><dt><span>year_range :</span></dt><dd>1981-2010</dd></dl></div><div class='xr-var-data'><pre>array([[8432, 8445, 8464, ..., 8154, 8152, 8162],\n",
       "       [8428, 8432, 8442, ..., 8213, 8213, 8221],\n",
       "       [8479, 8475, 8479, ..., 8285, 8292, 8296],\n",
       "       ...,\n",
       "       [8357, 8345, 8326, ..., 8354, 8411, 8472],\n",
       "       [8326, 8308, 8288, ..., 8410, 8458, 8513],\n",
       "       [8298, 8278, 8259, ..., 8468, 8510, 8557]],\n",
       "      shape=(23, 69), dtype=uint32)</pre></div></li><li class='xr-var-item'><div class='xr-var-name'><span>gst</span></div><div class='xr-var-dims'>(lat, long)</div><div class='xr-var-dtype'>uint16</div><div class='xr-var-preview xr-preview'>2837 2837 2837 ... 2833 2832 2832</div><input id='attrs-889f3628-273d-4328-8ff2-ace595c0d841' class='xr-var-attrs-in' type='checkbox' ><label for='attrs-889f3628-273d-4328-8ff2-ace595c0d841' title='Show/Hide attributes'><svg class='icon xr-icon-file-text2'><use xlink:href='#icon-file-text2'></use></svg></label><input id='data-c5d03e05-814c-4ff7-8b39-0e5fc4ad607c' class='xr-var-data-in' type='checkbox'><label for='data-c5d03e05-814c-4ff7-8b39-0e5fc4ad607c' title='Show/Hide data repr'><svg class='icon xr-icon-database'><use xlink:href='#icon-database'></use></svg></label><div class='xr-var-attrs'><dl class='xr-attrs'><dt><span>year_range :</span></dt><dd>1981-2010</dd></dl></div><div class='xr-var-data'><pre>array([[2837, 2837, 2837, ..., 2837, 2836, 2835],\n",
       "       [2836, 2837, 2837, ..., 2837, 2837, 2837],\n",
       "       [2836, 2836, 2836, ..., 2836, 2836, 2836],\n",
       "       ...,\n",
       "       [2834, 2835, 2835, ..., 2832, 2832, 2832],\n",
       "       [2835, 2835, 2836, ..., 2832, 2832, 2832],\n",
       "       [2836, 2836, 2836, ..., 2833, 2832, 2832]],\n",
       "      shape=(23, 69), dtype=uint16)</pre></div></li><li class='xr-var-item'><div class='xr-var-name'><span>hurs_max</span></div><div class='xr-var-dims'>(lat, long)</div><div class='xr-var-dtype'>uint16</div><div class='xr-var-preview xr-preview'>6907 6909 6912 ... 6956 6964 6972</div><input id='attrs-777304b4-040d-4aad-bb96-717ca7361118' class='xr-var-attrs-in' type='checkbox' ><label for='attrs-777304b4-040d-4aad-bb96-717ca7361118' title='Show/Hide attributes'><svg class='icon xr-icon-file-text2'><use xlink:href='#icon-file-text2'></use></svg></label><input id='data-94f3fd2d-45a7-4d23-824d-5bcc253603f8' class='xr-var-data-in' type='checkbox'><label for='data-94f3fd2d-45a7-4d23-824d-5bcc253603f8' title='Show/Hide data repr'><svg class='icon xr-icon-database'><use xlink:href='#icon-database'></use></svg></label><div class='xr-var-attrs'><dl class='xr-attrs'><dt><span>year_range :</span></dt><dd>1981-2010</dd></dl></div><div class='xr-var-data'><pre>array([[6907, 6909, 6912, ..., 6863, 6862, 6860],\n",
       "       [6905, 6907, 6909, ..., 6874, 6875, 6877],\n",
       "       [6914, 6915, 6915, ..., 6884, 6885, 6888],\n",
       "       ...,\n",
       "       [6913, 6913, 6912, ..., 6929, 6940, 6952],\n",
       "       [6914, 6911, 6912, ..., 6940, 6951, 6962],\n",
       "       [6915, 6914, 6909, ..., 6956, 6964, 6972]],\n",
       "      shape=(23, 69), dtype=uint16)</pre></div></li><li class='xr-var-item'><div class='xr-var-name'><span>hurs_mean</span></div><div class='xr-var-dims'>(lat, long)</div><div class='xr-var-dtype'>uint16</div><div class='xr-var-preview xr-preview'>6337 6339 6341 ... 6406 6412 6418</div><input id='attrs-9b552ee0-2aa1-44bc-9887-9eaff12438fe' class='xr-var-attrs-in' type='checkbox' ><label for='attrs-9b552ee0-2aa1-44bc-9887-9eaff12438fe' title='Show/Hide attributes'><svg class='icon xr-icon-file-text2'><use xlink:href='#icon-file-text2'></use></svg></label><input id='data-1b738b19-9e10-4985-9776-6943ec8481d7' class='xr-var-data-in' type='checkbox'><label for='data-1b738b19-9e10-4985-9776-6943ec8481d7' title='Show/Hide data repr'><svg class='icon xr-icon-database'><use xlink:href='#icon-database'></use></svg></label><div class='xr-var-attrs'><dl class='xr-attrs'><dt><span>year_range :</span></dt><dd>1981-2010</dd></dl></div><div class='xr-var-data'><pre>array([[6337, 6339, 6341, ..., 6302, 6303, 6306],\n",
       "       [6340, 6340, 6341, ..., 6310, 6312, 6314],\n",
       "       [6348, 6348, 6348, ..., 6322, 6323, 6325],\n",
       "       ...,\n",
       "       [6356, 6355, 6353, ..., 6384, 6393, 6402],\n",
       "       [6355, 6352, 6351, ..., 6393, 6402, 6410],\n",
       "       [6354, 6352, 6350, ..., 6406, 6412, 6418]],\n",
       "      shape=(23, 69), dtype=uint16)</pre></div></li><li class='xr-var-item'><div class='xr-var-name'><span>hurs_min</span></div><div class='xr-var-dims'>(lat, long)</div><div class='xr-var-dtype'>uint16</div><div class='xr-var-preview xr-preview'>5994 5995 5997 ... 6052 6053 6055</div><input id='attrs-4a4cb2d4-7d82-4a5d-80ed-af0fa8132ec3' class='xr-var-attrs-in' type='checkbox' ><label for='attrs-4a4cb2d4-7d82-4a5d-80ed-af0fa8132ec3' title='Show/Hide attributes'><svg class='icon xr-icon-file-text2'><use xlink:href='#icon-file-text2'></use></svg></label><input id='data-70437042-e27c-48c7-8207-37dba3086c4a' class='xr-var-data-in' type='checkbox'><label for='data-70437042-e27c-48c7-8207-37dba3086c4a' title='Show/Hide data repr'><svg class='icon xr-icon-database'><use xlink:href='#icon-database'></use></svg></label><div class='xr-var-attrs'><dl class='xr-attrs'><dt><span>year_range :</span></dt><dd>1981-2010</dd></dl></div><div class='xr-var-data'><pre>array([[5994, 5995, 5997, ..., 5968, 5967, 5964],\n",
       "       [5997, 5998, 5998, ..., 5975, 5976, 5977],\n",
       "       [6004, 6005, 6005, ..., 5982, 5982, 5984],\n",
       "       ...,\n",
       "       [6020, 6022, 6023, ..., 6031, 6034, 6039],\n",
       "       [6025, 6024, 6027, ..., 6038, 6043, 6048],\n",
       "       [6029, 6030, 6027, ..., 6052, 6053, 6055]],\n",
       "      shape=(23, 69), dtype=uint16)</pre></div></li><li class='xr-var-item'><div class='xr-var-name'><span>hurs_range</span></div><div class='xr-var-dims'>(lat, long)</div><div class='xr-var-dtype'>uint16</div><div class='xr-var-preview xr-preview'>913 914 915 917 ... 900 904 911 917</div><input id='attrs-1dbc3272-423c-43bd-b955-56f30c70a1ca' class='xr-var-attrs-in' type='checkbox' ><label for='attrs-1dbc3272-423c-43bd-b955-56f30c70a1ca' title='Show/Hide attributes'><svg class='icon xr-icon-file-text2'><use xlink:href='#icon-file-text2'></use></svg></label><input id='data-8dc264cd-3667-411b-8f67-e2e4426e95ac' class='xr-var-data-in' type='checkbox'><label for='data-8dc264cd-3667-411b-8f67-e2e4426e95ac' title='Show/Hide data repr'><svg class='icon xr-icon-database'><use xlink:href='#icon-database'></use></svg></label><div class='xr-var-attrs'><dl class='xr-attrs'><dt><span>year_range :</span></dt><dd>1981-2010</dd></dl></div><div class='xr-var-data'><pre>array([[913, 914, 915, ..., 895, 895, 896],\n",
       "       [908, 909, 911, ..., 899, 899, 900],\n",
       "       [910, 910, 910, ..., 902, 903, 904],\n",
       "       ...,\n",
       "       [893, 891, 889, ..., 898, 906, 913],\n",
       "       [889, 887, 885, ..., 902, 908, 914],\n",
       "       [886, 884, 882, ..., 904, 911, 917]], shape=(23, 69), dtype=uint16)</pre></div></li><li class='xr-var-item'><div class='xr-var-name'><span>kg0</span></div><div class='xr-var-dims'>(lat, long)</div><div class='xr-var-dtype'>uint16</div><div class='xr-var-preview xr-preview'>10 10 10 10 10 ... 10 10 10 10 10</div><input id='attrs-51eb0986-a11f-4159-8a89-43940bbc0d11' class='xr-var-attrs-in' type='checkbox' ><label for='attrs-51eb0986-a11f-4159-8a89-43940bbc0d11' title='Show/Hide attributes'><svg class='icon xr-icon-file-text2'><use xlink:href='#icon-file-text2'></use></svg></label><input id='data-0021b99c-0fc7-4665-a649-5efc465fed0b' class='xr-var-data-in' type='checkbox'><label for='data-0021b99c-0fc7-4665-a649-5efc465fed0b' title='Show/Hide data repr'><svg class='icon xr-icon-database'><use xlink:href='#icon-database'></use></svg></label><div class='xr-var-attrs'><dl class='xr-attrs'><dt><span>year_range :</span></dt><dd>1981-2010</dd></dl></div><div class='xr-var-data'><pre>array([[10, 10, 10, ..., 10, 10, 10],\n",
       "       [10, 10, 10, ..., 10, 10, 10],\n",
       "       [10, 10, 10, ..., 10, 10, 10],\n",
       "       ...,\n",
       "       [10, 10, 10, ..., 10, 10, 10],\n",
       "       [10, 10, 10, ..., 10, 10, 10],\n",
       "       [10, 10, 10, ..., 10, 10, 10]], shape=(23, 69), dtype=uint16)</pre></div></li><li class='xr-var-item'><div class='xr-var-name'><span>kg1</span></div><div class='xr-var-dims'>(lat, long)</div><div class='xr-var-dtype'>uint16</div><div class='xr-var-preview xr-preview'>10 10 10 10 10 ... 10 10 10 10 10</div><input id='attrs-8c863708-f607-4c39-8853-f3a28bcfed1a' class='xr-var-attrs-in' type='checkbox' ><label for='attrs-8c863708-f607-4c39-8853-f3a28bcfed1a' title='Show/Hide attributes'><svg class='icon xr-icon-file-text2'><use xlink:href='#icon-file-text2'></use></svg></label><input id='data-eccf9b7d-5235-44c4-a5fb-be3b763a8073' class='xr-var-data-in' type='checkbox'><label for='data-eccf9b7d-5235-44c4-a5fb-be3b763a8073' title='Show/Hide data repr'><svg class='icon xr-icon-database'><use xlink:href='#icon-database'></use></svg></label><div class='xr-var-attrs'><dl class='xr-attrs'><dt><span>year_range :</span></dt><dd>1981-2010</dd></dl></div><div class='xr-var-data'><pre>array([[10, 10, 10, ..., 10, 10, 10],\n",
       "       [10, 10, 10, ..., 10, 10, 10],\n",
       "       [10, 10, 10, ..., 10, 10, 10],\n",
       "       ...,\n",
       "       [10, 10, 10, ..., 10, 10, 10],\n",
       "       [10, 10, 10, ..., 10, 10, 10],\n",
       "       [10, 10, 10, ..., 10, 10, 10]], shape=(23, 69), dtype=uint16)</pre></div></li><li class='xr-var-item'><div class='xr-var-name'><span>kg2</span></div><div class='xr-var-dims'>(lat, long)</div><div class='xr-var-dtype'>uint16</div><div class='xr-var-preview xr-preview'>10 10 10 10 10 ... 10 10 10 10 10</div><input id='attrs-c737aff2-84a4-4740-9ad8-bca87f10b1e3' class='xr-var-attrs-in' type='checkbox' ><label for='attrs-c737aff2-84a4-4740-9ad8-bca87f10b1e3' title='Show/Hide attributes'><svg class='icon xr-icon-file-text2'><use xlink:href='#icon-file-text2'></use></svg></label><input id='data-6772b071-3a86-4613-b1e9-493507e468b2' class='xr-var-data-in' type='checkbox'><label for='data-6772b071-3a86-4613-b1e9-493507e468b2' title='Show/Hide data repr'><svg class='icon xr-icon-database'><use xlink:href='#icon-database'></use></svg></label><div class='xr-var-attrs'><dl class='xr-attrs'><dt><span>year_range :</span></dt><dd>1981-2010</dd></dl></div><div class='xr-var-data'><pre>array([[10, 10, 10, ..., 10, 10, 10],\n",
       "       [10, 10, 10, ..., 10, 10, 10],\n",
       "       [10, 10, 10, ..., 10, 10, 10],\n",
       "       ...,\n",
       "       [10, 10, 10, ..., 10, 10, 10],\n",
       "       [10, 10, 10, ..., 10, 10, 10],\n",
       "       [10, 10, 10, ..., 10, 10, 10]], shape=(23, 69), dtype=uint16)</pre></div></li><li class='xr-var-item'><div class='xr-var-name'><span>kg3</span></div><div class='xr-var-dims'>(lat, long)</div><div class='xr-var-dtype'>uint16</div><div class='xr-var-preview xr-preview'>7 7 7 7 7 7 7 7 ... 7 7 7 7 7 7 7 7</div><input id='attrs-d0db24f5-7b65-41cb-9867-68cb39135181' class='xr-var-attrs-in' type='checkbox' ><label for='attrs-d0db24f5-7b65-41cb-9867-68cb39135181' title='Show/Hide attributes'><svg class='icon xr-icon-file-text2'><use xlink:href='#icon-file-text2'></use></svg></label><input id='data-8eb05f7a-e6d8-4ff4-a291-f393dbd89d95' class='xr-var-data-in' type='checkbox'><label for='data-8eb05f7a-e6d8-4ff4-a291-f393dbd89d95' title='Show/Hide data repr'><svg class='icon xr-icon-database'><use xlink:href='#icon-database'></use></svg></label><div class='xr-var-attrs'><dl class='xr-attrs'><dt><span>year_range :</span></dt><dd>1981-2010</dd></dl></div><div class='xr-var-data'><pre>array([[7, 7, 7, ..., 7, 7, 7],\n",
       "       [7, 7, 7, ..., 7, 7, 7],\n",
       "       [7, 7, 7, ..., 7, 7, 7],\n",
       "       ...,\n",
       "       [7, 7, 7, ..., 7, 7, 7],\n",
       "       [7, 7, 7, ..., 7, 7, 7],\n",
       "       [7, 7, 7, ..., 7, 7, 7]], shape=(23, 69), dtype=uint16)</pre></div></li><li class='xr-var-item'><div class='xr-var-name'><span>kg4</span></div><div class='xr-var-dims'>(lat, long)</div><div class='xr-var-dtype'>uint16</div><div class='xr-var-preview xr-preview'>12 12 12 12 12 ... 12 12 12 12 12</div><input id='attrs-f64c3a06-b7dd-427a-9878-fa558f00ac7a' class='xr-var-attrs-in' type='checkbox' ><label for='attrs-f64c3a06-b7dd-427a-9878-fa558f00ac7a' title='Show/Hide attributes'><svg class='icon xr-icon-file-text2'><use xlink:href='#icon-file-text2'></use></svg></label><input id='data-bfc6aab1-8781-4daa-b5b6-dbd96f888415' class='xr-var-data-in' type='checkbox'><label for='data-bfc6aab1-8781-4daa-b5b6-dbd96f888415' title='Show/Hide data repr'><svg class='icon xr-icon-database'><use xlink:href='#icon-database'></use></svg></label><div class='xr-var-attrs'><dl class='xr-attrs'><dt><span>year_range :</span></dt><dd>1981-2010</dd></dl></div><div class='xr-var-data'><pre>array([[12, 12, 12, ..., 12, 12, 12],\n",
       "       [12, 12, 12, ..., 12, 12, 12],\n",
       "       [12, 12, 12, ..., 12, 12, 12],\n",
       "       ...,\n",
       "       [12, 12, 12, ..., 12, 12, 12],\n",
       "       [12, 12, 12, ..., 12, 12, 12],\n",
       "       [12, 12, 12, ..., 12, 12, 12]], shape=(23, 69), dtype=uint16)</pre></div></li><li class='xr-var-item'><div class='xr-var-name'><span>kg5</span></div><div class='xr-var-dims'>(lat, long)</div><div class='xr-var-dtype'>uint16</div><div class='xr-var-preview xr-preview'>9 9 9 9 9 9 9 9 ... 9 9 9 9 9 23 23</div><input id='attrs-49401e38-91c5-4b86-8715-13773fa02cbb' class='xr-var-attrs-in' type='checkbox' ><label for='attrs-49401e38-91c5-4b86-8715-13773fa02cbb' title='Show/Hide attributes'><svg class='icon xr-icon-file-text2'><use xlink:href='#icon-file-text2'></use></svg></label><input id='data-deb1a0ec-5eca-4ec8-82c2-afc130e61ceb' class='xr-var-data-in' type='checkbox'><label for='data-deb1a0ec-5eca-4ec8-82c2-afc130e61ceb' title='Show/Hide data repr'><svg class='icon xr-icon-database'><use xlink:href='#icon-database'></use></svg></label><div class='xr-var-attrs'><dl class='xr-attrs'><dt><span>year_range :</span></dt><dd>1981-2010</dd></dl></div><div class='xr-var-data'><pre>array([[ 9,  9,  9, ...,  9,  9,  9],\n",
       "       [ 9,  9,  9, ...,  9,  9,  9],\n",
       "       [ 9,  9,  9, ...,  9,  9,  9],\n",
       "       ...,\n",
       "       [ 9,  9,  9, ...,  9, 23, 23],\n",
       "       [ 9,  9,  9, ...,  9, 23, 23],\n",
       "       [ 9,  9,  9, ...,  9, 23, 23]], shape=(23, 69), dtype=uint16)</pre></div></li><li class='xr-var-item'><div class='xr-var-name'><span>lgd</span></div><div class='xr-var-dims'>(lat, long)</div><div class='xr-var-dtype'>uint16</div><div class='xr-var-preview xr-preview'>0 0 0 0 0 0 0 0 ... 0 0 0 0 0 0 0 0</div><input id='attrs-c52ad843-a200-404d-93d7-488a4da8e131' class='xr-var-attrs-in' type='checkbox' ><label for='attrs-c52ad843-a200-404d-93d7-488a4da8e131' title='Show/Hide attributes'><svg class='icon xr-icon-file-text2'><use xlink:href='#icon-file-text2'></use></svg></label><input id='data-f567419a-3f68-48d4-a321-48d2e815c8e7' class='xr-var-data-in' type='checkbox'><label for='data-f567419a-3f68-48d4-a321-48d2e815c8e7' title='Show/Hide data repr'><svg class='icon xr-icon-database'><use xlink:href='#icon-database'></use></svg></label><div class='xr-var-attrs'><dl class='xr-attrs'><dt><span>year_range :</span></dt><dd>1981-2010</dd></dl></div><div class='xr-var-data'><pre>array([[0, 0, 0, ..., 0, 0, 0],\n",
       "       [0, 0, 0, ..., 0, 0, 0],\n",
       "       [0, 0, 0, ..., 0, 0, 0],\n",
       "       ...,\n",
       "       [0, 0, 0, ..., 0, 0, 0],\n",
       "       [0, 0, 0, ..., 0, 0, 0],\n",
       "       [0, 0, 0, ..., 0, 0, 0]], shape=(23, 69), dtype=uint16)</pre></div></li><li class='xr-var-item'><div class='xr-var-name'><span>ngd0</span></div><div class='xr-var-dims'>(lat, long)</div><div class='xr-var-dtype'>uint16</div><div class='xr-var-preview xr-preview'>365 365 365 365 ... 365 365 365 365</div><input id='attrs-8348abd1-56f6-4dae-ae0d-3164515437e0' class='xr-var-attrs-in' type='checkbox' ><label for='attrs-8348abd1-56f6-4dae-ae0d-3164515437e0' title='Show/Hide attributes'><svg class='icon xr-icon-file-text2'><use xlink:href='#icon-file-text2'></use></svg></label><input id='data-e43999d6-cf68-4116-9d97-6c83736e722c' class='xr-var-data-in' type='checkbox'><label for='data-e43999d6-cf68-4116-9d97-6c83736e722c' title='Show/Hide data repr'><svg class='icon xr-icon-database'><use xlink:href='#icon-database'></use></svg></label><div class='xr-var-attrs'><dl class='xr-attrs'><dt><span>year_range :</span></dt><dd>1981-2010</dd></dl></div><div class='xr-var-data'><pre>array([[365, 365, 365, ..., 365, 365, 365],\n",
       "       [365, 365, 365, ..., 365, 365, 365],\n",
       "       [365, 365, 365, ..., 365, 365, 365],\n",
       "       ...,\n",
       "       [365, 365, 365, ..., 365, 365, 365],\n",
       "       [365, 365, 365, ..., 365, 365, 365],\n",
       "       [365, 365, 365, ..., 365, 365, 365]], shape=(23, 69), dtype=uint16)</pre></div></li><li class='xr-var-item'><div class='xr-var-name'><span>ngd10</span></div><div class='xr-var-dims'>(lat, long)</div><div class='xr-var-dtype'>uint16</div><div class='xr-var-preview xr-preview'>189 188 188 187 ... 181 182 181 179</div><input id='attrs-5819f8c0-73b7-4c52-a671-082443909621' class='xr-var-attrs-in' type='checkbox' ><label for='attrs-5819f8c0-73b7-4c52-a671-082443909621' title='Show/Hide attributes'><svg class='icon xr-icon-file-text2'><use xlink:href='#icon-file-text2'></use></svg></label><input id='data-05f9794b-0749-43e4-a600-b46766b67dc0' class='xr-var-data-in' type='checkbox'><label for='data-05f9794b-0749-43e4-a600-b46766b67dc0' title='Show/Hide data repr'><svg class='icon xr-icon-database'><use xlink:href='#icon-database'></use></svg></label><div class='xr-var-attrs'><dl class='xr-attrs'><dt><span>year_range :</span></dt><dd>1981-2010</dd></dl></div><div class='xr-var-data'><pre>array([[189, 188, 188, ..., 188, 186, 185],\n",
       "       [187, 188, 188, ..., 188, 188, 188],\n",
       "       [187, 187, 187, ..., 186, 186, 186],\n",
       "       ...,\n",
       "       [183, 185, 185, ..., 181, 181, 179],\n",
       "       [185, 185, 187, ..., 181, 180, 179],\n",
       "       [187, 187, 187, ..., 182, 181, 179]], shape=(23, 69), dtype=uint16)</pre></div></li><li class='xr-var-item'><div class='xr-var-name'><span>ngd5</span></div><div class='xr-var-dims'>(lat, long)</div><div class='xr-var-dtype'>uint16</div><div class='xr-var-preview xr-preview'>278 278 278 278 ... 268 268 268 267</div><input id='attrs-468f9c85-0a17-443e-97f5-dd8b1643fb48' class='xr-var-attrs-in' type='checkbox' ><label for='attrs-468f9c85-0a17-443e-97f5-dd8b1643fb48' title='Show/Hide attributes'><svg class='icon xr-icon-file-text2'><use xlink:href='#icon-file-text2'></use></svg></label><input id='data-83f56252-99c8-4db5-8b0d-5371601f96e3' class='xr-var-data-in' type='checkbox'><label for='data-83f56252-99c8-4db5-8b0d-5371601f96e3' title='Show/Hide data repr'><svg class='icon xr-icon-database'><use xlink:href='#icon-database'></use></svg></label><div class='xr-var-attrs'><dl class='xr-attrs'><dt><span>year_range :</span></dt><dd>1981-2010</dd></dl></div><div class='xr-var-data'><pre>array([[278, 278, 278, ..., 275, 275, 273],\n",
       "       [277, 278, 278, ..., 275, 275, 275],\n",
       "       [277, 277, 277, ..., 274, 274, 275],\n",
       "       ...,\n",
       "       [272, 274, 274, ..., 268, 267, 267],\n",
       "       [274, 274, 276, ..., 268, 267, 267],\n",
       "       [276, 276, 276, ..., 268, 268, 267]], shape=(23, 69), dtype=uint16)</pre></div></li><li class='xr-var-item'><div class='xr-var-name'><span>npp</span></div><div class='xr-var-dims'>(lat, long)</div><div class='xr-var-dtype'>uint16</div><div class='xr-var-preview xr-preview'>12511 12526 12547 ... 12598 12651</div><input id='attrs-8d282f3b-56fb-4cbc-a982-78c55adf2fc8' class='xr-var-attrs-in' type='checkbox' ><label for='attrs-8d282f3b-56fb-4cbc-a982-78c55adf2fc8' title='Show/Hide attributes'><svg class='icon xr-icon-file-text2'><use xlink:href='#icon-file-text2'></use></svg></label><input id='data-f416f9b9-eb1e-47dc-9bf4-c36c9fb333a8' class='xr-var-data-in' type='checkbox'><label for='data-f416f9b9-eb1e-47dc-9bf4-c36c9fb333a8' title='Show/Hide data repr'><svg class='icon xr-icon-database'><use xlink:href='#icon-database'></use></svg></label><div class='xr-var-attrs'><dl class='xr-attrs'><dt><span>year_range :</span></dt><dd>1981-2010</dd></dl></div><div class='xr-var-data'><pre>array([[12511, 12526, 12547, ..., 12197, 12195, 12207],\n",
       "       [12507, 12511, 12523, ..., 12265, 12265, 12274],\n",
       "       [12564, 12559, 12564, ..., 12346, 12354, 12359],\n",
       "       ...,\n",
       "       [12427, 12414, 12392, ..., 12424, 12488, 12556],\n",
       "       [12392, 12372, 12349, ..., 12487, 12540, 12602],\n",
       "       [12361, 12338, 12317, ..., 12552, 12598, 12651]],\n",
       "      shape=(23, 69), dtype=uint16)</pre></div></li><li class='xr-var-item'><div class='xr-var-name'><span>pet_penman_max</span></div><div class='xr-var-dims'>(lat, long)</div><div class='xr-var-dtype'>uint16</div><div class='xr-var-preview xr-preview'>11986 12371 12662 ... 12769 12889</div><input id='attrs-7cefc0f5-8e9a-4c9f-aab9-596a92de11c5' class='xr-var-attrs-in' type='checkbox' ><label for='attrs-7cefc0f5-8e9a-4c9f-aab9-596a92de11c5' title='Show/Hide attributes'><svg class='icon xr-icon-file-text2'><use xlink:href='#icon-file-text2'></use></svg></label><input id='data-9f5906f0-9f62-4e5a-9da8-bfa7300b1f79' class='xr-var-data-in' type='checkbox'><label for='data-9f5906f0-9f62-4e5a-9da8-bfa7300b1f79' title='Show/Hide data repr'><svg class='icon xr-icon-database'><use xlink:href='#icon-database'></use></svg></label><div class='xr-var-attrs'><dl class='xr-attrs'><dt><span>year_range :</span></dt><dd>1981-2010</dd></dl></div><div class='xr-var-data'><pre>array([[11986, 12371, 12662, ..., 11905, 11871, 12044],\n",
       "       [12831, 12806, 12758, ..., 12408, 12228, 12126],\n",
       "       [12838, 12809, 12790, ..., 12229, 12167, 12396],\n",
       "       ...,\n",
       "       [12568, 12908, 12781, ..., 12501, 12852, 12890],\n",
       "       [12921, 12782, 12371, ..., 12545, 12864, 12904],\n",
       "       [12869, 12667, 12213, ..., 12561, 12769, 12889]],\n",
       "      shape=(23, 69), dtype=uint16)</pre></div></li><li class='xr-var-item'><div class='xr-var-name'><span>pet_penman_mean</span></div><div class='xr-var-dims'>(lat, long)</div><div class='xr-var-dtype'>uint16</div><div class='xr-var-preview xr-preview'>6229 6589 6853 ... 6793 6987 7091</div><input id='attrs-8f43a87e-4f08-4dc3-9e83-c3ee684131e2' class='xr-var-attrs-in' type='checkbox' ><label for='attrs-8f43a87e-4f08-4dc3-9e83-c3ee684131e2' title='Show/Hide attributes'><svg class='icon xr-icon-file-text2'><use xlink:href='#icon-file-text2'></use></svg></label><input id='data-54c3d28a-536b-43d8-aa65-6a17aaae5b25' class='xr-var-data-in' type='checkbox'><label for='data-54c3d28a-536b-43d8-aa65-6a17aaae5b25' title='Show/Hide data repr'><svg class='icon xr-icon-database'><use xlink:href='#icon-database'></use></svg></label><div class='xr-var-attrs'><dl class='xr-attrs'><dt><span>year_range :</span></dt><dd>1981-2010</dd></dl></div><div class='xr-var-data'><pre>array([[6229, 6589, 6853, ..., 6165, 6139, 6312],\n",
       "       [7015, 6990, 6947, ..., 6626, 6462, 6369],\n",
       "       [7015, 6992, 6975, ..., 6467, 6413, 6619],\n",
       "       ...,\n",
       "       [6804, 7101, 6987, ..., 6747, 7061, 7095],\n",
       "       [7107, 6984, 6607, ..., 6789, 7071, 7107],\n",
       "       [7055, 6874, 6461, ..., 6793, 6987, 7091]],\n",
       "      shape=(23, 69), dtype=uint16)</pre></div></li><li class='xr-var-item'><div class='xr-var-name'><span>pet_penman_min</span></div><div class='xr-var-dims'>(lat, long)</div><div class='xr-var-dtype'>uint16</div><div class='xr-var-preview xr-preview'>1900 2231 2464 ... 2445 2629 2727</div><input id='attrs-c69b7763-ee5f-422a-b5be-2ace6e69e97f' class='xr-var-attrs-in' type='checkbox' ><label for='attrs-c69b7763-ee5f-422a-b5be-2ace6e69e97f' title='Show/Hide attributes'><svg class='icon xr-icon-file-text2'><use xlink:href='#icon-file-text2'></use></svg></label><input id='data-4be84148-a227-4854-a82a-56177302e5b9' class='xr-var-data-in' type='checkbox'><label for='data-4be84148-a227-4854-a82a-56177302e5b9' title='Show/Hide data repr'><svg class='icon xr-icon-database'><use xlink:href='#icon-database'></use></svg></label><div class='xr-var-attrs'><dl class='xr-attrs'><dt><span>year_range :</span></dt><dd>1981-2010</dd></dl></div><div class='xr-var-data'><pre>array([[1900, 2231, 2464, ..., 1849, 1826, 1996],\n",
       "       [2643, 2612, 2569, ..., 2277, 2118, 2017],\n",
       "       [2647, 2625, 2608, ..., 2149, 2097, 2274],\n",
       "       ...,\n",
       "       [2415, 2674, 2569, ..., 2426, 2711, 2744],\n",
       "       [2669, 2560, 2214, ..., 2453, 2706, 2742],\n",
       "       [2633, 2470, 2107, ..., 2445, 2629, 2727]],\n",
       "      shape=(23, 69), dtype=uint16)</pre></div></li><li class='xr-var-item'><div class='xr-var-name'><span>pet_penman_range</span></div><div class='xr-var-dims'>(lat, long)</div><div class='xr-var-dtype'>uint16</div><div class='xr-var-preview xr-preview'>10086 10140 10197 ... 10140 10162</div><input id='attrs-14e589a2-ede6-4f8f-9aac-f8eaf375fa90' class='xr-var-attrs-in' type='checkbox' ><label for='attrs-14e589a2-ede6-4f8f-9aac-f8eaf375fa90' title='Show/Hide attributes'><svg class='icon xr-icon-file-text2'><use xlink:href='#icon-file-text2'></use></svg></label><input id='data-b1f159fe-1d9b-4721-b626-40e6b94cfdf8' class='xr-var-data-in' type='checkbox'><label for='data-b1f159fe-1d9b-4721-b626-40e6b94cfdf8' title='Show/Hide data repr'><svg class='icon xr-icon-database'><use xlink:href='#icon-database'></use></svg></label><div class='xr-var-attrs'><dl class='xr-attrs'><dt><span>year_range :</span></dt><dd>1981-2010</dd></dl></div><div class='xr-var-data'><pre>array([[10086, 10140, 10197, ..., 10056, 10045, 10048],\n",
       "       [10188, 10194, 10189, ..., 10130, 10110, 10109],\n",
       "       [10191, 10184, 10181, ..., 10079, 10070, 10122],\n",
       "       ...,\n",
       "       [10153, 10234, 10213, ..., 10075, 10141, 10146],\n",
       "       [10252, 10222, 10157, ..., 10093, 10158, 10162],\n",
       "       [10237, 10197, 10106, ..., 10115, 10140, 10162]],\n",
       "      shape=(23, 69), dtype=uint16)</pre></div></li><li class='xr-var-item'><div class='xr-var-name'><span>rsds_max</span></div><div class='xr-var-dims'>(lat, long)</div><div class='xr-var-dtype'>uint16</div><div class='xr-var-preview xr-preview'>18631 18636 18645 ... 18586 18583</div><input id='attrs-2791045e-059d-4558-bdbd-bbef1de3b08e' class='xr-var-attrs-in' type='checkbox' ><label for='attrs-2791045e-059d-4558-bdbd-bbef1de3b08e' title='Show/Hide attributes'><svg class='icon xr-icon-file-text2'><use xlink:href='#icon-file-text2'></use></svg></label><input id='data-5c7cfb59-2b8c-4b99-bf6d-bb90aff44b24' class='xr-var-data-in' type='checkbox'><label for='data-5c7cfb59-2b8c-4b99-bf6d-bb90aff44b24' title='Show/Hide data repr'><svg class='icon xr-icon-database'><use xlink:href='#icon-database'></use></svg></label><div class='xr-var-attrs'><dl class='xr-attrs'><dt><span>year_range :</span></dt><dd>1981-2010</dd></dl></div><div class='xr-var-data'><pre>array([[18631, 18636, 18645, ..., 18540, 18546, 18558],\n",
       "       [18618, 18623, 18629, ..., 18539, 18550, 18573],\n",
       "       [18613, 18612, 18613, ..., 18532, 18536, 18548],\n",
       "       ...,\n",
       "       [18682, 18681, 18674, ..., 18574, 18580, 18576],\n",
       "       [18685, 18678, 18657, ..., 18592, 18593, 18587],\n",
       "       [18645, 18635, 18614, ..., 18588, 18586, 18583]],\n",
       "      shape=(23, 69), dtype=uint16)</pre></div></li><li class='xr-var-item'><div class='xr-var-name'><span>rsds_min</span></div><div class='xr-var-dims'>(lat, long)</div><div class='xr-var-dtype'>uint16</div><div class='xr-var-preview xr-preview'>2228 2237 2251 ... 2259 2253 2245</div><input id='attrs-a9ba254f-e81d-4a34-99ee-f72f6deff633' class='xr-var-attrs-in' type='checkbox' ><label for='attrs-a9ba254f-e81d-4a34-99ee-f72f6deff633' title='Show/Hide attributes'><svg class='icon xr-icon-file-text2'><use xlink:href='#icon-file-text2'></use></svg></label><input id='data-d6b3e9ba-c413-4442-8f52-ad59ba00bb49' class='xr-var-data-in' type='checkbox'><label for='data-d6b3e9ba-c413-4442-8f52-ad59ba00bb49' title='Show/Hide data repr'><svg class='icon xr-icon-database'><use xlink:href='#icon-database'></use></svg></label><div class='xr-var-attrs'><dl class='xr-attrs'><dt><span>year_range :</span></dt><dd>1981-2010</dd></dl></div><div class='xr-var-data'><pre>array([[2228, 2237, 2251, ..., 2227, 2234, 2245],\n",
       "       [2207, 2217, 2229, ..., 2221, 2234, 2263],\n",
       "       [2196, 2199, 2204, ..., 2203, 2207, 2224],\n",
       "       ...,\n",
       "       [2325, 2331, 2331, ..., 2234, 2238, 2230],\n",
       "       [2342, 2338, 2316, ..., 2259, 2259, 2247],\n",
       "       [2295, 2287, 2262, ..., 2259, 2253, 2245]],\n",
       "      shape=(23, 69), dtype=uint16)</pre></div></li><li class='xr-var-item'><div class='xr-var-name'><span>rsds_mean</span></div><div class='xr-var-dims'>(lat, long)</div><div class='xr-var-dtype'>uint16</div><div class='xr-var-preview xr-preview'>10573 10585 10603 ... 10568 10560</div><input id='attrs-65715f31-b916-4b1d-8a42-3a14b851f9ca' class='xr-var-attrs-in' type='checkbox' ><label for='attrs-65715f31-b916-4b1d-8a42-3a14b851f9ca' title='Show/Hide attributes'><svg class='icon xr-icon-file-text2'><use xlink:href='#icon-file-text2'></use></svg></label><input id='data-382ccb30-5868-4cb6-9a62-6ca9e59a1ae3' class='xr-var-data-in' type='checkbox'><label for='data-382ccb30-5868-4cb6-9a62-6ca9e59a1ae3' title='Show/Hide data repr'><svg class='icon xr-icon-database'><use xlink:href='#icon-database'></use></svg></label><div class='xr-var-attrs'><dl class='xr-attrs'><dt><span>year_range :</span></dt><dd>1981-2010</dd></dl></div><div class='xr-var-data'><pre>array([[10573, 10585, 10603, ..., 10513, 10521, 10537],\n",
       "       [10546, 10558, 10572, ..., 10505, 10523, 10561],\n",
       "       [10532, 10535, 10540, ..., 10484, 10489, 10511],\n",
       "       ...,\n",
       "       [10690, 10694, 10690, ..., 10537, 10547, 10540],\n",
       "       [10707, 10700, 10667, ..., 10572, 10575, 10563],\n",
       "       [10643, 10630, 10594, ..., 10573, 10568, 10560]],\n",
       "      shape=(23, 69), dtype=uint16)</pre></div></li><li class='xr-var-item'><div class='xr-var-name'><span>rsds_range</span></div><div class='xr-var-dims'>(lat, long)</div><div class='xr-var-dtype'>uint16</div><div class='xr-var-preview xr-preview'>16403 16399 16394 ... 16333 16338</div><input id='attrs-4ffadb31-b8fe-450d-b4d0-8aafabc28c7d' class='xr-var-attrs-in' type='checkbox' ><label for='attrs-4ffadb31-b8fe-450d-b4d0-8aafabc28c7d' title='Show/Hide attributes'><svg class='icon xr-icon-file-text2'><use xlink:href='#icon-file-text2'></use></svg></label><input id='data-01538089-15ba-427e-a158-72cdeb72efb7' class='xr-var-data-in' type='checkbox'><label for='data-01538089-15ba-427e-a158-72cdeb72efb7' title='Show/Hide data repr'><svg class='icon xr-icon-database'><use xlink:href='#icon-database'></use></svg></label><div class='xr-var-attrs'><dl class='xr-attrs'><dt><span>year_range :</span></dt><dd>1981-2010</dd></dl></div><div class='xr-var-data'><pre>array([[16403, 16399, 16394, ..., 16313, 16312, 16313],\n",
       "       [16411, 16406, 16400, ..., 16318, 16316, 16310],\n",
       "       [16417, 16413, 16409, ..., 16329, 16329, 16324],\n",
       "       ...,\n",
       "       [16357, 16350, 16343, ..., 16340, 16342, 16346],\n",
       "       [16343, 16340, 16341, ..., 16333, 16334, 16340],\n",
       "       [16350, 16348, 16352, ..., 16329, 16333, 16338]],\n",
       "      shape=(23, 69), dtype=uint16)</pre></div></li><li class='xr-var-item'><div class='xr-var-name'><span>scd</span></div><div class='xr-var-dims'>(lat, long)</div><div class='xr-var-dtype'>uint16</div><div class='xr-var-preview xr-preview'>0 0 0 0 0 0 0 0 ... 0 0 0 0 0 0 0 0</div><input id='attrs-1e83f8a6-41f6-42cf-94d3-7ea818f1d88e' class='xr-var-attrs-in' type='checkbox' ><label for='attrs-1e83f8a6-41f6-42cf-94d3-7ea818f1d88e' title='Show/Hide attributes'><svg class='icon xr-icon-file-text2'><use xlink:href='#icon-file-text2'></use></svg></label><input id='data-93448c5c-fa4a-46f3-95bf-6516424dae79' class='xr-var-data-in' type='checkbox'><label for='data-93448c5c-fa4a-46f3-95bf-6516424dae79' title='Show/Hide data repr'><svg class='icon xr-icon-database'><use xlink:href='#icon-database'></use></svg></label><div class='xr-var-attrs'><dl class='xr-attrs'><dt><span>year_range :</span></dt><dd>1981-2010</dd></dl></div><div class='xr-var-data'><pre>array([[0, 0, 0, ..., 0, 0, 0],\n",
       "       [0, 0, 0, ..., 0, 0, 0],\n",
       "       [0, 0, 0, ..., 0, 0, 0],\n",
       "       ...,\n",
       "       [0, 0, 0, ..., 0, 0, 0],\n",
       "       [0, 0, 0, ..., 0, 0, 0],\n",
       "       [0, 0, 0, ..., 0, 0, 0]], shape=(23, 69), dtype=uint16)</pre></div></li><li class='xr-var-item'><div class='xr-var-name'><span>sfcWind_max</span></div><div class='xr-var-dims'>(lat, long)</div><div class='xr-var-dtype'>uint16</div><div class='xr-var-preview xr-preview'>4337 4848 5124 ... 5458 5786 5988</div><input id='attrs-75881e79-0c07-4250-95ec-b83187ffbf7b' class='xr-var-attrs-in' type='checkbox' ><label for='attrs-75881e79-0c07-4250-95ec-b83187ffbf7b' title='Show/Hide attributes'><svg class='icon xr-icon-file-text2'><use xlink:href='#icon-file-text2'></use></svg></label><input id='data-ba0c1178-e7e0-4737-9a14-5a038c047694' class='xr-var-data-in' type='checkbox'><label for='data-ba0c1178-e7e0-4737-9a14-5a038c047694' title='Show/Hide data repr'><svg class='icon xr-icon-database'><use xlink:href='#icon-database'></use></svg></label><div class='xr-var-attrs'><dl class='xr-attrs'><dt><span>year_range :</span></dt><dd>1981-2010</dd></dl></div><div class='xr-var-data'><pre>array([[4337, 4848, 5124, ..., 4052, 4060, 4394],\n",
       "       [5432, 5368, 5308, ..., 4660, 4476, 4385],\n",
       "       [5470, 5424, 5390, ..., 4689, 4596, 4790],\n",
       "       ...,\n",
       "       [5316, 5547, 5363, ..., 5436, 5853, 5987],\n",
       "       [5515, 5325, 4843, ..., 5553, 5897, 6017],\n",
       "       [5399, 5150, 4709, ..., 5458, 5786, 5988]],\n",
       "      shape=(23, 69), dtype=uint16)</pre></div></li><li class='xr-var-item'><div class='xr-var-name'><span>sfcWind_mean</span></div><div class='xr-var-dims'>(lat, long)</div><div class='xr-var-dtype'>uint16</div><div class='xr-var-preview xr-preview'>3593 4015 4243 ... 4492 4761 4927</div><input id='attrs-4a7bdd1d-5176-4b53-9cef-789bea439014' class='xr-var-attrs-in' type='checkbox' ><label for='attrs-4a7bdd1d-5176-4b53-9cef-789bea439014' title='Show/Hide attributes'><svg class='icon xr-icon-file-text2'><use xlink:href='#icon-file-text2'></use></svg></label><input id='data-f6ca185c-e734-4f1d-8f7c-16dbe0e4ce0d' class='xr-var-data-in' type='checkbox'><label for='data-f6ca185c-e734-4f1d-8f7c-16dbe0e4ce0d' title='Show/Hide data repr'><svg class='icon xr-icon-database'><use xlink:href='#icon-database'></use></svg></label><div class='xr-var-attrs'><dl class='xr-attrs'><dt><span>year_range :</span></dt><dd>1981-2010</dd></dl></div><div class='xr-var-data'><pre>array([[3593, 4015, 4243, ..., 3339, 3345, 3620],\n",
       "       [4499, 4445, 4396, ..., 3840, 3688, 3613],\n",
       "       [4530, 4492, 4463, ..., 3862, 3786, 3945],\n",
       "       ...,\n",
       "       [4401, 4591, 4438, ..., 4472, 4815, 4925],\n",
       "       [4565, 4407, 4008, ..., 4569, 4852, 4950],\n",
       "       [4469, 4262, 3897, ..., 4492, 4761, 4927]],\n",
       "      shape=(23, 69), dtype=uint16)</pre></div></li><li class='xr-var-item'><div class='xr-var-name'><span>sfcWind_min</span></div><div class='xr-var-dims'>(lat, long)</div><div class='xr-var-dtype'>uint16</div><div class='xr-var-preview xr-preview'>3006 3359 3549 ... 3719 3942 4079</div><input id='attrs-5f53363e-0b86-4036-8f13-3a8f6d6bd538' class='xr-var-attrs-in' type='checkbox' ><label for='attrs-5f53363e-0b86-4036-8f13-3a8f6d6bd538' title='Show/Hide attributes'><svg class='icon xr-icon-file-text2'><use xlink:href='#icon-file-text2'></use></svg></label><input id='data-29bee322-9151-4273-b044-a614b5fcb3fe' class='xr-var-data-in' type='checkbox'><label for='data-29bee322-9151-4273-b044-a614b5fcb3fe' title='Show/Hide data repr'><svg class='icon xr-icon-database'><use xlink:href='#icon-database'></use></svg></label><div class='xr-var-attrs'><dl class='xr-attrs'><dt><span>year_range :</span></dt><dd>1981-2010</dd></dl></div><div class='xr-var-data'><pre>array([[3006, 3359, 3549, ..., 2782, 2787, 3016],\n",
       "       [3763, 3718, 3676, ..., 3198, 3072, 3009],\n",
       "       [3789, 3757, 3732, ..., 3216, 3152, 3285],\n",
       "       ...,\n",
       "       [3663, 3822, 3694, ..., 3704, 3988, 4079],\n",
       "       [3799, 3667, 3335, ..., 3784, 4017, 4099],\n",
       "       [3718, 3545, 3242, ..., 3719, 3942, 4079]],\n",
       "      shape=(23, 69), dtype=uint16)</pre></div></li><li class='xr-var-item'><div class='xr-var-name'><span>sfcWind_range</span></div><div class='xr-var-dims'>(lat, long)</div><div class='xr-var-dtype'>uint16</div><div class='xr-var-preview xr-preview'>1331 1489 1574 ... 1739 1844 1909</div><input id='attrs-ceaf62a4-c283-4661-989a-ac97463cfb21' class='xr-var-attrs-in' type='checkbox' ><label for='attrs-ceaf62a4-c283-4661-989a-ac97463cfb21' title='Show/Hide attributes'><svg class='icon xr-icon-file-text2'><use xlink:href='#icon-file-text2'></use></svg></label><input id='data-55028c67-d46e-4656-a75b-2fc4647051df' class='xr-var-data-in' type='checkbox'><label for='data-55028c67-d46e-4656-a75b-2fc4647051df' title='Show/Hide data repr'><svg class='icon xr-icon-database'><use xlink:href='#icon-database'></use></svg></label><div class='xr-var-attrs'><dl class='xr-attrs'><dt><span>year_range :</span></dt><dd>1981-2010</dd></dl></div><div class='xr-var-data'><pre>array([[1331, 1489, 1574, ..., 1269, 1272, 1378],\n",
       "       [1668, 1649, 1632, ..., 1462, 1404, 1377],\n",
       "       [1681, 1668, 1658, ..., 1472, 1444, 1505],\n",
       "       ...,\n",
       "       [1653, 1726, 1669, ..., 1732, 1866, 1909],\n",
       "       [1716, 1658, 1508, ..., 1769, 1879, 1918],\n",
       "       [1681, 1604, 1468, ..., 1739, 1844, 1909]],\n",
       "      shape=(23, 69), dtype=uint16)</pre></div></li><li class='xr-var-item'><div class='xr-var-name'><span>swb</span></div><div class='xr-var-dims'>(lat, long)</div><div class='xr-var-dtype'>int16</div><div class='xr-var-preview xr-preview'>-6 -38 -59 -47 ... -54 -63 -72 -76</div><input id='attrs-b4a6dd64-a33b-4e29-bd6b-c995971b97e4' class='xr-var-attrs-in' type='checkbox' ><label for='attrs-b4a6dd64-a33b-4e29-bd6b-c995971b97e4' title='Show/Hide attributes'><svg class='icon xr-icon-file-text2'><use xlink:href='#icon-file-text2'></use></svg></label><input id='data-826452fe-fe6f-4864-b78e-dd958a4f926e' class='xr-var-data-in' type='checkbox'><label for='data-826452fe-fe6f-4864-b78e-dd958a4f926e' title='Show/Hide data repr'><svg class='icon xr-icon-database'><use xlink:href='#icon-database'></use></svg></label><div class='xr-var-attrs'><dl class='xr-attrs'><dt><span>year_range :</span></dt><dd>1981-2010</dd></dl></div><div class='xr-var-data'><pre>array([[ -6, -38, -59, ..., -26, -26, -37],\n",
       "       [-76, -74, -71, ..., -57, -46, -38],\n",
       "       [-80, -79, -78, ..., -38, -37, -54],\n",
       "       ...,\n",
       "       [-65, -90, -83, ..., -66, -90, -84],\n",
       "       [-96, -82, -48, ..., -66, -83, -82],\n",
       "       [-89, -74, -37, ..., -63, -72, -76]], shape=(23, 69), dtype=int16)</pre></div></li><li class='xr-var-item'><div class='xr-var-name'><span>swe</span></div><div class='xr-var-dims'>(lat, long)</div><div class='xr-var-dtype'>uint16</div><div class='xr-var-preview xr-preview'>65535 65535 65535 ... 65535 65535</div><input id='attrs-8fd0c711-0c1f-442d-93cb-43170a54d9db' class='xr-var-attrs-in' type='checkbox' ><label for='attrs-8fd0c711-0c1f-442d-93cb-43170a54d9db' title='Show/Hide attributes'><svg class='icon xr-icon-file-text2'><use xlink:href='#icon-file-text2'></use></svg></label><input id='data-854cffc0-2a3f-469e-855e-1c889affd017' class='xr-var-data-in' type='checkbox'><label for='data-854cffc0-2a3f-469e-855e-1c889affd017' title='Show/Hide data repr'><svg class='icon xr-icon-database'><use xlink:href='#icon-database'></use></svg></label><div class='xr-var-attrs'><dl class='xr-attrs'><dt><span>year_range :</span></dt><dd>1981-2010</dd></dl></div><div class='xr-var-data'><pre>array([[65535, 65535, 65535, ..., 65535, 65535, 65535],\n",
       "       [65535, 65535, 65535, ..., 65535, 65535, 65535],\n",
       "       [65535, 65535, 65535, ..., 65535, 65535, 65535],\n",
       "       ...,\n",
       "       [65535, 65535, 65535, ..., 65535, 65535, 65535],\n",
       "       [65535, 65535, 65535, ..., 65535, 65535, 65535],\n",
       "       [65535, 65535, 65535, ..., 65535, 65535, 65535]],\n",
       "      shape=(23, 69), dtype=uint16)</pre></div></li><li class='xr-var-item'><div class='xr-var-name'><span>vpd_max</span></div><div class='xr-var-dims'>(lat, long)</div><div class='xr-var-dtype'>uint16</div><div class='xr-var-preview xr-preview'>8349 8340 8336 ... 8033 7983 7955</div><input id='attrs-cbf19af4-f1fc-48f4-ac1a-a9ad36f440eb' class='xr-var-attrs-in' type='checkbox' ><label for='attrs-cbf19af4-f1fc-48f4-ac1a-a9ad36f440eb' title='Show/Hide attributes'><svg class='icon xr-icon-file-text2'><use xlink:href='#icon-file-text2'></use></svg></label><input id='data-14116788-59fa-4ade-b2ca-c8075840dd8f' class='xr-var-data-in' type='checkbox'><label for='data-14116788-59fa-4ade-b2ca-c8075840dd8f' title='Show/Hide data repr'><svg class='icon xr-icon-database'><use xlink:href='#icon-database'></use></svg></label><div class='xr-var-attrs'><dl class='xr-attrs'><dt><span>year_range :</span></dt><dd>1981-2010</dd></dl></div><div class='xr-var-data'><pre>array([[8349, 8340, 8336, ..., 8485, 8452, 8381],\n",
       "       [8286, 8304, 8302, ..., 8471, 8474, 8465],\n",
       "       [8272, 8274, 8277, ..., 8404, 8393, 8409],\n",
       "       ...,\n",
       "       [8159, 8202, 8229, ..., 8046, 8009, 7978],\n",
       "       [8236, 8243, 8293, ..., 8016, 7995, 7968],\n",
       "       [8275, 8298, 8291, ..., 8033, 7983, 7955]],\n",
       "      shape=(23, 69), dtype=uint16)</pre></div></li><li class='xr-var-item'><div class='xr-var-name'><span>vpd_mean</span></div><div class='xr-var-dims'>(lat, long)</div><div class='xr-var-dtype'>uint16</div><div class='xr-var-preview xr-preview'>5056 5050 5046 ... 4826 4799 4779</div><input id='attrs-6af40a1c-e458-4e47-a1fe-cc5567464f62' class='xr-var-attrs-in' type='checkbox' ><label for='attrs-6af40a1c-e458-4e47-a1fe-cc5567464f62' title='Show/Hide attributes'><svg class='icon xr-icon-file-text2'><use xlink:href='#icon-file-text2'></use></svg></label><input id='data-77a6eb1c-a6e4-4909-bd76-8ac85f329031' class='xr-var-data-in' type='checkbox'><label for='data-77a6eb1c-a6e4-4909-bd76-8ac85f329031' title='Show/Hide data repr'><svg class='icon xr-icon-database'><use xlink:href='#icon-database'></use></svg></label><div class='xr-var-attrs'><dl class='xr-attrs'><dt><span>year_range :</span></dt><dd>1981-2010</dd></dl></div><div class='xr-var-data'><pre>array([[5056, 5050, 5046, ..., 5095, 5080, 5042],\n",
       "       [5025, 5034, 5031, ..., 5088, 5089, 5082],\n",
       "       [5010, 5014, 5015, ..., 5050, 5044, 5052],\n",
       "       ...,\n",
       "       [4935, 4958, 4973, ..., 4842, 4819, 4798],\n",
       "       [4975, 4978, 5007, ..., 4823, 4807, 4791],\n",
       "       [4998, 5013, 5007, ..., 4826, 4799, 4779]],\n",
       "      shape=(23, 69), dtype=uint16)</pre></div></li><li class='xr-var-item'><div class='xr-var-name'><span>vpd_min</span></div><div class='xr-var-dims'>(lat, long)</div><div class='xr-var-dtype'>uint16</div><div class='xr-var-preview xr-preview'>2546 2542 2539 ... 2411 2398 2387</div><input id='attrs-68b39a5a-85de-4095-892b-346a69a08cb5' class='xr-var-attrs-in' type='checkbox' ><label for='attrs-68b39a5a-85de-4095-892b-346a69a08cb5' title='Show/Hide attributes'><svg class='icon xr-icon-file-text2'><use xlink:href='#icon-file-text2'></use></svg></label><input id='data-1f3a869e-8d9c-403b-81de-c59bfffa1d7a' class='xr-var-data-in' type='checkbox'><label for='data-1f3a869e-8d9c-403b-81de-c59bfffa1d7a' title='Show/Hide data repr'><svg class='icon xr-icon-database'><use xlink:href='#icon-database'></use></svg></label><div class='xr-var-attrs'><dl class='xr-attrs'><dt><span>year_range :</span></dt><dd>1981-2010</dd></dl></div><div class='xr-var-data'><pre>array([[2546, 2542, 2539, ..., 2549, 2545, 2534],\n",
       "       [2539, 2540, 2538, ..., 2541, 2540, 2537],\n",
       "       [2529, 2530, 2529, ..., 2525, 2522, 2523],\n",
       "       ...,\n",
       "       [2493, 2499, 2505, ..., 2431, 2419, 2405],\n",
       "       [2505, 2507, 2512, ..., 2420, 2408, 2397],\n",
       "       [2510, 2516, 2516, ..., 2411, 2398, 2387]],\n",
       "      shape=(23, 69), dtype=uint16)</pre></div></li><li class='xr-var-item'><div class='xr-var-name'><span>vpd_range</span></div><div class='xr-var-dims'>(lat, long)</div><div class='xr-var-dtype'>uint16</div><div class='xr-var-preview xr-preview'>5803 5798 5797 ... 5622 5585 5568</div><input id='attrs-dd2feb86-8bce-4de4-b7a8-820fa9d9767d' class='xr-var-attrs-in' type='checkbox' ><label for='attrs-dd2feb86-8bce-4de4-b7a8-820fa9d9767d' title='Show/Hide attributes'><svg class='icon xr-icon-file-text2'><use xlink:href='#icon-file-text2'></use></svg></label><input id='data-55123673-d178-4805-ae75-9c6b9526f5ad' class='xr-var-data-in' type='checkbox'><label for='data-55123673-d178-4805-ae75-9c6b9526f5ad' title='Show/Hide data repr'><svg class='icon xr-icon-database'><use xlink:href='#icon-database'></use></svg></label><div class='xr-var-attrs'><dl class='xr-attrs'><dt><span>year_range :</span></dt><dd>1981-2010</dd></dl></div><div class='xr-var-data'><pre>array([[5803, 5798, 5797, ..., 5936, 5907, 5847],\n",
       "       [5747, 5764, 5764, ..., 5930, 5934, 5928],\n",
       "       [5743, 5744, 5748, ..., 5879, 5871, 5886],\n",
       "       ...,\n",
       "       [5666, 5703, 5724, ..., 5615, 5590, 5573],\n",
       "       [5731, 5736, 5781, ..., 5596, 5587, 5571],\n",
       "       [5765, 5782, 5775, ..., 5622, 5585, 5568]],\n",
       "      shape=(23, 69), dtype=uint16)</pre></div></li></ul></div></li><li class='xr-section-item'><input id='section-1cc55d88-bc05-47be-a570-0d565dc9aa44' class='xr-section-summary-in' type='checkbox'  ><label for='section-1cc55d88-bc05-47be-a570-0d565dc9aa44' class='xr-section-summary' >Indexes: <span>(2)</span></label><div class='xr-section-inline-details'></div><div class='xr-section-details'><ul class='xr-var-list'><li class='xr-var-item'><div class='xr-index-name'><div>lat</div></div><div class='xr-index-preview'>PandasIndex</div><div></div><input id='index-c3d63075-9a8a-4026-817f-0f411dc3a811' class='xr-index-data-in' type='checkbox'/><label for='index-c3d63075-9a8a-4026-817f-0f411dc3a811' title='Show/Hide index repr'><svg class='icon xr-icon-database'><use xlink:href='#icon-database'></use></svg></label><div class='xr-index-data'><pre>PandasIndex(Index([50.87374433334999, 50.86541100004999, 50.85707766674999,\n",
       "       50.84874433344999, 50.84041100014999, 50.83207766684999,\n",
       "       50.82374433354999, 50.81541100024999, 50.80707766694999,\n",
       "       50.79874433364999, 50.79041100034999, 50.78207766704999,\n",
       "       50.77374433374999, 50.76541100044999, 50.75707766714999,\n",
       "       50.74874433384999, 50.74041100054999, 50.73207766724999,\n",
       "       50.72374433394999, 50.71541100064999, 50.70707766734999,\n",
       "       50.69874433404999, 50.69041100074999],\n",
       "      dtype=&#x27;float64&#x27;, name=&#x27;lat&#x27;))</pre></div></li><li class='xr-var-item'><div class='xr-index-name'><div>long</div></div><div class='xr-index-preview'>PandasIndex</div><div></div><input id='index-a18f35f8-a305-42b5-9874-8d69b8937e05' class='xr-index-data-in' type='checkbox'/><label for='index-a18f35f8-a305-42b5-9874-8d69b8937e05' title='Show/Hide index repr'><svg class='icon xr-icon-database'><use xlink:href='#icon-database'></use></svg></label><div class='xr-index-data'><pre>PandasIndex(Index([ 4.175537666650022,  4.183870999950022,  4.192204333250022,\n",
       "        4.200537666550022, 4.2088709998500216,  4.217204333150022,\n",
       "       4.2255376664500215,  4.233870999750022,  4.242204333050022,\n",
       "        4.250537666350022,  4.258870999650022,  4.267204332950022,\n",
       "        4.275537666250022,  4.283870999550022,  4.292204332850022,\n",
       "        4.300537666150022,  4.308870999450022,  4.317204332750022,\n",
       "        4.325537666050022, 4.3338709993500215,  4.342204332650022,\n",
       "        4.350537665950022,  4.358870999250022,  4.367204332550022,\n",
       "        4.375537665850022,  4.383870999150022,  4.392204332450022,\n",
       "        4.400537665750022,  4.408870999050022,  4.417204332350022,\n",
       "        4.425537665650022,  4.433870998950022, 4.4422043322500215,\n",
       "        4.450537665550022,  4.458870998850022,  4.467204332150022,\n",
       "        4.475537665450022,  4.483870998750022,  4.492204332050022,\n",
       "        4.500537665350022,  4.508870998650022,  4.517204331950022,\n",
       "        4.525537665250022,  4.533870998550022,  4.542204331850022,\n",
       "        4.550537665150022,  4.558870998450022, 4.5672043317500215,\n",
       "        4.575537665050022,  4.583870998350022,  4.592204331650022,\n",
       "        4.600537664950022,  4.608870998250022,  4.617204331550022,\n",
       "        4.625537664850022,  4.633870998150022,  4.642204331450022,\n",
       "        4.650537664750022,  4.658870998050022,  4.667204331350022,\n",
       "        4.675537664650022,  4.683870997950022,  4.692204331250022,\n",
       "        4.700537664550022,  4.708870997850022,  4.717204331150022,\n",
       "        4.725537664450022,  4.733870997750022,  4.742204331050022],\n",
       "      dtype=&#x27;float64&#x27;, name=&#x27;long&#x27;))</pre></div></li></ul></div></li><li class='xr-section-item'><input id='section-18920f32-1a53-4968-be27-b0dc38f981a9' class='xr-section-summary-in' type='checkbox' disabled ><label for='section-18920f32-1a53-4968-be27-b0dc38f981a9' class='xr-section-summary'  title='Expand/collapse section'>Attributes: <span>(0)</span></label><div class='xr-section-inline-details'></div><div class='xr-section-details'><dl class='xr-attrs'></dl></div></li></ul></div></div>"
      ],
      "text/plain": [
       "<xarray.Dataset> Size: 299kB\n",
       "Dimensions:           (lat: 23, long: 69)\n",
       "Coordinates:\n",
       "  * lat               (lat) float64 184B 50.87 50.87 50.86 ... 50.71 50.7 50.69\n",
       "  * long              (long) float64 552B 4.176 4.184 4.192 ... 4.734 4.742\n",
       "Data variables: (12/76)\n",
       "    ai                (lat, long) float32 6kB 1.18 1.183 1.185 ... 1.207 1.216\n",
       "    bio10             (lat, long) uint16 3kB 2906 2905 2905 ... 2902 2902 2901\n",
       "    bio11             (lat, long) uint16 3kB 2769 2769 2769 ... 2763 2763 2763\n",
       "    bio12             (lat, long) uint16 3kB 8432 8445 8464 ... 8468 8510 8557\n",
       "    bio13             (lat, long) uint16 3kB 795 796 798 801 ... 786 788 792 795\n",
       "    bio14             (lat, long) uint16 3kB 499 500 502 504 ... 511 513 516 519\n",
       "    ...                ...\n",
       "    swb               (lat, long) int16 3kB -6 -38 -59 -47 ... -54 -63 -72 -76\n",
       "    swe               (lat, long) uint16 3kB 65535 65535 65535 ... 65535 65535\n",
       "    vpd_max           (lat, long) uint16 3kB 8349 8340 8336 ... 8033 7983 7955\n",
       "    vpd_mean          (lat, long) uint16 3kB 5056 5050 5046 ... 4826 4799 4779\n",
       "    vpd_min           (lat, long) uint16 3kB 2546 2542 2539 ... 2411 2398 2387\n",
       "    vpd_range         (lat, long) uint16 3kB 5803 5798 5797 ... 5622 5585 5568"
      ]
     },
     "execution_count": 31,
     "metadata": {},
     "output_type": "execute_result"
    }
   ],
   "source": [
    "bmd_cube.groups[\"static\"][0]"
   ]
  },
  {
   "cell_type": "code",
   "execution_count": 32,
   "id": "d0f386ec-5689-4c2f-966c-c54943050e30",
   "metadata": {},
   "outputs": [
    {
     "data": {
      "text/html": [
       "<div><svg style=\"position: absolute; width: 0; height: 0; overflow: hidden\">\n",
       "<defs>\n",
       "<symbol id=\"icon-database\" viewBox=\"0 0 32 32\">\n",
       "<path d=\"M16 0c-8.837 0-16 2.239-16 5v4c0 2.761 7.163 5 16 5s16-2.239 16-5v-4c0-2.761-7.163-5-16-5z\"></path>\n",
       "<path d=\"M16 17c-8.837 0-16-2.239-16-5v6c0 2.761 7.163 5 16 5s16-2.239 16-5v-6c0 2.761-7.163 5-16 5z\"></path>\n",
       "<path d=\"M16 26c-8.837 0-16-2.239-16-5v6c0 2.761 7.163 5 16 5s16-2.239 16-5v-6c0 2.761-7.163 5-16 5z\"></path>\n",
       "</symbol>\n",
       "<symbol id=\"icon-file-text2\" viewBox=\"0 0 32 32\">\n",
       "<path d=\"M28.681 7.159c-0.694-0.947-1.662-2.053-2.724-3.116s-2.169-2.030-3.116-2.724c-1.612-1.182-2.393-1.319-2.841-1.319h-15.5c-1.378 0-2.5 1.121-2.5 2.5v27c0 1.378 1.122 2.5 2.5 2.5h23c1.378 0 2.5-1.122 2.5-2.5v-19.5c0-0.448-0.137-1.23-1.319-2.841zM24.543 5.457c0.959 0.959 1.712 1.825 2.268 2.543h-4.811v-4.811c0.718 0.556 1.584 1.309 2.543 2.268zM28 29.5c0 0.271-0.229 0.5-0.5 0.5h-23c-0.271 0-0.5-0.229-0.5-0.5v-27c0-0.271 0.229-0.5 0.5-0.5 0 0 15.499-0 15.5 0v7c0 0.552 0.448 1 1 1h7v19.5z\"></path>\n",
       "<path d=\"M23 26h-14c-0.552 0-1-0.448-1-1s0.448-1 1-1h14c0.552 0 1 0.448 1 1s-0.448 1-1 1z\"></path>\n",
       "<path d=\"M23 22h-14c-0.552 0-1-0.448-1-1s0.448-1 1-1h14c0.552 0 1 0.448 1 1s-0.448 1-1 1z\"></path>\n",
       "<path d=\"M23 18h-14c-0.552 0-1-0.448-1-1s0.448-1 1-1h14c0.552 0 1 0.448 1 1s-0.448 1-1 1z\"></path>\n",
       "</symbol>\n",
       "</defs>\n",
       "</svg>\n",
       "<style>/* CSS stylesheet for displaying xarray objects in jupyterlab.\n",
       " *\n",
       " */\n",
       "\n",
       ":root {\n",
       "  --xr-font-color0: var(--jp-content-font-color0, rgba(0, 0, 0, 1));\n",
       "  --xr-font-color2: var(--jp-content-font-color2, rgba(0, 0, 0, 0.54));\n",
       "  --xr-font-color3: var(--jp-content-font-color3, rgba(0, 0, 0, 0.38));\n",
       "  --xr-border-color: var(--jp-border-color2, #e0e0e0);\n",
       "  --xr-disabled-color: var(--jp-layout-color3, #bdbdbd);\n",
       "  --xr-background-color: var(--jp-layout-color0, white);\n",
       "  --xr-background-color-row-even: var(--jp-layout-color1, white);\n",
       "  --xr-background-color-row-odd: var(--jp-layout-color2, #eeeeee);\n",
       "}\n",
       "\n",
       "html[theme=dark],\n",
       "html[data-theme=dark],\n",
       "body[data-theme=dark],\n",
       "body.vscode-dark {\n",
       "  --xr-font-color0: rgba(255, 255, 255, 1);\n",
       "  --xr-font-color2: rgba(255, 255, 255, 0.54);\n",
       "  --xr-font-color3: rgba(255, 255, 255, 0.38);\n",
       "  --xr-border-color: #1F1F1F;\n",
       "  --xr-disabled-color: #515151;\n",
       "  --xr-background-color: #111111;\n",
       "  --xr-background-color-row-even: #111111;\n",
       "  --xr-background-color-row-odd: #313131;\n",
       "}\n",
       "\n",
       ".xr-wrap {\n",
       "  display: block !important;\n",
       "  min-width: 300px;\n",
       "  max-width: 700px;\n",
       "}\n",
       "\n",
       ".xr-text-repr-fallback {\n",
       "  /* fallback to plain text repr when CSS is not injected (untrusted notebook) */\n",
       "  display: none;\n",
       "}\n",
       "\n",
       ".xr-header {\n",
       "  padding-top: 6px;\n",
       "  padding-bottom: 6px;\n",
       "  margin-bottom: 4px;\n",
       "  border-bottom: solid 1px var(--xr-border-color);\n",
       "}\n",
       "\n",
       ".xr-header > div,\n",
       ".xr-header > ul {\n",
       "  display: inline;\n",
       "  margin-top: 0;\n",
       "  margin-bottom: 0;\n",
       "}\n",
       "\n",
       ".xr-obj-type,\n",
       ".xr-array-name {\n",
       "  margin-left: 2px;\n",
       "  margin-right: 10px;\n",
       "}\n",
       "\n",
       ".xr-obj-type {\n",
       "  color: var(--xr-font-color2);\n",
       "}\n",
       "\n",
       ".xr-sections {\n",
       "  padding-left: 0 !important;\n",
       "  display: grid;\n",
       "  grid-template-columns: 150px auto auto 1fr 20px 20px;\n",
       "}\n",
       "\n",
       ".xr-section-item {\n",
       "  display: contents;\n",
       "}\n",
       "\n",
       ".xr-section-item input {\n",
       "  display: none;\n",
       "}\n",
       "\n",
       ".xr-section-item input + label {\n",
       "  color: var(--xr-disabled-color);\n",
       "}\n",
       "\n",
       ".xr-section-item input:enabled + label {\n",
       "  cursor: pointer;\n",
       "  color: var(--xr-font-color2);\n",
       "}\n",
       "\n",
       ".xr-section-item input:enabled + label:hover {\n",
       "  color: var(--xr-font-color0);\n",
       "}\n",
       "\n",
       ".xr-section-summary {\n",
       "  grid-column: 1;\n",
       "  color: var(--xr-font-color2);\n",
       "  font-weight: 500;\n",
       "}\n",
       "\n",
       ".xr-section-summary > span {\n",
       "  display: inline-block;\n",
       "  padding-left: 0.5em;\n",
       "}\n",
       "\n",
       ".xr-section-summary-in:disabled + label {\n",
       "  color: var(--xr-font-color2);\n",
       "}\n",
       "\n",
       ".xr-section-summary-in + label:before {\n",
       "  display: inline-block;\n",
       "  content: '►';\n",
       "  font-size: 11px;\n",
       "  width: 15px;\n",
       "  text-align: center;\n",
       "}\n",
       "\n",
       ".xr-section-summary-in:disabled + label:before {\n",
       "  color: var(--xr-disabled-color);\n",
       "}\n",
       "\n",
       ".xr-section-summary-in:checked + label:before {\n",
       "  content: '▼';\n",
       "}\n",
       "\n",
       ".xr-section-summary-in:checked + label > span {\n",
       "  display: none;\n",
       "}\n",
       "\n",
       ".xr-section-summary,\n",
       ".xr-section-inline-details {\n",
       "  padding-top: 4px;\n",
       "  padding-bottom: 4px;\n",
       "}\n",
       "\n",
       ".xr-section-inline-details {\n",
       "  grid-column: 2 / -1;\n",
       "}\n",
       "\n",
       ".xr-section-details {\n",
       "  display: none;\n",
       "  grid-column: 1 / -1;\n",
       "  margin-bottom: 5px;\n",
       "}\n",
       "\n",
       ".xr-section-summary-in:checked ~ .xr-section-details {\n",
       "  display: contents;\n",
       "}\n",
       "\n",
       ".xr-array-wrap {\n",
       "  grid-column: 1 / -1;\n",
       "  display: grid;\n",
       "  grid-template-columns: 20px auto;\n",
       "}\n",
       "\n",
       ".xr-array-wrap > label {\n",
       "  grid-column: 1;\n",
       "  vertical-align: top;\n",
       "}\n",
       "\n",
       ".xr-preview {\n",
       "  color: var(--xr-font-color3);\n",
       "}\n",
       "\n",
       ".xr-array-preview,\n",
       ".xr-array-data {\n",
       "  padding: 0 5px !important;\n",
       "  grid-column: 2;\n",
       "}\n",
       "\n",
       ".xr-array-data,\n",
       ".xr-array-in:checked ~ .xr-array-preview {\n",
       "  display: none;\n",
       "}\n",
       "\n",
       ".xr-array-in:checked ~ .xr-array-data,\n",
       ".xr-array-preview {\n",
       "  display: inline-block;\n",
       "}\n",
       "\n",
       ".xr-dim-list {\n",
       "  display: inline-block !important;\n",
       "  list-style: none;\n",
       "  padding: 0 !important;\n",
       "  margin: 0;\n",
       "}\n",
       "\n",
       ".xr-dim-list li {\n",
       "  display: inline-block;\n",
       "  padding: 0;\n",
       "  margin: 0;\n",
       "}\n",
       "\n",
       ".xr-dim-list:before {\n",
       "  content: '(';\n",
       "}\n",
       "\n",
       ".xr-dim-list:after {\n",
       "  content: ')';\n",
       "}\n",
       "\n",
       ".xr-dim-list li:not(:last-child):after {\n",
       "  content: ',';\n",
       "  padding-right: 5px;\n",
       "}\n",
       "\n",
       ".xr-has-index {\n",
       "  font-weight: bold;\n",
       "}\n",
       "\n",
       ".xr-var-list,\n",
       ".xr-var-item {\n",
       "  display: contents;\n",
       "}\n",
       "\n",
       ".xr-var-item > div,\n",
       ".xr-var-item label,\n",
       ".xr-var-item > .xr-var-name span {\n",
       "  background-color: var(--xr-background-color-row-even);\n",
       "  margin-bottom: 0;\n",
       "}\n",
       "\n",
       ".xr-var-item > .xr-var-name:hover span {\n",
       "  padding-right: 5px;\n",
       "}\n",
       "\n",
       ".xr-var-list > li:nth-child(odd) > div,\n",
       ".xr-var-list > li:nth-child(odd) > label,\n",
       ".xr-var-list > li:nth-child(odd) > .xr-var-name span {\n",
       "  background-color: var(--xr-background-color-row-odd);\n",
       "}\n",
       "\n",
       ".xr-var-name {\n",
       "  grid-column: 1;\n",
       "}\n",
       "\n",
       ".xr-var-dims {\n",
       "  grid-column: 2;\n",
       "}\n",
       "\n",
       ".xr-var-dtype {\n",
       "  grid-column: 3;\n",
       "  text-align: right;\n",
       "  color: var(--xr-font-color2);\n",
       "}\n",
       "\n",
       ".xr-var-preview {\n",
       "  grid-column: 4;\n",
       "}\n",
       "\n",
       ".xr-index-preview {\n",
       "  grid-column: 2 / 5;\n",
       "  color: var(--xr-font-color2);\n",
       "}\n",
       "\n",
       ".xr-var-name,\n",
       ".xr-var-dims,\n",
       ".xr-var-dtype,\n",
       ".xr-preview,\n",
       ".xr-attrs dt {\n",
       "  white-space: nowrap;\n",
       "  overflow: hidden;\n",
       "  text-overflow: ellipsis;\n",
       "  padding-right: 10px;\n",
       "}\n",
       "\n",
       ".xr-var-name:hover,\n",
       ".xr-var-dims:hover,\n",
       ".xr-var-dtype:hover,\n",
       ".xr-attrs dt:hover {\n",
       "  overflow: visible;\n",
       "  width: auto;\n",
       "  z-index: 1;\n",
       "}\n",
       "\n",
       ".xr-var-attrs,\n",
       ".xr-var-data,\n",
       ".xr-index-data {\n",
       "  display: none;\n",
       "  background-color: var(--xr-background-color) !important;\n",
       "  padding-bottom: 5px !important;\n",
       "}\n",
       "\n",
       ".xr-var-attrs-in:checked ~ .xr-var-attrs,\n",
       ".xr-var-data-in:checked ~ .xr-var-data,\n",
       ".xr-index-data-in:checked ~ .xr-index-data {\n",
       "  display: block;\n",
       "}\n",
       "\n",
       ".xr-var-data > table {\n",
       "  float: right;\n",
       "}\n",
       "\n",
       ".xr-var-name span,\n",
       ".xr-var-data,\n",
       ".xr-index-name div,\n",
       ".xr-index-data,\n",
       ".xr-attrs {\n",
       "  padding-left: 25px !important;\n",
       "}\n",
       "\n",
       ".xr-attrs,\n",
       ".xr-var-attrs,\n",
       ".xr-var-data,\n",
       ".xr-index-data {\n",
       "  grid-column: 1 / -1;\n",
       "}\n",
       "\n",
       "dl.xr-attrs {\n",
       "  padding: 0;\n",
       "  margin: 0;\n",
       "  display: grid;\n",
       "  grid-template-columns: 125px auto;\n",
       "}\n",
       "\n",
       ".xr-attrs dt,\n",
       ".xr-attrs dd {\n",
       "  padding: 0;\n",
       "  margin: 0;\n",
       "  float: left;\n",
       "  padding-right: 10px;\n",
       "  width: auto;\n",
       "}\n",
       "\n",
       ".xr-attrs dt {\n",
       "  font-weight: normal;\n",
       "  grid-column: 1;\n",
       "}\n",
       "\n",
       ".xr-attrs dt:hover span {\n",
       "  display: inline-block;\n",
       "  background: var(--xr-background-color);\n",
       "  padding-right: 10px;\n",
       "}\n",
       "\n",
       ".xr-attrs dd {\n",
       "  grid-column: 2;\n",
       "  white-space: pre-wrap;\n",
       "  word-break: break-all;\n",
       "}\n",
       "\n",
       ".xr-icon-database,\n",
       ".xr-icon-file-text2,\n",
       ".xr-no-icon {\n",
       "  display: inline-block;\n",
       "  vertical-align: middle;\n",
       "  width: 1em;\n",
       "  height: 1.5em !important;\n",
       "  stroke-width: 0;\n",
       "  stroke: currentColor;\n",
       "  fill: currentColor;\n",
       "}\n",
       "</style><pre class='xr-text-repr-fallback'>&lt;xarray.Dataset&gt; Size: 30MB\n",
       "Dimensions:  (time: 479, lat: 23, long: 69)\n",
       "Coordinates:\n",
       "  * time     (time) datetime64[ns] 4kB 1979-02-01 1979-03-01 ... 2018-12-01\n",
       "  * lat      (lat) float64 184B 50.87 50.87 50.86 50.85 ... 50.71 50.7 50.69\n",
       "  * long     (long) float64 552B 4.176 4.184 4.192 4.201 ... 4.726 4.734 4.742\n",
       "Data variables:\n",
       "    clt      (time, lat, long) float64 6MB 6.012e+03 6.012e+03 ... 5.363e+03\n",
       "    cmi      (time, lat, long) int16 2MB 242 221 207 215 220 ... 349 335 311 299\n",
       "    hurs     (time, lat, long) uint16 2MB 6653 6657 6662 6669 ... 6865 6863 6864\n",
       "    pet      (time, lat, long) uint16 2MB 2149 2356 2499 2436 ... 2803 3031 3144\n",
       "    pr       (time, lat, long) int64 6MB 4565 4568 4573 4589 ... 6149 6139 6132\n",
       "    rsds     (time, lat, long) uint16 2MB 5665 5681 5704 5726 ... 2238 2233 2225\n",
       "    sfcWind  (time, lat, long) uint16 2MB 3381 3778 3991 3886 ... 5239 5555 5751\n",
       "    tas      (time, lat, long) int32 3MB 2737 2737 2737 2737 ... 2787 2787 2786\n",
       "    tasmax   (time, lat, long) int32 3MB 2768 2768 2768 2768 ... 2809 2809 2808\n",
       "    tasmin   (time, lat, long) int32 3MB 2709 2709 2709 2709 ... 2762 2762 2761\n",
       "    vpd      (time, lat, long) uint16 2MB 2129 2126 2123 2119 ... 2839 2841 2821</pre><div class='xr-wrap' style='display:none'><div class='xr-header'><div class='xr-obj-type'>xarray.Dataset</div></div><ul class='xr-sections'><li class='xr-section-item'><input id='section-57c113f4-28f5-42c2-a9e3-d45e7ab33b86' class='xr-section-summary-in' type='checkbox' disabled ><label for='section-57c113f4-28f5-42c2-a9e3-d45e7ab33b86' class='xr-section-summary'  title='Expand/collapse section'>Dimensions:</label><div class='xr-section-inline-details'><ul class='xr-dim-list'><li><span class='xr-has-index'>time</span>: 479</li><li><span class='xr-has-index'>lat</span>: 23</li><li><span class='xr-has-index'>long</span>: 69</li></ul></div><div class='xr-section-details'></div></li><li class='xr-section-item'><input id='section-7c65c48b-e604-4ab5-9144-c0e3cba86334' class='xr-section-summary-in' type='checkbox'  checked><label for='section-7c65c48b-e604-4ab5-9144-c0e3cba86334' class='xr-section-summary' >Coordinates: <span>(3)</span></label><div class='xr-section-inline-details'></div><div class='xr-section-details'><ul class='xr-var-list'><li class='xr-var-item'><div class='xr-var-name'><span class='xr-has-index'>time</span></div><div class='xr-var-dims'>(time)</div><div class='xr-var-dtype'>datetime64[ns]</div><div class='xr-var-preview xr-preview'>1979-02-01 ... 2018-12-01</div><input id='attrs-5e6cd3b1-e256-4203-b0ed-f67ad71f2333' class='xr-var-attrs-in' type='checkbox' disabled><label for='attrs-5e6cd3b1-e256-4203-b0ed-f67ad71f2333' title='Show/Hide attributes'><svg class='icon xr-icon-file-text2'><use xlink:href='#icon-file-text2'></use></svg></label><input id='data-b1c8231b-be57-4306-aac0-55cdffd42ef7' class='xr-var-data-in' type='checkbox'><label for='data-b1c8231b-be57-4306-aac0-55cdffd42ef7' title='Show/Hide data repr'><svg class='icon xr-icon-database'><use xlink:href='#icon-database'></use></svg></label><div class='xr-var-attrs'><dl class='xr-attrs'></dl></div><div class='xr-var-data'><pre>array([&#x27;1979-02-01T00:00:00.000000000&#x27;, &#x27;1979-03-01T00:00:00.000000000&#x27;,\n",
       "       &#x27;1979-04-01T00:00:00.000000000&#x27;, ..., &#x27;2018-10-01T00:00:00.000000000&#x27;,\n",
       "       &#x27;2018-11-01T00:00:00.000000000&#x27;, &#x27;2018-12-01T00:00:00.000000000&#x27;],\n",
       "      shape=(479,), dtype=&#x27;datetime64[ns]&#x27;)</pre></div></li><li class='xr-var-item'><div class='xr-var-name'><span class='xr-has-index'>lat</span></div><div class='xr-var-dims'>(lat)</div><div class='xr-var-dtype'>float64</div><div class='xr-var-preview xr-preview'>50.87 50.87 50.86 ... 50.7 50.69</div><input id='attrs-55def77f-a1a5-402d-b782-bb66b965027d' class='xr-var-attrs-in' type='checkbox' disabled><label for='attrs-55def77f-a1a5-402d-b782-bb66b965027d' title='Show/Hide attributes'><svg class='icon xr-icon-file-text2'><use xlink:href='#icon-file-text2'></use></svg></label><input id='data-3d1f72e6-1083-4e16-aa9d-7176ed50703e' class='xr-var-data-in' type='checkbox'><label for='data-3d1f72e6-1083-4e16-aa9d-7176ed50703e' title='Show/Hide data repr'><svg class='icon xr-icon-database'><use xlink:href='#icon-database'></use></svg></label><div class='xr-var-attrs'><dl class='xr-attrs'></dl></div><div class='xr-var-data'><pre>array([50.873744, 50.865411, 50.857078, 50.848744, 50.840411, 50.832078,\n",
       "       50.823744, 50.815411, 50.807078, 50.798744, 50.790411, 50.782078,\n",
       "       50.773744, 50.765411, 50.757078, 50.748744, 50.740411, 50.732078,\n",
       "       50.723744, 50.715411, 50.707078, 50.698744, 50.690411])</pre></div></li><li class='xr-var-item'><div class='xr-var-name'><span class='xr-has-index'>long</span></div><div class='xr-var-dims'>(long)</div><div class='xr-var-dtype'>float64</div><div class='xr-var-preview xr-preview'>4.176 4.184 4.192 ... 4.734 4.742</div><input id='attrs-c02c0c64-6d6d-47c4-bae2-8cc239ea303d' class='xr-var-attrs-in' type='checkbox' disabled><label for='attrs-c02c0c64-6d6d-47c4-bae2-8cc239ea303d' title='Show/Hide attributes'><svg class='icon xr-icon-file-text2'><use xlink:href='#icon-file-text2'></use></svg></label><input id='data-c9975d38-b820-41e5-b991-f3dcaf271158' class='xr-var-data-in' type='checkbox'><label for='data-c9975d38-b820-41e5-b991-f3dcaf271158' title='Show/Hide data repr'><svg class='icon xr-icon-database'><use xlink:href='#icon-database'></use></svg></label><div class='xr-var-attrs'><dl class='xr-attrs'></dl></div><div class='xr-var-data'><pre>array([4.175538, 4.183871, 4.192204, 4.200538, 4.208871, 4.217204, 4.225538,\n",
       "       4.233871, 4.242204, 4.250538, 4.258871, 4.267204, 4.275538, 4.283871,\n",
       "       4.292204, 4.300538, 4.308871, 4.317204, 4.325538, 4.333871, 4.342204,\n",
       "       4.350538, 4.358871, 4.367204, 4.375538, 4.383871, 4.392204, 4.400538,\n",
       "       4.408871, 4.417204, 4.425538, 4.433871, 4.442204, 4.450538, 4.458871,\n",
       "       4.467204, 4.475538, 4.483871, 4.492204, 4.500538, 4.508871, 4.517204,\n",
       "       4.525538, 4.533871, 4.542204, 4.550538, 4.558871, 4.567204, 4.575538,\n",
       "       4.583871, 4.592204, 4.600538, 4.608871, 4.617204, 4.625538, 4.633871,\n",
       "       4.642204, 4.650538, 4.658871, 4.667204, 4.675538, 4.683871, 4.692204,\n",
       "       4.700538, 4.708871, 4.717204, 4.725538, 4.733871, 4.742204])</pre></div></li></ul></div></li><li class='xr-section-item'><input id='section-cdbc4831-c1bd-4cc1-9262-2aa54bd967d1' class='xr-section-summary-in' type='checkbox'  checked><label for='section-cdbc4831-c1bd-4cc1-9262-2aa54bd967d1' class='xr-section-summary' >Data variables: <span>(11)</span></label><div class='xr-section-inline-details'></div><div class='xr-section-details'><ul class='xr-var-list'><li class='xr-var-item'><div class='xr-var-name'><span>clt</span></div><div class='xr-var-dims'>(time, lat, long)</div><div class='xr-var-dtype'>float64</div><div class='xr-var-preview xr-preview'>6.012e+03 6.012e+03 ... 5.363e+03</div><input id='attrs-b8b37415-6d2a-42fe-9a22-6a41254cc691' class='xr-var-attrs-in' type='checkbox' disabled><label for='attrs-b8b37415-6d2a-42fe-9a22-6a41254cc691' title='Show/Hide attributes'><svg class='icon xr-icon-file-text2'><use xlink:href='#icon-file-text2'></use></svg></label><input id='data-06e00e81-9957-4067-af3c-066b2b2391a9' class='xr-var-data-in' type='checkbox'><label for='data-06e00e81-9957-4067-af3c-066b2b2391a9' title='Show/Hide data repr'><svg class='icon xr-icon-database'><use xlink:href='#icon-database'></use></svg></label><div class='xr-var-attrs'><dl class='xr-attrs'></dl></div><div class='xr-var-data'><pre>array([[[6012.00000178, 6012.00000178, 6012.66666838, ...,\n",
       "         5934.66659961, 5934.66659961, 5934.66659961],\n",
       "        [6012.00000178, 6012.00000178, 6012.66666838, ...,\n",
       "         5934.66659961, 5934.66659961, 5934.66659961],\n",
       "        [6014.33333571, 6014.33333571, 6014.44444631, ...,\n",
       "         5939.99993506, 5939.99993506, 5939.99993506],\n",
       "        ...,\n",
       "        [6032.33333498, 6032.33333498, 6030.55556101, ...,\n",
       "         6024.11145018, 6024.11145018, 6024.11145018],\n",
       "        [6032.66666878, 6032.66666878, 6031.4444508 , ...,\n",
       "         6030.55588547, 6030.55588547, 6030.55588547],\n",
       "        [6032.66666878, 6032.66666878, 6031.4444508 , ...,\n",
       "         6030.55588547, 6030.55588547, 6030.55588547]],\n",
       "\n",
       "       [[5430.00001604, 5430.00001604, 5433.33334884, ...,\n",
       "         5501.00003287, 5501.00003287, 5501.00003287],\n",
       "        [5430.00001604, 5430.00001604, 5433.33334884, ...,\n",
       "         5501.00003287, 5501.00003287, 5501.00003287],\n",
       "        [5453.66669023, 5453.66669023, 5453.88890946, ...,\n",
       "         5512.00002845, 5512.00002845, 5512.00002845],\n",
       "...\n",
       "         4468.77801415, 4468.77801415, 4468.77801415],\n",
       "        [4353.33327756, 4353.33327756, 4350.22217184, ...,\n",
       "         4471.22247419, 4471.22247419, 4471.22247419],\n",
       "        [4353.33327756, 4353.33327756, 4350.22217184, ...,\n",
       "         4471.22247419, 4471.22247419, 4471.22247419]],\n",
       "\n",
       "       [[5303.00000495, 5303.00000495, 5303.33333762, ...,\n",
       "         5210.33338046, 5210.33338046, 5210.33338046],\n",
       "        [5303.00000495, 5303.00000495, 5303.33333762, ...,\n",
       "         5210.33338046, 5210.33338046, 5210.33338046],\n",
       "        [5311.00000733, 5311.00000733, 5310.00000561, ...,\n",
       "         5215.7777978 , 5215.7777978 , 5215.7777978 ],\n",
       "        ...,\n",
       "        [5314.33330126, 5314.33330126, 5310.44442255, ...,\n",
       "         5354.55631533, 5354.55631533, 5354.55631533],\n",
       "        [5310.666634  , 5310.666634  , 5308.22220088, ...,\n",
       "         5363.44520188, 5363.44520188, 5363.44520188],\n",
       "        [5310.666634  , 5310.666634  , 5308.22220088, ...,\n",
       "         5363.44520188, 5363.44520188, 5363.44520188]]],\n",
       "      shape=(479, 23, 69))</pre></div></li><li class='xr-var-item'><div class='xr-var-name'><span>cmi</span></div><div class='xr-var-dims'>(time, lat, long)</div><div class='xr-var-dtype'>int16</div><div class='xr-var-preview xr-preview'>242 221 207 215 ... 349 335 311 299</div><input id='attrs-621634bc-2bb4-4d05-b907-884ee13772be' class='xr-var-attrs-in' type='checkbox' disabled><label for='attrs-621634bc-2bb4-4d05-b907-884ee13772be' title='Show/Hide attributes'><svg class='icon xr-icon-file-text2'><use xlink:href='#icon-file-text2'></use></svg></label><input id='data-1508d4b6-0cbe-446a-8468-565584834e93' class='xr-var-data-in' type='checkbox'><label for='data-1508d4b6-0cbe-446a-8468-565584834e93' title='Show/Hide data repr'><svg class='icon xr-icon-database'><use xlink:href='#icon-database'></use></svg></label><div class='xr-var-attrs'><dl class='xr-attrs'></dl></div><div class='xr-var-data'><pre>array([[[ 242,  221,  207, ...,  263,  263,  253],\n",
       "        [ 200,  200,  203, ...,  240,  249,  253],\n",
       "        [ 204,  205,  205, ...,  252,  256,  244],\n",
       "        ...,\n",
       "        [ 218,  200,  205, ...,  225,  211,  214],\n",
       "        [ 201,  206,  224, ...,  225,  212,  217],\n",
       "        [ 204,  212,  233, ...,  229,  221,  220]],\n",
       "\n",
       "       [[ 797,  767,  748, ...,  825,  827,  813],\n",
       "        [ 730,  735,  740, ...,  791,  807,  815],\n",
       "        [ 745,  745,  747, ...,  818,  824,  806],\n",
       "        ...,\n",
       "        [ 821,  793,  800, ...,  816,  800,  807],\n",
       "        [ 794,  801,  830, ...,  823,  807,  813],\n",
       "        [ 797,  810,  843, ...,  831,  823,  822]],\n",
       "\n",
       "       [[ -63,  -88, -106, ..., -106, -100, -109],\n",
       "        [-116, -116, -113, ..., -133, -119, -110],\n",
       "        [-109, -107, -106, ..., -112, -106, -120],\n",
       "        ...,\n",
       "...\n",
       "        [-178, -216, -201, ..., -256, -298, -304],\n",
       "        [-216, -201, -152, ..., -258, -297, -303],\n",
       "        [-210, -185, -133, ..., -254, -282, -298]],\n",
       "\n",
       "       [[ 201,  163,  136, ...,   67,   67,   45],\n",
       "        [ 114,  119,  125, ...,   16,   33,   44],\n",
       "        [ 119,  121,  124, ...,   30,   34,   12],\n",
       "        ...,\n",
       "        [ 161,  126,  137, ...,  -34,  -73,  -80],\n",
       "        [ 129,  140,  178, ...,  -38,  -72,  -78],\n",
       "        [ 132,  149,  188, ...,  -37,  -61,  -76]],\n",
       "\n",
       "       [[ 638,  602,  578, ...,  411,  415,  395],\n",
       "        [ 548,  555,  562, ...,  363,  381,  394],\n",
       "        [ 550,  554,  558, ...,  379,  385,  366],\n",
       "        ...,\n",
       "        [ 497,  466,  478, ...,  326,  291,  288],\n",
       "        [ 462,  472,  512, ...,  327,  296,  292],\n",
       "        [ 461,  479,  518, ...,  335,  311,  299]]],\n",
       "      shape=(479, 23, 69), dtype=int16)</pre></div></li><li class='xr-var-item'><div class='xr-var-name'><span>hurs</span></div><div class='xr-var-dims'>(time, lat, long)</div><div class='xr-var-dtype'>uint16</div><div class='xr-var-preview xr-preview'>6653 6657 6662 ... 6865 6863 6864</div><input id='attrs-3465bfb0-bc7b-42a1-a001-8805b9df9099' class='xr-var-attrs-in' type='checkbox' disabled><label for='attrs-3465bfb0-bc7b-42a1-a001-8805b9df9099' title='Show/Hide attributes'><svg class='icon xr-icon-file-text2'><use xlink:href='#icon-file-text2'></use></svg></label><input id='data-e4613290-a5f6-449b-bbab-a6a25c73a181' class='xr-var-data-in' type='checkbox'><label for='data-e4613290-a5f6-449b-bbab-a6a25c73a181' title='Show/Hide data repr'><svg class='icon xr-icon-database'><use xlink:href='#icon-database'></use></svg></label><div class='xr-var-attrs'><dl class='xr-attrs'></dl></div><div class='xr-var-data'><pre>array([[[6653, 6657, 6662, ..., 6654, 6654, 6664],\n",
       "        [6675, 6673, 6676, ..., 6657, 6654, 6655],\n",
       "        [6696, 6695, 6696, ..., 6674, 6676, 6674],\n",
       "        ...,\n",
       "        [6695, 6680, 6668, ..., 6707, 6723, 6739],\n",
       "        [6674, 6667, 6650, ..., 6721, 6733, 6748],\n",
       "        [6661, 6649, 6646, ..., 6727, 6743, 6760]],\n",
       "\n",
       "       [[6435, 6436, 6439, ..., 6395, 6397, 6403],\n",
       "        [6436, 6435, 6436, ..., 6403, 6403, 6404],\n",
       "        [6443, 6442, 6442, ..., 6417, 6417, 6416],\n",
       "        ...,\n",
       "        [6448, 6446, 6443, ..., 6474, 6485, 6496],\n",
       "        [6444, 6441, 6438, ..., 6484, 6493, 6504],\n",
       "        [6441, 6438, 6435, ..., 6493, 6502, 6512]],\n",
       "\n",
       "       [[6063, 6065, 6068, ..., 6024, 6026, 6030],\n",
       "        [6066, 6066, 6067, ..., 6034, 6037, 6040],\n",
       "        [6073, 6072, 6072, ..., 6048, 6051, 6054],\n",
       "        ...,\n",
       "...\n",
       "        [6168, 6169, 6169, ..., 6197, 6199, 6203],\n",
       "        [6172, 6170, 6172, ..., 6205, 6209, 6213],\n",
       "        [6174, 6174, 6172, ..., 6221, 6221, 6222]],\n",
       "\n",
       "       [[6654, 6655, 6659, ..., 6623, 6612, 6590],\n",
       "        [6642, 6649, 6651, ..., 6627, 6628, 6626],\n",
       "        [6645, 6650, 6652, ..., 6614, 6613, 6620],\n",
       "        ...,\n",
       "        [6613, 6623, 6628, ..., 6584, 6580, 6580],\n",
       "        [6628, 6627, 6640, ..., 6589, 6591, 6594],\n",
       "        [6635, 6642, 6636, ..., 6612, 6606, 6603]],\n",
       "\n",
       "       [[6803, 6804, 6807, ..., 6782, 6780, 6771],\n",
       "        [6795, 6799, 6800, ..., 6801, 6805, 6808],\n",
       "        [6804, 6805, 6806, ..., 6809, 6812, 6819],\n",
       "        ...,\n",
       "        [6793, 6801, 6805, ..., 6833, 6835, 6842],\n",
       "        [6807, 6805, 6815, ..., 6839, 6847, 6855],\n",
       "        [6815, 6818, 6812, ..., 6865, 6863, 6864]]],\n",
       "      shape=(479, 23, 69), dtype=uint16)</pre></div></li><li class='xr-var-item'><div class='xr-var-name'><span>pet</span></div><div class='xr-var-dims'>(time, lat, long)</div><div class='xr-var-dtype'>uint16</div><div class='xr-var-preview xr-preview'>2149 2356 2499 ... 2803 3031 3144</div><input id='attrs-9c7dc7bf-808b-4dcf-bd6f-862f7a2abaf6' class='xr-var-attrs-in' type='checkbox' disabled><label for='attrs-9c7dc7bf-808b-4dcf-bd6f-862f7a2abaf6' title='Show/Hide attributes'><svg class='icon xr-icon-file-text2'><use xlink:href='#icon-file-text2'></use></svg></label><input id='data-016e7e1b-d8e5-4182-b35f-873769b0fe22' class='xr-var-data-in' type='checkbox'><label for='data-016e7e1b-d8e5-4182-b35f-873769b0fe22' title='Show/Hide data repr'><svg class='icon xr-icon-database'><use xlink:href='#icon-database'></use></svg></label><div class='xr-var-attrs'><dl class='xr-attrs'></dl></div><div class='xr-var-data'><pre>array([[[2149, 2356, 2499, ..., 2084, 2074, 2176],\n",
       "        [2580, 2573, 2544, ..., 2336, 2248, 2204],\n",
       "        [2573, 2559, 2551, ..., 2249, 2213, 2333],\n",
       "        ...,\n",
       "        [2507, 2672, 2606, ..., 2432, 2605, 2612],\n",
       "        [2672, 2604, 2397, ..., 2469, 2621, 2617],\n",
       "        [2635, 2537, 2303, ..., 2464, 2571, 2616]],\n",
       "\n",
       "       [[4273, 4600, 4833, ..., 4215, 4197, 4350],\n",
       "        [4982, 4955, 4922, ..., 4644, 4494, 4411],\n",
       "        [4953, 4963, 4948, ..., 4487, 4439, 4621],\n",
       "        ...,\n",
       "        [4783, 5049, 4946, ..., 4705, 4960, 4990],\n",
       "        [5043, 4949, 4621, ..., 4723, 4977, 5006],\n",
       "        [5012, 4847, 4484, ..., 4745, 4899, 4989]],\n",
       "\n",
       "       [[6689, 6955, 7152, ..., 6675, 6639, 6758],\n",
       "        [7239, 7248, 7222, ..., 6998, 6882, 6825],\n",
       "        [7233, 7216, 7204, ..., 6861, 6825, 6992],\n",
       "        ...,\n",
       "...\n",
       "        [5407, 5782, 5615, ..., 5305, 5736, 5798],\n",
       "        [5769, 5608, 5094, ..., 5360, 5761, 5821],\n",
       "        [5686, 5429, 4883, ..., 5368, 5642, 5806]],\n",
       "\n",
       "       [[2103, 2493, 2767, ..., 1987, 1974, 2173],\n",
       "        [2998, 2950, 2900, ..., 2494, 2309, 2188],\n",
       "        [3005, 2977, 2955, ..., 2357, 2298, 2505],\n",
       "        ...,\n",
       "        [2756, 3077, 2933, ..., 2761, 3136, 3194],\n",
       "        [3061, 2922, 2498, ..., 2807, 3135, 3185],\n",
       "        [3020, 2806, 2375, ..., 2802, 3033, 3170]],\n",
       "\n",
       "       [[2167, 2554, 2831, ..., 2109, 2076, 2277],\n",
       "        [3035, 2989, 2941, ..., 2596, 2414, 2284],\n",
       "        [3042, 3015, 2995, ..., 2443, 2386, 2582],\n",
       "        ...,\n",
       "        [2785, 3074, 2936, ..., 2787, 3134, 3179],\n",
       "        [3066, 2947, 2528, ..., 2821, 3131, 3176],\n",
       "        [3020, 2815, 2402, ..., 2803, 3031, 3144]]],\n",
       "      shape=(479, 23, 69), dtype=uint16)</pre></div></li><li class='xr-var-item'><div class='xr-var-name'><span>pr</span></div><div class='xr-var-dims'>(time, lat, long)</div><div class='xr-var-dtype'>int64</div><div class='xr-var-preview xr-preview'>4565 4568 4573 ... 6149 6139 6132</div><input id='attrs-5f39c23d-3310-4971-b674-2662ef8a9e7c' class='xr-var-attrs-in' type='checkbox' disabled><label for='attrs-5f39c23d-3310-4971-b674-2662ef8a9e7c' title='Show/Hide attributes'><svg class='icon xr-icon-file-text2'><use xlink:href='#icon-file-text2'></use></svg></label><input id='data-764834b7-f861-4508-b39b-c57c0d0f363b' class='xr-var-data-in' type='checkbox'><label for='data-764834b7-f861-4508-b39b-c57c0d0f363b' title='Show/Hide data repr'><svg class='icon xr-icon-database'><use xlink:href='#icon-database'></use></svg></label><div class='xr-var-attrs'><dl class='xr-attrs'></dl></div><div class='xr-var-data'><pre>array([[[ 4565,  4568,  4573, ...,  4713,  4707,  4710],\n",
       "        [ 4576,  4574,  4578, ...,  4735,  4735,  4738],\n",
       "        [ 4614,  4608,  4603, ...,  4765,  4768,  4769],\n",
       "        ...,\n",
       "        [ 4688,  4676,  4657, ...,  4682,  4715,  4754],\n",
       "        [ 4679,  4661,  4639, ...,  4715,  4745,  4784],\n",
       "        [ 4672,  4653,  4632, ...,  4749,  4777,  4811]],\n",
       "\n",
       "       [[12238, 12269, 12311, ..., 12464, 12465, 12476],\n",
       "        [12277, 12302, 12324, ..., 12554, 12559, 12565],\n",
       "        [12401, 12410, 12421, ..., 12667, 12676, 12683],\n",
       "        ...,\n",
       "        [12991, 12976, 12946, ..., 12865, 12961, 13062],\n",
       "        [12985, 12956, 12923, ..., 12956, 13043, 13136],\n",
       "        [12979, 12945, 12913, ..., 13055, 13130, 13210]],\n",
       "\n",
       "       [[ 6060,  6071,  6090, ...,  5618,  5639,  5673],\n",
       "        [ 6081,  6086,  6093, ...,  5672,  5696,  5726],\n",
       "        [ 6143,  6145,  6146, ...,  5739,  5766,  5794],\n",
       "        ...,\n",
       "...\n",
       "        [ 3629,  3619,  3606, ...,  2747,  2752,  2760],\n",
       "        [ 3608,  3594,  3579, ...,  2785,  2788,  2791],\n",
       "        [ 3591,  3575,  3557, ...,  2828,  2823,  2827]],\n",
       "\n",
       "       [[ 4114,  4121,  4131, ...,  2660,  2640,  2622],\n",
       "        [ 4140,  4143,  4148, ...,  2656,  2638,  2625],\n",
       "        [ 4196,  4191,  4191, ...,  2657,  2637,  2624],\n",
       "        ...,\n",
       "        [ 4369,  4340,  4305, ...,  2417,  2404,  2398],\n",
       "        [ 4355,  4319,  4278, ...,  2425,  2415,  2402],\n",
       "        [ 4338,  4297,  4257, ...,  2434,  2420,  2408]],\n",
       "\n",
       "       [[ 8544,  8571,  8608, ...,  6220,  6222,  6228],\n",
       "        [ 8517,  8536,  8560, ...,  6222,  6222,  6226],\n",
       "        [ 8540,  8555,  8574, ...,  6236,  6236,  6241],\n",
       "        ...,\n",
       "        [ 7755,  7738,  7717, ...,  6042,  6047,  6056],\n",
       "        [ 7688,  7667,  7644, ...,  6090,  6090,  6092],\n",
       "        [ 7629,  7608,  7578, ...,  6149,  6139,  6132]]],\n",
       "      shape=(479, 23, 69))</pre></div></li><li class='xr-var-item'><div class='xr-var-name'><span>rsds</span></div><div class='xr-var-dims'>(time, lat, long)</div><div class='xr-var-dtype'>uint16</div><div class='xr-var-preview xr-preview'>5665 5681 5704 ... 2238 2233 2225</div><input id='attrs-475af147-ff2c-465a-81c3-26f7e9d87bbc' class='xr-var-attrs-in' type='checkbox' disabled><label for='attrs-475af147-ff2c-465a-81c3-26f7e9d87bbc' title='Show/Hide attributes'><svg class='icon xr-icon-file-text2'><use xlink:href='#icon-file-text2'></use></svg></label><input id='data-7fbe8be5-b6c2-4302-a5f5-c6938706550d' class='xr-var-data-in' type='checkbox'><label for='data-7fbe8be5-b6c2-4302-a5f5-c6938706550d' title='Show/Hide data repr'><svg class='icon xr-icon-database'><use xlink:href='#icon-database'></use></svg></label><div class='xr-var-attrs'><dl class='xr-attrs'></dl></div><div class='xr-var-data'><pre>array([[[ 5665,  5681,  5704, ...,  5749,  5758,  5774],\n",
       "        [ 5628,  5645,  5666, ...,  5734,  5755,  5801],\n",
       "        [ 5603,  5610,  5620, ...,  5698,  5704,  5730],\n",
       "        ...,\n",
       "        [ 5819,  5832,  5837, ...,  5729,  5743,  5735],\n",
       "        [ 5849,  5847,  5815, ...,  5775,  5782,  5768],\n",
       "        [ 5771,  5761,  5723, ...,  5780,  5777,  5768]],\n",
       "\n",
       "       [[ 8151,  8160,  8175, ...,  8057,  8062,  8071],\n",
       "        [ 8114,  8124,  8139, ...,  8035,  8051,  8087],\n",
       "        [ 8081,  8083,  8089, ...,  7992,  7996,  8017],\n",
       "        ...,\n",
       "        [ 8204,  8216,  8221, ...,  7953,  7962,  7951],\n",
       "        [ 8230,  8228,  8199, ...,  7991,  7993,  7979],\n",
       "        [ 8158,  8149,  8115, ...,  7993,  7987,  7977]],\n",
       "\n",
       "       [[13938, 13950, 13969, ..., 13867, 13874, 13888],\n",
       "        [13905, 13917, 13933, ..., 13851, 13869, 13910],\n",
       "        [13882, 13885, 13890, ..., 13816, 13820, 13842],\n",
       "        ...,\n",
       "...\n",
       "        [ 8279,  8283,  8275, ...,  7958,  7976,  7969],\n",
       "        [ 8304,  8292,  8241, ...,  8013,  8021,  8006],\n",
       "        [ 8209,  8188,  8134, ...,  8019,  8015,  8005]],\n",
       "\n",
       "       [[ 4101,  4116,  4136, ...,  4075,  4086,  4103],\n",
       "        [ 4069,  4084,  4101, ...,  4067,  4087,  4131],\n",
       "        [ 4053,  4058,  4065, ...,  4042,  4049,  4074],\n",
       "        ...,\n",
       "        [ 4258,  4264,  4262, ...,  4100,  4112,  4105],\n",
       "        [ 4282,  4275,  4240, ...,  4140,  4145,  4133],\n",
       "        [ 4213,  4200,  4161, ...,  4144,  4139,  4130]],\n",
       "\n",
       "       [[ 2233,  2242,  2255, ...,  2203,  2208,  2218],\n",
       "        [ 2212,  2221,  2232, ...,  2197,  2209,  2236],\n",
       "        [ 2201,  2203,  2208, ...,  2179,  2183,  2198],\n",
       "        ...,\n",
       "        [ 2324,  2328,  2327, ...,  2212,  2217,  2209],\n",
       "        [ 2339,  2335,  2311, ...,  2238,  2238,  2227],\n",
       "        [ 2292,  2283,  2257, ...,  2238,  2233,  2225]]],\n",
       "      shape=(479, 23, 69), dtype=uint16)</pre></div></li><li class='xr-var-item'><div class='xr-var-name'><span>sfcWind</span></div><div class='xr-var-dims'>(time, lat, long)</div><div class='xr-var-dtype'>uint16</div><div class='xr-var-preview xr-preview'>3381 3778 3991 ... 5239 5555 5751</div><input id='attrs-c67b9563-40c0-477a-9dbb-88160774dfa3' class='xr-var-attrs-in' type='checkbox' disabled><label for='attrs-c67b9563-40c0-477a-9dbb-88160774dfa3' title='Show/Hide attributes'><svg class='icon xr-icon-file-text2'><use xlink:href='#icon-file-text2'></use></svg></label><input id='data-833923e7-47e4-4c13-95c4-df8c74a9f4a1' class='xr-var-data-in' type='checkbox'><label for='data-833923e7-47e4-4c13-95c4-df8c74a9f4a1' title='Show/Hide data repr'><svg class='icon xr-icon-database'><use xlink:href='#icon-database'></use></svg></label><div class='xr-var-attrs'><dl class='xr-attrs'></dl></div><div class='xr-var-data'><pre>array([[[3381, 3778, 3991, ..., 3083, 3088, 3341],\n",
       "        [4234, 4183, 4135, ..., 3545, 3403, 3333],\n",
       "        [4265, 4228, 4200, ..., 3565, 3493, 3639],\n",
       "        ...,\n",
       "        [4155, 4334, 4188, ..., 4131, 4446, 4545],\n",
       "        [4311, 4160, 3782, ..., 4223, 4482, 4572],\n",
       "        [4221, 4024, 3679, ..., 4154, 4402, 4554]],\n",
       "\n",
       "       [[4624, 5169, 5462, ..., 4315, 4322, 4678],\n",
       "        [5789, 5721, 5658, ..., 4960, 4764, 4667],\n",
       "        [5829, 5780, 5744, ..., 4988, 4889, 5095],\n",
       "        ...,\n",
       "        [5638, 5882, 5687, ..., 5742, 6183, 6324],\n",
       "        [5845, 5643, 5133, ..., 5865, 6227, 6354],\n",
       "        [5720, 5455, 4989, ..., 5762, 6109, 6322]],\n",
       "\n",
       "       [[3436, 3840, 4057, ..., 3155, 3160, 3419],\n",
       "        [4302, 4250, 4202, ..., 3627, 3483, 3411],\n",
       "        [4331, 4293, 4265, ..., 3648, 3575, 3725],\n",
       "        ...,\n",
       "...\n",
       "        [3944, 4114, 3977, ..., 4032, 4341, 4441],\n",
       "        [4091, 3950, 3592, ..., 4121, 4376, 4466],\n",
       "        [4006, 3821, 3494, ..., 4053, 4297, 4447]],\n",
       "\n",
       "       [[3647, 4076, 4305, ..., 3320, 3325, 3597],\n",
       "        [4567, 4512, 4460, ..., 3818, 3665, 3590],\n",
       "        [4599, 4559, 4528, ..., 3841, 3764, 3921],\n",
       "        ...,\n",
       "        [4473, 4666, 4509, ..., 4462, 4802, 4909],\n",
       "        [4642, 4481, 4074, ..., 4559, 4839, 4935],\n",
       "        [4547, 4335, 3963, ..., 4483, 4750, 4914]],\n",
       "\n",
       "       [[4088, 4570, 4830, ..., 3863, 3871, 4191],\n",
       "        [5120, 5060, 5005, ..., 4445, 4270, 4184],\n",
       "        [5156, 5114, 5083, ..., 4474, 4386, 4573],\n",
       "        ...,\n",
       "        [5029, 5248, 5074, ..., 5216, 5617, 5747],\n",
       "        [5218, 5039, 4584, ..., 5330, 5661, 5777],\n",
       "        [5111, 4876, 4459, ..., 5239, 5555, 5751]]],\n",
       "      shape=(479, 23, 69), dtype=uint16)</pre></div></li><li class='xr-var-item'><div class='xr-var-name'><span>tas</span></div><div class='xr-var-dims'>(time, lat, long)</div><div class='xr-var-dtype'>int32</div><div class='xr-var-preview xr-preview'>2737 2737 2737 ... 2787 2787 2786</div><input id='attrs-6728c0cc-7068-4a46-847b-c65e6fc46a36' class='xr-var-attrs-in' type='checkbox' disabled><label for='attrs-6728c0cc-7068-4a46-847b-c65e6fc46a36' title='Show/Hide attributes'><svg class='icon xr-icon-file-text2'><use xlink:href='#icon-file-text2'></use></svg></label><input id='data-52858ee6-1976-4895-a8d2-83afd0c7c128' class='xr-var-data-in' type='checkbox'><label for='data-52858ee6-1976-4895-a8d2-83afd0c7c128' title='Show/Hide data repr'><svg class='icon xr-icon-database'><use xlink:href='#icon-database'></use></svg></label><div class='xr-var-attrs'><dl class='xr-attrs'></dl></div><div class='xr-var-data'><pre>array([[[2737, 2737, 2737, ..., 2735, 2735, 2735],\n",
       "        [2737, 2737, 2737, ..., 2735, 2735, 2735],\n",
       "        [2737, 2737, 2737, ..., 2735, 2735, 2735],\n",
       "        ...,\n",
       "        [2736, 2736, 2736, ..., 2733, 2733, 2732],\n",
       "        [2736, 2736, 2736, ..., 2733, 2733, 2732],\n",
       "        [2736, 2736, 2736, ..., 2733, 2733, 2732]],\n",
       "\n",
       "       [[2784, 2784, 2784, ..., 2784, 2784, 2783],\n",
       "        [2784, 2784, 2784, ..., 2785, 2785, 2785],\n",
       "        [2783, 2784, 2784, ..., 2784, 2784, 2784],\n",
       "        ...,\n",
       "        [2782, 2783, 2783, ..., 2781, 2780, 2780],\n",
       "        [2783, 2783, 2784, ..., 2780, 2780, 2780],\n",
       "        [2784, 2784, 2784, ..., 2781, 2780, 2780]],\n",
       "\n",
       "       [[2813, 2813, 2813, ..., 2813, 2812, 2811],\n",
       "        [2812, 2813, 2813, ..., 2813, 2813, 2813],\n",
       "        [2812, 2812, 2812, ..., 2812, 2812, 2813],\n",
       "        ...,\n",
       "...\n",
       "        [2853, 2853, 2853, ..., 2851, 2850, 2850],\n",
       "        [2853, 2853, 2854, ..., 2850, 2850, 2850],\n",
       "        [2854, 2854, 2854, ..., 2851, 2850, 2850]],\n",
       "\n",
       "       [[2805, 2805, 2805, ..., 2803, 2803, 2802],\n",
       "        [2805, 2805, 2805, ..., 2804, 2804, 2803],\n",
       "        [2804, 2805, 2805, ..., 2803, 2803, 2803],\n",
       "        ...,\n",
       "        [2803, 2804, 2804, ..., 2800, 2800, 2800],\n",
       "        [2804, 2804, 2805, ..., 2800, 2800, 2800],\n",
       "        [2805, 2805, 2805, ..., 2801, 2800, 2800]],\n",
       "\n",
       "       [[2794, 2794, 2794, ..., 2792, 2791, 2790],\n",
       "        [2793, 2793, 2793, ..., 2792, 2792, 2791],\n",
       "        [2793, 2793, 2793, ..., 2791, 2791, 2791],\n",
       "        ...,\n",
       "        [2791, 2791, 2791, ..., 2787, 2787, 2787],\n",
       "        [2792, 2792, 2792, ..., 2787, 2787, 2787],\n",
       "        [2792, 2792, 2792, ..., 2787, 2787, 2786]]],\n",
       "      shape=(479, 23, 69), dtype=int32)</pre></div></li><li class='xr-var-item'><div class='xr-var-name'><span>tasmax</span></div><div class='xr-var-dims'>(time, lat, long)</div><div class='xr-var-dtype'>int32</div><div class='xr-var-preview xr-preview'>2768 2768 2768 ... 2809 2809 2808</div><input id='attrs-a98e1723-2ecd-48bb-a1eb-b7acfb7d56bc' class='xr-var-attrs-in' type='checkbox' disabled><label for='attrs-a98e1723-2ecd-48bb-a1eb-b7acfb7d56bc' title='Show/Hide attributes'><svg class='icon xr-icon-file-text2'><use xlink:href='#icon-file-text2'></use></svg></label><input id='data-caf553bf-caad-4fbb-a2e2-a99857f2203b' class='xr-var-data-in' type='checkbox'><label for='data-caf553bf-caad-4fbb-a2e2-a99857f2203b' title='Show/Hide data repr'><svg class='icon xr-icon-database'><use xlink:href='#icon-database'></use></svg></label><div class='xr-var-attrs'><dl class='xr-attrs'></dl></div><div class='xr-var-data'><pre>array([[[2768, 2768, 2768, ..., 2766, 2766, 2765],\n",
       "        [2768, 2768, 2768, ..., 2766, 2766, 2765],\n",
       "        [2768, 2768, 2768, ..., 2765, 2765, 2765],\n",
       "        ...,\n",
       "        [2768, 2768, 2768, ..., 2764, 2764, 2763],\n",
       "        [2768, 2768, 2768, ..., 2764, 2763, 2763],\n",
       "        [2768, 2768, 2768, ..., 2764, 2763, 2763]],\n",
       "\n",
       "       [[2819, 2819, 2819, ..., 2820, 2819, 2818],\n",
       "        [2819, 2819, 2819, ..., 2820, 2820, 2820],\n",
       "        [2819, 2819, 2819, ..., 2819, 2819, 2819],\n",
       "        ...,\n",
       "        [2817, 2818, 2818, ..., 2815, 2815, 2815],\n",
       "        [2818, 2818, 2819, ..., 2815, 2815, 2815],\n",
       "        [2819, 2819, 2819, ..., 2816, 2815, 2815]],\n",
       "\n",
       "       [[2848, 2848, 2848, ..., 2848, 2847, 2846],\n",
       "        [2847, 2848, 2848, ..., 2848, 2848, 2848],\n",
       "        [2847, 2847, 2848, ..., 2847, 2847, 2847],\n",
       "        ...,\n",
       "...\n",
       "        [2898, 2898, 2898, ..., 2896, 2896, 2895],\n",
       "        [2899, 2899, 2899, ..., 2896, 2896, 2895],\n",
       "        [2899, 2899, 2899, ..., 2896, 2896, 2895]],\n",
       "\n",
       "       [[2838, 2838, 2838, ..., 2837, 2837, 2836],\n",
       "        [2838, 2838, 2838, ..., 2838, 2838, 2838],\n",
       "        [2838, 2838, 2838, ..., 2837, 2837, 2837],\n",
       "        ...,\n",
       "        [2837, 2838, 2838, ..., 2835, 2834, 2834],\n",
       "        [2838, 2838, 2839, ..., 2835, 2834, 2834],\n",
       "        [2839, 2839, 2839, ..., 2835, 2835, 2834]],\n",
       "\n",
       "       [[2815, 2815, 2815, ..., 2813, 2813, 2812],\n",
       "        [2815, 2815, 2815, ..., 2813, 2813, 2813],\n",
       "        [2815, 2815, 2815, ..., 2813, 2813, 2813],\n",
       "        ...,\n",
       "        [2813, 2813, 2813, ..., 2809, 2809, 2808],\n",
       "        [2813, 2813, 2814, ..., 2809, 2809, 2808],\n",
       "        [2814, 2814, 2814, ..., 2809, 2809, 2808]]],\n",
       "      shape=(479, 23, 69), dtype=int32)</pre></div></li><li class='xr-var-item'><div class='xr-var-name'><span>tasmin</span></div><div class='xr-var-dims'>(time, lat, long)</div><div class='xr-var-dtype'>int32</div><div class='xr-var-preview xr-preview'>2709 2709 2709 ... 2762 2762 2761</div><input id='attrs-5bfe09ed-da0c-403b-a32f-2bde5223ba2c' class='xr-var-attrs-in' type='checkbox' disabled><label for='attrs-5bfe09ed-da0c-403b-a32f-2bde5223ba2c' title='Show/Hide attributes'><svg class='icon xr-icon-file-text2'><use xlink:href='#icon-file-text2'></use></svg></label><input id='data-fb7f8ee2-dcba-4950-98fc-426d0c3e3712' class='xr-var-data-in' type='checkbox'><label for='data-fb7f8ee2-dcba-4950-98fc-426d0c3e3712' title='Show/Hide data repr'><svg class='icon xr-icon-database'><use xlink:href='#icon-database'></use></svg></label><div class='xr-var-attrs'><dl class='xr-attrs'></dl></div><div class='xr-var-data'><pre>array([[[2709, 2709, 2709, ..., 2706, 2706, 2706],\n",
       "        [2709, 2709, 2709, ..., 2706, 2706, 2706],\n",
       "        [2709, 2709, 2709, ..., 2706, 2706, 2706],\n",
       "        ...,\n",
       "        [2708, 2708, 2708, ..., 2703, 2703, 2703],\n",
       "        [2708, 2708, 2708, ..., 2703, 2703, 2703],\n",
       "        [2709, 2708, 2708, ..., 2703, 2703, 2703]],\n",
       "\n",
       "       [[2749, 2749, 2749, ..., 2749, 2748, 2747],\n",
       "        [2749, 2749, 2749, ..., 2749, 2749, 2749],\n",
       "        [2748, 2749, 2749, ..., 2748, 2748, 2748],\n",
       "        ...,\n",
       "        [2746, 2747, 2747, ..., 2745, 2744, 2744],\n",
       "        [2748, 2747, 2748, ..., 2745, 2744, 2744],\n",
       "        [2748, 2748, 2748, ..., 2745, 2744, 2744]],\n",
       "\n",
       "       [[2773, 2773, 2773, ..., 2772, 2771, 2770],\n",
       "        [2772, 2772, 2772, ..., 2772, 2772, 2772],\n",
       "        [2772, 2772, 2772, ..., 2771, 2771, 2772],\n",
       "        ...,\n",
       "...\n",
       "        [2818, 2819, 2819, ..., 2818, 2817, 2817],\n",
       "        [2819, 2819, 2820, ..., 2818, 2817, 2817],\n",
       "        [2820, 2820, 2820, ..., 2818, 2818, 2817]],\n",
       "\n",
       "       [[2783, 2783, 2783, ..., 2782, 2782, 2781],\n",
       "        [2782, 2783, 2783, ..., 2782, 2782, 2782],\n",
       "        [2782, 2782, 2782, ..., 2781, 2781, 2782],\n",
       "        ...,\n",
       "        [2781, 2782, 2782, ..., 2779, 2779, 2779],\n",
       "        [2782, 2782, 2783, ..., 2779, 2779, 2779],\n",
       "        [2783, 2783, 2783, ..., 2780, 2779, 2779]],\n",
       "\n",
       "       [[2769, 2769, 2769, ..., 2766, 2766, 2765],\n",
       "        [2769, 2769, 2769, ..., 2766, 2766, 2766],\n",
       "        [2769, 2769, 2769, ..., 2766, 2766, 2766],\n",
       "        ...,\n",
       "        [2766, 2766, 2767, ..., 2762, 2762, 2762],\n",
       "        [2767, 2767, 2767, ..., 2762, 2762, 2762],\n",
       "        [2767, 2767, 2767, ..., 2762, 2762, 2761]]],\n",
       "      shape=(479, 23, 69), dtype=int32)</pre></div></li><li class='xr-var-item'><div class='xr-var-name'><span>vpd</span></div><div class='xr-var-dims'>(time, lat, long)</div><div class='xr-var-dtype'>uint16</div><div class='xr-var-preview xr-preview'>2129 2126 2123 ... 2839 2841 2821</div><input id='attrs-fff4cfc3-d7a3-4c3c-9092-a6d5e6c3afe4' class='xr-var-attrs-in' type='checkbox' disabled><label for='attrs-fff4cfc3-d7a3-4c3c-9092-a6d5e6c3afe4' title='Show/Hide attributes'><svg class='icon xr-icon-file-text2'><use xlink:href='#icon-file-text2'></use></svg></label><input id='data-56e58020-be6a-4cb4-9cf8-bf3152da9a1f' class='xr-var-data-in' type='checkbox'><label for='data-56e58020-be6a-4cb4-9cf8-bf3152da9a1f' title='Show/Hide data repr'><svg class='icon xr-icon-database'><use xlink:href='#icon-database'></use></svg></label><div class='xr-var-attrs'><dl class='xr-attrs'></dl></div><div class='xr-var-data'><pre>array([[[2129, 2126, 2123, ..., 2098, 2098, 2091],\n",
       "        [2115, 2116, 2114, ..., 2096, 2098, 2097],\n",
       "        [2101, 2102, 2101, ..., 2085, 2084, 2085],\n",
       "        ...,\n",
       "        [2087, 2096, 2104, ..., 2035, 2025, 2000],\n",
       "        [2100, 2105, 2115, ..., 2026, 2019, 1995],\n",
       "        [2108, 2116, 2118, ..., 2022, 2012, 1987]],\n",
       "\n",
       "       [[3162, 3161, 3159, ..., 3198, 3196, 3169],\n",
       "        [3161, 3162, 3161, ..., 3213, 3213, 3212],\n",
       "        [3133, 3156, 3156, ..., 3178, 3178, 3179],\n",
       "        ...,\n",
       "        [3107, 3131, 3133, ..., 3063, 3032, 3023],\n",
       "        [3132, 3135, 3160, ..., 3033, 3025, 3016],\n",
       "        [3157, 3160, 3162, ..., 3047, 3018, 3009]],\n",
       "\n",
       "       [[4261, 4259, 4256, ..., 4304, 4272, 4239],\n",
       "        [4229, 4258, 4257, ..., 4293, 4290, 4286],\n",
       "        [4222, 4223, 4223, ..., 4249, 4245, 4271],\n",
       "        ...,\n",
       "...\n",
       "        [5418, 5416, 5416, ..., 5307, 5269, 5263],\n",
       "        [5412, 5415, 5448, ..., 5261, 5255, 5250],\n",
       "        [5445, 5445, 5448, ..., 5273, 5239, 5237]],\n",
       "\n",
       "       [[3430, 3429, 3425, ..., 3415, 3426, 3424],\n",
       "        [3442, 3435, 3433, ..., 3434, 3433, 3412],\n",
       "        [3416, 3434, 3432, ..., 3424, 3425, 3418],\n",
       "        ...,\n",
       "        [3425, 3438, 3433, ..., 3384, 3388, 3388],\n",
       "        [3433, 3434, 3444, ..., 3379, 3377, 3374],\n",
       "        [3449, 3442, 3448, ..., 3379, 3362, 3365]],\n",
       "\n",
       "       [[3039, 3038, 3035, ..., 3017, 2998, 2986],\n",
       "        [3026, 3022, 3021, ..., 2999, 2995, 2972],\n",
       "        [3017, 3016, 3015, ..., 2971, 2968, 2962],\n",
       "        ...,\n",
       "        [2986, 2979, 2975, ..., 2868, 2866, 2860],\n",
       "        [2994, 2995, 2986, ..., 2863, 2856, 2848],\n",
       "        [2986, 2983, 2989, ..., 2839, 2841, 2821]]],\n",
       "      shape=(479, 23, 69), dtype=uint16)</pre></div></li></ul></div></li><li class='xr-section-item'><input id='section-8148008f-100b-4924-ac11-02e56b793e5f' class='xr-section-summary-in' type='checkbox'  ><label for='section-8148008f-100b-4924-ac11-02e56b793e5f' class='xr-section-summary' >Indexes: <span>(3)</span></label><div class='xr-section-inline-details'></div><div class='xr-section-details'><ul class='xr-var-list'><li class='xr-var-item'><div class='xr-index-name'><div>time</div></div><div class='xr-index-preview'>PandasIndex</div><div></div><input id='index-1f145b79-e2b3-41b6-a967-b31f66fcf643' class='xr-index-data-in' type='checkbox'/><label for='index-1f145b79-e2b3-41b6-a967-b31f66fcf643' title='Show/Hide index repr'><svg class='icon xr-icon-database'><use xlink:href='#icon-database'></use></svg></label><div class='xr-index-data'><pre>PandasIndex(DatetimeIndex([&#x27;1979-02-01&#x27;, &#x27;1979-03-01&#x27;, &#x27;1979-04-01&#x27;, &#x27;1979-05-01&#x27;,\n",
       "               &#x27;1979-06-01&#x27;, &#x27;1979-07-01&#x27;, &#x27;1979-08-01&#x27;, &#x27;1979-09-01&#x27;,\n",
       "               &#x27;1979-10-01&#x27;, &#x27;1979-11-01&#x27;,\n",
       "               ...\n",
       "               &#x27;2018-03-01&#x27;, &#x27;2018-04-01&#x27;, &#x27;2018-05-01&#x27;, &#x27;2018-06-01&#x27;,\n",
       "               &#x27;2018-07-01&#x27;, &#x27;2018-08-01&#x27;, &#x27;2018-09-01&#x27;, &#x27;2018-10-01&#x27;,\n",
       "               &#x27;2018-11-01&#x27;, &#x27;2018-12-01&#x27;],\n",
       "              dtype=&#x27;datetime64[ns]&#x27;, name=&#x27;time&#x27;, length=479, freq=None))</pre></div></li><li class='xr-var-item'><div class='xr-index-name'><div>lat</div></div><div class='xr-index-preview'>PandasIndex</div><div></div><input id='index-4240886b-2367-4005-ae98-d9ebe5d730b1' class='xr-index-data-in' type='checkbox'/><label for='index-4240886b-2367-4005-ae98-d9ebe5d730b1' title='Show/Hide index repr'><svg class='icon xr-icon-database'><use xlink:href='#icon-database'></use></svg></label><div class='xr-index-data'><pre>PandasIndex(Index([50.87374433334999, 50.86541100004999, 50.85707766674999,\n",
       "       50.84874433344999, 50.84041100014999, 50.83207766684999,\n",
       "       50.82374433354999, 50.81541100024999, 50.80707766694999,\n",
       "       50.79874433364999, 50.79041100034999, 50.78207766704999,\n",
       "       50.77374433374999, 50.76541100044999, 50.75707766714999,\n",
       "       50.74874433384999, 50.74041100054999, 50.73207766724999,\n",
       "       50.72374433394999, 50.71541100064999, 50.70707766734999,\n",
       "       50.69874433404999, 50.69041100074999],\n",
       "      dtype=&#x27;float64&#x27;, name=&#x27;lat&#x27;))</pre></div></li><li class='xr-var-item'><div class='xr-index-name'><div>long</div></div><div class='xr-index-preview'>PandasIndex</div><div></div><input id='index-43f87804-156c-410f-a19e-6161c39c82a8' class='xr-index-data-in' type='checkbox'/><label for='index-43f87804-156c-410f-a19e-6161c39c82a8' title='Show/Hide index repr'><svg class='icon xr-icon-database'><use xlink:href='#icon-database'></use></svg></label><div class='xr-index-data'><pre>PandasIndex(Index([ 4.175537666650022,  4.183870999950022,  4.192204333250022,\n",
       "        4.200537666550022, 4.2088709998500216,  4.217204333150022,\n",
       "       4.2255376664500215,  4.233870999750022,  4.242204333050022,\n",
       "        4.250537666350022,  4.258870999650022,  4.267204332950022,\n",
       "        4.275537666250022,  4.283870999550022,  4.292204332850022,\n",
       "        4.300537666150022,  4.308870999450022,  4.317204332750022,\n",
       "        4.325537666050022, 4.3338709993500215,  4.342204332650022,\n",
       "        4.350537665950022,  4.358870999250022,  4.367204332550022,\n",
       "        4.375537665850022,  4.383870999150022,  4.392204332450022,\n",
       "        4.400537665750022,  4.408870999050022,  4.417204332350022,\n",
       "        4.425537665650022,  4.433870998950022, 4.4422043322500215,\n",
       "        4.450537665550022,  4.458870998850022,  4.467204332150022,\n",
       "        4.475537665450022,  4.483870998750022,  4.492204332050022,\n",
       "        4.500537665350022,  4.508870998650022,  4.517204331950022,\n",
       "        4.525537665250022,  4.533870998550022,  4.542204331850022,\n",
       "        4.550537665150022,  4.558870998450022, 4.5672043317500215,\n",
       "        4.575537665050022,  4.583870998350022,  4.592204331650022,\n",
       "        4.600537664950022,  4.608870998250022,  4.617204331550022,\n",
       "        4.625537664850022,  4.633870998150022,  4.642204331450022,\n",
       "        4.650537664750022,  4.658870998050022,  4.667204331350022,\n",
       "        4.675537664650022,  4.683870997950022,  4.692204331250022,\n",
       "        4.700537664550022,  4.708870997850022,  4.717204331150022,\n",
       "        4.725537664450022,  4.733870997750022,  4.742204331050022],\n",
       "      dtype=&#x27;float64&#x27;, name=&#x27;long&#x27;))</pre></div></li></ul></div></li><li class='xr-section-item'><input id='section-073746e2-5b18-4a54-b183-59fe9d42021c' class='xr-section-summary-in' type='checkbox' disabled ><label for='section-073746e2-5b18-4a54-b183-59fe9d42021c' class='xr-section-summary'  title='Expand/collapse section'>Attributes: <span>(0)</span></label><div class='xr-section-inline-details'></div><div class='xr-section-details'><dl class='xr-attrs'></dl></div></li></ul></div></div>"
      ],
      "text/plain": [
       "<xarray.Dataset> Size: 30MB\n",
       "Dimensions:  (time: 479, lat: 23, long: 69)\n",
       "Coordinates:\n",
       "  * time     (time) datetime64[ns] 4kB 1979-02-01 1979-03-01 ... 2018-12-01\n",
       "  * lat      (lat) float64 184B 50.87 50.87 50.86 50.85 ... 50.71 50.7 50.69\n",
       "  * long     (long) float64 552B 4.176 4.184 4.192 4.201 ... 4.726 4.734 4.742\n",
       "Data variables:\n",
       "    clt      (time, lat, long) float64 6MB 6.012e+03 6.012e+03 ... 5.363e+03\n",
       "    cmi      (time, lat, long) int16 2MB 242 221 207 215 220 ... 349 335 311 299\n",
       "    hurs     (time, lat, long) uint16 2MB 6653 6657 6662 6669 ... 6865 6863 6864\n",
       "    pet      (time, lat, long) uint16 2MB 2149 2356 2499 2436 ... 2803 3031 3144\n",
       "    pr       (time, lat, long) int64 6MB 4565 4568 4573 4589 ... 6149 6139 6132\n",
       "    rsds     (time, lat, long) uint16 2MB 5665 5681 5704 5726 ... 2238 2233 2225\n",
       "    sfcWind  (time, lat, long) uint16 2MB 3381 3778 3991 3886 ... 5239 5555 5751\n",
       "    tas      (time, lat, long) int32 3MB 2737 2737 2737 2737 ... 2787 2787 2786\n",
       "    tasmax   (time, lat, long) int32 3MB 2768 2768 2768 2768 ... 2809 2809 2808\n",
       "    tasmin   (time, lat, long) int32 3MB 2709 2709 2709 2709 ... 2762 2762 2761\n",
       "    vpd      (time, lat, long) uint16 2MB 2129 2126 2123 2119 ... 2839 2841 2821"
      ]
     },
     "execution_count": 32,
     "metadata": {},
     "output_type": "execute_result"
    }
   ],
   "source": [
    "bmd_cube.groups[\"dynamic\"][0]"
   ]
  },
  {
   "cell_type": "code",
   "execution_count": 33,
   "id": "d57ca718-7c15-4a57-a81c-e51c0a249011",
   "metadata": {},
   "outputs": [],
   "source": [
    "bmd_cube.construct_datatree()"
   ]
  },
  {
   "cell_type": "code",
   "execution_count": 34,
   "id": "87094cd7-bb9f-465c-94f0-eb5f70bab11e",
   "metadata": {},
   "outputs": [],
   "source": [
    "bmd_cube.export_tree()"
   ]
  }
 ],
 "metadata": {
  "kernelspec": {
   "display_name": "Python 3 (ipykernel)",
   "language": "python",
   "name": "python3"
  },
  "language_info": {
   "codemirror_mode": {
    "name": "ipython",
    "version": 3
   },
   "file_extension": ".py",
   "mimetype": "text/x-python",
   "name": "python",
   "nbconvert_exporter": "python",
   "pygments_lexer": "ipython3",
   "version": "3.12.9"
  }
 },
 "nbformat": 4,
 "nbformat_minor": 5
}
