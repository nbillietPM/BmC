{
 "cells": [
  {
   "cell_type": "code",
   "execution_count": 1,
   "id": "239c5399-ebce-433c-ad75-f02f304c9edb",
   "metadata": {},
   "outputs": [],
   "source": [
    "tif_files = [\n",
    "    \"CHELSA_ai_1981-2010_V.2.1.tif\",\n",
    "    \"CHELSA_bio10_1981-2010_V.2.1.tif\",\n",
    "    \"CHELSA_bio11_1981-2010_V.2.1.tif\",\n",
    "    \"CHELSA_bio12_1981-2010_V.2.1.tif\",\n",
    "    \"CHELSA_bio13_1981-2010_V.2.1.tif\",\n",
    "    \"CHELSA_bio14_1981-2010_V.2.1.tif\",\n",
    "    \"CHELSA_bio15_1981-2010_V.2.1.tif\",\n",
    "    \"CHELSA_bio16_1981-2010_V.2.1.tif\",\n",
    "    \"CHELSA_bio17_1981-2010_V.2.1.tif\",\n",
    "    \"CHELSA_bio18_1981-2010_V.2.1.tif\",\n",
    "    \"CHELSA_bio19_1981-2010_V.2.1.tif\",\n",
    "    \"CHELSA_bio1_1981-2010_V.2.1.tif\",\n",
    "    \"CHELSA_bio2_1981-2010_V.2.1.tif\",\n",
    "    \"CHELSA_bio3_1981-2010_V.2.1.tif\",\n",
    "    \"CHELSA_bio4_1981-2010_V.2.1.tif\",\n",
    "    \"CHELSA_bio5_1981-2010_V.2.1.tif\",\n",
    "    \"CHELSA_bio6_1981-2010_V.2.1.tif\",\n",
    "    \"CHELSA_bio7_1981-2010_V.2.1.tif\",\n",
    "    \"CHELSA_bio8_1981-2010_V.2.1.tif\",\n",
    "    \"CHELSA_bio9_1981-2010_V.2.1.tif\",\n",
    "    \"CHELSA_clt_max_1981-2010_V.2.1.tif\",\n",
    "    \"CHELSA_clt_mean_1981-2010_V.2.1.tif\",\n",
    "    \"CHELSA_clt_min_1981-2010_V.2.1.tif\",\n",
    "    \"CHELSA_clt_range_1981-2010_V.2.1.tif\",\n",
    "    \"CHELSA_cmi_max_1981-2010_V.2.1.tif\",\n",
    "    \"CHELSA_cmi_mean_1981-2010_V.2.1.tif\",\n",
    "    \"CHELSA_cmi_min_1981-2010_V.2.1.tif\",\n",
    "    \"CHELSA_cmi_range_1981-2010_V.2.1.tif\",\n",
    "    \"CHELSA_fcf_1981-2010_V.2.1.tif\",\n",
    "    \"CHELSA_fgd_1981-2010_V.2.1.tif\",\n",
    "    \"CHELSA_gdd0_1981-2010_V.2.1.tif\",\n",
    "    \"CHELSA_gdd10_1981-2010_V.2.1.tif\",\n",
    "    \"CHELSA_gdd5_1981-2010_V.2.1.tif\",\n",
    "    \"CHELSA_gddlgd0_1981-2010_V.2.1.tif\",\n",
    "    \"CHELSA_gddlgd10_1981-2010_V.2.1.tif\",\n",
    "    \"CHELSA_gddlgd5_1981-2010_V.2.1.tif\",\n",
    "    \"CHELSA_gdgfgd0_1981-2010_V.2.1.tif\",\n",
    "    \"CHELSA_gdgfgd10_1981-2010_V.2.1.tif\",\n",
    "    \"CHELSA_gdgfgd5_1981-2010_V.2.1.tif\",\n",
    "    \"CHELSA_gsl_1981-2010_V.2.1.tif\",\n",
    "    \"CHELSA_gsp_1981-2010_V.2.1.tif\",\n",
    "    \"CHELSA_gst_1981-2010_V.2.1.tif\",\n",
    "    \"CHELSA_hurs_max_1981-2010_V.2.1.tif\",\n",
    "    \"CHELSA_hurs_mean_1981-2010_V.2.1.tif\",\n",
    "    \"CHELSA_hurs_min_1981-2010_V.2.1.tif\",\n",
    "    \"CHELSA_hurs_range_1981-2010_V.2.1.tif\",\n",
    "    \"CHELSA_kg0_1981-2010_V.2.1.tif\",\n",
    "    \"CHELSA_kg1_1981-2010_V.2.1.tif\",\n",
    "    \"CHELSA_kg2_1981-2010_V.2.1.tif\",\n",
    "    \"CHELSA_kg3_1981-2010_V.2.1.tif\",\n",
    "    \"CHELSA_kg4_1981-2010_V.2.1.tif\",\n",
    "    \"CHELSA_kg5_1981-2010_V.2.1.tif\",\n",
    "    \"CHELSA_lgd_1981-2010_V.2.1.tif\",\n",
    "    \"CHELSA_ngd0_1981-2010_V.2.1.tif\",\n",
    "    \"CHELSA_ngd10_1981-2010_V.2.1.tif\",\n",
    "    \"CHELSA_ngd5_1981-2010_V.2.1.tif\",\n",
    "    \"CHELSA_npp_1981-2010_V.2.1.tif\",\n",
    "    \"CHELSA_pet_penman_max_1981-2010_V.2.1.tif\",\n",
    "    \"CHELSA_pet_penman_mean_1981-2010_V.2.1.tif\",\n",
    "    \"CHELSA_pet_penman_min_1981-2010_V.2.1.tif\",\n",
    "    \"CHELSA_pet_penman_range_1981-2010_V.2.1.tif\",\n",
    "    \"CHELSA_rsds_1981-2010_max_V.2.1.tif\",\n",
    "    \"CHELSA_rsds_1981-2010_mean_V.2.1.tif\",\n",
    "    \"CHELSA_rsds_1981-2010_min_V.2.1.tif\",\n",
    "    \"CHELSA_rsds_1981-2010_range_V.2.1.tif\",\n",
    "    \"CHELSA_scd_1981-2010_V.2.1.tif\",\n",
    "    \"CHELSA_sfcWind_max_1981-2010_V.2.1.tif\",\n",
    "    \"CHELSA_sfcWind_mean_1981-2010_V.2.1.tif\",\n",
    "    \"CHELSA_sfcWind_min_1981-2010_V.2.1.tif\",\n",
    "    \"CHELSA_sfcWind_range_1981-2010_V.2.1.tif\",\n",
    "    \"CHELSA_swb_1981-2010_V.2.1.tif\",\n",
    "    \"CHELSA_swe_1981-2010_V.2.1.tif\",\n",
    "    \"CHELSA_vpd_max_1981-2010_V.2.1.tif\",\n",
    "    \"CHELSA_vpd_mean_1981-2010_V.2.1.tif\",\n",
    "    \"CHELSA_vpd_min_1981-2010_V.2.1.tif\",\n",
    "    \"CHELSA_vpd_range_1981-2010_V.2.1.tif\"\n",
    "]"
   ]
  },
  {
   "cell_type": "code",
   "execution_count": 5,
   "id": "4ba59882-75db-43c5-a852-ac79a2d10092",
   "metadata": {},
   "outputs": [
    {
     "data": {
      "text/plain": [
       "20"
      ]
     },
     "execution_count": 5,
     "metadata": {},
     "output_type": "execute_result"
    }
   ],
   "source": [
    "len(\"_1981-2010_V.2.1.tif\")"
   ]
  },
  {
   "cell_type": "code",
   "execution_count": 6,
   "id": "ae0a1e4d-ff10-4958-92b0-b631632d7fba",
   "metadata": {},
   "outputs": [
    {
     "data": {
      "text/plain": [
       "['ai',\n",
       " 'bio10',\n",
       " 'bio11',\n",
       " 'bio12',\n",
       " 'bio13',\n",
       " 'bio14',\n",
       " 'bio15',\n",
       " 'bio16',\n",
       " 'bio17',\n",
       " 'bio18',\n",
       " 'bio19',\n",
       " 'bio1',\n",
       " 'bio2',\n",
       " 'bio3',\n",
       " 'bio4',\n",
       " 'bio5',\n",
       " 'bio6',\n",
       " 'bio7',\n",
       " 'bio8',\n",
       " 'bio9',\n",
       " 'clt_max',\n",
       " 'clt_mean',\n",
       " 'clt_min',\n",
       " 'clt_range',\n",
       " 'cmi_max',\n",
       " 'cmi_mean',\n",
       " 'cmi_min',\n",
       " 'cmi_range',\n",
       " 'fcf',\n",
       " 'fgd',\n",
       " 'gdd0',\n",
       " 'gdd10',\n",
       " 'gdd5',\n",
       " 'gddlgd0',\n",
       " 'gddlgd10',\n",
       " 'gddlgd5',\n",
       " 'gdgfgd0',\n",
       " 'gdgfgd10',\n",
       " 'gdgfgd5',\n",
       " 'gsl',\n",
       " 'gsp',\n",
       " 'gst',\n",
       " 'hurs_max',\n",
       " 'hurs_mean',\n",
       " 'hurs_min',\n",
       " 'hurs_range',\n",
       " 'kg0',\n",
       " 'kg1',\n",
       " 'kg2',\n",
       " 'kg3',\n",
       " 'kg4',\n",
       " 'kg5',\n",
       " 'lgd',\n",
       " 'ngd0',\n",
       " 'ngd10',\n",
       " 'ngd5',\n",
       " 'npp',\n",
       " 'pet_penman_max',\n",
       " 'pet_penman_mean',\n",
       " 'pet_penman_min',\n",
       " 'pet_penman_range',\n",
       " 'rsds_198',\n",
       " 'rsds_1981',\n",
       " 'rsds_198',\n",
       " 'rsds_1981-',\n",
       " 'scd',\n",
       " 'sfcWind_max',\n",
       " 'sfcWind_mean',\n",
       " 'sfcWind_min',\n",
       " 'sfcWind_range',\n",
       " 'swb',\n",
       " 'swe',\n",
       " 'vpd_max',\n",
       " 'vpd_mean',\n",
       " 'vpd_min',\n",
       " 'vpd_range']"
      ]
     },
     "execution_count": 6,
     "metadata": {},
     "output_type": "execute_result"
    }
   ],
   "source": [
    "split_files = [file[7:-20] for file in tif_files]\n",
    "split_files"
   ]
  },
  {
   "cell_type": "code",
   "execution_count": 7,
   "id": "a5a94e3d-1ea2-41e6-a96c-66079fbd7866",
   "metadata": {},
   "outputs": [],
   "source": [
    "var_opt = ['ai','bio10','bio11','bio12','bio13','bio14','bio15','bio16','bio17','bio18','bio19','bio1','bio2','bio3',\n",
    "           'bio4','bio5','bio6','bio7','bio8','bio9','clt_max','clt_mean','clt_min','clt_range','cmi_max','cmi_mean',\n",
    "           'cmi_min','cmi_range','fcf','fgd','gdd0','gdd10','gdd5','gddlgd0','gddlgd10','gddlgd5','gdgfgd0','gdgfgd10',\n",
    "           'gdgfgd5','gsl','gsp','gst','hurs_max','hurs_mean','hurs_min','hurs_range','kg0','kg1','kg2','kg3','kg4','kg5',\n",
    "           'lgd','ngd0','ngd10','ngd5','npp','pet_penman_max','pet_penman_mean','pet_penman_min','pet_penman_range',\n",
    "           'rsds_max','rsds_min','rsds_mean','rsds_range','scd','sfcWind_max','sfcWind_mean','sfcWind_min','sfcWind_range',\n",
    "           'swb','swe','vpd_max','vpd_mean','vpd_min','vpd_range']"
   ]
  },
  {
   "cell_type": "code",
   "execution_count": 8,
   "id": "df6da7a9-acb4-4f39-b44f-2536516753a8",
   "metadata": {},
   "outputs": [
    {
     "data": {
      "text/plain": [
       "['ai',\n",
       " 'bio10',\n",
       " 'bio11',\n",
       " 'bio12',\n",
       " 'bio13',\n",
       " 'bio14',\n",
       " 'bio15',\n",
       " 'bio16',\n",
       " 'bio17',\n",
       " 'bio18',\n",
       " 'bio19',\n",
       " 'bio1',\n",
       " 'bio2',\n",
       " 'bio3',\n",
       " 'bio4',\n",
       " 'bio5',\n",
       " 'bio6',\n",
       " 'bio7',\n",
       " 'bio8',\n",
       " 'bio9',\n",
       " 'clt_max',\n",
       " 'clt_mean',\n",
       " 'clt_min',\n",
       " 'clt_range',\n",
       " 'cmi_max',\n",
       " 'cmi_mean',\n",
       " 'cmi_min',\n",
       " 'cmi_range',\n",
       " 'fcf',\n",
       " 'fgd',\n",
       " 'gdd0',\n",
       " 'gdd10',\n",
       " 'gdd5',\n",
       " 'gddlgd0',\n",
       " 'gddlgd10',\n",
       " 'gddlgd5',\n",
       " 'gdgfgd0',\n",
       " 'gdgfgd10',\n",
       " 'gdgfgd5',\n",
       " 'gsl',\n",
       " 'gsp',\n",
       " 'gst',\n",
       " 'hurs_max',\n",
       " 'hurs_mean',\n",
       " 'hurs_min',\n",
       " 'hurs_range',\n",
       " 'kg0',\n",
       " 'kg1',\n",
       " 'kg2',\n",
       " 'kg3',\n",
       " 'kg4',\n",
       " 'kg5',\n",
       " 'lgd',\n",
       " 'ngd0',\n",
       " 'ngd10',\n",
       " 'ngd5',\n",
       " 'npp',\n",
       " 'pet_penman_max',\n",
       " 'pet_penman_mean',\n",
       " 'pet_penman_min',\n",
       " 'pet_penman_range',\n",
       " 'rsds_198',\n",
       " 'rsds_1981',\n",
       " 'rsds_198',\n",
       " 'rsds_1981-',\n",
       " 'scd',\n",
       " 'sfcWind_max',\n",
       " 'sfcWind_mean',\n",
       " 'sfcWind_min',\n",
       " 'sfcWind_range',\n",
       " 'swb',\n",
       " 'swe',\n",
       " 'vpd_max',\n",
       " 'vpd_mean',\n",
       " 'vpd_min',\n",
       " 'vpd_range']"
      ]
     },
     "execution_count": 8,
     "metadata": {},
     "output_type": "execute_result"
    }
   ],
   "source": [
    "var_opt"
   ]
  },
  {
   "cell_type": "code",
   "execution_count": 9,
   "id": "dfb771d2-c4ff-4c1f-bf71-53ebc1517109",
   "metadata": {},
   "outputs": [],
   "source": [
    "tif_files = [\n",
    "    \"CHELSA_bio10_2011-2040_gfdl-esm4_ssp126_V.2.1.tif\",\n",
    "    \"CHELSA_bio11_2011-2040_gfdl-esm4_ssp126_V.2.1.tif\",\n",
    "    \"CHELSA_bio12_2011-2040_gfdl-esm4_ssp126_V.2.1.tif\",\n",
    "    \"CHELSA_bio13_2011-2040_gfdl-esm4_ssp126_V.2.1.tif\",\n",
    "    \"CHELSA_bio14_2011-2040_gfdl-esm4_ssp126_V.2.1.tif\",\n",
    "    \"CHELSA_bio15_2011-2040_gfdl-esm4_ssp126_V.2.1.tif\",\n",
    "    \"CHELSA_bio16_2011-2040_gfdl-esm4_ssp126_V.2.1.tif\",\n",
    "    \"CHELSA_bio17_2011-2040_gfdl-esm4_ssp126_V.2.1.tif\",\n",
    "    \"CHELSA_bio18_2011-2040_gfdl-esm4_ssp126_V.2.1.tif\",\n",
    "    \"CHELSA_bio19_2011-2040_gfdl-esm4_ssp126_V.2.1.tif\",\n",
    "    \"CHELSA_bio1_2011-2040_gfdl-esm4_ssp126_V.2.1.tif\",\n",
    "    \"CHELSA_bio2_2011-2040_gfdl-esm4_ssp126_V.2.1.tif\",\n",
    "    \"CHELSA_bio3_2011-2040_gfdl-esm4_ssp126_V.2.1.tif\",\n",
    "    \"CHELSA_bio4_2011-2040_gfdl-esm4_ssp126_V.2.1.tif\",\n",
    "    \"CHELSA_bio5_2011-2040_gfdl-esm4_ssp126_V.2.1.tif\",\n",
    "    \"CHELSA_bio6_2011-2040_gfdl-esm4_ssp126_V.2.1.tif\",\n",
    "    \"CHELSA_bio7_2011-2040_gfdl-esm4_ssp126_V.2.1.tif\",\n",
    "    \"CHELSA_bio8_2011-2040_gfdl-esm4_ssp126_V.2.1.tif\",\n",
    "    \"CHELSA_bio9_2011-2040_gfdl-esm4_ssp126_V.2.1.tif\",\n",
    "    \"CHELSA_fcf_2011-2040_gfdl-esm4_ssp126_V.2.1.tif\",\n",
    "    \"CHELSA_fgd_2011-2040_gfdl-esm4_ssp126_V.2.1.tif\",\n",
    "    \"CHELSA_gdd0_2011-2040_gfdl-esm4_ssp126_V.2.1.tif\",\n",
    "    \"CHELSA_gdd10_2011-2040_gfdl-esm4_ssp126_V.2.1.tif\",\n",
    "    \"CHELSA_gdd5_2011-2040_gfdl-esm4_ssp126_V.2.1.tif\",\n",
    "    \"CHELSA_gddlgd0_2011-2040_gfdl-esm4_ssp126_V.2.1.tif\",\n",
    "    \"CHELSA_gddlgd10_2011-2040_gfdl-esm4_ssp126_V.2.1.tif\",\n",
    "    \"CHELSA_gddlgd5_2011-2040_gfdl-esm4_ssp126_V.2.1.tif\",\n",
    "    \"CHELSA_gdgfgd0_2011-2040_gfdl-esm4_ssp126_V.2.1.tif\",\n",
    "    \"CHELSA_gdgfgd10_2011-2040_gfdl-esm4_ssp126_V.2.1.tif\",\n",
    "    \"CHELSA_gdgfgd5_2011-2040_gfdl-esm4_ssp126_V.2.1.tif\",\n",
    "    \"CHELSA_gsl_2011-2040_gfdl-esm4_ssp126_V.2.1.tif\",\n",
    "    \"CHELSA_gsp_2011-2040_gfdl-esm4_ssp126_V.2.1.tif\",\n",
    "    \"CHELSA_gst_2011-2040_gfdl-esm4_ssp126_V.2.1.tif\",\n",
    "    \"CHELSA_kg0_2011-2040_gfdl-esm4_ssp126_V.2.1.tif\",\n",
    "    \"CHELSA_kg1_2011-2040_gfdl-esm4_ssp126_V.2.1.tif\",\n",
    "    \"CHELSA_kg2_2011-2040_gfdl-esm4_ssp126_V.2.1.tif\",\n",
    "    \"CHELSA_kg3_2011-2040_gfdl-esm4_ssp126_V.2.1.tif\",\n",
    "    \"CHELSA_kg4_2011-2040_gfdl-esm4_ssp126_V.2.1.tif\",\n",
    "    \"CHELSA_kg5_2011-2040_gfdl-esm4_ssp126_V.2.1.tif\",\n",
    "    \"CHELSA_lgd_2011-2040_gfdl-esm4_ssp126_V.2.1.tif\",\n",
    "    \"CHELSA_ngd0_2011-2040_gfdl-esm4_ssp126_V.2.1.tif\",\n",
    "    \"CHELSA_ngd10_2011-2040_gfdl-esm4_ssp126_V.2.1.tif\",\n",
    "    \"CHELSA_ngd5_2011-2040_gfdl-esm4_ssp126_V.2.1.tif\",\n",
    "    \"CHELSA_npp_2011-2040_gfdl-esm4_ssp126_V.2.1.tif\",\n",
    "    \"CHELSA_scd_2011-2040_gfdl-esm4_ssp126_V.2.1.tif\",\n",
    "    \"CHELSA_swe_2011-2040_gfdl-esm4_ssp126_V.2.1.tif\"\n",
    "]"
   ]
  },
  {
   "cell_type": "code",
   "execution_count": 10,
   "id": "ca4ff6bd-a033-40ef-ba48-393b026dbdc2",
   "metadata": {},
   "outputs": [
    {
     "data": {
      "text/plain": [
       "37"
      ]
     },
     "execution_count": 10,
     "metadata": {},
     "output_type": "execute_result"
    }
   ],
   "source": [
    "len(\"_2011-2040_gfdl-esm4_ssp126_V.2.1.tif\")"
   ]
  },
  {
   "cell_type": "code",
   "execution_count": 11,
   "id": "89cfa0db-4513-4583-98a3-fbbed19465cf",
   "metadata": {},
   "outputs": [
    {
     "data": {
      "text/plain": [
       "['bio10',\n",
       " 'bio11',\n",
       " 'bio12',\n",
       " 'bio13',\n",
       " 'bio14',\n",
       " 'bio15',\n",
       " 'bio16',\n",
       " 'bio17',\n",
       " 'bio18',\n",
       " 'bio19',\n",
       " 'bio1',\n",
       " 'bio2',\n",
       " 'bio3',\n",
       " 'bio4',\n",
       " 'bio5',\n",
       " 'bio6',\n",
       " 'bio7',\n",
       " 'bio8',\n",
       " 'bio9',\n",
       " 'fcf',\n",
       " 'fgd',\n",
       " 'gdd0',\n",
       " 'gdd10',\n",
       " 'gdd5',\n",
       " 'gddlgd0',\n",
       " 'gddlgd10',\n",
       " 'gddlgd5',\n",
       " 'gdgfgd0',\n",
       " 'gdgfgd10',\n",
       " 'gdgfgd5',\n",
       " 'gsl',\n",
       " 'gsp',\n",
       " 'gst',\n",
       " 'kg0',\n",
       " 'kg1',\n",
       " 'kg2',\n",
       " 'kg3',\n",
       " 'kg4',\n",
       " 'kg5',\n",
       " 'lgd',\n",
       " 'ngd0',\n",
       " 'ngd10',\n",
       " 'ngd5',\n",
       " 'npp',\n",
       " 'scd',\n",
       " 'swe']"
      ]
     },
     "execution_count": 11,
     "metadata": {},
     "output_type": "execute_result"
    }
   ],
   "source": [
    "var_names = [file[7:-37] for file in tif_files]\n",
    "var_names"
   ]
  },
  {
   "cell_type": "code",
   "execution_count": null,
   "id": "2a07a27c-b604-4b64-8048-3bb9042bf4e8",
   "metadata": {},
   "outputs": [],
   "source": [
    "var_opt=['bio10','bio11','bio12','bio13','bio14','bio15','bio16','bio17','bio18','bio19','bio1','bio2','bio3',\n",
    "         'bio4','bio5','bio6','bio7','bio8','bio9','fcf','fgd','gdd0','gdd10','gdd5','gddlgd0','gddlgd10',\n",
    "         'gddlgd5','gdgfgd0','gdgfgd10','gdgfgd5','gsl','gsp','gst','kg0','kg1','kg2','kg3','kg4','kg5',\n",
    "         'lgd','ngd0','ngd10','ngd5','npp','scd','swe']"
   ]
  },
  {
   "cell_type": "code",
   "execution_count": 41,
   "id": "426ef692-0205-40f9-a54f-c0da73d0c593",
   "metadata": {},
   "outputs": [],
   "source": [
    "def format_url_clim_sim(var, year_range, model_name, ensemble_member, \n",
    "                        base_url=\"https://os.zhdk.cloud.switch.ch/chelsav2/GLOBAL/climatologies\",\n",
    "                        version=\"V.2.1\"):\n",
    "    \"\"\"\n",
    "    generate url that link to the files in the S3 bucket that contain the future climate projections\n",
    "    \"\"\"\n",
    "    var_opt=['bio10','bio11','bio12','bio13','bio14','bio15','bio16','bio17','bio18','bio19','bio1','bio2','bio3',\n",
    "         'bio4','bio5','bio6','bio7','bio8','bio9','fcf','fgd','gdd0','gdd10','gdd5','gddlgd0','gddlgd10',\n",
    "         'gddlgd5','gdgfgd0','gdgfgd10','gdgfgd5','gsl','gsp','gst','kg0','kg1','kg2','kg3','kg4','kg5',\n",
    "         'lgd','ngd0','ngd10','ngd5','npp','scd','swe']\n",
    "    if var not in var_opt:\n",
    "        raise ValueError(f\"Variable invalid:{var} Variable must be one the following options {var_opt}\")\n",
    "    model_names = ['GFDL-ESM4','IPSL-CM6A-LR','MPI-ESM1-2-HR','MRI-ESM2-0','UKESM1-0-LL','gfdl-esm4','ipsl-cm6a-lr','mpi-esm1-2-hr','mri-esm2-0','ukesm1-0-ll']\n",
    "    if model_name not in model_names or model_name.upper() not in model_names:\n",
    "        raise ValueError(f\"Modelname invalid: {model_name} Please use on of the following model names {model_names}\")\n",
    "    ensemble_members = [\"ssp126\",\"ssp370\",\"ssp585\"]\n",
    "    if ensemble_member not in ensemble_members:\n",
    "        raise ValueError(f\"Ensemble member invalid: {ensemble_member} Please use one of the following ensemble members {ensemble_members}\")\n",
    "    year_ranges = [\"2011-2040\",\"2041-2070\",\"2071-2100\"]\n",
    "    if year_range not in year_ranges:\n",
    "        raise ValueError(f\"Year range invalid: {year_range} Please use on of the following year ranges {year_ranges}\")\n",
    "    return f\"{base_url}/{year_range}/{model_name.upper()}/{ensemble_member.lower()}/bio/CHELSA_{var.lower()}_{year_range}_{model_name.lower()}_{ensemble_member.lower()}_{version}.tif\""
   ]
  },
  {
   "cell_type": "code",
   "execution_count": 14,
   "id": "63e775b1-88f0-43f6-9e7b-8e669fd79625",
   "metadata": {},
   "outputs": [
    {
     "ename": "ValueError",
     "evalue": "Variable invalid:bio21 Variable must be one the following options ['bio10', 'bio11', 'bio12', 'bio13', 'bio14', 'bio15', 'bio16', 'bio17', 'bio18', 'bio19', 'bio1', 'bio2', 'bio3', 'bio4', 'bio5', 'bio6', 'bio7', 'bio8', 'bio9', 'fcf', 'fgd', 'gdd0', 'gdd10', 'gdd5', 'gddlgd0', 'gddlgd10', 'gddlgd5', 'gdgfgd0', 'gdgfgd10', 'gdgfgd5', 'gsl', 'gsp', 'gst', 'kg0', 'kg1', 'kg2', 'kg3', 'kg4', 'kg5', 'lgd', 'ngd0', 'ngd10', 'ngd5', 'npp', 'scd', 'swe']",
     "output_type": "error",
     "traceback": [
      "\u001b[1;31m---------------------------------------------------------------------------\u001b[0m",
      "\u001b[1;31mValueError\u001b[0m                                Traceback (most recent call last)",
      "Cell \u001b[1;32mIn[14], line 1\u001b[0m\n\u001b[1;32m----> 1\u001b[0m format_url_clim_sim(\u001b[38;5;124m\"\u001b[39m\u001b[38;5;124mbio21\u001b[39m\u001b[38;5;124m\"\u001b[39m, \u001b[38;5;124m\"\u001b[39m\u001b[38;5;124m2011-2040\u001b[39m\u001b[38;5;124m\"\u001b[39m, \u001b[38;5;124m\"\u001b[39m\u001b[38;5;124mGFDL-ESM4\u001b[39m\u001b[38;5;124m\"\u001b[39m, \u001b[38;5;124m\"\u001b[39m\u001b[38;5;124mssp126\u001b[39m\u001b[38;5;124m\"\u001b[39m)\n",
      "Cell \u001b[1;32mIn[13], line 12\u001b[0m, in \u001b[0;36mformat_url_clim_sim\u001b[1;34m(var, year_range, model_name, ensemble_member, base_url, version)\u001b[0m\n\u001b[0;32m      7\u001b[0m var_opt\u001b[38;5;241m=\u001b[39m[\u001b[38;5;124m'\u001b[39m\u001b[38;5;124mbio10\u001b[39m\u001b[38;5;124m'\u001b[39m,\u001b[38;5;124m'\u001b[39m\u001b[38;5;124mbio11\u001b[39m\u001b[38;5;124m'\u001b[39m,\u001b[38;5;124m'\u001b[39m\u001b[38;5;124mbio12\u001b[39m\u001b[38;5;124m'\u001b[39m,\u001b[38;5;124m'\u001b[39m\u001b[38;5;124mbio13\u001b[39m\u001b[38;5;124m'\u001b[39m,\u001b[38;5;124m'\u001b[39m\u001b[38;5;124mbio14\u001b[39m\u001b[38;5;124m'\u001b[39m,\u001b[38;5;124m'\u001b[39m\u001b[38;5;124mbio15\u001b[39m\u001b[38;5;124m'\u001b[39m,\u001b[38;5;124m'\u001b[39m\u001b[38;5;124mbio16\u001b[39m\u001b[38;5;124m'\u001b[39m,\u001b[38;5;124m'\u001b[39m\u001b[38;5;124mbio17\u001b[39m\u001b[38;5;124m'\u001b[39m,\u001b[38;5;124m'\u001b[39m\u001b[38;5;124mbio18\u001b[39m\u001b[38;5;124m'\u001b[39m,\u001b[38;5;124m'\u001b[39m\u001b[38;5;124mbio19\u001b[39m\u001b[38;5;124m'\u001b[39m,\u001b[38;5;124m'\u001b[39m\u001b[38;5;124mbio1\u001b[39m\u001b[38;5;124m'\u001b[39m,\u001b[38;5;124m'\u001b[39m\u001b[38;5;124mbio2\u001b[39m\u001b[38;5;124m'\u001b[39m,\u001b[38;5;124m'\u001b[39m\u001b[38;5;124mbio3\u001b[39m\u001b[38;5;124m'\u001b[39m,\n\u001b[0;32m      8\u001b[0m      \u001b[38;5;124m'\u001b[39m\u001b[38;5;124mbio4\u001b[39m\u001b[38;5;124m'\u001b[39m,\u001b[38;5;124m'\u001b[39m\u001b[38;5;124mbio5\u001b[39m\u001b[38;5;124m'\u001b[39m,\u001b[38;5;124m'\u001b[39m\u001b[38;5;124mbio6\u001b[39m\u001b[38;5;124m'\u001b[39m,\u001b[38;5;124m'\u001b[39m\u001b[38;5;124mbio7\u001b[39m\u001b[38;5;124m'\u001b[39m,\u001b[38;5;124m'\u001b[39m\u001b[38;5;124mbio8\u001b[39m\u001b[38;5;124m'\u001b[39m,\u001b[38;5;124m'\u001b[39m\u001b[38;5;124mbio9\u001b[39m\u001b[38;5;124m'\u001b[39m,\u001b[38;5;124m'\u001b[39m\u001b[38;5;124mfcf\u001b[39m\u001b[38;5;124m'\u001b[39m,\u001b[38;5;124m'\u001b[39m\u001b[38;5;124mfgd\u001b[39m\u001b[38;5;124m'\u001b[39m,\u001b[38;5;124m'\u001b[39m\u001b[38;5;124mgdd0\u001b[39m\u001b[38;5;124m'\u001b[39m,\u001b[38;5;124m'\u001b[39m\u001b[38;5;124mgdd10\u001b[39m\u001b[38;5;124m'\u001b[39m,\u001b[38;5;124m'\u001b[39m\u001b[38;5;124mgdd5\u001b[39m\u001b[38;5;124m'\u001b[39m,\u001b[38;5;124m'\u001b[39m\u001b[38;5;124mgddlgd0\u001b[39m\u001b[38;5;124m'\u001b[39m,\u001b[38;5;124m'\u001b[39m\u001b[38;5;124mgddlgd10\u001b[39m\u001b[38;5;124m'\u001b[39m,\n\u001b[0;32m      9\u001b[0m      \u001b[38;5;124m'\u001b[39m\u001b[38;5;124mgddlgd5\u001b[39m\u001b[38;5;124m'\u001b[39m,\u001b[38;5;124m'\u001b[39m\u001b[38;5;124mgdgfgd0\u001b[39m\u001b[38;5;124m'\u001b[39m,\u001b[38;5;124m'\u001b[39m\u001b[38;5;124mgdgfgd10\u001b[39m\u001b[38;5;124m'\u001b[39m,\u001b[38;5;124m'\u001b[39m\u001b[38;5;124mgdgfgd5\u001b[39m\u001b[38;5;124m'\u001b[39m,\u001b[38;5;124m'\u001b[39m\u001b[38;5;124mgsl\u001b[39m\u001b[38;5;124m'\u001b[39m,\u001b[38;5;124m'\u001b[39m\u001b[38;5;124mgsp\u001b[39m\u001b[38;5;124m'\u001b[39m,\u001b[38;5;124m'\u001b[39m\u001b[38;5;124mgst\u001b[39m\u001b[38;5;124m'\u001b[39m,\u001b[38;5;124m'\u001b[39m\u001b[38;5;124mkg0\u001b[39m\u001b[38;5;124m'\u001b[39m,\u001b[38;5;124m'\u001b[39m\u001b[38;5;124mkg1\u001b[39m\u001b[38;5;124m'\u001b[39m,\u001b[38;5;124m'\u001b[39m\u001b[38;5;124mkg2\u001b[39m\u001b[38;5;124m'\u001b[39m,\u001b[38;5;124m'\u001b[39m\u001b[38;5;124mkg3\u001b[39m\u001b[38;5;124m'\u001b[39m,\u001b[38;5;124m'\u001b[39m\u001b[38;5;124mkg4\u001b[39m\u001b[38;5;124m'\u001b[39m,\u001b[38;5;124m'\u001b[39m\u001b[38;5;124mkg5\u001b[39m\u001b[38;5;124m'\u001b[39m,\n\u001b[0;32m     10\u001b[0m      \u001b[38;5;124m'\u001b[39m\u001b[38;5;124mlgd\u001b[39m\u001b[38;5;124m'\u001b[39m,\u001b[38;5;124m'\u001b[39m\u001b[38;5;124mngd0\u001b[39m\u001b[38;5;124m'\u001b[39m,\u001b[38;5;124m'\u001b[39m\u001b[38;5;124mngd10\u001b[39m\u001b[38;5;124m'\u001b[39m,\u001b[38;5;124m'\u001b[39m\u001b[38;5;124mngd5\u001b[39m\u001b[38;5;124m'\u001b[39m,\u001b[38;5;124m'\u001b[39m\u001b[38;5;124mnpp\u001b[39m\u001b[38;5;124m'\u001b[39m,\u001b[38;5;124m'\u001b[39m\u001b[38;5;124mscd\u001b[39m\u001b[38;5;124m'\u001b[39m,\u001b[38;5;124m'\u001b[39m\u001b[38;5;124mswe\u001b[39m\u001b[38;5;124m'\u001b[39m]\n\u001b[0;32m     11\u001b[0m \u001b[38;5;28;01mif\u001b[39;00m var \u001b[38;5;129;01mnot\u001b[39;00m \u001b[38;5;129;01min\u001b[39;00m var_opt:\n\u001b[1;32m---> 12\u001b[0m     \u001b[38;5;28;01mraise\u001b[39;00m \u001b[38;5;167;01mValueError\u001b[39;00m(\u001b[38;5;124mf\u001b[39m\u001b[38;5;124m\"\u001b[39m\u001b[38;5;124mVariable invalid:\u001b[39m\u001b[38;5;132;01m{\u001b[39;00mvar\u001b[38;5;132;01m}\u001b[39;00m\u001b[38;5;124m Variable must be one the following options \u001b[39m\u001b[38;5;132;01m{\u001b[39;00mvar_opt\u001b[38;5;132;01m}\u001b[39;00m\u001b[38;5;124m\"\u001b[39m)\n\u001b[0;32m     13\u001b[0m model_names \u001b[38;5;241m=\u001b[39m [\u001b[38;5;124m\"\u001b[39m\u001b[38;5;124mGFDL-ESM4\u001b[39m\u001b[38;5;124m\"\u001b[39m, \u001b[38;5;124m\"\u001b[39m\u001b[38;5;124mIPSL-CM6A-LR\u001b[39m\u001b[38;5;124m\"\u001b[39m, \u001b[38;5;124m\"\u001b[39m\u001b[38;5;124mMPI-ESM1-2-HR\u001b[39m\u001b[38;5;124m\"\u001b[39m, \u001b[38;5;124m\"\u001b[39m\u001b[38;5;124mMRI-ESM2-0\u001b[39m\u001b[38;5;124m\"\u001b[39m, \u001b[38;5;124m\"\u001b[39m\u001b[38;5;124mUKESM1-0-LL\u001b[39m\u001b[38;5;124m\"\u001b[39m]\n\u001b[0;32m     14\u001b[0m \u001b[38;5;28;01mif\u001b[39;00m model_name \u001b[38;5;129;01mnot\u001b[39;00m \u001b[38;5;129;01min\u001b[39;00m model_names \u001b[38;5;129;01mor\u001b[39;00m model_name\u001b[38;5;241m.\u001b[39mupper() \u001b[38;5;129;01mnot\u001b[39;00m \u001b[38;5;129;01min\u001b[39;00m model_names:\n",
      "\u001b[1;31mValueError\u001b[0m: Variable invalid:bio21 Variable must be one the following options ['bio10', 'bio11', 'bio12', 'bio13', 'bio14', 'bio15', 'bio16', 'bio17', 'bio18', 'bio19', 'bio1', 'bio2', 'bio3', 'bio4', 'bio5', 'bio6', 'bio7', 'bio8', 'bio9', 'fcf', 'fgd', 'gdd0', 'gdd10', 'gdd5', 'gddlgd0', 'gddlgd10', 'gddlgd5', 'gdgfgd0', 'gdgfgd10', 'gdgfgd5', 'gsl', 'gsp', 'gst', 'kg0', 'kg1', 'kg2', 'kg3', 'kg4', 'kg5', 'lgd', 'ngd0', 'ngd10', 'ngd5', 'npp', 'scd', 'swe']"
     ]
    }
   ],
   "source": [
    "format_url_clim_sim(\"bio21\", \"2011-2040\", \"GFDL-ESM4\", \"ssp126\")"
   ]
  },
  {
   "cell_type": "code",
   "execution_count": 15,
   "id": "6b6a40c5-da7d-472e-83e1-6158e662c69b",
   "metadata": {},
   "outputs": [
    {
     "ename": "ValueError",
     "evalue": "Year range invalid: 2010-2040 Please use on of the following year ranges ['2011-2040', '2041-2070', '2071-2100']",
     "output_type": "error",
     "traceback": [
      "\u001b[1;31m---------------------------------------------------------------------------\u001b[0m",
      "\u001b[1;31mValueError\u001b[0m                                Traceback (most recent call last)",
      "Cell \u001b[1;32mIn[15], line 1\u001b[0m\n\u001b[1;32m----> 1\u001b[0m format_url_clim_sim(\u001b[38;5;124m\"\u001b[39m\u001b[38;5;124mbio2\u001b[39m\u001b[38;5;124m\"\u001b[39m, \u001b[38;5;124m\"\u001b[39m\u001b[38;5;124m2010-2040\u001b[39m\u001b[38;5;124m\"\u001b[39m, \u001b[38;5;124m\"\u001b[39m\u001b[38;5;124mGFDL-ESM4\u001b[39m\u001b[38;5;124m\"\u001b[39m, \u001b[38;5;124m\"\u001b[39m\u001b[38;5;124mssp126\u001b[39m\u001b[38;5;124m\"\u001b[39m)\n",
      "Cell \u001b[1;32mIn[13], line 21\u001b[0m, in \u001b[0;36mformat_url_clim_sim\u001b[1;34m(var, year_range, model_name, ensemble_member, base_url, version)\u001b[0m\n\u001b[0;32m     19\u001b[0m year_ranges \u001b[38;5;241m=\u001b[39m [\u001b[38;5;124m\"\u001b[39m\u001b[38;5;124m2011-2040\u001b[39m\u001b[38;5;124m\"\u001b[39m,\u001b[38;5;124m\"\u001b[39m\u001b[38;5;124m2041-2070\u001b[39m\u001b[38;5;124m\"\u001b[39m,\u001b[38;5;124m\"\u001b[39m\u001b[38;5;124m2071-2100\u001b[39m\u001b[38;5;124m\"\u001b[39m]\n\u001b[0;32m     20\u001b[0m \u001b[38;5;28;01mif\u001b[39;00m year_range \u001b[38;5;129;01mnot\u001b[39;00m \u001b[38;5;129;01min\u001b[39;00m year_ranges:\n\u001b[1;32m---> 21\u001b[0m     \u001b[38;5;28;01mraise\u001b[39;00m \u001b[38;5;167;01mValueError\u001b[39;00m(\u001b[38;5;124mf\u001b[39m\u001b[38;5;124m\"\u001b[39m\u001b[38;5;124mYear range invalid: \u001b[39m\u001b[38;5;132;01m{\u001b[39;00myear_range\u001b[38;5;132;01m}\u001b[39;00m\u001b[38;5;124m Please use on of the following year ranges \u001b[39m\u001b[38;5;132;01m{\u001b[39;00myear_ranges\u001b[38;5;132;01m}\u001b[39;00m\u001b[38;5;124m\"\u001b[39m)\n\u001b[0;32m     22\u001b[0m \u001b[38;5;28;01mreturn\u001b[39;00m \u001b[38;5;124m\"\u001b[39m\u001b[38;5;124mSuccesfull\u001b[39m\u001b[38;5;124m\"\u001b[39m\n",
      "\u001b[1;31mValueError\u001b[0m: Year range invalid: 2010-2040 Please use on of the following year ranges ['2011-2040', '2041-2070', '2071-2100']"
     ]
    }
   ],
   "source": [
    "format_url_clim_sim(\"bio2\", \"2010-2040\", \"GFDL-ESM4\", \"ssp126\")"
   ]
  },
  {
   "cell_type": "markdown",
   "id": "5259ca96-9bd3-4d5f-bd08-007812a1dbc6",
   "metadata": {},
   "source": [
    "##### format_url_clim_sim(\"bio2\", \"2011-2040\", \"GFDL-ESM40\", \"ssp126\")"
   ]
  },
  {
   "cell_type": "code",
   "execution_count": 17,
   "id": "61a6f8f9-7b2d-4208-82ad-db34ccf69e56",
   "metadata": {},
   "outputs": [
    {
     "ename": "ValueError",
     "evalue": "Ensemble member invalid: ssp1260 Please use one of the following ensemble members ['ssp126', 'ssp370', 'ssp585']",
     "output_type": "error",
     "traceback": [
      "\u001b[1;31m---------------------------------------------------------------------------\u001b[0m",
      "\u001b[1;31mValueError\u001b[0m                                Traceback (most recent call last)",
      "Cell \u001b[1;32mIn[17], line 1\u001b[0m\n\u001b[1;32m----> 1\u001b[0m format_url_clim_sim(\u001b[38;5;124m\"\u001b[39m\u001b[38;5;124mbio2\u001b[39m\u001b[38;5;124m\"\u001b[39m, \u001b[38;5;124m\"\u001b[39m\u001b[38;5;124m2011-2040\u001b[39m\u001b[38;5;124m\"\u001b[39m, \u001b[38;5;124m\"\u001b[39m\u001b[38;5;124mGFDL-ESM4\u001b[39m\u001b[38;5;124m\"\u001b[39m, \u001b[38;5;124m\"\u001b[39m\u001b[38;5;124mssp1260\u001b[39m\u001b[38;5;124m\"\u001b[39m)\n",
      "Cell \u001b[1;32mIn[13], line 18\u001b[0m, in \u001b[0;36mformat_url_clim_sim\u001b[1;34m(var, year_range, model_name, ensemble_member, base_url, version)\u001b[0m\n\u001b[0;32m     16\u001b[0m ensemble_members \u001b[38;5;241m=\u001b[39m [\u001b[38;5;124m\"\u001b[39m\u001b[38;5;124mssp126\u001b[39m\u001b[38;5;124m\"\u001b[39m,\u001b[38;5;124m\"\u001b[39m\u001b[38;5;124mssp370\u001b[39m\u001b[38;5;124m\"\u001b[39m,\u001b[38;5;124m\"\u001b[39m\u001b[38;5;124mssp585\u001b[39m\u001b[38;5;124m\"\u001b[39m]\n\u001b[0;32m     17\u001b[0m \u001b[38;5;28;01mif\u001b[39;00m ensemble_member \u001b[38;5;129;01mnot\u001b[39;00m \u001b[38;5;129;01min\u001b[39;00m ensemble_members:\n\u001b[1;32m---> 18\u001b[0m     \u001b[38;5;28;01mraise\u001b[39;00m \u001b[38;5;167;01mValueError\u001b[39;00m(\u001b[38;5;124mf\u001b[39m\u001b[38;5;124m\"\u001b[39m\u001b[38;5;124mEnsemble member invalid: \u001b[39m\u001b[38;5;132;01m{\u001b[39;00mensemble_member\u001b[38;5;132;01m}\u001b[39;00m\u001b[38;5;124m Please use one of the following ensemble members \u001b[39m\u001b[38;5;132;01m{\u001b[39;00mensemble_members\u001b[38;5;132;01m}\u001b[39;00m\u001b[38;5;124m\"\u001b[39m)\n\u001b[0;32m     19\u001b[0m year_ranges \u001b[38;5;241m=\u001b[39m [\u001b[38;5;124m\"\u001b[39m\u001b[38;5;124m2011-2040\u001b[39m\u001b[38;5;124m\"\u001b[39m,\u001b[38;5;124m\"\u001b[39m\u001b[38;5;124m2041-2070\u001b[39m\u001b[38;5;124m\"\u001b[39m,\u001b[38;5;124m\"\u001b[39m\u001b[38;5;124m2071-2100\u001b[39m\u001b[38;5;124m\"\u001b[39m]\n\u001b[0;32m     20\u001b[0m \u001b[38;5;28;01mif\u001b[39;00m year_range \u001b[38;5;129;01mnot\u001b[39;00m \u001b[38;5;129;01min\u001b[39;00m year_ranges:\n",
      "\u001b[1;31mValueError\u001b[0m: Ensemble member invalid: ssp1260 Please use one of the following ensemble members ['ssp126', 'ssp370', 'ssp585']"
     ]
    }
   ],
   "source": [
    "format_url_clim_sim(\"bio2\", \"2011-2040\", \"GFDL-ESM4\", \"ssp1260\")"
   ]
  },
  {
   "cell_type": "code",
   "execution_count": 42,
   "id": "15a4ae05-ea6d-4cef-89d5-631ddf199d73",
   "metadata": {},
   "outputs": [
    {
     "name": "stdout",
     "output_type": "stream",
     "text": [
      "https://os.zhdk.cloud.switch.ch/chelsav2/GLOBAL/climatologies/2011-2040/GFDL-ESM4/ssp126/bio/CHELSA_bio10_2011-2040_gfdl-esm4_ssp126_V.2.1.tif\n",
      "https://os.zhdk.cloud.switch.ch/chelsav2/GLOBAL/climatologies/2011-2040/GFDL-ESM4/ssp126/bio/CHELSA_bio10_2011-2040_gfdl-esm4_ssp126_V.2.1.tif\n",
      "True\n"
     ]
    }
   ],
   "source": [
    "test_url =\"https://os.zhdk.cloud.switch.ch/chelsav2/GLOBAL/climatologies/2011-2040/GFDL-ESM4/ssp126/bio/CHELSA_bio10_2011-2040_gfdl-esm4_ssp126_V.2.1.tif\"\n",
    "gen_url = format_url_clim_sim(\"bio10\", \"2011-2040\", \"gfdl-esm4\", \"ssp126\")\n",
    "print(gen_url)\n",
    "print(test_url)\n",
    "print(gen_url==test_url)"
   ]
  },
  {
   "cell_type": "code",
   "execution_count": 30,
   "id": "5283468f-4697-4547-94b6-7ff78d2a947c",
   "metadata": {},
   "outputs": [
    {
     "name": "stdout",
     "output_type": "stream",
     "text": [
      "['GFDL-ESM4', 'IPSL-CM6A-LR', 'MPI-ESM1-2-HR', 'MRI-ESM2-0', 'UKESM1-0-LL', 'gfdl-esm4', 'ipsl-cm6a-lr', 'mpi-esm1-2-hr', 'mri-esm2-0', 'ukesm1-0-ll']\n"
     ]
    }
   ],
   "source": [
    "model_name = \"gfdl-esm4\"\n",
    "model_names = [\"GFDL-ESM4\", \"IPSL-CM6A-LR\", \"MPI-ESM1-2-HR\", \"MRI-ESM2-0\", \"UKESM1-0-LL\"]\n",
    "model_names = model_names+[modelname.lower() for modelname in model_names]\n",
    "print(model_names)\n",
    "if model_name not in model_names:\n",
    "    raise ValueError(f\"Modelname invalid: {model_name} Please use on of the following model names {model_names}\")"
   ]
  },
  {
   "cell_type": "code",
   "execution_count": 26,
   "id": "44c35a00-ad6a-44c5-a609-0d8e15e72cc9",
   "metadata": {},
   "outputs": [
    {
     "data": {
      "text/plain": [
       "False"
      ]
     },
     "execution_count": 26,
     "metadata": {},
     "output_type": "execute_result"
    }
   ],
   "source": [
    "model_name.upper() == model_name.capitalize()"
   ]
  },
  {
   "cell_type": "code",
   "execution_count": 29,
   "id": "b6626675-3db4-4d70-aa48-49dbf18e3e18",
   "metadata": {},
   "outputs": [
    {
     "data": {
      "text/plain": [
       "True"
      ]
     },
     "execution_count": 29,
     "metadata": {},
     "output_type": "execute_result"
    }
   ],
   "source": [
    "model_name in model_names"
   ]
  },
  {
   "cell_type": "code",
   "execution_count": 31,
   "id": "ea1cae44-f981-45e4-a927-b4cd4b7606a8",
   "metadata": {},
   "outputs": [
    {
     "data": {
      "text/plain": [
       "['GFDL-ESM4',\n",
       " 'IPSL-CM6A-LR',\n",
       " 'MPI-ESM1-2-HR',\n",
       " 'MRI-ESM2-0',\n",
       " 'UKESM1-0-LL',\n",
       " 'gfdl-esm4',\n",
       " 'ipsl-cm6a-lr',\n",
       " 'mpi-esm1-2-hr',\n",
       " 'mri-esm2-0',\n",
       " 'ukesm1-0-ll']"
      ]
     },
     "execution_count": 31,
     "metadata": {},
     "output_type": "execute_result"
    }
   ],
   "source": [
    "model_names"
   ]
  },
  {
   "cell_type": "code",
   "execution_count": 48,
   "id": "ceaf4cdb-1fe0-481f-b06f-ca03329648ad",
   "metadata": {},
   "outputs": [],
   "source": [
    "def format_url_clim_sim_month(var, year_range, month, model_name, ensemble_member, \n",
    "                              base_url=\"https://os.zhdk.cloud.switch.ch/chelsav2/GLOBAL/climatologies\"):\n",
    "    \"\"\"\n",
    "    generate url that link to the files in the S3 bucket that contain the future climate projections for a specific month\n",
    "    \"\"\"\n",
    "    var_opt=[\"pr\", \"tas\", \"tasmax\", \"tasmin\"]\n",
    "    if var not in var_opt:\n",
    "        raise ValueError(f\"Variable invalid:{var} Variable must be one the following options {var_opt}\")\n",
    "    model_names = ['GFDL-ESM4','IPSL-CM6A-LR','MPI-ESM1-2-HR','MRI-ESM2-0','UKESM1-0-LL','gfdl-esm4','ipsl-cm6a-lr','mpi-esm1-2-hr','mri-esm2-0','ukesm1-0-ll']\n",
    "    if model_name not in model_names or model_name.upper() not in model_names:\n",
    "        raise ValueError(f\"Modelname invalid: {model_name} Please use on of the following model names {model_names}\")\n",
    "    ensemble_members = [\"ssp126\",\"ssp370\",\"ssp585\"]\n",
    "    if ensemble_member not in ensemble_members:\n",
    "        raise ValueError(f\"Ensemble member invalid: {ensemble_member} Please use one of the following ensemble members {ensemble_members}\")\n",
    "    year_ranges = [\"2011-2040\",\"2041-2070\",\"2071-2100\"]\n",
    "    if year_range not in year_ranges:\n",
    "        raise ValueError(f\"Year range invalid: {year_range} Please use on of the following year ranges {year_ranges}\")\n",
    "    return f\"{base_url}/{year_range}/{model_name.upper()}/{ensemble_member.lower()}/{var.lower()}/CHELSA_{model_name.lower()}_r1i1p1f1_w5e5_{ensemble_member.lower()}_{var.lower()}_{month:02d}_{year_range.replace(\"-\", \"_\")}_norm.tif\""
   ]
  },
  {
   "cell_type": "code",
   "execution_count": 49,
   "id": "7bb9e5c0-17b5-4daf-96a0-71b937a2f4a1",
   "metadata": {},
   "outputs": [
    {
     "name": "stdout",
     "output_type": "stream",
     "text": [
      "True\n"
     ]
    }
   ],
   "source": [
    "test_url=\"https://os.zhdk.cloud.switch.ch/chelsav2/GLOBAL/climatologies/2011-2040/GFDL-ESM4/ssp370/pr/CHELSA_gfdl-esm4_r1i1p1f1_w5e5_ssp370_pr_01_2011_2040_norm.tif\"\n",
    "gen_url = format_url_clim_sim_month(\"pr\", \"2011-2040\", 1, \"gfdl-esm4\", \"ssp370\")\n",
    "print(gen_url==test_url)"
   ]
  },
  {
   "cell_type": "code",
   "execution_count": 47,
   "id": "4dfb6a23-3053-4368-b59e-3a5ac29c9926",
   "metadata": {},
   "outputs": [
    {
     "name": "stdout",
     "output_type": "stream",
     "text": [
      "https://os.zhdk.cloud.switch.ch/chelsav2/GLOBAL/climatologies/2011-2040/GFDL-ESM4/ssp370/pr/CHELSA_gfdl-esm4_r1i1p1f1_w5e5_ssp370_pr_01_2011-2040_norm.tif\n",
      "https://os.zhdk.cloud.switch.ch/chelsav2/GLOBAL/climatologies/2011-2040/GFDL-ESM4/ssp370/pr/CHELSA_gfdl-esm4_r1i1p1f1_w5e5_ssp370_pr_01_2011_2040_norm.tif\n"
     ]
    }
   ],
   "source": [
    "print(gen_url)\n",
    "print(test_url)"
   ]
  },
  {
   "cell_type": "code",
   "execution_count": 53,
   "id": "5f3d5d6f-9b21-48dc-8012-99e130eeba29",
   "metadata": {},
   "outputs": [],
   "source": [
    "def format_url_clim_ref_monthly(var, month,\n",
    "                                ref_period = \"1981-2010\",\n",
    "                                base_url=\"https://os.zhdk.cloud.switch.ch/chelsav2/GLOBAL/climatologies/1981-2010\",\n",
    "                                version=\"V.2.1\"):\n",
    "    \"\"\"\n",
    "    Generate URL's that link to the reference data tif files on a monthly basis for the reference period 1980-2010 \n",
    "    \"\"\"\n",
    "    var_opt=[\"clt\",\"cmi\",\"hurs\",\"ncdf\",\"pet\",\"pr\",\"rsds\",\"sfcWind\",\"tas\",\"tasmax\",\"tasmin\", \"vpd\"]\n",
    "    if var not in var_opt:\n",
    "        raise ValueError(f\"Invalid variable name: {var}. Variable must be one of the following options {var_opt}\")\n",
    "    if month not in range(1,13):\n",
    "        raise ValueError(f\"Month invalid: {month}. Please use a number between 1 and 12\")\n",
    "    return f\"{base_url}/{var}/CHELSA_{var}_{month:02d}_{ref_period}_{version}.tif\""
   ]
  },
  {
   "cell_type": "code",
   "execution_count": 54,
   "id": "8da85b59-71ee-46d7-85fd-c7a7fa1ba57e",
   "metadata": {},
   "outputs": [
    {
     "name": "stdout",
     "output_type": "stream",
     "text": [
      "https://os.zhdk.cloud.switch.ch/chelsav2/GLOBAL/climatologies/1981-2010/clt/CHELSA_clt_01_1981-2010_V.2.1.tif\n",
      "https://os.zhdk.cloud.switch.ch/chelsav2/GLOBAL/climatologies/1981-2010/clt/CHELSA_clt_01_1981-2010_V.2.1.tif\n"
     ]
    }
   ],
   "source": [
    "test_url = \"https://os.zhdk.cloud.switch.ch/chelsav2/GLOBAL/climatologies/1981-2010/clt/CHELSA_clt_01_1981-2010_V.2.1.tif\"\n",
    "gen_url = format_url_clim_ref_monthly(\"clt\", 1)\n",
    "print(test_url)\n",
    "print(gen_url)"
   ]
  },
  {
   "cell_type": "code",
   "execution_count": 55,
   "id": "a82b773c-8b36-490a-9d5d-50980e51cec3",
   "metadata": {},
   "outputs": [
    {
     "data": {
      "text/plain": [
       "True"
      ]
     },
     "execution_count": 55,
     "metadata": {},
     "output_type": "execute_result"
    }
   ],
   "source": [
    "test_url == gen_url"
   ]
  },
  {
   "cell_type": "code",
   "execution_count": null,
   "id": "37ff3f97-7e4c-40e8-898c-3802cd2aaec0",
   "metadata": {},
   "outputs": [],
   "source": []
  }
 ],
 "metadata": {
  "kernelspec": {
   "display_name": "Python 3 (ipykernel)",
   "language": "python",
   "name": "python3"
  },
  "language_info": {
   "codemirror_mode": {
    "name": "ipython",
    "version": 3
   },
   "file_extension": ".py",
   "mimetype": "text/x-python",
   "name": "python",
   "nbconvert_exporter": "python",
   "pygments_lexer": "ipython3",
   "version": "3.12.7"
  }
 },
 "nbformat": 4,
 "nbformat_minor": 5
}
