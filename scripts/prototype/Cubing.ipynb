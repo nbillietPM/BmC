{
 "cells": [
  {
   "cell_type": "code",
   "execution_count": 1,
   "id": "53bfef1b-3685-42b2-a344-a00ec3b6f88a",
   "metadata": {},
   "outputs": [],
   "source": [
    "import sys\n",
    "import os\n",
    "\n",
    "# Get the path to src/ relative to this notebook\n",
    "notebook_dir = os.getcwd()\n",
    "src_path = os.path.abspath(os.path.join(notebook_dir, \"../../src\"))\n",
    "\n",
    "# Add to Python path if not already there\n",
    "if src_path not in sys.path:\n",
    "    sys.path.insert(0, src_path)\n",
    "\n",
    "from utils.chelsa import extract_param\n",
    "from datasource.chelsa import s3, layer, sampling"
   ]
  },
  {
   "cell_type": "markdown",
   "id": "9196b727-6647-4fc2-b68f-433c144e1fa1",
   "metadata": {},
   "source": [
    "# Generate CHELSA cube"
   ]
  },
  {
   "cell_type": "code",
   "execution_count": null,
   "id": "586e77f0-2b62-411e-9628-38a3980355f3",
   "metadata": {},
   "outputs": [],
   "source": [
    "param_file = \"prototype_param.yaml\"\n",
    "chelsa_month_param = extract_param.read_chelsa_month_param(param_file, param_path = \"../../config\")\n",
    "chelsa_ref_period_param = extract_param.read_chelsa_clim_ref_period_param(param_file, param_path = \"../../config\")\n",
    "chelsa_ref_month_param = extract_param.read_chelsa_clim_ref_month_param(param_file, param_path = \"../../config\")\n",
    "chelsa_clim_period_param = extract_param.read_chelsa_clim_sim_period_param(param_file, param_path = \"../../config\")\n",
    "chelsa_clim_month_param = extract_param.read_chelsa_clim_sim_month_param(param_file, param_path = \"../../config\")"
   ]
  },
  {
   "cell_type": "code",
   "execution_count": null,
   "id": "6a4d9352-aebf-481a-84ca-d09e85591ade",
   "metadata": {},
   "outputs": [],
   "source": [
    "def da_layer_constructor(data_layer_func, param):\n",
    "    static_param = list(param.values())[1:]\n",
    "    data_arrays = []\n",
    "    for var in param[\"var\"]:\n",
    "        data_arrays.append(data_layer_func(var, *static_param))\n",
    "    return data_arrays"
   ]
  },
  {
   "cell_type": "code",
   "execution_count": null,
   "id": "0c19957c-3d0c-4aa8-8c41-1e3a538bb5a8",
   "metadata": {},
   "outputs": [],
   "source": []
  },
  {
   "cell_type": "code",
   "execution_count": null,
   "id": "d1db4e5f-c9ee-4baa-bb6c-5d0c14028c03",
   "metadata": {},
   "outputs": [],
   "source": [
    "test = da_layer_constructor(layer.chelsa_month_ts, chelsa_month_param)"
   ]
  },
  {
   "cell_type": "code",
   "execution_count": null,
   "id": "a14e1a6f-0dd6-4545-b3fe-154830ffc956",
   "metadata": {
    "scrolled": true
   },
   "outputs": [],
   "source": [
    "test"
   ]
  },
  {
   "cell_type": "code",
   "execution_count": null,
   "id": "e4dcde47-3c6b-4298-9b2e-6a00088b71c7",
   "metadata": {},
   "outputs": [],
   "source": [
    "import xarray\n",
    "\n",
    "def regrid_interp(\n",
    "    da: xr.DataArray,\n",
    "    new_lats: xr.DataArray,\n",
    "    new_lons: xr.DataArray,\n",
    "    method: str = \"linear\"\n",
    ") -> xr.DataArray:\n",
    "    \"\"\"\n",
    "    Upscale or downscale by interpolating `da` onto (new_lats, new_lons).\n",
    "    `method` can be \"linear\", \"nearest\", or \"cubic\".\n",
    "    \"\"\"\n",
    "    # Ensure monotonic coords\n",
    "    da = da.sortby([\"lat\", \"lon\"])\n",
    "    return da.interp(lat=new_lats, lon=new_lons, method=method)\n",
    "\n",
    "def reproject_array(data_array, upscaled_long, upscaled_lat, method=\"cubic\"):\n",
    "    "
   ]
  },
  {
   "cell_type": "code",
   "execution_count": null,
   "id": "e58a11ee-4d9e-4b33-9d9a-99bd85cd965c",
   "metadata": {},
   "outputs": [],
   "source": [
    "import numpy as np\n",
    "\n",
    "def compare_coord_ticks(coord_ticks):\n",
    "    ref = coord_ticks[0]\n",
    "    differences = []  \n",
    "    for i, arr in enumerate(coord_ticks):\n",
    "        if len(arr) != len(ref):\n",
    "            differences.append((i, \"different length\"))\n",
    "        elif not np.array_equal(arr, ref):\n",
    "            differences.append((i, \"same length, different values\")) \n",
    "    return differences"
   ]
  },
  {
   "cell_type": "code",
   "execution_count": null,
   "id": "0be9bbcc-50a2-4706-a420-6731758c5b17",
   "metadata": {},
   "outputs": [],
   "source": [
    "long_coordinates = [da[1].long.values for da in test]\n",
    "lat_coordinates = [da[1].lat.values for da in test]\n",
    "\n",
    "def group_by_size(coordinates):\n",
    "    #Retrieve size of coordinates\n",
    "    coordinates_sizes = [len(coordinate_array) for coordinate_array in coordinates]\n",
    "    #Group coordinates that are similar in size together\n",
    "    co_idx = [[idx for idx, el in enumerate(coordinates_sizes) if el==size] for size in list(set(coordinates_sizes))]\n",
    "    return co_idx\n",
    "\n",
    "def check_homogeneity(coordinates):\n",
    "    if len(coordinates)==1:\n",
    "        return True\n",
    "    else:\n",
    "        \n",
    "group_by_size(lat_coordinates)"
   ]
  },
  {
   "cell_type": "code",
   "execution_count": null,
   "id": "21d36119-1150-44dd-a0e7-f93c55d0aac4",
   "metadata": {},
   "outputs": [],
   "source": [
    "def harmonize_data_arrays(data_arrays, \n",
    "                          harmonization=\"upscale\", method=\"linear\", fill_na=True):\n",
    "    if harmonization==\"upscale\":\n",
    "        long_coordinates = [da.long.values for da in data_arrays]\n",
    "        latitude_coordinates = [da.lat.values for da in data_arrays]\n",
    "        target_long = \n",
    "        target_lat"
   ]
  },
  {
   "cell_type": "code",
   "execution_count": null,
   "id": "5cc6559d-a511-4513-bc4f-7d6ca40f0d47",
   "metadata": {},
   "outputs": [],
   "source": [
    "class spatiotemporal_cube():\n",
    "    def __init__(self):\n",
    "        pass\n",
    "\n",
    "    def da_layer_constructor(self, data_layer_func, param):\n",
    "        static_param = list(param.values())[1:]\n",
    "        data_arrays = []\n",
    "        for var in param[\"var\"]:\n",
    "            data_arrays.append(data_layer_func(var, *static_param))\n",
    "        return data_arrays\n",
    "\n",
    "    def da_concat(self, data_arrays, dim_name, coordinates):\n",
    "        combined_data_array = xr.concat(data_arrays, dim=dim_name)\n",
    "        combined_data_array = combined_data_array.assign_coords({dim_name: coordinates})\n",
    "        return combined_data_array\n",
    "        \n",
    "    def regrid_spatial_coordinates(self, data_array, target_lat, target_long,\n",
    "                                   harmonization=\"upscale\", method=\"linear\", fill_nearest=True):\n",
    "        if harmonization==\"upscale\":\n",
    "            upscaled_data_array = data_array.interp(lat=target_lat, long=target_long, method=method)\n",
    "            if fill_nearest:\n",
    "                upscaled_filled_data_array = upscaled_data_array.ffill(dim=\"lat\").bfill(dim=\"lat\").ffill(dim=\"long\").bfill(dim=\"long\")\n",
    "                return upscaled_filled_data_array\n",
    "            else:\n",
    "                return upscaled_data_array"
   ]
  },
  {
   "cell_type": "code",
   "execution_count": null,
   "id": "fb935174-7ac9-458a-b2c3-8089b42fdfa7",
   "metadata": {},
   "outputs": [],
   "source": [
    "chelsa_ref_period_param = extract_param.read_chelsa_clim_ref_period_param(param_file, param_path = \"../../config\")\n",
    "chelsa_ref_month_param = extract_param.read_chelsa_clim_ref_month_param(param_file, param_path = \"../../config\")\n",
    "chelsa_clim_period_param = extract_param.read_chelsa_clim_sim_period_param(param_file, param_path = \"../../config\")\n",
    "chelsa_clim_month_param = extract_param.read_chelsa_clim_sim_month_param(param_file, param_path = \"../../config\")"
   ]
  },
  {
   "cell_type": "code",
   "execution_count": 116,
   "id": "0ad83736-4e53-4eb5-87be-c84889556cf2",
   "metadata": {},
   "outputs": [],
   "source": [
    "import xarray as xr\n",
    "import yaml\n",
    "\n",
    "class spatiotemporal_cube():\n",
    "    def __init__(self):\n",
    "        pass\n",
    "\n",
    "    def da_layer_constructor(self, data_layer_func, param):\n",
    "        static_param = list(param.values())[1:]\n",
    "        data_arrays = []\n",
    "        for var in param[\"var\"]:\n",
    "            data_arrays.append(data_layer_func(var, *static_param))\n",
    "        return data_arrays\n",
    "\n",
    "    def da_concat(self, data_arrays, dim_name, coordinates):\n",
    "        combined_data_array = xr.concat(data_arrays, dim=dim_name)\n",
    "        combined_data_array = combined_data_array.assign_coords({dim_name: coordinates})\n",
    "        return combined_data_array\n",
    "        \n",
    "    def regrid_spatial_coordinates(self, data_array, target_lat, target_long,\n",
    "                                   harmonization=\"upscale\", method=\"linear\", fill_nearest=True):\n",
    "        if harmonization==\"upscale\":\n",
    "            upscaled_data_array = data_array.interp(lat=target_lat, long=target_long, method=method)\n",
    "            if fill_nearest:\n",
    "                upscaled_filled_data_array = upscaled_data_array.ffill(dim=\"lat\").bfill(dim=\"lat\").ffill(dim=\"long\").bfill(dim=\"long\")\n",
    "                return upscaled_filled_data_array\n",
    "            else:\n",
    "                return upscaled_data_array\n",
    "                \n",
    "class chelsa_cube(spatiotemporal_cube):\n",
    "    def __init__(self):\n",
    "        self.layers = [\"chelsa_month\", \n",
    "                       \"chelsa_clim_ref_period\",\n",
    "                       \"chelsa_clim_ref_month\",\n",
    "                       \"chelsa_clim_sim_period\",\n",
    "                       \"chelsa_clim_sim_month\"]\n",
    "        self.data = []\n",
    "\n",
    "    #generate monthly data for a set of variables\n",
    "    def generate_chelsa_month_layer(self, param_file, param_path = \"../../config\"):\n",
    "        chelsa_month_param = extract_param.read_chelsa_month_param(param_file, param_path = param_path)\n",
    "        var_names, data = zip(*self.da_layer_constructor(layer.chelsa_month_ts, chelsa_month_param)) #returns list of tuples (var_name, data)\n",
    "        #Current assumption is that all variables will be requested\n",
    "        #In future general harmonization functions will be implemented \n",
    "        #Select the coordinates from the second variable, clt is the only one that differs\n",
    "        target_lat = data[1].lat.values\n",
    "        target_long = data[1].long.values\n",
    "        upscaled_clt = self.regrid_spatial_coordinates(data[0], target_lat, target_long)\n",
    "        data = [upscaled_clt]+list(data[1:])\n",
    "        return self.da_concat(data, \"variable\", list(var_names))\n",
    "\n",
    "    def generate_chelsa_ref_period_layer(self, param_file, param_path=\"../../config\"):\n",
    "        chelsa_ref_period_param = extract_param.read_chelsa_clim_ref_period_param(param_file, param_path = param_path)\n",
    "        var_names, data = zip(*self.da_layer_constructor(layer.chelsa_clim_ref_period, chelsa_ref_period_param))\n",
    "        upscale_idx = [var_names.index(el) for el in ['clt_max', 'clt_mean', 'clt_min', 'clt_range'] if el in var_names]\n",
    "        data = list(data)\n",
    "        if upscale_idx:\n",
    "            #Select the idx of data array that does not need to be upscaled\n",
    "            #The difference between sets generates the set containing idx that are not in upscale idx\n",
    "            target_idx = list(set(list(range(len(var_names))))-set(upscale_idx))[0]\n",
    "            target_lat = data[target_idx].lat.values\n",
    "            target_long = data[target_idx].long.values\n",
    "            upscaled_da = [self.regrid_spatial_coordinates(data[idx], target_lat, target_long) for idx in upscale_idx]\n",
    "            for idx, da in zip(upscale_idx, upscaled_da):\n",
    "                data[idx] = da\n",
    "        #return var_names, data\n",
    "        return self.da_concat(data, \"variable\", list(var_names))\n",
    "\n",
    "    def generate_chelsa_ref_month_layer(self, param_file, param_path=\"../../config\"):\n",
    "        chelsa_ref_month_param = extract_param.read_chelsa_clim_ref_month_param(param_file, param_path = param_path)\n",
    "        var_names, data = zip(*self.da_layer_constructor(layer.chelsa_clim_ref_month, chelsa_ref_month_param))\n",
    "        #Current assumption is that all variables will be requested\n",
    "        #In future general harmonization functions will be implemented \n",
    "        #Select the coordinates from the second variable, clt is the only one that differs\n",
    "        target_lat = data[1].lat.values\n",
    "        target_long = data[1].long.values\n",
    "        upscaled_clt = self.regrid_spatial_coordinates(data[0], target_lat, target_long)\n",
    "        data = [upscaled_clt]+list(data[1:])\n",
    "        return self.da_concat(data, \"variable\", list(var_names))\n",
    "\n",
    "    def generate_chelsa_sim_period_layer(self, param_file, param_path=\"../../config\"):\n",
    "        chelsa_sim_period_param = extract_param.read_chelsa_clim_sim_period_param(param_file, param_path = param_path)\n",
    "        var_names, data = zip(*self.da_layer_constructor(layer.chelsa_clim_sim_period, chelsa_sim_period_param))\n",
    "        return self.da_concat(data, \"variable\", list(var_names))\n",
    "\n",
    "    def generate_chelsa_sim_month_layer(self, param_file, param_path=\"../../config\"):\n",
    "        chelsa_sim_month_param = extract_param.read_chelsa_clim_sim_month_param(param_file, param_path = param_path)\n",
    "        var_names, data = zip(*self.da_layer_constructor(layer.chelsa_clim_sim_month, chelsa_sim_month_param))\n",
    "        return self.da_concat(data, \"variable\", list(var_names))\n",
    "\n",
    "    def generate_chelsa_cube(self, param_file, param_path=\"../../config\"):\n",
    "        param_filepath = os.path.join(param_path, param_file)\n",
    "        with open(param_filepath) as f:\n",
    "            param_dict = yaml.safe_load(f)\n",
    "        enabled_layers = [param_dict[\"layers\"][layer] for layer in self.layers]\n",
    "        functions = [self.generate_chelsa_month_layer, \n",
    "                     self.generate_chelsa_ref_period_layer,\n",
    "                     self.generate_chelsa_ref_month_layer,\n",
    "                     self.generate_chelsa_sim_period_layer,\n",
    "                     self.generate_chelsa_sim_month_layer]\n",
    "        enabled_layers_names = [name for name, call in zip(self.layers, enabled_layers) if call]\n",
    "        data = [func(param_file, param_path) for func, call in zip(functions, enabled_layers) if call]\n",
    "        return dict(zip(enabled_layers_names, data))"
   ]
  },
  {
   "cell_type": "code",
   "execution_count": 108,
   "id": "4e5e1fd2-1666-4931-8866-cd4a8bad3851",
   "metadata": {},
   "outputs": [],
   "source": [
    "test_chelsa_cube = chelsa_cube()"
   ]
  },
  {
   "cell_type": "code",
   "execution_count": 109,
   "id": "a5feebda-376a-44a7-89b4-68fc500562c9",
   "metadata": {},
   "outputs": [
    {
     "name": "stdout",
     "output_type": "stream",
     "text": [
      "-----Retrieving monthly CHELSA data for variable 'clt'-----\n"
     ]
    },
    {
     "name": "stderr",
     "output_type": "stream",
     "text": [
      "Processing: 100%|████████████████████████████████████████████████████████████████████████████████████████████████████████████████| 12/12 [00:01<00:00,  6.16item/s]\n"
     ]
    },
    {
     "name": "stdout",
     "output_type": "stream",
     "text": [
      "-----Retrieving monthly CHELSA data for variable 'cmi'-----\n"
     ]
    },
    {
     "name": "stderr",
     "output_type": "stream",
     "text": [
      "Processing: 100%|████████████████████████████████████████████████████████████████████████████████████████████████████████████████| 12/12 [00:01<00:00,  6.13item/s]\n"
     ]
    },
    {
     "name": "stdout",
     "output_type": "stream",
     "text": [
      "-----Retrieving monthly CHELSA data for variable 'hurs'-----\n"
     ]
    },
    {
     "name": "stderr",
     "output_type": "stream",
     "text": [
      "Processing: 100%|████████████████████████████████████████████████████████████████████████████████████████████████████████████████| 12/12 [00:02<00:00,  4.89item/s]\n"
     ]
    },
    {
     "name": "stdout",
     "output_type": "stream",
     "text": [
      "-----Retrieving monthly CHELSA data for variable 'pet'-----\n"
     ]
    },
    {
     "name": "stderr",
     "output_type": "stream",
     "text": [
      "Processing: 100%|████████████████████████████████████████████████████████████████████████████████████████████████████████████████| 12/12 [00:01<00:00,  6.05item/s]\n"
     ]
    },
    {
     "name": "stdout",
     "output_type": "stream",
     "text": [
      "-----Retrieving monthly CHELSA data for variable 'pr'-----\n"
     ]
    },
    {
     "name": "stderr",
     "output_type": "stream",
     "text": [
      "Processing: 100%|████████████████████████████████████████████████████████████████████████████████████████████████████████████████| 12/12 [00:02<00:00,  5.10item/s]\n"
     ]
    },
    {
     "name": "stdout",
     "output_type": "stream",
     "text": [
      "-----Retrieving monthly CHELSA data for variable 'rsds'-----\n"
     ]
    },
    {
     "name": "stderr",
     "output_type": "stream",
     "text": [
      "Processing: 100%|████████████████████████████████████████████████████████████████████████████████████████████████████████████████| 12/12 [00:01<00:00,  6.18item/s]\n"
     ]
    },
    {
     "name": "stdout",
     "output_type": "stream",
     "text": [
      "-----Retrieving monthly CHELSA data for variable 'sfcWind'-----\n"
     ]
    },
    {
     "name": "stderr",
     "output_type": "stream",
     "text": [
      "Processing: 100%|████████████████████████████████████████████████████████████████████████████████████████████████████████████████| 12/12 [00:02<00:00,  5.39item/s]\n"
     ]
    },
    {
     "name": "stdout",
     "output_type": "stream",
     "text": [
      "-----Retrieving monthly CHELSA data for variable 'tas'-----\n"
     ]
    },
    {
     "name": "stderr",
     "output_type": "stream",
     "text": [
      "Processing: 100%|████████████████████████████████████████████████████████████████████████████████████████████████████████████████| 12/12 [00:01<00:00,  6.93item/s]\n"
     ]
    },
    {
     "name": "stdout",
     "output_type": "stream",
     "text": [
      "-----Retrieving monthly CHELSA data for variable 'tasmax'-----\n"
     ]
    },
    {
     "name": "stderr",
     "output_type": "stream",
     "text": [
      "Processing: 100%|████████████████████████████████████████████████████████████████████████████████████████████████████████████████| 12/12 [00:01<00:00,  6.11item/s]\n"
     ]
    },
    {
     "name": "stdout",
     "output_type": "stream",
     "text": [
      "-----Retrieving monthly CHELSA data for variable 'tasmin'-----\n"
     ]
    },
    {
     "name": "stderr",
     "output_type": "stream",
     "text": [
      "Processing: 100%|████████████████████████████████████████████████████████████████████████████████████████████████████████████████| 12/12 [00:01<00:00,  6.78item/s]\n"
     ]
    },
    {
     "name": "stdout",
     "output_type": "stream",
     "text": [
      "-----Retrieving monthly CHELSA data for variable 'vpd'-----\n"
     ]
    },
    {
     "name": "stderr",
     "output_type": "stream",
     "text": [
      "Processing: 100%|████████████████████████████████████████████████████████████████████████████████████████████████████████████████| 12/12 [00:02<00:00,  5.53item/s]\n"
     ]
    },
    {
     "name": "stdout",
     "output_type": "stream",
     "text": [
      "-----Retrieving Reference Climatology CHELSA data for variable 'ai' in reference period 1981-2010-----\n",
      "Complete\n",
      "-----Retrieving Reference Climatology CHELSA data for variable 'bio10' in reference period 1981-2010-----\n",
      "Complete\n",
      "-----Retrieving Reference Climatology CHELSA data for variable 'bio11' in reference period 1981-2010-----\n",
      "Complete\n",
      "-----Retrieving Reference Climatology CHELSA data for variable 'bio12' in reference period 1981-2010-----\n",
      "Complete\n",
      "-----Retrieving Reference Climatology CHELSA data for variable 'bio13' in reference period 1981-2010-----\n",
      "Complete\n",
      "-----Retrieving Reference Climatology CHELSA data for variable 'bio14' in reference period 1981-2010-----\n",
      "Complete\n",
      "-----Retrieving Reference Climatology CHELSA data for variable 'bio15' in reference period 1981-2010-----\n",
      "Complete\n",
      "-----Retrieving Reference Climatology CHELSA data for variable 'bio16' in reference period 1981-2010-----\n",
      "Complete\n",
      "-----Retrieving Reference Climatology CHELSA data for variable 'bio17' in reference period 1981-2010-----\n",
      "Complete\n",
      "-----Retrieving Reference Climatology CHELSA data for variable 'bio18' in reference period 1981-2010-----\n",
      "Complete\n",
      "-----Retrieving Reference Climatology CHELSA data for variable 'bio19' in reference period 1981-2010-----\n",
      "Complete\n",
      "-----Retrieving Reference Climatology CHELSA data for variable 'bio1' in reference period 1981-2010-----\n",
      "Complete\n",
      "-----Retrieving Reference Climatology CHELSA data for variable 'bio2' in reference period 1981-2010-----\n",
      "Complete\n",
      "-----Retrieving Reference Climatology CHELSA data for variable 'bio3' in reference period 1981-2010-----\n",
      "Complete\n",
      "-----Retrieving Reference Climatology CHELSA data for variable 'bio4' in reference period 1981-2010-----\n",
      "Complete\n",
      "-----Retrieving Reference Climatology CHELSA data for variable 'bio5' in reference period 1981-2010-----\n",
      "Complete\n",
      "-----Retrieving Reference Climatology CHELSA data for variable 'bio6' in reference period 1981-2010-----\n",
      "Complete\n",
      "-----Retrieving Reference Climatology CHELSA data for variable 'bio7' in reference period 1981-2010-----\n",
      "Complete\n",
      "-----Retrieving Reference Climatology CHELSA data for variable 'bio8' in reference period 1981-2010-----\n",
      "Complete\n",
      "-----Retrieving Reference Climatology CHELSA data for variable 'bio9' in reference period 1981-2010-----\n",
      "Complete\n",
      "-----Retrieving Reference Climatology CHELSA data for variable 'clt_max' in reference period 1981-2010-----\n",
      "Complete\n",
      "-----Retrieving Reference Climatology CHELSA data for variable 'clt_mean' in reference period 1981-2010-----\n",
      "Complete\n",
      "-----Retrieving Reference Climatology CHELSA data for variable 'clt_min' in reference period 1981-2010-----\n",
      "Complete\n",
      "-----Retrieving Reference Climatology CHELSA data for variable 'clt_range' in reference period 1981-2010-----\n",
      "Complete\n",
      "-----Retrieving Reference Climatology CHELSA data for variable 'cmi_max' in reference period 1981-2010-----\n",
      "Complete\n",
      "-----Retrieving Reference Climatology CHELSA data for variable 'cmi_mean' in reference period 1981-2010-----\n",
      "Complete\n",
      "-----Retrieving Reference Climatology CHELSA data for variable 'cmi_min' in reference period 1981-2010-----\n",
      "Complete\n",
      "-----Retrieving Reference Climatology CHELSA data for variable 'cmi_range' in reference period 1981-2010-----\n",
      "Complete\n",
      "-----Retrieving Reference Climatology CHELSA data for variable 'fcf' in reference period 1981-2010-----\n",
      "Complete\n",
      "-----Retrieving Reference Climatology CHELSA data for variable 'fgd' in reference period 1981-2010-----\n",
      "Complete\n",
      "-----Retrieving Reference Climatology CHELSA data for variable 'gdd0' in reference period 1981-2010-----\n",
      "Complete\n",
      "-----Retrieving Reference Climatology CHELSA data for variable 'gdd10' in reference period 1981-2010-----\n",
      "Complete\n",
      "-----Retrieving Reference Climatology CHELSA data for variable 'gdd5' in reference period 1981-2010-----\n",
      "Complete\n",
      "-----Retrieving Reference Climatology CHELSA data for variable 'gddlgd0' in reference period 1981-2010-----\n",
      "Complete\n",
      "-----Retrieving Reference Climatology CHELSA data for variable 'gddlgd10' in reference period 1981-2010-----\n",
      "Complete\n",
      "-----Retrieving Reference Climatology CHELSA data for variable 'gddlgd5' in reference period 1981-2010-----\n",
      "Complete\n",
      "-----Retrieving Reference Climatology CHELSA data for variable 'gdgfgd0' in reference period 1981-2010-----\n",
      "Complete\n",
      "-----Retrieving Reference Climatology CHELSA data for variable 'gdgfgd10' in reference period 1981-2010-----\n",
      "Complete\n",
      "-----Retrieving Reference Climatology CHELSA data for variable 'gdgfgd5' in reference period 1981-2010-----\n",
      "Complete\n",
      "-----Retrieving Reference Climatology CHELSA data for variable 'gsl' in reference period 1981-2010-----\n",
      "Complete\n",
      "-----Retrieving Reference Climatology CHELSA data for variable 'gsp' in reference period 1981-2010-----\n",
      "Complete\n",
      "-----Retrieving Reference Climatology CHELSA data for variable 'gst' in reference period 1981-2010-----\n",
      "Complete\n",
      "-----Retrieving Reference Climatology CHELSA data for variable 'hurs_max' in reference period 1981-2010-----\n",
      "Complete\n",
      "-----Retrieving Reference Climatology CHELSA data for variable 'hurs_mean' in reference period 1981-2010-----\n",
      "Complete\n",
      "-----Retrieving Reference Climatology CHELSA data for variable 'hurs_min' in reference period 1981-2010-----\n",
      "Complete\n",
      "-----Retrieving Reference Climatology CHELSA data for variable 'hurs_range' in reference period 1981-2010-----\n",
      "Complete\n",
      "-----Retrieving Reference Climatology CHELSA data for variable 'kg0' in reference period 1981-2010-----\n",
      "Complete\n",
      "-----Retrieving Reference Climatology CHELSA data for variable 'kg1' in reference period 1981-2010-----\n",
      "Complete\n",
      "-----Retrieving Reference Climatology CHELSA data for variable 'kg2' in reference period 1981-2010-----\n",
      "Complete\n",
      "-----Retrieving Reference Climatology CHELSA data for variable 'kg3' in reference period 1981-2010-----\n",
      "Complete\n",
      "-----Retrieving Reference Climatology CHELSA data for variable 'kg4' in reference period 1981-2010-----\n",
      "Complete\n",
      "-----Retrieving Reference Climatology CHELSA data for variable 'kg5' in reference period 1981-2010-----\n",
      "Complete\n",
      "-----Retrieving Reference Climatology CHELSA data for variable 'lgd' in reference period 1981-2010-----\n",
      "Complete\n",
      "-----Retrieving Reference Climatology CHELSA data for variable 'ngd0' in reference period 1981-2010-----\n",
      "Complete\n",
      "-----Retrieving Reference Climatology CHELSA data for variable 'ngd10' in reference period 1981-2010-----\n",
      "Complete\n",
      "-----Retrieving Reference Climatology CHELSA data for variable 'ngd5' in reference period 1981-2010-----\n",
      "Complete\n",
      "-----Retrieving Reference Climatology CHELSA data for variable 'npp' in reference period 1981-2010-----\n",
      "Complete\n",
      "-----Retrieving Reference Climatology CHELSA data for variable 'pet_penman_max' in reference period 1981-2010-----\n",
      "Complete\n",
      "-----Retrieving Reference Climatology CHELSA data for variable 'pet_penman_mean' in reference period 1981-2010-----\n",
      "Complete\n",
      "-----Retrieving Reference Climatology CHELSA data for variable 'pet_penman_min' in reference period 1981-2010-----\n",
      "Complete\n",
      "-----Retrieving Reference Climatology CHELSA data for variable 'pet_penman_range' in reference period 1981-2010-----\n",
      "Complete\n",
      "-----Retrieving Reference Climatology CHELSA data for variable 'rsds_max' in reference period 1981-2010-----\n",
      "Complete\n",
      "-----Retrieving Reference Climatology CHELSA data for variable 'rsds_min' in reference period 1981-2010-----\n",
      "Complete\n",
      "-----Retrieving Reference Climatology CHELSA data for variable 'rsds_mean' in reference period 1981-2010-----\n",
      "Complete\n",
      "-----Retrieving Reference Climatology CHELSA data for variable 'rsds_range' in reference period 1981-2010-----\n",
      "Complete\n",
      "-----Retrieving Reference Climatology CHELSA data for variable 'scd' in reference period 1981-2010-----\n",
      "Complete\n",
      "-----Retrieving Reference Climatology CHELSA data for variable 'sfcWind_max' in reference period 1981-2010-----\n",
      "Complete\n",
      "-----Retrieving Reference Climatology CHELSA data for variable 'sfcWind_mean' in reference period 1981-2010-----\n",
      "Complete\n",
      "-----Retrieving Reference Climatology CHELSA data for variable 'sfcWind_min' in reference period 1981-2010-----\n",
      "Complete\n",
      "-----Retrieving Reference Climatology CHELSA data for variable 'sfcWind_range' in reference period 1981-2010-----\n",
      "Complete\n",
      "-----Retrieving Reference Climatology CHELSA data for variable 'swb' in reference period 1981-2010-----\n",
      "Complete\n",
      "-----Retrieving Reference Climatology CHELSA data for variable 'swe' in reference period 1981-2010-----\n",
      "Complete\n",
      "-----Retrieving Reference Climatology CHELSA data for variable 'vpd_max' in reference period 1981-2010-----\n",
      "Complete\n",
      "-----Retrieving Reference Climatology CHELSA data for variable 'vpd_mean' in reference period 1981-2010-----\n",
      "Complete\n",
      "-----Retrieving Reference Climatology CHELSA data for variable 'vpd_min' in reference period 1981-2010-----\n",
      "Complete\n",
      "-----Retrieving Reference Climatology CHELSA data for variable 'vpd_range' in reference period 1981-2010-----\n",
      "Complete\n",
      "-----Retrieving monthly Reference Climatology CHELSA data for variable 'clt' in reference period 1981-2010-----\n"
     ]
    },
    {
     "name": "stderr",
     "output_type": "stream",
     "text": [
      "Processing: 100%|████████████████████████████████████████████████████████████████████████████████████████████████████████████████| 12/12 [00:01<00:00,  7.29item/s]\n"
     ]
    },
    {
     "name": "stdout",
     "output_type": "stream",
     "text": [
      "-----Retrieving monthly Reference Climatology CHELSA data for variable 'cmi' in reference period 1981-2010-----\n"
     ]
    },
    {
     "name": "stderr",
     "output_type": "stream",
     "text": [
      "Processing: 100%|████████████████████████████████████████████████████████████████████████████████████████████████████████████████| 12/12 [00:02<00:00,  4.35item/s]\n"
     ]
    },
    {
     "name": "stdout",
     "output_type": "stream",
     "text": [
      "-----Retrieving monthly Reference Climatology CHELSA data for variable 'hurs' in reference period 1981-2010-----\n"
     ]
    },
    {
     "name": "stderr",
     "output_type": "stream",
     "text": [
      "Processing: 100%|████████████████████████████████████████████████████████████████████████████████████████████████████████████████| 12/12 [00:03<00:00,  3.70item/s]\n"
     ]
    },
    {
     "name": "stdout",
     "output_type": "stream",
     "text": [
      "-----Retrieving monthly Reference Climatology CHELSA data for variable 'pet' in reference period 1981-2010-----\n"
     ]
    },
    {
     "name": "stderr",
     "output_type": "stream",
     "text": [
      "Processing: 100%|████████████████████████████████████████████████████████████████████████████████████████████████████████████████| 12/12 [00:02<00:00,  4.82item/s]\n"
     ]
    },
    {
     "name": "stdout",
     "output_type": "stream",
     "text": [
      "-----Retrieving monthly Reference Climatology CHELSA data for variable 'pr' in reference period 1981-2010-----\n"
     ]
    },
    {
     "name": "stderr",
     "output_type": "stream",
     "text": [
      "Processing: 100%|████████████████████████████████████████████████████████████████████████████████████████████████████████████████| 12/12 [00:03<00:00,  3.94item/s]\n"
     ]
    },
    {
     "name": "stdout",
     "output_type": "stream",
     "text": [
      "-----Retrieving monthly Reference Climatology CHELSA data for variable 'rsds' in reference period 1981-2010-----\n"
     ]
    },
    {
     "name": "stderr",
     "output_type": "stream",
     "text": [
      "Processing: 100%|████████████████████████████████████████████████████████████████████████████████████████████████████████████████| 12/12 [00:02<00:00,  4.37item/s]\n"
     ]
    },
    {
     "name": "stdout",
     "output_type": "stream",
     "text": [
      "-----Retrieving monthly Reference Climatology CHELSA data for variable 'sfcWind' in reference period 1981-2010-----\n"
     ]
    },
    {
     "name": "stderr",
     "output_type": "stream",
     "text": [
      "Processing: 100%|████████████████████████████████████████████████████████████████████████████████████████████████████████████████| 12/12 [00:02<00:00,  5.44item/s]\n"
     ]
    },
    {
     "name": "stdout",
     "output_type": "stream",
     "text": [
      "-----Retrieving monthly Reference Climatology CHELSA data for variable 'tas' in reference period 1981-2010-----\n"
     ]
    },
    {
     "name": "stderr",
     "output_type": "stream",
     "text": [
      "Processing: 100%|████████████████████████████████████████████████████████████████████████████████████████████████████████████████| 12/12 [00:02<00:00,  4.03item/s]\n"
     ]
    },
    {
     "name": "stdout",
     "output_type": "stream",
     "text": [
      "-----Retrieving monthly Reference Climatology CHELSA data for variable 'tasmax' in reference period 1981-2010-----\n"
     ]
    },
    {
     "name": "stderr",
     "output_type": "stream",
     "text": [
      "Processing: 100%|████████████████████████████████████████████████████████████████████████████████████████████████████████████████| 12/12 [00:02<00:00,  5.50item/s]\n"
     ]
    },
    {
     "name": "stdout",
     "output_type": "stream",
     "text": [
      "-----Retrieving monthly Reference Climatology CHELSA data for variable 'tasmin' in reference period 1981-2010-----\n"
     ]
    },
    {
     "name": "stderr",
     "output_type": "stream",
     "text": [
      "Processing: 100%|████████████████████████████████████████████████████████████████████████████████████████████████████████████████| 12/12 [00:02<00:00,  4.64item/s]\n"
     ]
    },
    {
     "name": "stdout",
     "output_type": "stream",
     "text": [
      "-----Retrieving monthly Reference Climatology CHELSA data for variable 'vpd' in reference period 1981-2010-----\n"
     ]
    },
    {
     "name": "stderr",
     "output_type": "stream",
     "text": [
      "Processing: 100%|████████████████████████████████████████████████████████████████████████████████████████████████████████████████| 12/12 [00:01<00:00,  6.26item/s]\n"
     ]
    },
    {
     "name": "stdout",
     "output_type": "stream",
     "text": [
      "-----Retrieving Simulation (period) CHELSA data for variable 'bio10'-----\n"
     ]
    },
    {
     "name": "stderr",
     "output_type": "stream",
     "text": [
      "Processing: 100%|████████████████████████████████████████████████████████████████████████████████████████████████████████████████| 45/45 [00:06<00:00,  7.38item/s]\n"
     ]
    },
    {
     "name": "stdout",
     "output_type": "stream",
     "text": [
      "-----Retrieving Simulation (period) CHELSA data for variable 'bio11'-----\n"
     ]
    },
    {
     "name": "stderr",
     "output_type": "stream",
     "text": [
      "Processing: 100%|████████████████████████████████████████████████████████████████████████████████████████████████████████████████| 45/45 [00:07<00:00,  5.96item/s]\n"
     ]
    },
    {
     "name": "stdout",
     "output_type": "stream",
     "text": [
      "-----Retrieving Simulation (period) CHELSA data for variable 'bio12'-----\n"
     ]
    },
    {
     "name": "stderr",
     "output_type": "stream",
     "text": [
      "Processing: 100%|████████████████████████████████████████████████████████████████████████████████████████████████████████████████| 45/45 [00:07<00:00,  5.68item/s]\n"
     ]
    },
    {
     "name": "stdout",
     "output_type": "stream",
     "text": [
      "-----Retrieving Simulation (period) CHELSA data for variable 'bio13'-----\n"
     ]
    },
    {
     "name": "stderr",
     "output_type": "stream",
     "text": [
      "Processing: 100%|████████████████████████████████████████████████████████████████████████████████████████████████████████████████| 45/45 [00:07<00:00,  6.36item/s]\n"
     ]
    },
    {
     "name": "stdout",
     "output_type": "stream",
     "text": [
      "-----Retrieving Simulation (period) CHELSA data for variable 'bio14'-----\n"
     ]
    },
    {
     "name": "stderr",
     "output_type": "stream",
     "text": [
      "Processing: 100%|████████████████████████████████████████████████████████████████████████████████████████████████████████████████| 45/45 [00:06<00:00,  6.89item/s]\n"
     ]
    },
    {
     "name": "stdout",
     "output_type": "stream",
     "text": [
      "-----Retrieving Simulation (period) CHELSA data for variable 'bio15'-----\n"
     ]
    },
    {
     "name": "stderr",
     "output_type": "stream",
     "text": [
      "Processing: 100%|████████████████████████████████████████████████████████████████████████████████████████████████████████████████| 45/45 [00:06<00:00,  7.25item/s]\n"
     ]
    },
    {
     "name": "stdout",
     "output_type": "stream",
     "text": [
      "-----Retrieving Simulation (period) CHELSA data for variable 'bio16'-----\n"
     ]
    },
    {
     "name": "stderr",
     "output_type": "stream",
     "text": [
      "Processing: 100%|████████████████████████████████████████████████████████████████████████████████████████████████████████████████| 45/45 [00:07<00:00,  5.78item/s]\n"
     ]
    },
    {
     "name": "stdout",
     "output_type": "stream",
     "text": [
      "-----Retrieving Simulation (period) CHELSA data for variable 'bio17'-----\n"
     ]
    },
    {
     "name": "stderr",
     "output_type": "stream",
     "text": [
      "Processing: 100%|████████████████████████████████████████████████████████████████████████████████████████████████████████████████| 45/45 [00:07<00:00,  6.14item/s]\n"
     ]
    },
    {
     "name": "stdout",
     "output_type": "stream",
     "text": [
      "-----Retrieving Simulation (period) CHELSA data for variable 'bio18'-----\n"
     ]
    },
    {
     "name": "stderr",
     "output_type": "stream",
     "text": [
      "Processing: 100%|████████████████████████████████████████████████████████████████████████████████████████████████████████████████| 45/45 [00:07<00:00,  5.94item/s]\n"
     ]
    },
    {
     "name": "stdout",
     "output_type": "stream",
     "text": [
      "-----Retrieving Simulation (period) CHELSA data for variable 'bio19'-----\n"
     ]
    },
    {
     "name": "stderr",
     "output_type": "stream",
     "text": [
      "Processing: 100%|████████████████████████████████████████████████████████████████████████████████████████████████████████████████| 45/45 [00:07<00:00,  6.36item/s]\n"
     ]
    },
    {
     "name": "stdout",
     "output_type": "stream",
     "text": [
      "-----Retrieving Simulation (period) CHELSA data for variable 'bio1'-----\n"
     ]
    },
    {
     "name": "stderr",
     "output_type": "stream",
     "text": [
      "Processing: 100%|████████████████████████████████████████████████████████████████████████████████████████████████████████████████| 45/45 [00:07<00:00,  6.42item/s]\n"
     ]
    },
    {
     "name": "stdout",
     "output_type": "stream",
     "text": [
      "-----Retrieving Simulation (period) CHELSA data for variable 'bio2'-----\n"
     ]
    },
    {
     "name": "stderr",
     "output_type": "stream",
     "text": [
      "Processing: 100%|████████████████████████████████████████████████████████████████████████████████████████████████████████████████| 45/45 [00:06<00:00,  6.86item/s]\n"
     ]
    },
    {
     "name": "stdout",
     "output_type": "stream",
     "text": [
      "-----Retrieving Simulation (period) CHELSA data for variable 'bio3'-----\n"
     ]
    },
    {
     "name": "stderr",
     "output_type": "stream",
     "text": [
      "Processing: 100%|████████████████████████████████████████████████████████████████████████████████████████████████████████████████| 45/45 [00:09<00:00,  4.94item/s]\n"
     ]
    },
    {
     "name": "stdout",
     "output_type": "stream",
     "text": [
      "-----Retrieving Simulation (period) CHELSA data for variable 'bio4'-----\n"
     ]
    },
    {
     "name": "stderr",
     "output_type": "stream",
     "text": [
      "Processing: 100%|████████████████████████████████████████████████████████████████████████████████████████████████████████████████| 45/45 [00:07<00:00,  6.02item/s]\n"
     ]
    },
    {
     "name": "stdout",
     "output_type": "stream",
     "text": [
      "-----Retrieving Simulation (period) CHELSA data for variable 'bio5'-----\n"
     ]
    },
    {
     "name": "stderr",
     "output_type": "stream",
     "text": [
      "Processing: 100%|████████████████████████████████████████████████████████████████████████████████████████████████████████████████| 45/45 [00:06<00:00,  7.18item/s]\n"
     ]
    },
    {
     "name": "stdout",
     "output_type": "stream",
     "text": [
      "-----Retrieving Simulation (period) CHELSA data for variable 'bio6'-----\n"
     ]
    },
    {
     "name": "stderr",
     "output_type": "stream",
     "text": [
      "Processing: 100%|████████████████████████████████████████████████████████████████████████████████████████████████████████████████| 45/45 [00:06<00:00,  6.86item/s]\n"
     ]
    },
    {
     "name": "stdout",
     "output_type": "stream",
     "text": [
      "-----Retrieving Simulation (period) CHELSA data for variable 'bio7'-----\n"
     ]
    },
    {
     "name": "stderr",
     "output_type": "stream",
     "text": [
      "Processing: 100%|████████████████████████████████████████████████████████████████████████████████████████████████████████████████| 45/45 [00:06<00:00,  7.12item/s]\n"
     ]
    },
    {
     "name": "stdout",
     "output_type": "stream",
     "text": [
      "-----Retrieving Simulation (period) CHELSA data for variable 'bio8'-----\n"
     ]
    },
    {
     "name": "stderr",
     "output_type": "stream",
     "text": [
      "Processing: 100%|████████████████████████████████████████████████████████████████████████████████████████████████████████████████| 45/45 [00:06<00:00,  6.44item/s]\n"
     ]
    },
    {
     "name": "stdout",
     "output_type": "stream",
     "text": [
      "-----Retrieving Simulation (period) CHELSA data for variable 'bio9'-----\n"
     ]
    },
    {
     "name": "stderr",
     "output_type": "stream",
     "text": [
      "Processing: 100%|████████████████████████████████████████████████████████████████████████████████████████████████████████████████| 45/45 [00:06<00:00,  6.95item/s]\n"
     ]
    },
    {
     "name": "stdout",
     "output_type": "stream",
     "text": [
      "-----Retrieving Simulation (period) CHELSA data for variable 'fcf'-----\n"
     ]
    },
    {
     "name": "stderr",
     "output_type": "stream",
     "text": [
      "Processing: 100%|████████████████████████████████████████████████████████████████████████████████████████████████████████████████| 45/45 [00:06<00:00,  7.09item/s]\n"
     ]
    },
    {
     "name": "stdout",
     "output_type": "stream",
     "text": [
      "-----Retrieving Simulation (period) CHELSA data for variable 'fgd'-----\n"
     ]
    },
    {
     "name": "stderr",
     "output_type": "stream",
     "text": [
      "Processing: 100%|████████████████████████████████████████████████████████████████████████████████████████████████████████████████| 45/45 [00:07<00:00,  6.38item/s]\n"
     ]
    },
    {
     "name": "stdout",
     "output_type": "stream",
     "text": [
      "-----Retrieving Simulation (period) CHELSA data for variable 'gdd0'-----\n"
     ]
    },
    {
     "name": "stderr",
     "output_type": "stream",
     "text": [
      "Processing: 100%|████████████████████████████████████████████████████████████████████████████████████████████████████████████████| 45/45 [00:08<00:00,  5.07item/s]\n"
     ]
    },
    {
     "name": "stdout",
     "output_type": "stream",
     "text": [
      "-----Retrieving Simulation (period) CHELSA data for variable 'gdd10'-----\n"
     ]
    },
    {
     "name": "stderr",
     "output_type": "stream",
     "text": [
      "Processing: 100%|████████████████████████████████████████████████████████████████████████████████████████████████████████████████| 45/45 [00:08<00:00,  5.31item/s]\n"
     ]
    },
    {
     "name": "stdout",
     "output_type": "stream",
     "text": [
      "-----Retrieving Simulation (period) CHELSA data for variable 'gdd5'-----\n"
     ]
    },
    {
     "name": "stderr",
     "output_type": "stream",
     "text": [
      "Processing: 100%|████████████████████████████████████████████████████████████████████████████████████████████████████████████████| 45/45 [00:07<00:00,  5.69item/s]\n"
     ]
    },
    {
     "name": "stdout",
     "output_type": "stream",
     "text": [
      "-----Retrieving Simulation (period) CHELSA data for variable 'gddlgd0'-----\n"
     ]
    },
    {
     "name": "stderr",
     "output_type": "stream",
     "text": [
      "Processing: 100%|████████████████████████████████████████████████████████████████████████████████████████████████████████████████| 45/45 [00:06<00:00,  7.22item/s]\n"
     ]
    },
    {
     "name": "stdout",
     "output_type": "stream",
     "text": [
      "-----Retrieving Simulation (period) CHELSA data for variable 'gddlgd10'-----\n"
     ]
    },
    {
     "name": "stderr",
     "output_type": "stream",
     "text": [
      "Processing: 100%|████████████████████████████████████████████████████████████████████████████████████████████████████████████████| 45/45 [00:06<00:00,  6.44item/s]\n"
     ]
    },
    {
     "name": "stdout",
     "output_type": "stream",
     "text": [
      "-----Retrieving Simulation (period) CHELSA data for variable 'gddlgd5'-----\n"
     ]
    },
    {
     "name": "stderr",
     "output_type": "stream",
     "text": [
      "Processing: 100%|████████████████████████████████████████████████████████████████████████████████████████████████████████████████| 45/45 [00:06<00:00,  6.68item/s]\n"
     ]
    },
    {
     "name": "stdout",
     "output_type": "stream",
     "text": [
      "-----Retrieving Simulation (period) CHELSA data for variable 'gdgfgd0'-----\n"
     ]
    },
    {
     "name": "stderr",
     "output_type": "stream",
     "text": [
      "Processing: 100%|████████████████████████████████████████████████████████████████████████████████████████████████████████████████| 45/45 [00:06<00:00,  6.93item/s]\n"
     ]
    },
    {
     "name": "stdout",
     "output_type": "stream",
     "text": [
      "-----Retrieving Simulation (period) CHELSA data for variable 'gdgfgd10'-----\n"
     ]
    },
    {
     "name": "stderr",
     "output_type": "stream",
     "text": [
      "Processing: 100%|████████████████████████████████████████████████████████████████████████████████████████████████████████████████| 45/45 [00:06<00:00,  6.76item/s]\n"
     ]
    },
    {
     "name": "stdout",
     "output_type": "stream",
     "text": [
      "-----Retrieving Simulation (period) CHELSA data for variable 'gdgfgd5'-----\n"
     ]
    },
    {
     "name": "stderr",
     "output_type": "stream",
     "text": [
      "Processing: 100%|████████████████████████████████████████████████████████████████████████████████████████████████████████████████| 45/45 [00:06<00:00,  6.67item/s]\n"
     ]
    },
    {
     "name": "stdout",
     "output_type": "stream",
     "text": [
      "-----Retrieving Simulation (period) CHELSA data for variable 'gsl'-----\n"
     ]
    },
    {
     "name": "stderr",
     "output_type": "stream",
     "text": [
      "Processing: 100%|████████████████████████████████████████████████████████████████████████████████████████████████████████████████| 45/45 [00:06<00:00,  6.70item/s]\n"
     ]
    },
    {
     "name": "stdout",
     "output_type": "stream",
     "text": [
      "-----Retrieving Simulation (period) CHELSA data for variable 'gsp'-----\n"
     ]
    },
    {
     "name": "stderr",
     "output_type": "stream",
     "text": [
      "Processing: 100%|████████████████████████████████████████████████████████████████████████████████████████████████████████████████| 45/45 [00:07<00:00,  5.74item/s]\n"
     ]
    },
    {
     "name": "stdout",
     "output_type": "stream",
     "text": [
      "-----Retrieving Simulation (period) CHELSA data for variable 'gst'-----\n"
     ]
    },
    {
     "name": "stderr",
     "output_type": "stream",
     "text": [
      "Processing: 100%|████████████████████████████████████████████████████████████████████████████████████████████████████████████████| 45/45 [00:06<00:00,  6.59item/s]\n"
     ]
    },
    {
     "name": "stdout",
     "output_type": "stream",
     "text": [
      "-----Retrieving Simulation (period) CHELSA data for variable 'kg0'-----\n"
     ]
    },
    {
     "name": "stderr",
     "output_type": "stream",
     "text": [
      "Processing: 100%|████████████████████████████████████████████████████████████████████████████████████████████████████████████████| 45/45 [00:05<00:00,  7.58item/s]\n"
     ]
    },
    {
     "name": "stdout",
     "output_type": "stream",
     "text": [
      "-----Retrieving Simulation (period) CHELSA data for variable 'kg1'-----\n"
     ]
    },
    {
     "name": "stderr",
     "output_type": "stream",
     "text": [
      "Processing: 100%|████████████████████████████████████████████████████████████████████████████████████████████████████████████████| 45/45 [00:05<00:00,  7.68item/s]\n"
     ]
    },
    {
     "name": "stdout",
     "output_type": "stream",
     "text": [
      "-----Retrieving Simulation (period) CHELSA data for variable 'kg2'-----\n"
     ]
    },
    {
     "name": "stderr",
     "output_type": "stream",
     "text": [
      "Processing: 100%|████████████████████████████████████████████████████████████████████████████████████████████████████████████████| 45/45 [00:05<00:00,  7.56item/s]\n"
     ]
    },
    {
     "name": "stdout",
     "output_type": "stream",
     "text": [
      "-----Retrieving Simulation (period) CHELSA data for variable 'kg3'-----\n"
     ]
    },
    {
     "name": "stderr",
     "output_type": "stream",
     "text": [
      "Processing: 100%|████████████████████████████████████████████████████████████████████████████████████████████████████████████████| 45/45 [00:05<00:00,  7.63item/s]\n"
     ]
    },
    {
     "name": "stdout",
     "output_type": "stream",
     "text": [
      "-----Retrieving Simulation (period) CHELSA data for variable 'kg4'-----\n"
     ]
    },
    {
     "name": "stderr",
     "output_type": "stream",
     "text": [
      "Processing: 100%|████████████████████████████████████████████████████████████████████████████████████████████████████████████████| 45/45 [00:06<00:00,  6.99item/s]\n"
     ]
    },
    {
     "name": "stdout",
     "output_type": "stream",
     "text": [
      "-----Retrieving Simulation (period) CHELSA data for variable 'kg5'-----\n"
     ]
    },
    {
     "name": "stderr",
     "output_type": "stream",
     "text": [
      "Processing: 100%|████████████████████████████████████████████████████████████████████████████████████████████████████████████████| 45/45 [00:06<00:00,  7.34item/s]\n"
     ]
    },
    {
     "name": "stdout",
     "output_type": "stream",
     "text": [
      "-----Retrieving Simulation (period) CHELSA data for variable 'lgd'-----\n"
     ]
    },
    {
     "name": "stderr",
     "output_type": "stream",
     "text": [
      "Processing: 100%|████████████████████████████████████████████████████████████████████████████████████████████████████████████████| 45/45 [00:06<00:00,  6.90item/s]\n"
     ]
    },
    {
     "name": "stdout",
     "output_type": "stream",
     "text": [
      "-----Retrieving Simulation (period) CHELSA data for variable 'ngd0'-----\n"
     ]
    },
    {
     "name": "stderr",
     "output_type": "stream",
     "text": [
      "Processing: 100%|████████████████████████████████████████████████████████████████████████████████████████████████████████████████| 45/45 [00:06<00:00,  6.73item/s]\n"
     ]
    },
    {
     "name": "stdout",
     "output_type": "stream",
     "text": [
      "-----Retrieving Simulation (period) CHELSA data for variable 'ngd10'-----\n"
     ]
    },
    {
     "name": "stderr",
     "output_type": "stream",
     "text": [
      "Processing: 100%|████████████████████████████████████████████████████████████████████████████████████████████████████████████████| 45/45 [00:06<00:00,  6.85item/s]\n"
     ]
    },
    {
     "name": "stdout",
     "output_type": "stream",
     "text": [
      "-----Retrieving Simulation (period) CHELSA data for variable 'ngd5'-----\n"
     ]
    },
    {
     "name": "stderr",
     "output_type": "stream",
     "text": [
      "Processing: 100%|████████████████████████████████████████████████████████████████████████████████████████████████████████████████| 45/45 [00:06<00:00,  6.75item/s]\n"
     ]
    },
    {
     "name": "stdout",
     "output_type": "stream",
     "text": [
      "-----Retrieving Simulation (period) CHELSA data for variable 'npp'-----\n"
     ]
    },
    {
     "name": "stderr",
     "output_type": "stream",
     "text": [
      "Processing: 100%|████████████████████████████████████████████████████████████████████████████████████████████████████████████████| 45/45 [00:07<00:00,  6.13item/s]\n"
     ]
    },
    {
     "name": "stdout",
     "output_type": "stream",
     "text": [
      "-----Retrieving Simulation (period) CHELSA data for variable 'scd'-----\n"
     ]
    },
    {
     "name": "stderr",
     "output_type": "stream",
     "text": [
      "Processing: 100%|████████████████████████████████████████████████████████████████████████████████████████████████████████████████| 45/45 [00:06<00:00,  6.72item/s]\n"
     ]
    },
    {
     "name": "stdout",
     "output_type": "stream",
     "text": [
      "-----Retrieving Simulation (period) CHELSA data for variable 'swe'-----\n"
     ]
    },
    {
     "name": "stderr",
     "output_type": "stream",
     "text": [
      "Processing: 100%|████████████████████████████████████████████████████████████████████████████████████████████████████████████████| 45/45 [00:08<00:00,  5.14item/s]\n"
     ]
    },
    {
     "name": "stdout",
     "output_type": "stream",
     "text": [
      "-----Retrieving Simulation (monthly) CHELSA data for variable 'pr'-----\n"
     ]
    },
    {
     "name": "stderr",
     "output_type": "stream",
     "text": [
      "Processing: 100%|████████████████████████████████████████████████████████████████████████████████████████████████████████████████| 90/90 [00:19<00:00,  4.72item/s]\n"
     ]
    },
    {
     "name": "stdout",
     "output_type": "stream",
     "text": [
      "-----Retrieving Simulation (monthly) CHELSA data for variable 'tas'-----\n"
     ]
    },
    {
     "name": "stderr",
     "output_type": "stream",
     "text": [
      "Processing: 100%|████████████████████████████████████████████████████████████████████████████████████████████████████████████████| 90/90 [00:17<00:00,  5.07item/s]\n"
     ]
    },
    {
     "name": "stdout",
     "output_type": "stream",
     "text": [
      "-----Retrieving Simulation (monthly) CHELSA data for variable 'tasmax'-----\n"
     ]
    },
    {
     "name": "stderr",
     "output_type": "stream",
     "text": [
      "Processing: 100%|████████████████████████████████████████████████████████████████████████████████████████████████████████████████| 90/90 [00:17<00:00,  5.24item/s]\n"
     ]
    },
    {
     "name": "stdout",
     "output_type": "stream",
     "text": [
      "-----Retrieving Simulation (monthly) CHELSA data for variable 'tasmin'-----\n"
     ]
    },
    {
     "name": "stderr",
     "output_type": "stream",
     "text": [
      "Processing: 100%|████████████████████████████████████████████████████████████████████████████████████████████████████████████████| 90/90 [00:16<00:00,  5.37item/s]\n"
     ]
    }
   ],
   "source": [
    "test_ds = test_chelsa_cube.generate_chelsa_cube(\"prototype_param.yaml\")"
   ]
  },
  {
   "cell_type": "code",
   "execution_count": 110,
   "id": "3d8fd580-5a5d-4668-b447-824b5b6d1ae6",
   "metadata": {},
   "outputs": [
    {
     "data": {
      "text/html": [
       "<div><svg style=\"position: absolute; width: 0; height: 0; overflow: hidden\">\n",
       "<defs>\n",
       "<symbol id=\"icon-database\" viewBox=\"0 0 32 32\">\n",
       "<path d=\"M16 0c-8.837 0-16 2.239-16 5v4c0 2.761 7.163 5 16 5s16-2.239 16-5v-4c0-2.761-7.163-5-16-5z\"></path>\n",
       "<path d=\"M16 17c-8.837 0-16-2.239-16-5v6c0 2.761 7.163 5 16 5s16-2.239 16-5v-6c0 2.761-7.163 5-16 5z\"></path>\n",
       "<path d=\"M16 26c-8.837 0-16-2.239-16-5v6c0 2.761 7.163 5 16 5s16-2.239 16-5v-6c0 2.761-7.163 5-16 5z\"></path>\n",
       "</symbol>\n",
       "<symbol id=\"icon-file-text2\" viewBox=\"0 0 32 32\">\n",
       "<path d=\"M28.681 7.159c-0.694-0.947-1.662-2.053-2.724-3.116s-2.169-2.030-3.116-2.724c-1.612-1.182-2.393-1.319-2.841-1.319h-15.5c-1.378 0-2.5 1.121-2.5 2.5v27c0 1.378 1.122 2.5 2.5 2.5h23c1.378 0 2.5-1.122 2.5-2.5v-19.5c0-0.448-0.137-1.23-1.319-2.841zM24.543 5.457c0.959 0.959 1.712 1.825 2.268 2.543h-4.811v-4.811c0.718 0.556 1.584 1.309 2.543 2.268zM28 29.5c0 0.271-0.229 0.5-0.5 0.5h-23c-0.271 0-0.5-0.229-0.5-0.5v-27c0-0.271 0.229-0.5 0.5-0.5 0 0 15.499-0 15.5 0v7c0 0.552 0.448 1 1 1h7v19.5z\"></path>\n",
       "<path d=\"M23 26h-14c-0.552 0-1-0.448-1-1s0.448-1 1-1h14c0.552 0 1 0.448 1 1s-0.448 1-1 1z\"></path>\n",
       "<path d=\"M23 22h-14c-0.552 0-1-0.448-1-1s0.448-1 1-1h14c0.552 0 1 0.448 1 1s-0.448 1-1 1z\"></path>\n",
       "<path d=\"M23 18h-14c-0.552 0-1-0.448-1-1s0.448-1 1-1h14c0.552 0 1 0.448 1 1s-0.448 1-1 1z\"></path>\n",
       "</symbol>\n",
       "</defs>\n",
       "</svg>\n",
       "<style>/* CSS stylesheet for displaying xarray objects in jupyterlab.\n",
       " *\n",
       " */\n",
       "\n",
       ":root {\n",
       "  --xr-font-color0: var(--jp-content-font-color0, rgba(0, 0, 0, 1));\n",
       "  --xr-font-color2: var(--jp-content-font-color2, rgba(0, 0, 0, 0.54));\n",
       "  --xr-font-color3: var(--jp-content-font-color3, rgba(0, 0, 0, 0.38));\n",
       "  --xr-border-color: var(--jp-border-color2, #e0e0e0);\n",
       "  --xr-disabled-color: var(--jp-layout-color3, #bdbdbd);\n",
       "  --xr-background-color: var(--jp-layout-color0, white);\n",
       "  --xr-background-color-row-even: var(--jp-layout-color1, white);\n",
       "  --xr-background-color-row-odd: var(--jp-layout-color2, #eeeeee);\n",
       "}\n",
       "\n",
       "html[theme=\"dark\"],\n",
       "html[data-theme=\"dark\"],\n",
       "body[data-theme=\"dark\"],\n",
       "body.vscode-dark {\n",
       "  --xr-font-color0: rgba(255, 255, 255, 1);\n",
       "  --xr-font-color2: rgba(255, 255, 255, 0.54);\n",
       "  --xr-font-color3: rgba(255, 255, 255, 0.38);\n",
       "  --xr-border-color: #1f1f1f;\n",
       "  --xr-disabled-color: #515151;\n",
       "  --xr-background-color: #111111;\n",
       "  --xr-background-color-row-even: #111111;\n",
       "  --xr-background-color-row-odd: #313131;\n",
       "}\n",
       "\n",
       ".xr-wrap {\n",
       "  display: block !important;\n",
       "  min-width: 300px;\n",
       "  max-width: 700px;\n",
       "}\n",
       "\n",
       ".xr-text-repr-fallback {\n",
       "  /* fallback to plain text repr when CSS is not injected (untrusted notebook) */\n",
       "  display: none;\n",
       "}\n",
       "\n",
       ".xr-header {\n",
       "  padding-top: 6px;\n",
       "  padding-bottom: 6px;\n",
       "  margin-bottom: 4px;\n",
       "  border-bottom: solid 1px var(--xr-border-color);\n",
       "}\n",
       "\n",
       ".xr-header > div,\n",
       ".xr-header > ul {\n",
       "  display: inline;\n",
       "  margin-top: 0;\n",
       "  margin-bottom: 0;\n",
       "}\n",
       "\n",
       ".xr-obj-type,\n",
       ".xr-array-name {\n",
       "  margin-left: 2px;\n",
       "  margin-right: 10px;\n",
       "}\n",
       "\n",
       ".xr-obj-type {\n",
       "  color: var(--xr-font-color2);\n",
       "}\n",
       "\n",
       ".xr-sections {\n",
       "  padding-left: 0 !important;\n",
       "  display: grid;\n",
       "  grid-template-columns: 150px auto auto 1fr 0 20px 0 20px;\n",
       "}\n",
       "\n",
       ".xr-section-item {\n",
       "  display: contents;\n",
       "}\n",
       "\n",
       ".xr-section-item input {\n",
       "  display: inline-block;\n",
       "  opacity: 0;\n",
       "  height: 0;\n",
       "}\n",
       "\n",
       ".xr-section-item input + label {\n",
       "  color: var(--xr-disabled-color);\n",
       "}\n",
       "\n",
       ".xr-section-item input:enabled + label {\n",
       "  cursor: pointer;\n",
       "  color: var(--xr-font-color2);\n",
       "}\n",
       "\n",
       ".xr-section-item input:focus + label {\n",
       "  border: 2px solid var(--xr-font-color0);\n",
       "}\n",
       "\n",
       ".xr-section-item input:enabled + label:hover {\n",
       "  color: var(--xr-font-color0);\n",
       "}\n",
       "\n",
       ".xr-section-summary {\n",
       "  grid-column: 1;\n",
       "  color: var(--xr-font-color2);\n",
       "  font-weight: 500;\n",
       "}\n",
       "\n",
       ".xr-section-summary > span {\n",
       "  display: inline-block;\n",
       "  padding-left: 0.5em;\n",
       "}\n",
       "\n",
       ".xr-section-summary-in:disabled + label {\n",
       "  color: var(--xr-font-color2);\n",
       "}\n",
       "\n",
       ".xr-section-summary-in + label:before {\n",
       "  display: inline-block;\n",
       "  content: \"►\";\n",
       "  font-size: 11px;\n",
       "  width: 15px;\n",
       "  text-align: center;\n",
       "}\n",
       "\n",
       ".xr-section-summary-in:disabled + label:before {\n",
       "  color: var(--xr-disabled-color);\n",
       "}\n",
       "\n",
       ".xr-section-summary-in:checked + label:before {\n",
       "  content: \"▼\";\n",
       "}\n",
       "\n",
       ".xr-section-summary-in:checked + label > span {\n",
       "  display: none;\n",
       "}\n",
       "\n",
       ".xr-section-summary,\n",
       ".xr-section-inline-details {\n",
       "  padding-top: 4px;\n",
       "  padding-bottom: 4px;\n",
       "}\n",
       "\n",
       ".xr-section-inline-details {\n",
       "  grid-column: 2 / -1;\n",
       "}\n",
       "\n",
       ".xr-section-details {\n",
       "  display: none;\n",
       "  grid-column: 1 / -1;\n",
       "  margin-bottom: 5px;\n",
       "}\n",
       "\n",
       ".xr-section-summary-in:checked ~ .xr-section-details {\n",
       "  display: contents;\n",
       "}\n",
       "\n",
       ".xr-array-wrap {\n",
       "  grid-column: 1 / -1;\n",
       "  display: grid;\n",
       "  grid-template-columns: 20px auto;\n",
       "}\n",
       "\n",
       ".xr-array-wrap > label {\n",
       "  grid-column: 1;\n",
       "  vertical-align: top;\n",
       "}\n",
       "\n",
       ".xr-preview {\n",
       "  color: var(--xr-font-color3);\n",
       "}\n",
       "\n",
       ".xr-array-preview,\n",
       ".xr-array-data {\n",
       "  padding: 0 5px !important;\n",
       "  grid-column: 2;\n",
       "}\n",
       "\n",
       ".xr-array-data,\n",
       ".xr-array-in:checked ~ .xr-array-preview {\n",
       "  display: none;\n",
       "}\n",
       "\n",
       ".xr-array-in:checked ~ .xr-array-data,\n",
       ".xr-array-preview {\n",
       "  display: inline-block;\n",
       "}\n",
       "\n",
       ".xr-dim-list {\n",
       "  display: inline-block !important;\n",
       "  list-style: none;\n",
       "  padding: 0 !important;\n",
       "  margin: 0;\n",
       "}\n",
       "\n",
       ".xr-dim-list li {\n",
       "  display: inline-block;\n",
       "  padding: 0;\n",
       "  margin: 0;\n",
       "}\n",
       "\n",
       ".xr-dim-list:before {\n",
       "  content: \"(\";\n",
       "}\n",
       "\n",
       ".xr-dim-list:after {\n",
       "  content: \")\";\n",
       "}\n",
       "\n",
       ".xr-dim-list li:not(:last-child):after {\n",
       "  content: \",\";\n",
       "  padding-right: 5px;\n",
       "}\n",
       "\n",
       ".xr-has-index {\n",
       "  font-weight: bold;\n",
       "}\n",
       "\n",
       ".xr-var-list,\n",
       ".xr-var-item {\n",
       "  display: contents;\n",
       "}\n",
       "\n",
       ".xr-var-item > div,\n",
       ".xr-var-item label,\n",
       ".xr-var-item > .xr-var-name span {\n",
       "  background-color: var(--xr-background-color-row-even);\n",
       "  margin-bottom: 0;\n",
       "}\n",
       "\n",
       ".xr-var-item > .xr-var-name:hover span {\n",
       "  padding-right: 5px;\n",
       "}\n",
       "\n",
       ".xr-var-list > li:nth-child(odd) > div,\n",
       ".xr-var-list > li:nth-child(odd) > label,\n",
       ".xr-var-list > li:nth-child(odd) > .xr-var-name span {\n",
       "  background-color: var(--xr-background-color-row-odd);\n",
       "}\n",
       "\n",
       ".xr-var-name {\n",
       "  grid-column: 1;\n",
       "}\n",
       "\n",
       ".xr-var-dims {\n",
       "  grid-column: 2;\n",
       "}\n",
       "\n",
       ".xr-var-dtype {\n",
       "  grid-column: 3;\n",
       "  text-align: right;\n",
       "  color: var(--xr-font-color2);\n",
       "}\n",
       "\n",
       ".xr-var-preview {\n",
       "  grid-column: 4;\n",
       "}\n",
       "\n",
       ".xr-index-preview {\n",
       "  grid-column: 2 / 5;\n",
       "  color: var(--xr-font-color2);\n",
       "}\n",
       "\n",
       ".xr-var-name,\n",
       ".xr-var-dims,\n",
       ".xr-var-dtype,\n",
       ".xr-preview,\n",
       ".xr-attrs dt {\n",
       "  white-space: nowrap;\n",
       "  overflow: hidden;\n",
       "  text-overflow: ellipsis;\n",
       "  padding-right: 10px;\n",
       "}\n",
       "\n",
       ".xr-var-name:hover,\n",
       ".xr-var-dims:hover,\n",
       ".xr-var-dtype:hover,\n",
       ".xr-attrs dt:hover {\n",
       "  overflow: visible;\n",
       "  width: auto;\n",
       "  z-index: 1;\n",
       "}\n",
       "\n",
       ".xr-var-attrs,\n",
       ".xr-var-data,\n",
       ".xr-index-data {\n",
       "  display: none;\n",
       "  background-color: var(--xr-background-color) !important;\n",
       "  padding-bottom: 5px !important;\n",
       "}\n",
       "\n",
       ".xr-var-attrs-in:checked ~ .xr-var-attrs,\n",
       ".xr-var-data-in:checked ~ .xr-var-data,\n",
       ".xr-index-data-in:checked ~ .xr-index-data {\n",
       "  display: block;\n",
       "}\n",
       "\n",
       ".xr-var-data > table {\n",
       "  float: right;\n",
       "}\n",
       "\n",
       ".xr-var-name span,\n",
       ".xr-var-data,\n",
       ".xr-index-name div,\n",
       ".xr-index-data,\n",
       ".xr-attrs {\n",
       "  padding-left: 25px !important;\n",
       "}\n",
       "\n",
       ".xr-attrs,\n",
       ".xr-var-attrs,\n",
       ".xr-var-data,\n",
       ".xr-index-data {\n",
       "  grid-column: 1 / -1;\n",
       "}\n",
       "\n",
       "dl.xr-attrs {\n",
       "  padding: 0;\n",
       "  margin: 0;\n",
       "  display: grid;\n",
       "  grid-template-columns: 125px auto;\n",
       "}\n",
       "\n",
       ".xr-attrs dt,\n",
       ".xr-attrs dd {\n",
       "  padding: 0;\n",
       "  margin: 0;\n",
       "  float: left;\n",
       "  padding-right: 10px;\n",
       "  width: auto;\n",
       "}\n",
       "\n",
       ".xr-attrs dt {\n",
       "  font-weight: normal;\n",
       "  grid-column: 1;\n",
       "}\n",
       "\n",
       ".xr-attrs dt:hover span {\n",
       "  display: inline-block;\n",
       "  background: var(--xr-background-color);\n",
       "  padding-right: 10px;\n",
       "}\n",
       "\n",
       ".xr-attrs dd {\n",
       "  grid-column: 2;\n",
       "  white-space: pre-wrap;\n",
       "  word-break: break-all;\n",
       "}\n",
       "\n",
       ".xr-icon-database,\n",
       ".xr-icon-file-text2,\n",
       ".xr-no-icon {\n",
       "  display: inline-block;\n",
       "  vertical-align: middle;\n",
       "  width: 1em;\n",
       "  height: 1.5em !important;\n",
       "  stroke-width: 0;\n",
       "  stroke: currentColor;\n",
       "  fill: currentColor;\n",
       "}\n",
       "</style><pre class='xr-text-repr-fallback'>&lt;xarray.Dataset&gt; Size: 127MB\n",
       "Dimensions:                 (time: 12, lat: 23, long: 69, variable: 87,\n",
       "                             months: 12, year_range: 3, model_name: 5,\n",
       "                             ensemble_member: 3, month: 2)\n",
       "Coordinates:\n",
       "  * time                    (time) datetime64[ns] 96B 1980-01-01 ... 1980-12-01\n",
       "  * lat                     (lat) float64 184B 50.87 50.87 50.86 ... 50.7 50.69\n",
       "  * long                    (long) float64 552B 4.176 4.184 ... 4.734 4.742\n",
       "  * variable                (variable) &lt;U16 6kB &#x27;ai&#x27; &#x27;bio1&#x27; ... &#x27;vpd_range&#x27;\n",
       "  * months                  (months) int64 96B 1 2 3 4 5 6 7 8 9 10 11 12\n",
       "  * year_range              (year_range) &lt;U9 108B &#x27;2011-2040&#x27; ... &#x27;2071-2100&#x27;\n",
       "  * model_name              (model_name) &lt;U13 260B &#x27;gfdl-esm4&#x27; ... &#x27;ukesm1-0-ll&#x27;\n",
       "  * ensemble_member         (ensemble_member) &lt;U6 72B &#x27;ssp126&#x27; &#x27;ssp370&#x27; &#x27;ssp585&#x27;\n",
       "  * month                   (month) int64 16B 1 2\n",
       "Data variables:\n",
       "    chelsa_month            (variable, time, lat, long) float64 13MB nan ... nan\n",
       "    chelsa_clim_ref_period  (variable, lat, long) float64 1MB 1.18 ... 5.568e+03\n",
       "    chelsa_clim_ref_month   (variable, months, lat, long) float64 13MB nan .....\n",
       "    chelsa_clim_sim_period  (variable, year_range, model_name, ensemble_member, lat, long) float64 50MB ...\n",
       "    chelsa_clim_sim_month   (variable, year_range, month, model_name, ensemble_member, lat, long) float32 50MB ...</pre><div class='xr-wrap' style='display:none'><div class='xr-header'><div class='xr-obj-type'>xarray.Dataset</div></div><ul class='xr-sections'><li class='xr-section-item'><input id='section-332080ae-9785-46f5-82ba-11f7abb22e22' class='xr-section-summary-in' type='checkbox' disabled ><label for='section-332080ae-9785-46f5-82ba-11f7abb22e22' class='xr-section-summary'  title='Expand/collapse section'>Dimensions:</label><div class='xr-section-inline-details'><ul class='xr-dim-list'><li><span class='xr-has-index'>time</span>: 12</li><li><span class='xr-has-index'>lat</span>: 23</li><li><span class='xr-has-index'>long</span>: 69</li><li><span class='xr-has-index'>variable</span>: 87</li><li><span class='xr-has-index'>months</span>: 12</li><li><span class='xr-has-index'>year_range</span>: 3</li><li><span class='xr-has-index'>model_name</span>: 5</li><li><span class='xr-has-index'>ensemble_member</span>: 3</li><li><span class='xr-has-index'>month</span>: 2</li></ul></div><div class='xr-section-details'></div></li><li class='xr-section-item'><input id='section-10dc5027-bc3b-4c06-ba7f-8fe50c720db9' class='xr-section-summary-in' type='checkbox'  checked><label for='section-10dc5027-bc3b-4c06-ba7f-8fe50c720db9' class='xr-section-summary' >Coordinates: <span>(9)</span></label><div class='xr-section-inline-details'></div><div class='xr-section-details'><ul class='xr-var-list'><li class='xr-var-item'><div class='xr-var-name'><span class='xr-has-index'>time</span></div><div class='xr-var-dims'>(time)</div><div class='xr-var-dtype'>datetime64[ns]</div><div class='xr-var-preview xr-preview'>1980-01-01 ... 1980-12-01</div><input id='attrs-98607158-41b4-477c-a59b-30fa4fe64824' class='xr-var-attrs-in' type='checkbox' disabled><label for='attrs-98607158-41b4-477c-a59b-30fa4fe64824' title='Show/Hide attributes'><svg class='icon xr-icon-file-text2'><use xlink:href='#icon-file-text2'></use></svg></label><input id='data-5e512353-8985-4023-a1bc-cb9ff3643ffd' class='xr-var-data-in' type='checkbox'><label for='data-5e512353-8985-4023-a1bc-cb9ff3643ffd' title='Show/Hide data repr'><svg class='icon xr-icon-database'><use xlink:href='#icon-database'></use></svg></label><div class='xr-var-attrs'><dl class='xr-attrs'></dl></div><div class='xr-var-data'><pre>array([&#x27;1980-01-01T00:00:00.000000000&#x27;, &#x27;1980-02-01T00:00:00.000000000&#x27;,\n",
       "       &#x27;1980-03-01T00:00:00.000000000&#x27;, &#x27;1980-04-01T00:00:00.000000000&#x27;,\n",
       "       &#x27;1980-05-01T00:00:00.000000000&#x27;, &#x27;1980-06-01T00:00:00.000000000&#x27;,\n",
       "       &#x27;1980-07-01T00:00:00.000000000&#x27;, &#x27;1980-08-01T00:00:00.000000000&#x27;,\n",
       "       &#x27;1980-09-01T00:00:00.000000000&#x27;, &#x27;1980-10-01T00:00:00.000000000&#x27;,\n",
       "       &#x27;1980-11-01T00:00:00.000000000&#x27;, &#x27;1980-12-01T00:00:00.000000000&#x27;],\n",
       "      dtype=&#x27;datetime64[ns]&#x27;)</pre></div></li><li class='xr-var-item'><div class='xr-var-name'><span class='xr-has-index'>lat</span></div><div class='xr-var-dims'>(lat)</div><div class='xr-var-dtype'>float64</div><div class='xr-var-preview xr-preview'>50.87 50.87 50.86 ... 50.7 50.69</div><input id='attrs-1f4cca15-76d3-4fd4-b539-de43e88a5100' class='xr-var-attrs-in' type='checkbox' disabled><label for='attrs-1f4cca15-76d3-4fd4-b539-de43e88a5100' title='Show/Hide attributes'><svg class='icon xr-icon-file-text2'><use xlink:href='#icon-file-text2'></use></svg></label><input id='data-d82cd792-5044-4f03-a6a5-d4f9fbdec5e4' class='xr-var-data-in' type='checkbox'><label for='data-d82cd792-5044-4f03-a6a5-d4f9fbdec5e4' title='Show/Hide data repr'><svg class='icon xr-icon-database'><use xlink:href='#icon-database'></use></svg></label><div class='xr-var-attrs'><dl class='xr-attrs'></dl></div><div class='xr-var-data'><pre>array([50.873744, 50.865411, 50.857078, 50.848744, 50.840411, 50.832078,\n",
       "       50.823744, 50.815411, 50.807078, 50.798744, 50.790411, 50.782078,\n",
       "       50.773744, 50.765411, 50.757078, 50.748744, 50.740411, 50.732078,\n",
       "       50.723744, 50.715411, 50.707078, 50.698744, 50.690411])</pre></div></li><li class='xr-var-item'><div class='xr-var-name'><span class='xr-has-index'>long</span></div><div class='xr-var-dims'>(long)</div><div class='xr-var-dtype'>float64</div><div class='xr-var-preview xr-preview'>4.176 4.184 4.192 ... 4.734 4.742</div><input id='attrs-4f64d34a-284b-4623-9dc6-d274be02476d' class='xr-var-attrs-in' type='checkbox' disabled><label for='attrs-4f64d34a-284b-4623-9dc6-d274be02476d' title='Show/Hide attributes'><svg class='icon xr-icon-file-text2'><use xlink:href='#icon-file-text2'></use></svg></label><input id='data-dc64cfe1-999c-49df-bd55-2b29ab9ebef3' class='xr-var-data-in' type='checkbox'><label for='data-dc64cfe1-999c-49df-bd55-2b29ab9ebef3' title='Show/Hide data repr'><svg class='icon xr-icon-database'><use xlink:href='#icon-database'></use></svg></label><div class='xr-var-attrs'><dl class='xr-attrs'></dl></div><div class='xr-var-data'><pre>array([4.175538, 4.183871, 4.192204, 4.200538, 4.208871, 4.217204, 4.225538,\n",
       "       4.233871, 4.242204, 4.250538, 4.258871, 4.267204, 4.275538, 4.283871,\n",
       "       4.292204, 4.300538, 4.308871, 4.317204, 4.325538, 4.333871, 4.342204,\n",
       "       4.350538, 4.358871, 4.367204, 4.375538, 4.383871, 4.392204, 4.400538,\n",
       "       4.408871, 4.417204, 4.425538, 4.433871, 4.442204, 4.450538, 4.458871,\n",
       "       4.467204, 4.475538, 4.483871, 4.492204, 4.500538, 4.508871, 4.517204,\n",
       "       4.525538, 4.533871, 4.542204, 4.550538, 4.558871, 4.567204, 4.575538,\n",
       "       4.583871, 4.592204, 4.600538, 4.608871, 4.617204, 4.625538, 4.633871,\n",
       "       4.642204, 4.650538, 4.658871, 4.667204, 4.675538, 4.683871, 4.692204,\n",
       "       4.700538, 4.708871, 4.717204, 4.725538, 4.733871, 4.742204])</pre></div></li><li class='xr-var-item'><div class='xr-var-name'><span class='xr-has-index'>variable</span></div><div class='xr-var-dims'>(variable)</div><div class='xr-var-dtype'>&lt;U16</div><div class='xr-var-preview xr-preview'>&#x27;ai&#x27; &#x27;bio1&#x27; ... &#x27;vpd_range&#x27;</div><input id='attrs-4731fa9e-e53e-4ee1-bec3-2585cc9a1d8d' class='xr-var-attrs-in' type='checkbox' disabled><label for='attrs-4731fa9e-e53e-4ee1-bec3-2585cc9a1d8d' title='Show/Hide attributes'><svg class='icon xr-icon-file-text2'><use xlink:href='#icon-file-text2'></use></svg></label><input id='data-018597b9-c611-4893-8012-f4147b4c4b90' class='xr-var-data-in' type='checkbox'><label for='data-018597b9-c611-4893-8012-f4147b4c4b90' title='Show/Hide data repr'><svg class='icon xr-icon-database'><use xlink:href='#icon-database'></use></svg></label><div class='xr-var-attrs'><dl class='xr-attrs'></dl></div><div class='xr-var-data'><pre>array([&#x27;ai&#x27;, &#x27;bio1&#x27;, &#x27;bio10&#x27;, &#x27;bio11&#x27;, &#x27;bio12&#x27;, &#x27;bio13&#x27;, &#x27;bio14&#x27;, &#x27;bio15&#x27;,\n",
       "       &#x27;bio16&#x27;, &#x27;bio17&#x27;, &#x27;bio18&#x27;, &#x27;bio19&#x27;, &#x27;bio2&#x27;, &#x27;bio3&#x27;, &#x27;bio4&#x27;, &#x27;bio5&#x27;,\n",
       "       &#x27;bio6&#x27;, &#x27;bio7&#x27;, &#x27;bio8&#x27;, &#x27;bio9&#x27;, &#x27;clt&#x27;, &#x27;clt_max&#x27;, &#x27;clt_mean&#x27;, &#x27;clt_min&#x27;,\n",
       "       &#x27;clt_range&#x27;, &#x27;cmi&#x27;, &#x27;cmi_max&#x27;, &#x27;cmi_mean&#x27;, &#x27;cmi_min&#x27;, &#x27;cmi_range&#x27;,\n",
       "       &#x27;fcf&#x27;, &#x27;fgd&#x27;, &#x27;gdd0&#x27;, &#x27;gdd10&#x27;, &#x27;gdd5&#x27;, &#x27;gddlgd0&#x27;, &#x27;gddlgd10&#x27;, &#x27;gddlgd5&#x27;,\n",
       "       &#x27;gdgfgd0&#x27;, &#x27;gdgfgd10&#x27;, &#x27;gdgfgd5&#x27;, &#x27;gsl&#x27;, &#x27;gsp&#x27;, &#x27;gst&#x27;, &#x27;hurs&#x27;,\n",
       "       &#x27;hurs_max&#x27;, &#x27;hurs_mean&#x27;, &#x27;hurs_min&#x27;, &#x27;hurs_range&#x27;, &#x27;kg0&#x27;, &#x27;kg1&#x27;, &#x27;kg2&#x27;,\n",
       "       &#x27;kg3&#x27;, &#x27;kg4&#x27;, &#x27;kg5&#x27;, &#x27;lgd&#x27;, &#x27;ngd0&#x27;, &#x27;ngd10&#x27;, &#x27;ngd5&#x27;, &#x27;npp&#x27;, &#x27;pet&#x27;,\n",
       "       &#x27;pet_penman_max&#x27;, &#x27;pet_penman_mean&#x27;, &#x27;pet_penman_min&#x27;,\n",
       "       &#x27;pet_penman_range&#x27;, &#x27;pr&#x27;, &#x27;rsds&#x27;, &#x27;rsds_max&#x27;, &#x27;rsds_mean&#x27;, &#x27;rsds_min&#x27;,\n",
       "       &#x27;rsds_range&#x27;, &#x27;scd&#x27;, &#x27;sfcWind&#x27;, &#x27;sfcWind_max&#x27;, &#x27;sfcWind_mean&#x27;,\n",
       "       &#x27;sfcWind_min&#x27;, &#x27;sfcWind_range&#x27;, &#x27;swb&#x27;, &#x27;swe&#x27;, &#x27;tas&#x27;, &#x27;tasmax&#x27;, &#x27;tasmin&#x27;,\n",
       "       &#x27;vpd&#x27;, &#x27;vpd_max&#x27;, &#x27;vpd_mean&#x27;, &#x27;vpd_min&#x27;, &#x27;vpd_range&#x27;], dtype=&#x27;&lt;U16&#x27;)</pre></div></li><li class='xr-var-item'><div class='xr-var-name'><span class='xr-has-index'>months</span></div><div class='xr-var-dims'>(months)</div><div class='xr-var-dtype'>int64</div><div class='xr-var-preview xr-preview'>1 2 3 4 5 6 7 8 9 10 11 12</div><input id='attrs-aa27a8c1-2c86-447b-ba1c-429ea72f7c45' class='xr-var-attrs-in' type='checkbox' disabled><label for='attrs-aa27a8c1-2c86-447b-ba1c-429ea72f7c45' title='Show/Hide attributes'><svg class='icon xr-icon-file-text2'><use xlink:href='#icon-file-text2'></use></svg></label><input id='data-8a1b83ae-cfdb-4d8d-8d36-7293d5d19fcf' class='xr-var-data-in' type='checkbox'><label for='data-8a1b83ae-cfdb-4d8d-8d36-7293d5d19fcf' title='Show/Hide data repr'><svg class='icon xr-icon-database'><use xlink:href='#icon-database'></use></svg></label><div class='xr-var-attrs'><dl class='xr-attrs'></dl></div><div class='xr-var-data'><pre>array([ 1,  2,  3,  4,  5,  6,  7,  8,  9, 10, 11, 12])</pre></div></li><li class='xr-var-item'><div class='xr-var-name'><span class='xr-has-index'>year_range</span></div><div class='xr-var-dims'>(year_range)</div><div class='xr-var-dtype'>&lt;U9</div><div class='xr-var-preview xr-preview'>&#x27;2011-2040&#x27; &#x27;2041-2070&#x27; &#x27;2071-2100&#x27;</div><input id='attrs-6e35eff5-0c9d-432b-acae-ea76f07a60d2' class='xr-var-attrs-in' type='checkbox' disabled><label for='attrs-6e35eff5-0c9d-432b-acae-ea76f07a60d2' title='Show/Hide attributes'><svg class='icon xr-icon-file-text2'><use xlink:href='#icon-file-text2'></use></svg></label><input id='data-ed584d78-5557-4aaf-a578-84f5ce4b488a' class='xr-var-data-in' type='checkbox'><label for='data-ed584d78-5557-4aaf-a578-84f5ce4b488a' title='Show/Hide data repr'><svg class='icon xr-icon-database'><use xlink:href='#icon-database'></use></svg></label><div class='xr-var-attrs'><dl class='xr-attrs'></dl></div><div class='xr-var-data'><pre>array([&#x27;2011-2040&#x27;, &#x27;2041-2070&#x27;, &#x27;2071-2100&#x27;], dtype=&#x27;&lt;U9&#x27;)</pre></div></li><li class='xr-var-item'><div class='xr-var-name'><span class='xr-has-index'>model_name</span></div><div class='xr-var-dims'>(model_name)</div><div class='xr-var-dtype'>&lt;U13</div><div class='xr-var-preview xr-preview'>&#x27;gfdl-esm4&#x27; ... &#x27;ukesm1-0-ll&#x27;</div><input id='attrs-f89379be-e30f-455c-9dcf-3f1ddcb46fc8' class='xr-var-attrs-in' type='checkbox' disabled><label for='attrs-f89379be-e30f-455c-9dcf-3f1ddcb46fc8' title='Show/Hide attributes'><svg class='icon xr-icon-file-text2'><use xlink:href='#icon-file-text2'></use></svg></label><input id='data-73ab5190-9f10-4cf6-9187-39d2505eed9a' class='xr-var-data-in' type='checkbox'><label for='data-73ab5190-9f10-4cf6-9187-39d2505eed9a' title='Show/Hide data repr'><svg class='icon xr-icon-database'><use xlink:href='#icon-database'></use></svg></label><div class='xr-var-attrs'><dl class='xr-attrs'></dl></div><div class='xr-var-data'><pre>array([&#x27;gfdl-esm4&#x27;, &#x27;ipsl-cm6a-lr&#x27;, &#x27;mpi-esm1-2-hr&#x27;, &#x27;mri-esm2-0&#x27;,\n",
       "       &#x27;ukesm1-0-ll&#x27;], dtype=&#x27;&lt;U13&#x27;)</pre></div></li><li class='xr-var-item'><div class='xr-var-name'><span class='xr-has-index'>ensemble_member</span></div><div class='xr-var-dims'>(ensemble_member)</div><div class='xr-var-dtype'>&lt;U6</div><div class='xr-var-preview xr-preview'>&#x27;ssp126&#x27; &#x27;ssp370&#x27; &#x27;ssp585&#x27;</div><input id='attrs-cc5f29c1-3b12-48b7-9a45-dc01315e9871' class='xr-var-attrs-in' type='checkbox' disabled><label for='attrs-cc5f29c1-3b12-48b7-9a45-dc01315e9871' title='Show/Hide attributes'><svg class='icon xr-icon-file-text2'><use xlink:href='#icon-file-text2'></use></svg></label><input id='data-67c04794-d2c0-4d16-bb84-bb954c3919f4' class='xr-var-data-in' type='checkbox'><label for='data-67c04794-d2c0-4d16-bb84-bb954c3919f4' title='Show/Hide data repr'><svg class='icon xr-icon-database'><use xlink:href='#icon-database'></use></svg></label><div class='xr-var-attrs'><dl class='xr-attrs'></dl></div><div class='xr-var-data'><pre>array([&#x27;ssp126&#x27;, &#x27;ssp370&#x27;, &#x27;ssp585&#x27;], dtype=&#x27;&lt;U6&#x27;)</pre></div></li><li class='xr-var-item'><div class='xr-var-name'><span class='xr-has-index'>month</span></div><div class='xr-var-dims'>(month)</div><div class='xr-var-dtype'>int64</div><div class='xr-var-preview xr-preview'>1 2</div><input id='attrs-c9b9cff5-25b5-4984-b846-57e69f14ace1' class='xr-var-attrs-in' type='checkbox' disabled><label for='attrs-c9b9cff5-25b5-4984-b846-57e69f14ace1' title='Show/Hide attributes'><svg class='icon xr-icon-file-text2'><use xlink:href='#icon-file-text2'></use></svg></label><input id='data-215dc2a3-dd32-4bb3-bf5a-558a54e5830e' class='xr-var-data-in' type='checkbox'><label for='data-215dc2a3-dd32-4bb3-bf5a-558a54e5830e' title='Show/Hide data repr'><svg class='icon xr-icon-database'><use xlink:href='#icon-database'></use></svg></label><div class='xr-var-attrs'><dl class='xr-attrs'></dl></div><div class='xr-var-data'><pre>array([1, 2])</pre></div></li></ul></div></li><li class='xr-section-item'><input id='section-3de61cd4-9028-43b7-8a08-59bf0ae1b0a9' class='xr-section-summary-in' type='checkbox'  checked><label for='section-3de61cd4-9028-43b7-8a08-59bf0ae1b0a9' class='xr-section-summary' >Data variables: <span>(5)</span></label><div class='xr-section-inline-details'></div><div class='xr-section-details'><ul class='xr-var-list'><li class='xr-var-item'><div class='xr-var-name'><span>chelsa_month</span></div><div class='xr-var-dims'>(variable, time, lat, long)</div><div class='xr-var-dtype'>float64</div><div class='xr-var-preview xr-preview'>nan nan nan nan ... nan nan nan nan</div><input id='attrs-d4d09155-7f8f-40b6-ad61-5afd4ea2fb2a' class='xr-var-attrs-in' type='checkbox' disabled><label for='attrs-d4d09155-7f8f-40b6-ad61-5afd4ea2fb2a' title='Show/Hide attributes'><svg class='icon xr-icon-file-text2'><use xlink:href='#icon-file-text2'></use></svg></label><input id='data-b98a40dd-53e3-49bb-aa9b-ca7d60d39de2' class='xr-var-data-in' type='checkbox'><label for='data-b98a40dd-53e3-49bb-aa9b-ca7d60d39de2' title='Show/Hide data repr'><svg class='icon xr-icon-database'><use xlink:href='#icon-database'></use></svg></label><div class='xr-var-attrs'><dl class='xr-attrs'></dl></div><div class='xr-var-data'><pre>array([[[[nan, nan, nan, ..., nan, nan, nan],\n",
       "         [nan, nan, nan, ..., nan, nan, nan],\n",
       "         [nan, nan, nan, ..., nan, nan, nan],\n",
       "         ...,\n",
       "         [nan, nan, nan, ..., nan, nan, nan],\n",
       "         [nan, nan, nan, ..., nan, nan, nan],\n",
       "         [nan, nan, nan, ..., nan, nan, nan]],\n",
       "\n",
       "        [[nan, nan, nan, ..., nan, nan, nan],\n",
       "         [nan, nan, nan, ..., nan, nan, nan],\n",
       "         [nan, nan, nan, ..., nan, nan, nan],\n",
       "         ...,\n",
       "         [nan, nan, nan, ..., nan, nan, nan],\n",
       "         [nan, nan, nan, ..., nan, nan, nan],\n",
       "         [nan, nan, nan, ..., nan, nan, nan]],\n",
       "\n",
       "        [[nan, nan, nan, ..., nan, nan, nan],\n",
       "         [nan, nan, nan, ..., nan, nan, nan],\n",
       "         [nan, nan, nan, ..., nan, nan, nan],\n",
       "         ...,\n",
       "...\n",
       "         ...,\n",
       "         [nan, nan, nan, ..., nan, nan, nan],\n",
       "         [nan, nan, nan, ..., nan, nan, nan],\n",
       "         [nan, nan, nan, ..., nan, nan, nan]],\n",
       "\n",
       "        [[nan, nan, nan, ..., nan, nan, nan],\n",
       "         [nan, nan, nan, ..., nan, nan, nan],\n",
       "         [nan, nan, nan, ..., nan, nan, nan],\n",
       "         ...,\n",
       "         [nan, nan, nan, ..., nan, nan, nan],\n",
       "         [nan, nan, nan, ..., nan, nan, nan],\n",
       "         [nan, nan, nan, ..., nan, nan, nan]],\n",
       "\n",
       "        [[nan, nan, nan, ..., nan, nan, nan],\n",
       "         [nan, nan, nan, ..., nan, nan, nan],\n",
       "         [nan, nan, nan, ..., nan, nan, nan],\n",
       "         ...,\n",
       "         [nan, nan, nan, ..., nan, nan, nan],\n",
       "         [nan, nan, nan, ..., nan, nan, nan],\n",
       "         [nan, nan, nan, ..., nan, nan, nan]]]], shape=(87, 12, 23, 69))</pre></div></li><li class='xr-var-item'><div class='xr-var-name'><span>chelsa_clim_ref_period</span></div><div class='xr-var-dims'>(variable, lat, long)</div><div class='xr-var-dtype'>float64</div><div class='xr-var-preview xr-preview'>1.18 1.183 ... 5.585e+03 5.568e+03</div><input id='attrs-d7c8dedf-b930-478f-920b-5d8c664df03a' class='xr-var-attrs-in' type='checkbox' ><label for='attrs-d7c8dedf-b930-478f-920b-5d8c664df03a' title='Show/Hide attributes'><svg class='icon xr-icon-file-text2'><use xlink:href='#icon-file-text2'></use></svg></label><input id='data-8803b9b2-a20c-446f-bf12-c1325d738a4b' class='xr-var-data-in' type='checkbox'><label for='data-8803b9b2-a20c-446f-bf12-c1325d738a4b' title='Show/Hide data repr'><svg class='icon xr-icon-database'><use xlink:href='#icon-database'></use></svg></label><div class='xr-var-attrs'><dl class='xr-attrs'><dt><span>year_range :</span></dt><dd>1981-2010</dd></dl></div><div class='xr-var-data'><pre>array([[[1.18015158e+00, 1.18255329e+00, 1.18540442e+00, ...,\n",
       "         1.13700640e+00, 1.13968790e+00, 1.14541054e+00],\n",
       "        [1.18246496e+00, 1.18452954e+00, 1.18502748e+00, ...,\n",
       "         1.14463651e+00, 1.14395237e+00, 1.14583743e+00],\n",
       "        [1.18958151e+00, 1.18728614e+00, 1.18784654e+00, ...,\n",
       "         1.15806282e+00, 1.15893531e+00, 1.16048992e+00],\n",
       "        ...,\n",
       "        [1.17370260e+00, 1.16899788e+00, 1.16737151e+00, ...,\n",
       "         1.18518853e+00, 1.19208217e+00, 1.20514143e+00],\n",
       "        [1.16658247e+00, 1.16406047e+00, 1.15795887e+00, ...,\n",
       "         1.19367743e+00, 1.19901192e+00, 1.20935237e+00],\n",
       "        [1.15844524e+00, 1.15460443e+00, 1.15378034e+00, ...,\n",
       "         1.19719100e+00, 1.20685768e+00, 1.21573091e+00]],\n",
       "\n",
       "       [[2.83700000e+03, 2.83700000e+03, 2.83700000e+03, ...,\n",
       "         2.83600000e+03, 2.83600000e+03, 2.83500000e+03],\n",
       "        [2.83600000e+03, 2.83600000e+03, 2.83600000e+03, ...,\n",
       "         2.83600000e+03, 2.83600000e+03, 2.83600000e+03],\n",
       "        [2.83600000e+03, 2.83600000e+03, 2.83600000e+03, ...,\n",
       "         2.83600000e+03, 2.83500000e+03, 2.83600000e+03],\n",
       "...\n",
       "         2.43100000e+03, 2.41900000e+03, 2.40500000e+03],\n",
       "        [2.50500000e+03, 2.50700000e+03, 2.51200000e+03, ...,\n",
       "         2.42000000e+03, 2.40800000e+03, 2.39700000e+03],\n",
       "        [2.51000000e+03, 2.51600000e+03, 2.51600000e+03, ...,\n",
       "         2.41100000e+03, 2.39800000e+03, 2.38700000e+03]],\n",
       "\n",
       "       [[5.80300000e+03, 5.79800000e+03, 5.79700000e+03, ...,\n",
       "         5.93600000e+03, 5.90700000e+03, 5.84700000e+03],\n",
       "        [5.74700000e+03, 5.76400000e+03, 5.76400000e+03, ...,\n",
       "         5.93000000e+03, 5.93400000e+03, 5.92800000e+03],\n",
       "        [5.74300000e+03, 5.74400000e+03, 5.74800000e+03, ...,\n",
       "         5.87900000e+03, 5.87100000e+03, 5.88600000e+03],\n",
       "        ...,\n",
       "        [5.66600000e+03, 5.70300000e+03, 5.72400000e+03, ...,\n",
       "         5.61500000e+03, 5.59000000e+03, 5.57300000e+03],\n",
       "        [5.73100000e+03, 5.73600000e+03, 5.78100000e+03, ...,\n",
       "         5.59600000e+03, 5.58700000e+03, 5.57100000e+03],\n",
       "        [5.76500000e+03, 5.78200000e+03, 5.77500000e+03, ...,\n",
       "         5.62200000e+03, 5.58500000e+03, 5.56800000e+03]]],\n",
       "      shape=(87, 23, 69))</pre></div></li><li class='xr-var-item'><div class='xr-var-name'><span>chelsa_clim_ref_month</span></div><div class='xr-var-dims'>(variable, months, lat, long)</div><div class='xr-var-dtype'>float64</div><div class='xr-var-preview xr-preview'>nan nan nan nan ... nan nan nan nan</div><input id='attrs-751410c6-57ee-4108-b766-ca31a4e592a6' class='xr-var-attrs-in' type='checkbox' ><label for='attrs-751410c6-57ee-4108-b766-ca31a4e592a6' title='Show/Hide attributes'><svg class='icon xr-icon-file-text2'><use xlink:href='#icon-file-text2'></use></svg></label><input id='data-48033403-d4fa-478f-b676-fbbc18cefdee' class='xr-var-data-in' type='checkbox'><label for='data-48033403-d4fa-478f-b676-fbbc18cefdee' title='Show/Hide data repr'><svg class='icon xr-icon-database'><use xlink:href='#icon-database'></use></svg></label><div class='xr-var-attrs'><dl class='xr-attrs'><dt><span>year_range :</span></dt><dd>1981-2010</dd></dl></div><div class='xr-var-data'><pre>array([[[[nan, nan, nan, ..., nan, nan, nan],\n",
       "         [nan, nan, nan, ..., nan, nan, nan],\n",
       "         [nan, nan, nan, ..., nan, nan, nan],\n",
       "         ...,\n",
       "         [nan, nan, nan, ..., nan, nan, nan],\n",
       "         [nan, nan, nan, ..., nan, nan, nan],\n",
       "         [nan, nan, nan, ..., nan, nan, nan]],\n",
       "\n",
       "        [[nan, nan, nan, ..., nan, nan, nan],\n",
       "         [nan, nan, nan, ..., nan, nan, nan],\n",
       "         [nan, nan, nan, ..., nan, nan, nan],\n",
       "         ...,\n",
       "         [nan, nan, nan, ..., nan, nan, nan],\n",
       "         [nan, nan, nan, ..., nan, nan, nan],\n",
       "         [nan, nan, nan, ..., nan, nan, nan]],\n",
       "\n",
       "        [[nan, nan, nan, ..., nan, nan, nan],\n",
       "         [nan, nan, nan, ..., nan, nan, nan],\n",
       "         [nan, nan, nan, ..., nan, nan, nan],\n",
       "         ...,\n",
       "...\n",
       "         ...,\n",
       "         [nan, nan, nan, ..., nan, nan, nan],\n",
       "         [nan, nan, nan, ..., nan, nan, nan],\n",
       "         [nan, nan, nan, ..., nan, nan, nan]],\n",
       "\n",
       "        [[nan, nan, nan, ..., nan, nan, nan],\n",
       "         [nan, nan, nan, ..., nan, nan, nan],\n",
       "         [nan, nan, nan, ..., nan, nan, nan],\n",
       "         ...,\n",
       "         [nan, nan, nan, ..., nan, nan, nan],\n",
       "         [nan, nan, nan, ..., nan, nan, nan],\n",
       "         [nan, nan, nan, ..., nan, nan, nan]],\n",
       "\n",
       "        [[nan, nan, nan, ..., nan, nan, nan],\n",
       "         [nan, nan, nan, ..., nan, nan, nan],\n",
       "         [nan, nan, nan, ..., nan, nan, nan],\n",
       "         ...,\n",
       "         [nan, nan, nan, ..., nan, nan, nan],\n",
       "         [nan, nan, nan, ..., nan, nan, nan],\n",
       "         [nan, nan, nan, ..., nan, nan, nan]]]], shape=(87, 12, 23, 69))</pre></div></li><li class='xr-var-item'><div class='xr-var-name'><span>chelsa_clim_sim_period</span></div><div class='xr-var-dims'>(variable, year_range, model_name, ensemble_member, lat, long)</div><div class='xr-var-dtype'>float64</div><div class='xr-var-preview xr-preview'>nan nan nan nan ... nan nan nan nan</div><input id='attrs-ba703f7f-d368-4ae3-86bd-06038350bcd8' class='xr-var-attrs-in' type='checkbox' disabled><label for='attrs-ba703f7f-d368-4ae3-86bd-06038350bcd8' title='Show/Hide attributes'><svg class='icon xr-icon-file-text2'><use xlink:href='#icon-file-text2'></use></svg></label><input id='data-0d48e2a9-26d9-4a05-83db-fc21f6d635ab' class='xr-var-data-in' type='checkbox'><label for='data-0d48e2a9-26d9-4a05-83db-fc21f6d635ab' title='Show/Hide data repr'><svg class='icon xr-icon-database'><use xlink:href='#icon-database'></use></svg></label><div class='xr-var-attrs'><dl class='xr-attrs'></dl></div><div class='xr-var-data'><pre>array([[[[[[  nan,   nan,   nan, ...,   nan,   nan,   nan],\n",
       "           [  nan,   nan,   nan, ...,   nan,   nan,   nan],\n",
       "           [  nan,   nan,   nan, ...,   nan,   nan,   nan],\n",
       "           ...,\n",
       "           [  nan,   nan,   nan, ...,   nan,   nan,   nan],\n",
       "           [  nan,   nan,   nan, ...,   nan,   nan,   nan],\n",
       "           [  nan,   nan,   nan, ...,   nan,   nan,   nan]],\n",
       "\n",
       "          [[  nan,   nan,   nan, ...,   nan,   nan,   nan],\n",
       "           [  nan,   nan,   nan, ...,   nan,   nan,   nan],\n",
       "           [  nan,   nan,   nan, ...,   nan,   nan,   nan],\n",
       "           ...,\n",
       "           [  nan,   nan,   nan, ...,   nan,   nan,   nan],\n",
       "           [  nan,   nan,   nan, ...,   nan,   nan,   nan],\n",
       "           [  nan,   nan,   nan, ...,   nan,   nan,   nan]],\n",
       "\n",
       "          [[  nan,   nan,   nan, ...,   nan,   nan,   nan],\n",
       "           [  nan,   nan,   nan, ...,   nan,   nan,   nan],\n",
       "           [  nan,   nan,   nan, ...,   nan,   nan,   nan],\n",
       "           ...,\n",
       "...\n",
       "           [  nan,   nan,   nan, ...,   nan,   nan,   nan],\n",
       "           [  nan,   nan,   nan, ...,   nan,   nan,   nan],\n",
       "           [  nan,   nan,   nan, ...,   nan,   nan,   nan]],\n",
       "\n",
       "          [[  nan,   nan,   nan, ...,   nan,   nan,   nan],\n",
       "           [  nan,   nan,   nan, ...,   nan,   nan,   nan],\n",
       "           [  nan,   nan,   nan, ...,   nan,   nan,   nan],\n",
       "           ...,\n",
       "           [  nan,   nan,   nan, ...,   nan,   nan,   nan],\n",
       "           [  nan,   nan,   nan, ...,   nan,   nan,   nan],\n",
       "           [  nan,   nan,   nan, ...,   nan,   nan,   nan]],\n",
       "\n",
       "          [[  nan,   nan,   nan, ...,   nan,   nan,   nan],\n",
       "           [  nan,   nan,   nan, ...,   nan,   nan,   nan],\n",
       "           [  nan,   nan,   nan, ...,   nan,   nan,   nan],\n",
       "           ...,\n",
       "           [  nan,   nan,   nan, ...,   nan,   nan,   nan],\n",
       "           [  nan,   nan,   nan, ...,   nan,   nan,   nan],\n",
       "           [  nan,   nan,   nan, ...,   nan,   nan,   nan]]]]]],\n",
       "      shape=(87, 3, 5, 3, 23, 69))</pre></div></li><li class='xr-var-item'><div class='xr-var-name'><span>chelsa_clim_sim_month</span></div><div class='xr-var-dims'>(variable, year_range, month, model_name, ensemble_member, lat, long)</div><div class='xr-var-dtype'>float32</div><div class='xr-var-preview xr-preview'>nan nan nan nan ... nan nan nan nan</div><input id='attrs-a61823ac-3ed9-4e7b-8556-bd05e263cda8' class='xr-var-attrs-in' type='checkbox' disabled><label for='attrs-a61823ac-3ed9-4e7b-8556-bd05e263cda8' title='Show/Hide attributes'><svg class='icon xr-icon-file-text2'><use xlink:href='#icon-file-text2'></use></svg></label><input id='data-0ae3edba-5a29-4fd2-a5ad-a4f658c56b5f' class='xr-var-data-in' type='checkbox'><label for='data-0ae3edba-5a29-4fd2-a5ad-a4f658c56b5f' title='Show/Hide data repr'><svg class='icon xr-icon-database'><use xlink:href='#icon-database'></use></svg></label><div class='xr-var-attrs'><dl class='xr-attrs'></dl></div><div class='xr-var-data'><pre>array([[[[[[[nan, nan, nan, ..., nan, nan, nan],\n",
       "            [nan, nan, nan, ..., nan, nan, nan],\n",
       "            [nan, nan, nan, ..., nan, nan, nan],\n",
       "            ...,\n",
       "            [nan, nan, nan, ..., nan, nan, nan],\n",
       "            [nan, nan, nan, ..., nan, nan, nan],\n",
       "            [nan, nan, nan, ..., nan, nan, nan]],\n",
       "\n",
       "           [[nan, nan, nan, ..., nan, nan, nan],\n",
       "            [nan, nan, nan, ..., nan, nan, nan],\n",
       "            [nan, nan, nan, ..., nan, nan, nan],\n",
       "            ...,\n",
       "            [nan, nan, nan, ..., nan, nan, nan],\n",
       "            [nan, nan, nan, ..., nan, nan, nan],\n",
       "            [nan, nan, nan, ..., nan, nan, nan]],\n",
       "\n",
       "           [[nan, nan, nan, ..., nan, nan, nan],\n",
       "            [nan, nan, nan, ..., nan, nan, nan],\n",
       "            [nan, nan, nan, ..., nan, nan, nan],\n",
       "            ...,\n",
       "...\n",
       "            [nan, nan, nan, ..., nan, nan, nan],\n",
       "            [nan, nan, nan, ..., nan, nan, nan],\n",
       "            [nan, nan, nan, ..., nan, nan, nan]],\n",
       "\n",
       "           [[nan, nan, nan, ..., nan, nan, nan],\n",
       "            [nan, nan, nan, ..., nan, nan, nan],\n",
       "            [nan, nan, nan, ..., nan, nan, nan],\n",
       "            ...,\n",
       "            [nan, nan, nan, ..., nan, nan, nan],\n",
       "            [nan, nan, nan, ..., nan, nan, nan],\n",
       "            [nan, nan, nan, ..., nan, nan, nan]],\n",
       "\n",
       "           [[nan, nan, nan, ..., nan, nan, nan],\n",
       "            [nan, nan, nan, ..., nan, nan, nan],\n",
       "            [nan, nan, nan, ..., nan, nan, nan],\n",
       "            ...,\n",
       "            [nan, nan, nan, ..., nan, nan, nan],\n",
       "            [nan, nan, nan, ..., nan, nan, nan],\n",
       "            [nan, nan, nan, ..., nan, nan, nan]]]]]]],\n",
       "      shape=(87, 3, 2, 5, 3, 23, 69), dtype=float32)</pre></div></li></ul></div></li><li class='xr-section-item'><input id='section-e58ed218-ca31-4663-bee6-2d49d629c1a1' class='xr-section-summary-in' type='checkbox'  ><label for='section-e58ed218-ca31-4663-bee6-2d49d629c1a1' class='xr-section-summary' >Indexes: <span>(9)</span></label><div class='xr-section-inline-details'></div><div class='xr-section-details'><ul class='xr-var-list'><li class='xr-var-item'><div class='xr-index-name'><div>time</div></div><div class='xr-index-preview'>PandasIndex</div><input type='checkbox' disabled/><label></label><input id='index-5d60a47e-43eb-42a0-bfa2-fe8d1b7b4849' class='xr-index-data-in' type='checkbox'/><label for='index-5d60a47e-43eb-42a0-bfa2-fe8d1b7b4849' title='Show/Hide index repr'><svg class='icon xr-icon-database'><use xlink:href='#icon-database'></use></svg></label><div class='xr-index-data'><pre>PandasIndex(DatetimeIndex([&#x27;1980-01-01&#x27;, &#x27;1980-02-01&#x27;, &#x27;1980-03-01&#x27;, &#x27;1980-04-01&#x27;,\n",
       "               &#x27;1980-05-01&#x27;, &#x27;1980-06-01&#x27;, &#x27;1980-07-01&#x27;, &#x27;1980-08-01&#x27;,\n",
       "               &#x27;1980-09-01&#x27;, &#x27;1980-10-01&#x27;, &#x27;1980-11-01&#x27;, &#x27;1980-12-01&#x27;],\n",
       "              dtype=&#x27;datetime64[ns]&#x27;, name=&#x27;time&#x27;, freq=None))</pre></div></li><li class='xr-var-item'><div class='xr-index-name'><div>lat</div></div><div class='xr-index-preview'>PandasIndex</div><input type='checkbox' disabled/><label></label><input id='index-ba3517fa-6468-4e84-a7f3-0ad8bc796dcf' class='xr-index-data-in' type='checkbox'/><label for='index-ba3517fa-6468-4e84-a7f3-0ad8bc796dcf' title='Show/Hide index repr'><svg class='icon xr-icon-database'><use xlink:href='#icon-database'></use></svg></label><div class='xr-index-data'><pre>PandasIndex(Index([50.87374433334999, 50.86541100004999, 50.85707766674999,\n",
       "       50.84874433344999, 50.84041100014999, 50.83207766684999,\n",
       "       50.82374433354999, 50.81541100024999, 50.80707766694999,\n",
       "       50.79874433364999, 50.79041100034999, 50.78207766704999,\n",
       "       50.77374433374999, 50.76541100044999, 50.75707766714999,\n",
       "       50.74874433384999, 50.74041100054999, 50.73207766724999,\n",
       "       50.72374433394999, 50.71541100064999, 50.70707766734999,\n",
       "       50.69874433404999, 50.69041100074999],\n",
       "      dtype=&#x27;float64&#x27;, name=&#x27;lat&#x27;))</pre></div></li><li class='xr-var-item'><div class='xr-index-name'><div>long</div></div><div class='xr-index-preview'>PandasIndex</div><input type='checkbox' disabled/><label></label><input id='index-cab6dbdd-8d1b-4e58-8260-80cacd1235eb' class='xr-index-data-in' type='checkbox'/><label for='index-cab6dbdd-8d1b-4e58-8260-80cacd1235eb' title='Show/Hide index repr'><svg class='icon xr-icon-database'><use xlink:href='#icon-database'></use></svg></label><div class='xr-index-data'><pre>PandasIndex(Index([ 4.175537666650022,  4.183870999950022,  4.192204333250022,\n",
       "        4.200537666550022, 4.2088709998500216,  4.217204333150022,\n",
       "       4.2255376664500215,  4.233870999750022,  4.242204333050022,\n",
       "        4.250537666350022,  4.258870999650022,  4.267204332950022,\n",
       "        4.275537666250022,  4.283870999550022,  4.292204332850022,\n",
       "        4.300537666150022,  4.308870999450022,  4.317204332750022,\n",
       "        4.325537666050022, 4.3338709993500215,  4.342204332650022,\n",
       "        4.350537665950022,  4.358870999250022,  4.367204332550022,\n",
       "        4.375537665850022,  4.383870999150022,  4.392204332450022,\n",
       "        4.400537665750022,  4.408870999050022,  4.417204332350022,\n",
       "        4.425537665650022,  4.433870998950022, 4.4422043322500215,\n",
       "        4.450537665550022,  4.458870998850022,  4.467204332150022,\n",
       "        4.475537665450022,  4.483870998750022,  4.492204332050022,\n",
       "        4.500537665350022,  4.508870998650022,  4.517204331950022,\n",
       "        4.525537665250022,  4.533870998550022,  4.542204331850022,\n",
       "        4.550537665150022,  4.558870998450022, 4.5672043317500215,\n",
       "        4.575537665050022,  4.583870998350022,  4.592204331650022,\n",
       "        4.600537664950022,  4.608870998250022,  4.617204331550022,\n",
       "        4.625537664850022,  4.633870998150022,  4.642204331450022,\n",
       "        4.650537664750022,  4.658870998050022,  4.667204331350022,\n",
       "        4.675537664650022,  4.683870997950022,  4.692204331250022,\n",
       "        4.700537664550022,  4.708870997850022,  4.717204331150022,\n",
       "        4.725537664450022,  4.733870997750022,  4.742204331050022],\n",
       "      dtype=&#x27;float64&#x27;, name=&#x27;long&#x27;))</pre></div></li><li class='xr-var-item'><div class='xr-index-name'><div>variable</div></div><div class='xr-index-preview'>PandasIndex</div><input type='checkbox' disabled/><label></label><input id='index-207d79d6-34f6-4630-805f-85d1ce91487f' class='xr-index-data-in' type='checkbox'/><label for='index-207d79d6-34f6-4630-805f-85d1ce91487f' title='Show/Hide index repr'><svg class='icon xr-icon-database'><use xlink:href='#icon-database'></use></svg></label><div class='xr-index-data'><pre>PandasIndex(Index([&#x27;ai&#x27;, &#x27;bio1&#x27;, &#x27;bio10&#x27;, &#x27;bio11&#x27;, &#x27;bio12&#x27;, &#x27;bio13&#x27;, &#x27;bio14&#x27;, &#x27;bio15&#x27;,\n",
       "       &#x27;bio16&#x27;, &#x27;bio17&#x27;, &#x27;bio18&#x27;, &#x27;bio19&#x27;, &#x27;bio2&#x27;, &#x27;bio3&#x27;, &#x27;bio4&#x27;, &#x27;bio5&#x27;,\n",
       "       &#x27;bio6&#x27;, &#x27;bio7&#x27;, &#x27;bio8&#x27;, &#x27;bio9&#x27;, &#x27;clt&#x27;, &#x27;clt_max&#x27;, &#x27;clt_mean&#x27;, &#x27;clt_min&#x27;,\n",
       "       &#x27;clt_range&#x27;, &#x27;cmi&#x27;, &#x27;cmi_max&#x27;, &#x27;cmi_mean&#x27;, &#x27;cmi_min&#x27;, &#x27;cmi_range&#x27;,\n",
       "       &#x27;fcf&#x27;, &#x27;fgd&#x27;, &#x27;gdd0&#x27;, &#x27;gdd10&#x27;, &#x27;gdd5&#x27;, &#x27;gddlgd0&#x27;, &#x27;gddlgd10&#x27;, &#x27;gddlgd5&#x27;,\n",
       "       &#x27;gdgfgd0&#x27;, &#x27;gdgfgd10&#x27;, &#x27;gdgfgd5&#x27;, &#x27;gsl&#x27;, &#x27;gsp&#x27;, &#x27;gst&#x27;, &#x27;hurs&#x27;,\n",
       "       &#x27;hurs_max&#x27;, &#x27;hurs_mean&#x27;, &#x27;hurs_min&#x27;, &#x27;hurs_range&#x27;, &#x27;kg0&#x27;, &#x27;kg1&#x27;, &#x27;kg2&#x27;,\n",
       "       &#x27;kg3&#x27;, &#x27;kg4&#x27;, &#x27;kg5&#x27;, &#x27;lgd&#x27;, &#x27;ngd0&#x27;, &#x27;ngd10&#x27;, &#x27;ngd5&#x27;, &#x27;npp&#x27;, &#x27;pet&#x27;,\n",
       "       &#x27;pet_penman_max&#x27;, &#x27;pet_penman_mean&#x27;, &#x27;pet_penman_min&#x27;,\n",
       "       &#x27;pet_penman_range&#x27;, &#x27;pr&#x27;, &#x27;rsds&#x27;, &#x27;rsds_max&#x27;, &#x27;rsds_mean&#x27;, &#x27;rsds_min&#x27;,\n",
       "       &#x27;rsds_range&#x27;, &#x27;scd&#x27;, &#x27;sfcWind&#x27;, &#x27;sfcWind_max&#x27;, &#x27;sfcWind_mean&#x27;,\n",
       "       &#x27;sfcWind_min&#x27;, &#x27;sfcWind_range&#x27;, &#x27;swb&#x27;, &#x27;swe&#x27;, &#x27;tas&#x27;, &#x27;tasmax&#x27;, &#x27;tasmin&#x27;,\n",
       "       &#x27;vpd&#x27;, &#x27;vpd_max&#x27;, &#x27;vpd_mean&#x27;, &#x27;vpd_min&#x27;, &#x27;vpd_range&#x27;],\n",
       "      dtype=&#x27;object&#x27;, name=&#x27;variable&#x27;))</pre></div></li><li class='xr-var-item'><div class='xr-index-name'><div>months</div></div><div class='xr-index-preview'>PandasIndex</div><input type='checkbox' disabled/><label></label><input id='index-b1540139-39e0-473e-bd22-bf6e9fb46f66' class='xr-index-data-in' type='checkbox'/><label for='index-b1540139-39e0-473e-bd22-bf6e9fb46f66' title='Show/Hide index repr'><svg class='icon xr-icon-database'><use xlink:href='#icon-database'></use></svg></label><div class='xr-index-data'><pre>PandasIndex(Index([1, 2, 3, 4, 5, 6, 7, 8, 9, 10, 11, 12], dtype=&#x27;int64&#x27;, name=&#x27;months&#x27;))</pre></div></li><li class='xr-var-item'><div class='xr-index-name'><div>year_range</div></div><div class='xr-index-preview'>PandasIndex</div><input type='checkbox' disabled/><label></label><input id='index-70dec7fe-7b05-40eb-9bfd-d87e63a056cb' class='xr-index-data-in' type='checkbox'/><label for='index-70dec7fe-7b05-40eb-9bfd-d87e63a056cb' title='Show/Hide index repr'><svg class='icon xr-icon-database'><use xlink:href='#icon-database'></use></svg></label><div class='xr-index-data'><pre>PandasIndex(Index([&#x27;2011-2040&#x27;, &#x27;2041-2070&#x27;, &#x27;2071-2100&#x27;], dtype=&#x27;object&#x27;, name=&#x27;year_range&#x27;))</pre></div></li><li class='xr-var-item'><div class='xr-index-name'><div>model_name</div></div><div class='xr-index-preview'>PandasIndex</div><input type='checkbox' disabled/><label></label><input id='index-efad3a65-b1a7-4145-89db-7c5806569868' class='xr-index-data-in' type='checkbox'/><label for='index-efad3a65-b1a7-4145-89db-7c5806569868' title='Show/Hide index repr'><svg class='icon xr-icon-database'><use xlink:href='#icon-database'></use></svg></label><div class='xr-index-data'><pre>PandasIndex(Index([&#x27;gfdl-esm4&#x27;, &#x27;ipsl-cm6a-lr&#x27;, &#x27;mpi-esm1-2-hr&#x27;, &#x27;mri-esm2-0&#x27;,\n",
       "       &#x27;ukesm1-0-ll&#x27;],\n",
       "      dtype=&#x27;object&#x27;, name=&#x27;model_name&#x27;))</pre></div></li><li class='xr-var-item'><div class='xr-index-name'><div>ensemble_member</div></div><div class='xr-index-preview'>PandasIndex</div><input type='checkbox' disabled/><label></label><input id='index-a1e13c0a-4cc2-409a-bc02-d1c841160874' class='xr-index-data-in' type='checkbox'/><label for='index-a1e13c0a-4cc2-409a-bc02-d1c841160874' title='Show/Hide index repr'><svg class='icon xr-icon-database'><use xlink:href='#icon-database'></use></svg></label><div class='xr-index-data'><pre>PandasIndex(Index([&#x27;ssp126&#x27;, &#x27;ssp370&#x27;, &#x27;ssp585&#x27;], dtype=&#x27;object&#x27;, name=&#x27;ensemble_member&#x27;))</pre></div></li><li class='xr-var-item'><div class='xr-index-name'><div>month</div></div><div class='xr-index-preview'>PandasIndex</div><input type='checkbox' disabled/><label></label><input id='index-e59497f0-8bfe-4309-a71b-cc5fe923bdae' class='xr-index-data-in' type='checkbox'/><label for='index-e59497f0-8bfe-4309-a71b-cc5fe923bdae' title='Show/Hide index repr'><svg class='icon xr-icon-database'><use xlink:href='#icon-database'></use></svg></label><div class='xr-index-data'><pre>PandasIndex(Index([1, 2], dtype=&#x27;int64&#x27;, name=&#x27;month&#x27;))</pre></div></li></ul></div></li><li class='xr-section-item'><input id='section-d419efda-1194-403e-89ce-141c10a6e0c5' class='xr-section-summary-in' type='checkbox' disabled ><label for='section-d419efda-1194-403e-89ce-141c10a6e0c5' class='xr-section-summary'  title='Expand/collapse section'>Attributes: <span>(0)</span></label><div class='xr-section-inline-details'></div><div class='xr-section-details'><dl class='xr-attrs'></dl></div></li></ul></div></div>"
      ],
      "text/plain": [
       "<xarray.Dataset> Size: 127MB\n",
       "Dimensions:                 (time: 12, lat: 23, long: 69, variable: 87,\n",
       "                             months: 12, year_range: 3, model_name: 5,\n",
       "                             ensemble_member: 3, month: 2)\n",
       "Coordinates:\n",
       "  * time                    (time) datetime64[ns] 96B 1980-01-01 ... 1980-12-01\n",
       "  * lat                     (lat) float64 184B 50.87 50.87 50.86 ... 50.7 50.69\n",
       "  * long                    (long) float64 552B 4.176 4.184 ... 4.734 4.742\n",
       "  * variable                (variable) <U16 6kB 'ai' 'bio1' ... 'vpd_range'\n",
       "  * months                  (months) int64 96B 1 2 3 4 5 6 7 8 9 10 11 12\n",
       "  * year_range              (year_range) <U9 108B '2011-2040' ... '2071-2100'\n",
       "  * model_name              (model_name) <U13 260B 'gfdl-esm4' ... 'ukesm1-0-ll'\n",
       "  * ensemble_member         (ensemble_member) <U6 72B 'ssp126' 'ssp370' 'ssp585'\n",
       "  * month                   (month) int64 16B 1 2\n",
       "Data variables:\n",
       "    chelsa_month            (variable, time, lat, long) float64 13MB nan ... nan\n",
       "    chelsa_clim_ref_period  (variable, lat, long) float64 1MB 1.18 ... 5.568e+03\n",
       "    chelsa_clim_ref_month   (variable, months, lat, long) float64 13MB nan .....\n",
       "    chelsa_clim_sim_period  (variable, year_range, model_name, ensemble_member, lat, long) float64 50MB ...\n",
       "    chelsa_clim_sim_month   (variable, year_range, month, model_name, ensemble_member, lat, long) float32 50MB ..."
      ]
     },
     "execution_count": 110,
     "metadata": {},
     "output_type": "execute_result"
    }
   ],
   "source": [
    "test_ds"
   ]
  },
  {
   "cell_type": "code",
   "execution_count": 111,
   "id": "3791835f-0133-4550-bf74-e8dab326aafd",
   "metadata": {
    "scrolled": true
   },
   "outputs": [
    {
     "name": "stdout",
     "output_type": "stream",
     "text": [
      "-----Retrieving monthly CHELSA data for variable 'clt'-----\n"
     ]
    },
    {
     "name": "stderr",
     "output_type": "stream",
     "text": [
      "Processing: 100%|████████████████████████████████████████████████████████████████████████████████████████████████████████████████| 12/12 [00:01<00:00,  8.27item/s]\n"
     ]
    },
    {
     "name": "stdout",
     "output_type": "stream",
     "text": [
      "-----Retrieving monthly CHELSA data for variable 'cmi'-----\n"
     ]
    },
    {
     "name": "stderr",
     "output_type": "stream",
     "text": [
      "Processing: 100%|████████████████████████████████████████████████████████████████████████████████████████████████████████████████| 12/12 [00:01<00:00,  7.32item/s]\n"
     ]
    },
    {
     "name": "stdout",
     "output_type": "stream",
     "text": [
      "-----Retrieving monthly CHELSA data for variable 'hurs'-----\n"
     ]
    },
    {
     "name": "stderr",
     "output_type": "stream",
     "text": [
      "Processing: 100%|████████████████████████████████████████████████████████████████████████████████████████████████████████████████| 12/12 [00:02<00:00,  5.87item/s]\n"
     ]
    },
    {
     "name": "stdout",
     "output_type": "stream",
     "text": [
      "-----Retrieving monthly CHELSA data for variable 'pet'-----\n"
     ]
    },
    {
     "name": "stderr",
     "output_type": "stream",
     "text": [
      "Processing: 100%|████████████████████████████████████████████████████████████████████████████████████████████████████████████████| 12/12 [00:01<00:00,  6.73item/s]\n"
     ]
    },
    {
     "name": "stdout",
     "output_type": "stream",
     "text": [
      "-----Retrieving monthly CHELSA data for variable 'pr'-----\n"
     ]
    },
    {
     "name": "stderr",
     "output_type": "stream",
     "text": [
      "Processing: 100%|████████████████████████████████████████████████████████████████████████████████████████████████████████████████| 12/12 [00:02<00:00,  5.76item/s]\n"
     ]
    },
    {
     "name": "stdout",
     "output_type": "stream",
     "text": [
      "-----Retrieving monthly CHELSA data for variable 'rsds'-----\n"
     ]
    },
    {
     "name": "stderr",
     "output_type": "stream",
     "text": [
      "Processing: 100%|████████████████████████████████████████████████████████████████████████████████████████████████████████████████| 12/12 [00:01<00:00,  6.57item/s]\n"
     ]
    },
    {
     "name": "stdout",
     "output_type": "stream",
     "text": [
      "-----Retrieving monthly CHELSA data for variable 'sfcWind'-----\n"
     ]
    },
    {
     "name": "stderr",
     "output_type": "stream",
     "text": [
      "Processing: 100%|████████████████████████████████████████████████████████████████████████████████████████████████████████████████| 12/12 [00:02<00:00,  5.96item/s]\n"
     ]
    },
    {
     "name": "stdout",
     "output_type": "stream",
     "text": [
      "-----Retrieving monthly CHELSA data for variable 'tas'-----\n"
     ]
    },
    {
     "name": "stderr",
     "output_type": "stream",
     "text": [
      "Processing: 100%|████████████████████████████████████████████████████████████████████████████████████████████████████████████████| 12/12 [00:01<00:00,  8.61item/s]\n"
     ]
    },
    {
     "name": "stdout",
     "output_type": "stream",
     "text": [
      "-----Retrieving monthly CHELSA data for variable 'tasmax'-----\n"
     ]
    },
    {
     "name": "stderr",
     "output_type": "stream",
     "text": [
      "Processing: 100%|████████████████████████████████████████████████████████████████████████████████████████████████████████████████| 12/12 [00:01<00:00,  7.13item/s]\n"
     ]
    },
    {
     "name": "stdout",
     "output_type": "stream",
     "text": [
      "-----Retrieving monthly CHELSA data for variable 'tasmin'-----\n"
     ]
    },
    {
     "name": "stderr",
     "output_type": "stream",
     "text": [
      "Processing: 100%|████████████████████████████████████████████████████████████████████████████████████████████████████████████████| 12/12 [00:01<00:00,  8.11item/s]\n"
     ]
    },
    {
     "name": "stdout",
     "output_type": "stream",
     "text": [
      "-----Retrieving monthly CHELSA data for variable 'vpd'-----\n"
     ]
    },
    {
     "name": "stderr",
     "output_type": "stream",
     "text": [
      "Processing: 100%|████████████████████████████████████████████████████████████████████████████████████████████████████████████████| 12/12 [00:01<00:00,  6.24item/s]\n"
     ]
    }
   ],
   "source": [
    "test_layer_m = test_chelsa_cube.generate_chelsa_month_layer(\"prototype_param.yaml\")"
   ]
  },
  {
   "cell_type": "code",
   "execution_count": 70,
   "id": "4f8e829b-8c3a-466b-90da-be355ba3c3c4",
   "metadata": {
    "scrolled": true
   },
   "outputs": [
    {
     "name": "stdout",
     "output_type": "stream",
     "text": [
      "-----Retrieving Reference Climatology CHELSA data for variable 'ai' in reference period 1981-2010-----\n",
      "Complete\n",
      "-----Retrieving Reference Climatology CHELSA data for variable 'bio10' in reference period 1981-2010-----\n",
      "Complete\n",
      "-----Retrieving Reference Climatology CHELSA data for variable 'bio11' in reference period 1981-2010-----\n",
      "Complete\n",
      "-----Retrieving Reference Climatology CHELSA data for variable 'bio12' in reference period 1981-2010-----\n",
      "Complete\n",
      "-----Retrieving Reference Climatology CHELSA data for variable 'bio13' in reference period 1981-2010-----\n",
      "Complete\n",
      "-----Retrieving Reference Climatology CHELSA data for variable 'bio14' in reference period 1981-2010-----\n",
      "Complete\n",
      "-----Retrieving Reference Climatology CHELSA data for variable 'bio15' in reference period 1981-2010-----\n",
      "Complete\n",
      "-----Retrieving Reference Climatology CHELSA data for variable 'bio16' in reference period 1981-2010-----\n",
      "Complete\n",
      "-----Retrieving Reference Climatology CHELSA data for variable 'bio17' in reference period 1981-2010-----\n",
      "Complete\n",
      "-----Retrieving Reference Climatology CHELSA data for variable 'bio18' in reference period 1981-2010-----\n",
      "Complete\n",
      "-----Retrieving Reference Climatology CHELSA data for variable 'bio19' in reference period 1981-2010-----\n",
      "Complete\n",
      "-----Retrieving Reference Climatology CHELSA data for variable 'bio1' in reference period 1981-2010-----\n",
      "Complete\n",
      "-----Retrieving Reference Climatology CHELSA data for variable 'bio2' in reference period 1981-2010-----\n",
      "Complete\n",
      "-----Retrieving Reference Climatology CHELSA data for variable 'bio3' in reference period 1981-2010-----\n",
      "Complete\n",
      "-----Retrieving Reference Climatology CHELSA data for variable 'bio4' in reference period 1981-2010-----\n",
      "Complete\n",
      "-----Retrieving Reference Climatology CHELSA data for variable 'bio5' in reference period 1981-2010-----\n",
      "Complete\n",
      "-----Retrieving Reference Climatology CHELSA data for variable 'bio6' in reference period 1981-2010-----\n",
      "Complete\n",
      "-----Retrieving Reference Climatology CHELSA data for variable 'bio7' in reference period 1981-2010-----\n",
      "Complete\n",
      "-----Retrieving Reference Climatology CHELSA data for variable 'bio8' in reference period 1981-2010-----\n",
      "Complete\n",
      "-----Retrieving Reference Climatology CHELSA data for variable 'bio9' in reference period 1981-2010-----\n",
      "Complete\n",
      "-----Retrieving Reference Climatology CHELSA data for variable 'clt_max' in reference period 1981-2010-----\n",
      "Complete\n",
      "-----Retrieving Reference Climatology CHELSA data for variable 'clt_mean' in reference period 1981-2010-----\n",
      "Complete\n",
      "-----Retrieving Reference Climatology CHELSA data for variable 'clt_min' in reference period 1981-2010-----\n",
      "Complete\n",
      "-----Retrieving Reference Climatology CHELSA data for variable 'clt_range' in reference period 1981-2010-----\n",
      "Complete\n",
      "-----Retrieving Reference Climatology CHELSA data for variable 'cmi_max' in reference period 1981-2010-----\n",
      "Complete\n",
      "-----Retrieving Reference Climatology CHELSA data for variable 'cmi_mean' in reference period 1981-2010-----\n",
      "Complete\n",
      "-----Retrieving Reference Climatology CHELSA data for variable 'cmi_min' in reference period 1981-2010-----\n",
      "Complete\n",
      "-----Retrieving Reference Climatology CHELSA data for variable 'cmi_range' in reference period 1981-2010-----\n",
      "Complete\n",
      "-----Retrieving Reference Climatology CHELSA data for variable 'fcf' in reference period 1981-2010-----\n",
      "Complete\n",
      "-----Retrieving Reference Climatology CHELSA data for variable 'fgd' in reference period 1981-2010-----\n",
      "Complete\n",
      "-----Retrieving Reference Climatology CHELSA data for variable 'gdd0' in reference period 1981-2010-----\n",
      "Complete\n",
      "-----Retrieving Reference Climatology CHELSA data for variable 'gdd10' in reference period 1981-2010-----\n",
      "Complete\n",
      "-----Retrieving Reference Climatology CHELSA data for variable 'gdd5' in reference period 1981-2010-----\n",
      "Complete\n",
      "-----Retrieving Reference Climatology CHELSA data for variable 'gddlgd0' in reference period 1981-2010-----\n",
      "Complete\n",
      "-----Retrieving Reference Climatology CHELSA data for variable 'gddlgd10' in reference period 1981-2010-----\n",
      "Complete\n",
      "-----Retrieving Reference Climatology CHELSA data for variable 'gddlgd5' in reference period 1981-2010-----\n",
      "Complete\n",
      "-----Retrieving Reference Climatology CHELSA data for variable 'gdgfgd0' in reference period 1981-2010-----\n",
      "Complete\n",
      "-----Retrieving Reference Climatology CHELSA data for variable 'gdgfgd10' in reference period 1981-2010-----\n",
      "Complete\n",
      "-----Retrieving Reference Climatology CHELSA data for variable 'gdgfgd5' in reference period 1981-2010-----\n",
      "Complete\n",
      "-----Retrieving Reference Climatology CHELSA data for variable 'gsl' in reference period 1981-2010-----\n",
      "Complete\n",
      "-----Retrieving Reference Climatology CHELSA data for variable 'gsp' in reference period 1981-2010-----\n",
      "Complete\n",
      "-----Retrieving Reference Climatology CHELSA data for variable 'gst' in reference period 1981-2010-----\n",
      "Complete\n",
      "-----Retrieving Reference Climatology CHELSA data for variable 'hurs_max' in reference period 1981-2010-----\n",
      "Complete\n",
      "-----Retrieving Reference Climatology CHELSA data for variable 'hurs_mean' in reference period 1981-2010-----\n",
      "Complete\n",
      "-----Retrieving Reference Climatology CHELSA data for variable 'hurs_min' in reference period 1981-2010-----\n",
      "Complete\n",
      "-----Retrieving Reference Climatology CHELSA data for variable 'hurs_range' in reference period 1981-2010-----\n",
      "Complete\n",
      "-----Retrieving Reference Climatology CHELSA data for variable 'kg0' in reference period 1981-2010-----\n",
      "Complete\n",
      "-----Retrieving Reference Climatology CHELSA data for variable 'kg1' in reference period 1981-2010-----\n",
      "Complete\n",
      "-----Retrieving Reference Climatology CHELSA data for variable 'kg2' in reference period 1981-2010-----\n",
      "Complete\n",
      "-----Retrieving Reference Climatology CHELSA data for variable 'kg3' in reference period 1981-2010-----\n",
      "Complete\n",
      "-----Retrieving Reference Climatology CHELSA data for variable 'kg4' in reference period 1981-2010-----\n",
      "Complete\n",
      "-----Retrieving Reference Climatology CHELSA data for variable 'kg5' in reference period 1981-2010-----\n",
      "Complete\n",
      "-----Retrieving Reference Climatology CHELSA data for variable 'lgd' in reference period 1981-2010-----\n",
      "Complete\n",
      "-----Retrieving Reference Climatology CHELSA data for variable 'ngd0' in reference period 1981-2010-----\n",
      "Complete\n",
      "-----Retrieving Reference Climatology CHELSA data for variable 'ngd10' in reference period 1981-2010-----\n",
      "Complete\n",
      "-----Retrieving Reference Climatology CHELSA data for variable 'ngd5' in reference period 1981-2010-----\n",
      "Complete\n",
      "-----Retrieving Reference Climatology CHELSA data for variable 'npp' in reference period 1981-2010-----\n",
      "Complete\n",
      "-----Retrieving Reference Climatology CHELSA data for variable 'pet_penman_max' in reference period 1981-2010-----\n",
      "Complete\n",
      "-----Retrieving Reference Climatology CHELSA data for variable 'pet_penman_mean' in reference period 1981-2010-----\n",
      "Complete\n",
      "-----Retrieving Reference Climatology CHELSA data for variable 'pet_penman_min' in reference period 1981-2010-----\n",
      "Complete\n",
      "-----Retrieving Reference Climatology CHELSA data for variable 'pet_penman_range' in reference period 1981-2010-----\n",
      "Complete\n",
      "-----Retrieving Reference Climatology CHELSA data for variable 'rsds_max' in reference period 1981-2010-----\n",
      "Complete\n",
      "-----Retrieving Reference Climatology CHELSA data for variable 'rsds_min' in reference period 1981-2010-----\n",
      "Complete\n",
      "-----Retrieving Reference Climatology CHELSA data for variable 'rsds_mean' in reference period 1981-2010-----\n",
      "Complete\n",
      "-----Retrieving Reference Climatology CHELSA data for variable 'rsds_range' in reference period 1981-2010-----\n",
      "Complete\n",
      "-----Retrieving Reference Climatology CHELSA data for variable 'scd' in reference period 1981-2010-----\n",
      "Complete\n",
      "-----Retrieving Reference Climatology CHELSA data for variable 'sfcWind_max' in reference period 1981-2010-----\n",
      "Complete\n",
      "-----Retrieving Reference Climatology CHELSA data for variable 'sfcWind_mean' in reference period 1981-2010-----\n",
      "Complete\n",
      "-----Retrieving Reference Climatology CHELSA data for variable 'sfcWind_min' in reference period 1981-2010-----\n",
      "Complete\n",
      "-----Retrieving Reference Climatology CHELSA data for variable 'sfcWind_range' in reference period 1981-2010-----\n",
      "Complete\n",
      "-----Retrieving Reference Climatology CHELSA data for variable 'swb' in reference period 1981-2010-----\n",
      "Complete\n",
      "-----Retrieving Reference Climatology CHELSA data for variable 'swe' in reference period 1981-2010-----\n",
      "Complete\n",
      "-----Retrieving Reference Climatology CHELSA data for variable 'vpd_max' in reference period 1981-2010-----\n",
      "Complete\n",
      "-----Retrieving Reference Climatology CHELSA data for variable 'vpd_mean' in reference period 1981-2010-----\n",
      "Complete\n",
      "-----Retrieving Reference Climatology CHELSA data for variable 'vpd_min' in reference period 1981-2010-----\n",
      "Complete\n",
      "-----Retrieving Reference Climatology CHELSA data for variable 'vpd_range' in reference period 1981-2010-----\n",
      "Complete\n"
     ]
    }
   ],
   "source": [
    "test_layer_ref_p = test_chelsa_cube.generate_chelsa_ref_period_layer(\"prototype_param.yaml\")"
   ]
  },
  {
   "cell_type": "code",
   "execution_count": 20,
   "id": "96576099-8426-4556-a294-32c849e91786",
   "metadata": {
    "scrolled": true
   },
   "outputs": [
    {
     "name": "stdout",
     "output_type": "stream",
     "text": [
      "-----Retrieving monthly Reference Climatology CHELSA data for variable 'clt' in reference period 1981-2010-----\n"
     ]
    },
    {
     "name": "stderr",
     "output_type": "stream",
     "text": [
      "Processing: 100%|████████████████████████████████████████████████████████████████████████████████████████████████████████████████| 12/12 [00:01<00:00,  7.06item/s]\n"
     ]
    },
    {
     "name": "stdout",
     "output_type": "stream",
     "text": [
      "-----Retrieving monthly Reference Climatology CHELSA data for variable 'cmi' in reference period 1981-2010-----\n"
     ]
    },
    {
     "name": "stderr",
     "output_type": "stream",
     "text": [
      "Processing: 100%|████████████████████████████████████████████████████████████████████████████████████████████████████████████████| 12/12 [00:01<00:00,  7.34item/s]\n"
     ]
    },
    {
     "name": "stdout",
     "output_type": "stream",
     "text": [
      "-----Retrieving monthly Reference Climatology CHELSA data for variable 'hurs' in reference period 1981-2010-----\n"
     ]
    },
    {
     "name": "stderr",
     "output_type": "stream",
     "text": [
      "Processing: 100%|████████████████████████████████████████████████████████████████████████████████████████████████████████████████| 12/12 [00:02<00:00,  5.59item/s]\n"
     ]
    },
    {
     "name": "stdout",
     "output_type": "stream",
     "text": [
      "-----Retrieving monthly Reference Climatology CHELSA data for variable 'pet' in reference period 1981-2010-----\n"
     ]
    },
    {
     "name": "stderr",
     "output_type": "stream",
     "text": [
      "Processing: 100%|████████████████████████████████████████████████████████████████████████████████████████████████████████████████| 12/12 [00:01<00:00,  6.28item/s]\n"
     ]
    },
    {
     "name": "stdout",
     "output_type": "stream",
     "text": [
      "-----Retrieving monthly Reference Climatology CHELSA data for variable 'pr' in reference period 1981-2010-----\n"
     ]
    },
    {
     "name": "stderr",
     "output_type": "stream",
     "text": [
      "Processing: 100%|████████████████████████████████████████████████████████████████████████████████████████████████████████████████| 12/12 [00:02<00:00,  4.56item/s]\n"
     ]
    },
    {
     "name": "stdout",
     "output_type": "stream",
     "text": [
      "-----Retrieving monthly Reference Climatology CHELSA data for variable 'rsds' in reference period 1981-2010-----\n"
     ]
    },
    {
     "name": "stderr",
     "output_type": "stream",
     "text": [
      "Processing: 100%|████████████████████████████████████████████████████████████████████████████████████████████████████████████████| 12/12 [00:01<00:00,  6.33item/s]\n"
     ]
    },
    {
     "name": "stdout",
     "output_type": "stream",
     "text": [
      "-----Retrieving monthly Reference Climatology CHELSA data for variable 'sfcWind' in reference period 1981-2010-----\n"
     ]
    },
    {
     "name": "stderr",
     "output_type": "stream",
     "text": [
      "Processing: 100%|████████████████████████████████████████████████████████████████████████████████████████████████████████████████| 12/12 [00:02<00:00,  5.95item/s]\n"
     ]
    },
    {
     "name": "stdout",
     "output_type": "stream",
     "text": [
      "-----Retrieving monthly Reference Climatology CHELSA data for variable 'tas' in reference period 1981-2010-----\n"
     ]
    },
    {
     "name": "stderr",
     "output_type": "stream",
     "text": [
      "Processing: 100%|████████████████████████████████████████████████████████████████████████████████████████████████████████████████| 12/12 [00:02<00:00,  4.17item/s]\n"
     ]
    },
    {
     "name": "stdout",
     "output_type": "stream",
     "text": [
      "-----Retrieving monthly Reference Climatology CHELSA data for variable 'tasmax' in reference period 1981-2010-----\n"
     ]
    },
    {
     "name": "stderr",
     "output_type": "stream",
     "text": [
      "Processing: 100%|████████████████████████████████████████████████████████████████████████████████████████████████████████████████| 12/12 [00:01<00:00,  6.16item/s]\n"
     ]
    },
    {
     "name": "stdout",
     "output_type": "stream",
     "text": [
      "-----Retrieving monthly Reference Climatology CHELSA data for variable 'tasmin' in reference period 1981-2010-----\n"
     ]
    },
    {
     "name": "stderr",
     "output_type": "stream",
     "text": [
      "Processing: 100%|████████████████████████████████████████████████████████████████████████████████████████████████████████████████| 12/12 [00:02<00:00,  4.98item/s]\n"
     ]
    },
    {
     "name": "stdout",
     "output_type": "stream",
     "text": [
      "-----Retrieving monthly Reference Climatology CHELSA data for variable 'vpd' in reference period 1981-2010-----\n"
     ]
    },
    {
     "name": "stderr",
     "output_type": "stream",
     "text": [
      "Processing: 100%|████████████████████████████████████████████████████████████████████████████████████████████████████████████████| 12/12 [00:01<00:00,  6.87item/s]\n"
     ]
    }
   ],
   "source": [
    "test_layer_ref_m = test_chelsa_cube.generate_chelsa_ref_month_layer(\"prototype_param.yaml\")"
   ]
  },
  {
   "cell_type": "code",
   "execution_count": 26,
   "id": "c837e616-4202-4b59-b7dd-cc6c2484a6be",
   "metadata": {},
   "outputs": [
    {
     "name": "stdout",
     "output_type": "stream",
     "text": [
      "-----Retrieving Simulation (period) CHELSA data for variable 'bio10'-----\n"
     ]
    },
    {
     "name": "stderr",
     "output_type": "stream",
     "text": [
      "Processing: 100%|████████████████████████████████████████████████████████████████████████████████████████████████████████████████| 45/45 [00:05<00:00,  7.52item/s]\n"
     ]
    },
    {
     "name": "stdout",
     "output_type": "stream",
     "text": [
      "-----Retrieving Simulation (period) CHELSA data for variable 'bio11'-----\n"
     ]
    },
    {
     "name": "stderr",
     "output_type": "stream",
     "text": [
      "Processing: 100%|████████████████████████████████████████████████████████████████████████████████████████████████████████████████| 45/45 [00:05<00:00,  7.56item/s]\n"
     ]
    },
    {
     "name": "stdout",
     "output_type": "stream",
     "text": [
      "-----Retrieving Simulation (period) CHELSA data for variable 'bio12'-----\n"
     ]
    },
    {
     "name": "stderr",
     "output_type": "stream",
     "text": [
      "Processing: 100%|████████████████████████████████████████████████████████████████████████████████████████████████████████████████| 45/45 [00:08<00:00,  5.60item/s]\n"
     ]
    },
    {
     "name": "stdout",
     "output_type": "stream",
     "text": [
      "-----Retrieving Simulation (period) CHELSA data for variable 'bio13'-----\n"
     ]
    },
    {
     "name": "stderr",
     "output_type": "stream",
     "text": [
      "Processing: 100%|████████████████████████████████████████████████████████████████████████████████████████████████████████████████| 45/45 [00:06<00:00,  6.99item/s]\n"
     ]
    },
    {
     "name": "stdout",
     "output_type": "stream",
     "text": [
      "-----Retrieving Simulation (period) CHELSA data for variable 'bio14'-----\n"
     ]
    },
    {
     "name": "stderr",
     "output_type": "stream",
     "text": [
      "Processing: 100%|████████████████████████████████████████████████████████████████████████████████████████████████████████████████| 45/45 [00:05<00:00,  7.76item/s]\n"
     ]
    },
    {
     "name": "stdout",
     "output_type": "stream",
     "text": [
      "-----Retrieving Simulation (period) CHELSA data for variable 'bio15'-----\n"
     ]
    },
    {
     "name": "stderr",
     "output_type": "stream",
     "text": [
      "Processing: 100%|████████████████████████████████████████████████████████████████████████████████████████████████████████████████| 45/45 [00:05<00:00,  7.57item/s]\n"
     ]
    },
    {
     "name": "stdout",
     "output_type": "stream",
     "text": [
      "-----Retrieving Simulation (period) CHELSA data for variable 'bio16'-----\n"
     ]
    },
    {
     "name": "stderr",
     "output_type": "stream",
     "text": [
      "Processing: 100%|████████████████████████████████████████████████████████████████████████████████████████████████████████████████| 45/45 [00:06<00:00,  6.48item/s]\n"
     ]
    },
    {
     "name": "stdout",
     "output_type": "stream",
     "text": [
      "-----Retrieving Simulation (period) CHELSA data for variable 'bio17'-----\n"
     ]
    },
    {
     "name": "stderr",
     "output_type": "stream",
     "text": [
      "Processing: 100%|████████████████████████████████████████████████████████████████████████████████████████████████████████████████| 45/45 [00:06<00:00,  6.64item/s]\n"
     ]
    },
    {
     "name": "stdout",
     "output_type": "stream",
     "text": [
      "-----Retrieving Simulation (period) CHELSA data for variable 'bio18'-----\n"
     ]
    },
    {
     "name": "stderr",
     "output_type": "stream",
     "text": [
      "Processing: 100%|████████████████████████████████████████████████████████████████████████████████████████████████████████████████| 45/45 [00:06<00:00,  6.44item/s]\n"
     ]
    },
    {
     "name": "stdout",
     "output_type": "stream",
     "text": [
      "-----Retrieving Simulation (period) CHELSA data for variable 'bio19'-----\n"
     ]
    },
    {
     "name": "stderr",
     "output_type": "stream",
     "text": [
      "Processing: 100%|████████████████████████████████████████████████████████████████████████████████████████████████████████████████| 45/45 [00:06<00:00,  7.06item/s]\n"
     ]
    },
    {
     "name": "stdout",
     "output_type": "stream",
     "text": [
      "-----Retrieving Simulation (period) CHELSA data for variable 'bio1'-----\n"
     ]
    },
    {
     "name": "stderr",
     "output_type": "stream",
     "text": [
      "Processing: 100%|████████████████████████████████████████████████████████████████████████████████████████████████████████████████| 45/45 [00:05<00:00,  7.58item/s]\n"
     ]
    },
    {
     "name": "stdout",
     "output_type": "stream",
     "text": [
      "-----Retrieving Simulation (period) CHELSA data for variable 'bio2'-----\n"
     ]
    },
    {
     "name": "stderr",
     "output_type": "stream",
     "text": [
      "Processing: 100%|████████████████████████████████████████████████████████████████████████████████████████████████████████████████| 45/45 [00:05<00:00,  7.89item/s]\n"
     ]
    },
    {
     "name": "stdout",
     "output_type": "stream",
     "text": [
      "-----Retrieving Simulation (period) CHELSA data for variable 'bio3'-----\n"
     ]
    },
    {
     "name": "stderr",
     "output_type": "stream",
     "text": [
      "Processing: 100%|████████████████████████████████████████████████████████████████████████████████████████████████████████████████| 45/45 [00:08<00:00,  5.25item/s]\n"
     ]
    },
    {
     "name": "stdout",
     "output_type": "stream",
     "text": [
      "-----Retrieving Simulation (period) CHELSA data for variable 'bio4'-----\n"
     ]
    },
    {
     "name": "stderr",
     "output_type": "stream",
     "text": [
      "Processing: 100%|████████████████████████████████████████████████████████████████████████████████████████████████████████████████| 45/45 [00:06<00:00,  6.47item/s]\n"
     ]
    },
    {
     "name": "stdout",
     "output_type": "stream",
     "text": [
      "-----Retrieving Simulation (period) CHELSA data for variable 'bio5'-----\n"
     ]
    },
    {
     "name": "stderr",
     "output_type": "stream",
     "text": [
      "Processing: 100%|████████████████████████████████████████████████████████████████████████████████████████████████████████████████| 45/45 [00:06<00:00,  7.42item/s]\n"
     ]
    },
    {
     "name": "stdout",
     "output_type": "stream",
     "text": [
      "-----Retrieving Simulation (period) CHELSA data for variable 'bio6'-----\n"
     ]
    },
    {
     "name": "stderr",
     "output_type": "stream",
     "text": [
      "Processing: 100%|████████████████████████████████████████████████████████████████████████████████████████████████████████████████| 45/45 [00:05<00:00,  7.64item/s]\n"
     ]
    },
    {
     "name": "stdout",
     "output_type": "stream",
     "text": [
      "-----Retrieving Simulation (period) CHELSA data for variable 'bio7'-----\n"
     ]
    },
    {
     "name": "stderr",
     "output_type": "stream",
     "text": [
      "Processing: 100%|████████████████████████████████████████████████████████████████████████████████████████████████████████████████| 45/45 [00:05<00:00,  7.58item/s]\n"
     ]
    },
    {
     "name": "stdout",
     "output_type": "stream",
     "text": [
      "-----Retrieving Simulation (period) CHELSA data for variable 'bio8'-----\n"
     ]
    },
    {
     "name": "stderr",
     "output_type": "stream",
     "text": [
      "Processing: 100%|████████████████████████████████████████████████████████████████████████████████████████████████████████████████| 45/45 [00:06<00:00,  7.36item/s]\n"
     ]
    },
    {
     "name": "stdout",
     "output_type": "stream",
     "text": [
      "-----Retrieving Simulation (period) CHELSA data for variable 'bio9'-----\n"
     ]
    },
    {
     "name": "stderr",
     "output_type": "stream",
     "text": [
      "Processing: 100%|████████████████████████████████████████████████████████████████████████████████████████████████████████████████| 45/45 [00:05<00:00,  7.57item/s]\n"
     ]
    },
    {
     "name": "stdout",
     "output_type": "stream",
     "text": [
      "-----Retrieving Simulation (period) CHELSA data for variable 'fcf'-----\n"
     ]
    },
    {
     "name": "stderr",
     "output_type": "stream",
     "text": [
      "Processing: 100%|████████████████████████████████████████████████████████████████████████████████████████████████████████████████| 45/45 [00:05<00:00,  7.97item/s]\n"
     ]
    },
    {
     "name": "stdout",
     "output_type": "stream",
     "text": [
      "-----Retrieving Simulation (period) CHELSA data for variable 'fgd'-----\n"
     ]
    },
    {
     "name": "stderr",
     "output_type": "stream",
     "text": [
      "Processing: 100%|████████████████████████████████████████████████████████████████████████████████████████████████████████████████| 45/45 [00:05<00:00,  7.61item/s]\n"
     ]
    },
    {
     "name": "stdout",
     "output_type": "stream",
     "text": [
      "-----Retrieving Simulation (period) CHELSA data for variable 'gdd0'-----\n"
     ]
    },
    {
     "name": "stderr",
     "output_type": "stream",
     "text": [
      "Processing: 100%|████████████████████████████████████████████████████████████████████████████████████████████████████████████████| 45/45 [00:07<00:00,  6.22item/s]\n"
     ]
    },
    {
     "name": "stdout",
     "output_type": "stream",
     "text": [
      "-----Retrieving Simulation (period) CHELSA data for variable 'gdd10'-----\n"
     ]
    },
    {
     "name": "stderr",
     "output_type": "stream",
     "text": [
      "Processing: 100%|████████████████████████████████████████████████████████████████████████████████████████████████████████████████| 45/45 [00:06<00:00,  6.58item/s]\n"
     ]
    },
    {
     "name": "stdout",
     "output_type": "stream",
     "text": [
      "-----Retrieving Simulation (period) CHELSA data for variable 'gdd5'-----\n"
     ]
    },
    {
     "name": "stderr",
     "output_type": "stream",
     "text": [
      "Processing: 100%|████████████████████████████████████████████████████████████████████████████████████████████████████████████████| 45/45 [00:07<00:00,  6.37item/s]\n"
     ]
    },
    {
     "name": "stdout",
     "output_type": "stream",
     "text": [
      "-----Retrieving Simulation (period) CHELSA data for variable 'gddlgd0'-----\n"
     ]
    },
    {
     "name": "stderr",
     "output_type": "stream",
     "text": [
      "Processing: 100%|████████████████████████████████████████████████████████████████████████████████████████████████████████████████| 45/45 [00:05<00:00,  7.80item/s]\n"
     ]
    },
    {
     "name": "stdout",
     "output_type": "stream",
     "text": [
      "-----Retrieving Simulation (period) CHELSA data for variable 'gddlgd10'-----\n"
     ]
    },
    {
     "name": "stderr",
     "output_type": "stream",
     "text": [
      "Processing: 100%|████████████████████████████████████████████████████████████████████████████████████████████████████████████████| 45/45 [00:06<00:00,  7.36item/s]\n"
     ]
    },
    {
     "name": "stdout",
     "output_type": "stream",
     "text": [
      "-----Retrieving Simulation (period) CHELSA data for variable 'gddlgd5'-----\n"
     ]
    },
    {
     "name": "stderr",
     "output_type": "stream",
     "text": [
      "Processing: 100%|████████████████████████████████████████████████████████████████████████████████████████████████████████████████| 45/45 [00:06<00:00,  7.25item/s]\n"
     ]
    },
    {
     "name": "stdout",
     "output_type": "stream",
     "text": [
      "-----Retrieving Simulation (period) CHELSA data for variable 'gdgfgd0'-----\n"
     ]
    },
    {
     "name": "stderr",
     "output_type": "stream",
     "text": [
      "Processing: 100%|████████████████████████████████████████████████████████████████████████████████████████████████████████████████| 45/45 [00:06<00:00,  7.22item/s]\n"
     ]
    },
    {
     "name": "stdout",
     "output_type": "stream",
     "text": [
      "-----Retrieving Simulation (period) CHELSA data for variable 'gdgfgd10'-----\n"
     ]
    },
    {
     "name": "stderr",
     "output_type": "stream",
     "text": [
      "Processing: 100%|████████████████████████████████████████████████████████████████████████████████████████████████████████████████| 45/45 [00:06<00:00,  6.86item/s]\n"
     ]
    },
    {
     "name": "stdout",
     "output_type": "stream",
     "text": [
      "-----Retrieving Simulation (period) CHELSA data for variable 'gdgfgd5'-----\n"
     ]
    },
    {
     "name": "stderr",
     "output_type": "stream",
     "text": [
      "Processing: 100%|████████████████████████████████████████████████████████████████████████████████████████████████████████████████| 45/45 [00:05<00:00,  7.89item/s]\n"
     ]
    },
    {
     "name": "stdout",
     "output_type": "stream",
     "text": [
      "-----Retrieving Simulation (period) CHELSA data for variable 'gsl'-----\n"
     ]
    },
    {
     "name": "stderr",
     "output_type": "stream",
     "text": [
      "Processing: 100%|████████████████████████████████████████████████████████████████████████████████████████████████████████████████| 45/45 [00:06<00:00,  7.35item/s]\n"
     ]
    },
    {
     "name": "stdout",
     "output_type": "stream",
     "text": [
      "-----Retrieving Simulation (period) CHELSA data for variable 'gsp'-----\n"
     ]
    },
    {
     "name": "stderr",
     "output_type": "stream",
     "text": [
      "Processing: 100%|████████████████████████████████████████████████████████████████████████████████████████████████████████████████| 45/45 [00:07<00:00,  5.79item/s]\n"
     ]
    },
    {
     "name": "stdout",
     "output_type": "stream",
     "text": [
      "-----Retrieving Simulation (period) CHELSA data for variable 'gst'-----\n"
     ]
    },
    {
     "name": "stderr",
     "output_type": "stream",
     "text": [
      "Processing: 100%|████████████████████████████████████████████████████████████████████████████████████████████████████████████████| 45/45 [00:05<00:00,  7.53item/s]\n"
     ]
    },
    {
     "name": "stdout",
     "output_type": "stream",
     "text": [
      "-----Retrieving Simulation (period) CHELSA data for variable 'kg0'-----\n"
     ]
    },
    {
     "name": "stderr",
     "output_type": "stream",
     "text": [
      "Processing: 100%|████████████████████████████████████████████████████████████████████████████████████████████████████████████████| 45/45 [00:05<00:00,  8.30item/s]\n"
     ]
    },
    {
     "name": "stdout",
     "output_type": "stream",
     "text": [
      "-----Retrieving Simulation (period) CHELSA data for variable 'kg1'-----\n"
     ]
    },
    {
     "name": "stderr",
     "output_type": "stream",
     "text": [
      "Processing: 100%|████████████████████████████████████████████████████████████████████████████████████████████████████████████████| 45/45 [00:05<00:00,  8.12item/s]\n"
     ]
    },
    {
     "name": "stdout",
     "output_type": "stream",
     "text": [
      "-----Retrieving Simulation (period) CHELSA data for variable 'kg2'-----\n"
     ]
    },
    {
     "name": "stderr",
     "output_type": "stream",
     "text": [
      "Processing: 100%|████████████████████████████████████████████████████████████████████████████████████████████████████████████████| 45/45 [00:05<00:00,  8.17item/s]\n"
     ]
    },
    {
     "name": "stdout",
     "output_type": "stream",
     "text": [
      "-----Retrieving Simulation (period) CHELSA data for variable 'kg3'-----\n"
     ]
    },
    {
     "name": "stderr",
     "output_type": "stream",
     "text": [
      "Processing: 100%|████████████████████████████████████████████████████████████████████████████████████████████████████████████████| 45/45 [00:05<00:00,  7.88item/s]\n"
     ]
    },
    {
     "name": "stdout",
     "output_type": "stream",
     "text": [
      "-----Retrieving Simulation (period) CHELSA data for variable 'kg4'-----\n"
     ]
    },
    {
     "name": "stderr",
     "output_type": "stream",
     "text": [
      "Processing: 100%|████████████████████████████████████████████████████████████████████████████████████████████████████████████████| 45/45 [00:05<00:00,  8.13item/s]\n"
     ]
    },
    {
     "name": "stdout",
     "output_type": "stream",
     "text": [
      "-----Retrieving Simulation (period) CHELSA data for variable 'kg5'-----\n"
     ]
    },
    {
     "name": "stderr",
     "output_type": "stream",
     "text": [
      "Processing: 100%|████████████████████████████████████████████████████████████████████████████████████████████████████████████████| 45/45 [00:05<00:00,  8.26item/s]\n"
     ]
    },
    {
     "name": "stdout",
     "output_type": "stream",
     "text": [
      "-----Retrieving Simulation (period) CHELSA data for variable 'lgd'-----\n"
     ]
    },
    {
     "name": "stderr",
     "output_type": "stream",
     "text": [
      "Processing: 100%|████████████████████████████████████████████████████████████████████████████████████████████████████████████████| 45/45 [00:05<00:00,  7.86item/s]\n"
     ]
    },
    {
     "name": "stdout",
     "output_type": "stream",
     "text": [
      "-----Retrieving Simulation (period) CHELSA data for variable 'ngd0'-----\n"
     ]
    },
    {
     "name": "stderr",
     "output_type": "stream",
     "text": [
      "Processing: 100%|████████████████████████████████████████████████████████████████████████████████████████████████████████████████| 45/45 [00:05<00:00,  7.61item/s]\n"
     ]
    },
    {
     "name": "stdout",
     "output_type": "stream",
     "text": [
      "-----Retrieving Simulation (period) CHELSA data for variable 'ngd10'-----\n"
     ]
    },
    {
     "name": "stderr",
     "output_type": "stream",
     "text": [
      "Processing: 100%|████████████████████████████████████████████████████████████████████████████████████████████████████████████████| 45/45 [00:05<00:00,  7.68item/s]\n"
     ]
    },
    {
     "name": "stdout",
     "output_type": "stream",
     "text": [
      "-----Retrieving Simulation (period) CHELSA data for variable 'ngd5'-----\n"
     ]
    },
    {
     "name": "stderr",
     "output_type": "stream",
     "text": [
      "Processing: 100%|████████████████████████████████████████████████████████████████████████████████████████████████████████████████| 45/45 [00:05<00:00,  7.64item/s]\n"
     ]
    },
    {
     "name": "stdout",
     "output_type": "stream",
     "text": [
      "-----Retrieving Simulation (period) CHELSA data for variable 'npp'-----\n"
     ]
    },
    {
     "name": "stderr",
     "output_type": "stream",
     "text": [
      "Processing: 100%|████████████████████████████████████████████████████████████████████████████████████████████████████████████████| 45/45 [00:06<00:00,  6.63item/s]\n"
     ]
    },
    {
     "name": "stdout",
     "output_type": "stream",
     "text": [
      "-----Retrieving Simulation (period) CHELSA data for variable 'scd'-----\n"
     ]
    },
    {
     "name": "stderr",
     "output_type": "stream",
     "text": [
      "Processing: 100%|████████████████████████████████████████████████████████████████████████████████████████████████████████████████| 45/45 [00:05<00:00,  7.57item/s]\n"
     ]
    },
    {
     "name": "stdout",
     "output_type": "stream",
     "text": [
      "-----Retrieving Simulation (period) CHELSA data for variable 'swe'-----\n"
     ]
    },
    {
     "name": "stderr",
     "output_type": "stream",
     "text": [
      "Processing: 100%|████████████████████████████████████████████████████████████████████████████████████████████████████████████████| 45/45 [00:06<00:00,  6.87item/s]\n"
     ]
    }
   ],
   "source": [
    "test_layer_sim_p = test_chelsa_cube.generate_chelsa_sim_period_layer(\"prototype_param.yaml\")"
   ]
  },
  {
   "cell_type": "code",
   "execution_count": 27,
   "id": "0637d0e2-adb3-4bf5-bd5d-f1bc23e2b625",
   "metadata": {
    "scrolled": true
   },
   "outputs": [
    {
     "name": "stdout",
     "output_type": "stream",
     "text": [
      "-----Retrieving Simulation (monthly) CHELSA data for variable 'pr'-----\n"
     ]
    },
    {
     "name": "stderr",
     "output_type": "stream",
     "text": [
      "Processing: 100%|████████████████████████████████████████████████████████████████████████████████████████████████████████████████| 90/90 [00:17<00:00,  5.05item/s]\n"
     ]
    },
    {
     "name": "stdout",
     "output_type": "stream",
     "text": [
      "-----Retrieving Simulation (monthly) CHELSA data for variable 'tas'-----\n"
     ]
    },
    {
     "name": "stderr",
     "output_type": "stream",
     "text": [
      "Processing: 100%|████████████████████████████████████████████████████████████████████████████████████████████████████████████████| 90/90 [00:17<00:00,  5.27item/s]\n"
     ]
    },
    {
     "name": "stdout",
     "output_type": "stream",
     "text": [
      "-----Retrieving Simulation (monthly) CHELSA data for variable 'tasmax'-----\n"
     ]
    },
    {
     "name": "stderr",
     "output_type": "stream",
     "text": [
      "Processing: 100%|████████████████████████████████████████████████████████████████████████████████████████████████████████████████| 90/90 [00:17<00:00,  5.24item/s]\n"
     ]
    },
    {
     "name": "stdout",
     "output_type": "stream",
     "text": [
      "-----Retrieving Simulation (monthly) CHELSA data for variable 'tasmin'-----\n"
     ]
    },
    {
     "name": "stderr",
     "output_type": "stream",
     "text": [
      "Processing: 100%|████████████████████████████████████████████████████████████████████████████████████████████████████████████████| 90/90 [00:16<00:00,  5.41item/s]\n"
     ]
    }
   ],
   "source": [
    "test_sim_m = test_chelsa_cube.generate_chelsa_sim_month_layer(\"prototype_param.yaml\")"
   ]
  },
  {
   "cell_type": "code",
   "execution_count": 112,
   "id": "bbfcc597-996e-4c5a-8d8d-a6d674fa4ac4",
   "metadata": {},
   "outputs": [],
   "source": [
    "test_ds = xr.Dataset({\"chelsa_month\":test_layer_m, \"chelsa_ref_period\":test_layer_ref_p})"
   ]
  },
  {
   "cell_type": "code",
   "execution_count": 113,
   "id": "a4443a95-4ba0-4d9e-ad0b-558894f9e16a",
   "metadata": {},
   "outputs": [
    {
     "data": {
      "text/html": [
       "<div><svg style=\"position: absolute; width: 0; height: 0; overflow: hidden\">\n",
       "<defs>\n",
       "<symbol id=\"icon-database\" viewBox=\"0 0 32 32\">\n",
       "<path d=\"M16 0c-8.837 0-16 2.239-16 5v4c0 2.761 7.163 5 16 5s16-2.239 16-5v-4c0-2.761-7.163-5-16-5z\"></path>\n",
       "<path d=\"M16 17c-8.837 0-16-2.239-16-5v6c0 2.761 7.163 5 16 5s16-2.239 16-5v-6c0 2.761-7.163 5-16 5z\"></path>\n",
       "<path d=\"M16 26c-8.837 0-16-2.239-16-5v6c0 2.761 7.163 5 16 5s16-2.239 16-5v-6c0 2.761-7.163 5-16 5z\"></path>\n",
       "</symbol>\n",
       "<symbol id=\"icon-file-text2\" viewBox=\"0 0 32 32\">\n",
       "<path d=\"M28.681 7.159c-0.694-0.947-1.662-2.053-2.724-3.116s-2.169-2.030-3.116-2.724c-1.612-1.182-2.393-1.319-2.841-1.319h-15.5c-1.378 0-2.5 1.121-2.5 2.5v27c0 1.378 1.122 2.5 2.5 2.5h23c1.378 0 2.5-1.122 2.5-2.5v-19.5c0-0.448-0.137-1.23-1.319-2.841zM24.543 5.457c0.959 0.959 1.712 1.825 2.268 2.543h-4.811v-4.811c0.718 0.556 1.584 1.309 2.543 2.268zM28 29.5c0 0.271-0.229 0.5-0.5 0.5h-23c-0.271 0-0.5-0.229-0.5-0.5v-27c0-0.271 0.229-0.5 0.5-0.5 0 0 15.499-0 15.5 0v7c0 0.552 0.448 1 1 1h7v19.5z\"></path>\n",
       "<path d=\"M23 26h-14c-0.552 0-1-0.448-1-1s0.448-1 1-1h14c0.552 0 1 0.448 1 1s-0.448 1-1 1z\"></path>\n",
       "<path d=\"M23 22h-14c-0.552 0-1-0.448-1-1s0.448-1 1-1h14c0.552 0 1 0.448 1 1s-0.448 1-1 1z\"></path>\n",
       "<path d=\"M23 18h-14c-0.552 0-1-0.448-1-1s0.448-1 1-1h14c0.552 0 1 0.448 1 1s-0.448 1-1 1z\"></path>\n",
       "</symbol>\n",
       "</defs>\n",
       "</svg>\n",
       "<style>/* CSS stylesheet for displaying xarray objects in jupyterlab.\n",
       " *\n",
       " */\n",
       "\n",
       ":root {\n",
       "  --xr-font-color0: var(--jp-content-font-color0, rgba(0, 0, 0, 1));\n",
       "  --xr-font-color2: var(--jp-content-font-color2, rgba(0, 0, 0, 0.54));\n",
       "  --xr-font-color3: var(--jp-content-font-color3, rgba(0, 0, 0, 0.38));\n",
       "  --xr-border-color: var(--jp-border-color2, #e0e0e0);\n",
       "  --xr-disabled-color: var(--jp-layout-color3, #bdbdbd);\n",
       "  --xr-background-color: var(--jp-layout-color0, white);\n",
       "  --xr-background-color-row-even: var(--jp-layout-color1, white);\n",
       "  --xr-background-color-row-odd: var(--jp-layout-color2, #eeeeee);\n",
       "}\n",
       "\n",
       "html[theme=\"dark\"],\n",
       "html[data-theme=\"dark\"],\n",
       "body[data-theme=\"dark\"],\n",
       "body.vscode-dark {\n",
       "  --xr-font-color0: rgba(255, 255, 255, 1);\n",
       "  --xr-font-color2: rgba(255, 255, 255, 0.54);\n",
       "  --xr-font-color3: rgba(255, 255, 255, 0.38);\n",
       "  --xr-border-color: #1f1f1f;\n",
       "  --xr-disabled-color: #515151;\n",
       "  --xr-background-color: #111111;\n",
       "  --xr-background-color-row-even: #111111;\n",
       "  --xr-background-color-row-odd: #313131;\n",
       "}\n",
       "\n",
       ".xr-wrap {\n",
       "  display: block !important;\n",
       "  min-width: 300px;\n",
       "  max-width: 700px;\n",
       "}\n",
       "\n",
       ".xr-text-repr-fallback {\n",
       "  /* fallback to plain text repr when CSS is not injected (untrusted notebook) */\n",
       "  display: none;\n",
       "}\n",
       "\n",
       ".xr-header {\n",
       "  padding-top: 6px;\n",
       "  padding-bottom: 6px;\n",
       "  margin-bottom: 4px;\n",
       "  border-bottom: solid 1px var(--xr-border-color);\n",
       "}\n",
       "\n",
       ".xr-header > div,\n",
       ".xr-header > ul {\n",
       "  display: inline;\n",
       "  margin-top: 0;\n",
       "  margin-bottom: 0;\n",
       "}\n",
       "\n",
       ".xr-obj-type,\n",
       ".xr-array-name {\n",
       "  margin-left: 2px;\n",
       "  margin-right: 10px;\n",
       "}\n",
       "\n",
       ".xr-obj-type {\n",
       "  color: var(--xr-font-color2);\n",
       "}\n",
       "\n",
       ".xr-sections {\n",
       "  padding-left: 0 !important;\n",
       "  display: grid;\n",
       "  grid-template-columns: 150px auto auto 1fr 0 20px 0 20px;\n",
       "}\n",
       "\n",
       ".xr-section-item {\n",
       "  display: contents;\n",
       "}\n",
       "\n",
       ".xr-section-item input {\n",
       "  display: inline-block;\n",
       "  opacity: 0;\n",
       "  height: 0;\n",
       "}\n",
       "\n",
       ".xr-section-item input + label {\n",
       "  color: var(--xr-disabled-color);\n",
       "}\n",
       "\n",
       ".xr-section-item input:enabled + label {\n",
       "  cursor: pointer;\n",
       "  color: var(--xr-font-color2);\n",
       "}\n",
       "\n",
       ".xr-section-item input:focus + label {\n",
       "  border: 2px solid var(--xr-font-color0);\n",
       "}\n",
       "\n",
       ".xr-section-item input:enabled + label:hover {\n",
       "  color: var(--xr-font-color0);\n",
       "}\n",
       "\n",
       ".xr-section-summary {\n",
       "  grid-column: 1;\n",
       "  color: var(--xr-font-color2);\n",
       "  font-weight: 500;\n",
       "}\n",
       "\n",
       ".xr-section-summary > span {\n",
       "  display: inline-block;\n",
       "  padding-left: 0.5em;\n",
       "}\n",
       "\n",
       ".xr-section-summary-in:disabled + label {\n",
       "  color: var(--xr-font-color2);\n",
       "}\n",
       "\n",
       ".xr-section-summary-in + label:before {\n",
       "  display: inline-block;\n",
       "  content: \"►\";\n",
       "  font-size: 11px;\n",
       "  width: 15px;\n",
       "  text-align: center;\n",
       "}\n",
       "\n",
       ".xr-section-summary-in:disabled + label:before {\n",
       "  color: var(--xr-disabled-color);\n",
       "}\n",
       "\n",
       ".xr-section-summary-in:checked + label:before {\n",
       "  content: \"▼\";\n",
       "}\n",
       "\n",
       ".xr-section-summary-in:checked + label > span {\n",
       "  display: none;\n",
       "}\n",
       "\n",
       ".xr-section-summary,\n",
       ".xr-section-inline-details {\n",
       "  padding-top: 4px;\n",
       "  padding-bottom: 4px;\n",
       "}\n",
       "\n",
       ".xr-section-inline-details {\n",
       "  grid-column: 2 / -1;\n",
       "}\n",
       "\n",
       ".xr-section-details {\n",
       "  display: none;\n",
       "  grid-column: 1 / -1;\n",
       "  margin-bottom: 5px;\n",
       "}\n",
       "\n",
       ".xr-section-summary-in:checked ~ .xr-section-details {\n",
       "  display: contents;\n",
       "}\n",
       "\n",
       ".xr-array-wrap {\n",
       "  grid-column: 1 / -1;\n",
       "  display: grid;\n",
       "  grid-template-columns: 20px auto;\n",
       "}\n",
       "\n",
       ".xr-array-wrap > label {\n",
       "  grid-column: 1;\n",
       "  vertical-align: top;\n",
       "}\n",
       "\n",
       ".xr-preview {\n",
       "  color: var(--xr-font-color3);\n",
       "}\n",
       "\n",
       ".xr-array-preview,\n",
       ".xr-array-data {\n",
       "  padding: 0 5px !important;\n",
       "  grid-column: 2;\n",
       "}\n",
       "\n",
       ".xr-array-data,\n",
       ".xr-array-in:checked ~ .xr-array-preview {\n",
       "  display: none;\n",
       "}\n",
       "\n",
       ".xr-array-in:checked ~ .xr-array-data,\n",
       ".xr-array-preview {\n",
       "  display: inline-block;\n",
       "}\n",
       "\n",
       ".xr-dim-list {\n",
       "  display: inline-block !important;\n",
       "  list-style: none;\n",
       "  padding: 0 !important;\n",
       "  margin: 0;\n",
       "}\n",
       "\n",
       ".xr-dim-list li {\n",
       "  display: inline-block;\n",
       "  padding: 0;\n",
       "  margin: 0;\n",
       "}\n",
       "\n",
       ".xr-dim-list:before {\n",
       "  content: \"(\";\n",
       "}\n",
       "\n",
       ".xr-dim-list:after {\n",
       "  content: \")\";\n",
       "}\n",
       "\n",
       ".xr-dim-list li:not(:last-child):after {\n",
       "  content: \",\";\n",
       "  padding-right: 5px;\n",
       "}\n",
       "\n",
       ".xr-has-index {\n",
       "  font-weight: bold;\n",
       "}\n",
       "\n",
       ".xr-var-list,\n",
       ".xr-var-item {\n",
       "  display: contents;\n",
       "}\n",
       "\n",
       ".xr-var-item > div,\n",
       ".xr-var-item label,\n",
       ".xr-var-item > .xr-var-name span {\n",
       "  background-color: var(--xr-background-color-row-even);\n",
       "  margin-bottom: 0;\n",
       "}\n",
       "\n",
       ".xr-var-item > .xr-var-name:hover span {\n",
       "  padding-right: 5px;\n",
       "}\n",
       "\n",
       ".xr-var-list > li:nth-child(odd) > div,\n",
       ".xr-var-list > li:nth-child(odd) > label,\n",
       ".xr-var-list > li:nth-child(odd) > .xr-var-name span {\n",
       "  background-color: var(--xr-background-color-row-odd);\n",
       "}\n",
       "\n",
       ".xr-var-name {\n",
       "  grid-column: 1;\n",
       "}\n",
       "\n",
       ".xr-var-dims {\n",
       "  grid-column: 2;\n",
       "}\n",
       "\n",
       ".xr-var-dtype {\n",
       "  grid-column: 3;\n",
       "  text-align: right;\n",
       "  color: var(--xr-font-color2);\n",
       "}\n",
       "\n",
       ".xr-var-preview {\n",
       "  grid-column: 4;\n",
       "}\n",
       "\n",
       ".xr-index-preview {\n",
       "  grid-column: 2 / 5;\n",
       "  color: var(--xr-font-color2);\n",
       "}\n",
       "\n",
       ".xr-var-name,\n",
       ".xr-var-dims,\n",
       ".xr-var-dtype,\n",
       ".xr-preview,\n",
       ".xr-attrs dt {\n",
       "  white-space: nowrap;\n",
       "  overflow: hidden;\n",
       "  text-overflow: ellipsis;\n",
       "  padding-right: 10px;\n",
       "}\n",
       "\n",
       ".xr-var-name:hover,\n",
       ".xr-var-dims:hover,\n",
       ".xr-var-dtype:hover,\n",
       ".xr-attrs dt:hover {\n",
       "  overflow: visible;\n",
       "  width: auto;\n",
       "  z-index: 1;\n",
       "}\n",
       "\n",
       ".xr-var-attrs,\n",
       ".xr-var-data,\n",
       ".xr-index-data {\n",
       "  display: none;\n",
       "  background-color: var(--xr-background-color) !important;\n",
       "  padding-bottom: 5px !important;\n",
       "}\n",
       "\n",
       ".xr-var-attrs-in:checked ~ .xr-var-attrs,\n",
       ".xr-var-data-in:checked ~ .xr-var-data,\n",
       ".xr-index-data-in:checked ~ .xr-index-data {\n",
       "  display: block;\n",
       "}\n",
       "\n",
       ".xr-var-data > table {\n",
       "  float: right;\n",
       "}\n",
       "\n",
       ".xr-var-name span,\n",
       ".xr-var-data,\n",
       ".xr-index-name div,\n",
       ".xr-index-data,\n",
       ".xr-attrs {\n",
       "  padding-left: 25px !important;\n",
       "}\n",
       "\n",
       ".xr-attrs,\n",
       ".xr-var-attrs,\n",
       ".xr-var-data,\n",
       ".xr-index-data {\n",
       "  grid-column: 1 / -1;\n",
       "}\n",
       "\n",
       "dl.xr-attrs {\n",
       "  padding: 0;\n",
       "  margin: 0;\n",
       "  display: grid;\n",
       "  grid-template-columns: 125px auto;\n",
       "}\n",
       "\n",
       ".xr-attrs dt,\n",
       ".xr-attrs dd {\n",
       "  padding: 0;\n",
       "  margin: 0;\n",
       "  float: left;\n",
       "  padding-right: 10px;\n",
       "  width: auto;\n",
       "}\n",
       "\n",
       ".xr-attrs dt {\n",
       "  font-weight: normal;\n",
       "  grid-column: 1;\n",
       "}\n",
       "\n",
       ".xr-attrs dt:hover span {\n",
       "  display: inline-block;\n",
       "  background: var(--xr-background-color);\n",
       "  padding-right: 10px;\n",
       "}\n",
       "\n",
       ".xr-attrs dd {\n",
       "  grid-column: 2;\n",
       "  white-space: pre-wrap;\n",
       "  word-break: break-all;\n",
       "}\n",
       "\n",
       ".xr-icon-database,\n",
       ".xr-icon-file-text2,\n",
       ".xr-no-icon {\n",
       "  display: inline-block;\n",
       "  vertical-align: middle;\n",
       "  width: 1em;\n",
       "  height: 1.5em !important;\n",
       "  stroke-width: 0;\n",
       "  stroke: currentColor;\n",
       "  fill: currentColor;\n",
       "}\n",
       "</style><pre class='xr-text-repr-fallback'>&lt;xarray.Dataset&gt; Size: 14MB\n",
       "Dimensions:            (time: 12, lat: 23, long: 69, variable: 87)\n",
       "Coordinates:\n",
       "  * time               (time) datetime64[ns] 96B 1980-01-01 ... 1980-12-01\n",
       "  * lat                (lat) float64 184B 50.87 50.87 50.86 ... 50.71 50.7 50.69\n",
       "  * long               (long) float64 552B 4.176 4.184 4.192 ... 4.734 4.742\n",
       "  * variable           (variable) &lt;U16 6kB &#x27;ai&#x27; &#x27;bio1&#x27; ... &#x27;vpd_min&#x27; &#x27;vpd_range&#x27;\n",
       "Data variables:\n",
       "    chelsa_month       (variable, time, lat, long) float64 13MB nan nan ... nan\n",
       "    chelsa_ref_period  (variable, lat, long) float64 1MB 1.18 ... 5.568e+03</pre><div class='xr-wrap' style='display:none'><div class='xr-header'><div class='xr-obj-type'>xarray.Dataset</div></div><ul class='xr-sections'><li class='xr-section-item'><input id='section-035af103-5fa4-4fea-9466-06317df0f6a5' class='xr-section-summary-in' type='checkbox' disabled ><label for='section-035af103-5fa4-4fea-9466-06317df0f6a5' class='xr-section-summary'  title='Expand/collapse section'>Dimensions:</label><div class='xr-section-inline-details'><ul class='xr-dim-list'><li><span class='xr-has-index'>time</span>: 12</li><li><span class='xr-has-index'>lat</span>: 23</li><li><span class='xr-has-index'>long</span>: 69</li><li><span class='xr-has-index'>variable</span>: 87</li></ul></div><div class='xr-section-details'></div></li><li class='xr-section-item'><input id='section-a87ea651-13ce-45c8-9d3c-468f999cd8ec' class='xr-section-summary-in' type='checkbox'  checked><label for='section-a87ea651-13ce-45c8-9d3c-468f999cd8ec' class='xr-section-summary' >Coordinates: <span>(4)</span></label><div class='xr-section-inline-details'></div><div class='xr-section-details'><ul class='xr-var-list'><li class='xr-var-item'><div class='xr-var-name'><span class='xr-has-index'>time</span></div><div class='xr-var-dims'>(time)</div><div class='xr-var-dtype'>datetime64[ns]</div><div class='xr-var-preview xr-preview'>1980-01-01 ... 1980-12-01</div><input id='attrs-3ddd320c-290c-4014-abaa-39197fa895a9' class='xr-var-attrs-in' type='checkbox' disabled><label for='attrs-3ddd320c-290c-4014-abaa-39197fa895a9' title='Show/Hide attributes'><svg class='icon xr-icon-file-text2'><use xlink:href='#icon-file-text2'></use></svg></label><input id='data-061e3892-733d-4272-948c-cb5d92fb50d9' class='xr-var-data-in' type='checkbox'><label for='data-061e3892-733d-4272-948c-cb5d92fb50d9' title='Show/Hide data repr'><svg class='icon xr-icon-database'><use xlink:href='#icon-database'></use></svg></label><div class='xr-var-attrs'><dl class='xr-attrs'></dl></div><div class='xr-var-data'><pre>array([&#x27;1980-01-01T00:00:00.000000000&#x27;, &#x27;1980-02-01T00:00:00.000000000&#x27;,\n",
       "       &#x27;1980-03-01T00:00:00.000000000&#x27;, &#x27;1980-04-01T00:00:00.000000000&#x27;,\n",
       "       &#x27;1980-05-01T00:00:00.000000000&#x27;, &#x27;1980-06-01T00:00:00.000000000&#x27;,\n",
       "       &#x27;1980-07-01T00:00:00.000000000&#x27;, &#x27;1980-08-01T00:00:00.000000000&#x27;,\n",
       "       &#x27;1980-09-01T00:00:00.000000000&#x27;, &#x27;1980-10-01T00:00:00.000000000&#x27;,\n",
       "       &#x27;1980-11-01T00:00:00.000000000&#x27;, &#x27;1980-12-01T00:00:00.000000000&#x27;],\n",
       "      dtype=&#x27;datetime64[ns]&#x27;)</pre></div></li><li class='xr-var-item'><div class='xr-var-name'><span class='xr-has-index'>lat</span></div><div class='xr-var-dims'>(lat)</div><div class='xr-var-dtype'>float64</div><div class='xr-var-preview xr-preview'>50.87 50.87 50.86 ... 50.7 50.69</div><input id='attrs-7fb8f295-f9bf-4f42-9279-b3e2e470a31c' class='xr-var-attrs-in' type='checkbox' disabled><label for='attrs-7fb8f295-f9bf-4f42-9279-b3e2e470a31c' title='Show/Hide attributes'><svg class='icon xr-icon-file-text2'><use xlink:href='#icon-file-text2'></use></svg></label><input id='data-34adf0df-d297-4a59-936f-e3be3ea53019' class='xr-var-data-in' type='checkbox'><label for='data-34adf0df-d297-4a59-936f-e3be3ea53019' title='Show/Hide data repr'><svg class='icon xr-icon-database'><use xlink:href='#icon-database'></use></svg></label><div class='xr-var-attrs'><dl class='xr-attrs'></dl></div><div class='xr-var-data'><pre>array([50.873744, 50.865411, 50.857078, 50.848744, 50.840411, 50.832078,\n",
       "       50.823744, 50.815411, 50.807078, 50.798744, 50.790411, 50.782078,\n",
       "       50.773744, 50.765411, 50.757078, 50.748744, 50.740411, 50.732078,\n",
       "       50.723744, 50.715411, 50.707078, 50.698744, 50.690411])</pre></div></li><li class='xr-var-item'><div class='xr-var-name'><span class='xr-has-index'>long</span></div><div class='xr-var-dims'>(long)</div><div class='xr-var-dtype'>float64</div><div class='xr-var-preview xr-preview'>4.176 4.184 4.192 ... 4.734 4.742</div><input id='attrs-6bcd4e31-0e43-4e25-a7f9-9f658a568a4c' class='xr-var-attrs-in' type='checkbox' disabled><label for='attrs-6bcd4e31-0e43-4e25-a7f9-9f658a568a4c' title='Show/Hide attributes'><svg class='icon xr-icon-file-text2'><use xlink:href='#icon-file-text2'></use></svg></label><input id='data-7c813796-eca7-4be3-bafe-29db01954064' class='xr-var-data-in' type='checkbox'><label for='data-7c813796-eca7-4be3-bafe-29db01954064' title='Show/Hide data repr'><svg class='icon xr-icon-database'><use xlink:href='#icon-database'></use></svg></label><div class='xr-var-attrs'><dl class='xr-attrs'></dl></div><div class='xr-var-data'><pre>array([4.175538, 4.183871, 4.192204, 4.200538, 4.208871, 4.217204, 4.225538,\n",
       "       4.233871, 4.242204, 4.250538, 4.258871, 4.267204, 4.275538, 4.283871,\n",
       "       4.292204, 4.300538, 4.308871, 4.317204, 4.325538, 4.333871, 4.342204,\n",
       "       4.350538, 4.358871, 4.367204, 4.375538, 4.383871, 4.392204, 4.400538,\n",
       "       4.408871, 4.417204, 4.425538, 4.433871, 4.442204, 4.450538, 4.458871,\n",
       "       4.467204, 4.475538, 4.483871, 4.492204, 4.500538, 4.508871, 4.517204,\n",
       "       4.525538, 4.533871, 4.542204, 4.550538, 4.558871, 4.567204, 4.575538,\n",
       "       4.583871, 4.592204, 4.600538, 4.608871, 4.617204, 4.625538, 4.633871,\n",
       "       4.642204, 4.650538, 4.658871, 4.667204, 4.675538, 4.683871, 4.692204,\n",
       "       4.700538, 4.708871, 4.717204, 4.725538, 4.733871, 4.742204])</pre></div></li><li class='xr-var-item'><div class='xr-var-name'><span class='xr-has-index'>variable</span></div><div class='xr-var-dims'>(variable)</div><div class='xr-var-dtype'>&lt;U16</div><div class='xr-var-preview xr-preview'>&#x27;ai&#x27; &#x27;bio1&#x27; ... &#x27;vpd_range&#x27;</div><input id='attrs-39573d30-f828-4701-a429-c44fc055daa1' class='xr-var-attrs-in' type='checkbox' disabled><label for='attrs-39573d30-f828-4701-a429-c44fc055daa1' title='Show/Hide attributes'><svg class='icon xr-icon-file-text2'><use xlink:href='#icon-file-text2'></use></svg></label><input id='data-2d1d6534-ca8a-41ca-8c4b-674f0a04dff1' class='xr-var-data-in' type='checkbox'><label for='data-2d1d6534-ca8a-41ca-8c4b-674f0a04dff1' title='Show/Hide data repr'><svg class='icon xr-icon-database'><use xlink:href='#icon-database'></use></svg></label><div class='xr-var-attrs'><dl class='xr-attrs'></dl></div><div class='xr-var-data'><pre>array([&#x27;ai&#x27;, &#x27;bio1&#x27;, &#x27;bio10&#x27;, &#x27;bio11&#x27;, &#x27;bio12&#x27;, &#x27;bio13&#x27;, &#x27;bio14&#x27;, &#x27;bio15&#x27;,\n",
       "       &#x27;bio16&#x27;, &#x27;bio17&#x27;, &#x27;bio18&#x27;, &#x27;bio19&#x27;, &#x27;bio2&#x27;, &#x27;bio3&#x27;, &#x27;bio4&#x27;, &#x27;bio5&#x27;,\n",
       "       &#x27;bio6&#x27;, &#x27;bio7&#x27;, &#x27;bio8&#x27;, &#x27;bio9&#x27;, &#x27;clt&#x27;, &#x27;clt_max&#x27;, &#x27;clt_mean&#x27;, &#x27;clt_min&#x27;,\n",
       "       &#x27;clt_range&#x27;, &#x27;cmi&#x27;, &#x27;cmi_max&#x27;, &#x27;cmi_mean&#x27;, &#x27;cmi_min&#x27;, &#x27;cmi_range&#x27;,\n",
       "       &#x27;fcf&#x27;, &#x27;fgd&#x27;, &#x27;gdd0&#x27;, &#x27;gdd10&#x27;, &#x27;gdd5&#x27;, &#x27;gddlgd0&#x27;, &#x27;gddlgd10&#x27;, &#x27;gddlgd5&#x27;,\n",
       "       &#x27;gdgfgd0&#x27;, &#x27;gdgfgd10&#x27;, &#x27;gdgfgd5&#x27;, &#x27;gsl&#x27;, &#x27;gsp&#x27;, &#x27;gst&#x27;, &#x27;hurs&#x27;,\n",
       "       &#x27;hurs_max&#x27;, &#x27;hurs_mean&#x27;, &#x27;hurs_min&#x27;, &#x27;hurs_range&#x27;, &#x27;kg0&#x27;, &#x27;kg1&#x27;, &#x27;kg2&#x27;,\n",
       "       &#x27;kg3&#x27;, &#x27;kg4&#x27;, &#x27;kg5&#x27;, &#x27;lgd&#x27;, &#x27;ngd0&#x27;, &#x27;ngd10&#x27;, &#x27;ngd5&#x27;, &#x27;npp&#x27;, &#x27;pet&#x27;,\n",
       "       &#x27;pet_penman_max&#x27;, &#x27;pet_penman_mean&#x27;, &#x27;pet_penman_min&#x27;,\n",
       "       &#x27;pet_penman_range&#x27;, &#x27;pr&#x27;, &#x27;rsds&#x27;, &#x27;rsds_max&#x27;, &#x27;rsds_mean&#x27;, &#x27;rsds_min&#x27;,\n",
       "       &#x27;rsds_range&#x27;, &#x27;scd&#x27;, &#x27;sfcWind&#x27;, &#x27;sfcWind_max&#x27;, &#x27;sfcWind_mean&#x27;,\n",
       "       &#x27;sfcWind_min&#x27;, &#x27;sfcWind_range&#x27;, &#x27;swb&#x27;, &#x27;swe&#x27;, &#x27;tas&#x27;, &#x27;tasmax&#x27;, &#x27;tasmin&#x27;,\n",
       "       &#x27;vpd&#x27;, &#x27;vpd_max&#x27;, &#x27;vpd_mean&#x27;, &#x27;vpd_min&#x27;, &#x27;vpd_range&#x27;], dtype=&#x27;&lt;U16&#x27;)</pre></div></li></ul></div></li><li class='xr-section-item'><input id='section-a140a2cb-0520-4379-a880-72eaf77c0eff' class='xr-section-summary-in' type='checkbox'  checked><label for='section-a140a2cb-0520-4379-a880-72eaf77c0eff' class='xr-section-summary' >Data variables: <span>(2)</span></label><div class='xr-section-inline-details'></div><div class='xr-section-details'><ul class='xr-var-list'><li class='xr-var-item'><div class='xr-var-name'><span>chelsa_month</span></div><div class='xr-var-dims'>(variable, time, lat, long)</div><div class='xr-var-dtype'>float64</div><div class='xr-var-preview xr-preview'>nan nan nan nan ... nan nan nan nan</div><input id='attrs-08a8f581-b4ef-4686-a1df-6304430aa7a0' class='xr-var-attrs-in' type='checkbox' disabled><label for='attrs-08a8f581-b4ef-4686-a1df-6304430aa7a0' title='Show/Hide attributes'><svg class='icon xr-icon-file-text2'><use xlink:href='#icon-file-text2'></use></svg></label><input id='data-0bb6286a-acf7-4119-8400-c57067f74a6e' class='xr-var-data-in' type='checkbox'><label for='data-0bb6286a-acf7-4119-8400-c57067f74a6e' title='Show/Hide data repr'><svg class='icon xr-icon-database'><use xlink:href='#icon-database'></use></svg></label><div class='xr-var-attrs'><dl class='xr-attrs'></dl></div><div class='xr-var-data'><pre>array([[[[nan, nan, nan, ..., nan, nan, nan],\n",
       "         [nan, nan, nan, ..., nan, nan, nan],\n",
       "         [nan, nan, nan, ..., nan, nan, nan],\n",
       "         ...,\n",
       "         [nan, nan, nan, ..., nan, nan, nan],\n",
       "         [nan, nan, nan, ..., nan, nan, nan],\n",
       "         [nan, nan, nan, ..., nan, nan, nan]],\n",
       "\n",
       "        [[nan, nan, nan, ..., nan, nan, nan],\n",
       "         [nan, nan, nan, ..., nan, nan, nan],\n",
       "         [nan, nan, nan, ..., nan, nan, nan],\n",
       "         ...,\n",
       "         [nan, nan, nan, ..., nan, nan, nan],\n",
       "         [nan, nan, nan, ..., nan, nan, nan],\n",
       "         [nan, nan, nan, ..., nan, nan, nan]],\n",
       "\n",
       "        [[nan, nan, nan, ..., nan, nan, nan],\n",
       "         [nan, nan, nan, ..., nan, nan, nan],\n",
       "         [nan, nan, nan, ..., nan, nan, nan],\n",
       "         ...,\n",
       "...\n",
       "         ...,\n",
       "         [nan, nan, nan, ..., nan, nan, nan],\n",
       "         [nan, nan, nan, ..., nan, nan, nan],\n",
       "         [nan, nan, nan, ..., nan, nan, nan]],\n",
       "\n",
       "        [[nan, nan, nan, ..., nan, nan, nan],\n",
       "         [nan, nan, nan, ..., nan, nan, nan],\n",
       "         [nan, nan, nan, ..., nan, nan, nan],\n",
       "         ...,\n",
       "         [nan, nan, nan, ..., nan, nan, nan],\n",
       "         [nan, nan, nan, ..., nan, nan, nan],\n",
       "         [nan, nan, nan, ..., nan, nan, nan]],\n",
       "\n",
       "        [[nan, nan, nan, ..., nan, nan, nan],\n",
       "         [nan, nan, nan, ..., nan, nan, nan],\n",
       "         [nan, nan, nan, ..., nan, nan, nan],\n",
       "         ...,\n",
       "         [nan, nan, nan, ..., nan, nan, nan],\n",
       "         [nan, nan, nan, ..., nan, nan, nan],\n",
       "         [nan, nan, nan, ..., nan, nan, nan]]]], shape=(87, 12, 23, 69))</pre></div></li><li class='xr-var-item'><div class='xr-var-name'><span>chelsa_ref_period</span></div><div class='xr-var-dims'>(variable, lat, long)</div><div class='xr-var-dtype'>float64</div><div class='xr-var-preview xr-preview'>1.18 1.183 ... 5.585e+03 5.568e+03</div><input id='attrs-d62b6d5e-b296-4371-937e-515797dffb51' class='xr-var-attrs-in' type='checkbox' ><label for='attrs-d62b6d5e-b296-4371-937e-515797dffb51' title='Show/Hide attributes'><svg class='icon xr-icon-file-text2'><use xlink:href='#icon-file-text2'></use></svg></label><input id='data-2248a1c7-a44e-4fe1-ae5b-87410c45510e' class='xr-var-data-in' type='checkbox'><label for='data-2248a1c7-a44e-4fe1-ae5b-87410c45510e' title='Show/Hide data repr'><svg class='icon xr-icon-database'><use xlink:href='#icon-database'></use></svg></label><div class='xr-var-attrs'><dl class='xr-attrs'><dt><span>year_range :</span></dt><dd>1981-2010</dd></dl></div><div class='xr-var-data'><pre>array([[[1.18015158e+00, 1.18255329e+00, 1.18540442e+00, ...,\n",
       "         1.13700640e+00, 1.13968790e+00, 1.14541054e+00],\n",
       "        [1.18246496e+00, 1.18452954e+00, 1.18502748e+00, ...,\n",
       "         1.14463651e+00, 1.14395237e+00, 1.14583743e+00],\n",
       "        [1.18958151e+00, 1.18728614e+00, 1.18784654e+00, ...,\n",
       "         1.15806282e+00, 1.15893531e+00, 1.16048992e+00],\n",
       "        ...,\n",
       "        [1.17370260e+00, 1.16899788e+00, 1.16737151e+00, ...,\n",
       "         1.18518853e+00, 1.19208217e+00, 1.20514143e+00],\n",
       "        [1.16658247e+00, 1.16406047e+00, 1.15795887e+00, ...,\n",
       "         1.19367743e+00, 1.19901192e+00, 1.20935237e+00],\n",
       "        [1.15844524e+00, 1.15460443e+00, 1.15378034e+00, ...,\n",
       "         1.19719100e+00, 1.20685768e+00, 1.21573091e+00]],\n",
       "\n",
       "       [[2.83700000e+03, 2.83700000e+03, 2.83700000e+03, ...,\n",
       "         2.83600000e+03, 2.83600000e+03, 2.83500000e+03],\n",
       "        [2.83600000e+03, 2.83600000e+03, 2.83600000e+03, ...,\n",
       "         2.83600000e+03, 2.83600000e+03, 2.83600000e+03],\n",
       "        [2.83600000e+03, 2.83600000e+03, 2.83600000e+03, ...,\n",
       "         2.83600000e+03, 2.83500000e+03, 2.83600000e+03],\n",
       "...\n",
       "         2.43100000e+03, 2.41900000e+03, 2.40500000e+03],\n",
       "        [2.50500000e+03, 2.50700000e+03, 2.51200000e+03, ...,\n",
       "         2.42000000e+03, 2.40800000e+03, 2.39700000e+03],\n",
       "        [2.51000000e+03, 2.51600000e+03, 2.51600000e+03, ...,\n",
       "         2.41100000e+03, 2.39800000e+03, 2.38700000e+03]],\n",
       "\n",
       "       [[5.80300000e+03, 5.79800000e+03, 5.79700000e+03, ...,\n",
       "         5.93600000e+03, 5.90700000e+03, 5.84700000e+03],\n",
       "        [5.74700000e+03, 5.76400000e+03, 5.76400000e+03, ...,\n",
       "         5.93000000e+03, 5.93400000e+03, 5.92800000e+03],\n",
       "        [5.74300000e+03, 5.74400000e+03, 5.74800000e+03, ...,\n",
       "         5.87900000e+03, 5.87100000e+03, 5.88600000e+03],\n",
       "        ...,\n",
       "        [5.66600000e+03, 5.70300000e+03, 5.72400000e+03, ...,\n",
       "         5.61500000e+03, 5.59000000e+03, 5.57300000e+03],\n",
       "        [5.73100000e+03, 5.73600000e+03, 5.78100000e+03, ...,\n",
       "         5.59600000e+03, 5.58700000e+03, 5.57100000e+03],\n",
       "        [5.76500000e+03, 5.78200000e+03, 5.77500000e+03, ...,\n",
       "         5.62200000e+03, 5.58500000e+03, 5.56800000e+03]]],\n",
       "      shape=(87, 23, 69))</pre></div></li></ul></div></li><li class='xr-section-item'><input id='section-ee47b09c-f6d2-420e-8f3e-a679a3a218b4' class='xr-section-summary-in' type='checkbox'  ><label for='section-ee47b09c-f6d2-420e-8f3e-a679a3a218b4' class='xr-section-summary' >Indexes: <span>(4)</span></label><div class='xr-section-inline-details'></div><div class='xr-section-details'><ul class='xr-var-list'><li class='xr-var-item'><div class='xr-index-name'><div>time</div></div><div class='xr-index-preview'>PandasIndex</div><input type='checkbox' disabled/><label></label><input id='index-806f2d10-5e2e-47cc-b17b-911832487483' class='xr-index-data-in' type='checkbox'/><label for='index-806f2d10-5e2e-47cc-b17b-911832487483' title='Show/Hide index repr'><svg class='icon xr-icon-database'><use xlink:href='#icon-database'></use></svg></label><div class='xr-index-data'><pre>PandasIndex(DatetimeIndex([&#x27;1980-01-01&#x27;, &#x27;1980-02-01&#x27;, &#x27;1980-03-01&#x27;, &#x27;1980-04-01&#x27;,\n",
       "               &#x27;1980-05-01&#x27;, &#x27;1980-06-01&#x27;, &#x27;1980-07-01&#x27;, &#x27;1980-08-01&#x27;,\n",
       "               &#x27;1980-09-01&#x27;, &#x27;1980-10-01&#x27;, &#x27;1980-11-01&#x27;, &#x27;1980-12-01&#x27;],\n",
       "              dtype=&#x27;datetime64[ns]&#x27;, name=&#x27;time&#x27;, freq=None))</pre></div></li><li class='xr-var-item'><div class='xr-index-name'><div>lat</div></div><div class='xr-index-preview'>PandasIndex</div><input type='checkbox' disabled/><label></label><input id='index-c8370522-c297-45cd-9f1b-3d53bff9eff1' class='xr-index-data-in' type='checkbox'/><label for='index-c8370522-c297-45cd-9f1b-3d53bff9eff1' title='Show/Hide index repr'><svg class='icon xr-icon-database'><use xlink:href='#icon-database'></use></svg></label><div class='xr-index-data'><pre>PandasIndex(Index([50.87374433334999, 50.86541100004999, 50.85707766674999,\n",
       "       50.84874433344999, 50.84041100014999, 50.83207766684999,\n",
       "       50.82374433354999, 50.81541100024999, 50.80707766694999,\n",
       "       50.79874433364999, 50.79041100034999, 50.78207766704999,\n",
       "       50.77374433374999, 50.76541100044999, 50.75707766714999,\n",
       "       50.74874433384999, 50.74041100054999, 50.73207766724999,\n",
       "       50.72374433394999, 50.71541100064999, 50.70707766734999,\n",
       "       50.69874433404999, 50.69041100074999],\n",
       "      dtype=&#x27;float64&#x27;, name=&#x27;lat&#x27;))</pre></div></li><li class='xr-var-item'><div class='xr-index-name'><div>long</div></div><div class='xr-index-preview'>PandasIndex</div><input type='checkbox' disabled/><label></label><input id='index-e9749b2e-0d0d-4001-8004-99782b096882' class='xr-index-data-in' type='checkbox'/><label for='index-e9749b2e-0d0d-4001-8004-99782b096882' title='Show/Hide index repr'><svg class='icon xr-icon-database'><use xlink:href='#icon-database'></use></svg></label><div class='xr-index-data'><pre>PandasIndex(Index([ 4.175537666650022,  4.183870999950022,  4.192204333250022,\n",
       "        4.200537666550022, 4.2088709998500216,  4.217204333150022,\n",
       "       4.2255376664500215,  4.233870999750022,  4.242204333050022,\n",
       "        4.250537666350022,  4.258870999650022,  4.267204332950022,\n",
       "        4.275537666250022,  4.283870999550022,  4.292204332850022,\n",
       "        4.300537666150022,  4.308870999450022,  4.317204332750022,\n",
       "        4.325537666050022, 4.3338709993500215,  4.342204332650022,\n",
       "        4.350537665950022,  4.358870999250022,  4.367204332550022,\n",
       "        4.375537665850022,  4.383870999150022,  4.392204332450022,\n",
       "        4.400537665750022,  4.408870999050022,  4.417204332350022,\n",
       "        4.425537665650022,  4.433870998950022, 4.4422043322500215,\n",
       "        4.450537665550022,  4.458870998850022,  4.467204332150022,\n",
       "        4.475537665450022,  4.483870998750022,  4.492204332050022,\n",
       "        4.500537665350022,  4.508870998650022,  4.517204331950022,\n",
       "        4.525537665250022,  4.533870998550022,  4.542204331850022,\n",
       "        4.550537665150022,  4.558870998450022, 4.5672043317500215,\n",
       "        4.575537665050022,  4.583870998350022,  4.592204331650022,\n",
       "        4.600537664950022,  4.608870998250022,  4.617204331550022,\n",
       "        4.625537664850022,  4.633870998150022,  4.642204331450022,\n",
       "        4.650537664750022,  4.658870998050022,  4.667204331350022,\n",
       "        4.675537664650022,  4.683870997950022,  4.692204331250022,\n",
       "        4.700537664550022,  4.708870997850022,  4.717204331150022,\n",
       "        4.725537664450022,  4.733870997750022,  4.742204331050022],\n",
       "      dtype=&#x27;float64&#x27;, name=&#x27;long&#x27;))</pre></div></li><li class='xr-var-item'><div class='xr-index-name'><div>variable</div></div><div class='xr-index-preview'>PandasIndex</div><input type='checkbox' disabled/><label></label><input id='index-45952080-c703-4207-ad3f-2570b908d3d9' class='xr-index-data-in' type='checkbox'/><label for='index-45952080-c703-4207-ad3f-2570b908d3d9' title='Show/Hide index repr'><svg class='icon xr-icon-database'><use xlink:href='#icon-database'></use></svg></label><div class='xr-index-data'><pre>PandasIndex(Index([&#x27;ai&#x27;, &#x27;bio1&#x27;, &#x27;bio10&#x27;, &#x27;bio11&#x27;, &#x27;bio12&#x27;, &#x27;bio13&#x27;, &#x27;bio14&#x27;, &#x27;bio15&#x27;,\n",
       "       &#x27;bio16&#x27;, &#x27;bio17&#x27;, &#x27;bio18&#x27;, &#x27;bio19&#x27;, &#x27;bio2&#x27;, &#x27;bio3&#x27;, &#x27;bio4&#x27;, &#x27;bio5&#x27;,\n",
       "       &#x27;bio6&#x27;, &#x27;bio7&#x27;, &#x27;bio8&#x27;, &#x27;bio9&#x27;, &#x27;clt&#x27;, &#x27;clt_max&#x27;, &#x27;clt_mean&#x27;, &#x27;clt_min&#x27;,\n",
       "       &#x27;clt_range&#x27;, &#x27;cmi&#x27;, &#x27;cmi_max&#x27;, &#x27;cmi_mean&#x27;, &#x27;cmi_min&#x27;, &#x27;cmi_range&#x27;,\n",
       "       &#x27;fcf&#x27;, &#x27;fgd&#x27;, &#x27;gdd0&#x27;, &#x27;gdd10&#x27;, &#x27;gdd5&#x27;, &#x27;gddlgd0&#x27;, &#x27;gddlgd10&#x27;, &#x27;gddlgd5&#x27;,\n",
       "       &#x27;gdgfgd0&#x27;, &#x27;gdgfgd10&#x27;, &#x27;gdgfgd5&#x27;, &#x27;gsl&#x27;, &#x27;gsp&#x27;, &#x27;gst&#x27;, &#x27;hurs&#x27;,\n",
       "       &#x27;hurs_max&#x27;, &#x27;hurs_mean&#x27;, &#x27;hurs_min&#x27;, &#x27;hurs_range&#x27;, &#x27;kg0&#x27;, &#x27;kg1&#x27;, &#x27;kg2&#x27;,\n",
       "       &#x27;kg3&#x27;, &#x27;kg4&#x27;, &#x27;kg5&#x27;, &#x27;lgd&#x27;, &#x27;ngd0&#x27;, &#x27;ngd10&#x27;, &#x27;ngd5&#x27;, &#x27;npp&#x27;, &#x27;pet&#x27;,\n",
       "       &#x27;pet_penman_max&#x27;, &#x27;pet_penman_mean&#x27;, &#x27;pet_penman_min&#x27;,\n",
       "       &#x27;pet_penman_range&#x27;, &#x27;pr&#x27;, &#x27;rsds&#x27;, &#x27;rsds_max&#x27;, &#x27;rsds_mean&#x27;, &#x27;rsds_min&#x27;,\n",
       "       &#x27;rsds_range&#x27;, &#x27;scd&#x27;, &#x27;sfcWind&#x27;, &#x27;sfcWind_max&#x27;, &#x27;sfcWind_mean&#x27;,\n",
       "       &#x27;sfcWind_min&#x27;, &#x27;sfcWind_range&#x27;, &#x27;swb&#x27;, &#x27;swe&#x27;, &#x27;tas&#x27;, &#x27;tasmax&#x27;, &#x27;tasmin&#x27;,\n",
       "       &#x27;vpd&#x27;, &#x27;vpd_max&#x27;, &#x27;vpd_mean&#x27;, &#x27;vpd_min&#x27;, &#x27;vpd_range&#x27;],\n",
       "      dtype=&#x27;object&#x27;, name=&#x27;variable&#x27;))</pre></div></li></ul></div></li><li class='xr-section-item'><input id='section-c0d66f35-33ff-4eaf-8285-ed151b749b23' class='xr-section-summary-in' type='checkbox' disabled ><label for='section-c0d66f35-33ff-4eaf-8285-ed151b749b23' class='xr-section-summary'  title='Expand/collapse section'>Attributes: <span>(0)</span></label><div class='xr-section-inline-details'></div><div class='xr-section-details'><dl class='xr-attrs'></dl></div></li></ul></div></div>"
      ],
      "text/plain": [
       "<xarray.Dataset> Size: 14MB\n",
       "Dimensions:            (time: 12, lat: 23, long: 69, variable: 87)\n",
       "Coordinates:\n",
       "  * time               (time) datetime64[ns] 96B 1980-01-01 ... 1980-12-01\n",
       "  * lat                (lat) float64 184B 50.87 50.87 50.86 ... 50.71 50.7 50.69\n",
       "  * long               (long) float64 552B 4.176 4.184 4.192 ... 4.734 4.742\n",
       "  * variable           (variable) <U16 6kB 'ai' 'bio1' ... 'vpd_min' 'vpd_range'\n",
       "Data variables:\n",
       "    chelsa_month       (variable, time, lat, long) float64 13MB nan nan ... nan\n",
       "    chelsa_ref_period  (variable, lat, long) float64 1MB 1.18 ... 5.568e+03"
      ]
     },
     "execution_count": 113,
     "metadata": {},
     "output_type": "execute_result"
    }
   ],
   "source": [
    "test_ds"
   ]
  },
  {
   "cell_type": "code",
   "execution_count": 114,
   "id": "5b632bf0-06a5-4497-af73-be827a89cc48",
   "metadata": {},
   "outputs": [],
   "source": [
    "test_ds = xr.Dataset({})\n",
    "test_ds[\"chelsa_month\"]=test_layer_m\n",
    "test_ds[\"chelsa_ref_period\"]=test_layer_ref_p"
   ]
  },
  {
   "cell_type": "code",
   "execution_count": 115,
   "id": "a6502d94-74ef-4e21-9ed5-4392ee4e68fc",
   "metadata": {},
   "outputs": [
    {
     "data": {
      "text/html": [
       "<div><svg style=\"position: absolute; width: 0; height: 0; overflow: hidden\">\n",
       "<defs>\n",
       "<symbol id=\"icon-database\" viewBox=\"0 0 32 32\">\n",
       "<path d=\"M16 0c-8.837 0-16 2.239-16 5v4c0 2.761 7.163 5 16 5s16-2.239 16-5v-4c0-2.761-7.163-5-16-5z\"></path>\n",
       "<path d=\"M16 17c-8.837 0-16-2.239-16-5v6c0 2.761 7.163 5 16 5s16-2.239 16-5v-6c0 2.761-7.163 5-16 5z\"></path>\n",
       "<path d=\"M16 26c-8.837 0-16-2.239-16-5v6c0 2.761 7.163 5 16 5s16-2.239 16-5v-6c0 2.761-7.163 5-16 5z\"></path>\n",
       "</symbol>\n",
       "<symbol id=\"icon-file-text2\" viewBox=\"0 0 32 32\">\n",
       "<path d=\"M28.681 7.159c-0.694-0.947-1.662-2.053-2.724-3.116s-2.169-2.030-3.116-2.724c-1.612-1.182-2.393-1.319-2.841-1.319h-15.5c-1.378 0-2.5 1.121-2.5 2.5v27c0 1.378 1.122 2.5 2.5 2.5h23c1.378 0 2.5-1.122 2.5-2.5v-19.5c0-0.448-0.137-1.23-1.319-2.841zM24.543 5.457c0.959 0.959 1.712 1.825 2.268 2.543h-4.811v-4.811c0.718 0.556 1.584 1.309 2.543 2.268zM28 29.5c0 0.271-0.229 0.5-0.5 0.5h-23c-0.271 0-0.5-0.229-0.5-0.5v-27c0-0.271 0.229-0.5 0.5-0.5 0 0 15.499-0 15.5 0v7c0 0.552 0.448 1 1 1h7v19.5z\"></path>\n",
       "<path d=\"M23 26h-14c-0.552 0-1-0.448-1-1s0.448-1 1-1h14c0.552 0 1 0.448 1 1s-0.448 1-1 1z\"></path>\n",
       "<path d=\"M23 22h-14c-0.552 0-1-0.448-1-1s0.448-1 1-1h14c0.552 0 1 0.448 1 1s-0.448 1-1 1z\"></path>\n",
       "<path d=\"M23 18h-14c-0.552 0-1-0.448-1-1s0.448-1 1-1h14c0.552 0 1 0.448 1 1s-0.448 1-1 1z\"></path>\n",
       "</symbol>\n",
       "</defs>\n",
       "</svg>\n",
       "<style>/* CSS stylesheet for displaying xarray objects in jupyterlab.\n",
       " *\n",
       " */\n",
       "\n",
       ":root {\n",
       "  --xr-font-color0: var(--jp-content-font-color0, rgba(0, 0, 0, 1));\n",
       "  --xr-font-color2: var(--jp-content-font-color2, rgba(0, 0, 0, 0.54));\n",
       "  --xr-font-color3: var(--jp-content-font-color3, rgba(0, 0, 0, 0.38));\n",
       "  --xr-border-color: var(--jp-border-color2, #e0e0e0);\n",
       "  --xr-disabled-color: var(--jp-layout-color3, #bdbdbd);\n",
       "  --xr-background-color: var(--jp-layout-color0, white);\n",
       "  --xr-background-color-row-even: var(--jp-layout-color1, white);\n",
       "  --xr-background-color-row-odd: var(--jp-layout-color2, #eeeeee);\n",
       "}\n",
       "\n",
       "html[theme=\"dark\"],\n",
       "html[data-theme=\"dark\"],\n",
       "body[data-theme=\"dark\"],\n",
       "body.vscode-dark {\n",
       "  --xr-font-color0: rgba(255, 255, 255, 1);\n",
       "  --xr-font-color2: rgba(255, 255, 255, 0.54);\n",
       "  --xr-font-color3: rgba(255, 255, 255, 0.38);\n",
       "  --xr-border-color: #1f1f1f;\n",
       "  --xr-disabled-color: #515151;\n",
       "  --xr-background-color: #111111;\n",
       "  --xr-background-color-row-even: #111111;\n",
       "  --xr-background-color-row-odd: #313131;\n",
       "}\n",
       "\n",
       ".xr-wrap {\n",
       "  display: block !important;\n",
       "  min-width: 300px;\n",
       "  max-width: 700px;\n",
       "}\n",
       "\n",
       ".xr-text-repr-fallback {\n",
       "  /* fallback to plain text repr when CSS is not injected (untrusted notebook) */\n",
       "  display: none;\n",
       "}\n",
       "\n",
       ".xr-header {\n",
       "  padding-top: 6px;\n",
       "  padding-bottom: 6px;\n",
       "  margin-bottom: 4px;\n",
       "  border-bottom: solid 1px var(--xr-border-color);\n",
       "}\n",
       "\n",
       ".xr-header > div,\n",
       ".xr-header > ul {\n",
       "  display: inline;\n",
       "  margin-top: 0;\n",
       "  margin-bottom: 0;\n",
       "}\n",
       "\n",
       ".xr-obj-type,\n",
       ".xr-array-name {\n",
       "  margin-left: 2px;\n",
       "  margin-right: 10px;\n",
       "}\n",
       "\n",
       ".xr-obj-type {\n",
       "  color: var(--xr-font-color2);\n",
       "}\n",
       "\n",
       ".xr-sections {\n",
       "  padding-left: 0 !important;\n",
       "  display: grid;\n",
       "  grid-template-columns: 150px auto auto 1fr 0 20px 0 20px;\n",
       "}\n",
       "\n",
       ".xr-section-item {\n",
       "  display: contents;\n",
       "}\n",
       "\n",
       ".xr-section-item input {\n",
       "  display: inline-block;\n",
       "  opacity: 0;\n",
       "  height: 0;\n",
       "}\n",
       "\n",
       ".xr-section-item input + label {\n",
       "  color: var(--xr-disabled-color);\n",
       "}\n",
       "\n",
       ".xr-section-item input:enabled + label {\n",
       "  cursor: pointer;\n",
       "  color: var(--xr-font-color2);\n",
       "}\n",
       "\n",
       ".xr-section-item input:focus + label {\n",
       "  border: 2px solid var(--xr-font-color0);\n",
       "}\n",
       "\n",
       ".xr-section-item input:enabled + label:hover {\n",
       "  color: var(--xr-font-color0);\n",
       "}\n",
       "\n",
       ".xr-section-summary {\n",
       "  grid-column: 1;\n",
       "  color: var(--xr-font-color2);\n",
       "  font-weight: 500;\n",
       "}\n",
       "\n",
       ".xr-section-summary > span {\n",
       "  display: inline-block;\n",
       "  padding-left: 0.5em;\n",
       "}\n",
       "\n",
       ".xr-section-summary-in:disabled + label {\n",
       "  color: var(--xr-font-color2);\n",
       "}\n",
       "\n",
       ".xr-section-summary-in + label:before {\n",
       "  display: inline-block;\n",
       "  content: \"►\";\n",
       "  font-size: 11px;\n",
       "  width: 15px;\n",
       "  text-align: center;\n",
       "}\n",
       "\n",
       ".xr-section-summary-in:disabled + label:before {\n",
       "  color: var(--xr-disabled-color);\n",
       "}\n",
       "\n",
       ".xr-section-summary-in:checked + label:before {\n",
       "  content: \"▼\";\n",
       "}\n",
       "\n",
       ".xr-section-summary-in:checked + label > span {\n",
       "  display: none;\n",
       "}\n",
       "\n",
       ".xr-section-summary,\n",
       ".xr-section-inline-details {\n",
       "  padding-top: 4px;\n",
       "  padding-bottom: 4px;\n",
       "}\n",
       "\n",
       ".xr-section-inline-details {\n",
       "  grid-column: 2 / -1;\n",
       "}\n",
       "\n",
       ".xr-section-details {\n",
       "  display: none;\n",
       "  grid-column: 1 / -1;\n",
       "  margin-bottom: 5px;\n",
       "}\n",
       "\n",
       ".xr-section-summary-in:checked ~ .xr-section-details {\n",
       "  display: contents;\n",
       "}\n",
       "\n",
       ".xr-array-wrap {\n",
       "  grid-column: 1 / -1;\n",
       "  display: grid;\n",
       "  grid-template-columns: 20px auto;\n",
       "}\n",
       "\n",
       ".xr-array-wrap > label {\n",
       "  grid-column: 1;\n",
       "  vertical-align: top;\n",
       "}\n",
       "\n",
       ".xr-preview {\n",
       "  color: var(--xr-font-color3);\n",
       "}\n",
       "\n",
       ".xr-array-preview,\n",
       ".xr-array-data {\n",
       "  padding: 0 5px !important;\n",
       "  grid-column: 2;\n",
       "}\n",
       "\n",
       ".xr-array-data,\n",
       ".xr-array-in:checked ~ .xr-array-preview {\n",
       "  display: none;\n",
       "}\n",
       "\n",
       ".xr-array-in:checked ~ .xr-array-data,\n",
       ".xr-array-preview {\n",
       "  display: inline-block;\n",
       "}\n",
       "\n",
       ".xr-dim-list {\n",
       "  display: inline-block !important;\n",
       "  list-style: none;\n",
       "  padding: 0 !important;\n",
       "  margin: 0;\n",
       "}\n",
       "\n",
       ".xr-dim-list li {\n",
       "  display: inline-block;\n",
       "  padding: 0;\n",
       "  margin: 0;\n",
       "}\n",
       "\n",
       ".xr-dim-list:before {\n",
       "  content: \"(\";\n",
       "}\n",
       "\n",
       ".xr-dim-list:after {\n",
       "  content: \")\";\n",
       "}\n",
       "\n",
       ".xr-dim-list li:not(:last-child):after {\n",
       "  content: \",\";\n",
       "  padding-right: 5px;\n",
       "}\n",
       "\n",
       ".xr-has-index {\n",
       "  font-weight: bold;\n",
       "}\n",
       "\n",
       ".xr-var-list,\n",
       ".xr-var-item {\n",
       "  display: contents;\n",
       "}\n",
       "\n",
       ".xr-var-item > div,\n",
       ".xr-var-item label,\n",
       ".xr-var-item > .xr-var-name span {\n",
       "  background-color: var(--xr-background-color-row-even);\n",
       "  margin-bottom: 0;\n",
       "}\n",
       "\n",
       ".xr-var-item > .xr-var-name:hover span {\n",
       "  padding-right: 5px;\n",
       "}\n",
       "\n",
       ".xr-var-list > li:nth-child(odd) > div,\n",
       ".xr-var-list > li:nth-child(odd) > label,\n",
       ".xr-var-list > li:nth-child(odd) > .xr-var-name span {\n",
       "  background-color: var(--xr-background-color-row-odd);\n",
       "}\n",
       "\n",
       ".xr-var-name {\n",
       "  grid-column: 1;\n",
       "}\n",
       "\n",
       ".xr-var-dims {\n",
       "  grid-column: 2;\n",
       "}\n",
       "\n",
       ".xr-var-dtype {\n",
       "  grid-column: 3;\n",
       "  text-align: right;\n",
       "  color: var(--xr-font-color2);\n",
       "}\n",
       "\n",
       ".xr-var-preview {\n",
       "  grid-column: 4;\n",
       "}\n",
       "\n",
       ".xr-index-preview {\n",
       "  grid-column: 2 / 5;\n",
       "  color: var(--xr-font-color2);\n",
       "}\n",
       "\n",
       ".xr-var-name,\n",
       ".xr-var-dims,\n",
       ".xr-var-dtype,\n",
       ".xr-preview,\n",
       ".xr-attrs dt {\n",
       "  white-space: nowrap;\n",
       "  overflow: hidden;\n",
       "  text-overflow: ellipsis;\n",
       "  padding-right: 10px;\n",
       "}\n",
       "\n",
       ".xr-var-name:hover,\n",
       ".xr-var-dims:hover,\n",
       ".xr-var-dtype:hover,\n",
       ".xr-attrs dt:hover {\n",
       "  overflow: visible;\n",
       "  width: auto;\n",
       "  z-index: 1;\n",
       "}\n",
       "\n",
       ".xr-var-attrs,\n",
       ".xr-var-data,\n",
       ".xr-index-data {\n",
       "  display: none;\n",
       "  background-color: var(--xr-background-color) !important;\n",
       "  padding-bottom: 5px !important;\n",
       "}\n",
       "\n",
       ".xr-var-attrs-in:checked ~ .xr-var-attrs,\n",
       ".xr-var-data-in:checked ~ .xr-var-data,\n",
       ".xr-index-data-in:checked ~ .xr-index-data {\n",
       "  display: block;\n",
       "}\n",
       "\n",
       ".xr-var-data > table {\n",
       "  float: right;\n",
       "}\n",
       "\n",
       ".xr-var-name span,\n",
       ".xr-var-data,\n",
       ".xr-index-name div,\n",
       ".xr-index-data,\n",
       ".xr-attrs {\n",
       "  padding-left: 25px !important;\n",
       "}\n",
       "\n",
       ".xr-attrs,\n",
       ".xr-var-attrs,\n",
       ".xr-var-data,\n",
       ".xr-index-data {\n",
       "  grid-column: 1 / -1;\n",
       "}\n",
       "\n",
       "dl.xr-attrs {\n",
       "  padding: 0;\n",
       "  margin: 0;\n",
       "  display: grid;\n",
       "  grid-template-columns: 125px auto;\n",
       "}\n",
       "\n",
       ".xr-attrs dt,\n",
       ".xr-attrs dd {\n",
       "  padding: 0;\n",
       "  margin: 0;\n",
       "  float: left;\n",
       "  padding-right: 10px;\n",
       "  width: auto;\n",
       "}\n",
       "\n",
       ".xr-attrs dt {\n",
       "  font-weight: normal;\n",
       "  grid-column: 1;\n",
       "}\n",
       "\n",
       ".xr-attrs dt:hover span {\n",
       "  display: inline-block;\n",
       "  background: var(--xr-background-color);\n",
       "  padding-right: 10px;\n",
       "}\n",
       "\n",
       ".xr-attrs dd {\n",
       "  grid-column: 2;\n",
       "  white-space: pre-wrap;\n",
       "  word-break: break-all;\n",
       "}\n",
       "\n",
       ".xr-icon-database,\n",
       ".xr-icon-file-text2,\n",
       ".xr-no-icon {\n",
       "  display: inline-block;\n",
       "  vertical-align: middle;\n",
       "  width: 1em;\n",
       "  height: 1.5em !important;\n",
       "  stroke-width: 0;\n",
       "  stroke: currentColor;\n",
       "  fill: currentColor;\n",
       "}\n",
       "</style><pre class='xr-text-repr-fallback'>&lt;xarray.Dataset&gt; Size: 2MB\n",
       "Dimensions:            (time: 12, lat: 23, long: 69, variable: 11)\n",
       "Coordinates:\n",
       "  * time               (time) datetime64[ns] 96B 1980-01-01 ... 1980-12-01\n",
       "  * lat                (lat) float64 184B 50.87 50.87 50.86 ... 50.71 50.7 50.69\n",
       "  * long               (long) float64 552B 4.176 4.184 4.192 ... 4.734 4.742\n",
       "  * variable           (variable) &lt;U7 308B &#x27;clt&#x27; &#x27;cmi&#x27; &#x27;hurs&#x27; ... &#x27;tasmin&#x27; &#x27;vpd&#x27;\n",
       "Data variables:\n",
       "    chelsa_month       (variable, time, lat, long) float64 2MB 5.152e+03 ... ...\n",
       "    chelsa_ref_period  (variable, lat, long) float64 140kB nan nan ... nan nan</pre><div class='xr-wrap' style='display:none'><div class='xr-header'><div class='xr-obj-type'>xarray.Dataset</div></div><ul class='xr-sections'><li class='xr-section-item'><input id='section-3debd49c-ea73-4f59-9665-e2ef3a9143e7' class='xr-section-summary-in' type='checkbox' disabled ><label for='section-3debd49c-ea73-4f59-9665-e2ef3a9143e7' class='xr-section-summary'  title='Expand/collapse section'>Dimensions:</label><div class='xr-section-inline-details'><ul class='xr-dim-list'><li><span class='xr-has-index'>time</span>: 12</li><li><span class='xr-has-index'>lat</span>: 23</li><li><span class='xr-has-index'>long</span>: 69</li><li><span class='xr-has-index'>variable</span>: 11</li></ul></div><div class='xr-section-details'></div></li><li class='xr-section-item'><input id='section-7a944ddc-2176-4a79-842e-343b1819c452' class='xr-section-summary-in' type='checkbox'  checked><label for='section-7a944ddc-2176-4a79-842e-343b1819c452' class='xr-section-summary' >Coordinates: <span>(4)</span></label><div class='xr-section-inline-details'></div><div class='xr-section-details'><ul class='xr-var-list'><li class='xr-var-item'><div class='xr-var-name'><span class='xr-has-index'>time</span></div><div class='xr-var-dims'>(time)</div><div class='xr-var-dtype'>datetime64[ns]</div><div class='xr-var-preview xr-preview'>1980-01-01 ... 1980-12-01</div><input id='attrs-a2cb0324-0720-4a38-a827-90885b6db642' class='xr-var-attrs-in' type='checkbox' disabled><label for='attrs-a2cb0324-0720-4a38-a827-90885b6db642' title='Show/Hide attributes'><svg class='icon xr-icon-file-text2'><use xlink:href='#icon-file-text2'></use></svg></label><input id='data-596c3639-a53f-4136-9e77-84e0e4272c4e' class='xr-var-data-in' type='checkbox'><label for='data-596c3639-a53f-4136-9e77-84e0e4272c4e' title='Show/Hide data repr'><svg class='icon xr-icon-database'><use xlink:href='#icon-database'></use></svg></label><div class='xr-var-attrs'><dl class='xr-attrs'></dl></div><div class='xr-var-data'><pre>array([&#x27;1980-01-01T00:00:00.000000000&#x27;, &#x27;1980-02-01T00:00:00.000000000&#x27;,\n",
       "       &#x27;1980-03-01T00:00:00.000000000&#x27;, &#x27;1980-04-01T00:00:00.000000000&#x27;,\n",
       "       &#x27;1980-05-01T00:00:00.000000000&#x27;, &#x27;1980-06-01T00:00:00.000000000&#x27;,\n",
       "       &#x27;1980-07-01T00:00:00.000000000&#x27;, &#x27;1980-08-01T00:00:00.000000000&#x27;,\n",
       "       &#x27;1980-09-01T00:00:00.000000000&#x27;, &#x27;1980-10-01T00:00:00.000000000&#x27;,\n",
       "       &#x27;1980-11-01T00:00:00.000000000&#x27;, &#x27;1980-12-01T00:00:00.000000000&#x27;],\n",
       "      dtype=&#x27;datetime64[ns]&#x27;)</pre></div></li><li class='xr-var-item'><div class='xr-var-name'><span class='xr-has-index'>lat</span></div><div class='xr-var-dims'>(lat)</div><div class='xr-var-dtype'>float64</div><div class='xr-var-preview xr-preview'>50.87 50.87 50.86 ... 50.7 50.69</div><input id='attrs-4d993bc1-16dd-4285-bc8f-0dd8d5c91f1a' class='xr-var-attrs-in' type='checkbox' disabled><label for='attrs-4d993bc1-16dd-4285-bc8f-0dd8d5c91f1a' title='Show/Hide attributes'><svg class='icon xr-icon-file-text2'><use xlink:href='#icon-file-text2'></use></svg></label><input id='data-6094e683-08a3-4de5-9d3e-3aa70db9d6c3' class='xr-var-data-in' type='checkbox'><label for='data-6094e683-08a3-4de5-9d3e-3aa70db9d6c3' title='Show/Hide data repr'><svg class='icon xr-icon-database'><use xlink:href='#icon-database'></use></svg></label><div class='xr-var-attrs'><dl class='xr-attrs'></dl></div><div class='xr-var-data'><pre>array([50.873744, 50.865411, 50.857078, 50.848744, 50.840411, 50.832078,\n",
       "       50.823744, 50.815411, 50.807078, 50.798744, 50.790411, 50.782078,\n",
       "       50.773744, 50.765411, 50.757078, 50.748744, 50.740411, 50.732078,\n",
       "       50.723744, 50.715411, 50.707078, 50.698744, 50.690411])</pre></div></li><li class='xr-var-item'><div class='xr-var-name'><span class='xr-has-index'>long</span></div><div class='xr-var-dims'>(long)</div><div class='xr-var-dtype'>float64</div><div class='xr-var-preview xr-preview'>4.176 4.184 4.192 ... 4.734 4.742</div><input id='attrs-6d45fc18-e615-4f13-a4f2-83102549747a' class='xr-var-attrs-in' type='checkbox' disabled><label for='attrs-6d45fc18-e615-4f13-a4f2-83102549747a' title='Show/Hide attributes'><svg class='icon xr-icon-file-text2'><use xlink:href='#icon-file-text2'></use></svg></label><input id='data-4479fabe-eca6-4d84-9dac-036c8e02ee84' class='xr-var-data-in' type='checkbox'><label for='data-4479fabe-eca6-4d84-9dac-036c8e02ee84' title='Show/Hide data repr'><svg class='icon xr-icon-database'><use xlink:href='#icon-database'></use></svg></label><div class='xr-var-attrs'><dl class='xr-attrs'></dl></div><div class='xr-var-data'><pre>array([4.175538, 4.183871, 4.192204, 4.200538, 4.208871, 4.217204, 4.225538,\n",
       "       4.233871, 4.242204, 4.250538, 4.258871, 4.267204, 4.275538, 4.283871,\n",
       "       4.292204, 4.300538, 4.308871, 4.317204, 4.325538, 4.333871, 4.342204,\n",
       "       4.350538, 4.358871, 4.367204, 4.375538, 4.383871, 4.392204, 4.400538,\n",
       "       4.408871, 4.417204, 4.425538, 4.433871, 4.442204, 4.450538, 4.458871,\n",
       "       4.467204, 4.475538, 4.483871, 4.492204, 4.500538, 4.508871, 4.517204,\n",
       "       4.525538, 4.533871, 4.542204, 4.550538, 4.558871, 4.567204, 4.575538,\n",
       "       4.583871, 4.592204, 4.600538, 4.608871, 4.617204, 4.625538, 4.633871,\n",
       "       4.642204, 4.650538, 4.658871, 4.667204, 4.675538, 4.683871, 4.692204,\n",
       "       4.700538, 4.708871, 4.717204, 4.725538, 4.733871, 4.742204])</pre></div></li><li class='xr-var-item'><div class='xr-var-name'><span class='xr-has-index'>variable</span></div><div class='xr-var-dims'>(variable)</div><div class='xr-var-dtype'>&lt;U7</div><div class='xr-var-preview xr-preview'>&#x27;clt&#x27; &#x27;cmi&#x27; ... &#x27;tasmin&#x27; &#x27;vpd&#x27;</div><input id='attrs-dab55836-9417-4c13-9fc4-19570f670336' class='xr-var-attrs-in' type='checkbox' disabled><label for='attrs-dab55836-9417-4c13-9fc4-19570f670336' title='Show/Hide attributes'><svg class='icon xr-icon-file-text2'><use xlink:href='#icon-file-text2'></use></svg></label><input id='data-2607d127-077c-4c71-ba9e-ed1b5f3652e7' class='xr-var-data-in' type='checkbox'><label for='data-2607d127-077c-4c71-ba9e-ed1b5f3652e7' title='Show/Hide data repr'><svg class='icon xr-icon-database'><use xlink:href='#icon-database'></use></svg></label><div class='xr-var-attrs'><dl class='xr-attrs'></dl></div><div class='xr-var-data'><pre>array([&#x27;clt&#x27;, &#x27;cmi&#x27;, &#x27;hurs&#x27;, &#x27;pet&#x27;, &#x27;pr&#x27;, &#x27;rsds&#x27;, &#x27;sfcWind&#x27;, &#x27;tas&#x27;, &#x27;tasmax&#x27;,\n",
       "       &#x27;tasmin&#x27;, &#x27;vpd&#x27;], dtype=&#x27;&lt;U7&#x27;)</pre></div></li></ul></div></li><li class='xr-section-item'><input id='section-b935dd0c-71b9-4929-a8ad-a9371b0986eb' class='xr-section-summary-in' type='checkbox'  checked><label for='section-b935dd0c-71b9-4929-a8ad-a9371b0986eb' class='xr-section-summary' >Data variables: <span>(2)</span></label><div class='xr-section-inline-details'></div><div class='xr-section-details'><ul class='xr-var-list'><li class='xr-var-item'><div class='xr-var-name'><span>chelsa_month</span></div><div class='xr-var-dims'>(variable, time, lat, long)</div><div class='xr-var-dtype'>float64</div><div class='xr-var-preview xr-preview'>5.152e+03 5.152e+03 ... 2.072e+03</div><input id='attrs-20f9b33d-f0d0-4329-911e-cbdfb87dca1e' class='xr-var-attrs-in' type='checkbox' disabled><label for='attrs-20f9b33d-f0d0-4329-911e-cbdfb87dca1e' title='Show/Hide attributes'><svg class='icon xr-icon-file-text2'><use xlink:href='#icon-file-text2'></use></svg></label><input id='data-60a52c55-affd-48eb-9ad1-f3cc8a2f1e1c' class='xr-var-data-in' type='checkbox'><label for='data-60a52c55-affd-48eb-9ad1-f3cc8a2f1e1c' title='Show/Hide data repr'><svg class='icon xr-icon-database'><use xlink:href='#icon-database'></use></svg></label><div class='xr-var-attrs'><dl class='xr-attrs'></dl></div><div class='xr-var-data'><pre>array([[[[5151.99999941, 5151.99999941, 5152.6666662 , ...,\n",
       "          5211.99994806, 5211.99994806, 5211.99994806],\n",
       "         [5151.99999941, 5151.99999941, 5152.6666662 , ...,\n",
       "          5211.99994806, 5211.99994806, 5211.99994806],\n",
       "         [5150.33333195, 5150.33333195, 5150.77777635, ...,\n",
       "          5213.22218247, 5213.22218247, 5213.22218247],\n",
       "         ...,\n",
       "         [5168.66666046, 5168.66666046, 5162.77777556, ...,\n",
       "          5268.11163722, 5268.11163722, 5268.11163722],\n",
       "         [5168.33332746, 5168.33332746, 5163.22222095, ...,\n",
       "          5274.8893972 , 5274.8893972 , 5274.8893972 ],\n",
       "         [5168.33332746, 5168.33332746, 5163.22222095, ...,\n",
       "          5274.8893972 , 5274.8893972 , 5274.8893972 ]],\n",
       "\n",
       "        [[6263.99999584, 6263.99999584, 6265.33332997, ...,\n",
       "          6208.66651341, 6208.66651341, 6208.66651341],\n",
       "         [6263.99999584, 6263.99999584, 6265.33332997, ...,\n",
       "          6208.66651341, 6208.66651341, 6208.66651341],\n",
       "         [6255.66665947, 6255.66665947, 6257.44443839, ...,\n",
       "          6201.88879732, 6201.88879732, 6201.88879732],\n",
       "...\n",
       "          2763.        , 2748.        , 2716.        ],\n",
       "         [2872.        , 2875.        , 2906.        , ...,\n",
       "          2752.        , 2742.        , 2712.        ],\n",
       "         [2903.        , 2910.        , 2910.        , ...,\n",
       "          2751.        , 2737.        , 2704.        ]],\n",
       "\n",
       "        [[2304.        , 2303.        , 2299.        , ...,\n",
       "          2286.        , 2269.        , 2267.        ],\n",
       "         [2306.        , 2304.        , 2286.        , ...,\n",
       "          2274.        , 2270.        , 2266.        ],\n",
       "         [2280.        , 2280.        , 2280.        , ...,\n",
       "          2246.        , 2242.        , 2238.        ],\n",
       "         ...,\n",
       "         [2202.        , 2216.        , 2215.        , ...,\n",
       "          2108.        , 2099.        , 2088.        ],\n",
       "         [2211.        , 2214.        , 2226.        , ...,\n",
       "          2099.        , 2090.        , 2080.        ],\n",
       "         [2206.        , 2222.        , 2209.        , ...,\n",
       "          2085.        , 2079.        , 2072.        ]]]],\n",
       "      shape=(11, 12, 23, 69))</pre></div></li><li class='xr-var-item'><div class='xr-var-name'><span>chelsa_ref_period</span></div><div class='xr-var-dims'>(variable, lat, long)</div><div class='xr-var-dtype'>float64</div><div class='xr-var-preview xr-preview'>nan nan nan nan ... nan nan nan nan</div><input id='attrs-3da5b6cd-c186-4ad5-a24f-fb3f1a4e34da' class='xr-var-attrs-in' type='checkbox' ><label for='attrs-3da5b6cd-c186-4ad5-a24f-fb3f1a4e34da' title='Show/Hide attributes'><svg class='icon xr-icon-file-text2'><use xlink:href='#icon-file-text2'></use></svg></label><input id='data-565c75b9-7eb1-4dab-863d-4df9fe344898' class='xr-var-data-in' type='checkbox'><label for='data-565c75b9-7eb1-4dab-863d-4df9fe344898' title='Show/Hide data repr'><svg class='icon xr-icon-database'><use xlink:href='#icon-database'></use></svg></label><div class='xr-var-attrs'><dl class='xr-attrs'><dt><span>year_range :</span></dt><dd>1981-2010</dd></dl></div><div class='xr-var-data'><pre>array([[[nan, nan, nan, ..., nan, nan, nan],\n",
       "        [nan, nan, nan, ..., nan, nan, nan],\n",
       "        [nan, nan, nan, ..., nan, nan, nan],\n",
       "        ...,\n",
       "        [nan, nan, nan, ..., nan, nan, nan],\n",
       "        [nan, nan, nan, ..., nan, nan, nan],\n",
       "        [nan, nan, nan, ..., nan, nan, nan]],\n",
       "\n",
       "       [[nan, nan, nan, ..., nan, nan, nan],\n",
       "        [nan, nan, nan, ..., nan, nan, nan],\n",
       "        [nan, nan, nan, ..., nan, nan, nan],\n",
       "        ...,\n",
       "        [nan, nan, nan, ..., nan, nan, nan],\n",
       "        [nan, nan, nan, ..., nan, nan, nan],\n",
       "        [nan, nan, nan, ..., nan, nan, nan]],\n",
       "\n",
       "       [[nan, nan, nan, ..., nan, nan, nan],\n",
       "        [nan, nan, nan, ..., nan, nan, nan],\n",
       "        [nan, nan, nan, ..., nan, nan, nan],\n",
       "        ...,\n",
       "...\n",
       "        ...,\n",
       "        [nan, nan, nan, ..., nan, nan, nan],\n",
       "        [nan, nan, nan, ..., nan, nan, nan],\n",
       "        [nan, nan, nan, ..., nan, nan, nan]],\n",
       "\n",
       "       [[nan, nan, nan, ..., nan, nan, nan],\n",
       "        [nan, nan, nan, ..., nan, nan, nan],\n",
       "        [nan, nan, nan, ..., nan, nan, nan],\n",
       "        ...,\n",
       "        [nan, nan, nan, ..., nan, nan, nan],\n",
       "        [nan, nan, nan, ..., nan, nan, nan],\n",
       "        [nan, nan, nan, ..., nan, nan, nan]],\n",
       "\n",
       "       [[nan, nan, nan, ..., nan, nan, nan],\n",
       "        [nan, nan, nan, ..., nan, nan, nan],\n",
       "        [nan, nan, nan, ..., nan, nan, nan],\n",
       "        ...,\n",
       "        [nan, nan, nan, ..., nan, nan, nan],\n",
       "        [nan, nan, nan, ..., nan, nan, nan],\n",
       "        [nan, nan, nan, ..., nan, nan, nan]]], shape=(11, 23, 69))</pre></div></li></ul></div></li><li class='xr-section-item'><input id='section-5edc2443-be58-4f47-9a87-2345b880e24f' class='xr-section-summary-in' type='checkbox'  ><label for='section-5edc2443-be58-4f47-9a87-2345b880e24f' class='xr-section-summary' >Indexes: <span>(4)</span></label><div class='xr-section-inline-details'></div><div class='xr-section-details'><ul class='xr-var-list'><li class='xr-var-item'><div class='xr-index-name'><div>time</div></div><div class='xr-index-preview'>PandasIndex</div><input type='checkbox' disabled/><label></label><input id='index-c9010af3-76e0-49cf-91a8-71cae3957162' class='xr-index-data-in' type='checkbox'/><label for='index-c9010af3-76e0-49cf-91a8-71cae3957162' title='Show/Hide index repr'><svg class='icon xr-icon-database'><use xlink:href='#icon-database'></use></svg></label><div class='xr-index-data'><pre>PandasIndex(DatetimeIndex([&#x27;1980-01-01&#x27;, &#x27;1980-02-01&#x27;, &#x27;1980-03-01&#x27;, &#x27;1980-04-01&#x27;,\n",
       "               &#x27;1980-05-01&#x27;, &#x27;1980-06-01&#x27;, &#x27;1980-07-01&#x27;, &#x27;1980-08-01&#x27;,\n",
       "               &#x27;1980-09-01&#x27;, &#x27;1980-10-01&#x27;, &#x27;1980-11-01&#x27;, &#x27;1980-12-01&#x27;],\n",
       "              dtype=&#x27;datetime64[ns]&#x27;, name=&#x27;time&#x27;, freq=None))</pre></div></li><li class='xr-var-item'><div class='xr-index-name'><div>lat</div></div><div class='xr-index-preview'>PandasIndex</div><input type='checkbox' disabled/><label></label><input id='index-af4a8a8b-a57c-4f37-9c64-33579a6f221b' class='xr-index-data-in' type='checkbox'/><label for='index-af4a8a8b-a57c-4f37-9c64-33579a6f221b' title='Show/Hide index repr'><svg class='icon xr-icon-database'><use xlink:href='#icon-database'></use></svg></label><div class='xr-index-data'><pre>PandasIndex(Index([50.87374433334999, 50.86541100004999, 50.85707766674999,\n",
       "       50.84874433344999, 50.84041100014999, 50.83207766684999,\n",
       "       50.82374433354999, 50.81541100024999, 50.80707766694999,\n",
       "       50.79874433364999, 50.79041100034999, 50.78207766704999,\n",
       "       50.77374433374999, 50.76541100044999, 50.75707766714999,\n",
       "       50.74874433384999, 50.74041100054999, 50.73207766724999,\n",
       "       50.72374433394999, 50.71541100064999, 50.70707766734999,\n",
       "       50.69874433404999, 50.69041100074999],\n",
       "      dtype=&#x27;float64&#x27;, name=&#x27;lat&#x27;))</pre></div></li><li class='xr-var-item'><div class='xr-index-name'><div>long</div></div><div class='xr-index-preview'>PandasIndex</div><input type='checkbox' disabled/><label></label><input id='index-4fd598ee-ef75-4156-97bb-10db120611b9' class='xr-index-data-in' type='checkbox'/><label for='index-4fd598ee-ef75-4156-97bb-10db120611b9' title='Show/Hide index repr'><svg class='icon xr-icon-database'><use xlink:href='#icon-database'></use></svg></label><div class='xr-index-data'><pre>PandasIndex(Index([ 4.175537666650022,  4.183870999950022,  4.192204333250022,\n",
       "        4.200537666550022, 4.2088709998500216,  4.217204333150022,\n",
       "       4.2255376664500215,  4.233870999750022,  4.242204333050022,\n",
       "        4.250537666350022,  4.258870999650022,  4.267204332950022,\n",
       "        4.275537666250022,  4.283870999550022,  4.292204332850022,\n",
       "        4.300537666150022,  4.308870999450022,  4.317204332750022,\n",
       "        4.325537666050022, 4.3338709993500215,  4.342204332650022,\n",
       "        4.350537665950022,  4.358870999250022,  4.367204332550022,\n",
       "        4.375537665850022,  4.383870999150022,  4.392204332450022,\n",
       "        4.400537665750022,  4.408870999050022,  4.417204332350022,\n",
       "        4.425537665650022,  4.433870998950022, 4.4422043322500215,\n",
       "        4.450537665550022,  4.458870998850022,  4.467204332150022,\n",
       "        4.475537665450022,  4.483870998750022,  4.492204332050022,\n",
       "        4.500537665350022,  4.508870998650022,  4.517204331950022,\n",
       "        4.525537665250022,  4.533870998550022,  4.542204331850022,\n",
       "        4.550537665150022,  4.558870998450022, 4.5672043317500215,\n",
       "        4.575537665050022,  4.583870998350022,  4.592204331650022,\n",
       "        4.600537664950022,  4.608870998250022,  4.617204331550022,\n",
       "        4.625537664850022,  4.633870998150022,  4.642204331450022,\n",
       "        4.650537664750022,  4.658870998050022,  4.667204331350022,\n",
       "        4.675537664650022,  4.683870997950022,  4.692204331250022,\n",
       "        4.700537664550022,  4.708870997850022,  4.717204331150022,\n",
       "        4.725537664450022,  4.733870997750022,  4.742204331050022],\n",
       "      dtype=&#x27;float64&#x27;, name=&#x27;long&#x27;))</pre></div></li><li class='xr-var-item'><div class='xr-index-name'><div>variable</div></div><div class='xr-index-preview'>PandasIndex</div><input type='checkbox' disabled/><label></label><input id='index-e78e8197-680d-4b6d-a15b-b91bbeeb2007' class='xr-index-data-in' type='checkbox'/><label for='index-e78e8197-680d-4b6d-a15b-b91bbeeb2007' title='Show/Hide index repr'><svg class='icon xr-icon-database'><use xlink:href='#icon-database'></use></svg></label><div class='xr-index-data'><pre>PandasIndex(Index([&#x27;clt&#x27;, &#x27;cmi&#x27;, &#x27;hurs&#x27;, &#x27;pet&#x27;, &#x27;pr&#x27;, &#x27;rsds&#x27;, &#x27;sfcWind&#x27;, &#x27;tas&#x27;, &#x27;tasmax&#x27;,\n",
       "       &#x27;tasmin&#x27;, &#x27;vpd&#x27;],\n",
       "      dtype=&#x27;object&#x27;, name=&#x27;variable&#x27;))</pre></div></li></ul></div></li><li class='xr-section-item'><input id='section-002f7fc7-4743-4325-bf1e-ae570d415d25' class='xr-section-summary-in' type='checkbox' disabled ><label for='section-002f7fc7-4743-4325-bf1e-ae570d415d25' class='xr-section-summary'  title='Expand/collapse section'>Attributes: <span>(0)</span></label><div class='xr-section-inline-details'></div><div class='xr-section-details'><dl class='xr-attrs'></dl></div></li></ul></div></div>"
      ],
      "text/plain": [
       "<xarray.Dataset> Size: 2MB\n",
       "Dimensions:            (time: 12, lat: 23, long: 69, variable: 11)\n",
       "Coordinates:\n",
       "  * time               (time) datetime64[ns] 96B 1980-01-01 ... 1980-12-01\n",
       "  * lat                (lat) float64 184B 50.87 50.87 50.86 ... 50.71 50.7 50.69\n",
       "  * long               (long) float64 552B 4.176 4.184 4.192 ... 4.734 4.742\n",
       "  * variable           (variable) <U7 308B 'clt' 'cmi' 'hurs' ... 'tasmin' 'vpd'\n",
       "Data variables:\n",
       "    chelsa_month       (variable, time, lat, long) float64 2MB 5.152e+03 ... ...\n",
       "    chelsa_ref_period  (variable, lat, long) float64 140kB nan nan ... nan nan"
      ]
     },
     "execution_count": 115,
     "metadata": {},
     "output_type": "execute_result"
    }
   ],
   "source": [
    "test_ds"
   ]
  },
  {
   "cell_type": "code",
   "execution_count": null,
   "id": "7cd1e801-c6f7-4465-a4ea-e7885d5239c6",
   "metadata": {},
   "outputs": [],
   "source": []
  }
 ],
 "metadata": {
  "kernelspec": {
   "display_name": "Python 3 (ipykernel)",
   "language": "python",
   "name": "python3"
  },
  "language_info": {
   "codemirror_mode": {
    "name": "ipython",
    "version": 3
   },
   "file_extension": ".py",
   "mimetype": "text/x-python",
   "name": "python",
   "nbconvert_exporter": "python",
   "pygments_lexer": "ipython3",
   "version": "3.12.9"
  }
 },
 "nbformat": 4,
 "nbformat_minor": 5
}
