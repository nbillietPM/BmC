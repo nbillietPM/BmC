{
 "cells": [
  {
   "cell_type": "markdown",
   "id": "bc710655-ec9b-4fa3-90f6-408abcf1dae5",
   "metadata": {},
   "source": [
    "# Prototype data generation\n",
    "\n",
    "In this notebook we will layout an example workflow that can be used with the prototype cubing engine which is the endgoal of MS19 in the BmD project. "
   ]
  },
  {
   "cell_type": "markdown",
   "id": "91e72f4f-1dd4-478e-804f-ab68019f5641",
   "metadata": {},
   "source": [
    "## Setup\n",
    "\n",
    "In order to utilize the modules that were written for this project we will add the path temporarily to the environment so that we will not need to do a setup"
   ]
  },
  {
   "cell_type": "code",
   "execution_count": 9,
   "id": "18f9cfd4-42e2-4d02-9759-e09d18aa4d83",
   "metadata": {
    "scrolled": true
   },
   "outputs": [],
   "source": [
    "import sys\n",
    "import os\n",
    "\n",
    "# Get the path to src/ relative to this notebook\n",
    "notebook_dir = os.getcwd()\n",
    "src_path = os.path.abspath(os.path.join(notebook_dir, \"../../src\"))\n",
    "\n",
    "# Add to Python path if not already there\n",
    "if src_path not in sys.path:\n",
    "    sys.path.insert(0, src_path)"
   ]
  },
  {
   "cell_type": "markdown",
   "id": "cce25264-b62b-4912-a32e-83863358b957",
   "metadata": {},
   "source": [
    "## Prototype Area of interest\n",
    "\n",
    "For the prototype we will look at one of the Natura2000 sites in Belgium, the Sonian Forest and the surrounding sites. In the W3 T1 documentation for the BmD project a complete description of this area is given but we will provide a short overview in this notebook as well.\n",
    "\n",
    "<div style=\"float: right; width: 50%; margin-left: 15px; text-align: center;\">\n",
    "  <img src=\"img/AOI.png\" alt=\"Sonian Forest\" style=\"width:100%;\">\n",
    "  <div style=\"font-size: 90%; color: gray; margin-top: 4px;\">\n",
    "    <em>Figure 1:</em> Sonian Forest and its surrounding Natura2000 areas\n",
    "  </div>\n",
    "</div>\n",
    "\n",
    "<p>\n",
    "  The Sonian Forest and its surrounding areas are characterized by a set of habitats, which can be found on the \n",
    "  <a href=\"https://natura2000.eea.europa.eu/\" target=\"_blank\">Natura2000</a> website. The areas of interest are characterized by:\n",
    "</p>\n",
    "\n",
    "<ol>\n",
    "  <li>\n",
    "    <strong>La Forêt de Soignes avec lisières et domaines boisés avoisinants et la Vallée de la Woluwe</strong> – \n",
    "    <em>complexe Forêt de Soignes - Vallée de la Woluwe</em>\n",
    "    <ul>\n",
    "      <li><strong>Area code:</strong> BE1000001</li>\n",
    "      <li><strong>Protected under:</strong> the Habitats Directive</li>\n",
    "      <li><strong>Area:</strong> 2066 ha</li>\n",
    "      <li><strong>Protected:</strong> 5 species & 8 habitats</li>\n",
    "    </ul>\n",
    "  </li>\n",
    "  <li>\n",
    "    <strong>Sonian Forest</strong>\n",
    "    <ul>\n",
    "      <li><strong>Area code:</strong> BE2400008</li>\n",
    "      <li><strong>Protected under:</strong> the Habitats Directive</li>\n",
    "      <li><strong>Area:</strong> 2066 ha</li>\n",
    "      <li><strong>Protected:</strong> 3 species & 9 habitats</li>\n",
    "    </ul>\n",
    "  </li>\n",
    "  <li>\n",
    "    <strong>Vallées de l'Argentine et de la Lasne</strong>\n",
    "    <ul>\n",
    "      <li><strong>Area code:</strong> BE31002C0</li>\n",
    "      <li><strong>Protected under:</strong> both Birds and Habitats Directives</li>\n",
    "      <li><strong>Area:</strong> 821.45 ha</li>\n",
    "      <li><strong>Protected:</strong> 16 species & 14 habitats</li>\n",
    "    </ul>\n",
    "  </li>\n",
    "</ol>\n",
    "<p>\n",
    "  Each habitat is characterized by a set of species that are indicative of its health. In total there are \n",
    "  <strong>211 species of interest</strong> for this area, which are described within the file \n",
    "  <code>prototypeNames.csv</code> located in the prototype script directory under the \n",
    "  <code>inp</code> folder.\n",
    "</p>\n",
    "\n",
    "<p>\n",
    "  In addition to this, we also provide a file containing the invasive species that are known within the country. \n",
    "  This list, the <em>Global Register of Introduced and Invasive Species - Belgium</em>, can be found on \n",
    "  <a href=\"https://www.gbif.org/dataset/6d9e952f-948c-4483-9807-575348147c7e\" target=\"_blank\">GBIF</a> and is \n",
    "  accessible as a dataset containing a Darwin Core (DwC) archive.\n",
    "</p>"
   ]
  },
  {
   "cell_type": "code",
   "execution_count": 2,
   "id": "c99a188e-ace3-4f09-84e1-97b4eec23484",
   "metadata": {},
   "outputs": [],
   "source": [
    "#Bbox formatted with long_min, lat_min, long_max, lat_max for the areas of interest\n",
    "aoi_bbox = (4.171371,50.684060,4.743004,50.877911)\n",
    "#Path and filename to the species of interest\n",
    "species_oi_path = \"inp\"\n",
    "species_oi_file = \"prototypeNames.csv\"\n",
    "#Path and filename to the invasive species\n",
    "species_inv_path = \"inp/dwca-unified-checklist-v1.14\"\n",
    "species_inv_file = \"taxon.txt\""
   ]
  },
  {
   "cell_type": "markdown",
   "id": "f3ac49ea-57ff-4363-b11d-09e81ece8c3c",
   "metadata": {},
   "source": [
    "## GBIF \n",
    "\n",
    "### GBIF data gathering\n",
    "\n",
    "In this section we will use the functions described in 'src\\datasource\\gbif.py' to obtain relevant biodiversity data"
   ]
  },
  {
   "cell_type": "code",
   "execution_count": 3,
   "id": "87a68f1a-8c4c-43a8-9a2a-c002166853f1",
   "metadata": {},
   "outputs": [
    {
     "name": "stderr",
     "output_type": "stream",
     "text": [
      "INFO:Note: NumExpr detected 22 cores but \"NUMEXPR_MAX_THREADS\" not set, so enforcing safe limit of 16.\n",
      "INFO:NumExpr defaulting to 16 threads.\n"
     ]
    }
   ],
   "source": [
    "from datasource.gbif import gbif_sql"
   ]
  },
  {
   "cell_type": "code",
   "execution_count": 4,
   "id": "c617231e-00a3-4a04-a3af-c31536f0390f",
   "metadata": {},
   "outputs": [
    {
     "name": "stdout",
     "output_type": "stream",
     "text": [
      "'NONE' and 'HIGHERRANK' matches encountered while searching through the GBIF taxonomic backbone:\n",
      "The following lookup names (Carex sp., Lathyrus montanus, Chara sp, Ranunculus nemorosus, Salix alba, Lotus uliginosus, Picea abie) resulted in 'NONE' or 'HIGHERRANK' type match. Potential reasons can be found in the mismatch_df under the key 'note'\n"
     ]
    },
    {
     "name": "stderr",
     "output_type": "stream",
     "text": [
      "C:\\Users\\niels\\Documents\\Repositories\\BmC\\src\\datasource\\gbif\\gbif_sql.py:79: FutureWarning: A value is trying to be set on a copy of a DataFrame or Series through chained assignment using an inplace method.\n",
      "The behavior will change in pandas 3.0. This inplace method will never work because the intermediate object on which we are setting values always behaves as a copy.\n",
      "\n",
      "For example, when doing 'df[col].method(value, inplace=True)', try using 'df.method({col: value}, inplace=True)' or df[col] = df[col].method(value) instead, to perform the operation inplace on the original object.\n",
      "\n",
      "\n",
      "  taxonomic_df[\"acceptedUsageKey\"].fillna(taxonomic_df[\"usageKey\"], inplace=True)\n"
     ]
    }
   ],
   "source": [
    "species_oi_df, mismatch_oi_df = gbif_sql.fetch_taxon_info(species_oi_file, \n",
    "                                                         inp_path=species_oi_path,\n",
    "                                                         out_file=\"species_oi.csv\",\n",
    "                                                         out_path=\"out\",\n",
    "                                                         mismatch_file=\"species_mm.csv\",\n",
    "                                                         keep_higherrank=False)\n",
    "species_oi_keys = species_oi_df[\"acceptedUsageKey\"].values"
   ]
  },
  {
   "cell_type": "code",
   "execution_count": 5,
   "id": "597549d8-ce67-43e5-917f-e3336327272d",
   "metadata": {},
   "outputs": [
    {
     "data": {
      "text/plain": [
       "array([ 2914547,  3113784,  7502456,  6027388,  3923253,  2481119,\n",
       "        3135329,  5275012,  2481819,  2891147,  9118014,  2874027,\n",
       "        5331258,  2650133,  2685484,  2926557,  2787993,  2723315,\n",
       "        2926683,  8397184,  5304283,  3133702,  3033665,  9444556,\n",
       "        2673408,  5371874,  5410564,  5329192,  3033266,  5289877,\n",
       "        2727917,  2704505,  5334277,  2739622,  2882316,  3085811,\n",
       "        2701418,  2914642,  5365576,  3085424,  5371781,  3189172,\n",
       "        3039454,  5341478,  2360842,  2480726,  5369701,  3054168,\n",
       "        2671130,  2704211,  5386897,  5365496,  3029627,  3033263,\n",
       "        5366922,  2480910,  5301213,  2882482,  2729081,  5290194,\n",
       "        9490132,  2882833,  5388835,  2756540,  5371889,  4149465,\n",
       "        5314725,  2878688,  2890668,  5405976,  9213153,  7277865,\n",
       "        2681729,  7960979,  2477872,  3190715,  3113650,  5385604,\n",
       "        2888808,  2724609,  5333408,  2702717,  5384795,  3191374,\n",
       "        7883344,  5664390,  7702019,  2676091,  2493129,  5371818,\n",
       "        9752617,  5290081,  1704195,  8848598,  3136606,  8165236,\n",
       "        2876213,  5331916,  2722051,  2951998,  5743122,  2726592,\n",
       "        3112651,  5301141,  2432427,  2704951,  3152379,  6363434,\n",
       "        4109084,  7903764,  4567182,  2721983,  4932232,  3137498,\n",
       "        3188736,  5356973,  8214667,  5333411,  2700934,  3033377,\n",
       "        3189103,  8278445,  2873896,  3189863,  5371808,  3012167,\n",
       "        2432452,  5403531,  2475532,  5284517,  5373255,  3128547,\n",
       "        2706163,  5414222,  8229935,  3033289,  7531424,  3040227,\n",
       "        3033464,  3040249,  3113777,  6363496,  7693914,  5347644,\n",
       "        6027328,  3046044,  2875818,  8925249,  5409958,  5538108,\n",
       "        7297904,  5334208,  2681640,  3152047,  2880130,  3171712,\n",
       "        3033675,  2727294,  5329266,  2687943,  5376075,  3172049,\n",
       "        7459211,  3087634,  2913556,  3034620,  3034742,  4567215,\n",
       "        5347571,  2926901,  2480420,  2888960,  6026490,  5365283,\n",
       "        2673131,  2769766, 11071158,  8773033,  7589456,  5414992,\n",
       "        2878826,  2431885,  5374901,  2681714,  2987999,  8365713,\n",
       "        2721897,  7972010,  2675719,  2913288,  5301200,  5403296,\n",
       "        4116392,  7270598,  5347824,  2723099,  3169340,  2676491,\n",
       "        2927324,  5331355,  4408732,  2701939,  2722602,  3172427])"
      ]
     },
     "execution_count": 5,
     "metadata": {},
     "output_type": "execute_result"
    }
   ],
   "source": [
    "species_oi_keys"
   ]
  },
  {
   "cell_type": "code",
   "execution_count": 8,
   "id": "ff520085-4c5d-449b-b3c2-e2308ce94724",
   "metadata": {},
   "outputs": [
    {
     "data": {
      "text/plain": [
       "204"
      ]
     },
     "execution_count": 8,
     "metadata": {},
     "output_type": "execute_result"
    }
   ],
   "source": [
    "len(species_oi_keys)"
   ]
  },
  {
   "cell_type": "code",
   "execution_count": 7,
   "id": "262e3edb-9f33-48d9-b03f-06374585c6fc",
   "metadata": {},
   "outputs": [],
   "source": [
    "gbif_sql.generate_json_query(species_oi_keys, aoi_bbox, 1980, 2020,\n",
    "                            out_file=\"gbif_oi_query.json\", out_path=\"out\", notificationAddress=[\"niels.billiet@plantentuinmeise.be\"])"
   ]
  },
  {
   "cell_type": "code",
   "execution_count": 12,
   "id": "2511a566-31f8-4068-9176-e7e3fe41f49f",
   "metadata": {},
   "outputs": [],
   "source": [
    "species_inv_keys = [int(key) for key in  gbif_sql.extract_keys_dwc(\"invasiveNames.txt\", \"inp\")]"
   ]
  },
  {
   "cell_type": "code",
   "execution_count": 13,
   "id": "65a9a1ec-d3cb-4c49-a282-adb71fb04bf8",
   "metadata": {},
   "outputs": [],
   "source": [
    "gbif_sql.generate_json_query(species_inv_keys, aoi_bbox, \n",
    "                            out_file=\"gbif_inv_query.json\", out_path=\"out\", notificationAddress=[\"niels.billiet@plantentuinmeise.be\"])"
   ]
  },
  {
   "cell_type": "markdown",
   "id": "838fff69-f86d-4f07-9856-2a6a6986050e",
   "metadata": {},
   "source": [
    "Executing this code will generate .json file that will be stored within the current working directory. This json file can subsequently be used to call the GBIF SQL API through the gbifCube.sh bash script. \n",
    "1) Assure that the bash script has the correct permission to be execute from the shell. To check whether the file has the correct permission to execute use the `ls -l gbifCube.sh` command in the shell. If the file has execution permission it should have the `x` character. If the script does not have the right permission on your system use the `chmod +x gbifCube.sh` in your shell\n",
    "2) In order to run this bash script, GBIF credentials should be added to the `~/.bashrc`\n",
    "```\n",
    "EXPORT GBIF_USERNAME = \"yourUserName\"\n",
    "EXPORT GBIF_EMAIL = \"yourAccountEmail\"\n",
    "EXPORT GBIF_PASSWORD = \"yourPassword\"\n",
    "```\n",
    "3) Execution of the `gbifCube.sh` script will return a message that ends in multidigit string. This multidigit string should subsequently be used to download the files"
   ]
  },
  {
   "cell_type": "markdown",
   "id": "7621671a-6d92-4f1b-a22e-179af7a6fdab",
   "metadata": {},
   "source": [
    "### GBIF data exploration\n",
    "\n",
    "In this section we will perform exploration of the queried data obtained from GBIF to determine the timeframe from which we will sample CHELSA data"
   ]
  },
  {
   "cell_type": "code",
   "execution_count": 4,
   "id": "10432931-bba0-4b54-87ff-dc1f17f96491",
   "metadata": {},
   "outputs": [
    {
     "data": {
      "text/html": [
       "<div>\n",
       "<style scoped>\n",
       "    .dataframe tbody tr th:only-of-type {\n",
       "        vertical-align: middle;\n",
       "    }\n",
       "\n",
       "    .dataframe tbody tr th {\n",
       "        vertical-align: top;\n",
       "    }\n",
       "\n",
       "    .dataframe thead th {\n",
       "        text-align: right;\n",
       "    }\n",
       "</style>\n",
       "<table border=\"1\" class=\"dataframe\">\n",
       "  <thead>\n",
       "    <tr style=\"text-align: right;\">\n",
       "      <th></th>\n",
       "      <th>year</th>\n",
       "      <th>month</th>\n",
       "      <th>decimallatitude</th>\n",
       "      <th>decimallongitude</th>\n",
       "      <th>specieskey</th>\n",
       "      <th>species</th>\n",
       "    </tr>\n",
       "  </thead>\n",
       "  <tbody>\n",
       "    <tr>\n",
       "      <th>0</th>\n",
       "      <td>1865</td>\n",
       "      <td>5</td>\n",
       "      <td>50.751944</td>\n",
       "      <td>4.615833</td>\n",
       "      <td>3054168</td>\n",
       "      <td>Teesdalia nudicaulis</td>\n",
       "    </tr>\n",
       "    <tr>\n",
       "      <th>1</th>\n",
       "      <td>1901</td>\n",
       "      <td>4</td>\n",
       "      <td>50.835417</td>\n",
       "      <td>4.284758</td>\n",
       "      <td>2687943</td>\n",
       "      <td>Equisetum telmateia</td>\n",
       "    </tr>\n",
       "    <tr>\n",
       "      <th>2</th>\n",
       "      <td>2016</td>\n",
       "      <td>5</td>\n",
       "      <td>50.826630</td>\n",
       "      <td>4.664595</td>\n",
       "      <td>3012167</td>\n",
       "      <td>Sorbus aucuparia</td>\n",
       "    </tr>\n",
       "    <tr>\n",
       "      <th>3</th>\n",
       "      <td>2021</td>\n",
       "      <td>5</td>\n",
       "      <td>50.797815</td>\n",
       "      <td>4.390093</td>\n",
       "      <td>2926557</td>\n",
       "      <td>Glechoma hederacea</td>\n",
       "    </tr>\n",
       "    <tr>\n",
       "      <th>4</th>\n",
       "      <td>2021</td>\n",
       "      <td>5</td>\n",
       "      <td>50.810650</td>\n",
       "      <td>4.446678</td>\n",
       "      <td>5376075</td>\n",
       "      <td>Alliaria petiolata</td>\n",
       "    </tr>\n",
       "  </tbody>\n",
       "</table>\n",
       "</div>"
      ],
      "text/plain": [
       "   year  month  decimallatitude  decimallongitude  specieskey  \\\n",
       "0  1865      5        50.751944          4.615833     3054168   \n",
       "1  1901      4        50.835417          4.284758     2687943   \n",
       "2  2016      5        50.826630          4.664595     3012167   \n",
       "3  2021      5        50.797815          4.390093     2926557   \n",
       "4  2021      5        50.810650          4.446678     5376075   \n",
       "\n",
       "                species  \n",
       "0  Teesdalia nudicaulis  \n",
       "1   Equisetum telmateia  \n",
       "2      Sorbus aucuparia  \n",
       "3    Glechoma hederacea  \n",
       "4    Alliaria petiolata  "
      ]
     },
     "execution_count": 4,
     "metadata": {},
     "output_type": "execute_result"
    }
   ],
   "source": [
    "import pandas as pd\n",
    "\n",
    "species_df = pd.read_csv(\"out/species_oi/0089866-250525065834625.csv\", delimiter=\"\\t\")\n",
    "species_df.head()"
   ]
  },
  {
   "cell_type": "code",
   "execution_count": 8,
   "id": "ae7913cf-b7fe-4cc3-ae2b-1bd04a4765df",
   "metadata": {},
   "outputs": [
    {
     "data": {
      "image/png": "[encoded data removed]",
      "text/plain": [
       "<Figure size 640x480 with 1 Axes>"
      ]
     },
     "metadata": {},
     "output_type": "display_data"
    }
   ],
   "source": [
    "import matplotlib.pyplot as plt\n",
    "# Count occurrences of each year\n",
    "year_counts = species_df['year'].value_counts().sort_index()\n",
    "\n",
    "# Plot as a bar chart\n",
    "fig, ax = plt.subplots()\n",
    "ax.bar(year_counts.index, year_counts.values, width=0.8, align='center')  # width<1 to avoid overlap\n",
    "\n",
    "# Logarithmic y-axis\n",
    "ax.set_yscale('log')\n",
    "\n",
    "# Labeling\n",
    "ax.set_xlabel('Year')\n",
    "ax.set_ylabel('log Count')\n",
    "ax.set_title('Histogram of Years')\n",
    "\n",
    "plt.grid(axis='y', linestyle='--', alpha=0.7)\n",
    "plt.tight_layout()\n",
    "plt.show()"
   ]
  },
  {
   "cell_type": "markdown",
   "id": "cf7b65df-1ef1-4148-822e-6907fb2dc751",
   "metadata": {},
   "source": [
    "### GBIF reprojection and rasterization of the data\n",
    "\n",
    "The GBIF data itself is not yet in a format that is compatible with remote sensing data and as such we will need to reproject it and bring it to a shared raster with other data"
   ]
  },
  {
   "cell_type": "markdown",
   "id": "1eaaae89-a054-4210-8985-b1111a035bed",
   "metadata": {},
   "source": [
    "## CHELSA"
   ]
  },
  {
   "cell_type": "code",
   "execution_count": 4,
   "id": "019ba9ef-2423-48b9-aa75-be208a2da16a",
   "metadata": {},
   "outputs": [
    {
     "name": "stdout",
     "output_type": "stream",
     "text": [
      "False\n"
     ]
    }
   ],
   "source": [
    "from rasterio.env import Env\n"
   ]
  },
  {
   "cell_type": "code",
   "execution_count": 1,
   "id": "c000d23f-d2b3-4df4-b3b1-45e700b69880",
   "metadata": {},
   "outputs": [],
   "source": [
    "import sys\n",
    "\n",
    "from pathlib import Path\n",
    "\n",
    "# Add the src directory to sys.path\n",
    "sys.path.append(str(Path().resolve().parents[1] / \"src\"))\n",
    "\n",
    "from utils.chelsa import extract_param\n",
    "from cube import chelsa\n",
    "\n",
    "chelsa_cube = chelsa.chelsa_cube()\n",
    "#chelsa_month_param = extract_param.read_chelsa_month_param(\"prototype_param.yaml\", \"../../config\")"
   ]
  },
  {
   "cell_type": "code",
   "execution_count": 2,
   "id": "aff8e480-2625-415a-81d1-6ebff13c07fd",
   "metadata": {},
   "outputs": [
    {
     "data": {
      "text/plain": [
       "<cube.chelsa.chelsa_cube at 0x1f98a8534d0>"
      ]
     },
     "execution_count": 2,
     "metadata": {},
     "output_type": "execute_result"
    }
   ],
   "source": [
    "chelsa_cube"
   ]
  },
  {
   "cell_type": "code",
   "execution_count": 3,
   "id": "5207c33d-df1d-4768-97cf-7258861cf01d",
   "metadata": {
    "scrolled": true
   },
   "outputs": [
    {
     "name": "stdout",
     "output_type": "stream",
     "text": [
      "-----Retrieving monthly CHELSA data for variable 'clt'-----\n"
     ]
    },
    {
     "name": "stderr",
     "output_type": "stream",
     "text": [
      "Processing: 100%|████████████████████████████████████████████████████████████████████████████████████████████████████████████████| 12/12 [00:07<00:00,  1.52item/s]\n"
     ]
    },
    {
     "name": "stdout",
     "output_type": "stream",
     "text": [
      "-----Retrieving monthly CHELSA data for variable 'cmi'-----\n"
     ]
    },
    {
     "name": "stderr",
     "output_type": "stream",
     "text": [
      "Processing: 100%|████████████████████████████████████████████████████████████████████████████████████████████████████████████████| 12/12 [00:08<00:00,  1.42item/s]\n"
     ]
    },
    {
     "name": "stdout",
     "output_type": "stream",
     "text": [
      "-----Retrieving monthly CHELSA data for variable 'hurs'-----\n"
     ]
    },
    {
     "name": "stderr",
     "output_type": "stream",
     "text": [
      "Processing: 100%|████████████████████████████████████████████████████████████████████████████████████████████████████████████████| 12/12 [00:07<00:00,  1.60item/s]\n"
     ]
    },
    {
     "name": "stdout",
     "output_type": "stream",
     "text": [
      "-----Retrieving monthly CHELSA data for variable 'pet'-----\n"
     ]
    },
    {
     "name": "stderr",
     "output_type": "stream",
     "text": [
      "Processing: 100%|████████████████████████████████████████████████████████████████████████████████████████████████████████████████| 12/12 [00:08<00:00,  1.45item/s]\n"
     ]
    },
    {
     "name": "stdout",
     "output_type": "stream",
     "text": [
      "-----Retrieving monthly CHELSA data for variable 'pr'-----\n"
     ]
    },
    {
     "name": "stderr",
     "output_type": "stream",
     "text": [
      "Processing: 100%|████████████████████████████████████████████████████████████████████████████████████████████████████████████████| 12/12 [00:07<00:00,  1.56item/s]\n"
     ]
    },
    {
     "name": "stdout",
     "output_type": "stream",
     "text": [
      "-----Retrieving monthly CHELSA data for variable 'rsds'-----\n"
     ]
    },
    {
     "name": "stderr",
     "output_type": "stream",
     "text": [
      "Processing: 100%|████████████████████████████████████████████████████████████████████████████████████████████████████████████████| 12/12 [00:07<00:00,  1.53item/s]\n"
     ]
    },
    {
     "name": "stdout",
     "output_type": "stream",
     "text": [
      "-----Retrieving monthly CHELSA data for variable 'sfcWind'-----\n"
     ]
    },
    {
     "name": "stderr",
     "output_type": "stream",
     "text": [
      "Processing: 100%|████████████████████████████████████████████████████████████████████████████████████████████████████████████████| 12/12 [00:08<00:00,  1.42item/s]\n"
     ]
    },
    {
     "name": "stdout",
     "output_type": "stream",
     "text": [
      "-----Retrieving monthly CHELSA data for variable 'tas'-----\n"
     ]
    },
    {
     "name": "stderr",
     "output_type": "stream",
     "text": [
      "Processing: 100%|████████████████████████████████████████████████████████████████████████████████████████████████████████████████| 12/12 [00:07<00:00,  1.71item/s]\n"
     ]
    },
    {
     "name": "stdout",
     "output_type": "stream",
     "text": [
      "-----Retrieving monthly CHELSA data for variable 'tasmax'-----\n"
     ]
    },
    {
     "name": "stderr",
     "output_type": "stream",
     "text": [
      "Processing: 100%|████████████████████████████████████████████████████████████████████████████████████████████████████████████████| 12/12 [00:07<00:00,  1.61item/s]\n"
     ]
    },
    {
     "name": "stdout",
     "output_type": "stream",
     "text": [
      "-----Retrieving monthly CHELSA data for variable 'tasmin'-----\n"
     ]
    },
    {
     "name": "stderr",
     "output_type": "stream",
     "text": [
      "Processing: 100%|████████████████████████████████████████████████████████████████████████████████████████████████████████████████| 12/12 [00:07<00:00,  1.67item/s]\n"
     ]
    },
    {
     "name": "stdout",
     "output_type": "stream",
     "text": [
      "-----Retrieving monthly CHELSA data for variable 'vpd'-----\n"
     ]
    },
    {
     "name": "stderr",
     "output_type": "stream",
     "text": [
      "Processing: 100%|████████████████████████████████████████████████████████████████████████████████████████████████████████████████| 12/12 [00:07<00:00,  1.59item/s]\n"
     ]
    },
    {
     "name": "stdout",
     "output_type": "stream",
     "text": [
      "-----Retrieving Reference Climatology CHELSA data for variable 'ai' in reference period 1981-2010-----\n",
      "Complete\n",
      "-----Retrieving Reference Climatology CHELSA data for variable 'bio10' in reference period 1981-2010-----\n",
      "Complete\n",
      "-----Retrieving Reference Climatology CHELSA data for variable 'bio11' in reference period 1981-2010-----\n",
      "Complete\n",
      "-----Retrieving Reference Climatology CHELSA data for variable 'bio12' in reference period 1981-2010-----\n",
      "Complete\n",
      "-----Retrieving Reference Climatology CHELSA data for variable 'bio13' in reference period 1981-2010-----\n",
      "Complete\n",
      "-----Retrieving Reference Climatology CHELSA data for variable 'bio14' in reference period 1981-2010-----\n",
      "Complete\n",
      "-----Retrieving Reference Climatology CHELSA data for variable 'bio15' in reference period 1981-2010-----\n",
      "Complete\n",
      "-----Retrieving Reference Climatology CHELSA data for variable 'bio16' in reference period 1981-2010-----\n",
      "Complete\n",
      "-----Retrieving Reference Climatology CHELSA data for variable 'bio17' in reference period 1981-2010-----\n",
      "Complete\n",
      "-----Retrieving Reference Climatology CHELSA data for variable 'bio18' in reference period 1981-2010-----\n",
      "Complete\n",
      "-----Retrieving Reference Climatology CHELSA data for variable 'bio19' in reference period 1981-2010-----\n",
      "Complete\n",
      "-----Retrieving Reference Climatology CHELSA data for variable 'bio1' in reference period 1981-2010-----\n",
      "Complete\n",
      "-----Retrieving Reference Climatology CHELSA data for variable 'bio2' in reference period 1981-2010-----\n",
      "Complete\n",
      "-----Retrieving Reference Climatology CHELSA data for variable 'bio3' in reference period 1981-2010-----\n",
      "Complete\n",
      "-----Retrieving Reference Climatology CHELSA data for variable 'bio4' in reference period 1981-2010-----\n",
      "Complete\n",
      "-----Retrieving Reference Climatology CHELSA data for variable 'bio5' in reference period 1981-2010-----\n",
      "Complete\n",
      "-----Retrieving Reference Climatology CHELSA data for variable 'bio6' in reference period 1981-2010-----\n",
      "Complete\n",
      "-----Retrieving Reference Climatology CHELSA data for variable 'bio7' in reference period 1981-2010-----\n",
      "Complete\n",
      "-----Retrieving Reference Climatology CHELSA data for variable 'bio8' in reference period 1981-2010-----\n",
      "Complete\n",
      "-----Retrieving Reference Climatology CHELSA data for variable 'bio9' in reference period 1981-2010-----\n",
      "Complete\n",
      "-----Retrieving Reference Climatology CHELSA data for variable 'clt_max' in reference period 1981-2010-----\n",
      "Complete\n",
      "-----Retrieving Reference Climatology CHELSA data for variable 'clt_mean' in reference period 1981-2010-----\n",
      "Complete\n",
      "-----Retrieving Reference Climatology CHELSA data for variable 'clt_min' in reference period 1981-2010-----\n",
      "Complete\n",
      "-----Retrieving Reference Climatology CHELSA data for variable 'clt_range' in reference period 1981-2010-----\n",
      "Complete\n",
      "-----Retrieving Reference Climatology CHELSA data for variable 'cmi_max' in reference period 1981-2010-----\n",
      "Complete\n",
      "-----Retrieving Reference Climatology CHELSA data for variable 'cmi_mean' in reference period 1981-2010-----\n",
      "Complete\n",
      "-----Retrieving Reference Climatology CHELSA data for variable 'cmi_min' in reference period 1981-2010-----\n",
      "Complete\n",
      "-----Retrieving Reference Climatology CHELSA data for variable 'cmi_range' in reference period 1981-2010-----\n",
      "Complete\n",
      "-----Retrieving Reference Climatology CHELSA data for variable 'fcf' in reference period 1981-2010-----\n",
      "Complete\n",
      "-----Retrieving Reference Climatology CHELSA data for variable 'fgd' in reference period 1981-2010-----\n",
      "Complete\n",
      "-----Retrieving Reference Climatology CHELSA data for variable 'gdd0' in reference period 1981-2010-----\n",
      "Complete\n",
      "-----Retrieving Reference Climatology CHELSA data for variable 'gdd10' in reference period 1981-2010-----\n",
      "Complete\n",
      "-----Retrieving Reference Climatology CHELSA data for variable 'gdd5' in reference period 1981-2010-----\n",
      "Complete\n",
      "-----Retrieving Reference Climatology CHELSA data for variable 'gddlgd0' in reference period 1981-2010-----\n",
      "Complete\n",
      "-----Retrieving Reference Climatology CHELSA data for variable 'gddlgd10' in reference period 1981-2010-----\n",
      "Complete\n",
      "-----Retrieving Reference Climatology CHELSA data for variable 'gddlgd5' in reference period 1981-2010-----\n",
      "Complete\n",
      "-----Retrieving Reference Climatology CHELSA data for variable 'gdgfgd0' in reference period 1981-2010-----\n",
      "Complete\n",
      "-----Retrieving Reference Climatology CHELSA data for variable 'gdgfgd10' in reference period 1981-2010-----\n",
      "Complete\n",
      "-----Retrieving Reference Climatology CHELSA data for variable 'gdgfgd5' in reference period 1981-2010-----\n",
      "Complete\n",
      "-----Retrieving Reference Climatology CHELSA data for variable 'gsl' in reference period 1981-2010-----\n",
      "Complete\n",
      "-----Retrieving Reference Climatology CHELSA data for variable 'gsp' in reference period 1981-2010-----\n",
      "Complete\n",
      "-----Retrieving Reference Climatology CHELSA data for variable 'gst' in reference period 1981-2010-----\n",
      "Complete\n",
      "-----Retrieving Reference Climatology CHELSA data for variable 'hurs_max' in reference period 1981-2010-----\n",
      "Complete\n",
      "-----Retrieving Reference Climatology CHELSA data for variable 'hurs_mean' in reference period 1981-2010-----\n",
      "Complete\n",
      "-----Retrieving Reference Climatology CHELSA data for variable 'hurs_min' in reference period 1981-2010-----\n",
      "Complete\n",
      "-----Retrieving Reference Climatology CHELSA data for variable 'hurs_range' in reference period 1981-2010-----\n",
      "Complete\n",
      "-----Retrieving Reference Climatology CHELSA data for variable 'kg0' in reference period 1981-2010-----\n",
      "Complete\n",
      "-----Retrieving Reference Climatology CHELSA data for variable 'kg1' in reference period 1981-2010-----\n",
      "Complete\n",
      "-----Retrieving Reference Climatology CHELSA data for variable 'kg2' in reference period 1981-2010-----\n",
      "Complete\n",
      "-----Retrieving Reference Climatology CHELSA data for variable 'kg3' in reference period 1981-2010-----\n",
      "Complete\n",
      "-----Retrieving Reference Climatology CHELSA data for variable 'kg4' in reference period 1981-2010-----\n",
      "Complete\n",
      "-----Retrieving Reference Climatology CHELSA data for variable 'kg5' in reference period 1981-2010-----\n",
      "Complete\n",
      "-----Retrieving Reference Climatology CHELSA data for variable 'lgd' in reference period 1981-2010-----\n",
      "Complete\n",
      "-----Retrieving Reference Climatology CHELSA data for variable 'ngd0' in reference period 1981-2010-----\n",
      "Complete\n",
      "-----Retrieving Reference Climatology CHELSA data for variable 'ngd10' in reference period 1981-2010-----\n",
      "Complete\n",
      "-----Retrieving Reference Climatology CHELSA data for variable 'ngd5' in reference period 1981-2010-----\n",
      "Complete\n",
      "-----Retrieving Reference Climatology CHELSA data for variable 'npp' in reference period 1981-2010-----\n",
      "Complete\n",
      "-----Retrieving Reference Climatology CHELSA data for variable 'pet_penman_max' in reference period 1981-2010-----\n",
      "Complete\n",
      "-----Retrieving Reference Climatology CHELSA data for variable 'pet_penman_mean' in reference period 1981-2010-----\n",
      "Complete\n",
      "-----Retrieving Reference Climatology CHELSA data for variable 'pet_penman_min' in reference period 1981-2010-----\n",
      "Complete\n",
      "-----Retrieving Reference Climatology CHELSA data for variable 'pet_penman_range' in reference period 1981-2010-----\n",
      "Complete\n",
      "-----Retrieving Reference Climatology CHELSA data for variable 'rsds_max' in reference period 1981-2010-----\n",
      "Complete\n",
      "-----Retrieving Reference Climatology CHELSA data for variable 'rsds_min' in reference period 1981-2010-----\n",
      "Complete\n",
      "-----Retrieving Reference Climatology CHELSA data for variable 'rsds_mean' in reference period 1981-2010-----\n",
      "Complete\n",
      "-----Retrieving Reference Climatology CHELSA data for variable 'rsds_range' in reference period 1981-2010-----\n",
      "Complete\n",
      "-----Retrieving Reference Climatology CHELSA data for variable 'scd' in reference period 1981-2010-----\n",
      "Complete\n",
      "-----Retrieving Reference Climatology CHELSA data for variable 'sfcWind_max' in reference period 1981-2010-----\n",
      "Complete\n",
      "-----Retrieving Reference Climatology CHELSA data for variable 'sfcWind_mean' in reference period 1981-2010-----\n",
      "Complete\n",
      "-----Retrieving Reference Climatology CHELSA data for variable 'sfcWind_min' in reference period 1981-2010-----\n",
      "Complete\n",
      "-----Retrieving Reference Climatology CHELSA data for variable 'sfcWind_range' in reference period 1981-2010-----\n",
      "Complete\n",
      "-----Retrieving Reference Climatology CHELSA data for variable 'swb' in reference period 1981-2010-----\n",
      "Complete\n",
      "-----Retrieving Reference Climatology CHELSA data for variable 'swe' in reference period 1981-2010-----\n",
      "Complete\n",
      "-----Retrieving Reference Climatology CHELSA data for variable 'vpd_max' in reference period 1981-2010-----\n",
      "Complete\n",
      "-----Retrieving Reference Climatology CHELSA data for variable 'vpd_mean' in reference period 1981-2010-----\n",
      "Complete\n",
      "-----Retrieving Reference Climatology CHELSA data for variable 'vpd_min' in reference period 1981-2010-----\n",
      "Complete\n",
      "-----Retrieving Reference Climatology CHELSA data for variable 'vpd_range' in reference period 1981-2010-----\n",
      "Complete\n",
      "-----Retrieving monthly Reference Climatology CHELSA data for variable 'clt' in reference period 1981-2010-----\n"
     ]
    },
    {
     "name": "stderr",
     "output_type": "stream",
     "text": [
      "Processing: 100%|██████████████████████████████████████████████████████████████████████████████████████████████████████████████████| 2/2 [00:01<00:00,  1.56item/s]\n"
     ]
    },
    {
     "name": "stdout",
     "output_type": "stream",
     "text": [
      "-----Retrieving monthly Reference Climatology CHELSA data for variable 'cmi' in reference period 1981-2010-----\n"
     ]
    },
    {
     "name": "stderr",
     "output_type": "stream",
     "text": [
      "Processing: 100%|██████████████████████████████████████████████████████████████████████████████████████████████████████████████████| 2/2 [00:01<00:00,  1.64item/s]\n"
     ]
    },
    {
     "name": "stdout",
     "output_type": "stream",
     "text": [
      "-----Retrieving monthly Reference Climatology CHELSA data for variable 'hurs' in reference period 1981-2010-----\n"
     ]
    },
    {
     "name": "stderr",
     "output_type": "stream",
     "text": [
      "Processing: 100%|██████████████████████████████████████████████████████████████████████████████████████████████████████████████████| 2/2 [00:01<00:00,  1.52item/s]\n"
     ]
    },
    {
     "name": "stdout",
     "output_type": "stream",
     "text": [
      "-----Retrieving monthly Reference Climatology CHELSA data for variable 'pet' in reference period 1981-2010-----\n"
     ]
    },
    {
     "name": "stderr",
     "output_type": "stream",
     "text": [
      "Processing: 100%|██████████████████████████████████████████████████████████████████████████████████████████████████████████████████| 2/2 [00:01<00:00,  1.52item/s]\n"
     ]
    },
    {
     "name": "stdout",
     "output_type": "stream",
     "text": [
      "-----Retrieving monthly Reference Climatology CHELSA data for variable 'pr' in reference period 1981-2010-----\n"
     ]
    },
    {
     "name": "stderr",
     "output_type": "stream",
     "text": [
      "Processing: 100%|██████████████████████████████████████████████████████████████████████████████████████████████████████████████████| 2/2 [00:01<00:00,  1.14item/s]\n"
     ]
    },
    {
     "name": "stdout",
     "output_type": "stream",
     "text": [
      "-----Retrieving monthly Reference Climatology CHELSA data for variable 'rsds' in reference period 1981-2010-----\n"
     ]
    },
    {
     "name": "stderr",
     "output_type": "stream",
     "text": [
      "Processing: 100%|██████████████████████████████████████████████████████████████████████████████████████████████████████████████████| 2/2 [00:01<00:00,  1.27item/s]\n"
     ]
    },
    {
     "name": "stdout",
     "output_type": "stream",
     "text": [
      "-----Retrieving monthly Reference Climatology CHELSA data for variable 'sfcWind' in reference period 1981-2010-----\n"
     ]
    },
    {
     "name": "stderr",
     "output_type": "stream",
     "text": [
      "Processing: 100%|██████████████████████████████████████████████████████████████████████████████████████████████████████████████████| 2/2 [00:01<00:00,  1.67item/s]\n"
     ]
    },
    {
     "name": "stdout",
     "output_type": "stream",
     "text": [
      "-----Retrieving monthly Reference Climatology CHELSA data for variable 'tas' in reference period 1981-2010-----\n"
     ]
    },
    {
     "name": "stderr",
     "output_type": "stream",
     "text": [
      "Processing: 100%|██████████████████████████████████████████████████████████████████████████████████████████████████████████████████| 2/2 [00:01<00:00,  1.46item/s]\n"
     ]
    },
    {
     "name": "stdout",
     "output_type": "stream",
     "text": [
      "-----Retrieving monthly Reference Climatology CHELSA data for variable 'tasmax' in reference period 1981-2010-----\n"
     ]
    },
    {
     "name": "stderr",
     "output_type": "stream",
     "text": [
      "Processing: 100%|██████████████████████████████████████████████████████████████████████████████████████████████████████████████████| 2/2 [00:01<00:00,  1.21item/s]\n"
     ]
    },
    {
     "name": "stdout",
     "output_type": "stream",
     "text": [
      "-----Retrieving monthly Reference Climatology CHELSA data for variable 'tasmin' in reference period 1981-2010-----\n"
     ]
    },
    {
     "name": "stderr",
     "output_type": "stream",
     "text": [
      "Processing: 100%|██████████████████████████████████████████████████████████████████████████████████████████████████████████████████| 2/2 [00:01<00:00,  1.17item/s]\n"
     ]
    },
    {
     "name": "stdout",
     "output_type": "stream",
     "text": [
      "-----Retrieving monthly Reference Climatology CHELSA data for variable 'vpd' in reference period 1981-2010-----\n"
     ]
    },
    {
     "name": "stderr",
     "output_type": "stream",
     "text": [
      "Processing: 100%|██████████████████████████████████████████████████████████████████████████████████████████████████████████████████| 2/2 [00:01<00:00,  1.18item/s]\n"
     ]
    },
    {
     "name": "stdout",
     "output_type": "stream",
     "text": [
      "-----Retrieving Simulation (period) CHELSA data for variable 'bio10'-----\n"
     ]
    },
    {
     "name": "stderr",
     "output_type": "stream",
     "text": [
      "Processing: 100%|██████████████████████████████████████████████████████████████████████████████████████████████████████████████████| 8/8 [00:05<00:00,  1.52item/s]\n"
     ]
    },
    {
     "name": "stdout",
     "output_type": "stream",
     "text": [
      "-----Retrieving Simulation (period) CHELSA data for variable 'bio11'-----\n"
     ]
    },
    {
     "name": "stderr",
     "output_type": "stream",
     "text": [
      "Processing: 100%|██████████████████████████████████████████████████████████████████████████████████████████████████████████████████| 8/8 [00:04<00:00,  1.73item/s]\n"
     ]
    },
    {
     "name": "stdout",
     "output_type": "stream",
     "text": [
      "-----Retrieving Simulation (period) CHELSA data for variable 'bio12'-----\n"
     ]
    },
    {
     "name": "stderr",
     "output_type": "stream",
     "text": [
      "Processing: 100%|██████████████████████████████████████████████████████████████████████████████████████████████████████████████████| 8/8 [00:05<00:00,  1.50item/s]\n"
     ]
    },
    {
     "name": "stdout",
     "output_type": "stream",
     "text": [
      "-----Retrieving Simulation (period) CHELSA data for variable 'bio13'-----\n"
     ]
    },
    {
     "name": "stderr",
     "output_type": "stream",
     "text": [
      "Processing: 100%|██████████████████████████████████████████████████████████████████████████████████████████████████████████████████| 8/8 [00:05<00:00,  1.53item/s]\n"
     ]
    },
    {
     "name": "stdout",
     "output_type": "stream",
     "text": [
      "-----Retrieving Simulation (period) CHELSA data for variable 'bio14'-----\n"
     ]
    },
    {
     "name": "stderr",
     "output_type": "stream",
     "text": [
      "Processing: 100%|██████████████████████████████████████████████████████████████████████████████████████████████████████████████████| 8/8 [00:04<00:00,  1.83item/s]\n"
     ]
    },
    {
     "name": "stdout",
     "output_type": "stream",
     "text": [
      "-----Retrieving Simulation (period) CHELSA data for variable 'bio15'-----\n"
     ]
    },
    {
     "name": "stderr",
     "output_type": "stream",
     "text": [
      "Processing: 100%|██████████████████████████████████████████████████████████████████████████████████████████████████████████████████| 8/8 [00:04<00:00,  1.75item/s]\n"
     ]
    },
    {
     "name": "stdout",
     "output_type": "stream",
     "text": [
      "-----Retrieving Simulation (period) CHELSA data for variable 'bio16'-----\n"
     ]
    },
    {
     "name": "stderr",
     "output_type": "stream",
     "text": [
      "Processing: 100%|██████████████████████████████████████████████████████████████████████████████████████████████████████████████████| 8/8 [00:05<00:00,  1.51item/s]\n"
     ]
    },
    {
     "name": "stdout",
     "output_type": "stream",
     "text": [
      "-----Retrieving Simulation (period) CHELSA data for variable 'bio17'-----\n"
     ]
    },
    {
     "name": "stderr",
     "output_type": "stream",
     "text": [
      "Processing: 100%|██████████████████████████████████████████████████████████████████████████████████████████████████████████████████| 8/8 [00:05<00:00,  1.59item/s]\n"
     ]
    },
    {
     "name": "stdout",
     "output_type": "stream",
     "text": [
      "-----Retrieving Simulation (period) CHELSA data for variable 'bio18'-----\n"
     ]
    },
    {
     "name": "stderr",
     "output_type": "stream",
     "text": [
      "Processing: 100%|██████████████████████████████████████████████████████████████████████████████████████████████████████████████████| 8/8 [00:05<00:00,  1.47item/s]\n"
     ]
    },
    {
     "name": "stdout",
     "output_type": "stream",
     "text": [
      "-----Retrieving Simulation (period) CHELSA data for variable 'bio19'-----\n"
     ]
    },
    {
     "name": "stderr",
     "output_type": "stream",
     "text": [
      "Processing: 100%|██████████████████████████████████████████████████████████████████████████████████████████████████████████████████| 8/8 [00:04<00:00,  1.60item/s]\n"
     ]
    },
    {
     "name": "stdout",
     "output_type": "stream",
     "text": [
      "-----Retrieving Simulation (period) CHELSA data for variable 'bio1'-----\n"
     ]
    },
    {
     "name": "stderr",
     "output_type": "stream",
     "text": [
      "Processing: 100%|██████████████████████████████████████████████████████████████████████████████████████████████████████████████████| 8/8 [00:04<00:00,  1.73item/s]\n"
     ]
    },
    {
     "name": "stdout",
     "output_type": "stream",
     "text": [
      "-----Retrieving Simulation (period) CHELSA data for variable 'bio2'-----\n"
     ]
    },
    {
     "name": "stderr",
     "output_type": "stream",
     "text": [
      "Processing: 100%|██████████████████████████████████████████████████████████████████████████████████████████████████████████████████| 8/8 [00:04<00:00,  1.73item/s]\n"
     ]
    },
    {
     "name": "stdout",
     "output_type": "stream",
     "text": [
      "-----Retrieving Simulation (period) CHELSA data for variable 'bio3'-----\n"
     ]
    },
    {
     "name": "stderr",
     "output_type": "stream",
     "text": [
      "Processing: 100%|██████████████████████████████████████████████████████████████████████████████████████████████████████████████████| 8/8 [00:05<00:00,  1.43item/s]\n"
     ]
    },
    {
     "name": "stdout",
     "output_type": "stream",
     "text": [
      "-----Retrieving Simulation (period) CHELSA data for variable 'bio4'-----\n"
     ]
    },
    {
     "name": "stderr",
     "output_type": "stream",
     "text": [
      "Processing: 100%|██████████████████████████████████████████████████████████████████████████████████████████████████████████████████| 8/8 [00:05<00:00,  1.52item/s]\n"
     ]
    },
    {
     "name": "stdout",
     "output_type": "stream",
     "text": [
      "-----Retrieving Simulation (period) CHELSA data for variable 'bio5'-----\n"
     ]
    },
    {
     "name": "stderr",
     "output_type": "stream",
     "text": [
      "Processing: 100%|██████████████████████████████████████████████████████████████████████████████████████████████████████████████████| 8/8 [00:04<00:00,  1.66item/s]\n"
     ]
    },
    {
     "name": "stdout",
     "output_type": "stream",
     "text": [
      "-----Retrieving Simulation (period) CHELSA data for variable 'bio6'-----\n"
     ]
    },
    {
     "name": "stderr",
     "output_type": "stream",
     "text": [
      "Processing: 100%|██████████████████████████████████████████████████████████████████████████████████████████████████████████████████| 8/8 [00:04<00:00,  1.73item/s]\n"
     ]
    },
    {
     "name": "stdout",
     "output_type": "stream",
     "text": [
      "-----Retrieving Simulation (period) CHELSA data for variable 'bio7'-----\n"
     ]
    },
    {
     "name": "stderr",
     "output_type": "stream",
     "text": [
      "Processing: 100%|██████████████████████████████████████████████████████████████████████████████████████████████████████████████████| 8/8 [00:04<00:00,  1.71item/s]\n"
     ]
    },
    {
     "name": "stdout",
     "output_type": "stream",
     "text": [
      "-----Retrieving Simulation (period) CHELSA data for variable 'bio8'-----\n"
     ]
    },
    {
     "name": "stderr",
     "output_type": "stream",
     "text": [
      "Processing: 100%|██████████████████████████████████████████████████████████████████████████████████████████████████████████████████| 8/8 [00:04<00:00,  1.70item/s]\n"
     ]
    },
    {
     "name": "stdout",
     "output_type": "stream",
     "text": [
      "-----Retrieving Simulation (period) CHELSA data for variable 'bio9'-----\n"
     ]
    },
    {
     "name": "stderr",
     "output_type": "stream",
     "text": [
      "Processing: 100%|██████████████████████████████████████████████████████████████████████████████████████████████████████████████████| 8/8 [00:04<00:00,  1.76item/s]\n"
     ]
    },
    {
     "name": "stdout",
     "output_type": "stream",
     "text": [
      "-----Retrieving Simulation (period) CHELSA data for variable 'fcf'-----\n"
     ]
    },
    {
     "name": "stderr",
     "output_type": "stream",
     "text": [
      "Processing: 100%|██████████████████████████████████████████████████████████████████████████████████████████████████████████████████| 8/8 [00:04<00:00,  1.73item/s]\n"
     ]
    },
    {
     "name": "stdout",
     "output_type": "stream",
     "text": [
      "-----Retrieving Simulation (period) CHELSA data for variable 'fgd'-----\n"
     ]
    },
    {
     "name": "stderr",
     "output_type": "stream",
     "text": [
      "Processing: 100%|██████████████████████████████████████████████████████████████████████████████████████████████████████████████████| 8/8 [00:04<00:00,  1.78item/s]\n"
     ]
    },
    {
     "name": "stdout",
     "output_type": "stream",
     "text": [
      "-----Retrieving Simulation (period) CHELSA data for variable 'gdd0'-----\n"
     ]
    },
    {
     "name": "stderr",
     "output_type": "stream",
     "text": [
      "Processing: 100%|██████████████████████████████████████████████████████████████████████████████████████████████████████████████████| 8/8 [00:05<00:00,  1.51item/s]\n"
     ]
    },
    {
     "name": "stdout",
     "output_type": "stream",
     "text": [
      "-----Retrieving Simulation (period) CHELSA data for variable 'gdd10'-----\n"
     ]
    },
    {
     "name": "stderr",
     "output_type": "stream",
     "text": [
      "Processing: 100%|██████████████████████████████████████████████████████████████████████████████████████████████████████████████████| 8/8 [00:05<00:00,  1.54item/s]\n"
     ]
    },
    {
     "name": "stdout",
     "output_type": "stream",
     "text": [
      "-----Retrieving Simulation (period) CHELSA data for variable 'gdd5'-----\n"
     ]
    },
    {
     "name": "stderr",
     "output_type": "stream",
     "text": [
      "Processing: 100%|██████████████████████████████████████████████████████████████████████████████████████████████████████████████████| 8/8 [00:05<00:00,  1.51item/s]\n"
     ]
    },
    {
     "name": "stdout",
     "output_type": "stream",
     "text": [
      "-----Retrieving Simulation (period) CHELSA data for variable 'gddlgd0'-----\n"
     ]
    },
    {
     "name": "stderr",
     "output_type": "stream",
     "text": [
      "Processing: 100%|██████████████████████████████████████████████████████████████████████████████████████████████████████████████████| 8/8 [00:04<00:00,  1.76item/s]\n"
     ]
    },
    {
     "name": "stdout",
     "output_type": "stream",
     "text": [
      "-----Retrieving Simulation (period) CHELSA data for variable 'gddlgd10'-----\n"
     ]
    },
    {
     "name": "stderr",
     "output_type": "stream",
     "text": [
      "Processing: 100%|██████████████████████████████████████████████████████████████████████████████████████████████████████████████████| 8/8 [00:04<00:00,  1.78item/s]\n"
     ]
    },
    {
     "name": "stdout",
     "output_type": "stream",
     "text": [
      "-----Retrieving Simulation (period) CHELSA data for variable 'gddlgd5'-----\n"
     ]
    },
    {
     "name": "stderr",
     "output_type": "stream",
     "text": [
      "Processing: 100%|██████████████████████████████████████████████████████████████████████████████████████████████████████████████████| 8/8 [00:04<00:00,  1.77item/s]\n"
     ]
    },
    {
     "name": "stdout",
     "output_type": "stream",
     "text": [
      "-----Retrieving Simulation (period) CHELSA data for variable 'gdgfgd0'-----\n"
     ]
    },
    {
     "name": "stderr",
     "output_type": "stream",
     "text": [
      "Processing: 100%|██████████████████████████████████████████████████████████████████████████████████████████████████████████████████| 8/8 [00:04<00:00,  1.72item/s]\n"
     ]
    },
    {
     "name": "stdout",
     "output_type": "stream",
     "text": [
      "-----Retrieving Simulation (period) CHELSA data for variable 'gdgfgd10'-----\n"
     ]
    },
    {
     "name": "stderr",
     "output_type": "stream",
     "text": [
      "Processing: 100%|██████████████████████████████████████████████████████████████████████████████████████████████████████████████████| 8/8 [00:04<00:00,  1.74item/s]\n"
     ]
    },
    {
     "name": "stdout",
     "output_type": "stream",
     "text": [
      "-----Retrieving Simulation (period) CHELSA data for variable 'gdgfgd5'-----\n"
     ]
    },
    {
     "name": "stderr",
     "output_type": "stream",
     "text": [
      "Processing: 100%|██████████████████████████████████████████████████████████████████████████████████████████████████████████████████| 8/8 [00:04<00:00,  1.89item/s]\n"
     ]
    },
    {
     "name": "stdout",
     "output_type": "stream",
     "text": [
      "-----Retrieving Simulation (period) CHELSA data for variable 'gsl'-----\n"
     ]
    },
    {
     "name": "stderr",
     "output_type": "stream",
     "text": [
      "Processing: 100%|██████████████████████████████████████████████████████████████████████████████████████████████████████████████████| 8/8 [00:04<00:00,  1.73item/s]\n"
     ]
    },
    {
     "name": "stdout",
     "output_type": "stream",
     "text": [
      "-----Retrieving Simulation (period) CHELSA data for variable 'gsp'-----\n"
     ]
    },
    {
     "name": "stderr",
     "output_type": "stream",
     "text": [
      "Processing: 100%|██████████████████████████████████████████████████████████████████████████████████████████████████████████████████| 8/8 [00:05<00:00,  1.53item/s]\n"
     ]
    },
    {
     "name": "stdout",
     "output_type": "stream",
     "text": [
      "-----Retrieving Simulation (period) CHELSA data for variable 'gst'-----\n"
     ]
    },
    {
     "name": "stderr",
     "output_type": "stream",
     "text": [
      "Processing: 100%|██████████████████████████████████████████████████████████████████████████████████████████████████████████████████| 8/8 [00:04<00:00,  1.77item/s]\n"
     ]
    },
    {
     "name": "stdout",
     "output_type": "stream",
     "text": [
      "-----Retrieving Simulation (period) CHELSA data for variable 'kg0'-----\n"
     ]
    },
    {
     "name": "stderr",
     "output_type": "stream",
     "text": [
      "Processing: 100%|██████████████████████████████████████████████████████████████████████████████████████████████████████████████████| 8/8 [00:04<00:00,  1.70item/s]\n"
     ]
    },
    {
     "name": "stdout",
     "output_type": "stream",
     "text": [
      "-----Retrieving Simulation (period) CHELSA data for variable 'kg1'-----\n"
     ]
    },
    {
     "name": "stderr",
     "output_type": "stream",
     "text": [
      "Processing: 100%|██████████████████████████████████████████████████████████████████████████████████████████████████████████████████| 8/8 [00:04<00:00,  1.89item/s]\n"
     ]
    },
    {
     "name": "stdout",
     "output_type": "stream",
     "text": [
      "-----Retrieving Simulation (period) CHELSA data for variable 'kg2'-----\n"
     ]
    },
    {
     "name": "stderr",
     "output_type": "stream",
     "text": [
      "Processing: 100%|██████████████████████████████████████████████████████████████████████████████████████████████████████████████████| 8/8 [00:04<00:00,  1.74item/s]\n"
     ]
    },
    {
     "name": "stdout",
     "output_type": "stream",
     "text": [
      "-----Retrieving Simulation (period) CHELSA data for variable 'kg3'-----\n"
     ]
    },
    {
     "name": "stderr",
     "output_type": "stream",
     "text": [
      "Processing: 100%|██████████████████████████████████████████████████████████████████████████████████████████████████████████████████| 8/8 [00:04<00:00,  1.85item/s]\n"
     ]
    },
    {
     "name": "stdout",
     "output_type": "stream",
     "text": [
      "-----Retrieving Simulation (period) CHELSA data for variable 'kg4'-----\n"
     ]
    },
    {
     "name": "stderr",
     "output_type": "stream",
     "text": [
      "Processing: 100%|██████████████████████████████████████████████████████████████████████████████████████████████████████████████████| 8/8 [00:04<00:00,  1.78item/s]\n"
     ]
    },
    {
     "name": "stdout",
     "output_type": "stream",
     "text": [
      "-----Retrieving Simulation (period) CHELSA data for variable 'kg5'-----\n"
     ]
    },
    {
     "name": "stderr",
     "output_type": "stream",
     "text": [
      "Processing: 100%|██████████████████████████████████████████████████████████████████████████████████████████████████████████████████| 8/8 [00:04<00:00,  1.76item/s]\n"
     ]
    },
    {
     "name": "stdout",
     "output_type": "stream",
     "text": [
      "-----Retrieving Simulation (period) CHELSA data for variable 'lgd'-----\n"
     ]
    },
    {
     "name": "stderr",
     "output_type": "stream",
     "text": [
      "Processing: 100%|██████████████████████████████████████████████████████████████████████████████████████████████████████████████████| 8/8 [00:05<00:00,  1.50item/s]\n"
     ]
    },
    {
     "name": "stdout",
     "output_type": "stream",
     "text": [
      "-----Retrieving Simulation (period) CHELSA data for variable 'ngd0'-----\n"
     ]
    },
    {
     "name": "stderr",
     "output_type": "stream",
     "text": [
      "Processing: 100%|██████████████████████████████████████████████████████████████████████████████████████████████████████████████████| 8/8 [00:04<00:00,  1.69item/s]\n"
     ]
    },
    {
     "name": "stdout",
     "output_type": "stream",
     "text": [
      "-----Retrieving Simulation (period) CHELSA data for variable 'ngd10'-----\n"
     ]
    },
    {
     "name": "stderr",
     "output_type": "stream",
     "text": [
      "Processing: 100%|██████████████████████████████████████████████████████████████████████████████████████████████████████████████████| 8/8 [00:04<00:00,  1.74item/s]\n"
     ]
    },
    {
     "name": "stdout",
     "output_type": "stream",
     "text": [
      "-----Retrieving Simulation (period) CHELSA data for variable 'ngd5'-----\n"
     ]
    },
    {
     "name": "stderr",
     "output_type": "stream",
     "text": [
      "Processing: 100%|██████████████████████████████████████████████████████████████████████████████████████████████████████████████████| 8/8 [00:04<00:00,  1.75item/s]\n"
     ]
    },
    {
     "name": "stdout",
     "output_type": "stream",
     "text": [
      "-----Retrieving Simulation (period) CHELSA data for variable 'npp'-----\n"
     ]
    },
    {
     "name": "stderr",
     "output_type": "stream",
     "text": [
      "Processing: 100%|██████████████████████████████████████████████████████████████████████████████████████████████████████████████████| 8/8 [00:04<00:00,  1.65item/s]\n"
     ]
    },
    {
     "name": "stdout",
     "output_type": "stream",
     "text": [
      "-----Retrieving Simulation (period) CHELSA data for variable 'scd'-----\n"
     ]
    },
    {
     "name": "stderr",
     "output_type": "stream",
     "text": [
      "Processing: 100%|██████████████████████████████████████████████████████████████████████████████████████████████████████████████████| 8/8 [00:04<00:00,  1.77item/s]\n"
     ]
    },
    {
     "name": "stdout",
     "output_type": "stream",
     "text": [
      "-----Retrieving Simulation (period) CHELSA data for variable 'swe'-----\n"
     ]
    },
    {
     "name": "stderr",
     "output_type": "stream",
     "text": [
      "Processing: 100%|██████████████████████████████████████████████████████████████████████████████████████████████████████████████████| 8/8 [00:04<00:00,  1.77item/s]\n"
     ]
    },
    {
     "name": "stdout",
     "output_type": "stream",
     "text": [
      "-----Retrieving Simulation (monthly) CHELSA data for variable 'pr'-----\n"
     ]
    },
    {
     "name": "stderr",
     "output_type": "stream",
     "text": [
      "Processing: 100%|██████████████████████████████████████████████████████████████████████████████████████████████████████████████████| 8/8 [00:06<00:00,  1.24item/s]\n"
     ]
    },
    {
     "name": "stdout",
     "output_type": "stream",
     "text": [
      "-----Retrieving Simulation (monthly) CHELSA data for variable 'tas'-----\n"
     ]
    },
    {
     "name": "stderr",
     "output_type": "stream",
     "text": [
      "Processing: 100%|██████████████████████████████████████████████████████████████████████████████████████████████████████████████████| 8/8 [00:26<00:00,  3.33s/item]\n"
     ]
    },
    {
     "name": "stdout",
     "output_type": "stream",
     "text": [
      "-----Retrieving Simulation (monthly) CHELSA data for variable 'tasmax'-----\n"
     ]
    },
    {
     "name": "stderr",
     "output_type": "stream",
     "text": [
      "Processing: 100%|██████████████████████████████████████████████████████████████████████████████████████████████████████████████████| 8/8 [00:09<00:00,  1.17s/item]\n"
     ]
    },
    {
     "name": "stdout",
     "output_type": "stream",
     "text": [
      "-----Retrieving Simulation (monthly) CHELSA data for variable 'tasmin'-----\n"
     ]
    },
    {
     "name": "stderr",
     "output_type": "stream",
     "text": [
      "Processing: 100%|██████████████████████████████████████████████████████████████████████████████████████████████████████████████████| 8/8 [00:10<00:00,  1.29s/item]\n"
     ]
    }
   ],
   "source": [
    "chelsa_cube_layer_names, chelsa_cube_layers= chelsa_cube.generate_chelsa_cube(\"prototype_param.yaml\", \"../../config\")"
   ]
  },
  {
   "cell_type": "code",
   "execution_count": 4,
   "id": "932be082-b4cb-41c4-add5-c321288fcced",
   "metadata": {
    "scrolled": true
   },
   "outputs": [
    {
     "data": {
      "text/plain": [
       "['chelsa_month',\n",
       " 'chelsa_clim_ref_period',\n",
       " 'chelsa_clim_ref_month',\n",
       " 'chelsa_clim_sim_period',\n",
       " 'chelsa_clim_sim_month']"
      ]
     },
     "execution_count": 4,
     "metadata": {},
     "output_type": "execute_result"
    }
   ],
   "source": [
    "chelsa_cube_layer_names"
   ]
  },
  {
   "cell_type": "code",
   "execution_count": 5,
   "id": "afa5d8a9-38df-4e37-ad62-bdc1af1277e1",
   "metadata": {},
   "outputs": [
    {
     "data": {
      "text/plain": [
       "[<xarray.Dataset> Size: 686kB\n",
       " Dimensions:  (time: 12, lat: 23, long: 69)\n",
       " Coordinates:\n",
       "   * time     (time) datetime64[ns] 96B 1980-01-01 1980-02-01 ... 1980-12-01\n",
       "   * lat      (lat) float64 184B 50.87 50.87 50.86 50.85 ... 50.71 50.7 50.69\n",
       "   * long     (long) float64 552B 4.176 4.184 4.192 4.201 ... 4.726 4.734 4.742\n",
       " Data variables:\n",
       "     clt      (time, lat, long) float64 152kB 5.152e+03 5.152e+03 ... 5.758e+03\n",
       "     cmi      (time, lat, long) int16 38kB 333 308 289 300 ... 598 592 579 575\n",
       "     hurs     (time, lat, long) uint16 38kB 6867 6870 6873 ... 7139 7147 7156\n",
       "     pet      (time, lat, long) uint16 38kB 1532 1793 1985 ... 2398 2577 2664\n",
       "     pr       (time, lat, long) int32 76kB 4864 4869 4876 4893 ... 8316 8364 8418\n",
       "     rsds     (time, lat, long) uint16 38kB 3080 3092 3110 ... 2246 2238 2229\n",
       "     sfcWind  (time, lat, long) uint16 38kB 3666 4099 4332 ... 6001 6363 6586\n",
       "     tas      (time, lat, long) int32 76kB 2740 2740 2740 2740 ... 2756 2756 2756\n",
       "     tasmax   (time, lat, long) int32 76kB 2764 2764 2764 2764 ... 2779 2779 2779\n",
       "     tasmin   (time, lat, long) int32 76kB 2720 2719 2719 2719 ... 2727 2727 2727\n",
       "     vpd      (time, lat, long) uint16 38kB 2036 2034 2032 ... 2085 2079 2072,\n",
       " <xarray.Dataset> Size: 299kB\n",
       " Dimensions:           (lat: 23, long: 69)\n",
       " Coordinates:\n",
       "   * lat               (lat) float64 184B 50.87 50.87 50.86 ... 50.71 50.7 50.69\n",
       "   * long              (long) float64 552B 4.176 4.184 4.192 ... 4.734 4.742\n",
       " Data variables: (12/76)\n",
       "     ai                (lat, long) float32 6kB 1.18 1.183 1.185 ... 1.207 1.216\n",
       "     bio10             (lat, long) uint16 3kB 2906 2905 2905 ... 2902 2902 2901\n",
       "     bio11             (lat, long) uint16 3kB 2769 2769 2769 ... 2763 2763 2763\n",
       "     bio12             (lat, long) uint16 3kB 8432 8445 8464 ... 8468 8510 8557\n",
       "     bio13             (lat, long) uint16 3kB 795 796 798 801 ... 786 788 792 795\n",
       "     bio14             (lat, long) uint16 3kB 499 500 502 504 ... 511 513 516 519\n",
       "     ...                ...\n",
       "     swb               (lat, long) int16 3kB -6 -38 -59 -47 ... -54 -63 -72 -76\n",
       "     swe               (lat, long) uint16 3kB 65535 65535 65535 ... 65535 65535\n",
       "     vpd_max           (lat, long) uint16 3kB 8349 8340 8336 ... 8033 7983 7955\n",
       "     vpd_mean          (lat, long) uint16 3kB 5056 5050 5046 ... 4826 4799 4779\n",
       "     vpd_min           (lat, long) uint16 3kB 2546 2542 2539 ... 2411 2398 2387\n",
       "     vpd_range         (lat, long) uint16 3kB 5803 5798 5797 ... 5622 5585 5568,\n",
       " <xarray.Dataset> Size: 90kB\n",
       " Dimensions:  (months: 2, lat: 23, long: 69)\n",
       " Coordinates:\n",
       "   * months   (months) int64 16B 1 2\n",
       "   * lat      (lat) float64 184B 50.87 50.87 50.86 50.85 ... 50.71 50.7 50.69\n",
       "   * long     (long) float64 552B 4.176 4.184 4.192 4.201 ... 4.726 4.734 4.742\n",
       " Data variables:\n",
       "     clt      (months, lat, long) float64 25kB 5.172e+03 5.172e+03 ... 5.031e+03\n",
       "     cmi      (months, lat, long) int16 6kB 499 466 444 459 ... 297 288 275 270\n",
       "     hurs     (months, lat, long) uint16 6kB 6769 6770 6773 ... 6564 6574 6584\n",
       "     pet      (months, lat, long) uint16 6kB 2049 2396 2640 ... 3011 3169 3249\n",
       "     pr       (months, lat, long) uint16 6kB 737 739 741 744 ... 602 604 607 609\n",
       "     rsds     (months, lat, long) uint16 6kB 2945 2957 2973 ... 5688 5679 5666\n",
       "     sfcWind  (months, lat, long) uint16 6kB 4337 4848 5124 ... 5015 5316 5502\n",
       "     tas      (months, lat, long) uint16 6kB 2766 2766 2766 ... 2763 2763 2763\n",
       "     tasmax   (months, lat, long) uint16 6kB 2790 2790 2789 ... 2795 2794 2794\n",
       "     tasmin   (months, lat, long) uint16 6kB 2740 2740 2740 ... 2734 2733 2733\n",
       "     vpd      (months, lat, long) uint16 6kB 2557 2554 2552 ... 2675 2658 2644,\n",
       " <xarray.Dataset> Size: 1MB\n",
       " Dimensions:          (year_range: 2, model_name: 2, ensemble_member: 2,\n",
       "                       lat: 23, long: 69)\n",
       " Coordinates:\n",
       "   * year_range       (year_range) <U9 72B '2011-2040' '2041-2070'\n",
       "   * model_name       (model_name) <U13 104B 'gfdl-esm4' 'mpi-esm1-2-hr'\n",
       "   * ensemble_member  (ensemble_member) <U6 48B 'ssp370' 'ssp126'\n",
       "   * lat              (lat) float64 184B 50.87 50.87 50.86 ... 50.71 50.7 50.69\n",
       "   * long             (long) float64 552B 4.176 4.184 4.192 ... 4.726 4.734 4.742\n",
       " Data variables: (12/46)\n",
       "     bio10            (year_range, model_name, ensemble_member, lat, long) uint16 25kB ...\n",
       "     bio11            (year_range, model_name, ensemble_member, lat, long) uint16 25kB ...\n",
       "     bio12            (year_range, model_name, ensemble_member, lat, long) uint16 25kB ...\n",
       "     bio13            (year_range, model_name, ensemble_member, lat, long) uint16 25kB ...\n",
       "     bio14            (year_range, model_name, ensemble_member, lat, long) uint16 25kB ...\n",
       "     bio15            (year_range, model_name, ensemble_member, lat, long) uint16 25kB ...\n",
       "     ...               ...\n",
       "     ngd0             (year_range, model_name, ensemble_member, lat, long) uint16 25kB ...\n",
       "     ngd10            (year_range, model_name, ensemble_member, lat, long) uint16 25kB ...\n",
       "     ngd5             (year_range, model_name, ensemble_member, lat, long) uint16 25kB ...\n",
       "     npp              (year_range, model_name, ensemble_member, lat, long) uint16 25kB ...\n",
       "     scd              (year_range, model_name, ensemble_member, lat, long) uint16 25kB ...\n",
       "     swe              (year_range, model_name, ensemble_member, lat, long) uint16 25kB ...,\n",
       " <xarray.Dataset> Size: 103kB\n",
       " Dimensions:          (year_range: 2, month: 1, model_name: 2,\n",
       "                       ensemble_member: 2, lat: 23, long: 69)\n",
       " Coordinates:\n",
       "   * year_range       (year_range) <U9 72B '2011-2040' '2041-2070'\n",
       "   * month            (month) int64 8B 1\n",
       "   * model_name       (model_name) <U12 96B 'ipsl-cm6a-lr' 'ukesm1-0-ll'\n",
       "   * ensemble_member  (ensemble_member) <U6 48B 'ssp585' 'ssp126'\n",
       "   * lat              (lat) float64 184B 50.87 50.87 50.86 ... 50.71 50.7 50.69\n",
       "   * long             (long) float64 552B 4.176 4.184 4.192 ... 4.726 4.734 4.742\n",
       " Data variables:\n",
       "     pr               (year_range, month, model_name, ensemble_member, lat, long) uint16 25kB ...\n",
       "     tas              (year_range, month, model_name, ensemble_member, lat, long) uint16 25kB ...\n",
       "     tasmax           (year_range, month, model_name, ensemble_member, lat, long) uint16 25kB ...\n",
       "     tasmin           (year_range, month, model_name, ensemble_member, lat, long) uint16 25kB ...]"
      ]
     },
     "execution_count": 5,
     "metadata": {},
     "output_type": "execute_result"
    }
   ],
   "source": [
    "chelsa_cube_layers"
   ]
  },
  {
   "cell_type": "code",
   "execution_count": 4,
   "id": "6cee9dff-6b04-440b-ba08-3be82a53dd89",
   "metadata": {},
   "outputs": [],
   "source": [
    "layers = {\"static\":[chelsa_cube_layers[0]], \"dynamic\":chelsa_cube_layers[1:]}\n",
    "layer_names = {\"static\":[chelsa_cube_layer_names[0]], \"dynamic\":chelsa_cube_layer_names[1:]}"
   ]
  },
  {
   "cell_type": "code",
   "execution_count": 7,
   "id": "f8aa511b-7674-45ba-95e5-958fc304dccf",
   "metadata": {},
   "outputs": [],
   "source": [
    "import os"
   ]
  },
  {
   "cell_type": "code",
   "execution_count": 16,
   "id": "510bfd93-f09d-488e-81da-157768410e1e",
   "metadata": {},
   "outputs": [],
   "source": [
    "def export_layers(cube_name, engine, cube_path=\"\"):\n",
    "        #Catch invalid engine options\n",
    "        if engine not in [\"netcdf\", \"zarr\"]:\n",
    "            raise ValueError(f\"{engine} is not a valid option. Please use one of the following ['netcdf', 'zarr']\")\n",
    "        out_dir = os.path.join(cube_path, cube_name)\n",
    "        os.makedirs(out_dir, exist_ok=True)\n",
    "        #Iterate over both dictionairies in the same way\n",
    "        for (group, datasets), (group, names) in zip(layers.items(), layer_names.items()):\n",
    "            group_path = os.path.join(out_dir, group)\n",
    "            os.makedirs(group_path, exist_ok=True)\n",
    "            for name, ds in zip(names, datasets):\n",
    "                file_name = cube_name+\"_\"+name\n",
    "                file_path = os.path.join(group_path, file_name)\n",
    "                if engine==\"netcdf\":\n",
    "                    file_path+=\".nc\"\n",
    "                    ds.to_netcdf(file_path, mode=\"w\", format=\"NETCDF4\")\n",
    "                if engine==\"zarr\":\n",
    "                    file_path+=\".zarr\"\n",
    "                    ds.to_zarr(file_path, \"w\")"
   ]
  },
  {
   "cell_type": "code",
   "execution_count": 17,
   "id": "14bcbc17-a883-4d20-b27b-97bf6fad7fd3",
   "metadata": {},
   "outputs": [],
   "source": [
    "export_layers(\"test_nc\", \"netcdf\")\n",
    "export_layers(\"test_zarr\", \"zarr\")"
   ]
  },
  {
   "cell_type": "code",
   "execution_count": 31,
   "id": "7bfb2b61-5255-4678-b8da-658cc79f179c",
   "metadata": {},
   "outputs": [
    {
     "name": "stdout",
     "output_type": "stream",
     "text": [
      "static\n",
      "chelsa_month\n",
      "<xarray.Dataset> Size: 686kB\n",
      "Dimensions:  (time: 12, lat: 23, long: 69)\n",
      "Coordinates:\n",
      "  * time     (time) datetime64[ns] 96B 1980-01-01 1980-02-01 ... 1980-12-01\n",
      "  * lat      (lat) float64 184B 50.87 50.87 50.86 50.85 ... 50.71 50.7 50.69\n",
      "  * long     (long) float64 552B 4.176 4.184 4.192 4.201 ... 4.726 4.734 4.742\n",
      "Data variables:\n",
      "    clt      (time, lat, long) float64 152kB 5.152e+03 5.152e+03 ... 5.758e+03\n",
      "    cmi      (time, lat, long) int16 38kB 333 308 289 300 ... 598 592 579 575\n",
      "    hurs     (time, lat, long) uint16 38kB 6867 6870 6873 ... 7139 7147 7156\n",
      "    pet      (time, lat, long) uint16 38kB 1532 1793 1985 ... 2398 2577 2664\n",
      "    pr       (time, lat, long) int32 76kB 4864 4869 4876 4893 ... 8316 8364 8418\n",
      "    rsds     (time, lat, long) uint16 38kB 3080 3092 3110 ... 2246 2238 2229\n",
      "    sfcWind  (time, lat, long) uint16 38kB 3666 4099 4332 ... 6001 6363 6586\n",
      "    tas      (time, lat, long) int32 76kB 2740 2740 2740 2740 ... 2756 2756 2756\n",
      "    tasmax   (time, lat, long) int32 76kB 2764 2764 2764 2764 ... 2779 2779 2779\n",
      "    tasmin   (time, lat, long) int32 76kB 2720 2719 2719 2719 ... 2727 2727 2727\n",
      "    vpd      (time, lat, long) uint16 38kB 2036 2034 2032 ... 2085 2079 2072\n",
      "dynamic\n",
      "chelsa_clim_ref_period\n",
      "<xarray.Dataset> Size: 299kB\n",
      "Dimensions:           (lat: 23, long: 69)\n",
      "Coordinates:\n",
      "  * lat               (lat) float64 184B 50.87 50.87 50.86 ... 50.71 50.7 50.69\n",
      "  * long              (long) float64 552B 4.176 4.184 4.192 ... 4.734 4.742\n",
      "Data variables: (12/76)\n",
      "    ai                (lat, long) float32 6kB 1.18 1.183 1.185 ... 1.207 1.216\n",
      "    bio10             (lat, long) uint16 3kB 2906 2905 2905 ... 2902 2902 2901\n",
      "    bio11             (lat, long) uint16 3kB 2769 2769 2769 ... 2763 2763 2763\n",
      "    bio12             (lat, long) uint16 3kB 8432 8445 8464 ... 8468 8510 8557\n",
      "    bio13             (lat, long) uint16 3kB 795 796 798 801 ... 786 788 792 795\n",
      "    bio14             (lat, long) uint16 3kB 499 500 502 504 ... 511 513 516 519\n",
      "    ...                ...\n",
      "    swb               (lat, long) int16 3kB -6 -38 -59 -47 ... -54 -63 -72 -76\n",
      "    swe               (lat, long) uint16 3kB 65535 65535 65535 ... 65535 65535\n",
      "    vpd_max           (lat, long) uint16 3kB 8349 8340 8336 ... 8033 7983 7955\n",
      "    vpd_mean          (lat, long) uint16 3kB 5056 5050 5046 ... 4826 4799 4779\n",
      "    vpd_min           (lat, long) uint16 3kB 2546 2542 2539 ... 2411 2398 2387\n",
      "    vpd_range         (lat, long) uint16 3kB 5803 5798 5797 ... 5622 5585 5568\n",
      "chelsa_clim_ref_month\n",
      "<xarray.Dataset> Size: 90kB\n",
      "Dimensions:  (months: 2, lat: 23, long: 69)\n",
      "Coordinates:\n",
      "  * months   (months) int64 16B 1 2\n",
      "  * lat      (lat) float64 184B 50.87 50.87 50.86 50.85 ... 50.71 50.7 50.69\n",
      "  * long     (long) float64 552B 4.176 4.184 4.192 4.201 ... 4.726 4.734 4.742\n",
      "Data variables:\n",
      "    clt      (months, lat, long) float64 25kB 5.172e+03 5.172e+03 ... 5.031e+03\n",
      "    cmi      (months, lat, long) int16 6kB 499 466 444 459 ... 297 288 275 270\n",
      "    hurs     (months, lat, long) uint16 6kB 6769 6770 6773 ... 6564 6574 6584\n",
      "    pet      (months, lat, long) uint16 6kB 2049 2396 2640 ... 3011 3169 3249\n",
      "    pr       (months, lat, long) uint16 6kB 737 739 741 744 ... 602 604 607 609\n",
      "    rsds     (months, lat, long) uint16 6kB 2945 2957 2973 ... 5688 5679 5666\n",
      "    sfcWind  (months, lat, long) uint16 6kB 4337 4848 5124 ... 5015 5316 5502\n",
      "    tas      (months, lat, long) uint16 6kB 2766 2766 2766 ... 2763 2763 2763\n",
      "    tasmax   (months, lat, long) uint16 6kB 2790 2790 2789 ... 2795 2794 2794\n",
      "    tasmin   (months, lat, long) uint16 6kB 2740 2740 2740 ... 2734 2733 2733\n",
      "    vpd      (months, lat, long) uint16 6kB 2557 2554 2552 ... 2675 2658 2644\n",
      "chelsa_clim_sim_period\n",
      "<xarray.Dataset> Size: 1MB\n",
      "Dimensions:          (year_range: 2, model_name: 2, ensemble_member: 2,\n",
      "                      lat: 23, long: 69)\n",
      "Coordinates:\n",
      "  * year_range       (year_range) <U9 72B '2011-2040' '2041-2070'\n",
      "  * model_name       (model_name) <U13 104B 'gfdl-esm4' 'mpi-esm1-2-hr'\n",
      "  * ensemble_member  (ensemble_member) <U6 48B 'ssp370' 'ssp126'\n",
      "  * lat              (lat) float64 184B 50.87 50.87 50.86 ... 50.71 50.7 50.69\n",
      "  * long             (long) float64 552B 4.176 4.184 4.192 ... 4.726 4.734 4.742\n",
      "Data variables: (12/46)\n",
      "    bio10            (year_range, model_name, ensemble_member, lat, long) uint16 25kB ...\n",
      "    bio11            (year_range, model_name, ensemble_member, lat, long) uint16 25kB ...\n",
      "    bio12            (year_range, model_name, ensemble_member, lat, long) uint16 25kB ...\n",
      "    bio13            (year_range, model_name, ensemble_member, lat, long) uint16 25kB ...\n",
      "    bio14            (year_range, model_name, ensemble_member, lat, long) uint16 25kB ...\n",
      "    bio15            (year_range, model_name, ensemble_member, lat, long) uint16 25kB ...\n",
      "    ...               ...\n",
      "    ngd0             (year_range, model_name, ensemble_member, lat, long) uint16 25kB ...\n",
      "    ngd10            (year_range, model_name, ensemble_member, lat, long) uint16 25kB ...\n",
      "    ngd5             (year_range, model_name, ensemble_member, lat, long) uint16 25kB ...\n",
      "    npp              (year_range, model_name, ensemble_member, lat, long) uint16 25kB ...\n",
      "    scd              (year_range, model_name, ensemble_member, lat, long) uint16 25kB ...\n",
      "    swe              (year_range, model_name, ensemble_member, lat, long) uint16 25kB ...\n",
      "chelsa_clim_sim_month\n",
      "<xarray.Dataset> Size: 103kB\n",
      "Dimensions:          (year_range: 2, month: 1, model_name: 2,\n",
      "                      ensemble_member: 2, lat: 23, long: 69)\n",
      "Coordinates:\n",
      "  * year_range       (year_range) <U9 72B '2011-2040' '2041-2070'\n",
      "  * month            (month) int64 8B 1\n",
      "  * model_name       (model_name) <U12 96B 'ipsl-cm6a-lr' 'ukesm1-0-ll'\n",
      "  * ensemble_member  (ensemble_member) <U6 48B 'ssp585' 'ssp126'\n",
      "  * lat              (lat) float64 184B 50.87 50.87 50.86 ... 50.71 50.7 50.69\n",
      "  * long             (long) float64 552B 4.176 4.184 4.192 ... 4.726 4.734 4.742\n",
      "Data variables:\n",
      "    pr               (year_range, month, model_name, ensemble_member, lat, long) uint16 25kB ...\n",
      "    tas              (year_range, month, model_name, ensemble_member, lat, long) uint16 25kB ...\n",
      "    tasmax           (year_range, month, model_name, ensemble_member, lat, long) uint16 25kB ...\n",
      "    tasmin           (year_range, month, model_name, ensemble_member, lat, long) uint16 25kB ...\n"
     ]
    }
   ],
   "source": [
    "#Get the key, value pairs\n",
    "for (group, datasets), (group, names) in zip(layers.items(), layer_names.items()):\n",
    "    group_path = os.path.join(\"\", group)\n",
    "    for name, ds in zip(names, datasets):\n",
    "        file_name = cube_name+\"_\"+name\n",
    "                file_path = os.path.join(group_path, file_name)\n",
    "                if engine==\"netcdf\":\n",
    "                    file_path+=\".nc\"\n",
    "                    ds.to_netcdf(file_path, format=\"NETCDF4\")\n",
    "                if engine==\"zarr\":\n",
    "                    file_path+=\".zarr\"\n",
    "                    ds.to_zarr(file_path, \"w\")"
   ]
  },
  {
   "cell_type": "code",
   "execution_count": 33,
   "id": "ede4bf37-e95e-46c8-9595-a0d1fc9592bf",
   "metadata": {},
   "outputs": [],
   "source": [
    "import cftime"
   ]
  },
  {
   "cell_type": "code",
   "execution_count": 37,
   "id": "1c0841a5-f267-4782-bbb2-a5d9b66dc383",
   "metadata": {},
   "outputs": [],
   "source": [
    "def import_layers(cube_name: str, cube_path: str = \"\"):\n",
    "    \"\"\"\n",
    "    Walks cube_name/<group>/<cube_name>_<layer>.nc  \n",
    "    and returns two dicts:\n",
    "      - layers[group]     = list of Datasets\n",
    "      - layer_names[group] = corresponding list of layer keys\n",
    "    \"\"\"\n",
    "\n",
    "    # Build and validate root folder\n",
    "    root = os.path.join(cube_path, cube_name)\n",
    "    if not os.path.isdir(root):\n",
    "        raise FileNotFoundError(f\"No folder at {root!r}\")\n",
    "    layers = {}\n",
    "    layer_names = {}\n",
    "    # Iterate over subfolders (groups)\n",
    "    for group in sorted(os.listdir(root)):\n",
    "        gdir = os.path.join(root, group)\n",
    "        if not os.path.isdir(gdir):\n",
    "            continue\n",
    "        layers[group] = []\n",
    "        layer_names[group] = []\n",
    "        # Iterate over files in each group\n",
    "        for fname in sorted(os.listdir(gdir)):\n",
    "            base, ext = os.path.splitext(fname)\n",
    "            prefix = f\"{cube_name}_\"\n",
    "            # Skip non-NetCDF or wrong prefix\n",
    "            if ext.lower() != \".nc\" or not base.startswith(prefix):\n",
    "                continue\n",
    "            key = base[len(prefix):]\n",
    "            full = os.path.join(gdir, fname)\n",
    "            # Open NetCDF\n",
    "            ds = xr.open_dataset(full,engine=\"netcdf4\",decode_cf=True,decode_times=True,use_cftime=True)\n",
    "\n",
    "            layer_names[group].append(key)\n",
    "            layers[group].append(ds)\n",
    "    return layers, layer_names"
   ]
  },
  {
   "cell_type": "code",
   "execution_count": 38,
   "id": "29942c45-a233-4bd0-9e36-72f23bfc64b7",
   "metadata": {},
   "outputs": [],
   "source": [
    "import xarray as xr\n",
    "import numpy as np\n",
    "test_ilayers, test_ilayer_names = import_layers(\"test_nc\")"
   ]
  },
  {
   "cell_type": "code",
   "execution_count": 39,
   "id": "18459015-6254-4612-b8c1-15510d1dc2b7",
   "metadata": {},
   "outputs": [
    {
     "data": {
      "text/plain": [
       "{'dynamic': [<xarray.Dataset> Size: 90kB\n",
       "  Dimensions:  (months: 2, lat: 23, long: 69)\n",
       "  Coordinates:\n",
       "    * months   (months) int64 16B 1 2\n",
       "    * lat      (lat) float64 184B 50.87 50.87 50.86 50.85 ... 50.71 50.7 50.69\n",
       "    * long     (long) float64 552B 4.176 4.184 4.192 4.201 ... 4.726 4.734 4.742\n",
       "  Data variables:\n",
       "      clt      (months, lat, long) float64 25kB ...\n",
       "      cmi      (months, lat, long) int16 6kB ...\n",
       "      hurs     (months, lat, long) uint16 6kB ...\n",
       "      pet      (months, lat, long) uint16 6kB ...\n",
       "      pr       (months, lat, long) uint16 6kB ...\n",
       "      rsds     (months, lat, long) uint16 6kB ...\n",
       "      sfcWind  (months, lat, long) uint16 6kB ...\n",
       "      tas      (months, lat, long) uint16 6kB ...\n",
       "      tasmax   (months, lat, long) uint16 6kB ...\n",
       "      tasmin   (months, lat, long) uint16 6kB ...\n",
       "      vpd      (months, lat, long) uint16 6kB ...,\n",
       "  <xarray.Dataset> Size: 299kB\n",
       "  Dimensions:           (lat: 23, long: 69)\n",
       "  Coordinates:\n",
       "    * lat               (lat) float64 184B 50.87 50.87 50.86 ... 50.71 50.7 50.69\n",
       "    * long              (long) float64 552B 4.176 4.184 4.192 ... 4.734 4.742\n",
       "  Data variables: (12/76)\n",
       "      ai                (lat, long) float32 6kB ...\n",
       "      bio10             (lat, long) uint16 3kB ...\n",
       "      bio11             (lat, long) uint16 3kB ...\n",
       "      bio12             (lat, long) uint16 3kB ...\n",
       "      bio13             (lat, long) uint16 3kB ...\n",
       "      bio14             (lat, long) uint16 3kB ...\n",
       "      ...                ...\n",
       "      swb               (lat, long) int16 3kB ...\n",
       "      swe               (lat, long) uint16 3kB ...\n",
       "      vpd_max           (lat, long) uint16 3kB ...\n",
       "      vpd_mean          (lat, long) uint16 3kB ...\n",
       "      vpd_min           (lat, long) uint16 3kB ...\n",
       "      vpd_range         (lat, long) uint16 3kB ...,\n",
       "  <xarray.Dataset> Size: 103kB\n",
       "  Dimensions:          (year_range: 2, month: 1, model_name: 2,\n",
       "                        ensemble_member: 2, lat: 23, long: 69)\n",
       "  Coordinates:\n",
       "    * year_range       (year_range) <U9 72B '2011-2040' '2041-2070'\n",
       "    * month            (month) int64 8B 1\n",
       "    * model_name       (model_name) <U12 96B 'ipsl-cm6a-lr' 'ukesm1-0-ll'\n",
       "    * ensemble_member  (ensemble_member) <U6 48B 'ssp126' 'ssp585'\n",
       "    * lat              (lat) float64 184B 50.87 50.87 50.86 ... 50.71 50.7 50.69\n",
       "    * long             (long) float64 552B 4.176 4.184 4.192 ... 4.726 4.734 4.742\n",
       "  Data variables:\n",
       "      pr               (year_range, month, model_name, ensemble_member, lat, long) uint16 25kB ...\n",
       "      tas              (year_range, month, model_name, ensemble_member, lat, long) uint16 25kB ...\n",
       "      tasmax           (year_range, month, model_name, ensemble_member, lat, long) uint16 25kB ...\n",
       "      tasmin           (year_range, month, model_name, ensemble_member, lat, long) uint16 25kB ...,\n",
       "  <xarray.Dataset> Size: 1MB\n",
       "  Dimensions:          (year_range: 2, model_name: 2, ensemble_member: 2,\n",
       "                        lat: 23, long: 69)\n",
       "  Coordinates:\n",
       "    * year_range       (year_range) <U9 72B '2011-2040' '2041-2070'\n",
       "    * model_name       (model_name) <U13 104B 'gfdl-esm4' 'mpi-esm1-2-hr'\n",
       "    * ensemble_member  (ensemble_member) <U6 48B 'ssp126' 'ssp370'\n",
       "    * lat              (lat) float64 184B 50.87 50.87 50.86 ... 50.71 50.7 50.69\n",
       "    * long             (long) float64 552B 4.176 4.184 4.192 ... 4.726 4.734 4.742\n",
       "  Data variables: (12/46)\n",
       "      bio10            (year_range, model_name, ensemble_member, lat, long) uint16 25kB ...\n",
       "      bio11            (year_range, model_name, ensemble_member, lat, long) uint16 25kB ...\n",
       "      bio12            (year_range, model_name, ensemble_member, lat, long) uint16 25kB ...\n",
       "      bio13            (year_range, model_name, ensemble_member, lat, long) uint16 25kB ...\n",
       "      bio14            (year_range, model_name, ensemble_member, lat, long) uint16 25kB ...\n",
       "      bio15            (year_range, model_name, ensemble_member, lat, long) uint16 25kB ...\n",
       "      ...               ...\n",
       "      ngd0             (year_range, model_name, ensemble_member, lat, long) uint16 25kB ...\n",
       "      ngd10            (year_range, model_name, ensemble_member, lat, long) uint16 25kB ...\n",
       "      ngd5             (year_range, model_name, ensemble_member, lat, long) uint16 25kB ...\n",
       "      npp              (year_range, model_name, ensemble_member, lat, long) uint16 25kB ...\n",
       "      scd              (year_range, model_name, ensemble_member, lat, long) uint16 25kB ...\n",
       "      swe              (year_range, model_name, ensemble_member, lat, long) uint16 25kB ...],\n",
       " 'static': [<xarray.Dataset> Size: 686kB\n",
       "  Dimensions:  (time: 12, lat: 23, long: 69)\n",
       "  Coordinates:\n",
       "    * time     (time) object 96B 1980-01-01 00:00:00 ... 1980-12-01 00:00:00\n",
       "    * lat      (lat) float64 184B 50.87 50.87 50.86 50.85 ... 50.71 50.7 50.69\n",
       "    * long     (long) float64 552B 4.176 4.184 4.192 4.201 ... 4.726 4.734 4.742\n",
       "  Data variables:\n",
       "      clt      (time, lat, long) float64 152kB ...\n",
       "      cmi      (time, lat, long) int16 38kB ...\n",
       "      hurs     (time, lat, long) uint16 38kB ...\n",
       "      pet      (time, lat, long) uint16 38kB ...\n",
       "      pr       (time, lat, long) int32 76kB ...\n",
       "      rsds     (time, lat, long) uint16 38kB ...\n",
       "      sfcWind  (time, lat, long) uint16 38kB ...\n",
       "      tas      (time, lat, long) int32 76kB ...\n",
       "      tasmax   (time, lat, long) int32 76kB ...\n",
       "      tasmin   (time, lat, long) int32 76kB ...\n",
       "      vpd      (time, lat, long) uint16 38kB ...]}"
      ]
     },
     "execution_count": 39,
     "metadata": {},
     "output_type": "execute_result"
    }
   ],
   "source": [
    "test_ilayers"
   ]
  },
  {
   "cell_type": "code",
   "execution_count": 22,
   "id": "ca44a0d2-1286-4d55-9363-3c3ce10afb4b",
   "metadata": {},
   "outputs": [
    {
     "data": {
      "text/plain": [
       "{'dynamic': ['chelsa_clim_ref_month',\n",
       "  'chelsa_clim_ref_period',\n",
       "  'chelsa_clim_sim_month',\n",
       "  'chelsa_clim_sim_period'],\n",
       " 'static': ['chelsa_month']}"
      ]
     },
     "execution_count": 22,
     "metadata": {},
     "output_type": "execute_result"
    }
   ],
   "source": [
    "test_ilayer_names"
   ]
  },
  {
   "cell_type": "code",
   "execution_count": 32,
   "id": "ee302113-6cd8-451a-b4ce-4509f16bd83a",
   "metadata": {},
   "outputs": [
    {
     "data": {
      "text/html": [
       "<div><svg style=\"position: absolute; width: 0; height: 0; overflow: hidden\">\n",
       "<defs>\n",
       "<symbol id=\"icon-database\" viewBox=\"0 0 32 32\">\n",
       "<path d=\"M16 0c-8.837 0-16 2.239-16 5v4c0 2.761 7.163 5 16 5s16-2.239 16-5v-4c0-2.761-7.163-5-16-5z\"></path>\n",
       "<path d=\"M16 17c-8.837 0-16-2.239-16-5v6c0 2.761 7.163 5 16 5s16-2.239 16-5v-6c0 2.761-7.163 5-16 5z\"></path>\n",
       "<path d=\"M16 26c-8.837 0-16-2.239-16-5v6c0 2.761 7.163 5 16 5s16-2.239 16-5v-6c0 2.761-7.163 5-16 5z\"></path>\n",
       "</symbol>\n",
       "<symbol id=\"icon-file-text2\" viewBox=\"0 0 32 32\">\n",
       "<path d=\"M28.681 7.159c-0.694-0.947-1.662-2.053-2.724-3.116s-2.169-2.030-3.116-2.724c-1.612-1.182-2.393-1.319-2.841-1.319h-15.5c-1.378 0-2.5 1.121-2.5 2.5v27c0 1.378 1.122 2.5 2.5 2.5h23c1.378 0 2.5-1.122 2.5-2.5v-19.5c0-0.448-0.137-1.23-1.319-2.841zM24.543 5.457c0.959 0.959 1.712 1.825 2.268 2.543h-4.811v-4.811c0.718 0.556 1.584 1.309 2.543 2.268zM28 29.5c0 0.271-0.229 0.5-0.5 0.5h-23c-0.271 0-0.5-0.229-0.5-0.5v-27c0-0.271 0.229-0.5 0.5-0.5 0 0 15.499-0 15.5 0v7c0 0.552 0.448 1 1 1h7v19.5z\"></path>\n",
       "<path d=\"M23 26h-14c-0.552 0-1-0.448-1-1s0.448-1 1-1h14c0.552 0 1 0.448 1 1s-0.448 1-1 1z\"></path>\n",
       "<path d=\"M23 22h-14c-0.552 0-1-0.448-1-1s0.448-1 1-1h14c0.552 0 1 0.448 1 1s-0.448 1-1 1z\"></path>\n",
       "<path d=\"M23 18h-14c-0.552 0-1-0.448-1-1s0.448-1 1-1h14c0.552 0 1 0.448 1 1s-0.448 1-1 1z\"></path>\n",
       "</symbol>\n",
       "</defs>\n",
       "</svg>\n",
       "<style>/* CSS stylesheet for displaying xarray objects in jupyterlab.\n",
       " *\n",
       " */\n",
       "\n",
       ":root {\n",
       "  --xr-font-color0: var(--jp-content-font-color0, rgba(0, 0, 0, 1));\n",
       "  --xr-font-color2: var(--jp-content-font-color2, rgba(0, 0, 0, 0.54));\n",
       "  --xr-font-color3: var(--jp-content-font-color3, rgba(0, 0, 0, 0.38));\n",
       "  --xr-border-color: var(--jp-border-color2, #e0e0e0);\n",
       "  --xr-disabled-color: var(--jp-layout-color3, #bdbdbd);\n",
       "  --xr-background-color: var(--jp-layout-color0, white);\n",
       "  --xr-background-color-row-even: var(--jp-layout-color1, white);\n",
       "  --xr-background-color-row-odd: var(--jp-layout-color2, #eeeeee);\n",
       "}\n",
       "\n",
       "html[theme=dark],\n",
       "html[data-theme=dark],\n",
       "body[data-theme=dark],\n",
       "body.vscode-dark {\n",
       "  --xr-font-color0: rgba(255, 255, 255, 1);\n",
       "  --xr-font-color2: rgba(255, 255, 255, 0.54);\n",
       "  --xr-font-color3: rgba(255, 255, 255, 0.38);\n",
       "  --xr-border-color: #1F1F1F;\n",
       "  --xr-disabled-color: #515151;\n",
       "  --xr-background-color: #111111;\n",
       "  --xr-background-color-row-even: #111111;\n",
       "  --xr-background-color-row-odd: #313131;\n",
       "}\n",
       "\n",
       ".xr-wrap {\n",
       "  display: block !important;\n",
       "  min-width: 300px;\n",
       "  max-width: 700px;\n",
       "}\n",
       "\n",
       ".xr-text-repr-fallback {\n",
       "  /* fallback to plain text repr when CSS is not injected (untrusted notebook) */\n",
       "  display: none;\n",
       "}\n",
       "\n",
       ".xr-header {\n",
       "  padding-top: 6px;\n",
       "  padding-bottom: 6px;\n",
       "  margin-bottom: 4px;\n",
       "  border-bottom: solid 1px var(--xr-border-color);\n",
       "}\n",
       "\n",
       ".xr-header > div,\n",
       ".xr-header > ul {\n",
       "  display: inline;\n",
       "  margin-top: 0;\n",
       "  margin-bottom: 0;\n",
       "}\n",
       "\n",
       ".xr-obj-type,\n",
       ".xr-array-name {\n",
       "  margin-left: 2px;\n",
       "  margin-right: 10px;\n",
       "}\n",
       "\n",
       ".xr-obj-type {\n",
       "  color: var(--xr-font-color2);\n",
       "}\n",
       "\n",
       ".xr-sections {\n",
       "  padding-left: 0 !important;\n",
       "  display: grid;\n",
       "  grid-template-columns: 150px auto auto 1fr 20px 20px;\n",
       "}\n",
       "\n",
       ".xr-section-item {\n",
       "  display: contents;\n",
       "}\n",
       "\n",
       ".xr-section-item input {\n",
       "  display: none;\n",
       "}\n",
       "\n",
       ".xr-section-item input + label {\n",
       "  color: var(--xr-disabled-color);\n",
       "}\n",
       "\n",
       ".xr-section-item input:enabled + label {\n",
       "  cursor: pointer;\n",
       "  color: var(--xr-font-color2);\n",
       "}\n",
       "\n",
       ".xr-section-item input:enabled + label:hover {\n",
       "  color: var(--xr-font-color0);\n",
       "}\n",
       "\n",
       ".xr-section-summary {\n",
       "  grid-column: 1;\n",
       "  color: var(--xr-font-color2);\n",
       "  font-weight: 500;\n",
       "}\n",
       "\n",
       ".xr-section-summary > span {\n",
       "  display: inline-block;\n",
       "  padding-left: 0.5em;\n",
       "}\n",
       "\n",
       ".xr-section-summary-in:disabled + label {\n",
       "  color: var(--xr-font-color2);\n",
       "}\n",
       "\n",
       ".xr-section-summary-in + label:before {\n",
       "  display: inline-block;\n",
       "  content: '►';\n",
       "  font-size: 11px;\n",
       "  width: 15px;\n",
       "  text-align: center;\n",
       "}\n",
       "\n",
       ".xr-section-summary-in:disabled + label:before {\n",
       "  color: var(--xr-disabled-color);\n",
       "}\n",
       "\n",
       ".xr-section-summary-in:checked + label:before {\n",
       "  content: '▼';\n",
       "}\n",
       "\n",
       ".xr-section-summary-in:checked + label > span {\n",
       "  display: none;\n",
       "}\n",
       "\n",
       ".xr-section-summary,\n",
       ".xr-section-inline-details {\n",
       "  padding-top: 4px;\n",
       "  padding-bottom: 4px;\n",
       "}\n",
       "\n",
       ".xr-section-inline-details {\n",
       "  grid-column: 2 / -1;\n",
       "}\n",
       "\n",
       ".xr-section-details {\n",
       "  display: none;\n",
       "  grid-column: 1 / -1;\n",
       "  margin-bottom: 5px;\n",
       "}\n",
       "\n",
       ".xr-section-summary-in:checked ~ .xr-section-details {\n",
       "  display: contents;\n",
       "}\n",
       "\n",
       ".xr-array-wrap {\n",
       "  grid-column: 1 / -1;\n",
       "  display: grid;\n",
       "  grid-template-columns: 20px auto;\n",
       "}\n",
       "\n",
       ".xr-array-wrap > label {\n",
       "  grid-column: 1;\n",
       "  vertical-align: top;\n",
       "}\n",
       "\n",
       ".xr-preview {\n",
       "  color: var(--xr-font-color3);\n",
       "}\n",
       "\n",
       ".xr-array-preview,\n",
       ".xr-array-data {\n",
       "  padding: 0 5px !important;\n",
       "  grid-column: 2;\n",
       "}\n",
       "\n",
       ".xr-array-data,\n",
       ".xr-array-in:checked ~ .xr-array-preview {\n",
       "  display: none;\n",
       "}\n",
       "\n",
       ".xr-array-in:checked ~ .xr-array-data,\n",
       ".xr-array-preview {\n",
       "  display: inline-block;\n",
       "}\n",
       "\n",
       ".xr-dim-list {\n",
       "  display: inline-block !important;\n",
       "  list-style: none;\n",
       "  padding: 0 !important;\n",
       "  margin: 0;\n",
       "}\n",
       "\n",
       ".xr-dim-list li {\n",
       "  display: inline-block;\n",
       "  padding: 0;\n",
       "  margin: 0;\n",
       "}\n",
       "\n",
       ".xr-dim-list:before {\n",
       "  content: '(';\n",
       "}\n",
       "\n",
       ".xr-dim-list:after {\n",
       "  content: ')';\n",
       "}\n",
       "\n",
       ".xr-dim-list li:not(:last-child):after {\n",
       "  content: ',';\n",
       "  padding-right: 5px;\n",
       "}\n",
       "\n",
       ".xr-has-index {\n",
       "  font-weight: bold;\n",
       "}\n",
       "\n",
       ".xr-var-list,\n",
       ".xr-var-item {\n",
       "  display: contents;\n",
       "}\n",
       "\n",
       ".xr-var-item > div,\n",
       ".xr-var-item label,\n",
       ".xr-var-item > .xr-var-name span {\n",
       "  background-color: var(--xr-background-color-row-even);\n",
       "  margin-bottom: 0;\n",
       "}\n",
       "\n",
       ".xr-var-item > .xr-var-name:hover span {\n",
       "  padding-right: 5px;\n",
       "}\n",
       "\n",
       ".xr-var-list > li:nth-child(odd) > div,\n",
       ".xr-var-list > li:nth-child(odd) > label,\n",
       ".xr-var-list > li:nth-child(odd) > .xr-var-name span {\n",
       "  background-color: var(--xr-background-color-row-odd);\n",
       "}\n",
       "\n",
       ".xr-var-name {\n",
       "  grid-column: 1;\n",
       "}\n",
       "\n",
       ".xr-var-dims {\n",
       "  grid-column: 2;\n",
       "}\n",
       "\n",
       ".xr-var-dtype {\n",
       "  grid-column: 3;\n",
       "  text-align: right;\n",
       "  color: var(--xr-font-color2);\n",
       "}\n",
       "\n",
       ".xr-var-preview {\n",
       "  grid-column: 4;\n",
       "}\n",
       "\n",
       ".xr-index-preview {\n",
       "  grid-column: 2 / 5;\n",
       "  color: var(--xr-font-color2);\n",
       "}\n",
       "\n",
       ".xr-var-name,\n",
       ".xr-var-dims,\n",
       ".xr-var-dtype,\n",
       ".xr-preview,\n",
       ".xr-attrs dt {\n",
       "  white-space: nowrap;\n",
       "  overflow: hidden;\n",
       "  text-overflow: ellipsis;\n",
       "  padding-right: 10px;\n",
       "}\n",
       "\n",
       ".xr-var-name:hover,\n",
       ".xr-var-dims:hover,\n",
       ".xr-var-dtype:hover,\n",
       ".xr-attrs dt:hover {\n",
       "  overflow: visible;\n",
       "  width: auto;\n",
       "  z-index: 1;\n",
       "}\n",
       "\n",
       ".xr-var-attrs,\n",
       ".xr-var-data,\n",
       ".xr-index-data {\n",
       "  display: none;\n",
       "  background-color: var(--xr-background-color) !important;\n",
       "  padding-bottom: 5px !important;\n",
       "}\n",
       "\n",
       ".xr-var-attrs-in:checked ~ .xr-var-attrs,\n",
       ".xr-var-data-in:checked ~ .xr-var-data,\n",
       ".xr-index-data-in:checked ~ .xr-index-data {\n",
       "  display: block;\n",
       "}\n",
       "\n",
       ".xr-var-data > table {\n",
       "  float: right;\n",
       "}\n",
       "\n",
       ".xr-var-name span,\n",
       ".xr-var-data,\n",
       ".xr-index-name div,\n",
       ".xr-index-data,\n",
       ".xr-attrs {\n",
       "  padding-left: 25px !important;\n",
       "}\n",
       "\n",
       ".xr-attrs,\n",
       ".xr-var-attrs,\n",
       ".xr-var-data,\n",
       ".xr-index-data {\n",
       "  grid-column: 1 / -1;\n",
       "}\n",
       "\n",
       "dl.xr-attrs {\n",
       "  padding: 0;\n",
       "  margin: 0;\n",
       "  display: grid;\n",
       "  grid-template-columns: 125px auto;\n",
       "}\n",
       "\n",
       ".xr-attrs dt,\n",
       ".xr-attrs dd {\n",
       "  padding: 0;\n",
       "  margin: 0;\n",
       "  float: left;\n",
       "  padding-right: 10px;\n",
       "  width: auto;\n",
       "}\n",
       "\n",
       ".xr-attrs dt {\n",
       "  font-weight: normal;\n",
       "  grid-column: 1;\n",
       "}\n",
       "\n",
       ".xr-attrs dt:hover span {\n",
       "  display: inline-block;\n",
       "  background: var(--xr-background-color);\n",
       "  padding-right: 10px;\n",
       "}\n",
       "\n",
       ".xr-attrs dd {\n",
       "  grid-column: 2;\n",
       "  white-space: pre-wrap;\n",
       "  word-break: break-all;\n",
       "}\n",
       "\n",
       ".xr-icon-database,\n",
       ".xr-icon-file-text2,\n",
       ".xr-no-icon {\n",
       "  display: inline-block;\n",
       "  vertical-align: middle;\n",
       "  width: 1em;\n",
       "  height: 1.5em !important;\n",
       "  stroke-width: 0;\n",
       "  stroke: currentColor;\n",
       "  fill: currentColor;\n",
       "}\n",
       "</style><pre class='xr-text-repr-fallback'>&lt;xarray.Dataset&gt; Size: 686kB\n",
       "Dimensions:  (time: 12, lat: 23, long: 69)\n",
       "Coordinates:\n",
       "  * time     (time) object 96B 1980-01-01 00:00:00 ... 1980-12-01 00:00:00\n",
       "  * lat      (lat) float64 184B 50.87 50.87 50.86 50.85 ... 50.71 50.7 50.69\n",
       "  * long     (long) float64 552B 4.176 4.184 4.192 4.201 ... 4.726 4.734 4.742\n",
       "Data variables:\n",
       "    clt      (time, lat, long) float64 152kB ...\n",
       "    cmi      (time, lat, long) int16 38kB ...\n",
       "    hurs     (time, lat, long) uint16 38kB ...\n",
       "    pet      (time, lat, long) uint16 38kB ...\n",
       "    pr       (time, lat, long) int32 76kB ...\n",
       "    rsds     (time, lat, long) uint16 38kB ...\n",
       "    sfcWind  (time, lat, long) uint16 38kB ...\n",
       "    tas      (time, lat, long) int32 76kB ...\n",
       "    tasmax   (time, lat, long) int32 76kB ...\n",
       "    tasmin   (time, lat, long) int32 76kB ...\n",
       "    vpd      (time, lat, long) uint16 38kB ...</pre><div class='xr-wrap' style='display:none'><div class='xr-header'><div class='xr-obj-type'>xarray.Dataset</div></div><ul class='xr-sections'><li class='xr-section-item'><input id='section-5c47ce31-2c80-41a7-b742-c63ab9646a63' class='xr-section-summary-in' type='checkbox' disabled ><label for='section-5c47ce31-2c80-41a7-b742-c63ab9646a63' class='xr-section-summary'  title='Expand/collapse section'>Dimensions:</label><div class='xr-section-inline-details'><ul class='xr-dim-list'><li><span class='xr-has-index'>time</span>: 12</li><li><span class='xr-has-index'>lat</span>: 23</li><li><span class='xr-has-index'>long</span>: 69</li></ul></div><div class='xr-section-details'></div></li><li class='xr-section-item'><input id='section-3bf29d33-9433-4d95-ac9a-17f634e68868' class='xr-section-summary-in' type='checkbox'  checked><label for='section-3bf29d33-9433-4d95-ac9a-17f634e68868' class='xr-section-summary' >Coordinates: <span>(3)</span></label><div class='xr-section-inline-details'></div><div class='xr-section-details'><ul class='xr-var-list'><li class='xr-var-item'><div class='xr-var-name'><span class='xr-has-index'>time</span></div><div class='xr-var-dims'>(time)</div><div class='xr-var-dtype'>object</div><div class='xr-var-preview xr-preview'>1980-01-01 00:00:00 ... 1980-12-...</div><input id='attrs-2fb475ca-9894-4de6-90a8-140a7ed68ef8' class='xr-var-attrs-in' type='checkbox' disabled><label for='attrs-2fb475ca-9894-4de6-90a8-140a7ed68ef8' title='Show/Hide attributes'><svg class='icon xr-icon-file-text2'><use xlink:href='#icon-file-text2'></use></svg></label><input id='data-1748f50b-2064-4a1f-bcea-db0623051e32' class='xr-var-data-in' type='checkbox'><label for='data-1748f50b-2064-4a1f-bcea-db0623051e32' title='Show/Hide data repr'><svg class='icon xr-icon-database'><use xlink:href='#icon-database'></use></svg></label><div class='xr-var-attrs'><dl class='xr-attrs'></dl></div><div class='xr-var-data'><pre>array([cftime.DatetimeProlepticGregorian(1980, 1, 1, 0, 0, 0, 0, has_year_zero=True),\n",
       "       cftime.DatetimeProlepticGregorian(1980, 2, 1, 0, 0, 0, 0, has_year_zero=True),\n",
       "       cftime.DatetimeProlepticGregorian(1980, 3, 1, 0, 0, 0, 0, has_year_zero=True),\n",
       "       cftime.DatetimeProlepticGregorian(1980, 4, 1, 0, 0, 0, 0, has_year_zero=True),\n",
       "       cftime.DatetimeProlepticGregorian(1980, 5, 1, 0, 0, 0, 0, has_year_zero=True),\n",
       "       cftime.DatetimeProlepticGregorian(1980, 6, 1, 0, 0, 0, 0, has_year_zero=True),\n",
       "       cftime.DatetimeProlepticGregorian(1980, 7, 1, 0, 0, 0, 0, has_year_zero=True),\n",
       "       cftime.DatetimeProlepticGregorian(1980, 8, 1, 0, 0, 0, 0, has_year_zero=True),\n",
       "       cftime.DatetimeProlepticGregorian(1980, 9, 1, 0, 0, 0, 0, has_year_zero=True),\n",
       "       cftime.DatetimeProlepticGregorian(1980, 10, 1, 0, 0, 0, 0, has_year_zero=True),\n",
       "       cftime.DatetimeProlepticGregorian(1980, 11, 1, 0, 0, 0, 0, has_year_zero=True),\n",
       "       cftime.DatetimeProlepticGregorian(1980, 12, 1, 0, 0, 0, 0, has_year_zero=True)],\n",
       "      dtype=object)</pre></div></li><li class='xr-var-item'><div class='xr-var-name'><span class='xr-has-index'>lat</span></div><div class='xr-var-dims'>(lat)</div><div class='xr-var-dtype'>float64</div><div class='xr-var-preview xr-preview'>50.87 50.87 50.86 ... 50.7 50.69</div><input id='attrs-34d347a9-ee29-4850-b2a8-e92a127c664d' class='xr-var-attrs-in' type='checkbox' disabled><label for='attrs-34d347a9-ee29-4850-b2a8-e92a127c664d' title='Show/Hide attributes'><svg class='icon xr-icon-file-text2'><use xlink:href='#icon-file-text2'></use></svg></label><input id='data-f4349f43-c51d-43d0-acf9-18f6a55b6d42' class='xr-var-data-in' type='checkbox'><label for='data-f4349f43-c51d-43d0-acf9-18f6a55b6d42' title='Show/Hide data repr'><svg class='icon xr-icon-database'><use xlink:href='#icon-database'></use></svg></label><div class='xr-var-attrs'><dl class='xr-attrs'></dl></div><div class='xr-var-data'><pre>array([50.873744, 50.865411, 50.857078, 50.848744, 50.840411, 50.832078,\n",
       "       50.823744, 50.815411, 50.807078, 50.798744, 50.790411, 50.782078,\n",
       "       50.773744, 50.765411, 50.757078, 50.748744, 50.740411, 50.732078,\n",
       "       50.723744, 50.715411, 50.707078, 50.698744, 50.690411])</pre></div></li><li class='xr-var-item'><div class='xr-var-name'><span class='xr-has-index'>long</span></div><div class='xr-var-dims'>(long)</div><div class='xr-var-dtype'>float64</div><div class='xr-var-preview xr-preview'>4.176 4.184 4.192 ... 4.734 4.742</div><input id='attrs-7bef5f6e-1f10-470a-a1ae-136c9682491d' class='xr-var-attrs-in' type='checkbox' disabled><label for='attrs-7bef5f6e-1f10-470a-a1ae-136c9682491d' title='Show/Hide attributes'><svg class='icon xr-icon-file-text2'><use xlink:href='#icon-file-text2'></use></svg></label><input id='data-b7b68396-9825-423e-8a7f-9aa30cf962df' class='xr-var-data-in' type='checkbox'><label for='data-b7b68396-9825-423e-8a7f-9aa30cf962df' title='Show/Hide data repr'><svg class='icon xr-icon-database'><use xlink:href='#icon-database'></use></svg></label><div class='xr-var-attrs'><dl class='xr-attrs'></dl></div><div class='xr-var-data'><pre>array([4.175538, 4.183871, 4.192204, 4.200538, 4.208871, 4.217204, 4.225538,\n",
       "       4.233871, 4.242204, 4.250538, 4.258871, 4.267204, 4.275538, 4.283871,\n",
       "       4.292204, 4.300538, 4.308871, 4.317204, 4.325538, 4.333871, 4.342204,\n",
       "       4.350538, 4.358871, 4.367204, 4.375538, 4.383871, 4.392204, 4.400538,\n",
       "       4.408871, 4.417204, 4.425538, 4.433871, 4.442204, 4.450538, 4.458871,\n",
       "       4.467204, 4.475538, 4.483871, 4.492204, 4.500538, 4.508871, 4.517204,\n",
       "       4.525538, 4.533871, 4.542204, 4.550538, 4.558871, 4.567204, 4.575538,\n",
       "       4.583871, 4.592204, 4.600538, 4.608871, 4.617204, 4.625538, 4.633871,\n",
       "       4.642204, 4.650538, 4.658871, 4.667204, 4.675538, 4.683871, 4.692204,\n",
       "       4.700538, 4.708871, 4.717204, 4.725538, 4.733871, 4.742204])</pre></div></li></ul></div></li><li class='xr-section-item'><input id='section-0e634d8b-788f-4395-90b6-cfeea0987c03' class='xr-section-summary-in' type='checkbox'  checked><label for='section-0e634d8b-788f-4395-90b6-cfeea0987c03' class='xr-section-summary' >Data variables: <span>(11)</span></label><div class='xr-section-inline-details'></div><div class='xr-section-details'><ul class='xr-var-list'><li class='xr-var-item'><div class='xr-var-name'><span>clt</span></div><div class='xr-var-dims'>(time, lat, long)</div><div class='xr-var-dtype'>float64</div><div class='xr-var-preview xr-preview'>...</div><input id='attrs-7b27a4e8-9354-44ed-a702-c4544b43b57a' class='xr-var-attrs-in' type='checkbox' disabled><label for='attrs-7b27a4e8-9354-44ed-a702-c4544b43b57a' title='Show/Hide attributes'><svg class='icon xr-icon-file-text2'><use xlink:href='#icon-file-text2'></use></svg></label><input id='data-7653312c-eb0d-45e5-8099-c893378fbb33' class='xr-var-data-in' type='checkbox'><label for='data-7653312c-eb0d-45e5-8099-c893378fbb33' title='Show/Hide data repr'><svg class='icon xr-icon-database'><use xlink:href='#icon-database'></use></svg></label><div class='xr-var-attrs'><dl class='xr-attrs'></dl></div><div class='xr-var-data'><pre>[19044 values with dtype=float64]</pre></div></li><li class='xr-var-item'><div class='xr-var-name'><span>cmi</span></div><div class='xr-var-dims'>(time, lat, long)</div><div class='xr-var-dtype'>int16</div><div class='xr-var-preview xr-preview'>...</div><input id='attrs-8be4fb2d-da83-4f89-9856-f5f614455614' class='xr-var-attrs-in' type='checkbox' disabled><label for='attrs-8be4fb2d-da83-4f89-9856-f5f614455614' title='Show/Hide attributes'><svg class='icon xr-icon-file-text2'><use xlink:href='#icon-file-text2'></use></svg></label><input id='data-43033ae0-edf1-41a1-a27b-64df591eaf2d' class='xr-var-data-in' type='checkbox'><label for='data-43033ae0-edf1-41a1-a27b-64df591eaf2d' title='Show/Hide data repr'><svg class='icon xr-icon-database'><use xlink:href='#icon-database'></use></svg></label><div class='xr-var-attrs'><dl class='xr-attrs'></dl></div><div class='xr-var-data'><pre>[19044 values with dtype=int16]</pre></div></li><li class='xr-var-item'><div class='xr-var-name'><span>hurs</span></div><div class='xr-var-dims'>(time, lat, long)</div><div class='xr-var-dtype'>uint16</div><div class='xr-var-preview xr-preview'>...</div><input id='attrs-6ce186d6-3992-4332-9cdf-6600caa2b837' class='xr-var-attrs-in' type='checkbox' disabled><label for='attrs-6ce186d6-3992-4332-9cdf-6600caa2b837' title='Show/Hide attributes'><svg class='icon xr-icon-file-text2'><use xlink:href='#icon-file-text2'></use></svg></label><input id='data-da122868-056e-4d19-8777-284221a1d060' class='xr-var-data-in' type='checkbox'><label for='data-da122868-056e-4d19-8777-284221a1d060' title='Show/Hide data repr'><svg class='icon xr-icon-database'><use xlink:href='#icon-database'></use></svg></label><div class='xr-var-attrs'><dl class='xr-attrs'></dl></div><div class='xr-var-data'><pre>[19044 values with dtype=uint16]</pre></div></li><li class='xr-var-item'><div class='xr-var-name'><span>pet</span></div><div class='xr-var-dims'>(time, lat, long)</div><div class='xr-var-dtype'>uint16</div><div class='xr-var-preview xr-preview'>...</div><input id='attrs-8e150da5-4041-4351-a8e4-3d719c8f5cf9' class='xr-var-attrs-in' type='checkbox' disabled><label for='attrs-8e150da5-4041-4351-a8e4-3d719c8f5cf9' title='Show/Hide attributes'><svg class='icon xr-icon-file-text2'><use xlink:href='#icon-file-text2'></use></svg></label><input id='data-415a4763-308b-4843-8342-3c8bdc4076cd' class='xr-var-data-in' type='checkbox'><label for='data-415a4763-308b-4843-8342-3c8bdc4076cd' title='Show/Hide data repr'><svg class='icon xr-icon-database'><use xlink:href='#icon-database'></use></svg></label><div class='xr-var-attrs'><dl class='xr-attrs'></dl></div><div class='xr-var-data'><pre>[19044 values with dtype=uint16]</pre></div></li><li class='xr-var-item'><div class='xr-var-name'><span>pr</span></div><div class='xr-var-dims'>(time, lat, long)</div><div class='xr-var-dtype'>int32</div><div class='xr-var-preview xr-preview'>...</div><input id='attrs-ae45b570-3bb1-4c59-83bc-1654f11f2fe8' class='xr-var-attrs-in' type='checkbox' disabled><label for='attrs-ae45b570-3bb1-4c59-83bc-1654f11f2fe8' title='Show/Hide attributes'><svg class='icon xr-icon-file-text2'><use xlink:href='#icon-file-text2'></use></svg></label><input id='data-62e57e38-9b7d-497d-8da5-f295a6fcf45a' class='xr-var-data-in' type='checkbox'><label for='data-62e57e38-9b7d-497d-8da5-f295a6fcf45a' title='Show/Hide data repr'><svg class='icon xr-icon-database'><use xlink:href='#icon-database'></use></svg></label><div class='xr-var-attrs'><dl class='xr-attrs'></dl></div><div class='xr-var-data'><pre>[19044 values with dtype=int32]</pre></div></li><li class='xr-var-item'><div class='xr-var-name'><span>rsds</span></div><div class='xr-var-dims'>(time, lat, long)</div><div class='xr-var-dtype'>uint16</div><div class='xr-var-preview xr-preview'>...</div><input id='attrs-af0005b7-06f9-40aa-b634-3631a8546cc7' class='xr-var-attrs-in' type='checkbox' disabled><label for='attrs-af0005b7-06f9-40aa-b634-3631a8546cc7' title='Show/Hide attributes'><svg class='icon xr-icon-file-text2'><use xlink:href='#icon-file-text2'></use></svg></label><input id='data-5052d381-fdc3-4034-9e21-552c74e2c7e6' class='xr-var-data-in' type='checkbox'><label for='data-5052d381-fdc3-4034-9e21-552c74e2c7e6' title='Show/Hide data repr'><svg class='icon xr-icon-database'><use xlink:href='#icon-database'></use></svg></label><div class='xr-var-attrs'><dl class='xr-attrs'></dl></div><div class='xr-var-data'><pre>[19044 values with dtype=uint16]</pre></div></li><li class='xr-var-item'><div class='xr-var-name'><span>sfcWind</span></div><div class='xr-var-dims'>(time, lat, long)</div><div class='xr-var-dtype'>uint16</div><div class='xr-var-preview xr-preview'>...</div><input id='attrs-e565fd82-88ad-4fb5-8834-f7ff40ecf630' class='xr-var-attrs-in' type='checkbox' disabled><label for='attrs-e565fd82-88ad-4fb5-8834-f7ff40ecf630' title='Show/Hide attributes'><svg class='icon xr-icon-file-text2'><use xlink:href='#icon-file-text2'></use></svg></label><input id='data-c267fb43-2f19-471c-b6ab-7bcdf8d4727f' class='xr-var-data-in' type='checkbox'><label for='data-c267fb43-2f19-471c-b6ab-7bcdf8d4727f' title='Show/Hide data repr'><svg class='icon xr-icon-database'><use xlink:href='#icon-database'></use></svg></label><div class='xr-var-attrs'><dl class='xr-attrs'></dl></div><div class='xr-var-data'><pre>[19044 values with dtype=uint16]</pre></div></li><li class='xr-var-item'><div class='xr-var-name'><span>tas</span></div><div class='xr-var-dims'>(time, lat, long)</div><div class='xr-var-dtype'>int32</div><div class='xr-var-preview xr-preview'>...</div><input id='attrs-30bd0ce2-2719-4922-a330-91ac67f69f8b' class='xr-var-attrs-in' type='checkbox' disabled><label for='attrs-30bd0ce2-2719-4922-a330-91ac67f69f8b' title='Show/Hide attributes'><svg class='icon xr-icon-file-text2'><use xlink:href='#icon-file-text2'></use></svg></label><input id='data-f0397f7a-d8d3-4b15-915f-60838bad9635' class='xr-var-data-in' type='checkbox'><label for='data-f0397f7a-d8d3-4b15-915f-60838bad9635' title='Show/Hide data repr'><svg class='icon xr-icon-database'><use xlink:href='#icon-database'></use></svg></label><div class='xr-var-attrs'><dl class='xr-attrs'></dl></div><div class='xr-var-data'><pre>[19044 values with dtype=int32]</pre></div></li><li class='xr-var-item'><div class='xr-var-name'><span>tasmax</span></div><div class='xr-var-dims'>(time, lat, long)</div><div class='xr-var-dtype'>int32</div><div class='xr-var-preview xr-preview'>...</div><input id='attrs-aa3b090f-c668-4c2f-ac0b-0154255434ea' class='xr-var-attrs-in' type='checkbox' disabled><label for='attrs-aa3b090f-c668-4c2f-ac0b-0154255434ea' title='Show/Hide attributes'><svg class='icon xr-icon-file-text2'><use xlink:href='#icon-file-text2'></use></svg></label><input id='data-97d16c12-9045-46c5-8868-ff1f54fac9aa' class='xr-var-data-in' type='checkbox'><label for='data-97d16c12-9045-46c5-8868-ff1f54fac9aa' title='Show/Hide data repr'><svg class='icon xr-icon-database'><use xlink:href='#icon-database'></use></svg></label><div class='xr-var-attrs'><dl class='xr-attrs'></dl></div><div class='xr-var-data'><pre>[19044 values with dtype=int32]</pre></div></li><li class='xr-var-item'><div class='xr-var-name'><span>tasmin</span></div><div class='xr-var-dims'>(time, lat, long)</div><div class='xr-var-dtype'>int32</div><div class='xr-var-preview xr-preview'>...</div><input id='attrs-6b8cb908-11c2-4abe-88a5-73d017502a09' class='xr-var-attrs-in' type='checkbox' disabled><label for='attrs-6b8cb908-11c2-4abe-88a5-73d017502a09' title='Show/Hide attributes'><svg class='icon xr-icon-file-text2'><use xlink:href='#icon-file-text2'></use></svg></label><input id='data-ae3346a0-e12d-4467-bd25-f5997828c734' class='xr-var-data-in' type='checkbox'><label for='data-ae3346a0-e12d-4467-bd25-f5997828c734' title='Show/Hide data repr'><svg class='icon xr-icon-database'><use xlink:href='#icon-database'></use></svg></label><div class='xr-var-attrs'><dl class='xr-attrs'></dl></div><div class='xr-var-data'><pre>[19044 values with dtype=int32]</pre></div></li><li class='xr-var-item'><div class='xr-var-name'><span>vpd</span></div><div class='xr-var-dims'>(time, lat, long)</div><div class='xr-var-dtype'>uint16</div><div class='xr-var-preview xr-preview'>...</div><input id='attrs-e2af3651-d474-414f-94a1-84c97121b969' class='xr-var-attrs-in' type='checkbox' disabled><label for='attrs-e2af3651-d474-414f-94a1-84c97121b969' title='Show/Hide attributes'><svg class='icon xr-icon-file-text2'><use xlink:href='#icon-file-text2'></use></svg></label><input id='data-63637919-86f3-4635-9586-22e2aa33b6f7' class='xr-var-data-in' type='checkbox'><label for='data-63637919-86f3-4635-9586-22e2aa33b6f7' title='Show/Hide data repr'><svg class='icon xr-icon-database'><use xlink:href='#icon-database'></use></svg></label><div class='xr-var-attrs'><dl class='xr-attrs'></dl></div><div class='xr-var-data'><pre>[19044 values with dtype=uint16]</pre></div></li></ul></div></li><li class='xr-section-item'><input id='section-195de73c-b0da-41d2-be97-ade1ba93ba3d' class='xr-section-summary-in' type='checkbox'  ><label for='section-195de73c-b0da-41d2-be97-ade1ba93ba3d' class='xr-section-summary' >Indexes: <span>(3)</span></label><div class='xr-section-inline-details'></div><div class='xr-section-details'><ul class='xr-var-list'><li class='xr-var-item'><div class='xr-index-name'><div>time</div></div><div class='xr-index-preview'>PandasIndex</div><div></div><input id='index-4fdcf628-c9b3-4626-a09f-570586f37709' class='xr-index-data-in' type='checkbox'/><label for='index-4fdcf628-c9b3-4626-a09f-570586f37709' title='Show/Hide index repr'><svg class='icon xr-icon-database'><use xlink:href='#icon-database'></use></svg></label><div class='xr-index-data'><pre>PandasIndex(CFTimeIndex([1980-01-01 00:00:00, 1980-02-01 00:00:00, 1980-03-01 00:00:00,\n",
       "             1980-04-01 00:00:00, 1980-05-01 00:00:00, 1980-06-01 00:00:00,\n",
       "             1980-07-01 00:00:00, 1980-08-01 00:00:00, 1980-09-01 00:00:00,\n",
       "             1980-10-01 00:00:00, 1980-11-01 00:00:00, 1980-12-01 00:00:00],\n",
       "            dtype=&#x27;object&#x27;,\n",
       "            length=12,\n",
       "            calendar=&#x27;proleptic_gregorian&#x27;,\n",
       "            freq=&#x27;MS&#x27;))</pre></div></li><li class='xr-var-item'><div class='xr-index-name'><div>lat</div></div><div class='xr-index-preview'>PandasIndex</div><div></div><input id='index-a2f9994c-d381-4dfe-9bd3-60e3909110d8' class='xr-index-data-in' type='checkbox'/><label for='index-a2f9994c-d381-4dfe-9bd3-60e3909110d8' title='Show/Hide index repr'><svg class='icon xr-icon-database'><use xlink:href='#icon-database'></use></svg></label><div class='xr-index-data'><pre>PandasIndex(Index([50.87374433334999, 50.86541100004999, 50.85707766674999,\n",
       "       50.84874433344999, 50.84041100014999, 50.83207766684999,\n",
       "       50.82374433354999, 50.81541100024999, 50.80707766694999,\n",
       "       50.79874433364999, 50.79041100034999, 50.78207766704999,\n",
       "       50.77374433374999, 50.76541100044999, 50.75707766714999,\n",
       "       50.74874433384999, 50.74041100054999, 50.73207766724999,\n",
       "       50.72374433394999, 50.71541100064999, 50.70707766734999,\n",
       "       50.69874433404999, 50.69041100074999],\n",
       "      dtype=&#x27;float64&#x27;, name=&#x27;lat&#x27;))</pre></div></li><li class='xr-var-item'><div class='xr-index-name'><div>long</div></div><div class='xr-index-preview'>PandasIndex</div><div></div><input id='index-1857f374-4b11-4c88-86c1-69822c7ff346' class='xr-index-data-in' type='checkbox'/><label for='index-1857f374-4b11-4c88-86c1-69822c7ff346' title='Show/Hide index repr'><svg class='icon xr-icon-database'><use xlink:href='#icon-database'></use></svg></label><div class='xr-index-data'><pre>PandasIndex(Index([ 4.175537666650022,  4.183870999950022,  4.192204333250022,\n",
       "        4.200537666550022, 4.2088709998500216,  4.217204333150022,\n",
       "       4.2255376664500215,  4.233870999750022,  4.242204333050022,\n",
       "        4.250537666350022,  4.258870999650022,  4.267204332950022,\n",
       "        4.275537666250022,  4.283870999550022,  4.292204332850022,\n",
       "        4.300537666150022,  4.308870999450022,  4.317204332750022,\n",
       "        4.325537666050022, 4.3338709993500215,  4.342204332650022,\n",
       "        4.350537665950022,  4.358870999250022,  4.367204332550022,\n",
       "        4.375537665850022,  4.383870999150022,  4.392204332450022,\n",
       "        4.400537665750022,  4.408870999050022,  4.417204332350022,\n",
       "        4.425537665650022,  4.433870998950022, 4.4422043322500215,\n",
       "        4.450537665550022,  4.458870998850022,  4.467204332150022,\n",
       "        4.475537665450022,  4.483870998750022,  4.492204332050022,\n",
       "        4.500537665350022,  4.508870998650022,  4.517204331950022,\n",
       "        4.525537665250022,  4.533870998550022,  4.542204331850022,\n",
       "        4.550537665150022,  4.558870998450022, 4.5672043317500215,\n",
       "        4.575537665050022,  4.583870998350022,  4.592204331650022,\n",
       "        4.600537664950022,  4.608870998250022,  4.617204331550022,\n",
       "        4.625537664850022,  4.633870998150022,  4.642204331450022,\n",
       "        4.650537664750022,  4.658870998050022,  4.667204331350022,\n",
       "        4.675537664650022,  4.683870997950022,  4.692204331250022,\n",
       "        4.700537664550022,  4.708870997850022,  4.717204331150022,\n",
       "        4.725537664450022,  4.733870997750022,  4.742204331050022],\n",
       "      dtype=&#x27;float64&#x27;, name=&#x27;long&#x27;))</pre></div></li></ul></div></li><li class='xr-section-item'><input id='section-0e011483-bb7e-4666-bb07-3c9999b3b36e' class='xr-section-summary-in' type='checkbox' disabled ><label for='section-0e011483-bb7e-4666-bb07-3c9999b3b36e' class='xr-section-summary'  title='Expand/collapse section'>Attributes: <span>(0)</span></label><div class='xr-section-inline-details'></div><div class='xr-section-details'><dl class='xr-attrs'></dl></div></li></ul></div></div>"
      ],
      "text/plain": [
       "<xarray.Dataset> Size: 686kB\n",
       "Dimensions:  (time: 12, lat: 23, long: 69)\n",
       "Coordinates:\n",
       "  * time     (time) object 96B 1980-01-01 00:00:00 ... 1980-12-01 00:00:00\n",
       "  * lat      (lat) float64 184B 50.87 50.87 50.86 50.85 ... 50.71 50.7 50.69\n",
       "  * long     (long) float64 552B 4.176 4.184 4.192 4.201 ... 4.726 4.734 4.742\n",
       "Data variables:\n",
       "    clt      (time, lat, long) float64 152kB ...\n",
       "    cmi      (time, lat, long) int16 38kB ...\n",
       "    hurs     (time, lat, long) uint16 38kB ...\n",
       "    pet      (time, lat, long) uint16 38kB ...\n",
       "    pr       (time, lat, long) int32 76kB ...\n",
       "    rsds     (time, lat, long) uint16 38kB ...\n",
       "    sfcWind  (time, lat, long) uint16 38kB ...\n",
       "    tas      (time, lat, long) int32 76kB ...\n",
       "    tasmax   (time, lat, long) int32 76kB ...\n",
       "    tasmin   (time, lat, long) int32 76kB ...\n",
       "    vpd      (time, lat, long) uint16 38kB ..."
      ]
     },
     "execution_count": 32,
     "metadata": {},
     "output_type": "execute_result"
    }
   ],
   "source": [
    "test_ilayers[\"static\"][0]"
   ]
  },
  {
   "cell_type": "code",
   "execution_count": 2,
   "id": "39511ea6-004e-4cd6-b5a6-5c8401e86e94",
   "metadata": {},
   "outputs": [],
   "source": [
    "import sys\n",
    "\n",
    "from pathlib import Path\n",
    "\n",
    "# Add the src directory to sys.path\n",
    "sys.path.append(str(Path().resolve().parents[1] / \"src\"))\n",
    "\n",
    "from utils.chelsa import extract_param\n",
    "from cube import bmd\n",
    "\n",
    "bmd_cube = bmd.bmd_cube()"
   ]
  },
  {
   "cell_type": "code",
   "execution_count": 3,
   "id": "618a99c0-1bba-4f16-875b-ece31114a4b7",
   "metadata": {},
   "outputs": [
    {
     "data": {
      "text/plain": [
       "<cube.bmd.bmd_cube at 0x2a9441d0b30>"
      ]
     },
     "execution_count": 3,
     "metadata": {},
     "output_type": "execute_result"
    }
   ],
   "source": [
    "bmd_cube"
   ]
  },
  {
   "cell_type": "code",
   "execution_count": 4,
   "id": "bdc7e000-7fa7-4a82-9cec-c79f95b3ad7f",
   "metadata": {},
   "outputs": [
    {
     "name": "stdout",
     "output_type": "stream",
     "text": [
      "-----Retrieving monthly CHELSA data for variable 'clt'-----\n"
     ]
    },
    {
     "name": "stderr",
     "output_type": "stream",
     "text": [
      "Processing: 100%|█████████████████████████████████████████████████████████████████████████████████████████████████| 2/2 [00:02<00:00,  1.38s/item]\n"
     ]
    },
    {
     "name": "stdout",
     "output_type": "stream",
     "text": [
      "-----Retrieving monthly CHELSA data for variable 'cmi'-----\n"
     ]
    },
    {
     "name": "stderr",
     "output_type": "stream",
     "text": [
      "Processing: 100%|█████████████████████████████████████████████████████████████████████████████████████████████████| 2/2 [00:20<00:00, 10.30s/item]\n"
     ]
    },
    {
     "name": "stdout",
     "output_type": "stream",
     "text": [
      "-----Retrieving monthly CHELSA data for variable 'hurs'-----\n"
     ]
    },
    {
     "name": "stderr",
     "output_type": "stream",
     "text": [
      "Processing: 100%|█████████████████████████████████████████████████████████████████████████████████████████████████| 2/2 [00:01<00:00,  1.62item/s]\n"
     ]
    },
    {
     "name": "stdout",
     "output_type": "stream",
     "text": [
      "-----Retrieving monthly CHELSA data for variable 'pet'-----\n"
     ]
    },
    {
     "name": "stderr",
     "output_type": "stream",
     "text": [
      "Processing: 100%|█████████████████████████████████████████████████████████████████████████████████████████████████| 2/2 [00:01<00:00,  1.71item/s]\n"
     ]
    },
    {
     "name": "stdout",
     "output_type": "stream",
     "text": [
      "-----Retrieving monthly CHELSA data for variable 'pr'-----\n"
     ]
    },
    {
     "name": "stderr",
     "output_type": "stream",
     "text": [
      "Processing: 100%|█████████████████████████████████████████████████████████████████████████████████████████████████| 2/2 [00:01<00:00,  1.29item/s]\n"
     ]
    },
    {
     "name": "stdout",
     "output_type": "stream",
     "text": [
      "-----Retrieving monthly CHELSA data for variable 'rsds'-----\n"
     ]
    },
    {
     "name": "stderr",
     "output_type": "stream",
     "text": [
      "Processing: 100%|█████████████████████████████████████████████████████████████████████████████████████████████████| 2/2 [00:01<00:00,  1.87item/s]\n"
     ]
    },
    {
     "name": "stdout",
     "output_type": "stream",
     "text": [
      "-----Retrieving monthly CHELSA data for variable 'sfcWind'-----\n"
     ]
    },
    {
     "name": "stderr",
     "output_type": "stream",
     "text": [
      "Processing: 100%|█████████████████████████████████████████████████████████████████████████████████████████████████| 2/2 [00:01<00:00,  1.71item/s]\n"
     ]
    },
    {
     "name": "stdout",
     "output_type": "stream",
     "text": [
      "-----Retrieving monthly CHELSA data for variable 'tas'-----\n"
     ]
    },
    {
     "name": "stderr",
     "output_type": "stream",
     "text": [
      "Processing: 100%|█████████████████████████████████████████████████████████████████████████████████████████████████| 2/2 [00:00<00:00,  2.06item/s]\n"
     ]
    },
    {
     "name": "stdout",
     "output_type": "stream",
     "text": [
      "-----Retrieving monthly CHELSA data for variable 'tasmax'-----\n"
     ]
    },
    {
     "name": "stderr",
     "output_type": "stream",
     "text": [
      "Processing: 100%|█████████████████████████████████████████████████████████████████████████████████████████████████| 2/2 [00:01<00:00,  1.98item/s]\n"
     ]
    },
    {
     "name": "stdout",
     "output_type": "stream",
     "text": [
      "-----Retrieving monthly CHELSA data for variable 'tasmin'-----\n"
     ]
    },
    {
     "name": "stderr",
     "output_type": "stream",
     "text": [
      "Processing: 100%|█████████████████████████████████████████████████████████████████████████████████████████████████| 2/2 [00:01<00:00,  1.61item/s]\n"
     ]
    },
    {
     "name": "stdout",
     "output_type": "stream",
     "text": [
      "-----Retrieving monthly CHELSA data for variable 'vpd'-----\n"
     ]
    },
    {
     "name": "stderr",
     "output_type": "stream",
     "text": [
      "Processing: 100%|█████████████████████████████████████████████████████████████████████████████████████████████████| 2/2 [00:01<00:00,  1.77item/s]\n"
     ]
    },
    {
     "name": "stdout",
     "output_type": "stream",
     "text": [
      "-----Retrieving Reference Climatology CHELSA data for variable 'bio1' in reference period 1981-2010-----\n",
      "Complete\n",
      "-----Retrieving Reference Climatology CHELSA data for variable 'bio2' in reference period 1981-2010-----\n",
      "Complete\n",
      "-----Retrieving Reference Climatology CHELSA data for variable 'bio3' in reference period 1981-2010-----\n",
      "Complete\n",
      "-----Retrieving monthly Reference Climatology CHELSA data for variable 'tas' in reference period 1981-2010-----\n"
     ]
    },
    {
     "name": "stderr",
     "output_type": "stream",
     "text": [
      "Processing: 100%|█████████████████████████████████████████████████████████████████████████████████████████████████| 2/2 [00:20<00:00, 10.34s/item]\n"
     ]
    },
    {
     "name": "stdout",
     "output_type": "stream",
     "text": [
      "-----Retrieving monthly Reference Climatology CHELSA data for variable 'tasmin' in reference period 1981-2010-----\n"
     ]
    },
    {
     "name": "stderr",
     "output_type": "stream",
     "text": [
      "Processing: 100%|█████████████████████████████████████████████████████████████████████████████████████████████████| 2/2 [00:02<00:00,  1.30s/item]\n"
     ]
    },
    {
     "name": "stdout",
     "output_type": "stream",
     "text": [
      "-----Retrieving monthly Reference Climatology CHELSA data for variable 'tasmax' in reference period 1981-2010-----\n"
     ]
    },
    {
     "name": "stderr",
     "output_type": "stream",
     "text": [
      "Processing: 100%|█████████████████████████████████████████████████████████████████████████████████████████████████| 2/2 [00:01<00:00,  1.30item/s]\n"
     ]
    },
    {
     "name": "stdout",
     "output_type": "stream",
     "text": [
      "-----Retrieving Simulation (period) CHELSA data for variable 'bio1'-----\n"
     ]
    },
    {
     "name": "stderr",
     "output_type": "stream",
     "text": [
      "Processing: 100%|█████████████████████████████████████████████████████████████████████████████████████████████████| 8/8 [00:05<00:00,  1.52item/s]\n"
     ]
    },
    {
     "name": "stdout",
     "output_type": "stream",
     "text": [
      "-----Retrieving Simulation (period) CHELSA data for variable 'bio2'-----\n"
     ]
    },
    {
     "name": "stderr",
     "output_type": "stream",
     "text": [
      "Processing: 100%|█████████████████████████████████████████████████████████████████████████████████████████████████| 8/8 [00:04<00:00,  1.85item/s]\n"
     ]
    },
    {
     "name": "stdout",
     "output_type": "stream",
     "text": [
      "-----Retrieving Simulation (period) CHELSA data for variable 'bio3'-----\n"
     ]
    },
    {
     "name": "stderr",
     "output_type": "stream",
     "text": [
      "Processing: 100%|█████████████████████████████████████████████████████████████████████████████████████████████████| 8/8 [00:05<00:00,  1.53item/s]\n"
     ]
    },
    {
     "name": "stdout",
     "output_type": "stream",
     "text": [
      "-----Retrieving Simulation (monthly) CHELSA data for variable 'tas'-----\n"
     ]
    },
    {
     "name": "stderr",
     "output_type": "stream",
     "text": [
      "Processing: 100%|█████████████████████████████████████████████████████████████████████████████████████████████████| 8/8 [00:35<00:00,  4.38s/item]\n"
     ]
    },
    {
     "name": "stdout",
     "output_type": "stream",
     "text": [
      "-----Retrieving Simulation (monthly) CHELSA data for variable 'tasmin'-----\n"
     ]
    },
    {
     "name": "stderr",
     "output_type": "stream",
     "text": [
      "Processing: 100%|█████████████████████████████████████████████████████████████████████████████████████████████████| 8/8 [01:25<00:00, 10.66s/item]\n"
     ]
    },
    {
     "name": "stdout",
     "output_type": "stream",
     "text": [
      "-----Retrieving Simulation (monthly) CHELSA data for variable 'tasmax'-----\n"
     ]
    },
    {
     "name": "stderr",
     "output_type": "stream",
     "text": [
      "Processing: 100%|█████████████████████████████████████████████████████████████████████████████████████████████████| 8/8 [00:29<00:00,  3.64s/item]"
     ]
    },
    {
     "name": "stdout",
     "output_type": "stream",
     "text": [
      "['chelsa_month', 'chelsa_clim_ref_period', 'chelsa_clim_ref_month', 'chelsa_clim_sim_period', 'chelsa_clim_sim_month']\n",
      "[<xarray.Dataset> Size: 115kB\n",
      "Dimensions:  (time: 2, lat: 23, long: 69)\n",
      "Coordinates:\n",
      "  * time     (time) datetime64[ns] 16B 1980-01-01 1980-02-01\n",
      "  * lat      (lat) float64 184B 50.87 50.87 50.86 50.85 ... 50.71 50.7 50.69\n",
      "  * long     (long) float64 552B 4.176 4.184 4.192 4.201 ... 4.726 4.734 4.742\n",
      "Data variables:\n",
      "    clt      (time, lat, long) float64 25kB 5.152e+03 5.152e+03 ... 6.412e+03\n",
      "    cmi      (time, lat, long) int16 6kB 333 308 289 300 306 ... 249 241 228 224\n",
      "    hurs     (time, lat, long) uint16 6kB 6867 6870 6873 6879 ... 6713 6723 6733\n",
      "    pet      (time, lat, long) uint16 6kB 1532 1793 1985 1893 ... 3120 3287 3359\n",
      "    pr       (time, lat, long) int32 13kB 4864 4869 4876 4893 ... 5527 5562 5597\n",
      "    rsds     (time, lat, long) uint16 6kB 3080 3092 3110 3127 ... 4931 4907 4884\n",
      "    sfcWind  (time, lat, long) uint16 6kB 3666 4099 4332 4219 ... 4397 4661 4824\n",
      "    tas      (time, lat, long) int32 13kB 2740 2740 2740 2740 ... 2786 2786 2785\n",
      "    tasmax   (time, lat, long) int32 13kB 2764 2764 2764 2764 ... 2819 2819 2818\n",
      "    tasmin   (time, lat, long) int32 13kB 2720 2719 2719 2719 ... 2761 2760 2760\n",
      "    vpd      (time, lat, long) uint16 6kB 2036 2034 2032 2028 ... 2956 2947 2918, <xarray.Dataset> Size: 13kB\n",
      "Dimensions:  (lat: 23, long: 69)\n",
      "Coordinates:\n",
      "  * lat      (lat) float64 184B 50.87 50.87 50.86 50.85 ... 50.71 50.7 50.69\n",
      "  * long     (long) float64 552B 4.176 4.184 4.192 4.201 ... 4.726 4.734 4.742\n",
      "Data variables:\n",
      "    bio1     (lat, long) uint16 3kB 2837 2837 2837 2836 ... 2832 2832 2832 2831\n",
      "    bio2     (lat, long) uint16 3kB 71 71 71 71 71 71 71 ... 71 71 71 71 71 71\n",
      "    bio3     (lat, long) float32 6kB 3.3 3.3 3.3 3.29 ... 3.27 3.27 3.27 3.26, <xarray.Dataset> Size: 39kB\n",
      "Dimensions:  (months: 2, lat: 23, long: 69)\n",
      "Coordinates:\n",
      "  * months   (months) int64 16B 1 2\n",
      "  * lat      (lat) float64 184B 50.87 50.87 50.86 50.85 ... 50.71 50.7 50.69\n",
      "  * long     (long) float64 552B 4.176 4.184 4.192 4.201 ... 4.726 4.734 4.742\n",
      "Data variables:\n",
      "    tas      (months, lat, long) float64 25kB 2.766e+03 2.766e+03 ... 2.763e+03\n",
      "    tasmin   (months, lat, long) uint16 6kB 2740 2740 2740 ... 2734 2733 2733\n",
      "    tasmax   (months, lat, long) uint16 6kB 2790 2790 2789 ... 2795 2794 2794, <xarray.Dataset> Size: 103kB\n",
      "Dimensions:          (year_range: 2, model_name: 2, ensemble_member: 2,\n",
      "                      lat: 23, long: 69)\n",
      "Coordinates:\n",
      "  * year_range       (year_range) <U9 72B '2011-2040' '2041-2070'\n",
      "  * model_name       (model_name) <U13 104B 'gfdl-esm4' 'mpi-esm1-2-hr'\n",
      "  * ensemble_member  (ensemble_member) <U6 48B 'ssp370' 'ssp126'\n",
      "  * lat              (lat) float64 184B 50.87 50.87 50.86 ... 50.71 50.7 50.69\n",
      "  * long             (long) float64 552B 4.176 4.184 4.192 ... 4.726 4.734 4.742\n",
      "Data variables:\n",
      "    bio1             (year_range, model_name, ensemble_member, lat, long) uint16 25kB ...\n",
      "    bio2             (year_range, model_name, ensemble_member, lat, long) uint16 25kB ...\n",
      "    bio3             (year_range, model_name, ensemble_member, lat, long) float32 51kB ..., <xarray.Dataset> Size: 77kB\n",
      "Dimensions:          (year_range: 2, month: 1, model_name: 2,\n",
      "                      ensemble_member: 2, lat: 23, long: 69)\n",
      "Coordinates:\n",
      "  * year_range       (year_range) <U9 72B '2011-2040' '2041-2070'\n",
      "  * month            (month) int64 8B 1\n",
      "  * model_name       (model_name) <U12 96B 'ipsl-cm6a-lr' 'ukesm1-0-ll'\n",
      "  * ensemble_member  (ensemble_member) <U6 48B 'ssp126' 'ssp585'\n",
      "  * lat              (lat) float64 184B 50.87 50.87 50.86 ... 50.71 50.7 50.69\n",
      "  * long             (long) float64 552B 4.176 4.184 4.192 ... 4.726 4.734 4.742\n",
      "Data variables:\n",
      "    tas              (year_range, month, model_name, ensemble_member, lat, long) uint16 25kB ...\n",
      "    tasmin           (year_range, month, model_name, ensemble_member, lat, long) uint16 25kB ...\n",
      "    tasmax           (year_range, month, model_name, ensemble_member, lat, long) uint16 25kB ...]\n"
     ]
    },
    {
     "name": "stderr",
     "output_type": "stream",
     "text": [
      "\n"
     ]
    }
   ],
   "source": [
    "bmd_cube.generate_bmd_data(\"prototype_param.yaml\", \"../../config\")"
   ]
  },
  {
   "cell_type": "code",
   "execution_count": 5,
   "id": "b6413eb6-3e27-41c6-af09-7b8659995e61",
   "metadata": {},
   "outputs": [
    {
     "data": {
      "text/plain": [
       "{'static': [<xarray.Dataset> Size: 13kB\n",
       "  Dimensions:  (lat: 23, long: 69)\n",
       "  Coordinates:\n",
       "    * lat      (lat) float64 184B 50.87 50.87 50.86 50.85 ... 50.71 50.7 50.69\n",
       "    * long     (long) float64 552B 4.176 4.184 4.192 4.201 ... 4.726 4.734 4.742\n",
       "  Data variables:\n",
       "      bio1     (lat, long) uint16 3kB 2837 2837 2837 2836 ... 2832 2832 2832 2831\n",
       "      bio2     (lat, long) uint16 3kB 71 71 71 71 71 71 71 ... 71 71 71 71 71 71\n",
       "      bio3     (lat, long) float32 6kB 3.3 3.3 3.3 3.29 ... 3.27 3.27 3.27 3.26,\n",
       "  <xarray.Dataset> Size: 39kB\n",
       "  Dimensions:  (months: 2, lat: 23, long: 69)\n",
       "  Coordinates:\n",
       "    * months   (months) int64 16B 1 2\n",
       "    * lat      (lat) float64 184B 50.87 50.87 50.86 50.85 ... 50.71 50.7 50.69\n",
       "    * long     (long) float64 552B 4.176 4.184 4.192 4.201 ... 4.726 4.734 4.742\n",
       "  Data variables:\n",
       "      tas      (months, lat, long) float64 25kB 2.766e+03 2.766e+03 ... 2.763e+03\n",
       "      tasmin   (months, lat, long) uint16 6kB 2740 2740 2740 ... 2734 2733 2733\n",
       "      tasmax   (months, lat, long) uint16 6kB 2790 2790 2789 ... 2795 2794 2794,\n",
       "  <xarray.Dataset> Size: 103kB\n",
       "  Dimensions:          (year_range: 2, model_name: 2, ensemble_member: 2,\n",
       "                        lat: 23, long: 69)\n",
       "  Coordinates:\n",
       "    * year_range       (year_range) <U9 72B '2011-2040' '2041-2070'\n",
       "    * model_name       (model_name) <U13 104B 'gfdl-esm4' 'mpi-esm1-2-hr'\n",
       "    * ensemble_member  (ensemble_member) <U6 48B 'ssp370' 'ssp126'\n",
       "    * lat              (lat) float64 184B 50.87 50.87 50.86 ... 50.71 50.7 50.69\n",
       "    * long             (long) float64 552B 4.176 4.184 4.192 ... 4.726 4.734 4.742\n",
       "  Data variables:\n",
       "      bio1             (year_range, model_name, ensemble_member, lat, long) uint16 25kB ...\n",
       "      bio2             (year_range, model_name, ensemble_member, lat, long) uint16 25kB ...\n",
       "      bio3             (year_range, model_name, ensemble_member, lat, long) float32 51kB ...,\n",
       "  <xarray.Dataset> Size: 77kB\n",
       "  Dimensions:          (year_range: 2, month: 1, model_name: 2,\n",
       "                        ensemble_member: 2, lat: 23, long: 69)\n",
       "  Coordinates:\n",
       "    * year_range       (year_range) <U9 72B '2011-2040' '2041-2070'\n",
       "    * month            (month) int64 8B 1\n",
       "    * model_name       (model_name) <U12 96B 'ipsl-cm6a-lr' 'ukesm1-0-ll'\n",
       "    * ensemble_member  (ensemble_member) <U6 48B 'ssp126' 'ssp585'\n",
       "    * lat              (lat) float64 184B 50.87 50.87 50.86 ... 50.71 50.7 50.69\n",
       "    * long             (long) float64 552B 4.176 4.184 4.192 ... 4.726 4.734 4.742\n",
       "  Data variables:\n",
       "      tas              (year_range, month, model_name, ensemble_member, lat, long) uint16 25kB ...\n",
       "      tasmin           (year_range, month, model_name, ensemble_member, lat, long) uint16 25kB ...\n",
       "      tasmax           (year_range, month, model_name, ensemble_member, lat, long) uint16 25kB ...],\n",
       " 'dynamic': [<xarray.Dataset> Size: 115kB\n",
       "  Dimensions:  (time: 2, lat: 23, long: 69)\n",
       "  Coordinates:\n",
       "    * time     (time) datetime64[ns] 16B 1980-01-01 1980-02-01\n",
       "    * lat      (lat) float64 184B 50.87 50.87 50.86 50.85 ... 50.71 50.7 50.69\n",
       "    * long     (long) float64 552B 4.176 4.184 4.192 4.201 ... 4.726 4.734 4.742\n",
       "  Data variables:\n",
       "      clt      (time, lat, long) float64 25kB 5.152e+03 5.152e+03 ... 6.412e+03\n",
       "      cmi      (time, lat, long) int16 6kB 333 308 289 300 306 ... 249 241 228 224\n",
       "      hurs     (time, lat, long) uint16 6kB 6867 6870 6873 6879 ... 6713 6723 6733\n",
       "      pet      (time, lat, long) uint16 6kB 1532 1793 1985 1893 ... 3120 3287 3359\n",
       "      pr       (time, lat, long) int32 13kB 4864 4869 4876 4893 ... 5527 5562 5597\n",
       "      rsds     (time, lat, long) uint16 6kB 3080 3092 3110 3127 ... 4931 4907 4884\n",
       "      sfcWind  (time, lat, long) uint16 6kB 3666 4099 4332 4219 ... 4397 4661 4824\n",
       "      tas      (time, lat, long) int32 13kB 2740 2740 2740 2740 ... 2786 2786 2785\n",
       "      tasmax   (time, lat, long) int32 13kB 2764 2764 2764 2764 ... 2819 2819 2818\n",
       "      tasmin   (time, lat, long) int32 13kB 2720 2719 2719 2719 ... 2761 2760 2760\n",
       "      vpd      (time, lat, long) uint16 6kB 2036 2034 2032 2028 ... 2956 2947 2918]}"
      ]
     },
     "execution_count": 5,
     "metadata": {},
     "output_type": "execute_result"
    }
   ],
   "source": [
    "bmd_cube.groups"
   ]
  },
  {
   "cell_type": "code",
   "execution_count": 6,
   "id": "d7278c6b-de5c-4032-a7b6-c8c626c57731",
   "metadata": {},
   "outputs": [
    {
     "data": {
      "text/plain": [
       "{'static': ['chelsa_clim_ref_period',\n",
       "  'chelsa_clim_ref_month',\n",
       "  'chelsa_clim_sim_period',\n",
       "  'chelsa_clim_sim_month'],\n",
       " 'dynamic': ['chelsa_month']}"
      ]
     },
     "execution_count": 6,
     "metadata": {},
     "output_type": "execute_result"
    }
   ],
   "source": [
    "bmd_cube.group_names"
   ]
  },
  {
   "cell_type": "code",
   "execution_count": 7,
   "id": "907e9892-fc94-4e44-8b93-b800342f589b",
   "metadata": {},
   "outputs": [],
   "source": [
    "bmd_cube.export_datatree(\"bmd_test_dt\", \"test_dt_export\")\n",
    "bmd_cube.export_group(\"bmd_test_layers\", \"test_layers_export\")"
   ]
  },
  {
   "cell_type": "code",
   "execution_count": 8,
   "id": "03021175-cb4a-4f0e-8f0d-46940f7adf1d",
   "metadata": {},
   "outputs": [
    {
     "data": {
      "text/plain": [
       "{'static': [<xarray.Dataset> Size: 13kB\n",
       "  Dimensions:  (lat: 23, long: 69)\n",
       "  Coordinates:\n",
       "    * lat      (lat) float64 184B 50.87 50.87 50.86 50.85 ... 50.71 50.7 50.69\n",
       "    * long     (long) float64 552B 4.176 4.184 4.192 4.201 ... 4.726 4.734 4.742\n",
       "  Data variables:\n",
       "      bio1     (lat, long) uint16 3kB 2837 2837 2837 2836 ... 2832 2832 2832 2831\n",
       "      bio2     (lat, long) uint16 3kB 71 71 71 71 71 71 71 ... 71 71 71 71 71 71\n",
       "      bio3     (lat, long) float32 6kB 3.3 3.3 3.3 3.29 ... 3.27 3.27 3.27 3.26,\n",
       "  <xarray.Dataset> Size: 39kB\n",
       "  Dimensions:  (months: 2, lat: 23, long: 69)\n",
       "  Coordinates:\n",
       "    * months   (months) int64 16B 1 2\n",
       "    * lat      (lat) float64 184B 50.87 50.87 50.86 50.85 ... 50.71 50.7 50.69\n",
       "    * long     (long) float64 552B 4.176 4.184 4.192 4.201 ... 4.726 4.734 4.742\n",
       "  Data variables:\n",
       "      tas      (months, lat, long) float64 25kB 2.766e+03 2.766e+03 ... 2.763e+03\n",
       "      tasmin   (months, lat, long) uint16 6kB 2740 2740 2740 ... 2734 2733 2733\n",
       "      tasmax   (months, lat, long) uint16 6kB 2790 2790 2789 ... 2795 2794 2794,\n",
       "  <xarray.Dataset> Size: 103kB\n",
       "  Dimensions:          (year_range: 2, model_name: 2, ensemble_member: 2,\n",
       "                        lat: 23, long: 69)\n",
       "  Coordinates:\n",
       "    * year_range       (year_range) <U9 72B '2011-2040' '2041-2070'\n",
       "    * model_name       (model_name) <U13 104B 'gfdl-esm4' 'mpi-esm1-2-hr'\n",
       "    * ensemble_member  (ensemble_member) <U6 48B 'ssp370' 'ssp126'\n",
       "    * lat              (lat) float64 184B 50.87 50.87 50.86 ... 50.71 50.7 50.69\n",
       "    * long             (long) float64 552B 4.176 4.184 4.192 ... 4.726 4.734 4.742\n",
       "  Data variables:\n",
       "      bio1             (year_range, model_name, ensemble_member, lat, long) uint16 25kB ...\n",
       "      bio2             (year_range, model_name, ensemble_member, lat, long) uint16 25kB ...\n",
       "      bio3             (year_range, model_name, ensemble_member, lat, long) float32 51kB ...,\n",
       "  <xarray.Dataset> Size: 77kB\n",
       "  Dimensions:          (year_range: 2, month: 1, model_name: 2,\n",
       "                        ensemble_member: 2, lat: 23, long: 69)\n",
       "  Coordinates:\n",
       "    * year_range       (year_range) <U9 72B '2011-2040' '2041-2070'\n",
       "    * month            (month) int64 8B 1\n",
       "    * model_name       (model_name) <U12 96B 'ipsl-cm6a-lr' 'ukesm1-0-ll'\n",
       "    * ensemble_member  (ensemble_member) <U6 48B 'ssp126' 'ssp585'\n",
       "    * lat              (lat) float64 184B 50.87 50.87 50.86 ... 50.71 50.7 50.69\n",
       "    * long             (long) float64 552B 4.176 4.184 4.192 ... 4.726 4.734 4.742\n",
       "  Data variables:\n",
       "      tas              (year_range, month, model_name, ensemble_member, lat, long) uint16 25kB ...\n",
       "      tasmin           (year_range, month, model_name, ensemble_member, lat, long) uint16 25kB ...\n",
       "      tasmax           (year_range, month, model_name, ensemble_member, lat, long) uint16 25kB ...],\n",
       " 'dynamic': [<xarray.Dataset> Size: 115kB\n",
       "  Dimensions:  (time: 2, lat: 23, long: 69)\n",
       "  Coordinates:\n",
       "    * time     (time) datetime64[ns] 16B 1980-01-01 1980-02-01\n",
       "    * lat      (lat) float64 184B 50.87 50.87 50.86 50.85 ... 50.71 50.7 50.69\n",
       "    * long     (long) float64 552B 4.176 4.184 4.192 4.201 ... 4.726 4.734 4.742\n",
       "  Data variables:\n",
       "      clt      (time, lat, long) float64 25kB 5.152e+03 5.152e+03 ... 6.412e+03\n",
       "      cmi      (time, lat, long) int16 6kB 333 308 289 300 306 ... 249 241 228 224\n",
       "      hurs     (time, lat, long) uint16 6kB 6867 6870 6873 6879 ... 6713 6723 6733\n",
       "      pet      (time, lat, long) uint16 6kB 1532 1793 1985 1893 ... 3120 3287 3359\n",
       "      pr       (time, lat, long) int32 13kB 4864 4869 4876 4893 ... 5527 5562 5597\n",
       "      rsds     (time, lat, long) uint16 6kB 3080 3092 3110 3127 ... 4931 4907 4884\n",
       "      sfcWind  (time, lat, long) uint16 6kB 3666 4099 4332 4219 ... 4397 4661 4824\n",
       "      tas      (time, lat, long) int32 13kB 2740 2740 2740 2740 ... 2786 2786 2785\n",
       "      tasmax   (time, lat, long) int32 13kB 2764 2764 2764 2764 ... 2819 2819 2818\n",
       "      tasmin   (time, lat, long) int32 13kB 2720 2719 2719 2719 ... 2761 2760 2760\n",
       "      vpd      (time, lat, long) uint16 6kB 2036 2034 2032 2028 ... 2956 2947 2918]}"
      ]
     },
     "execution_count": 8,
     "metadata": {},
     "output_type": "execute_result"
    }
   ],
   "source": [
    "bmd_cube.groups"
   ]
  },
  {
   "cell_type": "code",
   "execution_count": 6,
   "id": "ae63de10-9263-4f9a-b0ff-743be893f126",
   "metadata": {},
   "outputs": [
    {
     "name": "stderr",
     "output_type": "stream",
     "text": [
      "Invalid switch - \"\".\n"
     ]
    }
   ],
   "source": [
    "ls test_dt_export/"
   ]
  },
  {
   "cell_type": "code",
   "execution_count": 9,
   "id": "902a1608-af1e-4386-96f3-1c82658612ca",
   "metadata": {},
   "outputs": [],
   "source": [
    "import xarray as xr\n",
    "from datatree import open_datatree\n",
    "\n",
    "test_tree = open_datatree(\"test_dt_export/bmd_test_dt.nc\")"
   ]
  },
  {
   "cell_type": "code",
   "execution_count": 10,
   "id": "8fbfabd0-161a-428e-be0d-478c56323735",
   "metadata": {},
   "outputs": [
    {
     "name": "stdout",
     "output_type": "stream",
     "text": [
      "DataTree('None', parent=None)\n",
      "├── DataTree('static')\n",
      "│   ├── DataTree('chelsa_clim_ref_period')\n",
      "│   │       Dimensions:  (lat: 23, long: 69)\n",
      "│   │       Coordinates:\n",
      "│   │         * lat      (lat) float64 184B 50.87 50.87 50.86 50.85 ... 50.71 50.7 50.69\n",
      "│   │         * long     (long) float64 552B 4.176 4.184 4.192 4.201 ... 4.726 4.734 4.742\n",
      "│   │       Data variables:\n",
      "│   │           bio1     (lat, long) uint16 3kB ...\n",
      "│   │           bio2     (lat, long) uint16 3kB ...\n",
      "│   │           bio3     (lat, long) float32 6kB ...\n",
      "│   ├── DataTree('chelsa_clim_ref_month')\n",
      "│   │       Dimensions:  (months: 2, lat: 23, long: 69)\n",
      "│   │       Coordinates:\n",
      "│   │         * months   (months) int64 16B 1 2\n",
      "│   │         * lat      (lat) float64 184B 50.87 50.87 50.86 50.85 ... 50.71 50.7 50.69\n",
      "│   │         * long     (long) float64 552B 4.176 4.184 4.192 4.201 ... 4.726 4.734 4.742\n",
      "│   │       Data variables:\n",
      "│   │           tas      (months, lat, long) float64 25kB ...\n",
      "│   │           tasmin   (months, lat, long) uint16 6kB ...\n",
      "│   │           tasmax   (months, lat, long) uint16 6kB ...\n",
      "│   ├── DataTree('chelsa_clim_sim_period')\n",
      "│   │       Dimensions:          (year_range: 2, model_name: 2, ensemble_member: 2,\n",
      "│   │                             lat: 23, long: 69)\n",
      "│   │       Coordinates:\n",
      "│   │         * year_range       (year_range) <U9 72B '2011-2040' '2041-2070'\n",
      "│   │         * model_name       (model_name) <U13 104B 'gfdl-esm4' 'mpi-esm1-2-hr'\n",
      "│   │         * ensemble_member  (ensemble_member) <U6 48B 'ssp370' 'ssp126'\n",
      "│   │         * lat              (lat) float64 184B 50.87 50.87 50.86 ... 50.71 50.7 50.69\n",
      "│   │         * long             (long) float64 552B 4.176 4.184 4.192 ... 4.726 4.734 4.742\n",
      "│   │       Data variables:\n",
      "│   │           bio1             (year_range, model_name, ensemble_member, lat, long) uint16 25kB ...\n",
      "│   │           bio2             (year_range, model_name, ensemble_member, lat, long) uint16 25kB ...\n",
      "│   │           bio3             (year_range, model_name, ensemble_member, lat, long) float32 51kB ...\n",
      "│   └── DataTree('chelsa_clim_sim_month')\n",
      "│           Dimensions:          (year_range: 2, month: 1, model_name: 2,\n",
      "│                                 ensemble_member: 2, lat: 23, long: 69)\n",
      "│           Coordinates:\n",
      "│             * year_range       (year_range) <U9 72B '2011-2040' '2041-2070'\n",
      "│             * month            (month) int64 8B 1\n",
      "│             * model_name       (model_name) <U12 96B 'ipsl-cm6a-lr' 'ukesm1-0-ll'\n",
      "│             * ensemble_member  (ensemble_member) <U6 48B 'ssp126' 'ssp585'\n",
      "│             * lat              (lat) float64 184B 50.87 50.87 50.86 ... 50.71 50.7 50.69\n",
      "│             * long             (long) float64 552B 4.176 4.184 4.192 ... 4.726 4.734 4.742\n",
      "│           Data variables:\n",
      "│               tas              (year_range, month, model_name, ensemble_member, lat, long) uint16 25kB ...\n",
      "│               tasmin           (year_range, month, model_name, ensemble_member, lat, long) uint16 25kB ...\n",
      "│               tasmax           (year_range, month, model_name, ensemble_member, lat, long) uint16 25kB ...\n",
      "└── DataTree('dynamic')\n",
      "    └── DataTree('chelsa_month')\n",
      "            Dimensions:  (time: 2, lat: 23, long: 69)\n",
      "            Coordinates:\n",
      "              * time     (time) datetime64[ns] 16B 1980-01-01 1980-02-01\n",
      "              * lat      (lat) float64 184B 50.87 50.87 50.86 50.85 ... 50.71 50.7 50.69\n",
      "              * long     (long) float64 552B 4.176 4.184 4.192 4.201 ... 4.726 4.734 4.742\n",
      "            Data variables:\n",
      "                clt      (time, lat, long) float64 25kB ...\n",
      "                cmi      (time, lat, long) int16 6kB ...\n",
      "                hurs     (time, lat, long) uint16 6kB ...\n",
      "                pet      (time, lat, long) uint16 6kB ...\n",
      "                pr       (time, lat, long) int32 13kB ...\n",
      "                rsds     (time, lat, long) uint16 6kB ...\n",
      "                sfcWind  (time, lat, long) uint16 6kB ...\n",
      "                tas      (time, lat, long) int32 13kB ...\n",
      "                tasmax   (time, lat, long) int32 13kB ...\n",
      "                tasmin   (time, lat, long) int32 13kB ...\n",
      "                vpd      (time, lat, long) uint16 6kB ...\n"
     ]
    }
   ],
   "source": [
    "print(test_tree)"
   ]
  },
  {
   "cell_type": "code",
   "execution_count": null,
   "id": "5145f01e-4099-4283-981d-db364fc6c197",
   "metadata": {},
   "outputs": [],
   "source": []
  }
 ],
 "metadata": {
  "kernelspec": {
   "display_name": "Python 3 (ipykernel)",
   "language": "python",
   "name": "python3"
  },
  "language_info": {
   "codemirror_mode": {
    "name": "ipython",
    "version": 3
   },
   "file_extension": ".py",
   "mimetype": "text/x-python",
   "name": "python",
   "nbconvert_exporter": "python",
   "pygments_lexer": "ipython3",
   "version": "3.12.9"
  }
 },
 "nbformat": 4,
 "nbformat_minor": 5
}
