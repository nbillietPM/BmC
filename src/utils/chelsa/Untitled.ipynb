{
 "cells": [
  {
   "cell_type": "code",
   "execution_count": 1,
   "id": "c2778c86-a2d4-4851-a2fe-9cd9181b8930",
   "metadata": {},
   "outputs": [],
   "source": [
    "import yaml\n",
    "import os"
   ]
  },
  {
   "cell_type": "code",
   "execution_count": 31,
   "id": "cf25314d-bf6f-4672-ad17-4a56e0361d01",
   "metadata": {},
   "outputs": [],
   "source": [
    "config_path=\"../../../config\"\n",
    "param_file=\"param.yaml\"\n",
    "param_path = os.path.join(config_path, param_file)"
   ]
  },
  {
   "cell_type": "code",
   "execution_count": 32,
   "id": "e865e9be-55ed-4083-b15d-feb45a2cfa8b",
   "metadata": {},
   "outputs": [],
   "source": [
    "with open(param_path) as f:\n",
    "    param_dict = yaml.safe_load(f)"
   ]
  },
  {
   "cell_type": "code",
   "execution_count": 33,
   "id": "6cc3cb4e-4b1b-4d58-ba4d-e1fcaebf401b",
   "metadata": {},
   "outputs": [
    {
     "data": {
      "text/plain": [
       "{'spatial': {'method': 'bbox',\n",
       "  'bbox': {'long_min': 0, 'long_max': 0, 'lat_min': 0, 'lat_max': 0},\n",
       "  'polygon': {'shapefile_path': '/shapefile/filename.shp'}},\n",
       " 'layers': {'chelsa_month': {'enabled': True,\n",
       "   'time': {'start_year': 1979,\n",
       "    'start_month': 1,\n",
       "    'end_year': 2020,\n",
       "    'end_month': 12,\n",
       "    'year_range': [1979, 2020]},\n",
       "   'variables': {'include_all': True, 'included': [], 'excluded': []},\n",
       "   'source': {'base_url': 'https://os.zhdk.cloud.switch.ch/chelsav2/GLOBAL/monthly',\n",
       "    'version': 'V.2.1'}},\n",
       "  'chelsa_clim_ref_period': {'enabled': True,\n",
       "   'time': {'year_range': '1981-2010'},\n",
       "   'variables': {'include_all': True, 'included': [], 'excluded': []},\n",
       "   'source': {'base_url': 'https://os.zhdk.cloud.switch.ch/chelsav2/GLOBAL/climatologies/1981-2010',\n",
       "    'version': 'V.2.1'}},\n",
       "  'chelsa_clim_ref_month': {'enabled': True,\n",
       "   'time': {'include_all': True, 'months': [], 'year_range': '1981-2010'},\n",
       "   'variables': {'include_all': True, 'included': [], 'excluded': []},\n",
       "   'source': {'base_url': 'https://os.zhdk.cloud.switch.ch/chelsav2/GLOBAL/climatologies/1981-2010',\n",
       "    'version': 'V.2.1'}},\n",
       "  'chelsa_clim_sim_period': {'enabled': True,\n",
       "   'time': {'include_all': True, 'included': [], 'excluded': []},\n",
       "   'variables': {'include_all': True, 'included': [], 'excluded': []},\n",
       "   'model': {'include_all': True, 'included': [], 'excluded': []},\n",
       "   'ensemble_member': {'include_all': True, 'included': [], 'excluded': []},\n",
       "   'source': {'base_url': 'https://os.zhdk.cloud.switch.ch/chelsav2/GLOBAL/climatologies',\n",
       "    'version': 'V.2.1'}},\n",
       "  'chelsa_clim_sim_month': {'enabled': True,\n",
       "   'time': {'year_ranges': {'include_all': True,\n",
       "     'included': [],\n",
       "     'excluded': []},\n",
       "    'months': {'include_all': True, 'included': [], 'excluded': []}},\n",
       "   'variables': {'include_all': True, 'included': [], 'excluded': []},\n",
       "   'model': {'include_all': True, 'included': [], 'excluded': []},\n",
       "   'ensemble_member': {'include_all': True, 'included': [], 'excluded': []},\n",
       "   'source': {'base_url': 'https://os.zhdk.cloud.switch.ch/chelsav2/GLOBAL/climatologies',\n",
       "    'version': 'V.2.1'}}}}"
      ]
     },
     "execution_count": 33,
     "metadata": {},
     "output_type": "execute_result"
    }
   ],
   "source": [
    "param_dict"
   ]
  },
  {
   "cell_type": "code",
   "execution_count": 9,
   "id": "ba4a923d-1be9-4849-affe-b39bd4093a41",
   "metadata": {},
   "outputs": [
    {
     "ename": "ValueError",
     "evalue": "I/O operation on closed file.",
     "output_type": "error",
     "traceback": [
      "\u001b[1;31m---------------------------------------------------------------------------\u001b[0m",
      "\u001b[1;31mValueError\u001b[0m                                Traceback (most recent call last)",
      "Cell \u001b[1;32mIn[9], line 1\u001b[0m\n\u001b[1;32m----> 1\u001b[0m chelsa_month_dict \u001b[38;5;241m=\u001b[39m yaml\u001b[38;5;241m.\u001b[39msafe_load(f)[\u001b[38;5;124m\"\u001b[39m\u001b[38;5;124mlayers\u001b[39m\u001b[38;5;124m\"\u001b[39m][\u001b[38;5;124m\"\u001b[39m\u001b[38;5;124mchelsa_month\u001b[39m\u001b[38;5;124m\"\u001b[39m]\n",
      "File \u001b[1;32m~\\Anaconda3\\Lib\\site-packages\\yaml\\__init__.py:125\u001b[0m, in \u001b[0;36msafe_load\u001b[1;34m(stream)\u001b[0m\n\u001b[0;32m    117\u001b[0m \u001b[38;5;28;01mdef\u001b[39;00m \u001b[38;5;21msafe_load\u001b[39m(stream):\n\u001b[0;32m    118\u001b[0m \u001b[38;5;250m    \u001b[39m\u001b[38;5;124;03m\"\"\"\u001b[39;00m\n\u001b[0;32m    119\u001b[0m \u001b[38;5;124;03m    Parse the first YAML document in a stream\u001b[39;00m\n\u001b[0;32m    120\u001b[0m \u001b[38;5;124;03m    and produce the corresponding Python object.\u001b[39;00m\n\u001b[1;32m   (...)\u001b[0m\n\u001b[0;32m    123\u001b[0m \u001b[38;5;124;03m    to be safe for untrusted input.\u001b[39;00m\n\u001b[0;32m    124\u001b[0m \u001b[38;5;124;03m    \"\"\"\u001b[39;00m\n\u001b[1;32m--> 125\u001b[0m     \u001b[38;5;28;01mreturn\u001b[39;00m load(stream, SafeLoader)\n",
      "File \u001b[1;32m~\\Anaconda3\\Lib\\site-packages\\yaml\\__init__.py:79\u001b[0m, in \u001b[0;36mload\u001b[1;34m(stream, Loader)\u001b[0m\n\u001b[0;32m     74\u001b[0m \u001b[38;5;28;01mdef\u001b[39;00m \u001b[38;5;21mload\u001b[39m(stream, Loader):\n\u001b[0;32m     75\u001b[0m \u001b[38;5;250m    \u001b[39m\u001b[38;5;124;03m\"\"\"\u001b[39;00m\n\u001b[0;32m     76\u001b[0m \u001b[38;5;124;03m    Parse the first YAML document in a stream\u001b[39;00m\n\u001b[0;32m     77\u001b[0m \u001b[38;5;124;03m    and produce the corresponding Python object.\u001b[39;00m\n\u001b[0;32m     78\u001b[0m \u001b[38;5;124;03m    \"\"\"\u001b[39;00m\n\u001b[1;32m---> 79\u001b[0m     loader \u001b[38;5;241m=\u001b[39m Loader(stream)\n\u001b[0;32m     80\u001b[0m     \u001b[38;5;28;01mtry\u001b[39;00m:\n\u001b[0;32m     81\u001b[0m         \u001b[38;5;28;01mreturn\u001b[39;00m loader\u001b[38;5;241m.\u001b[39mget_single_data()\n",
      "File \u001b[1;32m~\\Anaconda3\\Lib\\site-packages\\yaml\\loader.py:34\u001b[0m, in \u001b[0;36mSafeLoader.__init__\u001b[1;34m(self, stream)\u001b[0m\n\u001b[0;32m     33\u001b[0m \u001b[38;5;28;01mdef\u001b[39;00m \u001b[38;5;21m__init__\u001b[39m(\u001b[38;5;28mself\u001b[39m, stream):\n\u001b[1;32m---> 34\u001b[0m     Reader\u001b[38;5;241m.\u001b[39m\u001b[38;5;21m__init__\u001b[39m(\u001b[38;5;28mself\u001b[39m, stream)\n\u001b[0;32m     35\u001b[0m     Scanner\u001b[38;5;241m.\u001b[39m\u001b[38;5;21m__init__\u001b[39m(\u001b[38;5;28mself\u001b[39m)\n\u001b[0;32m     36\u001b[0m     Parser\u001b[38;5;241m.\u001b[39m\u001b[38;5;21m__init__\u001b[39m(\u001b[38;5;28mself\u001b[39m)\n",
      "File \u001b[1;32m~\\Anaconda3\\Lib\\site-packages\\yaml\\reader.py:85\u001b[0m, in \u001b[0;36mReader.__init__\u001b[1;34m(self, stream)\u001b[0m\n\u001b[0;32m     83\u001b[0m \u001b[38;5;28mself\u001b[39m\u001b[38;5;241m.\u001b[39meof \u001b[38;5;241m=\u001b[39m \u001b[38;5;28;01mFalse\u001b[39;00m\n\u001b[0;32m     84\u001b[0m \u001b[38;5;28mself\u001b[39m\u001b[38;5;241m.\u001b[39mraw_buffer \u001b[38;5;241m=\u001b[39m \u001b[38;5;28;01mNone\u001b[39;00m\n\u001b[1;32m---> 85\u001b[0m \u001b[38;5;28mself\u001b[39m\u001b[38;5;241m.\u001b[39mdetermine_encoding()\n",
      "File \u001b[1;32m~\\Anaconda3\\Lib\\site-packages\\yaml\\reader.py:124\u001b[0m, in \u001b[0;36mReader.determine_encoding\u001b[1;34m(self)\u001b[0m\n\u001b[0;32m    122\u001b[0m \u001b[38;5;28;01mdef\u001b[39;00m \u001b[38;5;21mdetermine_encoding\u001b[39m(\u001b[38;5;28mself\u001b[39m):\n\u001b[0;32m    123\u001b[0m     \u001b[38;5;28;01mwhile\u001b[39;00m \u001b[38;5;129;01mnot\u001b[39;00m \u001b[38;5;28mself\u001b[39m\u001b[38;5;241m.\u001b[39meof \u001b[38;5;129;01mand\u001b[39;00m (\u001b[38;5;28mself\u001b[39m\u001b[38;5;241m.\u001b[39mraw_buffer \u001b[38;5;129;01mis\u001b[39;00m \u001b[38;5;28;01mNone\u001b[39;00m \u001b[38;5;129;01mor\u001b[39;00m \u001b[38;5;28mlen\u001b[39m(\u001b[38;5;28mself\u001b[39m\u001b[38;5;241m.\u001b[39mraw_buffer) \u001b[38;5;241m<\u001b[39m \u001b[38;5;241m2\u001b[39m):\n\u001b[1;32m--> 124\u001b[0m         \u001b[38;5;28mself\u001b[39m\u001b[38;5;241m.\u001b[39mupdate_raw()\n\u001b[0;32m    125\u001b[0m     \u001b[38;5;28;01mif\u001b[39;00m \u001b[38;5;28misinstance\u001b[39m(\u001b[38;5;28mself\u001b[39m\u001b[38;5;241m.\u001b[39mraw_buffer, \u001b[38;5;28mbytes\u001b[39m):\n\u001b[0;32m    126\u001b[0m         \u001b[38;5;28;01mif\u001b[39;00m \u001b[38;5;28mself\u001b[39m\u001b[38;5;241m.\u001b[39mraw_buffer\u001b[38;5;241m.\u001b[39mstartswith(codecs\u001b[38;5;241m.\u001b[39mBOM_UTF16_LE):\n",
      "File \u001b[1;32m~\\Anaconda3\\Lib\\site-packages\\yaml\\reader.py:178\u001b[0m, in \u001b[0;36mReader.update_raw\u001b[1;34m(self, size)\u001b[0m\n\u001b[0;32m    177\u001b[0m \u001b[38;5;28;01mdef\u001b[39;00m \u001b[38;5;21mupdate_raw\u001b[39m(\u001b[38;5;28mself\u001b[39m, size\u001b[38;5;241m=\u001b[39m\u001b[38;5;241m4096\u001b[39m):\n\u001b[1;32m--> 178\u001b[0m     data \u001b[38;5;241m=\u001b[39m \u001b[38;5;28mself\u001b[39m\u001b[38;5;241m.\u001b[39mstream\u001b[38;5;241m.\u001b[39mread(size)\n\u001b[0;32m    179\u001b[0m     \u001b[38;5;28;01mif\u001b[39;00m \u001b[38;5;28mself\u001b[39m\u001b[38;5;241m.\u001b[39mraw_buffer \u001b[38;5;129;01mis\u001b[39;00m \u001b[38;5;28;01mNone\u001b[39;00m:\n\u001b[0;32m    180\u001b[0m         \u001b[38;5;28mself\u001b[39m\u001b[38;5;241m.\u001b[39mraw_buffer \u001b[38;5;241m=\u001b[39m data\n",
      "\u001b[1;31mValueError\u001b[0m: I/O operation on closed file."
     ]
    }
   ],
   "source": [
    "chelsa_month_dict = yaml.safe_load(f)[\"layers\"][\"chelsa_month\"]"
   ]
  },
  {
   "cell_type": "code",
   "execution_count": 34,
   "id": "6bf5917d-7492-4793-8fe5-59d6cd7737ea",
   "metadata": {},
   "outputs": [],
   "source": [
    "def read_chelsa_month_param(param_file, param_path=\"../../../config\"):\n",
    "    var = [\"clt\", \"cmi\", \"hurs\", \"pet\", \"pr\", \"rsds\", \"sfcWind\", \"tas\", \"tasmax\", \"tasmin\", \"vpd\"]\n",
    "    #Construct the relative path to the parameter yaml file\n",
    "    param_filepath = os.path.join(param_path, param_file)\n",
    "    with open(param_filepath) as f:\n",
    "        param_dict = yaml.safe_load(f)\n",
    "    if param_dict[\"spatial\"][\"method\"]==\"bbox\":\n",
    "        #Read in the bbox coordinates from the parameter dictionary\n",
    "        bbox = (param_dict[\"spatial\"][\"bbox\"][\"long_min\"],\n",
    "                param_dict[\"spatial\"][\"bbox\"][\"lat_min\"],\n",
    "                param_dict[\"spatial\"][\"bbox\"][\"long_max\"],\n",
    "                param_dict[\"spatial\"][\"bbox\"][\"lat_max\"])\n",
    "    elif param_dict[\"layers\"][\"chelsa_month\"][\"variables\"][\"included\"]:\n",
    "        #included list becomes variable list\n",
    "        var = param_dict[\"layers\"][\"chelsa_month\"][\"variables\"][\"included\"]\n",
    "    elif param_dict[\"layers\"][\"chelsa_month\"][\"variables\"][\"excluded\"]:\n",
    "        #filter out excluded variables by subtracting the set from all possible variables\n",
    "        var = list(set(var)-set(param_dict[\"layers\"][\"chelsa_month\"][\"variables\"][\"excluded\"]))\n",
    "    chelsa_month_params = {\"var\":var, \n",
    "                           \"bbox\":bbox, \n",
    "                           \"start_month\":param_dict[\"layers\"][\"chelsa_month\"][\"time\"][\"start_month\"],\n",
    "                           \"end_month\":param_dict[\"layers\"][\"chelsa_month\"][\"time\"][\"end_month\"],\n",
    "                           \"start_year\":param_dict[\"layers\"][\"chelsa_month\"][\"time\"][\"start_year\"],\n",
    "                           \"end_year\":param_dict[\"layers\"][\"chelsa_month\"][\"time\"][\"end_year\"],\n",
    "                           \"base_url\":param_dict[\"layers\"][\"chelsa_month\"][\"source\"][\"base_url\"],\n",
    "                           \"version\":param_dict[\"layers\"][\"chelsa_month\"][\"source\"][\"version\"]}\n",
    "    return chelsa_month_params"
   ]
  },
  {
   "cell_type": "code",
   "execution_count": 35,
   "id": "a35b0678-a2e4-4f38-99f1-39216ff9aa8e",
   "metadata": {},
   "outputs": [
    {
     "data": {
      "text/plain": [
       "{'var': ['clt',\n",
       "  'cmi',\n",
       "  'hurs',\n",
       "  'pet',\n",
       "  'pr',\n",
       "  'rsds',\n",
       "  'sfcWind',\n",
       "  'tas',\n",
       "  'tasmax',\n",
       "  'tasmin',\n",
       "  'vpd'],\n",
       " 'bbox': (0, 0, 0, 0),\n",
       " 'start_month': 1,\n",
       " 'end_month': 12,\n",
       " 'start_year': 1979,\n",
       " 'end_year': 2020,\n",
       " 'base_url': 'https://os.zhdk.cloud.switch.ch/chelsav2/GLOBAL/monthly',\n",
       " 'version': 'V.2.1'}"
      ]
     },
     "execution_count": 35,
     "metadata": {},
     "output_type": "execute_result"
    }
   ],
   "source": [
    "read_chelsa_month_param(\"param.yaml\")"
   ]
  },
  {
   "cell_type": "code",
   "execution_count": 22,
   "id": "181eda98-85dc-4018-939f-95029903013c",
   "metadata": {},
   "outputs": [
    {
     "data": {
      "text/plain": [
       "[0]"
      ]
     },
     "execution_count": 22,
     "metadata": {},
     "output_type": "execute_result"
    }
   ],
   "source": [
    "test"
   ]
  },
  {
   "cell_type": "code",
   "execution_count": 24,
   "id": "ba99ad88-d219-470d-ae17-d735fb4aec03",
   "metadata": {},
   "outputs": [
    {
     "name": "stdout",
     "output_type": "stream",
     "text": [
      "empty list\n"
     ]
    }
   ],
   "source": [
    "if test:\n",
    "    print('non empty list')\n",
    "elif not test:\n",
    "    print('empty list')"
   ]
  },
  {
   "cell_type": "code",
   "execution_count": null,
   "id": "ac280673-5059-4439-80d5-ccab185bbec9",
   "metadata": {},
   "outputs": [],
   "source": []
  }
 ],
 "metadata": {
  "kernelspec": {
   "display_name": "Python 3 (ipykernel)",
   "language": "python",
   "name": "python3"
  },
  "language_info": {
   "codemirror_mode": {
    "name": "ipython",
    "version": 3
   },
   "file_extension": ".py",
   "mimetype": "text/x-python",
   "name": "python",
   "nbconvert_exporter": "python",
   "pygments_lexer": "ipython3",
   "version": "3.12.7"
  }
 },
 "nbformat": 4,
 "nbformat_minor": 5
}
