{
 "cells": [
  {
   "cell_type": "code",
   "execution_count": 1,
   "id": "c2778c86-a2d4-4851-a2fe-9cd9181b8930",
   "metadata": {},
   "outputs": [],
   "source": [
    "import yaml\n",
    "import os"
   ]
  },
  {
   "cell_type": "code",
   "execution_count": 31,
   "id": "cf25314d-bf6f-4672-ad17-4a56e0361d01",
   "metadata": {},
   "outputs": [],
   "source": [
    "config_path=\"../../../config\"\n",
    "param_file=\"param.yaml\"\n",
    "param_path = os.path.join(config_path, param_file)"
   ]
  },
  {
   "cell_type": "code",
   "execution_count": 32,
   "id": "e865e9be-55ed-4083-b15d-feb45a2cfa8b",
   "metadata": {},
   "outputs": [],
   "source": [
    "with open(param_path) as f:\n",
    "    param_dict = yaml.safe_load(f)"
   ]
  },
  {
   "cell_type": "code",
   "execution_count": 33,
   "id": "6cc3cb4e-4b1b-4d58-ba4d-e1fcaebf401b",
   "metadata": {},
   "outputs": [
    {
     "data": {
      "text/plain": [
       "{'spatial': {'method': 'bbox',\n",
       "  'bbox': {'long_min': 0, 'long_max': 0, 'lat_min': 0, 'lat_max': 0},\n",
       "  'polygon': {'shapefile_path': '/shapefile/filename.shp'}},\n",
       " 'layers': {'chelsa_month': {'enabled': True,\n",
       "   'time': {'start_year': 1979,\n",
       "    'start_month': 1,\n",
       "    'end_year': 2020,\n",
       "    'end_month': 12,\n",
       "    'year_range': [1979, 2020]},\n",
       "   'variables': {'include_all': True, 'included': [], 'excluded': []},\n",
       "   'source': {'base_url': 'https://os.zhdk.cloud.switch.ch/chelsav2/GLOBAL/monthly',\n",
       "    'version': 'V.2.1'}},\n",
       "  'chelsa_clim_ref_period': {'enabled': True,\n",
       "   'time': {'year_range': '1981-2010'},\n",
       "   'variables': {'include_all': True, 'included': [], 'excluded': []},\n",
       "   'source': {'base_url': 'https://os.zhdk.cloud.switch.ch/chelsav2/GLOBAL/climatologies/1981-2010',\n",
       "    'version': 'V.2.1'}},\n",
       "  'chelsa_clim_ref_month': {'enabled': True,\n",
       "   'time': {'include_all': True, 'months': [], 'year_range': '1981-2010'},\n",
       "   'variables': {'include_all': True, 'included': [], 'excluded': []},\n",
       "   'source': {'base_url': 'https://os.zhdk.cloud.switch.ch/chelsav2/GLOBAL/climatologies/1981-2010',\n",
       "    'version': 'V.2.1'}},\n",
       "  'chelsa_clim_sim_period': {'enabled': True,\n",
       "   'time': {'include_all': True, 'included': [], 'excluded': []},\n",
       "   'variables': {'include_all': True, 'included': [], 'excluded': []},\n",
       "   'model': {'include_all': True, 'included': [], 'excluded': []},\n",
       "   'ensemble_member': {'include_all': True, 'included': [], 'excluded': []},\n",
       "   'source': {'base_url': 'https://os.zhdk.cloud.switch.ch/chelsav2/GLOBAL/climatologies',\n",
       "    'version': 'V.2.1'}},\n",
       "  'chelsa_clim_sim_month': {'enabled': True,\n",
       "   'time': {'year_ranges': {'include_all': True,\n",
       "     'included': [],\n",
       "     'excluded': []},\n",
       "    'months': {'include_all': True, 'included': [], 'excluded': []}},\n",
       "   'variables': {'include_all': True, 'included': [], 'excluded': []},\n",
       "   'model': {'include_all': True, 'included': [], 'excluded': []},\n",
       "   'ensemble_member': {'include_all': True, 'included': [], 'excluded': []},\n",
       "   'source': {'base_url': 'https://os.zhdk.cloud.switch.ch/chelsav2/GLOBAL/climatologies',\n",
       "    'version': 'V.2.1'}}}}"
      ]
     },
     "execution_count": 33,
     "metadata": {},
     "output_type": "execute_result"
    }
   ],
   "source": [
    "param_dict"
   ]
  },
  {
   "cell_type": "code",
   "execution_count": 9,
   "id": "ba4a923d-1be9-4849-affe-b39bd4093a41",
   "metadata": {},
   "outputs": [
    {
     "ename": "ValueError",
     "evalue": "I/O operation on closed file.",
     "output_type": "error",
     "traceback": [
      "\u001b[1;31m---------------------------------------------------------------------------\u001b[0m",
      "\u001b[1;31mValueError\u001b[0m                                Traceback (most recent call last)",
      "Cell \u001b[1;32mIn[9], line 1\u001b[0m\n\u001b[1;32m----> 1\u001b[0m chelsa_month_dict \u001b[38;5;241m=\u001b[39m yaml\u001b[38;5;241m.\u001b[39msafe_load(f)[\u001b[38;5;124m\"\u001b[39m\u001b[38;5;124mlayers\u001b[39m\u001b[38;5;124m\"\u001b[39m][\u001b[38;5;124m\"\u001b[39m\u001b[38;5;124mchelsa_month\u001b[39m\u001b[38;5;124m\"\u001b[39m]\n",
      "File \u001b[1;32m~\\Anaconda3\\Lib\\site-packages\\yaml\\__init__.py:125\u001b[0m, in \u001b[0;36msafe_load\u001b[1;34m(stream)\u001b[0m\n\u001b[0;32m    117\u001b[0m \u001b[38;5;28;01mdef\u001b[39;00m \u001b[38;5;21msafe_load\u001b[39m(stream):\n\u001b[0;32m    118\u001b[0m \u001b[38;5;250m    \u001b[39m\u001b[38;5;124;03m\"\"\"\u001b[39;00m\n\u001b[0;32m    119\u001b[0m \u001b[38;5;124;03m    Parse the first YAML document in a stream\u001b[39;00m\n\u001b[0;32m    120\u001b[0m \u001b[38;5;124;03m    and produce the corresponding Python object.\u001b[39;00m\n\u001b[1;32m   (...)\u001b[0m\n\u001b[0;32m    123\u001b[0m \u001b[38;5;124;03m    to be safe for untrusted input.\u001b[39;00m\n\u001b[0;32m    124\u001b[0m \u001b[38;5;124;03m    \"\"\"\u001b[39;00m\n\u001b[1;32m--> 125\u001b[0m     \u001b[38;5;28;01mreturn\u001b[39;00m load(stream, SafeLoader)\n",
      "File \u001b[1;32m~\\Anaconda3\\Lib\\site-packages\\yaml\\__init__.py:79\u001b[0m, in \u001b[0;36mload\u001b[1;34m(stream, Loader)\u001b[0m\n\u001b[0;32m     74\u001b[0m \u001b[38;5;28;01mdef\u001b[39;00m \u001b[38;5;21mload\u001b[39m(stream, Loader):\n\u001b[0;32m     75\u001b[0m \u001b[38;5;250m    \u001b[39m\u001b[38;5;124;03m\"\"\"\u001b[39;00m\n\u001b[0;32m     76\u001b[0m \u001b[38;5;124;03m    Parse the first YAML document in a stream\u001b[39;00m\n\u001b[0;32m     77\u001b[0m \u001b[38;5;124;03m    and produce the corresponding Python object.\u001b[39;00m\n\u001b[0;32m     78\u001b[0m \u001b[38;5;124;03m    \"\"\"\u001b[39;00m\n\u001b[1;32m---> 79\u001b[0m     loader \u001b[38;5;241m=\u001b[39m Loader(stream)\n\u001b[0;32m     80\u001b[0m     \u001b[38;5;28;01mtry\u001b[39;00m:\n\u001b[0;32m     81\u001b[0m         \u001b[38;5;28;01mreturn\u001b[39;00m loader\u001b[38;5;241m.\u001b[39mget_single_data()\n",
      "File \u001b[1;32m~\\Anaconda3\\Lib\\site-packages\\yaml\\loader.py:34\u001b[0m, in \u001b[0;36mSafeLoader.__init__\u001b[1;34m(self, stream)\u001b[0m\n\u001b[0;32m     33\u001b[0m \u001b[38;5;28;01mdef\u001b[39;00m \u001b[38;5;21m__init__\u001b[39m(\u001b[38;5;28mself\u001b[39m, stream):\n\u001b[1;32m---> 34\u001b[0m     Reader\u001b[38;5;241m.\u001b[39m\u001b[38;5;21m__init__\u001b[39m(\u001b[38;5;28mself\u001b[39m, stream)\n\u001b[0;32m     35\u001b[0m     Scanner\u001b[38;5;241m.\u001b[39m\u001b[38;5;21m__init__\u001b[39m(\u001b[38;5;28mself\u001b[39m)\n\u001b[0;32m     36\u001b[0m     Parser\u001b[38;5;241m.\u001b[39m\u001b[38;5;21m__init__\u001b[39m(\u001b[38;5;28mself\u001b[39m)\n",
      "File \u001b[1;32m~\\Anaconda3\\Lib\\site-packages\\yaml\\reader.py:85\u001b[0m, in \u001b[0;36mReader.__init__\u001b[1;34m(self, stream)\u001b[0m\n\u001b[0;32m     83\u001b[0m \u001b[38;5;28mself\u001b[39m\u001b[38;5;241m.\u001b[39meof \u001b[38;5;241m=\u001b[39m \u001b[38;5;28;01mFalse\u001b[39;00m\n\u001b[0;32m     84\u001b[0m \u001b[38;5;28mself\u001b[39m\u001b[38;5;241m.\u001b[39mraw_buffer \u001b[38;5;241m=\u001b[39m \u001b[38;5;28;01mNone\u001b[39;00m\n\u001b[1;32m---> 85\u001b[0m \u001b[38;5;28mself\u001b[39m\u001b[38;5;241m.\u001b[39mdetermine_encoding()\n",
      "File \u001b[1;32m~\\Anaconda3\\Lib\\site-packages\\yaml\\reader.py:124\u001b[0m, in \u001b[0;36mReader.determine_encoding\u001b[1;34m(self)\u001b[0m\n\u001b[0;32m    122\u001b[0m \u001b[38;5;28;01mdef\u001b[39;00m \u001b[38;5;21mdetermine_encoding\u001b[39m(\u001b[38;5;28mself\u001b[39m):\n\u001b[0;32m    123\u001b[0m     \u001b[38;5;28;01mwhile\u001b[39;00m \u001b[38;5;129;01mnot\u001b[39;00m \u001b[38;5;28mself\u001b[39m\u001b[38;5;241m.\u001b[39meof \u001b[38;5;129;01mand\u001b[39;00m (\u001b[38;5;28mself\u001b[39m\u001b[38;5;241m.\u001b[39mraw_buffer \u001b[38;5;129;01mis\u001b[39;00m \u001b[38;5;28;01mNone\u001b[39;00m \u001b[38;5;129;01mor\u001b[39;00m \u001b[38;5;28mlen\u001b[39m(\u001b[38;5;28mself\u001b[39m\u001b[38;5;241m.\u001b[39mraw_buffer) \u001b[38;5;241m<\u001b[39m \u001b[38;5;241m2\u001b[39m):\n\u001b[1;32m--> 124\u001b[0m         \u001b[38;5;28mself\u001b[39m\u001b[38;5;241m.\u001b[39mupdate_raw()\n\u001b[0;32m    125\u001b[0m     \u001b[38;5;28;01mif\u001b[39;00m \u001b[38;5;28misinstance\u001b[39m(\u001b[38;5;28mself\u001b[39m\u001b[38;5;241m.\u001b[39mraw_buffer, \u001b[38;5;28mbytes\u001b[39m):\n\u001b[0;32m    126\u001b[0m         \u001b[38;5;28;01mif\u001b[39;00m \u001b[38;5;28mself\u001b[39m\u001b[38;5;241m.\u001b[39mraw_buffer\u001b[38;5;241m.\u001b[39mstartswith(codecs\u001b[38;5;241m.\u001b[39mBOM_UTF16_LE):\n",
      "File \u001b[1;32m~\\Anaconda3\\Lib\\site-packages\\yaml\\reader.py:178\u001b[0m, in \u001b[0;36mReader.update_raw\u001b[1;34m(self, size)\u001b[0m\n\u001b[0;32m    177\u001b[0m \u001b[38;5;28;01mdef\u001b[39;00m \u001b[38;5;21mupdate_raw\u001b[39m(\u001b[38;5;28mself\u001b[39m, size\u001b[38;5;241m=\u001b[39m\u001b[38;5;241m4096\u001b[39m):\n\u001b[1;32m--> 178\u001b[0m     data \u001b[38;5;241m=\u001b[39m \u001b[38;5;28mself\u001b[39m\u001b[38;5;241m.\u001b[39mstream\u001b[38;5;241m.\u001b[39mread(size)\n\u001b[0;32m    179\u001b[0m     \u001b[38;5;28;01mif\u001b[39;00m \u001b[38;5;28mself\u001b[39m\u001b[38;5;241m.\u001b[39mraw_buffer \u001b[38;5;129;01mis\u001b[39;00m \u001b[38;5;28;01mNone\u001b[39;00m:\n\u001b[0;32m    180\u001b[0m         \u001b[38;5;28mself\u001b[39m\u001b[38;5;241m.\u001b[39mraw_buffer \u001b[38;5;241m=\u001b[39m data\n",
      "\u001b[1;31mValueError\u001b[0m: I/O operation on closed file."
     ]
    }
   ],
   "source": [
    "chelsa_month_dict = yaml.safe_load(f)[\"layers\"][\"chelsa_month\"]"
   ]
  },
  {
   "cell_type": "code",
   "execution_count": 34,
   "id": "6bf5917d-7492-4793-8fe5-59d6cd7737ea",
   "metadata": {},
   "outputs": [],
   "source": [
    "def read_chelsa_month_param(param_file, param_path=\"../../../config\"):\n",
    "    var = [\"clt\", \"cmi\", \"hurs\", \"pet\", \"pr\", \"rsds\", \"sfcWind\", \"tas\", \"tasmax\", \"tasmin\", \"vpd\"]\n",
    "    #Construct the relative path to the parameter yaml file\n",
    "    param_filepath = os.path.join(param_path, param_file)\n",
    "    with open(param_filepath) as f:\n",
    "        param_dict = yaml.safe_load(f)\n",
    "    if param_dict[\"spatial\"][\"method\"]==\"bbox\":\n",
    "        #Read in the bbox coordinates from the parameter dictionary\n",
    "        bbox = (param_dict[\"spatial\"][\"bbox\"][\"long_min\"],\n",
    "                param_dict[\"spatial\"][\"bbox\"][\"lat_min\"],\n",
    "                param_dict[\"spatial\"][\"bbox\"][\"long_max\"],\n",
    "                param_dict[\"spatial\"][\"bbox\"][\"lat_max\"])\n",
    "    elif param_dict[\"layers\"][\"chelsa_month\"][\"variables\"][\"included\"]:\n",
    "        #included list becomes variable list\n",
    "        var = param_dict[\"layers\"][\"chelsa_month\"][\"variables\"][\"included\"]\n",
    "    elif param_dict[\"layers\"][\"chelsa_month\"][\"variables\"][\"excluded\"]:\n",
    "        #filter out excluded variables by subtracting the set from all possible variables\n",
    "        var = list(set(var)-set(param_dict[\"layers\"][\"chelsa_month\"][\"variables\"][\"excluded\"]))\n",
    "    chelsa_month_params = {\"var\":var, \n",
    "                           \"bbox\":bbox, \n",
    "                           \"start_month\":param_dict[\"layers\"][\"chelsa_month\"][\"time\"][\"start_month\"],\n",
    "                           \"end_month\":param_dict[\"layers\"][\"chelsa_month\"][\"time\"][\"end_month\"],\n",
    "                           \"start_year\":param_dict[\"layers\"][\"chelsa_month\"][\"time\"][\"start_year\"],\n",
    "                           \"end_year\":param_dict[\"layers\"][\"chelsa_month\"][\"time\"][\"end_year\"],\n",
    "                           \"base_url\":param_dict[\"layers\"][\"chelsa_month\"][\"source\"][\"base_url\"],\n",
    "                           \"version\":param_dict[\"layers\"][\"chelsa_month\"][\"source\"][\"version\"]}\n",
    "    return chelsa_month_params"
   ]
  },
  {
   "cell_type": "code",
   "execution_count": 35,
   "id": "a35b0678-a2e4-4f38-99f1-39216ff9aa8e",
   "metadata": {},
   "outputs": [
    {
     "data": {
      "text/plain": [
       "{'var': ['clt',\n",
       "  'cmi',\n",
       "  'hurs',\n",
       "  'pet',\n",
       "  'pr',\n",
       "  'rsds',\n",
       "  'sfcWind',\n",
       "  'tas',\n",
       "  'tasmax',\n",
       "  'tasmin',\n",
       "  'vpd'],\n",
       " 'bbox': (0, 0, 0, 0),\n",
       " 'start_month': 1,\n",
       " 'end_month': 12,\n",
       " 'start_year': 1979,\n",
       " 'end_year': 2020,\n",
       " 'base_url': 'https://os.zhdk.cloud.switch.ch/chelsav2/GLOBAL/monthly',\n",
       " 'version': 'V.2.1'}"
      ]
     },
     "execution_count": 35,
     "metadata": {},
     "output_type": "execute_result"
    }
   ],
   "source": [
    "read_chelsa_month_param(\"param.yaml\")"
   ]
  },
  {
   "cell_type": "code",
   "execution_count": 38,
   "id": "181eda98-85dc-4018-939f-95029903013c",
   "metadata": {},
   "outputs": [],
   "source": [
    "def read_chelsa_clim_ref_period_param(param_file, param_path=\"../../../config\"):\n",
    "    var = ['ai','bio10','bio11','bio12','bio13','bio14','bio15','bio16','bio17','bio18','bio19','bio1','bio2','bio3',\n",
    "           'bio4','bio5','bio6','bio7','bio8','bio9','clt_max','clt_mean','clt_min','clt_range','cmi_max','cmi_mean',\n",
    "           'cmi_min','cmi_range','fcf','fgd','gdd0','gdd10','gdd5','gddlgd0','gddlgd10','gddlgd5','gdgfgd0','gdgfgd10',\n",
    "           'gdgfgd5','gsl','gsp','gst','hurs_max','hurs_mean','hurs_min','hurs_range','kg0','kg1','kg2','kg3','kg4','kg5',\n",
    "           'lgd','ngd0','ngd10','ngd5','npp','pet_penman_max','pet_penman_mean','pet_penman_min','pet_penman_range',\n",
    "           'rsds_max','rsds_min','rsds_mean','rsds_range','scd','sfcWind_max','sfcWind_mean','sfcWind_min','sfcWind_range',\n",
    "           'swb','swe','vpd_max','vpd_mean','vpd_min','vpd_range']\n",
    "    layer_name = \"chelsa_clim_ref_period\"\n",
    "    #Construct the relative path to the parameter yaml file\n",
    "    param_filepath = os.path.join(param_path, param_file)\n",
    "    with open(param_filepath) as f:\n",
    "        param_dict = yaml.safe_load(f)\n",
    "    if param_dict[\"spatial\"][\"method\"]==\"bbox\":\n",
    "        #Read in the bbox coordinates from the parameter dictionary\n",
    "        bbox = (param_dict[\"spatial\"][\"bbox\"][\"long_min\"],\n",
    "                param_dict[\"spatial\"][\"bbox\"][\"lat_min\"],\n",
    "                param_dict[\"spatial\"][\"bbox\"][\"long_max\"],\n",
    "                param_dict[\"spatial\"][\"bbox\"][\"lat_max\"])\n",
    "    elif param_dict[\"layers\"][layer_name][\"variables\"][\"included\"]:\n",
    "        #included list becomes variable list\n",
    "        var = param_dict[\"layers\"][layer_name][\"variables\"][\"included\"]\n",
    "    elif param_dict[\"layers\"][layer_name][\"variables\"][\"excluded\"]:\n",
    "        #filter out excluded variables by subtracting the set from all possible variables\n",
    "        var = list(set(var)-set(param_dict[\"layers\"][layer_name][\"variables\"][\"excluded\"]))\n",
    "    chelsa_clim_ref_period_params = {\"var\":var, \n",
    "                                     \"bbox\":bbox, \n",
    "                                     \"ref_period\":param_dict[\"layers\"][layer_name][\"time\"][\"year_range\"],\n",
    "                                     \"base_url\":param_dict[\"layers\"][layer_name][\"source\"][\"base_url\"],\n",
    "                                     \"version\":param_dict[\"layers\"][layer_name][\"source\"][\"version\"]}\n",
    "    return chelsa_clim_ref_period_params  "
   ]
  },
  {
   "cell_type": "code",
   "execution_count": 39,
   "id": "ba99ad88-d219-470d-ae17-d735fb4aec03",
   "metadata": {},
   "outputs": [
    {
     "data": {
      "text/plain": [
       "{'var': ['ai',\n",
       "  'bio10',\n",
       "  'bio11',\n",
       "  'bio12',\n",
       "  'bio13',\n",
       "  'bio14',\n",
       "  'bio15',\n",
       "  'bio16',\n",
       "  'bio17',\n",
       "  'bio18',\n",
       "  'bio19',\n",
       "  'bio1',\n",
       "  'bio2',\n",
       "  'bio3',\n",
       "  'bio4',\n",
       "  'bio5',\n",
       "  'bio6',\n",
       "  'bio7',\n",
       "  'bio8',\n",
       "  'bio9',\n",
       "  'clt_max',\n",
       "  'clt_mean',\n",
       "  'clt_min',\n",
       "  'clt_range',\n",
       "  'cmi_max',\n",
       "  'cmi_mean',\n",
       "  'cmi_min',\n",
       "  'cmi_range',\n",
       "  'fcf',\n",
       "  'fgd',\n",
       "  'gdd0',\n",
       "  'gdd10',\n",
       "  'gdd5',\n",
       "  'gddlgd0',\n",
       "  'gddlgd10',\n",
       "  'gddlgd5',\n",
       "  'gdgfgd0',\n",
       "  'gdgfgd10',\n",
       "  'gdgfgd5',\n",
       "  'gsl',\n",
       "  'gsp',\n",
       "  'gst',\n",
       "  'hurs_max',\n",
       "  'hurs_mean',\n",
       "  'hurs_min',\n",
       "  'hurs_range',\n",
       "  'kg0',\n",
       "  'kg1',\n",
       "  'kg2',\n",
       "  'kg3',\n",
       "  'kg4',\n",
       "  'kg5',\n",
       "  'lgd',\n",
       "  'ngd0',\n",
       "  'ngd10',\n",
       "  'ngd5',\n",
       "  'npp',\n",
       "  'pet_penman_max',\n",
       "  'pet_penman_mean',\n",
       "  'pet_penman_min',\n",
       "  'pet_penman_range',\n",
       "  'rsds_max',\n",
       "  'rsds_min',\n",
       "  'rsds_mean',\n",
       "  'rsds_range',\n",
       "  'scd',\n",
       "  'sfcWind_max',\n",
       "  'sfcWind_mean',\n",
       "  'sfcWind_min',\n",
       "  'sfcWind_range',\n",
       "  'swb',\n",
       "  'swe',\n",
       "  'vpd_max',\n",
       "  'vpd_mean',\n",
       "  'vpd_min',\n",
       "  'vpd_range'],\n",
       " 'bbox': (0, 0, 0, 0),\n",
       " 'ref_period': '1981-2010',\n",
       " 'base_url': 'https://os.zhdk.cloud.switch.ch/chelsav2/GLOBAL/climatologies/1981-2010',\n",
       " 'version': 'V.2.1'}"
      ]
     },
     "execution_count": 39,
     "metadata": {},
     "output_type": "execute_result"
    }
   ],
   "source": [
    "read_chelsa_clim_ref_period_param(\"param.yaml\")"
   ]
  },
  {
   "cell_type": "code",
   "execution_count": 42,
   "id": "ac280673-5059-4439-80d5-ccab185bbec9",
   "metadata": {},
   "outputs": [],
   "source": [
    "def construct_bbox(param_dict):\n",
    "    return (param_dict[\"spatial\"][\"bbox\"][\"long_min\"],\n",
    "            param_dict[\"spatial\"][\"bbox\"][\"lat_min\"],\n",
    "            param_dict[\"spatial\"][\"bbox\"][\"long_max\"],\n",
    "            param_dict[\"spatial\"][\"bbox\"][\"lat_max\"])\n",
    "\n",
    "def filter_variables(var_list, param_dict, layer_name):\n",
    "    if param_dict[\"layers\"][layer_name][\"variables\"][\"included\"]:\n",
    "        #included list becomes variable list\n",
    "        return param_dict[\"layers\"][layer_name][\"variables\"][\"included\"]\n",
    "    elif param_dict[\"layers\"][layer_name][\"variables\"][\"excluded\"]:\n",
    "        #filter out excluded variables by subtracting the set from all possible variables\n",
    "        return list(set(var)-set(param_dict[\"layers\"][layer_name][\"variables\"][\"excluded\"]))\n",
    "    else:\n",
    "        return var_list\n",
    "        \n",
    "def read_chelsa_clim_ref_month_param(param_file, param_path=\"../../../config\"):\n",
    "    var=['bio10','bio11','bio12','bio13','bio14','bio15','bio16','bio17','bio18','bio19','bio1','bio2','bio3',\n",
    "         'bio4','bio5','bio6','bio7','bio8','bio9','fcf','fgd','gdd0','gdd10','gdd5','gddlgd0','gddlgd10',\n",
    "         'gddlgd5','gdgfgd0','gdgfgd10','gdgfgd5','gsl','gsp','gst','kg0','kg1','kg2','kg3','kg4','kg5',\n",
    "         'lgd','ngd0','ngd10','ngd5','npp','scd','swe']\n",
    "    layer_name = \"chelsa_clim_ref_month\"\n",
    "    #Construct the relative path to the parameter yaml file\n",
    "    param_filepath = os.path.join(param_path, param_file)\n",
    "    with open(param_filepath) as f:\n",
    "        param_dict = yaml.safe_load(f)\n",
    "    if param_dict[\"spatial\"][\"method\"]==\"bbox\":\n",
    "        #Read in the bbox coordinates from the parameter dictionary\n",
    "        bbox = construct_bbox(param_dict)\n",
    "    var = filter_variables(var, param_dict, layer_name)\n",
    "    if param_dict[\"layers\"][layer_name][\"time\"][\"include_all\"]:\n",
    "        months = list(range(1,13))\n",
    "    else:\n",
    "        months = param_dict[\"layers\"][layer_name][\"time\"][\"months\"]\n",
    "    chelsa_clim_ref_month_params = {\"var\":var, \n",
    "                                     \"bbox\":bbox, \n",
    "                                     \"months\":months,\n",
    "                                     \"ref_period\":param_dict[\"layers\"][layer_name][\"time\"][\"year_range\"],\n",
    "                                     \"base_url\":param_dict[\"layers\"][layer_name][\"source\"][\"base_url\"],\n",
    "                                     \"version\":param_dict[\"layers\"][layer_name][\"source\"][\"version\"]}\n",
    "    return chelsa_clim_ref_month_params "
   ]
  },
  {
   "cell_type": "code",
   "execution_count": 43,
   "id": "fce8ac69-9a29-423a-add5-886e9a31e0e7",
   "metadata": {},
   "outputs": [
    {
     "data": {
      "text/plain": [
       "{'var': ['bio10',\n",
       "  'bio11',\n",
       "  'bio12',\n",
       "  'bio13',\n",
       "  'bio14',\n",
       "  'bio15',\n",
       "  'bio16',\n",
       "  'bio17',\n",
       "  'bio18',\n",
       "  'bio19',\n",
       "  'bio1',\n",
       "  'bio2',\n",
       "  'bio3',\n",
       "  'bio4',\n",
       "  'bio5',\n",
       "  'bio6',\n",
       "  'bio7',\n",
       "  'bio8',\n",
       "  'bio9',\n",
       "  'fcf',\n",
       "  'fgd',\n",
       "  'gdd0',\n",
       "  'gdd10',\n",
       "  'gdd5',\n",
       "  'gddlgd0',\n",
       "  'gddlgd10',\n",
       "  'gddlgd5',\n",
       "  'gdgfgd0',\n",
       "  'gdgfgd10',\n",
       "  'gdgfgd5',\n",
       "  'gsl',\n",
       "  'gsp',\n",
       "  'gst',\n",
       "  'kg0',\n",
       "  'kg1',\n",
       "  'kg2',\n",
       "  'kg3',\n",
       "  'kg4',\n",
       "  'kg5',\n",
       "  'lgd',\n",
       "  'ngd0',\n",
       "  'ngd10',\n",
       "  'ngd5',\n",
       "  'npp',\n",
       "  'scd',\n",
       "  'swe'],\n",
       " 'bbox': (0, 0, 0, 0),\n",
       " 'months': [1, 2, 3, 4, 5, 6, 7, 8, 9, 10, 11, 12],\n",
       " 'ref_period': '1981-2010',\n",
       " 'base_url': 'https://os.zhdk.cloud.switch.ch/chelsav2/GLOBAL/climatologies/1981-2010',\n",
       " 'version': 'V.2.1'}"
      ]
     },
     "execution_count": 43,
     "metadata": {},
     "output_type": "execute_result"
    }
   ],
   "source": [
    "read_chelsa_clim_ref_month_param(\"param.yaml\")"
   ]
  },
  {
   "cell_type": "code",
   "execution_count": null,
   "id": "a15e7c64-2c50-4451-b54f-e7c551805ffa",
   "metadata": {},
   "outputs": [],
   "source": []
  }
 ],
 "metadata": {
  "kernelspec": {
   "display_name": "Python 3 (ipykernel)",
   "language": "python",
   "name": "python3"
  },
  "language_info": {
   "codemirror_mode": {
    "name": "ipython",
    "version": 3
   },
   "file_extension": ".py",
   "mimetype": "text/x-python",
   "name": "python",
   "nbconvert_exporter": "python",
   "pygments_lexer": "ipython3",
   "version": "3.12.7"
  }
 },
 "nbformat": 4,
 "nbformat_minor": 5
}
