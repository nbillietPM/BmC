{
 "cells": [
  {
   "cell_type": "code",
   "execution_count": 1,
   "id": "aa0a2179",
   "metadata": {},
   "outputs": [],
   "source": [
    "import pandas as pd\n",
    "from matplotlib import pyplot as plt\n",
    "from math import log\n",
    "import numpy as np\n",
    "from sklearn.preprocessing import normalize"
   ]
  },
  {
   "cell_type": "code",
   "execution_count": 2,
   "id": "52ccf5a1",
   "metadata": {},
   "outputs": [
    {
     "ename": "FileNotFoundError",
     "evalue": "[Errno 2] No such file or directory: '../data/processed/supply_and_demand_order_level.pkl'",
     "output_type": "error",
     "traceback": [
      "\u001b[1;31m---------------------------------------------------------------------------\u001b[0m",
      "\u001b[1;31mFileNotFoundError\u001b[0m                         Traceback (most recent call last)",
      "Cell \u001b[1;32mIn[2], line 1\u001b[0m\n\u001b[1;32m----> 1\u001b[0m data \u001b[38;5;241m=\u001b[39m pd\u001b[38;5;241m.\u001b[39mread_pickle(\u001b[38;5;124m\"\u001b[39m\u001b[38;5;124m../data/processed/supply_and_demand_order_level.pkl\u001b[39m\u001b[38;5;124m\"\u001b[39m)\n\u001b[0;32m      2\u001b[0m data\n",
      "File \u001b[1;32m~\\Anaconda3\\Lib\\site-packages\\pandas\\io\\pickle.py:185\u001b[0m, in \u001b[0;36mread_pickle\u001b[1;34m(filepath_or_buffer, compression, storage_options)\u001b[0m\n\u001b[0;32m    123\u001b[0m \u001b[38;5;250m\u001b[39m\u001b[38;5;124;03m\"\"\"\u001b[39;00m\n\u001b[0;32m    124\u001b[0m \u001b[38;5;124;03mLoad pickled pandas object (or any object) from file.\u001b[39;00m\n\u001b[0;32m    125\u001b[0m \n\u001b[1;32m   (...)\u001b[0m\n\u001b[0;32m    182\u001b[0m \u001b[38;5;124;03m4    4    9\u001b[39;00m\n\u001b[0;32m    183\u001b[0m \u001b[38;5;124;03m\"\"\"\u001b[39;00m\n\u001b[0;32m    184\u001b[0m excs_to_catch \u001b[38;5;241m=\u001b[39m (\u001b[38;5;167;01mAttributeError\u001b[39;00m, \u001b[38;5;167;01mImportError\u001b[39;00m, \u001b[38;5;167;01mModuleNotFoundError\u001b[39;00m, \u001b[38;5;167;01mTypeError\u001b[39;00m)\n\u001b[1;32m--> 185\u001b[0m \u001b[38;5;28;01mwith\u001b[39;00m get_handle(\n\u001b[0;32m    186\u001b[0m     filepath_or_buffer,\n\u001b[0;32m    187\u001b[0m     \u001b[38;5;124m\"\u001b[39m\u001b[38;5;124mrb\u001b[39m\u001b[38;5;124m\"\u001b[39m,\n\u001b[0;32m    188\u001b[0m     compression\u001b[38;5;241m=\u001b[39mcompression,\n\u001b[0;32m    189\u001b[0m     is_text\u001b[38;5;241m=\u001b[39m\u001b[38;5;28;01mFalse\u001b[39;00m,\n\u001b[0;32m    190\u001b[0m     storage_options\u001b[38;5;241m=\u001b[39mstorage_options,\n\u001b[0;32m    191\u001b[0m ) \u001b[38;5;28;01mas\u001b[39;00m handles:\n\u001b[0;32m    192\u001b[0m     \u001b[38;5;66;03m# 1) try standard library Pickle\u001b[39;00m\n\u001b[0;32m    193\u001b[0m     \u001b[38;5;66;03m# 2) try pickle_compat (older pandas version) to handle subclass changes\u001b[39;00m\n\u001b[0;32m    194\u001b[0m     \u001b[38;5;66;03m# 3) try pickle_compat with latin-1 encoding upon a UnicodeDecodeError\u001b[39;00m\n\u001b[0;32m    196\u001b[0m     \u001b[38;5;28;01mtry\u001b[39;00m:\n\u001b[0;32m    197\u001b[0m         \u001b[38;5;66;03m# TypeError for Cython complaints about object.__new__ vs Tick.__new__\u001b[39;00m\n\u001b[0;32m    198\u001b[0m         \u001b[38;5;28;01mtry\u001b[39;00m:\n",
      "File \u001b[1;32m~\\Anaconda3\\Lib\\site-packages\\pandas\\io\\common.py:882\u001b[0m, in \u001b[0;36mget_handle\u001b[1;34m(path_or_buf, mode, encoding, compression, memory_map, is_text, errors, storage_options)\u001b[0m\n\u001b[0;32m    873\u001b[0m         handle \u001b[38;5;241m=\u001b[39m \u001b[38;5;28mopen\u001b[39m(\n\u001b[0;32m    874\u001b[0m             handle,\n\u001b[0;32m    875\u001b[0m             ioargs\u001b[38;5;241m.\u001b[39mmode,\n\u001b[1;32m   (...)\u001b[0m\n\u001b[0;32m    878\u001b[0m             newline\u001b[38;5;241m=\u001b[39m\u001b[38;5;124m\"\u001b[39m\u001b[38;5;124m\"\u001b[39m,\n\u001b[0;32m    879\u001b[0m         )\n\u001b[0;32m    880\u001b[0m     \u001b[38;5;28;01melse\u001b[39;00m:\n\u001b[0;32m    881\u001b[0m         \u001b[38;5;66;03m# Binary mode\u001b[39;00m\n\u001b[1;32m--> 882\u001b[0m         handle \u001b[38;5;241m=\u001b[39m \u001b[38;5;28mopen\u001b[39m(handle, ioargs\u001b[38;5;241m.\u001b[39mmode)\n\u001b[0;32m    883\u001b[0m     handles\u001b[38;5;241m.\u001b[39mappend(handle)\n\u001b[0;32m    885\u001b[0m \u001b[38;5;66;03m# Convert BytesIO or file objects passed with an encoding\u001b[39;00m\n",
      "\u001b[1;31mFileNotFoundError\u001b[0m: [Errno 2] No such file or directory: '../data/processed/supply_and_demand_order_level.pkl'"
     ]
    }
   ],
   "source": [
    "data = pd.read_pickle(\"../data/processed/supply_and_demand_order_level.pkl\")\n",
    "data"
   ]
  },
  {
   "cell_type": "code",
   "execution_count": null,
   "id": "af460257",
   "metadata": {},
   "outputs": [],
   "source": [
    "plants = data[data[\"kingdom\"]==\"Plantae\"]\n",
    "animals = data[data[\"kingdom\"]==\"Animalia\"]\n",
    "fungi = data[data[\"kingdom\"]==\"Fungi\"]"
   ]
  },
  {
   "cell_type": "code",
   "execution_count": null,
   "id": "ce3bfb63",
   "metadata": {},
   "outputs": [],
   "source": [
    "def scatter_supply_single_demand(df, demand, col=\"blue\",\n",
    "                                 logx=False, logy=False, \n",
    "                                 nozerosy=False, trendline=False, \n",
    "                                 xmin=0, ymin=0):\n",
    "    # SET X AND Y\n",
    "    if nozerosy: # removes data points with and y=0\n",
    "        df = df[df[demand]!=0]\n",
    "        \n",
    "    if logx: \n",
    "        x = np.log(list(df[\"nr_authors\"]+1))\n",
    "        xlabel = \"log(Researchers + 1)\"\n",
    "    else: \n",
    "        x = list(df[\"nr_authors\"])\n",
    "        xlabel = \"Researchers\"\n",
    "        \n",
    "    if logy: \n",
    "        y = np.log(list(df[demand]+1))\n",
    "        ylabel = \"log(\"+demand+\" + 1)\"\n",
    "    else: \n",
    "        y = list(df[demand])\n",
    "        ylabel = demand\n",
    "    \n",
    "    # PLOT\n",
    "    fig, ax = plt.subplots()\n",
    "    ax.scatter(x,y,c=col)\n",
    "    \n",
    "    if trendline:\n",
    "        z = np.polyfit(x,y,1)\n",
    "        p = np.poly1d(z)\n",
    "        plt.plot(x, p(x),col)\n",
    "    \n",
    "    # add labels \n",
    "    ax.set_xlabel(xlabel)\n",
    "    ax.set_ylabel(ylabel)\n",
    "    \n",
    "    for i, txt in enumerate(df[\"order\"]):\n",
    "        if x[i] >= xmin and y[i] >= ymin:\n",
    "            ax.annotate(txt, (x[i],y[i]),\n",
    "                        ha=\"left\", rotation=30, fontsize=7)"
   ]
  },
  {
   "cell_type": "code",
   "execution_count": null,
   "id": "53c5bb11",
   "metadata": {},
   "outputs": [],
   "source": [
    "def scatter_combined_demand(df, demands, col=\"blue\",\n",
    "                            logx=False, nozeros=False, trendline=False,\n",
    "                            xmin=0, ymin=0):\n",
    "    # SET X AND Y\n",
    "    if nozeros: # removes data points with both x=0 and y=0\n",
    "        df = df[[\"order\", \"nr_authors\", demand]].loc[(df!=0).any(axis=1)]\n",
    "    \n",
    "    # x: logged or not\n",
    "    if logx: \n",
    "        x = np.log(list(df[\"nr_authors\"]+1))\n",
    "        xlabel = \"log(Researchers + 1)\"\n",
    "    else: \n",
    "        x = list(df[\"nr_authors\"])\n",
    "        xlabel = \"Researchers\"\n",
    "    \n",
    "    # y: combined normalized demands\n",
    "    comb_demands = len(df)*[0,]\n",
    "    for demand in demands:\n",
    "        norm_demand = normalize([df[demand]])[0]\n",
    "        comb_demands = [comb_demands[i] + norm_demand[i] for i in range(len(comb_demands))]\n",
    "    \n",
    "    y = comb_demands\n",
    "    \n",
    "    # PLOT\n",
    "    fig, ax = plt.subplots()\n",
    "    ax.scatter(x,y,c=col)\n",
    "    \n",
    "    if trendline:\n",
    "        z = np.polyfit(x,y,1)\n",
    "        p = np.poly1d(z)\n",
    "        plt.plot(x, p(x))\n",
    "        \n",
    "    # add labels \n",
    "    ax.set_xlabel(xlabel)\n",
    "    ax.set_ylabel(\"Combined normalized demands\")\n",
    "    \n",
    "    for i, txt in enumerate(df[\"order\"]):\n",
    "        if x[i] >= xmin and y[i] >= ymin:\n",
    "            ax.annotate(txt, (x[i],y[i]),\n",
    "                        ha=\"left\", rotation=30, fontsize=7)"
   ]
  },
  {
   "cell_type": "markdown",
   "id": "a3fbf2a6",
   "metadata": {},
   "source": [
    "# Plants"
   ]
  },
  {
   "cell_type": "code",
   "execution_count": null,
   "id": "5c9c85de",
   "metadata": {},
   "outputs": [],
   "source": [
    "for i, demand in enumerate([\"taxonomicResearchNeeded\", \"horizonInvasives\", \"cropWildRelatives\"]):\n",
    "    color = [\"#58A9D9\", \"#F6C74F\", \"#F28205\"][i]\n",
    "    scatter_supply_single_demand(plants, demand, col=color,\n",
    "                                 logx=True, logy=True,\n",
    "                                 trendline=True,\n",
    "                                 ymin=1)"
   ]
  },
  {
   "cell_type": "code",
   "execution_count": null,
   "id": "9d6e31d8",
   "metadata": {},
   "outputs": [],
   "source": [
    "for i, demand in enumerate([\"taxonomicResearchNeeded\", \"horizonInvasives\", \"cropWildRelatives\"]):\n",
    "    color = [\"#58A9D9\", \"#F6C74F\", \"#F28205\"][i]\n",
    "    scatter_supply_single_demand(plants, demand, col=color,\n",
    "                                 logx=True, logy=True, nozerosy=True,\n",
    "                                 trendline=True,\n",
    "                                 ymin=1)"
   ]
  },
  {
   "cell_type": "code",
   "execution_count": null,
   "id": "8bde4326",
   "metadata": {},
   "outputs": [],
   "source": [
    "scatter_supply_single_demand(plants, \"horizonInvasives\", logx=False, ymin=1)"
   ]
  },
  {
   "cell_type": "code",
   "execution_count": null,
   "id": "223284fe",
   "metadata": {},
   "outputs": [],
   "source": [
    "x = np.log(list(plants[\"nr_authors\"]+1))\n",
    "fig, ax = plt.subplots()\n",
    "for i, demand in enumerate([\"taxonomicResearchNeeded\", \"horizonInvasives\", \"cropWildRelatives\"]):\n",
    "    color = [\"#58A9D9\", \"#F6C74F\", \"#F28205\"][i]\n",
    "    y = normalize([list(plants[demand])])\n",
    "    ax.scatter(x,y,c=color)\n",
    "ax.legend([\"taxonomicResearchNeeded\", \"horizonInvasives\", \"cropWildRelatives\"])\n",
    "ax.set_xlabel(\"log(Researchers + 1)\")\n",
    "ax.set_ylabel(\"Normalized demands\")"
   ]
  },
  {
   "cell_type": "code",
   "execution_count": null,
   "id": "34a0dc3d",
   "metadata": {},
   "outputs": [],
   "source": [
    "scatter_combined_demand(plants, [\"taxonomicResearchNeeded\", \"horizonInvasives\", \"cropWildRelatives\"],\n",
    "                        logx=True, ymin=0.01)"
   ]
  },
  {
   "cell_type": "markdown",
   "id": "dad8f21f",
   "metadata": {},
   "source": [
    "# Animals"
   ]
  },
  {
   "cell_type": "code",
   "execution_count": null,
   "id": "a5c10ff1",
   "metadata": {},
   "outputs": [],
   "source": [
    "for demand in [\"taxonomicResearchNeeded\", \"horizonInvasives\"]:\n",
    "    scatter_supply_single_demand(animals, demand)"
   ]
  },
  {
   "cell_type": "code",
   "execution_count": null,
   "id": "49b62f62",
   "metadata": {},
   "outputs": [],
   "source": [
    "for demand in [\"taxonomicResearchNeeded\", \"horizonInvasives\"]:\n",
    "    scatter_supply_single_demand(animals, demand, logx=True)"
   ]
  },
  {
   "cell_type": "code",
   "execution_count": null,
   "id": "e3644fa7",
   "metadata": {},
   "outputs": [],
   "source": [
    "scatter_combined_demand(animals, [\"taxonomicResearchNeeded\", \"horizonInvasives\"])"
   ]
  },
  {
   "cell_type": "code",
   "execution_count": null,
   "id": "815858d0",
   "metadata": {},
   "outputs": [],
   "source": [
    "scatter_combined_demand(animals, [\"taxonomicResearchNeeded\", \"horizonInvasives\"],\n",
    "                       logx=True)"
   ]
  },
  {
   "cell_type": "markdown",
   "id": "aa524858",
   "metadata": {},
   "source": [
    "# Fungi"
   ]
  },
  {
   "cell_type": "code",
   "execution_count": null,
   "id": "fd119f33",
   "metadata": {},
   "outputs": [],
   "source": [
    "scatter_supply_single_demand(fungi, \"taxonomicResearchNeeded\")"
   ]
  },
  {
   "cell_type": "code",
   "execution_count": null,
   "id": "925a4460",
   "metadata": {},
   "outputs": [],
   "source": [
    "scatter_supply_single_demand(fungi, \"taxonomicResearchNeeded\", \n",
    "                             logx=True)"
   ]
  },
  {
   "cell_type": "code",
   "execution_count": null,
   "id": "c35f04d2",
   "metadata": {},
   "outputs": [],
   "source": []
  }
 ],
 "metadata": {
  "kernelspec": {
   "display_name": "Python 3 (ipykernel)",
   "language": "python",
   "name": "python3"
  },
  "language_info": {
   "codemirror_mode": {
    "name": "ipython",
    "version": 3
   },
   "file_extension": ".py",
   "mimetype": "text/x-python",
   "name": "python",
   "nbconvert_exporter": "python",
   "pygments_lexer": "ipython3",
   "version": "3.12.7"
  }
 },
 "nbformat": 4,
 "nbformat_minor": 5
}
