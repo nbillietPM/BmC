{
 "cells": [
  {
   "cell_type": "markdown",
   "metadata": {},
   "source": [
    "<div style='text-align:center;'>\n",
    "<figure><img src='https://raw.githubusercontent.com/wekeo/wekeo4data/main/img/LogoWekeo_Copernicus_RGB_0.png' alt='Logo EU Copernicus WEkEO' align='right' width='20%'>\n",
    "</figure>\n",
    "</div>\n",
    "\n",
    "<h1><center><code>How To Download WEkEO Data</code></center></h1>"
   ]
  },
  {
   "cell_type": "markdown",
   "metadata": {},
   "source": [
    "Follow the next few steps to download data from WEkEO via the __HDA API__.  \n",
    "Please check the following article to get further details: \n",
    "- [How to use the HDA API in Python?\n",
    "](https://help.wekeo.eu/en/articles/6751608-how-to-use-the-hda-api-in-python)\n",
    "- [How to download WEkEO data?](https://help.wekeo.eu/en/articles/6416936-how-to-download-wekeo-data)\n",
    "- [Official documentation of HDA API](https://hda.readthedocs.io/en/latest/usage.html)"
   ]
  },
  {
   "cell_type": "markdown",
   "metadata": {},
   "source": [
    "## Step 1. Install the latest version of `hda`"
   ]
  },
  {
   "cell_type": "markdown",
   "metadata": {},
   "source": [
    "You can run the next cell to install the latest version of `hda`:"
   ]
  },
  {
   "cell_type": "code",
   "execution_count": null,
   "metadata": {},
   "outputs": [],
   "source": [
    "!pip install hda -U"
   ]
  },
  {
   "cell_type": "markdown",
   "metadata": {},
   "source": [
    "*__Note__: version used in this notebook is `2.17`*."
   ]
  },
  {
   "cell_type": "markdown",
   "metadata": {
    "tags": []
   },
   "source": [
    "## Step 2. Import `hda` module"
   ]
  },
  {
   "cell_type": "markdown",
   "metadata": {},
   "source": [
    "The HDA Client provides a fully compliant Python3 Client that can be used to search and download products using the Harmonized Data Access WEkEO API. First let's import the `hda` functions:"
   ]
  },
  {
   "cell_type": "code",
   "execution_count": 2,
   "metadata": {},
   "outputs": [],
   "source": [
    "from hda import Client, Configuration"
   ]
  },
  {
   "cell_type": "markdown",
   "metadata": {},
   "source": [
    "## Step 3. Configure credentials and load `hda` Client"
   ]
  },
  {
   "cell_type": "markdown",
   "metadata": {},
   "source": [
    "### Method 1 (not regular users)"
   ]
  },
  {
   "cell_type": "markdown",
   "metadata": {},
   "source": [
    "Pass your credentials directly in the script:"
   ]
  },
  {
   "cell_type": "code",
   "execution_count": 3,
   "metadata": {},
   "outputs": [],
   "source": [
    "# Configure your credentials without a .hdarc file\n",
    "conf = Configuration(user = \"username\", password = \"password\")\n",
    "hda_client = Client(config = conf)"
   ]
  },
  {
   "cell_type": "markdown",
   "metadata": {},
   "source": [
    "### Method 2 (regular users)"
   ]
  },
  {
   "cell_type": "markdown",
   "metadata": {},
   "source": [
    "If you have not yet created your `.hdarc` file to allow **auto-login process**, you can execute this cell (otherwise disregard it):"
   ]
  },
  {
   "cell_type": "code",
   "execution_count": null,
   "metadata": {},
   "outputs": [],
   "source": [
    "from pathlib import Path\n",
    "\n",
    "hdarc = Path(Path.home()/'.hdarc')\n",
    "if not hdarc.is_file():\n",
    "    import getpass\n",
    "    USERNAME = input('Enter your username: ')\n",
    "    PASSWORD = getpass.getpass('Enter your password: ')\n",
    "\n",
    "    with open(Path.home()/'.hdarc', 'w') as f:\n",
    "        f.write(f'user: {USERNAME}\\n')\n",
    "        f.write(f'password:{PASSWORD}\\n')\n",
    "else:\n",
    "    print('Configuration file already exists.')\n",
    "    \n",
    "hda_client = Client()"
   ]
  },
  {
   "cell_type": "markdown",
   "metadata": {},
   "source": [
    "## Step 4. Create the request and download data"
   ]
  },
  {
   "cell_type": "markdown",
   "metadata": {},
   "source": [
    "### Get the dataset metadata"
   ]
  },
  {
   "cell_type": "markdown",
   "metadata": {},
   "source": [
    "Here we are going to download the following Copernicus Land dataset: __EO:EEA:DAT:CLMS_HRVPP_VPP__.\n",
    "\n",
    "To create our request we can ask to the API what parameters are needed.\n",
    "To do so we use the `metadata()` function:"
   ]
  },
  {
   "cell_type": "code",
   "execution_count": 4,
   "metadata": {},
   "outputs": [
    {
     "name": "stdout",
     "output_type": "stream",
     "text": [
      "Help on method metadata in module hda.api:\n",
      "\n",
      "metadata(dataset_id) method of hda.api.Client instance\n",
      "    Returns the metadata object for the given dataset.\n",
      "    \n",
      "    :param dataset_id: The dataset ID\n",
      "    :type dataset_id: str\n",
      "\n"
     ]
    }
   ],
   "source": [
    "help(hda_client.metadata)"
   ]
  },
  {
   "cell_type": "code",
   "execution_count": 5,
   "metadata": {},
   "outputs": [
    {
     "data": {
      "text/plain": [
       "{'type': 'object',\n",
       " 'title': 'Querable',\n",
       " 'properties': {'dataset_id': {'title': 'dataset_id',\n",
       "   'type': 'string',\n",
       "   'oneOf': [{'const': 'EO:EEA:DAT:CLMS_HRVPP_VPP',\n",
       "     'title': 'EO:EEA:DAT:CLMS_HRVPP_VPP',\n",
       "     'group': None}]},\n",
       "  'itemsPerPage': {'title': 'Items PerPage',\n",
       "   'type': 'string',\n",
       "   'pattern': '^[0-9]*$'},\n",
       "  'startIndex': {'title': 'Start Index',\n",
       "   'type': 'string',\n",
       "   'pattern': '^[0-9]*$'},\n",
       "  'uid': {'title': 'Uid', 'type': 'string', 'pattern': '[\\\\w-]+'},\n",
       "  'productType': {'title': 'Product Type',\n",
       "   'type': 'string',\n",
       "   'oneOf': [{'const': 'MINV', 'title': 'MINV', 'group': None},\n",
       "    {'const': 'MAXD', 'title': 'MAXD', 'group': None},\n",
       "    {'const': 'LENGTH', 'title': 'LENGTH', 'group': None},\n",
       "    {'const': 'SOSD', 'title': 'SOSD', 'group': None},\n",
       "    {'const': 'QFLAG', 'title': 'QFLAG', 'group': None},\n",
       "    {'const': 'EOSV', 'title': 'EOSV', 'group': None},\n",
       "    {'const': 'TPROD', 'title': 'TPROD', 'group': None},\n",
       "    {'const': 'MAXV', 'title': 'MAXV', 'group': None},\n",
       "    {'const': 'AMPL', 'title': 'AMPL', 'group': None},\n",
       "    {'const': 'SOSV', 'title': 'SOSV', 'group': None},\n",
       "    {'const': 'LSLOPE', 'title': 'LSLOPE', 'group': None},\n",
       "    {'const': 'EOSD', 'title': 'EOSD', 'group': None},\n",
       "    {'const': 'RSLOPE', 'title': 'RSLOPE', 'group': None},\n",
       "    {'const': 'SPROD', 'title': 'SPROD', 'group': None}]},\n",
       "  'platformSerialIdentifier': {'title': 'Platform SerialIdentifier',\n",
       "   'type': 'string',\n",
       "   'oneOf': [{'const': 'S2A, S2B', 'title': 'S2A, S2B', 'group': None}]},\n",
       "  'tileId': {'title': 'Tile Id', 'type': 'string', 'pattern': '[\\\\w-]+'},\n",
       "  'productVersion': {'title': 'Product Version',\n",
       "   'type': 'string',\n",
       "   'pattern': '[\\\\w-]+'},\n",
       "  'productGroupId': {'title': 'Product GroupId',\n",
       "   'type': 'string',\n",
       "   'oneOf': [{'const': 's1', 'title': 's1', 'group': None},\n",
       "    {'const': 's2', 'title': 's2', 'group': None}]},\n",
       "  'resolution': {'title': 'Resolution',\n",
       "   'type': 'string',\n",
       "   'oneOf': [{'const': '10', 'title': '10', 'group': None}]},\n",
       "  'processingDate': {'title': 'Processing Date',\n",
       "   'type': 'string',\n",
       "   'format': 'date-time',\n",
       "   'default': ''},\n",
       "  'start': {'title': 'Start',\n",
       "   'type': 'string',\n",
       "   'format': 'date-time',\n",
       "   'default': ''},\n",
       "  'end': {'title': 'End',\n",
       "   'type': 'string',\n",
       "   'format': 'date-time',\n",
       "   'default': ''},\n",
       "  'bbox': {'title': 'BBox',\n",
       "   'type': 'array',\n",
       "   'minItems': 4,\n",
       "   'maxItems': 4,\n",
       "   'items': [{'type': 'number', 'maximum': 180, 'minimum': -180},\n",
       "    {'type': 'number', 'maximum': 90, 'minimum': -90},\n",
       "    {'type': 'number', 'maximum': 180, 'minimum': -180},\n",
       "    {'type': 'number', 'maximum': 90, 'minimum': -90}]}},\n",
       " 'required': ['dataset_id']}"
      ]
     },
     "execution_count": 5,
     "metadata": {},
     "output_type": "execute_result"
    }
   ],
   "source": [
    "# Request metadata of a dataset\n",
    "hda_client.metadata(dataset_id=\"EO:EEA:DAT:CLMS_HRVPP_VPP\")"
   ]
  },
  {
   "cell_type": "markdown",
   "metadata": {},
   "source": [
    "## Create the request"
   ]
  },
  {
   "cell_type": "markdown",
   "metadata": {},
   "source": [
    "Based on this information we can create the request below."
   ]
  },
  {
   "cell_type": "markdown",
   "metadata": {},
   "source": [
    "<div class=\"alert alert-block alert-info\">\n",
    "    📌 <b>Note</b>: to learn how to get your query from the Data Viewer, please check <a href=\"https://help.wekeo.eu/en/articles/6416936-how-to-download-wekeo-data#h_85849dcd7a\">this article</a>.\n",
    "</div>"
   ]
  },
  {
   "cell_type": "code",
   "execution_count": 6,
   "metadata": {},
   "outputs": [],
   "source": [
    "query = {\n",
    "  \"dataset_id\": \"EO:EEA:DAT:CLMS_HRVPP_VPP\",\n",
    "  \"productType\": \"TPROD\",\n",
    "  \"productGroupId\": \"s1\",\n",
    "  \"start\": \"2020-01-01T00:00:00.000Z\",\n",
    "  \"end\": \"2021-01-01T00:00:00.000Z\",\n",
    "  \"bbox\": [\n",
    "    -9.53592042,\n",
    "    42.46825465,\n",
    "    -7.0363102799999995,\n",
    "    43.99700636\n",
    "  ]\n",
    "}"
   ]
  },
  {
   "cell_type": "markdown",
   "metadata": {},
   "source": [
    "<div class=\"alert alert-block alert-info\">\n",
    "    📌 <b>Note</b>: the geographical coordinates in the <code>bbox</code> are ordered as: <code>[longitude_min, latitude_min, longitude_max, latitude_max]</code>\n",
    "</div>"
   ]
  },
  {
   "cell_type": "markdown",
   "metadata": {},
   "source": [
    "## Search data"
   ]
  },
  {
   "cell_type": "markdown",
   "metadata": {},
   "source": [
    "The `search()` function launches the search of the data you requested with the specific parameters. It may take some time, as the server processes it."
   ]
  },
  {
   "cell_type": "code",
   "execution_count": 7,
   "metadata": {},
   "outputs": [
    {
     "name": "stdout",
     "output_type": "stream",
     "text": [
      "SearchResults[items=12,volume=1.1GB]\n"
     ]
    }
   ],
   "source": [
    "matches = hda_client.search(query)\n",
    "print(matches)"
   ]
  },
  {
   "cell_type": "markdown",
   "metadata": {},
   "source": [
    "We can see that we can download **12 items**, for a total **volume of 1.1 GB**."
   ]
  },
  {
   "cell_type": "markdown",
   "metadata": {},
   "source": [
    "## Download file(s)"
   ]
  },
  {
   "cell_type": "markdown",
   "metadata": {},
   "source": [
    "On WEkEO's JupyterHub you are limited to 20GB of stockage space, so be careful of the total size of files your request generated.  "
   ]
  },
  {
   "cell_type": "markdown",
   "metadata": {},
   "source": [
    "### Download files in the current working directory"
   ]
  },
  {
   "cell_type": "markdown",
   "metadata": {},
   "source": [
    "You can run `matches.download()` to download all the files of your request.  \n",
    "Please [read the documentation](https://hda.readthedocs.io/en/latest/usage.html#advanced-client-usage) for advanced usage such as:\n",
    "- downloading first result: `matches[0].download()`\n",
    "- downloading last result: `matches[-1].download()`\n",
    "- downloading first 10 results: `matches[:10].download()`\n",
    "- downloading even results: `matches[::2].download()`\n",
    "- etc.\n",
    "\n",
    "For the purpose of this example, we are going to fetch the last result:"
   ]
  },
  {
   "cell_type": "code",
   "execution_count": null,
   "metadata": {
    "tags": []
   },
   "outputs": [],
   "source": [
    "OUTPUT_PATH = '/tmp'\n",
    "matches[-1].download(OUTPUT_PATH)"
   ]
  },
  {
   "cell_type": "markdown",
   "metadata": {},
   "source": [
    "The `download()` function launches the download of the file(s) your request generated. They will be downloaded in the same folder as this notebook unless you specify an existing directory as `OUTPUT_PATH`."
   ]
  },
  {
   "cell_type": "markdown",
   "metadata": {},
   "source": [
    "## Additional Information\n",
    "---\n",
    "\n",
    "#### Compatible Data Science Toolkits"
   ]
  },
  {
   "cell_type": "code",
   "execution_count": null,
   "metadata": {},
   "outputs": [],
   "source": [
    "import pkg_resources; pkg_resources.get_distribution(\"hda\").version"
   ]
  },
  {
   "cell_type": "markdown",
   "metadata": {},
   "source": [
    "#### Last Modified and Tested"
   ]
  },
  {
   "cell_type": "code",
   "execution_count": null,
   "metadata": {},
   "outputs": [],
   "source": [
    "from datetime import date; print(date.today())"
   ]
  },
  {
   "cell_type": "markdown",
   "metadata": {},
   "source": [
    "<img src='https://github.com/wekeo/ai4EM_MOOC/raw/04147f290cfdcce341f819eab7ad037b95f25600/img/ai4eo_logos.jpg' alt='Logo EU Copernicus WEkEO' align='center' width='100%'></img>"
   ]
  }
 ],
 "metadata": {
  "author": "Ben Loveday, Hayley Evers-King",
  "description": "This Jupyter Notebook covers how to access SLSTR data via the WEKEO catalogue using the HDA adaptor.",
  "github": "https://github.com/wekeo/learn-slstr/blob/master/1_SLSTR_introductory/1_1b_SLSTR_data_access_HDA.ipynb",
  "image": "../img/thumbs/1_1b_SLSTR_data_access_HDA_thumb.png",
  "kernelspec": {
   "display_name": "Wekeo",
   "language": "python",
   "name": "python3"
  },
  "language_info": {
   "codemirror_mode": {
    "name": "ipython",
    "version": 3
   },
   "file_extension": ".py",
   "mimetype": "text/x-python",
   "name": "python",
   "nbconvert_exporter": "python",
   "pygments_lexer": "ipython3",
   "version": "3.9.18"
  },
  "link": "https://jupyterhub-wekeo.apps.eumetsat.dpi.wekeo.eu/hub/user-redirect/lab/tree/public/ocean/learn-slstr/1_SLSTR_introductory/1_1b_SLSTR_data_access_HDA.ipynb",
  "tags": {
   "domain": "Ocean",
   "platform": "Sentinel-3",
   "sensor": "SLSTR",
   "tags": [
    "Top-of-atmosphere radiance",
    "Brightness temperature",
    "Sea surface temperature",
    "Sea ice surface temperature"
   ]
  },
  "title": "SLSTR data access via the WEkEO HDA adaptor",
  "toc": {
   "base_numbering": 1,
   "nav_menu": {},
   "number_sections": true,
   "sideBar": true,
   "skip_h1_title": true,
   "title_cell": "Table of Contents",
   "title_sidebar": "Contents",
   "toc_cell": false,
   "toc_position": {},
   "toc_section_display": true,
   "toc_window_display": false
  }
 },
 "nbformat": 4,
 "nbformat_minor": 4
}
