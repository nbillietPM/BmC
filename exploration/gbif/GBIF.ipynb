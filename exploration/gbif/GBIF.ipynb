{
 "cells": [
  {
   "cell_type": "code",
   "execution_count": 1,
   "id": "975560c7-e6b6-45d5-9e9c-d6bb9189ddb3",
   "metadata": {},
   "outputs": [],
   "source": [
    "import pygbif"
   ]
  },
  {
   "cell_type": "markdown",
   "id": "eba90e36-e3e4-4e78-b1f5-19b5c19b961c",
   "metadata": {},
   "source": [
    "# GBIF SQL API\n",
    "\n",
    "In this notebook we will explore a general approach towards a generalized interface that can interact with the yaml config file to generate a SQL query\n",
    "\n",
    "The yaml config part has the following structure\n",
    "\n",
    "```\n",
    "  gbif:\n",
    "    enabled: true\n",
    "    type:\n",
    "      occurences: true\n",
    "      absences: false\n",
    "    species_paths: \"/directory/species_list.csv\"\n",
    "    taxonomic:\n",
    "      highest_rank: \"kingdom\" #What is the highest taxonomic rank required\n",
    "      lowest_rank: \"species\" #What is the lowest taxonomic rank required\n",
    "    time:\n",
    "      start_year: #Number\n",
    "      end_year: #Number\n",
    "      start_month: #Number between 1 and 12\n",
    "      end_month: #Number between 1 and 12\n",
    "    defaultCoordinateUncertainty: 1000\n",
    "    cubing:\n",
    "      enabled: true\n",
    "      cubingGrid: \"EEA\"\n",
    "    selection_issues: #Selection flags that need to be taken into account when selecting records\n",
    "      spatial:\n",
    "        hasCoordinate: true \n",
    "        zeroCoordinate: true\n",
    "        invalidCoordinate: true \n",
    "        countryMismatch: true\n",
    "    file:\n",
    "      file_path: \"out/\"\n",
    "      file_name: \"beInvasive.csv\"\n",
    "      sep: \"\\t\"\n",
    "```\n",
    "\n",
    "## Search pygbif"
   ]
  },
  {
   "cell_type": "code",
   "execution_count": null,
   "id": "47927fa3-d1b2-4495-a4d6-f3c60bdeed3a",
   "metadata": {},
   "outputs": [],
   "source": [
    "pygbif.search("
   ]
  }
 ],
 "metadata": {
  "kernelspec": {
   "display_name": "Python 3 (ipykernel)",
   "language": "python",
   "name": "python3"
  },
  "language_info": {
   "codemirror_mode": {
    "name": "ipython",
    "version": 3
   },
   "file_extension": ".py",
   "mimetype": "text/x-python",
   "name": "python",
   "nbconvert_exporter": "python",
   "pygments_lexer": "ipython3",
   "version": "3.12.9"
  }
 },
 "nbformat": 4,
 "nbformat_minor": 5
}
